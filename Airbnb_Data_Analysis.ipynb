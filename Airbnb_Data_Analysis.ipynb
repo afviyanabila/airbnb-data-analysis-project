{
  "nbformat": 4,
  "nbformat_minor": 0,
  "metadata": {
    "colab": {
      "provenance": [],
      "toc_visible": true,
      "authorship_tag": "ABX9TyN8ZN5BvJZt+0qFrWar59po",
      "include_colab_link": true
    },
    "kernelspec": {
      "name": "python3",
      "display_name": "Python 3"
    },
    "language_info": {
      "name": "python"
    }
  },
  "cells": [
    {
      "cell_type": "markdown",
      "metadata": {
        "id": "view-in-github",
        "colab_type": "text"
      },
      "source": [
        "<a href=\"https://colab.research.google.com/github/afviyanabila/airbnb-data-analysis-project/blob/main/Airbnb_Data_Analysis.ipynb\" target=\"_parent\"><img src=\"https://colab.research.google.com/assets/colab-badge.svg\" alt=\"Open In Colab\"/></a>"
      ]
    },
    {
      "cell_type": "markdown",
      "source": [
        "# **AIRBNB ANALYSIS**"
      ],
      "metadata": {
        "id": "GYnY7zWBKbZd"
      }
    },
    {
      "cell_type": "markdown",
      "source": [
        "## **Project Background**"
      ],
      "metadata": {
        "id": "MAQH_E8lOMwM"
      }
    },
    {
      "cell_type": "markdown",
      "source": [
        "In this case study, our client gives us a data analysis project. Our client's *objective* is to rent the right properties on the Airbnb marketplace in Singapore to get the maximum profits. The right properties will affect the number of rented properties. As a data analysts we should do analysis on Singapore Airbnb data to give our client best strategy recommendations to reach their objective.\n"
      ],
      "metadata": {
        "id": "IjTxkz-tLcqI"
      }
    },
    {
      "cell_type": "markdown",
      "source": [
        "## **Datasets**"
      ],
      "metadata": {
        "id": "b1W44dodPbsn"
      }
    },
    {
      "cell_type": "markdown",
      "source": [
        "*   Airbnb Listings Properties\n",
        "*   Neighborhood Mapping\n",
        "*   Airbnb Listings Reviews History\n",
        "\n"
      ],
      "metadata": {
        "id": "B80zDRODO5up"
      }
    },
    {
      "cell_type": "markdown",
      "source": [
        "## **Import Data**"
      ],
      "metadata": {
        "id": "WgmHtpyEtGJy"
      }
    },
    {
      "cell_type": "markdown",
      "source": [
        "All datasets available imported from Google Drive"
      ],
      "metadata": {
        "id": "R1hofp3sPogh"
      }
    },
    {
      "cell_type": "code",
      "source": [
        "from google.colab import drive\n",
        "drive.mount('/content/drive')"
      ],
      "metadata": {
        "colab": {
          "base_uri": "https://localhost:8080/"
        },
        "id": "kvnm2NkQ1JU9",
        "outputId": "2cf642b6-a2f5-47ee-a1ae-266f2f92c3b7"
      },
      "execution_count": null,
      "outputs": [
        {
          "output_type": "stream",
          "name": "stdout",
          "text": [
            "Mounted at /content/drive\n"
          ]
        }
      ]
    },
    {
      "cell_type": "code",
      "execution_count": null,
      "metadata": {
        "id": "aI4EUiy8zywq"
      },
      "outputs": [],
      "source": [
        "import pandas as pd\n",
        "\n",
        "listings = pd.read_csv('/content/drive/MyDrive/Airbnb/listings.csv', sep = ',', index_col = 'Unnamed: 0')\n",
        "listings.reset_index(drop=True, inplace=True)\n",
        "\n",
        "neighborhood = pd.read_csv('/content/drive/MyDrive/Airbnb/neighborhood.csv', sep = ',', index_col = 'Unnamed: 0')\n",
        "neighborhood.reset_index(drop=True, inplace=True)\n",
        "\n",
        "reviews = pd.read_csv('/content/drive/MyDrive/Airbnb/reviews.csv', sep = ',', index_col = \"Unnamed: 0\")\n",
        "reviews.reset_index(drop=True, inplace=True)\n",
        "reviews.rename(columns={\"listing_id\": \"id\"}, inplace=True)"
      ]
    },
    {
      "cell_type": "markdown",
      "source": [
        "## **Data Preparation & Data Cleaning**"
      ],
      "metadata": {
        "id": "dxb1iuUrtLn7"
      }
    },
    {
      "cell_type": "markdown",
      "source": [
        "### **Airbnb Listings Properties Dataset**"
      ],
      "metadata": {
        "id": "wvJkGqluRcEo"
      }
    },
    {
      "cell_type": "code",
      "source": [
        "listings.columns"
      ],
      "metadata": {
        "colab": {
          "base_uri": "https://localhost:8080/"
        },
        "id": "uUEZSj7E4C-R",
        "outputId": "b192c639-e444-4dc5-92c5-662e78029b84"
      },
      "execution_count": null,
      "outputs": [
        {
          "output_type": "execute_result",
          "data": {
            "text/plain": [
              "Index(['id', 'name', 'host_id', 'host_name', 'neighbourhood', 'latitude',\n",
              "       'longitude', 'room_type', 'price', 'minimum_nights',\n",
              "       'availability_365'],\n",
              "      dtype='object')"
            ]
          },
          "metadata": {},
          "execution_count": 5
        }
      ]
    },
    {
      "cell_type": "code",
      "source": [
        "listings.info()"
      ],
      "metadata": {
        "colab": {
          "base_uri": "https://localhost:8080/"
        },
        "id": "9txQbfnL9jLd",
        "outputId": "cac2d831-d5ba-4ff5-f0b0-34392cc659a0"
      },
      "execution_count": null,
      "outputs": [
        {
          "output_type": "stream",
          "name": "stdout",
          "text": [
            "<class 'pandas.core.frame.DataFrame'>\n",
            "RangeIndex: 4161 entries, 0 to 4160\n",
            "Data columns (total 11 columns):\n",
            " #   Column            Non-Null Count  Dtype  \n",
            "---  ------            --------------  -----  \n",
            " 0   id                4161 non-null   int64  \n",
            " 1   name              4161 non-null   object \n",
            " 2   host_id           4161 non-null   int64  \n",
            " 3   host_name         4161 non-null   object \n",
            " 4   neighbourhood     4161 non-null   object \n",
            " 5   latitude          4161 non-null   float64\n",
            " 6   longitude         4161 non-null   float64\n",
            " 7   room_type         4161 non-null   object \n",
            " 8   price             4161 non-null   int64  \n",
            " 9   minimum_nights    4161 non-null   int64  \n",
            " 10  availability_365  4161 non-null   int64  \n",
            "dtypes: float64(2), int64(5), object(4)\n",
            "memory usage: 357.7+ KB\n"
          ]
        }
      ]
    },
    {
      "cell_type": "code",
      "execution_count": null,
      "metadata": {
        "colab": {
          "base_uri": "https://localhost:8080/"
        },
        "id": "OlFjSlMEeniF",
        "outputId": "2c1fd947-6233-4e12-8ec7-4d5a2281cafb"
      },
      "outputs": [
        {
          "output_type": "stream",
          "name": "stdout",
          "text": [
            "\n",
            " listings missing values : 0\n",
            "\n",
            " listings duplicated values : 0\n"
          ]
        }
      ],
      "source": [
        "print('\\n listings missing values :', listings.isna().sum().sum())\n",
        "listings.drop_duplicates(inplace=True)\n",
        "print('\\n listings duplicated values :', listings.duplicated().sum())"
      ]
    },
    {
      "cell_type": "markdown",
      "source": [
        "Airbnb listings properties dataset has *11 columns* consist of *4161 entries* without any missing and duplicate values\n",
        "*   id: unique Airbnb listings properties id\n",
        "*   name: name of listings properties\n",
        "*   host_id: listings' host unique id\n",
        "*   host_name: listings' host name\n",
        "*   neighbourhood: neighborhood name\n",
        "*   latitude: latitude location\n",
        "*   longitude: longitude location \n",
        "*   room_type: room type available\n",
        "*   price: listings' price\n",
        "*   minimum_nights: minimum nights rent\n",
        "*   availability_365: number of days available to rent\n",
        "\n",
        "\n",
        "\n"
      ],
      "metadata": {
        "id": "6njW38YJSV-k"
      }
    },
    {
      "cell_type": "markdown",
      "source": [
        "The statistic aspects of listings properties dataset being provided"
      ],
      "metadata": {
        "id": "jYynK2Nkmoqa"
      }
    },
    {
      "cell_type": "code",
      "source": [
        "listings.describe().T"
      ],
      "metadata": {
        "colab": {
          "base_uri": "https://localhost:8080/",
          "height": 278
        },
        "id": "BdzoUlO26Uhf",
        "outputId": "7b70c9b7-e10c-4195-f140-a63a104cd1f4"
      },
      "execution_count": null,
      "outputs": [
        {
          "output_type": "execute_result",
          "data": {
            "text/plain": [
              "                   count          mean           std          min  \\\n",
              "id                4161.0  1.354784e+17  2.653249e+17  50646.00000   \n",
              "host_id           4161.0  1.559857e+08  1.356249e+08  23666.00000   \n",
              "latitude          4161.0  1.344527e+00  6.696490e-02      1.24826   \n",
              "longitude         4161.0  1.038152e+02  6.544995e-02    103.63530   \n",
              "price             4161.0  2.145052e+02  4.549214e+02      0.00000   \n",
              "minimum_nights    4161.0  5.756693e+01  6.574652e+01      1.00000   \n",
              "availability_365  4161.0  2.477042e+02  1.325640e+02      0.00000   \n",
              "\n",
              "                           25%           50%           75%           max  \n",
              "id                2.507292e+07  3.990020e+07  5.319607e+07  7.208120e+17  \n",
              "host_id           4.187059e+07  1.367001e+08  2.388916e+08  4.804050e+08  \n",
              "latitude          1.296100e+00  1.313930e+00  1.414620e+00  1.488000e+00  \n",
              "longitude         1.037695e+02  1.038404e+02  1.038550e+02  1.039777e+02  \n",
              "price             6.000000e+01  1.200000e+02  2.350000e+02  1.249400e+04  \n",
              "minimum_nights    1.000000e+00  9.200000e+01  9.200000e+01  1.000000e+03  \n",
              "availability_365  1.260000e+02  3.220000e+02  3.610000e+02  3.650000e+02  "
            ],
            "text/html": [
              "\n",
              "  <div id=\"df-6af6cd1f-0d6f-49c7-a385-93868f0393f7\">\n",
              "    <div class=\"colab-df-container\">\n",
              "      <div>\n",
              "<style scoped>\n",
              "    .dataframe tbody tr th:only-of-type {\n",
              "        vertical-align: middle;\n",
              "    }\n",
              "\n",
              "    .dataframe tbody tr th {\n",
              "        vertical-align: top;\n",
              "    }\n",
              "\n",
              "    .dataframe thead th {\n",
              "        text-align: right;\n",
              "    }\n",
              "</style>\n",
              "<table border=\"1\" class=\"dataframe\">\n",
              "  <thead>\n",
              "    <tr style=\"text-align: right;\">\n",
              "      <th></th>\n",
              "      <th>count</th>\n",
              "      <th>mean</th>\n",
              "      <th>std</th>\n",
              "      <th>min</th>\n",
              "      <th>25%</th>\n",
              "      <th>50%</th>\n",
              "      <th>75%</th>\n",
              "      <th>max</th>\n",
              "    </tr>\n",
              "  </thead>\n",
              "  <tbody>\n",
              "    <tr>\n",
              "      <th>id</th>\n",
              "      <td>4161.0</td>\n",
              "      <td>1.354784e+17</td>\n",
              "      <td>2.653249e+17</td>\n",
              "      <td>50646.00000</td>\n",
              "      <td>2.507292e+07</td>\n",
              "      <td>3.990020e+07</td>\n",
              "      <td>5.319607e+07</td>\n",
              "      <td>7.208120e+17</td>\n",
              "    </tr>\n",
              "    <tr>\n",
              "      <th>host_id</th>\n",
              "      <td>4161.0</td>\n",
              "      <td>1.559857e+08</td>\n",
              "      <td>1.356249e+08</td>\n",
              "      <td>23666.00000</td>\n",
              "      <td>4.187059e+07</td>\n",
              "      <td>1.367001e+08</td>\n",
              "      <td>2.388916e+08</td>\n",
              "      <td>4.804050e+08</td>\n",
              "    </tr>\n",
              "    <tr>\n",
              "      <th>latitude</th>\n",
              "      <td>4161.0</td>\n",
              "      <td>1.344527e+00</td>\n",
              "      <td>6.696490e-02</td>\n",
              "      <td>1.24826</td>\n",
              "      <td>1.296100e+00</td>\n",
              "      <td>1.313930e+00</td>\n",
              "      <td>1.414620e+00</td>\n",
              "      <td>1.488000e+00</td>\n",
              "    </tr>\n",
              "    <tr>\n",
              "      <th>longitude</th>\n",
              "      <td>4161.0</td>\n",
              "      <td>1.038152e+02</td>\n",
              "      <td>6.544995e-02</td>\n",
              "      <td>103.63530</td>\n",
              "      <td>1.037695e+02</td>\n",
              "      <td>1.038404e+02</td>\n",
              "      <td>1.038550e+02</td>\n",
              "      <td>1.039777e+02</td>\n",
              "    </tr>\n",
              "    <tr>\n",
              "      <th>price</th>\n",
              "      <td>4161.0</td>\n",
              "      <td>2.145052e+02</td>\n",
              "      <td>4.549214e+02</td>\n",
              "      <td>0.00000</td>\n",
              "      <td>6.000000e+01</td>\n",
              "      <td>1.200000e+02</td>\n",
              "      <td>2.350000e+02</td>\n",
              "      <td>1.249400e+04</td>\n",
              "    </tr>\n",
              "    <tr>\n",
              "      <th>minimum_nights</th>\n",
              "      <td>4161.0</td>\n",
              "      <td>5.756693e+01</td>\n",
              "      <td>6.574652e+01</td>\n",
              "      <td>1.00000</td>\n",
              "      <td>1.000000e+00</td>\n",
              "      <td>9.200000e+01</td>\n",
              "      <td>9.200000e+01</td>\n",
              "      <td>1.000000e+03</td>\n",
              "    </tr>\n",
              "    <tr>\n",
              "      <th>availability_365</th>\n",
              "      <td>4161.0</td>\n",
              "      <td>2.477042e+02</td>\n",
              "      <td>1.325640e+02</td>\n",
              "      <td>0.00000</td>\n",
              "      <td>1.260000e+02</td>\n",
              "      <td>3.220000e+02</td>\n",
              "      <td>3.610000e+02</td>\n",
              "      <td>3.650000e+02</td>\n",
              "    </tr>\n",
              "  </tbody>\n",
              "</table>\n",
              "</div>\n",
              "      <button class=\"colab-df-convert\" onclick=\"convertToInteractive('df-6af6cd1f-0d6f-49c7-a385-93868f0393f7')\"\n",
              "              title=\"Convert this dataframe to an interactive table.\"\n",
              "              style=\"display:none;\">\n",
              "        \n",
              "  <svg xmlns=\"http://www.w3.org/2000/svg\" height=\"24px\"viewBox=\"0 0 24 24\"\n",
              "       width=\"24px\">\n",
              "    <path d=\"M0 0h24v24H0V0z\" fill=\"none\"/>\n",
              "    <path d=\"M18.56 5.44l.94 2.06.94-2.06 2.06-.94-2.06-.94-.94-2.06-.94 2.06-2.06.94zm-11 1L8.5 8.5l.94-2.06 2.06-.94-2.06-.94L8.5 2.5l-.94 2.06-2.06.94zm10 10l.94 2.06.94-2.06 2.06-.94-2.06-.94-.94-2.06-.94 2.06-2.06.94z\"/><path d=\"M17.41 7.96l-1.37-1.37c-.4-.4-.92-.59-1.43-.59-.52 0-1.04.2-1.43.59L10.3 9.45l-7.72 7.72c-.78.78-.78 2.05 0 2.83L4 21.41c.39.39.9.59 1.41.59.51 0 1.02-.2 1.41-.59l7.78-7.78 2.81-2.81c.8-.78.8-2.07 0-2.86zM5.41 20L4 18.59l7.72-7.72 1.47 1.35L5.41 20z\"/>\n",
              "  </svg>\n",
              "      </button>\n",
              "      \n",
              "  <style>\n",
              "    .colab-df-container {\n",
              "      display:flex;\n",
              "      flex-wrap:wrap;\n",
              "      gap: 12px;\n",
              "    }\n",
              "\n",
              "    .colab-df-convert {\n",
              "      background-color: #E8F0FE;\n",
              "      border: none;\n",
              "      border-radius: 50%;\n",
              "      cursor: pointer;\n",
              "      display: none;\n",
              "      fill: #1967D2;\n",
              "      height: 32px;\n",
              "      padding: 0 0 0 0;\n",
              "      width: 32px;\n",
              "    }\n",
              "\n",
              "    .colab-df-convert:hover {\n",
              "      background-color: #E2EBFA;\n",
              "      box-shadow: 0px 1px 2px rgba(60, 64, 67, 0.3), 0px 1px 3px 1px rgba(60, 64, 67, 0.15);\n",
              "      fill: #174EA6;\n",
              "    }\n",
              "\n",
              "    [theme=dark] .colab-df-convert {\n",
              "      background-color: #3B4455;\n",
              "      fill: #D2E3FC;\n",
              "    }\n",
              "\n",
              "    [theme=dark] .colab-df-convert:hover {\n",
              "      background-color: #434B5C;\n",
              "      box-shadow: 0px 1px 3px 1px rgba(0, 0, 0, 0.15);\n",
              "      filter: drop-shadow(0px 1px 2px rgba(0, 0, 0, 0.3));\n",
              "      fill: #FFFFFF;\n",
              "    }\n",
              "  </style>\n",
              "\n",
              "      <script>\n",
              "        const buttonEl =\n",
              "          document.querySelector('#df-6af6cd1f-0d6f-49c7-a385-93868f0393f7 button.colab-df-convert');\n",
              "        buttonEl.style.display =\n",
              "          google.colab.kernel.accessAllowed ? 'block' : 'none';\n",
              "\n",
              "        async function convertToInteractive(key) {\n",
              "          const element = document.querySelector('#df-6af6cd1f-0d6f-49c7-a385-93868f0393f7');\n",
              "          const dataTable =\n",
              "            await google.colab.kernel.invokeFunction('convertToInteractive',\n",
              "                                                     [key], {});\n",
              "          if (!dataTable) return;\n",
              "\n",
              "          const docLinkHtml = 'Like what you see? Visit the ' +\n",
              "            '<a target=\"_blank\" href=https://colab.research.google.com/notebooks/data_table.ipynb>data table notebook</a>'\n",
              "            + ' to learn more about interactive tables.';\n",
              "          element.innerHTML = '';\n",
              "          dataTable['output_type'] = 'display_data';\n",
              "          await google.colab.output.renderOutput(dataTable, element);\n",
              "          const docLink = document.createElement('div');\n",
              "          docLink.innerHTML = docLinkHtml;\n",
              "          element.appendChild(docLink);\n",
              "        }\n",
              "      </script>\n",
              "    </div>\n",
              "  </div>\n",
              "  "
            ]
          },
          "metadata": {},
          "execution_count": 9
        }
      ]
    },
    {
      "cell_type": "markdown",
      "source": [
        "Here's the head of listings properties dataset:"
      ],
      "metadata": {
        "id": "JgH8eU-am6_v"
      }
    },
    {
      "cell_type": "code",
      "source": [
        "listings.head()"
      ],
      "metadata": {
        "colab": {
          "base_uri": "https://localhost:8080/",
          "height": 369
        },
        "id": "CIVlo8cK907v",
        "outputId": "7f1be4ba-40bd-46ee-fffc-e538d8c03772"
      },
      "execution_count": null,
      "outputs": [
        {
          "output_type": "execute_result",
          "data": {
            "text/plain": [
              "       id                                 name  host_id host_name  \\\n",
              "0   50646      Pleasant Room along Bukit Timah   227796   Sujatha   \n",
              "1   71609  Ensuite Room (Room 1 & 2) near EXPO   367042   Belinda   \n",
              "2   71896      B&B  Room 1 near Airport & EXPO   367042   Belinda   \n",
              "3   71903           Room 2-near Airport & EXPO   367042   Belinda   \n",
              "4  275344    15 mins to Outram MRT Single Room  1439258       Kay   \n",
              "\n",
              "  neighbourhood  latitude  longitude     room_type  price  minimum_nights  \\\n",
              "0   Bukit Timah   1.33432  103.78521  Private room     80              92   \n",
              "1      Tampines   1.34537  103.95887  Private room    145              92   \n",
              "2      Tampines   1.34754  103.95958  Private room     85              92   \n",
              "3      Tampines   1.34531  103.96100  Private room     85              92   \n",
              "4   Bukit Merah   1.28836  103.81144  Private room     49              60   \n",
              "\n",
              "   availability_365  \n",
              "0               365  \n",
              "1               340  \n",
              "2               265  \n",
              "3               365  \n",
              "4               296  "
            ],
            "text/html": [
              "\n",
              "  <div id=\"df-f392d561-ad6b-4ad4-b515-7f0d9e611b2a\">\n",
              "    <div class=\"colab-df-container\">\n",
              "      <div>\n",
              "<style scoped>\n",
              "    .dataframe tbody tr th:only-of-type {\n",
              "        vertical-align: middle;\n",
              "    }\n",
              "\n",
              "    .dataframe tbody tr th {\n",
              "        vertical-align: top;\n",
              "    }\n",
              "\n",
              "    .dataframe thead th {\n",
              "        text-align: right;\n",
              "    }\n",
              "</style>\n",
              "<table border=\"1\" class=\"dataframe\">\n",
              "  <thead>\n",
              "    <tr style=\"text-align: right;\">\n",
              "      <th></th>\n",
              "      <th>id</th>\n",
              "      <th>name</th>\n",
              "      <th>host_id</th>\n",
              "      <th>host_name</th>\n",
              "      <th>neighbourhood</th>\n",
              "      <th>latitude</th>\n",
              "      <th>longitude</th>\n",
              "      <th>room_type</th>\n",
              "      <th>price</th>\n",
              "      <th>minimum_nights</th>\n",
              "      <th>availability_365</th>\n",
              "    </tr>\n",
              "  </thead>\n",
              "  <tbody>\n",
              "    <tr>\n",
              "      <th>0</th>\n",
              "      <td>50646</td>\n",
              "      <td>Pleasant Room along Bukit Timah</td>\n",
              "      <td>227796</td>\n",
              "      <td>Sujatha</td>\n",
              "      <td>Bukit Timah</td>\n",
              "      <td>1.33432</td>\n",
              "      <td>103.78521</td>\n",
              "      <td>Private room</td>\n",
              "      <td>80</td>\n",
              "      <td>92</td>\n",
              "      <td>365</td>\n",
              "    </tr>\n",
              "    <tr>\n",
              "      <th>1</th>\n",
              "      <td>71609</td>\n",
              "      <td>Ensuite Room (Room 1 &amp; 2) near EXPO</td>\n",
              "      <td>367042</td>\n",
              "      <td>Belinda</td>\n",
              "      <td>Tampines</td>\n",
              "      <td>1.34537</td>\n",
              "      <td>103.95887</td>\n",
              "      <td>Private room</td>\n",
              "      <td>145</td>\n",
              "      <td>92</td>\n",
              "      <td>340</td>\n",
              "    </tr>\n",
              "    <tr>\n",
              "      <th>2</th>\n",
              "      <td>71896</td>\n",
              "      <td>B&amp;B  Room 1 near Airport &amp; EXPO</td>\n",
              "      <td>367042</td>\n",
              "      <td>Belinda</td>\n",
              "      <td>Tampines</td>\n",
              "      <td>1.34754</td>\n",
              "      <td>103.95958</td>\n",
              "      <td>Private room</td>\n",
              "      <td>85</td>\n",
              "      <td>92</td>\n",
              "      <td>265</td>\n",
              "    </tr>\n",
              "    <tr>\n",
              "      <th>3</th>\n",
              "      <td>71903</td>\n",
              "      <td>Room 2-near Airport &amp; EXPO</td>\n",
              "      <td>367042</td>\n",
              "      <td>Belinda</td>\n",
              "      <td>Tampines</td>\n",
              "      <td>1.34531</td>\n",
              "      <td>103.96100</td>\n",
              "      <td>Private room</td>\n",
              "      <td>85</td>\n",
              "      <td>92</td>\n",
              "      <td>365</td>\n",
              "    </tr>\n",
              "    <tr>\n",
              "      <th>4</th>\n",
              "      <td>275344</td>\n",
              "      <td>15 mins to Outram MRT Single Room</td>\n",
              "      <td>1439258</td>\n",
              "      <td>Kay</td>\n",
              "      <td>Bukit Merah</td>\n",
              "      <td>1.28836</td>\n",
              "      <td>103.81144</td>\n",
              "      <td>Private room</td>\n",
              "      <td>49</td>\n",
              "      <td>60</td>\n",
              "      <td>296</td>\n",
              "    </tr>\n",
              "  </tbody>\n",
              "</table>\n",
              "</div>\n",
              "      <button class=\"colab-df-convert\" onclick=\"convertToInteractive('df-f392d561-ad6b-4ad4-b515-7f0d9e611b2a')\"\n",
              "              title=\"Convert this dataframe to an interactive table.\"\n",
              "              style=\"display:none;\">\n",
              "        \n",
              "  <svg xmlns=\"http://www.w3.org/2000/svg\" height=\"24px\"viewBox=\"0 0 24 24\"\n",
              "       width=\"24px\">\n",
              "    <path d=\"M0 0h24v24H0V0z\" fill=\"none\"/>\n",
              "    <path d=\"M18.56 5.44l.94 2.06.94-2.06 2.06-.94-2.06-.94-.94-2.06-.94 2.06-2.06.94zm-11 1L8.5 8.5l.94-2.06 2.06-.94-2.06-.94L8.5 2.5l-.94 2.06-2.06.94zm10 10l.94 2.06.94-2.06 2.06-.94-2.06-.94-.94-2.06-.94 2.06-2.06.94z\"/><path d=\"M17.41 7.96l-1.37-1.37c-.4-.4-.92-.59-1.43-.59-.52 0-1.04.2-1.43.59L10.3 9.45l-7.72 7.72c-.78.78-.78 2.05 0 2.83L4 21.41c.39.39.9.59 1.41.59.51 0 1.02-.2 1.41-.59l7.78-7.78 2.81-2.81c.8-.78.8-2.07 0-2.86zM5.41 20L4 18.59l7.72-7.72 1.47 1.35L5.41 20z\"/>\n",
              "  </svg>\n",
              "      </button>\n",
              "      \n",
              "  <style>\n",
              "    .colab-df-container {\n",
              "      display:flex;\n",
              "      flex-wrap:wrap;\n",
              "      gap: 12px;\n",
              "    }\n",
              "\n",
              "    .colab-df-convert {\n",
              "      background-color: #E8F0FE;\n",
              "      border: none;\n",
              "      border-radius: 50%;\n",
              "      cursor: pointer;\n",
              "      display: none;\n",
              "      fill: #1967D2;\n",
              "      height: 32px;\n",
              "      padding: 0 0 0 0;\n",
              "      width: 32px;\n",
              "    }\n",
              "\n",
              "    .colab-df-convert:hover {\n",
              "      background-color: #E2EBFA;\n",
              "      box-shadow: 0px 1px 2px rgba(60, 64, 67, 0.3), 0px 1px 3px 1px rgba(60, 64, 67, 0.15);\n",
              "      fill: #174EA6;\n",
              "    }\n",
              "\n",
              "    [theme=dark] .colab-df-convert {\n",
              "      background-color: #3B4455;\n",
              "      fill: #D2E3FC;\n",
              "    }\n",
              "\n",
              "    [theme=dark] .colab-df-convert:hover {\n",
              "      background-color: #434B5C;\n",
              "      box-shadow: 0px 1px 3px 1px rgba(0, 0, 0, 0.15);\n",
              "      filter: drop-shadow(0px 1px 2px rgba(0, 0, 0, 0.3));\n",
              "      fill: #FFFFFF;\n",
              "    }\n",
              "  </style>\n",
              "\n",
              "      <script>\n",
              "        const buttonEl =\n",
              "          document.querySelector('#df-f392d561-ad6b-4ad4-b515-7f0d9e611b2a button.colab-df-convert');\n",
              "        buttonEl.style.display =\n",
              "          google.colab.kernel.accessAllowed ? 'block' : 'none';\n",
              "\n",
              "        async function convertToInteractive(key) {\n",
              "          const element = document.querySelector('#df-f392d561-ad6b-4ad4-b515-7f0d9e611b2a');\n",
              "          const dataTable =\n",
              "            await google.colab.kernel.invokeFunction('convertToInteractive',\n",
              "                                                     [key], {});\n",
              "          if (!dataTable) return;\n",
              "\n",
              "          const docLinkHtml = 'Like what you see? Visit the ' +\n",
              "            '<a target=\"_blank\" href=https://colab.research.google.com/notebooks/data_table.ipynb>data table notebook</a>'\n",
              "            + ' to learn more about interactive tables.';\n",
              "          element.innerHTML = '';\n",
              "          dataTable['output_type'] = 'display_data';\n",
              "          await google.colab.output.renderOutput(dataTable, element);\n",
              "          const docLink = document.createElement('div');\n",
              "          docLink.innerHTML = docLinkHtml;\n",
              "          element.appendChild(docLink);\n",
              "        }\n",
              "      </script>\n",
              "    </div>\n",
              "  </div>\n",
              "  "
            ]
          },
          "metadata": {},
          "execution_count": 10
        }
      ]
    },
    {
      "cell_type": "markdown",
      "source": [
        "Boxplots made to show listings' distribution by following rules where number of days available to rent is more than zero, minimum nights rent equal or less than 365 days, along with their corresponding price"
      ],
      "metadata": {
        "id": "lq5ATNAXoHWS"
      }
    },
    {
      "cell_type": "code",
      "source": [
        "import plotly.express as px\n",
        "fig_map = px.scatter_mapbox(listings, lat='latitude', lon='longitude', hover_name='id',zoom=10, height=500, width=1000)\n",
        "fig_map.update_layout(mapbox_style='open-street-map')\n",
        "fig_map.update_layout(margin={'r':0,'t':0,'l':0,'b':0}) #r=right, t=top, l=left, b=bottom\n",
        "fig_map.show()"
      ],
      "metadata": {
        "id": "u5yUo92Cj5Vr"
      },
      "execution_count": null,
      "outputs": []
    },
    {
      "cell_type": "code",
      "source": [
        "import plotly.express as px\n",
        "listings = listings[listings['availability_365']>0].reset_index()\n",
        "fig_dist1 = px.box(data_frame=listings, x = 'availability_365', width = 1000, height=250)\n",
        "display(fig_dist1)\n",
        "listings = listings[listings['minimum_nights']<=365].reset_index()\n",
        "fig_dist2 = px.box(data_frame=listings, x = 'minimum_nights', width = 1000, height=250)\n",
        "display(fig_dist2)\n",
        "#listings = listings[listings['price']>0].reset_index()\n",
        "fig_dist3 = px.box(data_frame=listings, x = 'price', width = 1000, height=250)\n",
        "display(fig_dist3)"
      ],
      "metadata": {
        "id": "qeJrYdye9kbY",
        "colab": {
          "base_uri": "https://localhost:8080/",
          "height": 767
        },
        "outputId": "23838632-7820-4966-fa68-0f55c039e67e"
      },
      "execution_count": null,
      "outputs": [
        {
          "output_type": "display_data",
          "data": {
            "text/html": [
              "<html>\n",
              "<head><meta charset=\"utf-8\" /></head>\n",
              "<body>\n",
              "    <div>            <script src=\"https://cdnjs.cloudflare.com/ajax/libs/mathjax/2.7.5/MathJax.js?config=TeX-AMS-MML_SVG\"></script><script type=\"text/javascript\">if (window.MathJax && window.MathJax.Hub && window.MathJax.Hub.Config) {window.MathJax.Hub.Config({SVG: {font: \"STIX-Web\"}});}</script>                <script type=\"text/javascript\">window.PlotlyConfig = {MathJaxConfig: 'local'};</script>\n",
              "        <script src=\"https://cdn.plot.ly/plotly-2.18.2.min.js\"></script>                <div id=\"ad521af1-e910-4287-8e10-44195ff89aa8\" class=\"plotly-graph-div\" style=\"height:250px; width:1000px;\"></div>            <script type=\"text/javascript\">                                    window.PLOTLYENV=window.PLOTLYENV || {};                                    if (document.getElementById(\"ad521af1-e910-4287-8e10-44195ff89aa8\")) {                    Plotly.newPlot(                        \"ad521af1-e910-4287-8e10-44195ff89aa8\",                        [{\"alignmentgroup\":\"True\",\"hovertemplate\":\"availability_365=%{x}<extra></extra>\",\"legendgroup\":\"\",\"marker\":{\"color\":\"#636efa\"},\"name\":\"\",\"notched\":false,\"offsetgroup\":\"\",\"orientation\":\"h\",\"showlegend\":false,\"x\":[365,340,265,365,296,285,365,181,332,364,365,312,365,83,91,365,91,365,358,365,357,304,365,356,265,326,357,145,335,357,325,357,210,264,365,357,238,238,238,326,365,325,95,101,358,95,174,254,181,285,365,331,355,325,326,365,333,312,362,306,365,362,357,365,362,348,365,365,365,287,365,88,339,365,246,326,145,354,357,288,357,265,356,358,365,340,297,263,325,261,292,363,180,264,356,350,174,205,365,365,364,364,189,234,266,296,364,365,336,273,59,121,291,365,365,265,365,365,226,293,364,265,365,325,351,179,365,364,365,135,365,291,186,94,311,37,234,365,293,325,358,365,113,91,152,243,299,365,264,212,264,289,101,365,89,358,365,245,264,264,264,264,88,365,336,91,234,182,255,317,118,85,265,205,1,114,181,326,325,325,326,347,364,326,114,364,365,205,354,326,326,325,326,265,356,280,365,365,365,365,265,323,365,365,365,364,364,337,264,365,181,313,365,365,365,365,291,365,365,206,365,365,49,359,365,312,356,365,364,91,247,1,364,365,326,365,365,365,180,349,179,365,365,365,365,365,365,257,206,325,143,364,206,196,265,264,265,265,265,265,265,104,265,265,264,326,365,364,365,91,358,365,365,365,357,364,365,181,365,181,358,264,364,364,364,365,176,291,326,365,89,365,365,365,364,288,296,90,363,321,341,113,365,365,180,181,292,323,364,365,187,264,264,357,236,358,264,264,264,264,264,340,279,264,264,264,291,329,255,232,358,356,178,365,365,264,357,355,163,330,365,365,365,91,356,90,91,84,75,91,357,325,83,53,241,365,260,365,53,357,332,365,356,288,90,362,358,365,205,113,347,358,194,176,145,358,358,357,365,305,265,365,357,89,365,365,356,364,357,364,364,365,180,197,317,264,325,363,264,365,265,274,233,365,264,365,365,356,91,117,365,365,91,365,365,365,364,91,17,365,170,353,349,89,184,325,353,322,357,365,88,365,313,91,291,181,181,109,170,325,365,296,332,9,103,234,181,265,357,364,357,364,364,264,264,255,365,45,343,300,358,358,349,357,357,358,358,88,180,363,266,180,180,264,294,365,364,365,280,345,341,345,326,357,325,342,335,365,343,365,88,265,325,274,181,365,364,325,284,296,365,294,356,264,264,265,356,83,358,89,357,365,313,154,185,149,174,184,236,364,288,112,365,316,340,316,98,98,357,357,91,154,293,91,170,114,365,255,353,325,341,327,362,206,293,355,80,11,365,357,365,356,269,356,265,358,345,341,88,364,179,341,114,88,91,121,357,88,172,294,365,297,91,1,362,325,296,182,184,181,170,267,266,365,365,365,64,356,364,296,365,365,205,265,10,269,365,365,365,91,364,358,357,364,198,89,274,356,356,356,364,364,364,364,265,91,89,234,361,364,325,357,357,363,88,365,357,361,365,356,356,357,88,365,365,365,81,325,296,295,87,341,242,281,248,248,248,181,236,110,179,358,328,146,45,365,365,228,91,48,265,89,365,325,103,325,325,364,264,238,326,87,364,356,265,325,357,90,326,88,332,180,325,178,116,265,212,212,212,364,349,307,358,282,316,360,128,357,264,91,325,338,88,363,181,365,365,365,365,311,365,264,349,287,264,264,100,100,49,99,359,364,365,307,170,134,76,45,151,1,350,356,341,181,195,234,207,211,357,363,288,364,144,175,177,354,291,359,352,364,363,358,361,352,361,365,265,112,326,316,325,364,364,92,173,325,207,289,169,361,364,296,364,265,364,292,352,365,342,341,122,341,362,264,365,1,78,88,329,352,364,364,291,90,205,364,365,364,176,365,89,50,234,353,360,365,291,361,225,48,49,357,86,365,42,361,206,364,264,202,170,325,80,178,360,219,360,90,265,265,264,250,341,201,365,365,365,365,365,365,365,365,365,365,264,357,365,167,70,135,364,359,339,177,326,264,179,356,364,365,357,121,282,325,364,181,317,84,265,173,365,364,357,357,346,365,4,336,153,349,357,326,89,90,82,302,364,281,264,89,105,325,363,45,91,325,364,364,297,248,82,265,364,90,305,365,80,123,364,41,321,325,325,357,316,179,265,365,198,258,230,364,83,173,181,325,147,341,176,357,276,234,365,1,365,365,365,178,365,326,357,90,365,356,357,90,185,175,52,91,289,158,362,111,103,303,172,356,172,365,365,89,364,364,264,357,365,356,364,365,365,138,271,279,91,365,295,118,293,361,365,363,264,168,360,181,143,354,344,73,265,172,364,326,365,179,365,359,354,357,346,357,354,344,90,362,80,365,365,365,166,356,342,365,342,339,113,211,356,357,365,361,345,365,328,365,365,365,363,365,295,264,365,365,365,365,365,365,325,356,356,365,248,248,218,248,248,248,174,331,340,77,365,312,300,330,356,82,112,357,352,164,151,351,174,357,347,332,62,181,162,177,173,84,365,361,265,326,156,357,357,364,325,180,42,107,326,264,31,324,245,63,365,360,115,190,325,80,340,288,213,337,365,365,29,365,365,365,365,360,357,80,71,326,264,265,325,357,356,356,326,90,289,271,86,364,83,168,323,365,357,325,265,290,325,332,264,358,90,173,343,172,178,105,265,265,357,325,357,79,357,243,365,174,264,359,361,21,357,357,362,179,90,269,88,175,77,87,357,359,301,365,174,137,180,361,91,365,51,364,77,140,364,364,91,364,364,364,32,363,90,365,165,325,31,104,167,337,365,365,365,365,179,248,264,91,358,91,317,299,357,158,312,37,235,89,344,97,265,87,363,353,91,301,347,120,95,90,131,85,69,244,356,349,348,53,338,100,361,46,364,147,174,144,84,104,350,265,265,325,349,177,85,264,164,42,350,350,325,350,325,326,365,364,325,180,350,364,364,350,350,264,179,179,90,364,364,364,350,160,349,357,364,357,115,350,181,350,364,265,365,355,365,364,364,350,91,326,365,69,349,180,357,364,271,180,253,365,180,263,293,357,87,180,180,293,91,215,365,364,73,178,328,66,115,365,357,365,162,365,347,365,357,363,173,265,364,304,365,357,353,364,358,96,365,96,356,144,169,187,350,358,170,180,233,364,365,365,364,177,168,164,140,265,325,350,365,365,365,365,365,105,97,295,365,264,264,179,348,325,356,5,338,152,364,347,365,365,292,107,91,365,325,365,323,21,128,265,174,99,365,325,41,265,357,296,80,81,242,325,325,264,265,295,179,325,173,342,357,108,88,365,138,138,138,296,180,80,333,159,357,327,364,364,364,365,91,365,332,79,169,365,365,365,365,357,363,365,365,364,365,365,365,138,365,364,364,364,364,152,364,364,364,364,162,363,349,364,364,364,83,233,136,137,8,358,137,138,138,138,363,319,87,364,364,364,364,364,83,99,235,363,361,359,364,365,354,364,337,330,364,364,111,176,296,264,232,364,196,364,361,365,364,325,364,365,365,79,180,177,357,181,348,310,137,365,363,322,364,179,167,27,93,73,110,157,180,364,174,195,31,144,151,93,179,364,181,292,365,74,159,365,296,364,160,360,361,350,350,350,350,364,365,365,346,365,144,364,364,364,364,362,364,177,177,89,365,326,353,365,363,120,205,356,364,72,154,356,334,322,175,178,120,356,365,365,365,357,348,181,365,322,359,181,364,342,351,347,181,180,180,180,180,180,181,181,181,365,181,181,365,347,325,289,3,364,347,264,83,167,45,354,83,197,364,325,288,180,90,90,90,90,90,90,90,272,365,365,174,91,163,364,178,364,114,365,364,356,365,325,364,356,364,265,365,364,180,346,111,180,365,180,276,365,179,364,364,365,365,361,264,194,364,364,184,365,265,195,361,264,365,197,195,199,82,180,197,193,233,365,85,365,365,264,95,53,96,84,75,96,51,20,14,292,365,365,360,179,364,27,364,365,108,113,163,113,113,350,297,265,357,265,341,364,364,364,364,364,364,364,364,364,180,181,91,180,77,265,357,95,359,87,190,91,325,264,264,84,234,326,357,179,88,34,336,364,342,91,265,365,331,91,180,180,180,81,180,180,180,180,59,138,137,81,340,177,90,87,364,363,70,365,181,281,266,180,364,168,109,365,264,178,357,90,90,333,179,113,361,364,357,364,356,108,365,76,180,276,4,364,364,215,364,329,362,354,365,180,361,358,341,365,180,180,288,80,265,129,365,357,365,202,348,170,364,363,358,364,363,364,350,365,163,361,362,171,1,365,365,350,365,364,364,287,1,332,325,364,365,365,350,365,364,114,364,91,83,294,164,206,206,364,80,205,233,365,356,206,120,120,120,1,357,358,361,295,364,295,355,125,361,361,361,361,360,345,236,91,364,364,87,89,71,71,365,343,313,349,358,358,89,364,361,345,357,358,111,362,361,364,361,358,91,91,180,180,181,180,365,365,364,308,356,186,337,364,74,49,365,349,264,264,365,180,265,365,180,350,173,360,91,248,357,355,91,357,90,96,342,91,72,265,364,91,3,268,365,90,365,364,364,365,322,145,364,90,364,355,180,364,282,364,365,357,180,364,90,91,180,313,313,313,313,313,312,311,309,311,312,360,358,352,180,89,256,256,180,331,265,365,325,357,364,364,365,365,364,365,358,364,365,143,5,1,89,359,91,364,364,364,364,186,5,346,365,22,328,272,363,361,361,362,363,107,288,77,180,364,271,83,365,120,267,357,282,281,294,364,1,357,264,364,362,88,86,47,181,181,325,359,359,299,364,364,364,356,365,353,364,364,364,364,364,364,364,364,364,364,364,364,364,364,364,364,90,364,155,365,325,358,364,364,173,264,365,364,364,364,287,265,364,364,364,364,364,364,364,356,326,356,363,358,34,288,364,89,364,301,356,364,290,357,279,85,364,91,91,364,364,313,297,344,91,308,357,358,4,5,326,278,264,205,204,264,278,326,357,359,174,365,356,357,365,180,358,51,344,264,295,320,282,320,282,302,364,357,87,350,89,276,364,357,89,359,89,266,363,363,349,364,177,360,72,178,126,80,364,341,291,364,356,355,357,166,89,364,364,179,364,364,317,78,20,306,91,335,78,180,87,181,353,56,80,181,364,82,178,123,286,357,74,346,342,352,357,364,351,199,17,27,365,364,364,99,364,364,342,356,86,364,364,364,335,325,364,343,361,364,359,354,180,364,29,343,360,354,365,89,238,364,364,364,364,128,136,365,365,364,286,254,342,357,364,354,363,363,361,358,354,353,358,355,360,355,359,352,354,332,265,271,365,264,364,358,273,347,357,269,364,364,364,364,186,118,179,5,257,364,364,78,178,256,188,185,15,259,191,188,326,356,358,357,365,335,364,236,356,355,65,326,364,105,364,364,166,104,101,204,139,131,228,144,141,364,362,343,364,264,261,259,167,191,169,193,364,364,336,364,364,344,364,337,100,364,364,363,336,355,333,364,181,87,364,133,364,326,364,352,49,322,122,361,365,354,365,338,353,357,338,364,364,364,326,350,178,133,91,357,125,364,364,364,364,364,206,357,357,3,359,86,359,364,83,363,360,359,362,365,365,363,359,362,347,358,360,365,364,89,364,266,274,364,364,364,364,364,364,131,78,132,105,361,21,360,354,349,140,357,170,170,4,308,359,292,176,185,134,107,123,127,116,124,91,356,181,173,332,363,156,11,364,359,360,326,357,359,365,365,365,365,365,365,357,364,358,357,363,360,299,89,91,265,268,166,78,207,365,321,362,288,328,364,364,364,364,364,358,74,174,296,298,364,7,217,265,205,326,89,178,355,353,357,364,364,302,364,364,164,363,364,364,365,365,365,365,365,364,106,1,97,91,218,356,364,363,114,236,363,357,353,277,364,364,341,277,355,358,116,364,364,357,364,364,357,364,358,364,364,364,14,340,350,355,351,88,364,39,88,88,88,361,314,357,357,357,300,364,364,333,337,336,338,343,345,364,364,333,326,351,364,89,364,86,364,364,364,101,364,157,281,347,327,299,298,364,331,310,26,364,364,91,39,358,364,292,356,26,293,329,355,364,342,364,364,279,325,364,364,279,326,364,261,362,364,363,342,363,67,79,67,326,364,364,325,88,88,334,358,364,365,365,337,364,364,302,3,364,354,194,354,350,203,259,286,365,364,287,167,281,91,243,272,357,342,292,278,284,358,358,357,87,365,336,294,339,332,308,204,254,365,76,253,365,364,289,364,347,299,363,358,365,364,365,332,358,360,362,361,364,251,94,301,308,80,269,303,364,297,54,81,111,364,348,282,301,280,323,79,365,365,363,295,361,361,314,362,361,349,365,364,264,86,33,68,361,349,356,313,207,317,207,36,365,349,151,207,326,359,354,359,362,363,30,287,356,60,120,365,42,326,25,328,339,322,353,356,357,357,347,357,362,363,363,364,364,329,356,358,365,364,355,355,261,363,328,84,70,67,362,364,364,360,359,364,319,332,349,364,364,364,79,364,144,363,297,363,365,357,120,116,305,277,277,258,86,91,359,365,365,365,365,270,365,332,365,80,78,327,358,297,86,265,168,357,328,89,365,365,2,364,365,365,181,323,91,306,352,365,345,349,363,363,330,363,334,322,325,338,74,87,79,307,294,166,347,90,81,348,54,357,365,137,324,332,27,359,340,301,158,344,226,365,307,349,365,344,259,180,260,259,80,60,215,356,297,365,61,58,234,66,69,365,86,76,360,362,359,17,318,265,20,332,76,351,222,315,350,355,334,336,345,350,316,319,313,308,365,27,270,360,258,83,36,362,330,30,66,40,173,90,331,15,127,347,74,338,335,363,363,357,356,364,77,363,77,128,216,69,221,124,68,361,136,332,90,365,360,332,364,364,362,265,113,76,364,169,344,360,345,364,21,362,296,354,352,341,337,364,358,179,306,150,297,364,359,361,362,364,355,71,291,346,316,313,80,89,85,90,84,85,84,285,81,305,334,352,276,354,363,82,339,336,354,328,339,308,308,362,266,354,354,349,354,365,83,90,354,364,352,171,348,364,364,364,231,365,358,330,88,320,340,364,365,363,358,289,362,65,262,154,356,348,304,80,349,356,352,364,288,285,335,308,70,336,312,326,315,345,279,346,365,355,348,358,364,363,358,359,364,358,364,347,325,83,178,359,362,282,351,364,364,365,353,1,360,364,53,361,364,364,365,364,364,171,295,347,364,364,360,360,181,360,8,43,24,90,1,4,364,364,311,113,364,365,364,293,334,358,274,365,339,164,364,297,364,325,357,364,73,170,81,322,351,353,365,266,325,73,335,358,57,4,263,358,364,350,340,1,7,259,357,364,362,326,264,365,346,364,76,322,318,72,365,340,365,365,362,63,363,359,76,311,330,356,362,266,365,83,365,364,4,6,88,365,357,337,345,341,340,341,356,268,358,363,359,326,296,345,255,358,351,353,65,352,357,329,365,175,280,365,365,325,335,60,292,365,364,341,335,212,332,355,365,221,356,338,284,357,347,326,153,334,344,84,343,365,365,265,326,208,354,358,356,350,360,285,359,264,258,357,45,92,124,356,363,348,365,363,342,147,336,358,344,341,66,89,362,350,66,303,91,365,363,351,358,365,324,274,358,352,354,285,361,86,339,335,365,172,364,248,362,361,85,337,354,106,363,264,352,359,356,363,357,80,353,354,329,339,329,344,329,330,330,365,291,275,364,365,271,353,358,328,341,358,350,325,349,364,346,357,297,355,360,348,179,365,358,364,364,365,365,51,304,364,365,320,365,360,287,291,284,40,350,321,346,266,360,332,316,330,324,364,341,24,338,284,364,282,331,314,354,353,351,284,159,361,359,365,362,315,364,364,364,293,351,316,286,332,91,178,302,348,277,351,326,334,350,324,318,337,341,178,363,72,362,323,279,362,364,365,336,177,354,345,326,341,363,357,154,340,365,358,363,328,358,361,349,82,358,361,306,352,351,177,346,364,264,219,363,364,83,173,361,365,177,302,361,341,350,338,351,335,335,362,357,362,363,265,358,295,356,350,365,364,324,354,336,357,348,272,360,362,294,83,347,5,365,365,365,360,79,361,358,359,358,298,354,362,263,259,365,365,365,356,353,365,365,358,349,364,365,364,364,99,364,364,363,59,351,365,188,289,363,363,364,100,363,363,356,363,354,8,365,83,355,144,321,278,177,351,350,355,355,364,67,70,266,240,350,267,319,332,302,346,303,293,350,344,324,363,38,279,264,324,363,310,358,338,356,15,292,358,352,165,352,362,89,330,365,355,265,301,301,357,365,365,100,89,83,363,56,355,79,83,15,338,363,363,363,271,363,116,363,121,363,354,354,341,361,311,363,364,346,356,351,259,61,342,356,365,166,364,139,316,365,15,358,364,194,357,311,365,172,109,354,365,66,365,270,359,357,358,354,337,12,357,335,364,353,294,69,86,80,365,290,362,83,356,311,354,322,205,84,356,362,365,60,354,69,271,176,365,365,358,87,359],\"x0\":\" \",\"xaxis\":\"x\",\"y0\":\" \",\"yaxis\":\"y\",\"type\":\"box\"}],                        {\"template\":{\"data\":{\"histogram2dcontour\":[{\"type\":\"histogram2dcontour\",\"colorbar\":{\"outlinewidth\":0,\"ticks\":\"\"},\"colorscale\":[[0.0,\"#0d0887\"],[0.1111111111111111,\"#46039f\"],[0.2222222222222222,\"#7201a8\"],[0.3333333333333333,\"#9c179e\"],[0.4444444444444444,\"#bd3786\"],[0.5555555555555556,\"#d8576b\"],[0.6666666666666666,\"#ed7953\"],[0.7777777777777778,\"#fb9f3a\"],[0.8888888888888888,\"#fdca26\"],[1.0,\"#f0f921\"]]}],\"choropleth\":[{\"type\":\"choropleth\",\"colorbar\":{\"outlinewidth\":0,\"ticks\":\"\"}}],\"histogram2d\":[{\"type\":\"histogram2d\",\"colorbar\":{\"outlinewidth\":0,\"ticks\":\"\"},\"colorscale\":[[0.0,\"#0d0887\"],[0.1111111111111111,\"#46039f\"],[0.2222222222222222,\"#7201a8\"],[0.3333333333333333,\"#9c179e\"],[0.4444444444444444,\"#bd3786\"],[0.5555555555555556,\"#d8576b\"],[0.6666666666666666,\"#ed7953\"],[0.7777777777777778,\"#fb9f3a\"],[0.8888888888888888,\"#fdca26\"],[1.0,\"#f0f921\"]]}],\"heatmap\":[{\"type\":\"heatmap\",\"colorbar\":{\"outlinewidth\":0,\"ticks\":\"\"},\"colorscale\":[[0.0,\"#0d0887\"],[0.1111111111111111,\"#46039f\"],[0.2222222222222222,\"#7201a8\"],[0.3333333333333333,\"#9c179e\"],[0.4444444444444444,\"#bd3786\"],[0.5555555555555556,\"#d8576b\"],[0.6666666666666666,\"#ed7953\"],[0.7777777777777778,\"#fb9f3a\"],[0.8888888888888888,\"#fdca26\"],[1.0,\"#f0f921\"]]}],\"heatmapgl\":[{\"type\":\"heatmapgl\",\"colorbar\":{\"outlinewidth\":0,\"ticks\":\"\"},\"colorscale\":[[0.0,\"#0d0887\"],[0.1111111111111111,\"#46039f\"],[0.2222222222222222,\"#7201a8\"],[0.3333333333333333,\"#9c179e\"],[0.4444444444444444,\"#bd3786\"],[0.5555555555555556,\"#d8576b\"],[0.6666666666666666,\"#ed7953\"],[0.7777777777777778,\"#fb9f3a\"],[0.8888888888888888,\"#fdca26\"],[1.0,\"#f0f921\"]]}],\"contourcarpet\":[{\"type\":\"contourcarpet\",\"colorbar\":{\"outlinewidth\":0,\"ticks\":\"\"}}],\"contour\":[{\"type\":\"contour\",\"colorbar\":{\"outlinewidth\":0,\"ticks\":\"\"},\"colorscale\":[[0.0,\"#0d0887\"],[0.1111111111111111,\"#46039f\"],[0.2222222222222222,\"#7201a8\"],[0.3333333333333333,\"#9c179e\"],[0.4444444444444444,\"#bd3786\"],[0.5555555555555556,\"#d8576b\"],[0.6666666666666666,\"#ed7953\"],[0.7777777777777778,\"#fb9f3a\"],[0.8888888888888888,\"#fdca26\"],[1.0,\"#f0f921\"]]}],\"surface\":[{\"type\":\"surface\",\"colorbar\":{\"outlinewidth\":0,\"ticks\":\"\"},\"colorscale\":[[0.0,\"#0d0887\"],[0.1111111111111111,\"#46039f\"],[0.2222222222222222,\"#7201a8\"],[0.3333333333333333,\"#9c179e\"],[0.4444444444444444,\"#bd3786\"],[0.5555555555555556,\"#d8576b\"],[0.6666666666666666,\"#ed7953\"],[0.7777777777777778,\"#fb9f3a\"],[0.8888888888888888,\"#fdca26\"],[1.0,\"#f0f921\"]]}],\"mesh3d\":[{\"type\":\"mesh3d\",\"colorbar\":{\"outlinewidth\":0,\"ticks\":\"\"}}],\"scatter\":[{\"fillpattern\":{\"fillmode\":\"overlay\",\"size\":10,\"solidity\":0.2},\"type\":\"scatter\"}],\"parcoords\":[{\"type\":\"parcoords\",\"line\":{\"colorbar\":{\"outlinewidth\":0,\"ticks\":\"\"}}}],\"scatterpolargl\":[{\"type\":\"scatterpolargl\",\"marker\":{\"colorbar\":{\"outlinewidth\":0,\"ticks\":\"\"}}}],\"bar\":[{\"error_x\":{\"color\":\"#2a3f5f\"},\"error_y\":{\"color\":\"#2a3f5f\"},\"marker\":{\"line\":{\"color\":\"#E5ECF6\",\"width\":0.5},\"pattern\":{\"fillmode\":\"overlay\",\"size\":10,\"solidity\":0.2}},\"type\":\"bar\"}],\"scattergeo\":[{\"type\":\"scattergeo\",\"marker\":{\"colorbar\":{\"outlinewidth\":0,\"ticks\":\"\"}}}],\"scatterpolar\":[{\"type\":\"scatterpolar\",\"marker\":{\"colorbar\":{\"outlinewidth\":0,\"ticks\":\"\"}}}],\"histogram\":[{\"marker\":{\"pattern\":{\"fillmode\":\"overlay\",\"size\":10,\"solidity\":0.2}},\"type\":\"histogram\"}],\"scattergl\":[{\"type\":\"scattergl\",\"marker\":{\"colorbar\":{\"outlinewidth\":0,\"ticks\":\"\"}}}],\"scatter3d\":[{\"type\":\"scatter3d\",\"line\":{\"colorbar\":{\"outlinewidth\":0,\"ticks\":\"\"}},\"marker\":{\"colorbar\":{\"outlinewidth\":0,\"ticks\":\"\"}}}],\"scattermapbox\":[{\"type\":\"scattermapbox\",\"marker\":{\"colorbar\":{\"outlinewidth\":0,\"ticks\":\"\"}}}],\"scatterternary\":[{\"type\":\"scatterternary\",\"marker\":{\"colorbar\":{\"outlinewidth\":0,\"ticks\":\"\"}}}],\"scattercarpet\":[{\"type\":\"scattercarpet\",\"marker\":{\"colorbar\":{\"outlinewidth\":0,\"ticks\":\"\"}}}],\"carpet\":[{\"aaxis\":{\"endlinecolor\":\"#2a3f5f\",\"gridcolor\":\"white\",\"linecolor\":\"white\",\"minorgridcolor\":\"white\",\"startlinecolor\":\"#2a3f5f\"},\"baxis\":{\"endlinecolor\":\"#2a3f5f\",\"gridcolor\":\"white\",\"linecolor\":\"white\",\"minorgridcolor\":\"white\",\"startlinecolor\":\"#2a3f5f\"},\"type\":\"carpet\"}],\"table\":[{\"cells\":{\"fill\":{\"color\":\"#EBF0F8\"},\"line\":{\"color\":\"white\"}},\"header\":{\"fill\":{\"color\":\"#C8D4E3\"},\"line\":{\"color\":\"white\"}},\"type\":\"table\"}],\"barpolar\":[{\"marker\":{\"line\":{\"color\":\"#E5ECF6\",\"width\":0.5},\"pattern\":{\"fillmode\":\"overlay\",\"size\":10,\"solidity\":0.2}},\"type\":\"barpolar\"}],\"pie\":[{\"automargin\":true,\"type\":\"pie\"}]},\"layout\":{\"autotypenumbers\":\"strict\",\"colorway\":[\"#636efa\",\"#EF553B\",\"#00cc96\",\"#ab63fa\",\"#FFA15A\",\"#19d3f3\",\"#FF6692\",\"#B6E880\",\"#FF97FF\",\"#FECB52\"],\"font\":{\"color\":\"#2a3f5f\"},\"hovermode\":\"closest\",\"hoverlabel\":{\"align\":\"left\"},\"paper_bgcolor\":\"white\",\"plot_bgcolor\":\"#E5ECF6\",\"polar\":{\"bgcolor\":\"#E5ECF6\",\"angularaxis\":{\"gridcolor\":\"white\",\"linecolor\":\"white\",\"ticks\":\"\"},\"radialaxis\":{\"gridcolor\":\"white\",\"linecolor\":\"white\",\"ticks\":\"\"}},\"ternary\":{\"bgcolor\":\"#E5ECF6\",\"aaxis\":{\"gridcolor\":\"white\",\"linecolor\":\"white\",\"ticks\":\"\"},\"baxis\":{\"gridcolor\":\"white\",\"linecolor\":\"white\",\"ticks\":\"\"},\"caxis\":{\"gridcolor\":\"white\",\"linecolor\":\"white\",\"ticks\":\"\"}},\"coloraxis\":{\"colorbar\":{\"outlinewidth\":0,\"ticks\":\"\"}},\"colorscale\":{\"sequential\":[[0.0,\"#0d0887\"],[0.1111111111111111,\"#46039f\"],[0.2222222222222222,\"#7201a8\"],[0.3333333333333333,\"#9c179e\"],[0.4444444444444444,\"#bd3786\"],[0.5555555555555556,\"#d8576b\"],[0.6666666666666666,\"#ed7953\"],[0.7777777777777778,\"#fb9f3a\"],[0.8888888888888888,\"#fdca26\"],[1.0,\"#f0f921\"]],\"sequentialminus\":[[0.0,\"#0d0887\"],[0.1111111111111111,\"#46039f\"],[0.2222222222222222,\"#7201a8\"],[0.3333333333333333,\"#9c179e\"],[0.4444444444444444,\"#bd3786\"],[0.5555555555555556,\"#d8576b\"],[0.6666666666666666,\"#ed7953\"],[0.7777777777777778,\"#fb9f3a\"],[0.8888888888888888,\"#fdca26\"],[1.0,\"#f0f921\"]],\"diverging\":[[0,\"#8e0152\"],[0.1,\"#c51b7d\"],[0.2,\"#de77ae\"],[0.3,\"#f1b6da\"],[0.4,\"#fde0ef\"],[0.5,\"#f7f7f7\"],[0.6,\"#e6f5d0\"],[0.7,\"#b8e186\"],[0.8,\"#7fbc41\"],[0.9,\"#4d9221\"],[1,\"#276419\"]]},\"xaxis\":{\"gridcolor\":\"white\",\"linecolor\":\"white\",\"ticks\":\"\",\"title\":{\"standoff\":15},\"zerolinecolor\":\"white\",\"automargin\":true,\"zerolinewidth\":2},\"yaxis\":{\"gridcolor\":\"white\",\"linecolor\":\"white\",\"ticks\":\"\",\"title\":{\"standoff\":15},\"zerolinecolor\":\"white\",\"automargin\":true,\"zerolinewidth\":2},\"scene\":{\"xaxis\":{\"backgroundcolor\":\"#E5ECF6\",\"gridcolor\":\"white\",\"linecolor\":\"white\",\"showbackground\":true,\"ticks\":\"\",\"zerolinecolor\":\"white\",\"gridwidth\":2},\"yaxis\":{\"backgroundcolor\":\"#E5ECF6\",\"gridcolor\":\"white\",\"linecolor\":\"white\",\"showbackground\":true,\"ticks\":\"\",\"zerolinecolor\":\"white\",\"gridwidth\":2},\"zaxis\":{\"backgroundcolor\":\"#E5ECF6\",\"gridcolor\":\"white\",\"linecolor\":\"white\",\"showbackground\":true,\"ticks\":\"\",\"zerolinecolor\":\"white\",\"gridwidth\":2}},\"shapedefaults\":{\"line\":{\"color\":\"#2a3f5f\"}},\"annotationdefaults\":{\"arrowcolor\":\"#2a3f5f\",\"arrowhead\":0,\"arrowwidth\":1},\"geo\":{\"bgcolor\":\"white\",\"landcolor\":\"#E5ECF6\",\"subunitcolor\":\"white\",\"showland\":true,\"showlakes\":true,\"lakecolor\":\"white\"},\"title\":{\"x\":0.05},\"mapbox\":{\"style\":\"light\"}}},\"xaxis\":{\"anchor\":\"y\",\"domain\":[0.0,1.0],\"title\":{\"text\":\"availability_365\"}},\"yaxis\":{\"anchor\":\"x\",\"domain\":[0.0,1.0]},\"legend\":{\"tracegroupgap\":0},\"margin\":{\"t\":60},\"boxmode\":\"group\",\"height\":250,\"width\":1000},                        {\"responsive\": true}                    ).then(function(){\n",
              "                            \n",
              "var gd = document.getElementById('ad521af1-e910-4287-8e10-44195ff89aa8');\n",
              "var x = new MutationObserver(function (mutations, observer) {{\n",
              "        var display = window.getComputedStyle(gd).display;\n",
              "        if (!display || display === 'none') {{\n",
              "            console.log([gd, 'removed!']);\n",
              "            Plotly.purge(gd);\n",
              "            observer.disconnect();\n",
              "        }}\n",
              "}});\n",
              "\n",
              "// Listen for the removal of the full notebook cells\n",
              "var notebookContainer = gd.closest('#notebook-container');\n",
              "if (notebookContainer) {{\n",
              "    x.observe(notebookContainer, {childList: true});\n",
              "}}\n",
              "\n",
              "// Listen for the clearing of the current output cell\n",
              "var outputEl = gd.closest('.output');\n",
              "if (outputEl) {{\n",
              "    x.observe(outputEl, {childList: true});\n",
              "}}\n",
              "\n",
              "                        })                };                            </script>        </div>\n",
              "</body>\n",
              "</html>"
            ]
          },
          "metadata": {}
        },
        {
          "output_type": "display_data",
          "data": {
            "text/html": [
              "<html>\n",
              "<head><meta charset=\"utf-8\" /></head>\n",
              "<body>\n",
              "    <div>            <script src=\"https://cdnjs.cloudflare.com/ajax/libs/mathjax/2.7.5/MathJax.js?config=TeX-AMS-MML_SVG\"></script><script type=\"text/javascript\">if (window.MathJax && window.MathJax.Hub && window.MathJax.Hub.Config) {window.MathJax.Hub.Config({SVG: {font: \"STIX-Web\"}});}</script>                <script type=\"text/javascript\">window.PlotlyConfig = {MathJaxConfig: 'local'};</script>\n",
              "        <script src=\"https://cdn.plot.ly/plotly-2.18.2.min.js\"></script>                <div id=\"506f74b8-b82c-421e-b3b9-e0ba83fac3bb\" class=\"plotly-graph-div\" style=\"height:250px; width:1000px;\"></div>            <script type=\"text/javascript\">                                    window.PLOTLYENV=window.PLOTLYENV || {};                                    if (document.getElementById(\"506f74b8-b82c-421e-b3b9-e0ba83fac3bb\")) {                    Plotly.newPlot(                        \"506f74b8-b82c-421e-b3b9-e0ba83fac3bb\",                        [{\"alignmentgroup\":\"True\",\"hovertemplate\":\"minimum_nights=%{x}<extra></extra>\",\"legendgroup\":\"\",\"marker\":{\"color\":\"#636efa\"},\"name\":\"\",\"notched\":false,\"offsetgroup\":\"\",\"orientation\":\"h\",\"showlegend\":false,\"x\":[92,92,92,92,60,92,92,60,60,60,92,92,92,93,92,180,92,180,92,92,92,60,92,92,92,92,92,92,92,92,92,92,92,92,96,92,92,92,92,92,92,92,92,92,92,92,92,92,160,92,365,1,1,1,92,92,30,92,92,92,92,92,92,92,92,1,180,92,92,92,92,92,1,100,93,92,92,180,92,92,92,92,92,92,92,92,6,92,6,92,92,92,1,92,6,6,92,92,92,92,92,92,180,93,92,92,1,92,92,92,92,92,92,92,92,92,180,92,92,92,92,92,365,92,6,92,92,92,92,92,92,92,92,92,96,2,92,365,92,92,92,2,93,92,92,92,92,5,92,92,92,92,92,180,92,180,92,92,92,92,92,92,92,92,1,92,92,92,92,92,92,92,92,2,92,92,92,92,92,92,92,92,92,92,92,92,365,100,6,92,92,92,92,183,92,120,180,92,92,365,92,1,92,92,92,92,92,1,92,92,92,2,365,92,92,92,92,92,92,180,92,92,92,1,92,1,92,92,92,92,92,180,92,92,92,92,92,92,92,92,92,92,92,92,92,92,92,92,92,92,92,92,92,92,92,92,92,92,92,92,92,92,92,92,92,92,92,92,180,2,2,92,92,92,92,2,92,92,92,180,365,92,92,92,92,180,92,120,92,92,92,92,92,92,92,92,92,92,2,92,92,92,100,92,365,92,92,30,1,92,92,92,92,92,92,92,92,92,92,92,92,92,92,92,92,92,30,1,92,180,92,92,180,92,92,92,92,1,92,92,92,92,92,92,1,92,92,92,92,5,92,1,92,92,92,92,92,92,92,92,92,365,92,92,92,92,92,92,92,92,92,92,1,1,92,92,90,92,92,92,92,92,92,92,180,92,92,92,92,92,30,92,179,92,92,92,92,92,92,92,92,92,180,92,92,92,92,92,1,92,92,92,92,92,92,92,240,92,92,180,180,1,1,92,92,7,7,92,92,92,92,92,92,93,93,180,92,92,92,92,92,92,92,92,92,92,92,92,92,92,92,92,92,92,92,92,92,2,180,92,92,92,1,1,1,92,92,95,92,92,92,92,92,92,92,365,92,92,92,6,6,6,92,92,92,7,6,92,1,92,92,92,92,3,100,92,92,92,92,93,92,92,92,92,92,92,92,30,92,180,92,92,92,1,1,1,1,1,7,92,93,93,92,1,1,1,92,92,92,92,92,92,92,92,92,185,92,92,1,92,1,1,93,92,92,92,92,92,92,92,365,92,92,92,92,92,6,6,2,1,1,6,92,20,92,30,92,20,92,92,1,93,92,92,92,93,180,1,1,1,1,6,92,92,92,92,1,92,92,92,92,92,92,92,25,6,92,92,92,92,92,180,92,92,2,92,92,92,92,92,92,92,92,180,2,92,92,92,6,180,92,92,92,92,92,92,92,1,180,92,92,92,92,180,180,180,1,92,2,92,92,6,92,92,92,92,92,92,92,92,92,92,92,2,1,92,92,6,93,1,92,1,180,92,3,92,92,92,7,7,92,92,92,92,92,92,92,180,92,20,7,92,92,92,92,92,92,92,92,92,92,92,92,92,92,1,92,92,92,92,92,1,1,1,1,180,92,92,92,92,92,92,92,93,92,92,1,1,1,1,1,92,92,1,92,2,1,92,6,92,1,92,6,92,1,92,120,1,92,190,92,92,6,92,180,1,1,6,6,92,1,6,6,1,30,1,92,92,92,92,92,92,92,1,6,92,2,92,1,1,92,92,92,92,92,92,92,92,6,6,180,6,1,92,92,92,1,92,92,1,92,1,92,92,1,92,92,14,1,365,1,1,93,1,1,92,30,1,92,6,1,92,1,92,92,1,180,92,92,1,92,92,92,92,1,1,92,2,92,92,92,6,6,92,92,92,92,92,92,92,92,92,92,92,92,92,92,1,1,1,92,1,1,92,92,92,1,92,92,2,92,92,92,92,1,92,92,92,92,2,92,92,1,92,1,92,92,30,92,30,92,92,2,14,92,92,92,92,3,92,92,3,93,92,92,92,1,92,1,92,92,1,92,92,2,92,92,3,1,92,92,92,5,360,92,92,92,1,92,92,30,1,1,92,1,6,1,92,92,92,92,1,92,92,1,92,92,92,92,92,92,92,1,2,1,1,92,92,1,1,92,92,2,1,92,1,5,92,92,92,1,92,92,92,92,30,92,92,92,92,1,5,92,92,2,92,1,92,2,92,92,1,2,1,1,1,2,92,1,1,92,92,92,92,1,1,1,1,1,1,1,1,1,92,92,365,92,92,92,92,92,1,1,1,1,92,1,1,1,1,1,1,1,1,1,1,1,92,92,92,92,92,92,92,92,92,92,92,92,92,92,92,92,92,92,1,1,1,3,92,1,1,2,92,2,92,1,6,92,1,1,1,92,1,30,92,92,1,1,1,1,92,1,92,92,92,1,1,1,92,180,5,1,92,92,3,1,92,1,92,1,92,2,92,1,92,92,92,2,2,92,92,92,92,92,92,92,92,1,1,92,92,92,92,92,92,92,92,92,2,100,1,365,1,1,1,3,92,92,92,92,92,30,92,30,90,30,1,7,1,1,92,92,92,92,92,30,92,92,92,92,92,1,1,180,92,92,92,1,90,92,92,1,1,1,1,1,1,92,92,30,1,1,1,92,2,92,1,1,92,92,1,92,92,92,1,92,92,92,1,92,2,365,1,1,92,92,92,92,1,92,92,1,30,1,2,2,92,92,92,92,92,92,6,1,92,92,1,1,92,30,14,92,1,1,92,1,1,1,92,92,6,1,6,92,30,1,1,1,1,92,92,1,92,92,92,92,92,1,1,92,1,92,92,92,92,92,92,92,92,92,92,60,92,92,92,92,92,1,92,92,5,92,92,92,92,1,92,92,92,92,92,92,180,92,92,92,92,6,92,92,92,92,92,1,92,1,1,92,92,2,14,92,92,92,92,2,92,92,92,92,92,92,92,1,92,92,92,1,6,92,15,92,92,92,92,30,1,92,1,2,3,92,92,1,92,92,6,92,2,1,92,1,2,1,92,2,92,92,7,1,1,92,92,92,92,2,2,2,2,92,92,1,1,92,92,92,92,92,2,92,92,92,92,1,1,92,92,2,1,1,92,1,92,92,92,1,92,92,92,28,1,92,29,92,1,1,92,92,1,92,92,1,92,92,365,92,92,92,92,92,92,92,180,92,92,92,1,1,92,92,92,92,10,5,1,1,92,1,92,92,92,92,92,1,1,30,1,92,92,92,92,92,1,92,92,92,92,92,92,92,92,92,92,92,92,1,92,92,92,92,1,92,1,92,92,92,180,92,92,92,92,1,92,92,92,92,1,92,1,92,92,92,92,92,92,1,92,1,1,1,92,92,1,92,1,1,92,92,1,1,92,92,92,92,92,92,1,92,92,92,92,92,92,12,30,92,92,92,1,1,92,365,180,1,92,200,1,92,1,1,92,1,1,92,1,92,92,92,92,92,1,92,1,92,92,1,1,92,30,200,1,1,1,92,92,92,92,92,200,200,92,92,1,92,92,6,92,92,92,1,1,92,1,92,1,92,92,1,1,92,92,1,1,6,6,6,2,1,92,92,92,92,92,92,6,92,93,20,1,1,92,1,1,1,92,92,92,92,92,92,92,92,92,92,92,92,92,6,92,91,6,92,6,92,92,1,1,6,1,92,92,6,92,1,1,1,1,1,1,1,1,92,92,92,92,92,2,92,1,92,92,365,92,92,92,92,92,92,1,92,92,92,1,2,1,92,92,92,92,92,92,92,92,2,2,1,92,2,92,92,2,2,92,2,1,1,92,2,2,2,2,92,2,2,2,92,1,92,2,92,1,1,1,1,1,1,92,1,30,92,2,2,1,2,92,92,92,1,92,1,93,1,1,6,1,92,7,92,6,92,92,92,92,92,92,92,92,92,92,180,2,92,92,92,92,1,1,1,2,92,92,92,92,92,92,6,1,7,1,5,1,92,1,92,92,92,1,92,92,92,92,92,92,92,92,92,1,99,99,92,1,1,2,1,92,1,1,2,92,30,92,92,1,92,92,92,92,92,92,6,92,1,1,92,6,92,92,92,180,1,2,92,1,6,92,92,92,1,92,1,92,2,1,1,1,92,92,92,92,1,92,1,92,92,92,1,1,1,92,92,1,92,92,92,92,92,1,1,3,180,1,92,188,6,92,92,92,92,6,1,92,92,92,92,92,1,92,2,92,92,92,92,1,92,92,92,1,92,92,92,1,92,92,92,92,1,92,92,1,1,92,30,5,1,1,1,1,1,1,1,2,92,92,92,92,1,92,92,92,1,1,3,92,92,92,92,1,1,1,1,92,2,1,1,1,1,92,92,92,92,92,6,365,92,92,1,92,1,3,92,1,1,92,1,92,92,92,92,92,92,1,92,1,92,1,92,1,92,92,92,92,92,92,92,1,92,92,92,1,60,92,92,92,92,92,200,92,1,92,92,92,1,92,92,92,92,92,92,92,92,92,92,92,1,1,1,1,1,1,1,1,1,1,1,1,1,92,92,92,92,92,92,92,100,92,92,92,92,92,92,92,14,6,92,3,1,6,6,1,1,92,92,92,92,92,92,1,92,14,1,1,92,7,1,1,1,1,92,92,1,1,92,92,1,92,1,92,92,180,180,92,92,180,92,92,1,1,92,1,3,92,92,92,1,1,92,92,92,92,92,92,1,92,92,92,92,92,92,92,92,92,92,92,92,92,92,92,92,2,92,92,92,92,92,92,92,1,92,92,92,92,92,92,92,92,92,92,92,92,92,90,92,92,92,92,92,92,92,92,92,92,92,92,92,92,92,92,180,92,92,92,92,92,92,92,1,1,92,1,1,1,92,92,92,92,92,92,92,92,92,1,1,1,92,1,1,92,92,92,1,1,92,92,92,92,92,92,92,92,92,1,92,92,92,92,92,92,2,92,92,92,92,1,92,1,1,1,1,1,1,92,92,92,92,1,1,1,1,92,92,92,1,92,92,1,1,1,1,92,1,92,92,92,92,1,1,1,5,6,1,180,92,1,1,1,1,1,1,92,92,1,92,1,1,5,92,92,92,92,92,1,1,1,92,92,92,30,1,92,1,1,1,1,1,3,92,1,1,1,1,2,1,92,92,92,92,92,1,99,92,5,92,1,92,1,92,92,1,1,1,1,1,1,1,6,6,6,1,1,1,92,92,6,92,1,90,92,1,92,1,1,6,92,92,92,92,6,6,6,6,92,92,92,1,2,6,6,6,92,6,6,6,92,1,1,1,92,1,1,92,1,1,1,1,92,92,92,92,6,6,6,6,6,6,6,6,6,92,92,1,92,90,6,6,6,6,6,6,92,92,1,92,92,6,92,30,1,92,92,92,1,1,30,92,92,1,92,1,92,92,92,1,1,1,92,1,1,1,92,1,1,1,1,92,92,92,92,92,1,1,92,6,92,92,92,92,92,92,92,1,1,1,1,2,1,92,1,1,1,1,1,92,92,1,1,1,1,1,1,1,92,92,92,92,90,92,92,92,92,92,92,92,92,92,92,1,1,1,1,1,92,1,1,1,6,30,1,92,92,2,2,1,1,1,1,1,92,92,92,2,92,1,1,8,92,1,1,92,1,1,92,92,92,92,92,92,92,92,1,1,1,1,6,92,92,92,92,1,1,92,92,1,1,92,2,92,92,92,30,92,1,92,92,92,92,92,92,92,92,1,92,92,150,1,6,92,92,92,92,92,92,92,92,92,92,92,92,92,92,92,92,1,6,92,92,92,1,1,92,1,1,1,92,92,92,92,92,92,92,1,1,92,92,92,92,92,92,92,92,1,92,92,92,1,1,1,1,1,92,92,92,92,92,92,6,2,1,1,6,2,92,92,1,1,1,1,1,1,92,92,1,1,1,92,92,92,2,90,92,92,92,92,1,92,1,1,1,1,92,6,6,1,92,92,92,7,92,92,92,92,1,92,1,1,92,92,92,92,92,1,92,92,92,1,92,1,1,92,1,92,1,1,1,1,1,92,92,6,92,92,6,6,92,92,92,6,92,92,6,92,92,6,92,1,1,6,6,92,92,92,5,1,6,92,6,4,92,1,6,6,6,1,1,1,1,92,1,6,1,92,6,6,6,92,1,6,1,92,1,1,1,6,1,92,92,92,92,92,1,1,1,1,92,6,1,6,92,1,6,6,92,6,1,1,10,30,1,6,6,6,92,1,92,92,92,92,1,1,1,1,1,1,92,92,1,1,5,1,1,1,1,6,6,6,6,1,92,1,1,6,6,1,1,1,1,1,1,92,6,1,1,92,1,1,1,6,1,1,1,1,1,92,1,6,1,1,1,92,92,1,1,1,92,92,1,2,1,1,1,1,1,1,1,92,92,1,1,92,1,92,1,92,92,92,1,92,1,1,1,1,92,92,1,1,1,6,6,6,92,92,1,92,92,92,92,6,92,2,92,1,1,1,6,92,1,1,1,6,2,92,92,92,1,92,30,1,2,1,92,1,1,92,2,2,1,1,1,1,1,1,1,1,1,1,1,1,92,1,2,1,1,1,1,1,92,1,1,1,6,1,1,1,1,1,60,92,92,7,1,1,6,1,6,1,1,1,93,30,92,92,1,1,93,1,1,92,1,1,1,1,1,1,1,92,1,2,1,2,2,2,2,2,1,2,2,2,2,2,2,2,100,1,93,1,1,1,1,1,1,1,1,1,92,14,1,1,14,1,14,1,1,90,1,1,1,90,14,1,14,1,1,1,1,1,1,92,1,1,14,92,1,1,1,1,1,1,2,1,6,1,3,1,1,30,16,1,92,1,1,1,1,90,90,1,2,92,95,92,1,1,1,6,6,1,5,30,2,6,1,1,1,1,1,1,1,2,1,2,2,2,2,1,1,6,1,1,6,1,2,2,2,1,2,1,1,6,6,1,1,1,2,92,1,1,1,1,92,92,1,1,1,6,1,2,2,92,92,1,1,2,1,1,1,1,6,6,1,92,6,6,1,92,2,2,2,2,92,2,2,2,2,6,6,6,1,6,6,6,92,1,6,1,30,6,1,30,1,6,1,1,1,1,6,92,92,1,1,7,92,92,14,2,92,92,92,92,92,1,92,1,92,92,1,92,4,92,3,92,2,1,7,7,92,92,5,1,92,1,92,92,6,6,1,1,1,1,92,1,92,2,6,30,1,1,1,1,1,1,1,2,1,1,1,1,1,7,1,6,92,6,6,7,7,92,6,6,1,92,1,92,1,1,1,1,1,1,1,1,90,1,1,1,1,3,1,1,1,1,1,92,1,1,92,6,7,7,1,1,1,1,1,1,1,1,1,1,1,1,1,6,2,1,92,6,6,6,1,1,1,1,180,1,92,1,1,2,2,1,92,1,6,1,1,1,1,1,1,92,1,1,1,1,6,6,1,1,1,1,2,1,1,1,1,2,1,1,1,1,1,2,1,1,92,1,3,1,1,1,1,1,92,2,1,1,2,1,1,1,1,1,1,1,3,2,1,1,1,1,1,1,1,180,1,1,1,92,1,1,1,1,92,1,1,1,1,1,1,1,1,1,1,1,1,1,1,1,1,1,1,1,1,1,1,1,1,1,1,92,92,92,92,92,2,6,6,6,1,1,6,6,6,1,6,1,92,3,1,1,1,1,6,1,1,1,92,1,1,92,1,1,1,1,1,1,92,92,1,1,1,92,1,6,1,6,6,92,92,92,6,6,92,6,6,6,1,1,6,92,1,1,1,1,92,6,92,92,92,92,1,1,1,1,92,1,1,7,1,1,1,1,1,92,1,1,1,1,1,1,1,1,92,1,1,1,1,1,2,6,6,6,1,2,2,1,92,1,1,1,1,1,1,92,1,1,6,1,92,1,1,92,3,92,1,92,1,38,1,1,92,1,1,1,1,1,1,1,1,1,1,1,1,92,6,1,6,6,1,1,1,1,1,1,1,92,3,1,6,1,6,3,1,1,92,1,1,1,1,1,7,5,1,1,92,3,1,1,92,180,1,1,1,1,1,1,15,1,92,92,92,92,1,2,1,1,1,1,1,1,92,92,92,92,1,92,1,3,92,1,7,7,7,92,1,1,2,2,1,92,3,4,3,7,7,7,7,7,7,7,7,7,7,7,7,92,3,7,7,7,92,7,1,1,1,1,1,1,92,1,1,1,1,1,92,1,7,7,7,1,92,92,92,1,1,1,1,1,7,3,1,1,92,92,92,92,92,92,92,92,92,1,1,2,1,2,1,1,1,6,1,1,1,1,1,1,1,1,1,1,92,1,1,6,92,1,1,1,1,92,6,92,3,1,1,1,1,1,1,2,1,1,1,92,1,1,1,1,1,1,30,1,1,1,1,1,1,1,3,1,1,1,1,1,1,92,1,92,92,4,1,1],\"x0\":\" \",\"xaxis\":\"x\",\"y0\":\" \",\"yaxis\":\"y\",\"type\":\"box\"}],                        {\"template\":{\"data\":{\"histogram2dcontour\":[{\"type\":\"histogram2dcontour\",\"colorbar\":{\"outlinewidth\":0,\"ticks\":\"\"},\"colorscale\":[[0.0,\"#0d0887\"],[0.1111111111111111,\"#46039f\"],[0.2222222222222222,\"#7201a8\"],[0.3333333333333333,\"#9c179e\"],[0.4444444444444444,\"#bd3786\"],[0.5555555555555556,\"#d8576b\"],[0.6666666666666666,\"#ed7953\"],[0.7777777777777778,\"#fb9f3a\"],[0.8888888888888888,\"#fdca26\"],[1.0,\"#f0f921\"]]}],\"choropleth\":[{\"type\":\"choropleth\",\"colorbar\":{\"outlinewidth\":0,\"ticks\":\"\"}}],\"histogram2d\":[{\"type\":\"histogram2d\",\"colorbar\":{\"outlinewidth\":0,\"ticks\":\"\"},\"colorscale\":[[0.0,\"#0d0887\"],[0.1111111111111111,\"#46039f\"],[0.2222222222222222,\"#7201a8\"],[0.3333333333333333,\"#9c179e\"],[0.4444444444444444,\"#bd3786\"],[0.5555555555555556,\"#d8576b\"],[0.6666666666666666,\"#ed7953\"],[0.7777777777777778,\"#fb9f3a\"],[0.8888888888888888,\"#fdca26\"],[1.0,\"#f0f921\"]]}],\"heatmap\":[{\"type\":\"heatmap\",\"colorbar\":{\"outlinewidth\":0,\"ticks\":\"\"},\"colorscale\":[[0.0,\"#0d0887\"],[0.1111111111111111,\"#46039f\"],[0.2222222222222222,\"#7201a8\"],[0.3333333333333333,\"#9c179e\"],[0.4444444444444444,\"#bd3786\"],[0.5555555555555556,\"#d8576b\"],[0.6666666666666666,\"#ed7953\"],[0.7777777777777778,\"#fb9f3a\"],[0.8888888888888888,\"#fdca26\"],[1.0,\"#f0f921\"]]}],\"heatmapgl\":[{\"type\":\"heatmapgl\",\"colorbar\":{\"outlinewidth\":0,\"ticks\":\"\"},\"colorscale\":[[0.0,\"#0d0887\"],[0.1111111111111111,\"#46039f\"],[0.2222222222222222,\"#7201a8\"],[0.3333333333333333,\"#9c179e\"],[0.4444444444444444,\"#bd3786\"],[0.5555555555555556,\"#d8576b\"],[0.6666666666666666,\"#ed7953\"],[0.7777777777777778,\"#fb9f3a\"],[0.8888888888888888,\"#fdca26\"],[1.0,\"#f0f921\"]]}],\"contourcarpet\":[{\"type\":\"contourcarpet\",\"colorbar\":{\"outlinewidth\":0,\"ticks\":\"\"}}],\"contour\":[{\"type\":\"contour\",\"colorbar\":{\"outlinewidth\":0,\"ticks\":\"\"},\"colorscale\":[[0.0,\"#0d0887\"],[0.1111111111111111,\"#46039f\"],[0.2222222222222222,\"#7201a8\"],[0.3333333333333333,\"#9c179e\"],[0.4444444444444444,\"#bd3786\"],[0.5555555555555556,\"#d8576b\"],[0.6666666666666666,\"#ed7953\"],[0.7777777777777778,\"#fb9f3a\"],[0.8888888888888888,\"#fdca26\"],[1.0,\"#f0f921\"]]}],\"surface\":[{\"type\":\"surface\",\"colorbar\":{\"outlinewidth\":0,\"ticks\":\"\"},\"colorscale\":[[0.0,\"#0d0887\"],[0.1111111111111111,\"#46039f\"],[0.2222222222222222,\"#7201a8\"],[0.3333333333333333,\"#9c179e\"],[0.4444444444444444,\"#bd3786\"],[0.5555555555555556,\"#d8576b\"],[0.6666666666666666,\"#ed7953\"],[0.7777777777777778,\"#fb9f3a\"],[0.8888888888888888,\"#fdca26\"],[1.0,\"#f0f921\"]]}],\"mesh3d\":[{\"type\":\"mesh3d\",\"colorbar\":{\"outlinewidth\":0,\"ticks\":\"\"}}],\"scatter\":[{\"fillpattern\":{\"fillmode\":\"overlay\",\"size\":10,\"solidity\":0.2},\"type\":\"scatter\"}],\"parcoords\":[{\"type\":\"parcoords\",\"line\":{\"colorbar\":{\"outlinewidth\":0,\"ticks\":\"\"}}}],\"scatterpolargl\":[{\"type\":\"scatterpolargl\",\"marker\":{\"colorbar\":{\"outlinewidth\":0,\"ticks\":\"\"}}}],\"bar\":[{\"error_x\":{\"color\":\"#2a3f5f\"},\"error_y\":{\"color\":\"#2a3f5f\"},\"marker\":{\"line\":{\"color\":\"#E5ECF6\",\"width\":0.5},\"pattern\":{\"fillmode\":\"overlay\",\"size\":10,\"solidity\":0.2}},\"type\":\"bar\"}],\"scattergeo\":[{\"type\":\"scattergeo\",\"marker\":{\"colorbar\":{\"outlinewidth\":0,\"ticks\":\"\"}}}],\"scatterpolar\":[{\"type\":\"scatterpolar\",\"marker\":{\"colorbar\":{\"outlinewidth\":0,\"ticks\":\"\"}}}],\"histogram\":[{\"marker\":{\"pattern\":{\"fillmode\":\"overlay\",\"size\":10,\"solidity\":0.2}},\"type\":\"histogram\"}],\"scattergl\":[{\"type\":\"scattergl\",\"marker\":{\"colorbar\":{\"outlinewidth\":0,\"ticks\":\"\"}}}],\"scatter3d\":[{\"type\":\"scatter3d\",\"line\":{\"colorbar\":{\"outlinewidth\":0,\"ticks\":\"\"}},\"marker\":{\"colorbar\":{\"outlinewidth\":0,\"ticks\":\"\"}}}],\"scattermapbox\":[{\"type\":\"scattermapbox\",\"marker\":{\"colorbar\":{\"outlinewidth\":0,\"ticks\":\"\"}}}],\"scatterternary\":[{\"type\":\"scatterternary\",\"marker\":{\"colorbar\":{\"outlinewidth\":0,\"ticks\":\"\"}}}],\"scattercarpet\":[{\"type\":\"scattercarpet\",\"marker\":{\"colorbar\":{\"outlinewidth\":0,\"ticks\":\"\"}}}],\"carpet\":[{\"aaxis\":{\"endlinecolor\":\"#2a3f5f\",\"gridcolor\":\"white\",\"linecolor\":\"white\",\"minorgridcolor\":\"white\",\"startlinecolor\":\"#2a3f5f\"},\"baxis\":{\"endlinecolor\":\"#2a3f5f\",\"gridcolor\":\"white\",\"linecolor\":\"white\",\"minorgridcolor\":\"white\",\"startlinecolor\":\"#2a3f5f\"},\"type\":\"carpet\"}],\"table\":[{\"cells\":{\"fill\":{\"color\":\"#EBF0F8\"},\"line\":{\"color\":\"white\"}},\"header\":{\"fill\":{\"color\":\"#C8D4E3\"},\"line\":{\"color\":\"white\"}},\"type\":\"table\"}],\"barpolar\":[{\"marker\":{\"line\":{\"color\":\"#E5ECF6\",\"width\":0.5},\"pattern\":{\"fillmode\":\"overlay\",\"size\":10,\"solidity\":0.2}},\"type\":\"barpolar\"}],\"pie\":[{\"automargin\":true,\"type\":\"pie\"}]},\"layout\":{\"autotypenumbers\":\"strict\",\"colorway\":[\"#636efa\",\"#EF553B\",\"#00cc96\",\"#ab63fa\",\"#FFA15A\",\"#19d3f3\",\"#FF6692\",\"#B6E880\",\"#FF97FF\",\"#FECB52\"],\"font\":{\"color\":\"#2a3f5f\"},\"hovermode\":\"closest\",\"hoverlabel\":{\"align\":\"left\"},\"paper_bgcolor\":\"white\",\"plot_bgcolor\":\"#E5ECF6\",\"polar\":{\"bgcolor\":\"#E5ECF6\",\"angularaxis\":{\"gridcolor\":\"white\",\"linecolor\":\"white\",\"ticks\":\"\"},\"radialaxis\":{\"gridcolor\":\"white\",\"linecolor\":\"white\",\"ticks\":\"\"}},\"ternary\":{\"bgcolor\":\"#E5ECF6\",\"aaxis\":{\"gridcolor\":\"white\",\"linecolor\":\"white\",\"ticks\":\"\"},\"baxis\":{\"gridcolor\":\"white\",\"linecolor\":\"white\",\"ticks\":\"\"},\"caxis\":{\"gridcolor\":\"white\",\"linecolor\":\"white\",\"ticks\":\"\"}},\"coloraxis\":{\"colorbar\":{\"outlinewidth\":0,\"ticks\":\"\"}},\"colorscale\":{\"sequential\":[[0.0,\"#0d0887\"],[0.1111111111111111,\"#46039f\"],[0.2222222222222222,\"#7201a8\"],[0.3333333333333333,\"#9c179e\"],[0.4444444444444444,\"#bd3786\"],[0.5555555555555556,\"#d8576b\"],[0.6666666666666666,\"#ed7953\"],[0.7777777777777778,\"#fb9f3a\"],[0.8888888888888888,\"#fdca26\"],[1.0,\"#f0f921\"]],\"sequentialminus\":[[0.0,\"#0d0887\"],[0.1111111111111111,\"#46039f\"],[0.2222222222222222,\"#7201a8\"],[0.3333333333333333,\"#9c179e\"],[0.4444444444444444,\"#bd3786\"],[0.5555555555555556,\"#d8576b\"],[0.6666666666666666,\"#ed7953\"],[0.7777777777777778,\"#fb9f3a\"],[0.8888888888888888,\"#fdca26\"],[1.0,\"#f0f921\"]],\"diverging\":[[0,\"#8e0152\"],[0.1,\"#c51b7d\"],[0.2,\"#de77ae\"],[0.3,\"#f1b6da\"],[0.4,\"#fde0ef\"],[0.5,\"#f7f7f7\"],[0.6,\"#e6f5d0\"],[0.7,\"#b8e186\"],[0.8,\"#7fbc41\"],[0.9,\"#4d9221\"],[1,\"#276419\"]]},\"xaxis\":{\"gridcolor\":\"white\",\"linecolor\":\"white\",\"ticks\":\"\",\"title\":{\"standoff\":15},\"zerolinecolor\":\"white\",\"automargin\":true,\"zerolinewidth\":2},\"yaxis\":{\"gridcolor\":\"white\",\"linecolor\":\"white\",\"ticks\":\"\",\"title\":{\"standoff\":15},\"zerolinecolor\":\"white\",\"automargin\":true,\"zerolinewidth\":2},\"scene\":{\"xaxis\":{\"backgroundcolor\":\"#E5ECF6\",\"gridcolor\":\"white\",\"linecolor\":\"white\",\"showbackground\":true,\"ticks\":\"\",\"zerolinecolor\":\"white\",\"gridwidth\":2},\"yaxis\":{\"backgroundcolor\":\"#E5ECF6\",\"gridcolor\":\"white\",\"linecolor\":\"white\",\"showbackground\":true,\"ticks\":\"\",\"zerolinecolor\":\"white\",\"gridwidth\":2},\"zaxis\":{\"backgroundcolor\":\"#E5ECF6\",\"gridcolor\":\"white\",\"linecolor\":\"white\",\"showbackground\":true,\"ticks\":\"\",\"zerolinecolor\":\"white\",\"gridwidth\":2}},\"shapedefaults\":{\"line\":{\"color\":\"#2a3f5f\"}},\"annotationdefaults\":{\"arrowcolor\":\"#2a3f5f\",\"arrowhead\":0,\"arrowwidth\":1},\"geo\":{\"bgcolor\":\"white\",\"landcolor\":\"#E5ECF6\",\"subunitcolor\":\"white\",\"showland\":true,\"showlakes\":true,\"lakecolor\":\"white\"},\"title\":{\"x\":0.05},\"mapbox\":{\"style\":\"light\"}}},\"xaxis\":{\"anchor\":\"y\",\"domain\":[0.0,1.0],\"title\":{\"text\":\"minimum_nights\"}},\"yaxis\":{\"anchor\":\"x\",\"domain\":[0.0,1.0]},\"legend\":{\"tracegroupgap\":0},\"margin\":{\"t\":60},\"boxmode\":\"group\",\"height\":250,\"width\":1000},                        {\"responsive\": true}                    ).then(function(){\n",
              "                            \n",
              "var gd = document.getElementById('506f74b8-b82c-421e-b3b9-e0ba83fac3bb');\n",
              "var x = new MutationObserver(function (mutations, observer) {{\n",
              "        var display = window.getComputedStyle(gd).display;\n",
              "        if (!display || display === 'none') {{\n",
              "            console.log([gd, 'removed!']);\n",
              "            Plotly.purge(gd);\n",
              "            observer.disconnect();\n",
              "        }}\n",
              "}});\n",
              "\n",
              "// Listen for the removal of the full notebook cells\n",
              "var notebookContainer = gd.closest('#notebook-container');\n",
              "if (notebookContainer) {{\n",
              "    x.observe(notebookContainer, {childList: true});\n",
              "}}\n",
              "\n",
              "// Listen for the clearing of the current output cell\n",
              "var outputEl = gd.closest('.output');\n",
              "if (outputEl) {{\n",
              "    x.observe(outputEl, {childList: true});\n",
              "}}\n",
              "\n",
              "                        })                };                            </script>        </div>\n",
              "</body>\n",
              "</html>"
            ]
          },
          "metadata": {}
        },
        {
          "output_type": "display_data",
          "data": {
            "text/html": [
              "<html>\n",
              "<head><meta charset=\"utf-8\" /></head>\n",
              "<body>\n",
              "    <div>            <script src=\"https://cdnjs.cloudflare.com/ajax/libs/mathjax/2.7.5/MathJax.js?config=TeX-AMS-MML_SVG\"></script><script type=\"text/javascript\">if (window.MathJax && window.MathJax.Hub && window.MathJax.Hub.Config) {window.MathJax.Hub.Config({SVG: {font: \"STIX-Web\"}});}</script>                <script type=\"text/javascript\">window.PlotlyConfig = {MathJaxConfig: 'local'};</script>\n",
              "        <script src=\"https://cdn.plot.ly/plotly-2.18.2.min.js\"></script>                <div id=\"74e3e307-60aa-4339-a509-841d5aca4b8a\" class=\"plotly-graph-div\" style=\"height:250px; width:1000px;\"></div>            <script type=\"text/javascript\">                                    window.PLOTLYENV=window.PLOTLYENV || {};                                    if (document.getElementById(\"74e3e307-60aa-4339-a509-841d5aca4b8a\")) {                    Plotly.newPlot(                        \"74e3e307-60aa-4339-a509-841d5aca4b8a\",                        [{\"alignmentgroup\":\"True\",\"hovertemplate\":\"price=%{x}<extra></extra>\",\"legendgroup\":\"\",\"marker\":{\"color\":\"#636efa\"},\"name\":\"\",\"notched\":false,\"offsetgroup\":\"\",\"orientation\":\"h\",\"showlegend\":false,\"x\":[80,145,85,85,49,184,79,49,55,55,42,79,66,100,83,170,100,26,119,119,69,55,150,57,79,57,57,90,170,69,79,69,50,59,130,79,63,378,63,48,95,59,49,60,119,68,343,139,929,50,150,67,98,67,33,78,183,80,101,110,98,89,69,31,88,62,50,31,31,89,100,106,261,150,76,57,115,47,57,110,69,79,47,1000,74,52,169,165,169,85,232,78,30,66,228,200,200,99,240,500,64,212,30,29,32,85,94,1600,70,70,60,173,115,80,80,50,49,70,180,98,90,45,100,45,294,40,77,140,255,100,71,90,78,100,90,25,150,2300,59,37,200,141,180,59,62,50,100,95,59,188,59,75,65,55,37,60,88,58,49,50,49,47,60,200,254,400,130,90,100,100,100,100,100,50,85,120,45,28,33,33,30,186,125,130,151,112,178,160,237,33,28,36,30,27,59,250,60,211,461,85,24,518,127,259,51,103,79,67,47,259,259,74,105,125,145,165,200,165,300,50,140,140,53,68,88,68,69,300,130,100,59,64,88,58,29,47,93,280,88,60,220,47,48,47,47,93,212,140,53,123,55,150,56,465,24,47,47,24,24,24,24,100,24,47,42,130,212,190,57,119,186,43,134,130,69,120,255,388,50,70,110,110,212,120,120,200,813,37,40,100,53,386,214,214,97,180,170,69,200,112,112,105,238,85,44,44,60,183,244,80,137,59,26,40,97,250,29,29,29,29,28,27,27,59,59,59,113,67,100,240,190,765,79,192,450,49,59,190,160,209,31,31,388,56,113,80,90,100,140,62,69,223,400,180,68,168,141,68,100,69,140,85,59,180,156,180,60,148,130,102,385,680,423,470,150,500,188,40,62,170,69,88,59,60,27,154,49,89,57,255,183,141,130,140,71,130,39,150,47,80,59,198,100,255,49,284,86,49,16,200,255,255,200,100,284,255,50,65,38,28,35,163,164,200,55,554,523,514,45,70,85,79,79,89,106,55,388,51,279,85,284,180,140,200,100,130,4000,47,40,89,40,69,109,49,52,130,88,56,46,90,8900,180,188,98,67,160,160,200,42,40,59,30,31,49,54,21,126,255,160,220,170,170,98,30,241,170,170,106,67,31,90,560,37,275,137,255,212,59,38,96,81,93,59,49,79,49,57,34,100,65,59,81,51,1600,500,1000,950,900,1400,45,85,76,255,256,222,181,165,185,40,40,40,70,165,59,90,58,399,130,216,55,155,194,75,68,119,80,130,129,120,49,49,30,137,75,51,999,200,200,62,108,96,190,43,87,99,87,59,87,118,51,18,40,100,130,99,44,49,541,612,510,530,880,135,239,224,135,113,59,150,140,461,399,127,145,89,651,31,31,31,2500,92,250,69,134,90,90,39,49,49,49,255,160,236,65,124,65,10286,126,473,65,59,59,40,50,47,97,69,75,90,99,59,59,225,57,68,80,54,48,155,69,156,170,55,129,92,94,161,55,161,582,388,99,211,110,68,35,260,1101,150,43,49,143,80,39,80,39,36,195,172,184,57,40,240,129,49,39,69,500,48,115,39,79,48,90,36,45,188,188,170,387,56,99,74,55,55,113,55,69,59,95,33,236,73,62,310,90,140,117,114,137,180,49,47,93,49,49,40,39,32,46,109,100,393,260,120,47,109,151,170,235,223,59,170,70,819,48,85,43,69,118,180,165,880,200,173,153,217,538,1356,403,359,979,883,69,178,781,45,99,79,48,79,330,410,38,704,39,71,59,47,223,500,44,89,79,84,70,70,110,170,170,57,200,55,55,213,67,175,500,207,122,390,249,90,65,223,84,149,113,37,135,41,43,91,223,359,310,113,213,138,694,68,51,49,74,238,223,100,270,49,30,42,39,39,180,286,266,474,87,69,69,69,333,200,65,68,145,145,145,145,145,145,130,130,130,49,30,90,33,46,45,90,162,223,55,33,59,412,69,185,113,59,100,55,250,125,90,100,100,100,64,65,340,350,69,44,132,40,183,54,110,69,99,114,57,330,77,69,120,103,79,390,500,65,39,280,280,223,456,60,79,330,466,170,95,120,59,270,500,71,39,38,30,87,109,45,85,62,74,85,350,71,43,2994,39,56,630,47,69,133,120,94,74,74,90,350,100,95,60,49,199,40,40,62,45,47,63,99,55,48,147,80,80,80,69,80,70,62,150,71,360,52,59,30,117,190,220,130,707,40,180,77,62,85,145,42,54,223,55,90,48,222,86,12494,55,203,359,64,79,37,74,48,25,168,22,174,170,225,123,115,107,120,1287,94,34,160,217,94,168,59,42,100,87,87,56,38,100,74,74,74,74,74,74,87,74,93,87,87,40,80,22,22,22,22,25,80,49,30,49,200,186,130,217,265,120,529,25,182,200,729,84,239,227,257,57,87,120,59,577,172,56,62,48,59,56,16,203,65,48,43,43,67,90,47,87,79,182,95,59,87,39,75,500,65,79,49,103,59,60,114,98,359,210,33,38,109,68,63,155,173,74,160,144,463,706,638,949,333,79,51,82,57,59,69,39,59,59,59,79,307,125,110,47,139,69,44,54,104,59,36,49,152,39,180,59,109,118,174,187,155,46,121,45,79,69,90,69,56,59,58,100,100,100,102,74,43,59,59,730,31,109,80,134,29,37,66,73,106,212,115,80,174,43,44,38,98,22,600,66,48,650,3300,38,180,175,65,78,229,110,192,45,59,30,35,62,98,240,328,296,92,47,185,79,87,119,625,25,20,40,179,55,40,179,151,610,48,47,78,58,84,120,183,113,66,52,36,102,34,36,100,185,59,190,33,650,150,183,37,52,48,82,113,144,121,40,69,45,149,59,75,126,49,42,137,59,59,149,59,149,149,85,180,149,84,59,789,799,43,40,47,33,33,113,615,495,375,40,48,56,69,435,49,135,59,35,56,465,59,113,385,278,650,500,40,50,49,500,45,58,288,59,172,312,208,140,150,248,111,50,59,65,208,208,135,78,63,330,208,120,56,340,120,27,288,59,278,160,311,107,288,70,50,63,79,275,66,278,69,256,395,45,38,268,40,45,312,175,411,59,212,180,56,40,474,148,288,400,268,265,159,351,59,39,56,53,236,288,268,78,144,64,51,180,79,49,41,66,49,59,36,66,48,98,77,288,88,75,121,70,288,140,219,115,140,31,49,45,51,298,59,49,40,69,42,215,100,65,39,39,49,59,160,250,39,48,70,59,198,63,62,105,120,55,110,124,3107,36,53,49,131,250,575,300,268,113,53,66,48,48,34,28,30,178,69,58,34,36,405,26,32,82,98,208,160,280,325,330,46,180,180,180,180,44,390,66,320,300,290,60,60,229,150,98,74,180,52,75,75,81,53,37,476,193,661,586,661,85,74,208,55,55,55,410,170,94,581,115,77,557,581,43,43,40,45,69,631,60,410,41,298,435,130,431,73,159,44,4660,200,30,120,55,75,250,5000,180,66,200,105,34,85,48,84,86,45,72,510,42,113,126,114,144,150,37,250,312,50,158,87,46,298,113,1000,45,78,78,59,59,59,59,350,1000,1000,35,298,19,530,475,530,528,220,180,35,47,72,781,48,68,188,155,41,31,59,490,57,68,550,587,674,83,35,110,59,158,600,198,49,355,140,60,33,92,250,181,46,47,39,140,140,140,155,155,155,90,90,90,90,120,120,198,264,39,78,320,480,525,49,40,55,55,241,250,144,170,521,105,259,21,21,24,24,24,16,133,48,186,186,99,120,147,250,155,300,38,40,390,59,426,144,290,59,55,45,158,210,312,28,162,238,248,150,100,464,464,500,495,312,312,84,49,174,500,425,222,312,49,188,94,76,163,346,237,331,51,148,307,381,45,86,28,86,312,49,40,29,52,768,849,50,40,42,150,70,312,351,51,77,450,183,440,23,90,590,99,465,469,331,89,49,550,49,754,550,574,406,1261,525,700,375,441,510,298,18,56,98,70,49,49,73,115,80,344,150,39,49,49,180,50,228,46,94,87,128,36,1800,40,1200,49,280,38,90,278,288,198,178,148,198,288,198,63,540,495,195,94,45,276,50,615,39,51,165,400,28,67,546,44,118,49,118,59,68,59,320,149,26,70,266,290,271,30,55,54,63,149,165,56,320,287,70,510,59,70,90,167,58,53,66,77,269,450,141,71,62,49,38,34,59,269,121,66,48,210,34,64,410,200,174,59,192,103,1857,66,33,500,192,118,169,178,152,181,100,380,52,228,181,201,180,59,2200,518,51,181,55,75,50,47,41,73,436,85,61,50,180,108,66,101,56,64,74,228,228,286,120,475,89,223,62,286,286,183,359,359,223,50,962,188,181,190,100,255,281,269,77,106,40,228,228,120,621,359,113,359,203,49,156,183,183,359,266,75,120,288,584,509,520,85,125,290,49,228,36,78,400,41,82,34,107,49,49,106,41,49,246,121,40,45,596,94,103,190,190,68,172,250,250,37,25,42,49,490,35,50,3106,113,250,27,400,325,99,150,74,488,55,300,203,268,200,82,250,190,49,120,300,148,1250,180,57,67,64,95,81,73,76,87,85,101,444,444,490,96,125,177,289,60,600,49,200,49,49,195,550,120,120,165,312,425,571,70,58,511,444,87,160,180,195,185,171,230,70,86,72,312,86,94,70,682,692,713,734,850,48,109,45,79,368,891,57,180,61,144,49,61,61,155,250,61,49,49,54,54,50,43,804,35,130,49,150,144,161,165,180,160,225,52,223,250,3200,495,430,170,425,620,320,211,430,290,375,300,585,511,230,84,150,40,300,350,450,145,390,45,49,650,187,215,195,49,49,220,201,310,182,215,170,400,194,200,215,430,450,136,247,281,45,270,190,185,170,160,210,235,70,150,60,149,200,225,200,203,162,49,61,98,119,38,172,140,140,160,160,160,160,140,140,118,126,20,58,88,95,96,300,380,50,162,180,180,140,120,140,120,199,240,208,33,40,214,200,230,210,50,78,125,206,360,368,42,200,23,62,56,47,69,35,180,300,128,200,57,49,50,77,235,240,240,488,225,300,74,52,60,78,106,59,131,140,106,139,306,62,65,74,1388,48,175,126,52,50,648,52,52,52,59,200,147,250,51,65,82,250,60,146,85,85,44,50,76,120,115,210,27,131,95,107,84,84,55,55,311,300,80,67,52,54,91,42,49,250,257,175,4000,71,475,53,91,189,40,127,81,69,321,54,487,487,511,534,546,953,294,300,414,43,50,81,382,346,400,379,404,287,263,492,112,55,55,640,3850,180,333,330,848,678,512,1073,120,295,495,41,47,647,518,486,179,722,578,542,33,122,166,108,1300,48,55,100,528,552,111,98,450,40,259,70,801,640,600,999,799,749,629,503,472,170,200,107,450,300,629,801,600,640,472,503,120,575,46,260,280,574,320,315,205,255,255,94,67,64,52,475,85,46,475,49,250,33,105,44,90,74,126,114,1586,350,424,263,325,413,377,185,235,180,33,40,42,49,399,330,90,250,298,311,350,225,111,130,136,142,165,399,172,400,62,287,376,342,440,573,120,242,282,287,282,347,348,456,231,426,400,100,85,519,1150,232,214,260,195,68,126,111,136,52,52,52,52,51,38,68,45,52,333,280,59,49,50,374,151,153,169,94,235,104,80,186,575,289,103,64,94,250,90,378,327,59,50,44,973,710,791,1073,1205,1657,49,233,165,127,55,64,188,62,130,49,200,43,84,52,148,74,79,65,237,350,289,300,220,195,107,179,189,215,125,210,47,62,49,43,69,179,333,159,1150,49,251,220,295,260,273,139,100,155,271,154,174,194,214,234,138,58,239,119,500,139,259,466,100,580,662,315,69,79,80,224,250,195,162,118,159,165,172,385,69,189,350,200,215,43,260,141,151,76,301,241,218,195,100,327,85,130,100,100,500,176,164,124,488,190,250,310,311,302,294,236,216,159,286,451,513,499,65,170,190,345,660,250,67,300,71,245,49,60,171,215,156,274,146,330,290,65,306,279,85,459,900,832,115,280,65,105,172,165,265,77,165,260,290,45,329,530,165,82,240,125,119,675,84,66,84,90,55,111,57,304,397,348,106,215,300,451,513,253,230,970,710,400,190,220,66,355,190,44,93,180,180,160,300,200,160,51,170,400,190,160,75,15,200,190,180,88,98,72,26,100,50,190,107,48,190,170,180,95,43,180,50,313,93,50,107,200,72,464,180,360,238,43,40,42,39,39,475,190,112,190,274,35,200,197,519,180,90,155,103,430,41,160,180,190,65,643,159,275,428,430,55,49,94,57,50,228,140,511,200,1302,90,111,44,70,44,180,180,184,170,65,150,76,123,190,190,58,65,58,58,61,57,280,447,122,51,110,55,1046,58,427,1070,1128,54,218,228,480,71,479,48,34,42,250,450,51,208,238,60,646,71,156,108,42,39,59,68,67,58,366,371,70,76,250,47,44,88,450,303,330,83,250,58,64,64,64,100,550,42,39,55,230,230,200,200,165,74,180,150,150,150,240,310,78,70,46,51,68,429,125,87,155,39,450,200,47,250,65,30,300,100,1800,47,88,90,54,505,198,233,210,58,55,46,58,41,1015,941,962,120,140,190,39,50,40,202,41,98,169,75,83,50,43,65,66,460,106,130,106,51,56,81,250,115,272,155,49,170,67,170,56,61,65,125,430,260,85,271,271,160,116,107,145,65,85,59,57,66,122,303,100,77,198,43,200,282,223,279,219,41,216,199,205,229,219,203,140,150,79,150,84,656,672,46,40,29,58,69,62,200,241,47,77,200,59,230,72,117,210,48,48,48,390,230,48,268,121,121,1255,121,114,90,429,685,87,230,55,39,50,50,50,50,50,358,1227,761,581,330,58,86,445,48,58,56,382,34,73,94,16,14,39,707,139,99,334,50,51,567,330,290,42,169,19,664,369,1255,469,1241,1350,1350,1302,1350,220,62,223,198,250,136,94,70,736,62,45,735,117,130,165,219,113,129,44,81,535,820,52,52,92,238,200,373,656,49,50,430,420,45,419,509,470,62,220,200,233,194,38,38,168,71,101,49,637,440,690,73,390,740,440,98,350,126,130,1185,238,600,185,195,226,130,410,181,530,72,604,340,340,400,52,1150,76,290,1150,74,395,59,450,62,40,40,60,290,330,330,375,74,323,390,390,240,156,390,350,78,400,344,556,170,107,430,400,120,400,700,390,204,442,417,55,254,298,350,350,148,9999,400,468,270,98,335,376,178,50,50,44,250,58,430,233,290,240,607,664,679,65,72,62,71,175,266,48,67,75,91,277,245,590,330,380,380,277,337,50,690,580,114,38,1560,70,77,55,116,49,55,28,73,65,175,54,55,59,47,330,58,86,53,60,300,280,419,63,99,1500,324,420,62,54,109,142,61,161,173,184,98,109,621,80,57,150,311,71,189,228,200,169,51,69,180,57,80,61,141,404,404,175,223,88,35,419,755,142,154,154,190,200,435,189,58,107,73,46,150,100,107,90,68,84,200,404,404,312,259,74,39,39,61,45,65,123,75,219,209,70,1762,624,46,58,45,54,254,1406,42,83,235,45,518,873,47,39,39,57,1762,209,58,600,55,78,52,74,567,73,68,50,40,236,75,39,66,88,60,386,39,35,39,39,614,47,189,65,61,62,94,56,47,61,61,75,345,399,399,378,336,336,379,336,334,40,172,162,406,14,57,455,750,447,344,401,341,332,401,39,332,99,90,330,39,55,342,38,355,39,39,39,1500,95,383,360,278,67,52,39,428,399,327,296,336,289,349,327,74,432,76,401,367,70,87,120,332,447,85,447,401,436,397,85,332,332,72,43,722,62,70,390,95,70,99,64,38,383,399,397,800,76,428,401,390,169,80,67,114,75,417,418,431,72,40,38,33,75,318,70,40,37,47,617,255,436,432,455,95,240,727,576,140,76,39,78,200,55,188,80,40,376,436,333,200,85,40,295,80,80,55,130,67,50,108,37,65,379,280,43,43,43,43,45,45,56,66,40,40,106,350,80,100,100,64,40,30,40,50,314,399,307,844,40,190,681,100,120,46,83,55,39,71,551,598,474,110,145,83,39,307,229,419,435,342,48,65,404,404,50,662,31,100,31,180,165,180,205,39,1091,357,78,38,31,31,32,200,180,190,165,130,153,67,150,177,682,210,205,245,377,53,634,233,243,76,230,111,141,229,305,210,275,275,275,275,210,217,210,224,205,305,200,234,280,280,295,170,345,356,30,31,566,105,52,120,50,236,363,62,80,90,159,335,364,364,508,340,285,178,121,707,574,233,967,194,194,616,1114,170,160,135,160,120,110,185,120,115,475,475,175,73,148,55,50,60,397,59,29,55,31,249,51,82,41,36,35,100,591,1262,495,323,43,35,62,697,144,455,302,1762,1856,249,48,79,47,249,142,616,62,52,200,286,180,85,717,56,312,180,50,747,249,249,199,249,199,550,82,79,1314,186,294,129,87,812,263,354,398,27,813],\"x0\":\" \",\"xaxis\":\"x\",\"y0\":\" \",\"yaxis\":\"y\",\"type\":\"box\"}],                        {\"template\":{\"data\":{\"histogram2dcontour\":[{\"type\":\"histogram2dcontour\",\"colorbar\":{\"outlinewidth\":0,\"ticks\":\"\"},\"colorscale\":[[0.0,\"#0d0887\"],[0.1111111111111111,\"#46039f\"],[0.2222222222222222,\"#7201a8\"],[0.3333333333333333,\"#9c179e\"],[0.4444444444444444,\"#bd3786\"],[0.5555555555555556,\"#d8576b\"],[0.6666666666666666,\"#ed7953\"],[0.7777777777777778,\"#fb9f3a\"],[0.8888888888888888,\"#fdca26\"],[1.0,\"#f0f921\"]]}],\"choropleth\":[{\"type\":\"choropleth\",\"colorbar\":{\"outlinewidth\":0,\"ticks\":\"\"}}],\"histogram2d\":[{\"type\":\"histogram2d\",\"colorbar\":{\"outlinewidth\":0,\"ticks\":\"\"},\"colorscale\":[[0.0,\"#0d0887\"],[0.1111111111111111,\"#46039f\"],[0.2222222222222222,\"#7201a8\"],[0.3333333333333333,\"#9c179e\"],[0.4444444444444444,\"#bd3786\"],[0.5555555555555556,\"#d8576b\"],[0.6666666666666666,\"#ed7953\"],[0.7777777777777778,\"#fb9f3a\"],[0.8888888888888888,\"#fdca26\"],[1.0,\"#f0f921\"]]}],\"heatmap\":[{\"type\":\"heatmap\",\"colorbar\":{\"outlinewidth\":0,\"ticks\":\"\"},\"colorscale\":[[0.0,\"#0d0887\"],[0.1111111111111111,\"#46039f\"],[0.2222222222222222,\"#7201a8\"],[0.3333333333333333,\"#9c179e\"],[0.4444444444444444,\"#bd3786\"],[0.5555555555555556,\"#d8576b\"],[0.6666666666666666,\"#ed7953\"],[0.7777777777777778,\"#fb9f3a\"],[0.8888888888888888,\"#fdca26\"],[1.0,\"#f0f921\"]]}],\"heatmapgl\":[{\"type\":\"heatmapgl\",\"colorbar\":{\"outlinewidth\":0,\"ticks\":\"\"},\"colorscale\":[[0.0,\"#0d0887\"],[0.1111111111111111,\"#46039f\"],[0.2222222222222222,\"#7201a8\"],[0.3333333333333333,\"#9c179e\"],[0.4444444444444444,\"#bd3786\"],[0.5555555555555556,\"#d8576b\"],[0.6666666666666666,\"#ed7953\"],[0.7777777777777778,\"#fb9f3a\"],[0.8888888888888888,\"#fdca26\"],[1.0,\"#f0f921\"]]}],\"contourcarpet\":[{\"type\":\"contourcarpet\",\"colorbar\":{\"outlinewidth\":0,\"ticks\":\"\"}}],\"contour\":[{\"type\":\"contour\",\"colorbar\":{\"outlinewidth\":0,\"ticks\":\"\"},\"colorscale\":[[0.0,\"#0d0887\"],[0.1111111111111111,\"#46039f\"],[0.2222222222222222,\"#7201a8\"],[0.3333333333333333,\"#9c179e\"],[0.4444444444444444,\"#bd3786\"],[0.5555555555555556,\"#d8576b\"],[0.6666666666666666,\"#ed7953\"],[0.7777777777777778,\"#fb9f3a\"],[0.8888888888888888,\"#fdca26\"],[1.0,\"#f0f921\"]]}],\"surface\":[{\"type\":\"surface\",\"colorbar\":{\"outlinewidth\":0,\"ticks\":\"\"},\"colorscale\":[[0.0,\"#0d0887\"],[0.1111111111111111,\"#46039f\"],[0.2222222222222222,\"#7201a8\"],[0.3333333333333333,\"#9c179e\"],[0.4444444444444444,\"#bd3786\"],[0.5555555555555556,\"#d8576b\"],[0.6666666666666666,\"#ed7953\"],[0.7777777777777778,\"#fb9f3a\"],[0.8888888888888888,\"#fdca26\"],[1.0,\"#f0f921\"]]}],\"mesh3d\":[{\"type\":\"mesh3d\",\"colorbar\":{\"outlinewidth\":0,\"ticks\":\"\"}}],\"scatter\":[{\"fillpattern\":{\"fillmode\":\"overlay\",\"size\":10,\"solidity\":0.2},\"type\":\"scatter\"}],\"parcoords\":[{\"type\":\"parcoords\",\"line\":{\"colorbar\":{\"outlinewidth\":0,\"ticks\":\"\"}}}],\"scatterpolargl\":[{\"type\":\"scatterpolargl\",\"marker\":{\"colorbar\":{\"outlinewidth\":0,\"ticks\":\"\"}}}],\"bar\":[{\"error_x\":{\"color\":\"#2a3f5f\"},\"error_y\":{\"color\":\"#2a3f5f\"},\"marker\":{\"line\":{\"color\":\"#E5ECF6\",\"width\":0.5},\"pattern\":{\"fillmode\":\"overlay\",\"size\":10,\"solidity\":0.2}},\"type\":\"bar\"}],\"scattergeo\":[{\"type\":\"scattergeo\",\"marker\":{\"colorbar\":{\"outlinewidth\":0,\"ticks\":\"\"}}}],\"scatterpolar\":[{\"type\":\"scatterpolar\",\"marker\":{\"colorbar\":{\"outlinewidth\":0,\"ticks\":\"\"}}}],\"histogram\":[{\"marker\":{\"pattern\":{\"fillmode\":\"overlay\",\"size\":10,\"solidity\":0.2}},\"type\":\"histogram\"}],\"scattergl\":[{\"type\":\"scattergl\",\"marker\":{\"colorbar\":{\"outlinewidth\":0,\"ticks\":\"\"}}}],\"scatter3d\":[{\"type\":\"scatter3d\",\"line\":{\"colorbar\":{\"outlinewidth\":0,\"ticks\":\"\"}},\"marker\":{\"colorbar\":{\"outlinewidth\":0,\"ticks\":\"\"}}}],\"scattermapbox\":[{\"type\":\"scattermapbox\",\"marker\":{\"colorbar\":{\"outlinewidth\":0,\"ticks\":\"\"}}}],\"scatterternary\":[{\"type\":\"scatterternary\",\"marker\":{\"colorbar\":{\"outlinewidth\":0,\"ticks\":\"\"}}}],\"scattercarpet\":[{\"type\":\"scattercarpet\",\"marker\":{\"colorbar\":{\"outlinewidth\":0,\"ticks\":\"\"}}}],\"carpet\":[{\"aaxis\":{\"endlinecolor\":\"#2a3f5f\",\"gridcolor\":\"white\",\"linecolor\":\"white\",\"minorgridcolor\":\"white\",\"startlinecolor\":\"#2a3f5f\"},\"baxis\":{\"endlinecolor\":\"#2a3f5f\",\"gridcolor\":\"white\",\"linecolor\":\"white\",\"minorgridcolor\":\"white\",\"startlinecolor\":\"#2a3f5f\"},\"type\":\"carpet\"}],\"table\":[{\"cells\":{\"fill\":{\"color\":\"#EBF0F8\"},\"line\":{\"color\":\"white\"}},\"header\":{\"fill\":{\"color\":\"#C8D4E3\"},\"line\":{\"color\":\"white\"}},\"type\":\"table\"}],\"barpolar\":[{\"marker\":{\"line\":{\"color\":\"#E5ECF6\",\"width\":0.5},\"pattern\":{\"fillmode\":\"overlay\",\"size\":10,\"solidity\":0.2}},\"type\":\"barpolar\"}],\"pie\":[{\"automargin\":true,\"type\":\"pie\"}]},\"layout\":{\"autotypenumbers\":\"strict\",\"colorway\":[\"#636efa\",\"#EF553B\",\"#00cc96\",\"#ab63fa\",\"#FFA15A\",\"#19d3f3\",\"#FF6692\",\"#B6E880\",\"#FF97FF\",\"#FECB52\"],\"font\":{\"color\":\"#2a3f5f\"},\"hovermode\":\"closest\",\"hoverlabel\":{\"align\":\"left\"},\"paper_bgcolor\":\"white\",\"plot_bgcolor\":\"#E5ECF6\",\"polar\":{\"bgcolor\":\"#E5ECF6\",\"angularaxis\":{\"gridcolor\":\"white\",\"linecolor\":\"white\",\"ticks\":\"\"},\"radialaxis\":{\"gridcolor\":\"white\",\"linecolor\":\"white\",\"ticks\":\"\"}},\"ternary\":{\"bgcolor\":\"#E5ECF6\",\"aaxis\":{\"gridcolor\":\"white\",\"linecolor\":\"white\",\"ticks\":\"\"},\"baxis\":{\"gridcolor\":\"white\",\"linecolor\":\"white\",\"ticks\":\"\"},\"caxis\":{\"gridcolor\":\"white\",\"linecolor\":\"white\",\"ticks\":\"\"}},\"coloraxis\":{\"colorbar\":{\"outlinewidth\":0,\"ticks\":\"\"}},\"colorscale\":{\"sequential\":[[0.0,\"#0d0887\"],[0.1111111111111111,\"#46039f\"],[0.2222222222222222,\"#7201a8\"],[0.3333333333333333,\"#9c179e\"],[0.4444444444444444,\"#bd3786\"],[0.5555555555555556,\"#d8576b\"],[0.6666666666666666,\"#ed7953\"],[0.7777777777777778,\"#fb9f3a\"],[0.8888888888888888,\"#fdca26\"],[1.0,\"#f0f921\"]],\"sequentialminus\":[[0.0,\"#0d0887\"],[0.1111111111111111,\"#46039f\"],[0.2222222222222222,\"#7201a8\"],[0.3333333333333333,\"#9c179e\"],[0.4444444444444444,\"#bd3786\"],[0.5555555555555556,\"#d8576b\"],[0.6666666666666666,\"#ed7953\"],[0.7777777777777778,\"#fb9f3a\"],[0.8888888888888888,\"#fdca26\"],[1.0,\"#f0f921\"]],\"diverging\":[[0,\"#8e0152\"],[0.1,\"#c51b7d\"],[0.2,\"#de77ae\"],[0.3,\"#f1b6da\"],[0.4,\"#fde0ef\"],[0.5,\"#f7f7f7\"],[0.6,\"#e6f5d0\"],[0.7,\"#b8e186\"],[0.8,\"#7fbc41\"],[0.9,\"#4d9221\"],[1,\"#276419\"]]},\"xaxis\":{\"gridcolor\":\"white\",\"linecolor\":\"white\",\"ticks\":\"\",\"title\":{\"standoff\":15},\"zerolinecolor\":\"white\",\"automargin\":true,\"zerolinewidth\":2},\"yaxis\":{\"gridcolor\":\"white\",\"linecolor\":\"white\",\"ticks\":\"\",\"title\":{\"standoff\":15},\"zerolinecolor\":\"white\",\"automargin\":true,\"zerolinewidth\":2},\"scene\":{\"xaxis\":{\"backgroundcolor\":\"#E5ECF6\",\"gridcolor\":\"white\",\"linecolor\":\"white\",\"showbackground\":true,\"ticks\":\"\",\"zerolinecolor\":\"white\",\"gridwidth\":2},\"yaxis\":{\"backgroundcolor\":\"#E5ECF6\",\"gridcolor\":\"white\",\"linecolor\":\"white\",\"showbackground\":true,\"ticks\":\"\",\"zerolinecolor\":\"white\",\"gridwidth\":2},\"zaxis\":{\"backgroundcolor\":\"#E5ECF6\",\"gridcolor\":\"white\",\"linecolor\":\"white\",\"showbackground\":true,\"ticks\":\"\",\"zerolinecolor\":\"white\",\"gridwidth\":2}},\"shapedefaults\":{\"line\":{\"color\":\"#2a3f5f\"}},\"annotationdefaults\":{\"arrowcolor\":\"#2a3f5f\",\"arrowhead\":0,\"arrowwidth\":1},\"geo\":{\"bgcolor\":\"white\",\"landcolor\":\"#E5ECF6\",\"subunitcolor\":\"white\",\"showland\":true,\"showlakes\":true,\"lakecolor\":\"white\"},\"title\":{\"x\":0.05},\"mapbox\":{\"style\":\"light\"}}},\"xaxis\":{\"anchor\":\"y\",\"domain\":[0.0,1.0],\"title\":{\"text\":\"price\"}},\"yaxis\":{\"anchor\":\"x\",\"domain\":[0.0,1.0]},\"legend\":{\"tracegroupgap\":0},\"margin\":{\"t\":60},\"boxmode\":\"group\",\"height\":250,\"width\":1000},                        {\"responsive\": true}                    ).then(function(){\n",
              "                            \n",
              "var gd = document.getElementById('74e3e307-60aa-4339-a509-841d5aca4b8a');\n",
              "var x = new MutationObserver(function (mutations, observer) {{\n",
              "        var display = window.getComputedStyle(gd).display;\n",
              "        if (!display || display === 'none') {{\n",
              "            console.log([gd, 'removed!']);\n",
              "            Plotly.purge(gd);\n",
              "            observer.disconnect();\n",
              "        }}\n",
              "}});\n",
              "\n",
              "// Listen for the removal of the full notebook cells\n",
              "var notebookContainer = gd.closest('#notebook-container');\n",
              "if (notebookContainer) {{\n",
              "    x.observe(notebookContainer, {childList: true});\n",
              "}}\n",
              "\n",
              "// Listen for the clearing of the current output cell\n",
              "var outputEl = gd.closest('.output');\n",
              "if (outputEl) {{\n",
              "    x.observe(outputEl, {childList: true});\n",
              "}}\n",
              "\n",
              "                        })                };                            </script>        </div>\n",
              "</body>\n",
              "</html>"
            ]
          },
          "metadata": {}
        }
      ]
    },
    {
      "cell_type": "markdown",
      "source": [
        "After that, we plotted a map showed listings properties distribution in Singapore"
      ],
      "metadata": {
        "id": "lQbQdl2fqTWM"
      }
    },
    {
      "cell_type": "code",
      "source": [
        "fig_map = px.scatter_mapbox(listings, lat='latitude', lon='longitude', hover_name='id',zoom=10, height=500, width=1000)\n",
        "fig_map.update_layout(mapbox_style='open-street-map')\n",
        "fig_map.update_layout(margin={'r':0,'t':0,'l':0,'b':0})\n",
        "fig_map.show()"
      ],
      "metadata": {
        "colab": {
          "base_uri": "https://localhost:8080/",
          "height": 517
        },
        "id": "Wjb7N46ow2Gp",
        "outputId": "2d69bff6-708f-4896-b279-e2d78926089a"
      },
      "execution_count": null,
      "outputs": [
        {
          "output_type": "display_data",
          "data": {
            "text/html": [
              "<html>\n",
              "<head><meta charset=\"utf-8\" /></head>\n",
              "<body>\n",
              "    <div>            <script src=\"https://cdnjs.cloudflare.com/ajax/libs/mathjax/2.7.5/MathJax.js?config=TeX-AMS-MML_SVG\"></script><script type=\"text/javascript\">if (window.MathJax && window.MathJax.Hub && window.MathJax.Hub.Config) {window.MathJax.Hub.Config({SVG: {font: \"STIX-Web\"}});}</script>                <script type=\"text/javascript\">window.PlotlyConfig = {MathJaxConfig: 'local'};</script>\n",
              "        <script src=\"https://cdn.plot.ly/plotly-2.18.2.min.js\"></script>                <div id=\"52923c74-b4c1-46c8-bedc-e23cebe9d3ef\" class=\"plotly-graph-div\" style=\"height:500px; width:1000px;\"></div>            <script type=\"text/javascript\">                                    window.PLOTLYENV=window.PLOTLYENV || {};                                    if (document.getElementById(\"52923c74-b4c1-46c8-bedc-e23cebe9d3ef\")) {                    Plotly.newPlot(                        \"52923c74-b4c1-46c8-bedc-e23cebe9d3ef\",                        [{\"hovertemplate\":\"<b>%{hovertext}</b><br><br>latitude=%{lat}<br>longitude=%{lon}<extra></extra>\",\"hovertext\":[50646.0,71609.0,71896.0,71903.0,275344.0,289234.0,294281.0,324945.0,330089.0,330095.0,344803.0,369141.0,369145.0,395191.0,606784.0,642660.0,696136.0,733863.0,747813.0,747816.0,765579.0,815685.0,833289.0,863139.0,881253.0,915275.0,962594.0,982909.0,1024986.0,1249555.0,1261443.0,1363204.0,1495386.0,1508829.0,1581224.0,1615074.0,1678744.0,1678754.0,1678755.0,1710048.0,1838622.0,1900478.0,1902729.0,1902793.0,1941719.0,2009008.0,2030663.0,2129215.0,2142826.0,2156372.0,2351979.0,2387588.0,2387715.0,2387730.0,2547778.0,2691621.0,2922184.0,2959811.0,3034137.0,3075620.0,3209752.0,3304326.0,3667894.0,3717196.0,3981252.0,4008423.0,4017084.0,4054698.0,4069756.0,4087935.0,4360679.0,4486217.0,4499317.0,4526703.0,4541072.0,4561032.0,4664392.0,4712676.0,4741630.0,4771752.0,4863317.0,4869221.0,4926170.0,4978175.0,4989903.0,5040689.0,5052014.0,5116961.0,5233415.0,5253599.0,5339318.0,5406502.0,5417617.0,5436010.0,5446857.0,5448209.0,5493930.0,5494971.0,5504230.0,5529062.0,5551665.0,5573458.0,5582645.0,5584157.0,5609608.0,5634851.0,5730172.0,5774164.0,5798211.0,5827713.0,5827998.0,5889741.0,5908083.0,5919270.0,6020248.0,6079533.0,6147375.0,6261313.0,6287204.0,6300577.0,6305559.0,6317686.0,6340605.0,6453321.0,6481052.0,6529707.0,6547248.0,6603464.0,6607671.0,6620261.0,6620271.0,6630341.0,6638508.0,6718219.0,6718514.0,6813505.0,6831622.0,6837947.0,6891630.0,7105265.0,7117201.0,7141419.0,7162659.0,7250709.0,7250803.0,7296138.0,7466596.0,7518356.0,7653937.0,7666349.0,7667016.0,7720994.0,7765392.0,7766300.0,7776711.0,7875935.0,7905972.0,7927886.0,7946472.0,7994039.0,8004063.0,8007663.0,8016113.0,8017511.0,8038199.0,8061522.0,8111607.0,8113569.0,8113712.0,8113821.0,8113893.0,8113936.0,8114003.0,8119347.0,8176609.0,8180339.0,8180346.0,8195397.0,8196180.0,8196359.0,8196417.0,8200542.0,8212166.0,8212422.0,8234618.0,8256942.0,8257433.0,8264717.0,8277151.0,8343880.0,8345350.0,8345921.0,8355592.0,8380826.0,8445747.0,8508225.0,8522750.0,8705956.0,8721639.0,8890247.0,8897560.0,8914905.0,9016784.0,9019945.0,9054629.0,9054941.0,9055103.0,9116730.0,9143024.0,9204908.0,9216943.0,9223088.0,9268058.0,9268500.0,9268680.0,9269260.0,9269637.0,9269848.0,9269981.0,9281075.0,9282668.0,9283072.0,9320962.0,9333897.0,9351647.0,9357177.0,9397355.0,9398808.0,9416569.0,9459389.0,9464059.0,9476931.0,9532788.0,9635192.0,9683612.0,9716208.0,9738917.0,9739084.0,9746208.0,9828451.0,9857050.0,9866651.0,9866904.0,9866917.0,9866970.0,9869425.0,9875315.0,9887900.0,9910891.0,9928008.0,9942594.0,9986864.0,10001615.0,10013630.0,10020525.0,10020690.0,10021140.0,10021610.0,10023519.0,10027442.0,10030323.0,10032227.0,10040456.0,10040969.0,10041012.0,10126030.0,10210475.0,10214097.0,10260541.0,10279528.0,10289516.0,10302387.0,10321584.0,10377488.0,10427701.0,10464542.0,10466406.0,10669564.0,10708117.0,10813595.0,11007108.0,11071722.0,11126190.0,11127304.0,11127543.0,11128602.0,11220676.0,11228389.0,11262375.0,11282735.0,11496278.0,11581560.0,11616119.0,11616187.0,11617126.0,11679272.0,11679463.0,11760026.0,11802578.0,11817134.0,11863888.0,11865360.0,11898518.0,11965790.0,11971734.0,11972403.0,11980197.0,12028422.0,12043317.0,12045687.0,12162272.0,12211385.0,12211392.0,12213801.0,12219588.0,12317780.0,12345284.0,12347038.0,12366660.0,12366958.0,12367042.0,12367245.0,12367388.0,12367758.0,12367917.0,12368074.0,12434512.0,12455215.0,12556334.0,12702541.0,12710735.0,12738797.0,12738896.0,12801097.0,12815967.0,12904788.0,12975736.0,13049120.0,13183241.0,13243736.0,13274269.0,13274598.0,13283938.0,13286282.0,13317120.0,13335962.0,13336054.0,13336111.0,13336133.0,13349133.0,13361848.0,13396802.0,13468399.0,13659860.0,13703898.0,13717530.0,13809823.0,13834039.0,13875517.0,13890512.0,13952292.0,13965663.0,13966783.0,13967760.0,14020127.0,14094341.0,14099732.0,14131949.0,14158971.0,14191894.0,14196212.0,14213091.0,14226426.0,14226658.0,14245740.0,14341511.0,14361953.0,14407337.0,14435012.0,14558461.0,14577360.0,14582945.0,14583967.0,14602011.0,14682977.0,14701395.0,14901562.0,14940462.0,14953906.0,15100514.0,15133816.0,15229173.0,15260342.0,15310627.0,15364942.0,15365213.0,15367409.0,15379742.0,15406706.0,15430456.0,15441196.0,15454153.0,15455706.0,15475788.0,15487894.0,15492056.0,15508557.0,15538540.0,15544996.0,15589669.0,15619288.0,15634389.0,15687109.0,15722252.0,15727280.0,15749275.0,15765810.0,15773382.0,15775439.0,15775531.0,15790995.0,15792137.0,15792808.0,15813099.0,15893111.0,15918822.0,15919067.0,15919162.0,15933531.0,15991345.0,16005440.0,16006904.0,16007139.0,16036564.0,16044788.0,16054752.0,16057988.0,16059067.0,16110969.0,16118606.0,16140165.0,16149105.0,16149534.0,16149684.0,16150227.0,16150642.0,16155549.0,16183428.0,16185665.0,16206947.0,16209070.0,16213146.0,16213361.0,16220808.0,16243464.0,16260783.0,16309636.0,16351730.0,16367233.0,16370834.0,16395877.0,16424205.0,16427874.0,16428014.0,16429519.0,16462052.0,16477283.0,16495388.0,16502098.0,16503238.0,16519375.0,16522880.0,16524551.0,16552273.0,16565287.0,16578603.0,16650721.0,16677104.0,16701352.0,16742820.0,16743909.0,16750061.0,16758638.0,16798945.0,16832754.0,16846533.0,16848828.0,16881298.0,16947051.0,16964241.0,16966634.0,16985394.0,16988242.0,17016908.0,17037625.0,17110437.0,17112396.0,17123186.0,17179470.0,17275135.0,17325640.0,17454856.0,17483368.0,17488373.0,17519803.0,17626886.0,17643521.0,17672050.0,17736530.0,17740089.0,17766467.0,17768467.0,17769862.0,17798438.0,17798496.0,17812922.0,17813026.0,17813122.0,17814377.0,17863026.0,17868078.0,17868090.0,17899942.0,17927897.0,17928170.0,17928273.0,17929045.0,17929049.0,17929480.0,17947055.0,17949590.0,18052476.0,18086207.0,18109887.0,18117026.0,18151459.0,18166182.0,18169687.0,18180874.0,18184250.0,18199481.0,18202395.0,18203227.0,18235755.0,18253219.0,18286281.0,18342015.0,18388608.0,18395154.0,18421322.0,18434466.0,18452100.0,18484277.0,18508828.0,18513959.0,18585234.0,18674998.0,18675202.0,18722082.0,18784667.0,18796296.0,18858584.0,18905203.0,18955694.0,18978986.0,19011616.0,19056267.0,19101560.0,19107598.0,19132856.0,19152646.0,19200431.0,19218794.0,19231371.0,19258336.0,19282261.0,19490734.0,19534648.0,19535251.0,19575817.0,19575854.0,19595827.0,19615505.0,19648215.0,19652882.0,19720477.0,19731540.0,19774490.0,19774868.0,19831199.0,19895150.0,20016031.0,20016671.0,20065234.0,20067131.0,20084815.0,20181595.0,20181917.0,20181944.0,20247516.0,20268188.0,20363687.0,20459428.0,20468114.0,20493116.0,20512779.0,20539655.0,20625688.0,20625726.0,20625773.0,20631625.0,20658143.0,20659099.0,20754763.0,20775615.0,20778113.0,20791161.0,20803693.0,20806898.0,20822762.0,20823632.0,20824274.0,20856422.0,20865016.0,20888336.0,20904654.0,20984770.0,20991586.0,21004249.0,21013726.0,21015410.0,21015787.0,21044947.0,21049838.0,21050025.0,21061607.0,21116801.0,21145943.0,21147846.0,21154124.0,21214988.0,21283595.0,21358634.0,21402272.0,21415749.0,21416331.0,21416445.0,21419965.0,21420790.0,21462227.0,21552874.0,21553387.0,21605333.0,21618684.0,21630469.0,21650745.0,21658483.0,21670282.0,21671407.0,21693605.0,21703476.0,21717466.0,21718303.0,21722898.0,21723053.0,21793363.0,21803237.0,21806277.0,21854678.0,21854687.0,21865119.0,21887155.0,21888054.0,21888290.0,21916263.0,21927257.0,21928795.0,21937326.0,21970302.0,22000266.0,22003689.0,22007320.0,22019165.0,22021287.0,22051870.0,22051992.0,22090557.0,22090561.0,22090563.0,22090931.0,22114845.0,22116641.0,22133845.0,22143968.0,22158920.0,22177543.0,22193170.0,22196788.0,22214451.0,22233862.0,22267147.0,22270822.0,22302149.0,22310009.0,22319573.0,22329509.0,22329702.0,22330042.0,22330144.0,22330228.0,22330294.0,22345943.0,22348216.0,22361966.0,22376153.0,22395492.0,22424797.0,22425260.0,22425577.0,22425767.0,22426003.0,22441995.0,22454647.0,22469925.0,22475917.0,22499652.0,22541552.0,22544362.0,22561172.0,22577896.0,22588306.0,22590845.0,22594189.0,22627321.0,22646095.0,22666446.0,22708024.0,22719308.0,22720008.0,22733377.0,22745179.0,22760803.0,22798533.0,22826338.0,22874441.0,22889194.0,22890318.0,22912035.0,22912163.0,22918883.0,22971370.0,22990388.0,22990457.0,22994369.0,23015765.0,23046881.0,23048720.0,23052237.0,23070535.0,23072323.0,23080358.0,23083547.0,23084195.0,23093266.0,23094299.0,23097015.0,23099986.0,23169041.0,23249199.0,23256379.0,23258478.0,23277237.0,23318905.0,23348921.0,23360633.0,23361035.0,23362375.0,23362544.0,23380147.0,23380199.0,23380807.0,23380866.0,23449604.0,23457264.0,23496793.0,23509109.0,23518007.0,23598682.0,23604711.0,23615455.0,23658989.0,23693616.0,23733935.0,23760158.0,23861900.0,23862116.0,23874999.0,23931105.0,23952104.0,23968956.0,23999726.0,24014075.0,24023173.0,24025735.0,24030192.0,24048644.0,24125960.0,24161078.0,24211014.0,24212593.0,24299476.0,24300044.0,24345695.0,24420175.0,24435157.0,24447655.0,24500374.0,24506349.0,24528929.0,24545780.0,24546514.0,24569607.0,24571017.0,24594306.0,24606096.0,24609199.0,24618190.0,24631182.0,24635669.0,24636266.0,24636530.0,24660198.0,24682695.0,24720145.0,24725185.0,24741587.0,24761439.0,24763374.0,24763494.0,24763572.0,24763675.0,24765067.0,24765141.0,24765195.0,24785006.0,24785613.0,24787313.0,24816970.0,24818719.0,24834130.0,24835791.0,24855606.0,24857166.0,24863189.0,24900530.0,24919927.0,24924507.0,24972169.0,25022657.0,25072921.0,25087117.0,25096569.0,25130085.0,25141849.0,25143591.0,25183317.0,25183623.0,25183926.0,25184205.0,25218283.0,25306072.0,25306664.0,25324517.0,25353206.0,25360027.0,25364632.0,25366424.0,25385698.0,25402824.0,25424295.0,25432123.0,25435388.0,25552819.0,25632240.0,25711980.0,25765385.0,25797887.0,25815030.0,25835095.0,25860399.0,25877353.0,25892078.0,25899420.0,25909373.0,25926356.0,25927281.0,25949294.0,25953564.0,25958446.0,25963531.0,25985995.0,26024853.0,26093121.0,26143135.0,26175477.0,26183286.0,26207243.0,26217724.0,26242576.0,26290123.0,26290281.0,26293068.0,26294850.0,26369349.0,26382243.0,26432259.0,26435923.0,26581203.0,26583889.0,26584687.0,26609511.0,26672993.0,26706445.0,26722862.0,26787960.0,26791029.0,26815963.0,26822021.0,26849028.0,26853356.0,26857526.0,26878114.0,26965345.0,26973231.0,27008641.0,27041512.0,27069141.0,27091696.0,27125463.0,27141929.0,27173843.0,27174440.0,27191619.0,27248990.0,27292304.0,27339811.0,27343211.0,27406451.0,27419905.0,27422204.0,27513236.0,27513625.0,27532454.0,27581552.0,27581596.0,27618905.0,27681745.0,27709128.0,27804407.0,27816487.0,27822957.0,27858471.0,27882577.0,27889309.0,27978202.0,28000993.0,28038349.0,28054617.0,28165463.0,28198324.0,28212124.0,28230827.0,28261272.0,28264364.0,28268681.0,28321986.0,28348653.0,28369982.0,28373898.0,28522862.0,28536238.0,28554196.0,28601709.0,28635314.0,28649449.0,28657973.0,28675203.0,28700151.0,28715382.0,28741796.0,28772425.0,28788262.0,28789540.0,28794509.0,28998042.0,28998072.0,28998095.0,28998145.0,28998161.0,28998181.0,28998191.0,29004607.0,29011901.0,29015768.0,29020376.0,29044276.0,29046718.0,29049813.0,29072228.0,29076794.0,29078458.0,29089091.0,29089124.0,29093738.0,29171020.0,29180163.0,29202127.0,29206228.0,29216323.0,29216939.0,29217359.0,29217558.0,29219186.0,29221745.0,29222057.0,29222461.0,29222613.0,29295230.0,29302695.0,29319213.0,29319567.0,29319686.0,29320287.0,29320487.0,29320724.0,29325647.0,29344002.0,29355663.0,29355884.0,29525240.0,29525299.0,29525417.0,29525922.0,29525951.0,29526074.0,29528124.0,29552115.0,29552643.0,29554536.0,29557949.0,29579499.0,29580481.0,29581373.0,29634299.0,29639401.0,29665238.0,29694042.0,29725544.0,29745033.0,29748761.0,29766368.0,29768127.0,29768671.0,29819422.0,29837000.0,29860691.0,29880877.0,29896147.0,29907146.0,29908436.0,29939464.0,29956433.0,29967621.0,29977184.0,29977663.0,29994693.0,29994826.0,29995199.0,29995470.0,29996505.0,30017848.0,30024441.0,30046001.0,30046453.0,30058572.0,30059140.0,30082443.0,30092896.0,30095731.0,30167617.0,30180540.0,30188702.0,30215216.0,30234271.0,30261514.0,30280422.0,30335491.0,30354713.0,30355115.0,30355555.0,30357414.0,30380985.0,30385249.0,30385261.0,30385269.0,30385291.0,30385453.0,30410480.0,30416732.0,30417950.0,30431950.0,30434753.0,30453430.0,30494592.0,30520209.0,30520904.0,30543386.0,30570119.0,30578632.0,30583145.0,30650792.0,30682392.0,30687199.0,30702031.0,30704994.0,30715503.0,30747572.0,30776617.0,30778537.0,30783602.0,30784099.0,30878734.0,30948785.0,30966211.0,30974509.0,30978248.0,31000501.0,31002918.0,31003554.0,31023370.0,31076045.0,31081282.0,31107843.0,31112721.0,31114726.0,31129905.0,31151206.0,31155160.0,31196834.0,31214273.0,31218304.0,31219674.0,31220444.0,31231201.0,31270408.0,31275547.0,31276318.0,31294965.0,31321306.0,31325546.0,31348508.0,31357872.0,31365860.0,31370393.0,31388088.0,31388380.0,31388874.0,31424549.0,31428108.0,31435898.0,31452652.0,31473428.0,31499086.0,31568071.0,31573008.0,31580172.0,31580959.0,31581810.0,31599192.0,31604515.0,31604616.0,31630407.0,31657383.0,31658769.0,31687465.0,31720667.0,31722950.0,31807637.0,31812483.0,31822381.0,31840078.0,31866061.0,31886652.0,31896873.0,31947538.0,31959810.0,31960343.0,31960810.0,31965730.0,32001189.0,32003564.0,32035890.0,32052757.0,32071510.0,32073283.0,32074712.0,32074925.0,32171204.0,32194580.0,32203558.0,32205289.0,32223363.0,32223767.0,32295511.0,32300087.0,32303894.0,32351804.0,32370647.0,32373558.0,32375403.0,32376196.0,32394595.0,32411075.0,32473828.0,32474715.0,32475586.0,32477168.0,32482175.0,32482957.0,32486084.0,32488562.0,32526213.0,32527723.0,32533341.0,32534020.0,32576311.0,32583922.0,32596089.0,32649410.0,32659196.0,32671732.0,32671831.0,32674810.0,32723994.0,32729464.0,32729775.0,32732351.0,32748783.0,32767858.0,32773291.0,32777995.0,32797310.0,32818697.0,32818879.0,32821771.0,32822582.0,32822945.0,32832467.0,32846195.0,32854955.0,32857394.0,32873124.0,32873190.0,32874731.0,32906878.0,32908981.0,32949187.0,32949544.0,32949997.0,33028364.0,33029085.0,33050854.0,33060127.0,33061316.0,33061606.0,33076582.0,33078733.0,33079469.0,33081780.0,33085177.0,33085362.0,33087310.0,33098686.0,33102270.0,33119907.0,33147781.0,33155188.0,33172664.0,33175321.0,33204190.0,33208103.0,33208709.0,33216747.0,33238214.0,33255867.0,33282970.0,33298079.0,33298260.0,33321325.0,33330793.0,33336025.0,33367673.0,33376051.0,33388955.0,33394388.0,33405725.0,33432157.0,33460906.0,33477122.0,33490643.0,33500731.0,33502141.0,33515578.0,33536365.0,33544292.0,33573944.0,33596370.0,33604276.0,33619398.0,33622349.0,33669171.0,33694743.0,33721523.0,33722089.0,33722374.0,33734018.0,33738679.0,33750593.0,33753429.0,33758681.0,33764686.0,33785777.0,33792104.0,33815699.0,33872338.0,33885719.0,33885738.0,33888989.0,33894843.0,33897585.0,33944832.0,33948359.0,33948416.0,33957956.0,33974072.0,33981233.0,33982757.0,33999107.0,34010187.0,34030772.0,34043172.0,34051715.0,34052336.0,34066811.0,34067159.0,34068805.0,34071208.0,34071837.0,34072244.0,34073545.0,34076777.0,34082010.0,34116324.0,34125966.0,34127447.0,34183884.0,34184363.0,34186257.0,34188337.0,34210060.0,34236667.0,34243743.0,34271538.0,34288316.0,34318568.0,34344471.0,34346401.0,34373954.0,34380378.0,34398303.0,34403982.0,34405820.0,34448125.0,34449857.0,34454047.0,34479465.0,34485647.0,34489654.0,34517790.0,34526007.0,34545618.0,34546962.0,34579286.0,34608714.0,34654117.0,34706088.0,34707349.0,34725687.0,34733071.0,34777535.0,34788406.0,34790062.0,34792375.0,34804905.0,34819352.0,34870345.0,34909010.0,34909012.0,34930444.0,34932388.0,34949534.0,34951369.0,34964444.0,34990577.0,35018771.0,35026116.0,35030220.0,35069305.0,35069515.0,35077531.0,35077950.0,35082329.0,35102472.0,35102718.0,35105091.0,35133483.0,35168576.0,35181133.0,35183235.0,35185731.0,35185755.0,35185822.0,35208177.0,35237622.0,35255294.0,35274765.0,35294824.0,35296836.0,35300552.0,35300977.0,35302676.0,35320113.0,35328831.0,35334931.0,35335972.0,35336070.0,35363901.0,35396427.0,35397761.0,35429425.0,35469684.0,35471887.0,35477254.0,35483332.0,35483354.0,35483358.0,35499426.0,35505259.0,35505740.0,35506195.0,35506661.0,35618178.0,35628829.0,35629196.0,35656521.0,35656871.0,35693228.0,35742330.0,35744548.0,35747289.0,35818107.0,35845573.0,35867267.0,35878570.0,35883311.0,35883439.0,35885309.0,35946811.0,35961334.0,36003763.0,36008984.0,36009935.0,36010500.0,36013750.0,36016056.0,36080117.0,36085169.0,36085663.0,36114200.0,36115323.0,36115548.0,36122224.0,36129690.0,36130393.0,36131561.0,36151095.0,36151297.0,36156090.0,36156663.0,36168477.0,36169364.0,36214603.0,36216542.0,36226718.0,36252767.0,36285087.0,36285346.0,36311892.0,36319795.0,36324726.0,36325967.0,36333873.0,36354920.0,36362495.0,36380876.0,36461692.0,36490863.0,36530311.0,36570785.0,36589334.0,36611492.0,36618900.0,36652759.0,36681333.0,36721013.0,36738948.0,36760495.0,36784672.0,36785495.0,36787639.0,36807123.0,36808814.0,36812227.0,36821420.0,36852543.0,36854876.0,36855460.0,36855972.0,36857064.0,36857645.0,36860135.0,36955031.0,36983957.0,36984215.0,36989732.0,37023580.0,37024988.0,37105122.0,37108652.0,37111118.0,37169326.0,37192695.0,37217634.0,37218183.0,37219959.0,37219965.0,37219969.0,37219971.0,37234668.0,37236875.0,37257081.0,37274297.0,37301624.0,37302795.0,37312985.0,37313724.0,37314737.0,37334803.0,37344187.0,37375089.0,37379041.0,37380697.0,37419221.0,37425078.0,37444884.0,37513508.0,37538230.0,37551948.0,37552678.0,37576164.0,37586357.0,37587133.0,37604343.0,37629262.0,37646663.0,37647172.0,37648135.0,37651967.0,37693047.0,37757787.0,37794307.0,37813120.0,37825175.0,37887742.0,37905248.0,37916346.0,37924217.0,37947662.0,37948665.0,37948940.0,37951763.0,37958355.0,37965595.0,37965845.0,37975209.0,37980033.0,37981411.0,37981670.0,37981883.0,37982840.0,37983056.0,37984003.0,37984348.0,37984441.0,37984524.0,37986233.0,37986704.0,37987025.0,37999599.0,38005247.0,38007330.0,38026889.0,38033643.0,38034121.0,38035489.0,38056679.0,38134713.0,38134715.0,38134989.0,38147122.0,38166428.0,38171044.0,38199255.0,38203576.0,38205101.0,38220130.0,38221330.0,38222721.0,38223985.0,38224142.0,38224254.0,38224491.0,38250487.0,38305984.0,38307308.0,38307486.0,38308020.0,38388737.0,38395413.0,38395825.0,38416386.0,38417543.0,38417844.0,38471875.0,38478522.0,38498535.0,38523541.0,38526126.0,38530815.0,38564601.0,38639800.0,38649039.0,38684124.0,38689546.0,38704993.0,38713825.0,38735078.0,38735289.0,38735661.0,38788624.0,38824582.0,38824684.0,38835146.0,38837741.0,38841976.0,38860178.0,38885835.0,38910295.0,38914093.0,38915453.0,38915787.0,38916143.0,38921741.0,38935611.0,38939902.0,38952469.0,38964844.0,38965851.0,38986386.0,38986709.0,38987390.0,38989495.0,39011692.0,39014250.0,39014610.0,39038269.0,39062013.0,39091589.0,39095087.0,39097636.0,39115031.0,39116921.0,39118098.0,39119215.0,39119402.0,39119415.0,39119455.0,39123066.0,39126987.0,39147495.0,39158146.0,39160099.0,39169272.0,39179244.0,39186535.0,39212348.0,39212874.0,39214180.0,39273219.0,39281565.0,39293663.0,39293936.0,39293959.0,39301638.0,39338786.0,39342481.0,39345579.0,39349086.0,39380253.0,39401038.0,39401945.0,39403510.0,39404193.0,39404728.0,39404880.0,39405623.0,39406103.0,39406409.0,39406586.0,39423497.0,39424914.0,39434525.0,39448392.0,39451138.0,39451764.0,39488084.0,39545869.0,39571129.0,39586235.0,39589304.0,39603119.0,39612598.0,39638066.0,39653480.0,39657837.0,39679521.0,39689162.0,39701314.0,39732595.0,39741627.0,39741652.0,39757287.0,39759499.0,39783300.0,39811470.0,39822559.0,39824181.0,39869822.0,39885622.0,39900195.0,39903730.0,39906363.0,39928120.0,39928443.0,39930052.0,39930544.0,39931393.0,39940503.0,39952401.0,39952459.0,39956760.0,39960211.0,39975826.0,39977785.0,39995191.0,40043690.0,40095064.0,40096380.0,40119515.0,40122145.0,40138918.0,40149431.0,40185785.0,40194237.0,40198092.0,40211954.0,40213569.0,40226189.0,40267527.0,40267722.0,40269661.0,40294463.0,40295685.0,40311823.0,40313848.0,40314128.0,40314515.0,40315763.0,40316461.0,40321693.0,40332576.0,40333105.0,40351507.0,40352618.0,40354419.0,40354655.0,40361907.0,40382084.0,40382913.0,40384948.0,40385058.0,40389032.0,40417247.0,40429000.0,40435925.0,40435928.0,40456301.0,40479903.0,40509365.0,40516462.0,40524022.0,40551114.0,40551638.0,40552643.0,40567661.0,40571566.0,40576501.0,40576881.0,40583120.0,40597192.0,40597586.0,40601543.0,40605925.0,40634584.0,40641448.0,40642051.0,40642810.0,40647274.0,40649820.0,40657576.0,40663631.0,40663975.0,40681844.0,40687175.0,40690201.0,40708485.0,40712481.0,40715608.0,40723858.0,40736423.0,40737307.0,40745871.0,40748133.0,40752825.0,40765359.0,40769351.0,40774447.0,40789842.0,40791649.0,40809878.0,40816592.0,40831251.0,40833390.0,40845971.0,40849480.0,40850159.0,40856084.0,40897171.0,40901829.0,40902252.0,40904017.0,40904149.0,40904264.0,40904925.0,40905313.0,40905639.0,40913354.0,40921448.0,40928860.0,40933623.0,40936924.0,40953263.0,40966161.0,40966385.0,40972807.0,40974363.0,40974569.0,40975409.0,40975518.0,40975603.0,40975736.0,40976083.0,40983826.0,41014661.0,41014693.0,41019742.0,41030524.0,41032597.0,41032965.0,41033173.0,41036854.0,41037840.0,41050691.0,41076836.0,41077161.0,41087343.0,41089548.0,41090834.0,41090879.0,41091240.0,41091895.0,41112238.0,41113712.0,41116039.0,41116137.0,41116342.0,41117291.0,41120765.0,41125664.0,41135982.0,41138711.0,41139389.0,41158163.0,41159508.0,41160357.0,41162396.0,41163344.0,41163746.0,41198896.0,41201809.0,41202185.0,41202680.0,41244407.0,41296812.0,41299030.0,41299496.0,41303291.0,41305105.0,41307190.0,41323209.0,41326546.0,41328069.0,41388877.0,41414245.0,41419891.0,41424664.0,41439350.0,41439736.0,41460941.0,41467431.0,41476885.0,41481981.0,41482560.0,41509578.0,41536506.0,41544529.0,41566195.0,41568582.0,41570615.0,41574169.0,41606210.0,41610819.0,41611248.0,41613235.0,41626102.0,41650236.0,41652432.0,41694844.0,41702953.0,41703280.0,41777146.0,41804607.0,41889066.0,41895257.0,41916193.0,41926070.0,41940620.0,41942466.0,41948477.0,41966894.0,41970974.0,41994916.0,42011728.0,42023190.0,42078528.0,42078541.0,42078673.0,42078694.0,42078708.0,42078824.0,42078847.0,42078954.0,42078973.0,42079081.0,42079535.0,42079889.0,42081657.0,42084241.0,42085924.0,42104353.0,42104603.0,42105787.0,42124141.0,42144452.0,42184804.0,42186946.0,42190445.0,42214291.0,42238629.0,42239864.0,42240675.0,42259371.0,42273857.0,42301284.0,42301881.0,42307843.0,42337652.0,42337799.0,42338112.0,42387497.0,42417293.0,42418964.0,42461130.0,42462883.0,42464072.0,42464820.0,42545364.0,42545761.0,42545850.0,42545986.0,42546018.0,42546223.0,42552864.0,42555321.0,42555446.0,42555518.0,42555592.0,42555640.0,42569842.0,42588720.0,42614021.0,42630156.0,42654230.0,42660661.0,42670574.0,42672097.0,42677703.0,42678905.0,42693235.0,42696868.0,42697304.0,42700800.0,42725125.0,42750393.0,42752743.0,42753075.0,42765297.0,42765372.0,42780473.0,42796311.0,42804408.0,42813500.0,42867108.0,42872451.0,42885763.0,42885911.0,42885950.0,42886241.0,42886645.0,42898181.0,42898315.0,42913012.0,42917601.0,42931312.0,42932845.0,42933385.0,42945709.0,42945867.0,42946035.0,42946226.0,42956618.0,42956982.0,42968514.0,42968688.0,42983733.0,42992160.0,43006410.0,43006583.0,43015409.0,43032974.0,43041408.0,43054633.0,43055185.0,43057362.0,43057582.0,43063719.0,43064371.0,43073874.0,43080765.0,43092034.0,43106766.0,43107113.0,43107491.0,43108706.0,43112898.0,43118642.0,43120283.0,43120435.0,43120799.0,43121186.0,43121342.0,43129509.0,43129915.0,43137062.0,43137994.0,43143057.0,43143093.0,43143215.0,43145328.0,43145924.0,43177325.0,43183219.0,43183486.0,43183832.0,43193534.0,43193779.0,43194004.0,43194247.0,43201822.0,43210710.0,43249498.0,43250927.0,43254119.0,43263545.0,43313632.0,43313813.0,43322368.0,43328896.0,43328947.0,43336673.0,43337094.0,43337384.0,43344197.0,43354292.0,43354914.0,43355016.0,43358921.0,43359021.0,43359087.0,43359359.0,43359426.0,43379651.0,43379899.0,43386979.0,43406519.0,43407835.0,43408005.0,43414572.0,43424855.0,43452908.0,43470371.0,43470673.0,43481271.0,43481361.0,43492077.0,43492196.0,43493044.0,43493128.0,43537475.0,43537553.0,43537846.0,43540328.0,43584129.0,43629592.0,43684578.0,43706347.0,43709414.0,43711437.0,43720910.0,43723774.0,43737197.0,43744659.0,43745260.0,43786778.0,43795151.0,43810108.0,43810147.0,43821293.0,43854512.0,43857309.0,43864880.0,43920230.0,43922476.0,43947546.0,43967100.0,43988047.0,43988375.0,43989681.0,43993989.0,44069414.0,44090296.0,44091450.0,44157020.0,44158699.0,44159363.0,44170477.0,44185491.0,44187191.0,44238246.0,44255450.0,44268413.0,44283744.0,44294078.0,44323246.0,44407293.0,44420536.0,44454099.0,44514530.0,44522612.0,44525671.0,44540501.0,44599757.0,44626865.0,44653740.0,44654768.0,44655207.0,44828384.0,44829931.0,44927036.0,45005221.0,45007102.0,45050782.0,45059473.0,45069032.0,45069101.0,45081693.0,45107551.0,45109853.0,45131086.0,45133990.0,45134515.0,45144359.0,45144535.0,45147927.0,45149158.0,45149222.0,45167077.0,45197424.0,45277528.0,45280147.0,45293242.0,45294520.0,45294592.0,45294690.0,45294725.0,45309940.0,45319306.0,45327646.0,45352577.0,45353225.0,45356075.0,45414191.0,45440469.0,45440615.0,45474205.0,45474953.0,45491502.0,45524524.0,45533543.0,45537334.0,45549184.0,45598203.0,45626850.0,45626910.0,45662807.0,45678578.0,45680876.0,45705715.0,45707751.0,45772597.0,45773295.0,45773404.0,45773494.0,45773595.0,45773723.0,45777993.0,45778518.0,45779393.0,45793222.0,45793332.0,45793419.0,45803322.0,45803343.0,45808942.0,45809564.0,45815402.0,45835431.0,45855332.0,45871634.0,45895673.0,45901284.0,45901761.0,45902566.0,45918725.0,45945180.0,45948749.0,45949989.0,45961316.0,45962405.0,45962495.0,45962749.0,45963685.0,46000906.0,46028608.0,46031509.0,46056640.0,46057282.0,46057773.0,46057791.0,46058773.0,46073890.0,46075495.0,46108799.0,46114490.0,46144509.0,46144841.0,46145057.0,46178304.0,46190913.0,46227861.0,46232391.0,46266405.0,46266507.0,46267947.0,46287914.0,46321781.0,46322024.0,46388294.0,46456107.0,46473348.0,46474181.0,46475439.0,46475535.0,46475821.0,46475943.0,46476119.0,46476300.0,46476407.0,46482752.0,46491972.0,46517859.0,46589101.0,46589304.0,46590239.0,46590765.0,46591065.0,46605955.0,46606151.0,46606472.0,46615918.0,46669109.0,46681365.0,46684451.0,46685647.0,46686341.0,46698429.0,46698961.0,46702669.0,46742348.0,46744465.0,46803536.0,46862433.0,46862819.0,46889730.0,46933172.0,46939877.0,46972061.0,46973148.0,46979391.0,47037652.0,47060269.0,47124048.0,47134349.0,47145360.0,47146644.0,47188396.0,47215140.0,47259456.0,47295315.0,47295571.0,47295577.0,47295777.0,47296644.0,47296851.0,47305069.0,47326826.0,47398022.0,47460138.0,47477733.0,47504496.0,47537021.0,47555385.0,47736858.0,47774321.0,47775611.0,47778000.0,47789812.0,47819395.0,47838915.0,47895132.0,47911042.0,47911419.0,47911477.0,47912630.0,47912755.0,47912877.0,47931824.0,47942504.0,47945468.0,47945578.0,47945703.0,47945986.0,48000883.0,48007776.0,48019222.0,48019325.0,48019417.0,48019515.0,48033280.0,48033351.0,48033436.0,48034619.0,48082868.0,48085243.0,48098802.0,48113748.0,48127824.0,48141431.0,48153394.0,48176330.0,48191140.0,48192343.0,48246660.0,48261012.0,48265114.0,48265411.0,48289999.0,48290212.0,48290423.0,48290548.0,48290687.0,48313505.0,48320200.0,48334239.0,48409784.0,48510579.0,48531971.0,48591557.0,48591933.0,48593056.0,48613065.0,48614070.0,48634096.0,48635111.0,48663016.0,48663062.0,48663299.0,48688017.0,48723619.0,48725792.0,48743492.0,48816051.0,48856473.0,48914349.0,48924200.0,48950684.0,49048346.0,49048569.0,49064964.0,49079654.0,49080063.0,49081728.0,49082170.0,49082424.0,49082585.0,49083516.0,49083651.0,49087160.0,49099456.0,49099810.0,49100433.0,49103141.0,49106741.0,49133042.0,49209267.0,49408255.0,49428269.0,49445304.0,49448157.0,49523939.0,49577387.0,49597391.0,49617746.0,49638361.0,49693917.0,49863259.0,49864430.0,49893407.0,49896709.0,49937277.0,49939967.0,49951302.0,49990549.0,50199435.0,50229786.0,50255816.0,50278378.0,50294480.0,50333798.0,50340792.0,50341445.0,50402384.0,50424407.0,50433019.0,50476069.0,50482195.0,50492656.0,50493423.0,50493546.0,50493982.0,50537862.0,50538895.0,50551854.0,50562391.0,50586056.0,50719175.0,50732473.0,50732541.0,50732900.0,50733196.0,50733227.0,50742155.0,50817573.0,50823476.0,50844665.0,51002244.0,51075477.0,51075717.0,51076382.0,51091286.0,51122058.0,51122424.0,51131949.0,51137361.0,51223656.0,51246884.0,51338514.0,51357661.0,51395340.0,51462386.0,51475066.0,51476593.0,51477667.0,51498491.0,51498894.0,51514279.0,51514416.0,51515637.0,51548417.0,51549950.0,51551623.0,51573604.0,51586919.0,51593286.0,51647688.0,51660574.0,51660773.0,51661055.0,51661224.0,51676330.0,51680260.0,51714695.0,51715077.0,51715174.0,51715392.0,51759139.0,51782378.0,51809454.0,51809755.0,51833418.0,51863280.0,51898390.0,51899564.0,51931255.0,51931450.0,51931632.0,51946794.0,51946940.0,51947045.0,51996111.0,51997726.0,52062009.0,52062197.0,52103756.0,52120623.0,52136874.0,52157275.0,52216017.0,52272864.0,52274401.0,52289477.0,52301070.0,52312464.0,52333034.0,52333311.0,52357276.0,52357563.0,52357696.0,52357956.0,52358231.0,52359332.0,52360450.0,52374175.0,52395633.0,52396348.0,52437613.0,52464204.0,52522468.0,52525344.0,52525651.0,52545178.0,52545251.0,52574199.0,52575543.0,52575637.0,52604174.0,52644962.0,52646026.0,52663333.0,52664352.0,52666391.0,52680716.0,52681365.0,52699740.0,52728856.0,52767590.0,52780453.0,52780594.0,52786412.0,52800131.0,52815766.0,52820148.0,52822251.0,52844806.0,52876013.0,52889970.0,52910692.0,52928963.0,52929689.0,52970740.0,52970813.0,52977792.0,53000749.0,53038612.0,53057197.0,53057294.0,53070791.0,53071840.0,53072633.0,53073961.0,53084699.0,53100793.0,53103357.0,53108703.0,53117931.0,53118532.0,53119442.0,53122920.0,53123488.0,53137763.0,53137769.0,53166174.0,53174657.0,53174768.0,53175494.0,53175628.0,53175850.0,53181539.0,53190609.0,53193333.0,53196067.0,53196481.0,53197091.0,53197190.0,53197200.0,53205723.0,53209302.0,53209592.0,53222711.0,53240998.0,53243221.0,53260515.0,53260824.0,53270162.0,53280269.0,53280771.0,53281701.0,53284031.0,53284064.0,53284331.0,53298197.0,53300627.0,53301824.0,53306968.0,53316636.0,53317101.0,53317236.0,53319368.0,53337254.0,53344615.0,53345335.0,53345776.0,53345938.0,53346651.0,53355259.0,53355331.0,53355991.0,53370046.0,53374562.0,53374606.0,53375485.0,53387459.0,53388036.0,53390670.0,53401963.0,53405061.0,53406678.0,53439229.0,53465105.0,53465265.0,53465478.0,53483449.0,53500702.0,53503028.0,53503062.0,53508563.0,53509366.0,53525967.0,53527035.0,53540260.0,53547822.0,53548237.0,53553268.0,53564318.0,53577728.0,53577944.0,53579193.0,53579454.0,53584406.0,53597569.0,53597623.0,53597904.0,53618034.0,53622188.0,53632741.0,53633752.0,53669152.0,53669943.0,53680291.0,53692600.0,53697187.0,53697444.0,53709364.0,53709903.0,53710983.0,53711209.0,53711698.0,53713165.0,53713864.0,53745162.0,53749794.0,53773037.0,53779436.0,53802315.0,53802906.0,53818539.0,53819000.0,53819918.0,53819947.0,53821034.0,53836629.0,53836902.0,53853166.0,53854407.0,53855956.0,53857426.0,53882913.0,53882915.0,53883858.0,53884012.0,53884809.0,53905492.0,53905653.0,53910005.0,53910434.0,53943727.0,53944634.0,53961054.0,53965164.0,53972837.0,53983531.0,53986940.0,53988034.0,53995095.0,54008210.0,54009687.0,54024293.0,54025814.0,54042568.0,54043765.0,54048163.0,54057007.0,54060493.0,54061501.0,54076340.0,54088327.0,54113136.0,54117381.0,54117410.0,54117426.0,54117438.0,54154999.0,54186804.0,54187024.0,54187102.0,54188325.0,54204802.0,54205551.0,54205610.0,54214469.0,54214679.0,54216228.0,54219139.0,54219241.0,54219324.0,54219421.0,54237144.0,54268944.0,54269851.0,54269865.0,54281996.0,54282230.0,54283891.0,54284039.0,54295935.0,54311165.0,54320784.0,54334197.0,54350213.0,54351046.0,54354117.0,54360489.0,54381837.0,54382047.0,5.147964565539709e+17,5.360243867285178e+17,5.388990960486265e+17,5.401703216996897e+17,5.403645020906409e+17,5.42953504353474e+17,5.4602491853773306e+17,5.482055628923744e+17,5.489608385759454e+17,5.4918656138271386e+17,5.492298883455588e+17,5.495842705158085e+17,5.499686910519075e+17,5.503278193932516e+17,5.5033096515430304e+17,5.5168044411146554e+17,5.517008123825022e+17,5.517184331604036e+17,5.5172155679187424e+17,5.517226535322986e+17,5.5172500468141005e+17,5.5172904318349165e+17,5.525227216854769e+17,5.525796209160195e+17,5.5350530180472915e+17,5.542843369358256e+17,5.554852457756534e+17,5.575836987945782e+17,5.584665657601519e+17,5.590562488851167e+17,5.5996147399275744e+17,5.600197055246435e+17,5.605675958902391e+17,5.6122897792385306e+17,5.618453438363402e+17,5.626059713816131e+17,5.626356887540861e+17,5.6331368980925645e+17,5.634040091162647e+17,5.6352773612984314e+17,5.6359634464358246e+17,5.635968091774449e+17,5.636183638605432e+17,5.6387679799156986e+17,5.639876339299405e+17,5.669966190798185e+17,5.670118690541687e+17,5.672253062597962e+17,5.676741570946474e+17,5.679107890871909e+17,5.6831035469256205e+17,5.6846744789531923e+17,5.691788713667257e+17,5.6922500932798534e+17,5.698683265256166e+17,5.699033915903419e+17,5.70021053543594e+17,5.713442983053351e+17,5.7135276057649114e+17,5.713785469434394e+17,5.7210373418467014e+17,5.72118628246638e+17,5.723032850403623e+17,5.730692938420996e+17,5.735939596430818e+17,5.763063527297829e+17,5.764648057083316e+17,5.76477072160181e+17,5.777544197594258e+17,5.785148141691148e+17,5.793308717137157e+17,5.799780138126936e+17,5.801419595543894e+17,5.802265969633527e+17,5.832747236115452e+17,5.832880244992754e+17,5.844164278341484e+17,5.84416455299923e+17,5.844248752654397e+17,5.844742521573046e+17,5.846271719086089e+17,5.846521600357489e+17,5.846522725128483e+17,5.846524895427695e+17,5.847118313721917e+17,5.847122463594903e+17,5.847197950046906e+17,5.856844606386683e+17,5.896416386093879e+17,5.917730776846522e+17,5.929878411586565e+17,5.93097933578669e+17,5.931080825862738e+17,5.93692933725972e+17,5.945362099065484e+17,5.945974433066483e+17,5.951096684366511e+17,5.951333074499232e+17,5.955498935857332e+17,5.959973496030868e+17,5.972361191177782e+17,5.974105024434687e+17,5.980167746838551e+17,5.987670565951786e+17,5.98848645154429e+17,5.989112903350455e+17,5.989196952114188e+17,5.989270214042106e+17,5.990447070105859e+17,5.995209004179712e+17,5.995226564782659e+17,5.995295940736438e+17,5.995629962736707e+17,5.996106590133201e+17,5.996147334858912e+17,5.996264087345322e+17,6.003435097855498e+17,6.003686102749951e+17,6.003824694180986e+17,6.003967725520067e+17,6.008737499658339e+17,6.010264996903743e+17,6.012240108442377e+17,6.013328855902735e+17,6.01647529478526e+17,6.024048676029704e+17,6.025939374900278e+17,6.026109291197089e+17,6.026112444919937e+17,6.026141812369828e+17,6.026157663431333e+17,6.026176423309906e+17,6.026190346842893e+17,6.031320429209243e+17,6.032436164382954e+17,6.033533674227101e+17,6.035885411372305e+17,6.047163612936785e+17,6.04754348722142e+17,6.054356725528109e+17,6.055343513763287e+17,6.059788471871668e+17,6.061168890962679e+17,6.061479061565055e+17,6.063296962190478e+17,6.068690902772521e+17,6.070117349136727e+17,6.070117484056778e+17,6.077528203426547e+17,6.077839003926815e+17,6.082553063066861e+17,6.091924691699078e+17,6.09303081692506e+17,6.093313057587446e+17,6.097555901004137e+17,6.098288061175388e+17,6.103115470483081e+17,6.1043295056935e+17,6.105084442251895e+17,6.105664759394972e+17,6.106179910883459e+17,6.110441759224682e+17,6.112126003496266e+17,6.112379493394176e+17,6.112428818635146e+17,6.11404781338456e+17,6.117502477321002e+17,6.118129969508148e+17,6.118484129404808e+17,6.11875649711953e+17,6.119010235971136e+17,6.119011184102752e+17,6.119928491298778e+17,6.121290502130548e+17,6.128140410096996e+17,6.128648177295081e+17,6.12870854149219e+17,6.128843912635464e+17,6.132276353276823e+17,6.133961672232855e+17,6.13542199071363e+17,6.135422306003329e+17,6.135512232292215e+17,6.135516781228416e+17,6.135739474642918e+17,6.136798674581876e+17,6.136974695358807e+17,6.137018319234892e+17,6.137050564246249e+17,6.137141376920046e+17,6.139280784209518e+17,6.139437313154363e+17,6.142409353956082e+17,6.142546071123909e+17,6.142949225257772e+17,6.143839299855492e+17,6.146747763685368e+17,6.147261365766286e+17,6.148248685236806e+17,6.151197919787447e+17,6.154264794813187e+17,6.155256556149574e+17,6.156181331767027e+17,6.156925573347548e+17,6.157133206718098e+17,6.15841411346614e+17,6.16121824262219e+17,6.161580210643045e+17,6.162697669893805e+17,6.168902180478557e+17,6.172471738116323e+17,6.172475229832314e+17,6.176556689331834e+17,6.176688944122762e+17,6.176700987569228e+17,6.176730195150533e+17,6.185381821004964e+17,6.186120840196019e+17,6.186172597019656e+17,6.191116009215547e+17,6.192358040890586e+17,6.193238879447643e+17,6.193443751444974e+17,6.198981634363703e+17,6.2070532718483e+17,6.207774638292339e+17,6.207881268936116e+17,6.209346634630524e+17,6.214806036113164e+17,6.217015018842724e+17,6.21701736675445e+17,6.217731221860211e+17,6.222697124399254e+17,6.222854595703059e+17,6.222951583150199e+17,6.222952309876495e+17,6.222953473043348e+17,6.222954279921769e+17,6.229617624412083e+17,6.230421434554131e+17,6.235620801341988e+17,6.235621768133229e+17,6.236466587542632e+17,6.236651390034228e+17,6.236769221188582e+17,6.236944489879694e+17,6.241090091332609e+17,6.249681046855724e+17,6.250061973386597e+17,6.251351242872214e+17,6.25135239707995e+17,6.257781285151359e+17,6.258298478826647e+17,6.258653839818566e+17,6.258715489045847e+17,6.262571315589887e+17,6.262931528941395e+17,6.262998211066461e+17,6.278603199031903e+17,6.279933622642374e+17,6.280236553549724e+17,6.280344810715127e+17,6.281577833390863e+17,6.28191283984194e+17,6.286850695504449e+17,6.287385408394518e+17,6.287529258814897e+17,6.291895875259964e+17,6.292587725133716e+17,6.299734945658593e+17,6.299746537071387e+17,6.29978664332934e+17,6.301266882193123e+17,6.302080648984511e+17,6.304990547510134e+17,6.307503949126003e+17,6.308609805015965e+17,6.30881849580813e+17,6.309009457088498e+17,6.309147147009206e+17,6.309252629657083e+17,6.315533803237711e+17,6.315834370295113e+17,6.316281016052065e+17,6.322244394824934e+17,6.32773923177408e+17,6.329080521685573e+17,6.329643216607895e+17,6.330463207428379e+17,6.331088407022938e+17,6.331189364536564e+17,6.331355296433708e+17,6.33679377916015e+17,6.338418158934007e+17,6.343942074050499e+17,6.344488897826802e+17,6.344960662392774e+17,6.345349782059831e+17,6.345694473141518e+17,6.34953135494851e+17,6.349761377959788e+17,6.349772964916188e+17,6.350389866695334e+17,6.351751654627432e+17,6.35180388612919e+17,6.352440414038094e+17,6.359374288110218e+17,6.359874575752886e+17,6.360062727291402e+17,6.361121036201112e+17,6.361123344875045e+17,6.361137674966742e+17,6.368018587095419e+17,6.368071564745206e+17,6.368110483600952e+17,6.373701254877229e+17,6.375085796374958e+17,6.378002583241613e+17,6.378760523494548e+17,6.379257146640243e+17,6.38006725023162e+17,6.380604700159204e+17,6.380766691365953e+17,6.380962830374364e+17,6.381217656793574e+17,6.381574891941394e+17,6.381766174375218e+17,6.382019065303721e+17,6.386522786266876e+17,6.387260886996024e+17,6.388228125409772e+17,6.388301417163569e+17,6.388899894647768e+17,6.389174087376288e+17,6.389769254975345e+17,6.393197000306575e+17,6.394628958903731e+17,6.394787943646173e+17,6.396164366070623e+17,6.397393878857247e+17,6.40058080639566e+17,6.400726843116557e+17,6.402432154932155e+17,6.402458728782097e+17,6.402918795317128e+17,6.403100424583114e+17,6.404681658636806e+17,6.404696261950287e+17,6.407828418355859e+17,6.408720447778381e+17,6.410226139795538e+17,6.410274443739443e+17,6.411170398769248e+17,6.411228069850999e+17,6.411228686680278e+17,6.414818075232765e+17,6.417473065960795e+17,6.42407594793484e+17,6.425777110788586e+17,6.426308832465358e+17,6.431689438619122e+17,6.4318329650292e+17,6.432115900770496e+17,6.432225103753605e+17,6.432415919788732e+17,6.432637973133578e+17,6.446871776110186e+17,6.447489199231155e+17,6.451295654100168e+17,6.451378656517059e+17,6.451417777969942e+17,6.459218054390897e+17,6.462586236611188e+17,6.466634780110436e+17,6.481937762397935e+17,6.4833276361095e+17,6.487621185804707e+17,6.488976656031956e+17,6.489658519148751e+17,6.495155088749001e+17,6.502181762342515e+17,6.502283767282141e+17,6.502331267364164e+17,6.503664941512077e+17,6.504031511033908e+17,6.50617472495719e+17,6.510962686568539e+17,6.511379809816223e+17,6.519228799739707e+17,6.519688349968987e+17,6.524092481905457e+17,6.52491435734057e+17,6.52820545164374e+17,6.528648090941368e+17,6.531374989919478e+17,6.531927866998363e+17,6.532090525671564e+17,6.539410421975954e+17,6.541251204997142e+17,6.541322209977016e+17,6.54135534924136e+17,6.541399398666227e+17,6.541428376216099e+17,6.545657312272538e+17,6.546116999194385e+17,6.546666759308727e+17,6.547038768409498e+17,6.54754889892942e+17,6.552802742841166e+17,6.553643347558164e+17,6.55372673320282e+17,6.558193721314191e+17,6.559488358990879e+17,6.561042554064152e+17,6.561655750026298e+17,6.564303753667137e+17,6.569256476363032e+17,6.569298641137385e+17,6.573784684761175e+17,6.573863083404237e+17,6.574221598166605e+17,6.574987856159704e+17,6.575004521766947e+17,6.575044126113079e+17,6.577882907054976e+17,6.581782935386993e+17,6.581865481609379e+17,6.582226441582657e+17,6.582617387113591e+17,6.582920168618808e+17,6.583365256342968e+17,6.584712396129933e+17,6.590188196122895e+17,6.590251209712216e+17,6.598436911180553e+17,6.60349661013221e+17,6.603860047931713e+17,6.603981813474066e+17,6.60540979851046e+17,6.605799222001649e+17,6.606493846837432e+17,6.608039335268675e+17,6.608507823473354e+17,6.61126911495365e+17,6.611413651447034e+17,6.612202024929384e+17,6.612326901686273e+17,6.614256696828251e+17,6.617959734015862e+17,6.620003321285592e+17,6.620188044910844e+17,6.62133201463812e+17,6.623908046768675e+17,6.625160720300613e+17,6.625536870416229e+17,6.62596310473659e+17,6.626185289525153e+17,6.626508677075516e+17,6.630035152234441e+17,6.632250187361242e+17,6.632667129502468e+17,6.632839924989578e+17,6.633107797917774e+17,6.636610525292012e+17,6.640463984899904e+17,6.642259828204521e+17,6.642417983032439e+17,6.647804853573716e+17,6.647949148972901e+17,6.650451328759199e+17,6.650485254346664e+17,6.65058677233224e+17,6.650596438435023e+17,6.650663747646461e+17,6.662469827805403e+17,6.662920803379877e+17,6.664770971256887e+17,6.668628825571712e+17,6.668847304521512e+17,6.669053304237522e+17,6.669502516278875e+17,6.669597554138522e+17,6.672457304671978e+17,6.672472058272742e+17,6.680105397602598e+17,6.683930198066167e+17,6.684874912250474e+17,6.684946565886743e+17,6.686711857475786e+17,6.688309350866853e+17,6.688368283645494e+17,6.688400488398295e+17,6.688402598363174e+17,6.690278553269354e+17,6.697917827398913e+17,6.697994252363901e+17,6.698566180119628e+17,6.698720109612468e+17,6.699491932288172e+17,6.699694004504205e+17,6.706918789130223e+17,6.707242210347981e+17,6.707326320589522e+17,6.707409567266816e+17,6.707461008178063e+17,6.70750910556738e+17,6.707543021842461e+17,6.707587506444403e+17,6.708020077962113e+17,6.708877493673448e+17,6.708976669301641e+17,6.71343515745578e+17,6.713435855226205e+17,6.713736965319444e+17,6.713985895840326e+17,6.714206728042067e+17,6.714766416258301e+17,6.715038297257646e+17,6.716368303919474e+17,6.719260737018022e+17,6.719352900419139e+17,6.719781230014568e+17,6.721647319349347e+17,6.721885898008092e+17,6.722372971854382e+17,6.723154057645432e+17,6.72646130912796e+17,6.728957539190762e+17,6.729659834261235e+17,6.734255470819264e+17,6.735814064146916e+17,6.736518708118967e+17,6.737027619172201e+17,6.742049226650811e+17,6.742051985535063e+17,6.742543463542548e+17,6.742926170618863e+17,6.749456062469864e+17,6.749524954756303e+17,6.749620346685124e+17,6.749645058799956e+17,6.74976333260486e+17,6.751425655890865e+17,6.75508190285379e+17,6.756263390308987e+17,6.756758631013695e+17,6.756821740896557e+17,6.756845241366225e+17,6.758394044472708e+17,6.758618959396387e+17,6.758702592029624e+17,6.758903730041814e+17,6.763823553233605e+17,6.764066195828708e+17,6.76634028875033e+17,6.769583386293533e+17,6.77324904330702e+17,6.77887152030629e+17,6.779500002981402e+17,6.783163322351657e+17,6.785931711532273e+17,6.785934520047361e+17,6.787466865725985e+17,6.79279105336807e+17,6.793115361047405e+17,6.795152552334875e+17,6.796006281508777e+17,6.796054976379293e+17,6.79613933233951e+17,6.799266436300202e+17,6.80067042641337e+17,6.801816535999876e+17,6.802003389745002e+17,6.802029271324477e+17,6.806996092909903e+17,6.806996631211816e+17,6.807009664256521e+17,6.814879844603164e+17,6.815287086646015e+17,6.823522085787002e+17,6.823585314989481e+17,6.823653097384116e+17,6.824804683597663e+17,6.829961844577491e+17,6.831193121850231e+17,6.835857213859306e+17,6.837184659581609e+17,6.83834471977796e+17,6.842433799781174e+17,6.8425435539004e+17,6.844585826258619e+17,6.845692920640637e+17,6.846148468425327e+17,6.847645638367365e+17,6.850135870302662e+17,6.850236010508416e+17,6.850355232067474e+17,6.851335795791596e+17,6.853825503455302e+17,6.855543484397866e+17,6.857378900661486e+17,6.859717330667633e+17,6.864160837480024e+17,6.864650483649673e+17,6.867494412803648e+17,6.87174844027055e+17,6.875747947440197e+17,6.878685313861825e+17,6.879542704481948e+17,6.879798668901106e+17,6.88158576348216e+17,6.886226665017777e+17,6.894541692268141e+17,6.895403553220932e+17,6.896956973400805e+17,6.90090212658125e+17,6.90173353285048e+17,6.905203639556622e+17,6.908294606045774e+17,6.90973220148945e+17,6.909738420465669e+17,6.911844564391387e+17,6.915247666977917e+17,6.916272079424801e+17,6.916787400132899e+17,6.917339882529427e+17,6.923464117271992e+17,6.923929151722048e+17,6.924458283088675e+17,6.924835019614604e+17,6.927156606131112e+17,6.927431370798609e+17,6.927471035761722e+17,6.927489727637234e+17,6.93002136750589e+17,6.930049028657595e+17,6.939601600784842e+17,6.93968056530565e+17,6.940949966340014e+17,6.945773132575722e+17,6.94592765223323e+17,6.945931715410067e+17,6.946017988949395e+17,6.946096086122724e+17,6.946273004593427e+17,6.946408095907608e+17,6.946856568260324e+17,6.951086995380694e+17,6.952070534552499e+17,6.953074353831419e+17,6.954786894801765e+17,6.960959008460369e+17,6.961845370050472e+17,6.962537959629983e+17,6.964784323730435e+17,6.965775446423124e+17,6.966131488750071e+17,6.966826496219091e+17,6.976666341851241e+17,6.980501468828929e+17,6.982712278306263e+17,6.986863990007923e+17,6.987019488451729e+17,6.98718499506329e+17,6.987247869846591e+17,6.988004255670565e+17,6.988060778864475e+17,6.989442218390554e+17,6.989984794603273e+17,6.991453567877288e+17,6.992880682445718e+17,6.995541775149242e+17,6.995597965424911e+17,6.996511900896431e+17,7.0023031358208e+17,7.003379433185603e+17,7.003494834886737e+17,7.003551052419954e+17,7.003586252102472e+17,7.00405682974658e+17,7.004761685297275e+17,7.006594968864259e+17,7.007085869050282e+17,7.010859410363284e+17,7.011172224250921e+17,7.011631826459107e+17,7.0177560316645e+17,7.017813502924364e+17,7.019268916106908e+17,7.02019142760275e+17,7.026464197109724e+17,7.032200054472682e+17,7.03361607369051e+17,7.035735205628224e+17,7.035813995029462e+17,7.039344548013682e+17,7.039822815166747e+17,7.040036196358816e+17,7.040257411088077e+17,7.040306962642383e+17,7.040583357685359e+17,7.040962004342309e+17,7.046405651623116e+17,7.049801328409336e+17,7.051262540579567e+17,7.052426988545306e+17,7.053841396368465e+17,7.054580136922458e+17,7.054992195304991e+17,7.05685471236764e+17,7.057515062207974e+17,7.057721812960603e+17,7.0577324470708e+17,7.060745359199473e+17,7.061651331224081e+17,7.061664588183301e+17,7.061807938180671e+17,7.064972005941722e+17,7.067493949221335e+17,7.067890500064465e+17,7.068055820044096e+17,7.068317145414912e+17,7.068329819774394e+17,7.068339627600403e+17,7.068586338399424e+17,7.068596875125873e+17,7.068616237891114e+17,7.068627039181827e+17,7.068875591684449e+17,7.068959908421585e+17,7.069067796047892e+17,7.069097098776485e+17,7.0691070032216e+17,7.069142571508658e+17,7.069218226650734e+17,7.06937226249549e+17,7.069403182708005e+17,7.069656382608294e+17,7.071000628388133e+17,7.073039664961444e+17,7.07565204178349e+17,7.075919141549396e+17,7.076183459642296e+17,7.077917340548621e+17,7.079051684536977e+17,7.083787994300737e+17,7.085626784627223e+17,7.088549370498145e+17,7.089557683706497e+17,7.089971583920896e+17,7.089998015289646e+17,7.090252264465331e+17,7.090305484535434e+17,7.090314786250479e+17,7.09042272386155e+17,7.091331692771003e+17,7.091335408499251e+17,7.091682067269152e+17,7.09170529378006e+17,7.096608636389014e+17,7.096865451754355e+17,7.096894412967913e+17,7.098079218259739e+17,7.09836154042898e+17,7.098511710988983e+17,7.09939057124037e+17,7.104303071148567e+17,7.104906694061366e+17,7.104907310435397e+17,7.105101544833441e+17,7.105169222553875e+17,7.105353461299946e+17,7.105462575039052e+17,7.10555757990116e+17,7.105632551443107e+17,7.105758189024613e+17,7.111166759444325e+17,7.111204976090232e+17,7.115589507726177e+17,7.11768505629017e+17,7.118697729244494e+17,7.119890008577211e+17,7.119895852365357e+17,7.1201456380884e+17,7.121032996017258e+17,7.12113614473297e+17,7.121213575500915e+17,7.121955510633096e+17,7.129073195202811e+17,7.133490782589821e+17,7.134416013877536e+17,7.134685639549294e+17,7.135540987466039e+17,7.136089594150482e+17,7.136304663216035e+17,7.136622224696808e+17,7.139317903953446e+17,7.1397785125811e+17,7.141009899591465e+17,7.141733808852134e+17,7.141836098345627e+17,7.142037589198282e+17,7.143709353491711e+17,7.146970723534257e+17,7.146977186613165e+17,7.148907004589189e+17,7.153372060835146e+17,7.153805051616486e+17,7.154884492607827e+17,7.155289274179982e+17,7.155441519830122e+17,7.155594041562241e+17,7.157340504919086e+17,7.157677073273606e+17,7.158877041418195e+17,7.162834862121324e+17,7.163060594644608e+17,7.163239133726954e+17,7.164335888945373e+17,7.168008501131172e+17,7.16837378677584e+17,7.168537231749684e+17,7.169225822698163e+17,7.169625758861263e+17,7.170285107803949e+17,7.170676221037162e+17,7.171089653063397e+17,7.171939445461784e+17,7.176383262329343e+17,7.176418808272687e+17,7.176573514516033e+17,7.176612100761376e+17,7.176638167824207e+17,7.18751971614977e+17,7.19115916113463e+17,7.194439250996229e+17,7.195343149979939e+17,7.197097290402245e+17,7.197211710627818e+17,7.197406544913804e+17,7.198211046117495e+17,7.199482065342115e+17,7.200002710100035e+17,7.200005526439567e+17,7.206952318879022e+17,7.207245113578575e+17,7.208119610889594e+17],\"lat\":[1.33432,1.34537,1.34754,1.34531,1.28836,1.3449,1.31142,1.28828,1.28652,1.28636,1.34917,1.31144,1.31129,1.29335,1.34361,1.30096,1.30938,1.36926,1.27663,1.27585,1.2841,1.29065,1.27716,1.3092,1.28485,1.31208,1.30663,1.33389,1.29245,1.31322,1.28458,1.28386,1.37975,1.3072,1.31108,1.2841,1.28405,1.28405,1.28405,1.28466,1.31805,1.31612,1.3209,1.32204,1.27525,1.32301,1.32453,1.31936,1.32485,1.36722,1.29182,1.3117,1.3117,1.3117,1.31117,1.30692,1.2805,1.30085,1.35956,1.29973,1.34806,1.34798,1.28424,1.28497,1.31786,1.31179,1.28172,1.28268,1.283,1.31546,1.3111,1.38763,1.29489,1.30778,1.34081,1.31288,1.28135,1.36747,1.30793,1.3004,1.28511,1.28563,1.35349,1.33203,1.31262,1.37165,1.27428,1.28366,1.27619,1.3171,1.30358,1.31279,1.46255,1.41423,1.27626,1.2744,1.3174,1.31778,1.30933,1.27513,1.31269,1.44061,1.33444,1.44162,1.44349,1.31486,1.46505,1.31315,1.34571,1.3464,1.3446,1.30153,1.31642,1.346,1.31132,1.35894,1.40015,1.31107,1.43012,1.32874,1.28191,1.2841,1.32515,1.36973,1.296265,1.29575,1.34507,1.44167,1.31099,1.32419,1.31697,1.34611,1.3124,1.34385,1.34603,1.46987,1.30613,1.38084,1.31011,1.3149,1.32614,1.41733,1.30423,1.28843,1.33303,1.31461,1.31519,1.46136,1.3073,1.41142,1.30751,1.31555,1.31271,1.39863,1.28872,1.31372,1.30634,1.33433,1.30743,1.30928,1.3075,1.30627,1.34002,1.32162,1.29694,1.31593,1.31756,1.31716,1.31893,1.31716,1.31696,1.31851,1.31855,1.46088,1.28039,1.28002,1.3455,1.30389,1.30356,1.30394,1.30345,1.31334,1.28146,1.3055,1.28202,1.44162,1.41739,1.34789,1.296265,1.30362,1.30479,1.30565,1.30563,1.34546,1.30803,1.28172,1.35476,1.2802,1.28199,1.31131,1.31147,1.28313,1.32205,1.29673,1.28535,1.28656,1.28775,1.3117,1.31458,1.29672,1.34842,1.46363,1.30959,1.30975,1.31106,1.31103,1.31161,1.30976,1.31017,1.34729,1.43965,1.43992,1.31036,1.417094,1.35165,1.417147,1.28393,1.28549,1.28019,1.449275,1.31689,1.37697,1.28276,1.2832,1.30362,1.31166,1.31324,1.31339,1.28488,1.31656,1.31457,1.31331,1.31277,1.31318,1.31239,1.31163,1.43873,1.39156,1.28647,1.31907,1.28686,1.2983,1.28819,1.28543,1.3114,1.31117,1.31155,1.31134,1.31114,1.31129,1.31114,1.29301,1.31114,1.31114,1.31114,1.35594,1.44165,1.3106,1.31395,1.41745,1.41824,1.31226,1.31363,1.28164,1.284,1.47876,1.31255,1.33051,1.32334,1.33916,1.31222,1.31106,1.44347,1.44516,1.44412,1.36628,1.30081,1.33007,1.30424,1.2813,1.39857,1.28028,1.31021,1.31245,1.32152,1.32337,1.32381,1.28783,1.46275,1.28184,1.28215,1.28213,1.28169,1.4483,1.36263,1.36219,1.40088,1.2814,1.47255,1.28205,1.29896,1.31027,1.31082,1.28567,1.32893,1.37772,1.31005,1.31005,1.31005,1.31005,1.31005,1.31005,1.31005,1.31005,1.31005,1.31005,1.31248,1.3117,1.31693,1.30409,1.43508,1.24854,1.36741,1.28038,1.3157,1.30902,1.31289,1.31846,1.32552,1.35725,1.28499,1.28379,1.31398,1.34373,1.28073,1.30429,1.30442,1.30242,1.30427,1.4627,1.31338,1.28049,1.42998,1.27872,1.37173,1.34401,1.2943,1.31244,1.34048,1.31261,1.32833,1.31124,1.28338,1.32522,1.31756,1.31889,1.32683,1.36464,1.32547,1.31735,1.275,1.27526,1.28341,1.28146,1.39178,1.35593,1.41685,1.28382,1.31284,1.32405,1.2841,1.34757,1.31001,1.324,1.31361,1.32157,1.30805,1.32826,1.28359,1.31297,1.28134,1.31163,1.34054,1.27703,1.31675,1.32531,1.31552,1.31723,1.31053,1.35563,1.30983,1.35488,1.30285,1.31348,1.3085,1.31212,1.34724,1.31548,1.47115,1.34358,1.3093,1.31165,1.37451,1.31204,1.31215,1.31188,1.33537,1.32257,1.37466,1.45152,1.44814,1.28156,1.28243,1.30933,1.30926,1.29934,1.29759,1.29828,1.283,1.31268,1.39828,1.3114,1.31234,1.34159,1.30641,1.34313,1.2803,1.34406,1.31005,1.31721,1.31044,1.32373,1.32516,1.32362,1.31844,1.31703,1.33514,1.31114,1.2841,1.39604,1.2833,1.32796,1.35641,1.30768,1.328848,1.3255,1.28373,1.4623,1.27805,1.38703,1.25312,1.37738,1.3117,1.3117,1.3117,1.37723,1.37741,1.27329,1.31889,1.36034,1.29732,1.28489,1.28489,1.30747,1.31402,1.4182,1.44154,1.31264,1.27343,1.29719,1.29685,1.29899,1.30961,1.3098,1.30767,1.29755,1.29699,1.44241,1.31185,1.28299,1.38565,1.31005,1.3147,1.42959,1.29846,1.31232,1.44196,1.31522,1.43109,1.30447,1.3468,1.31352,1.30784,1.30834,1.28498,1.3095,1.30885,1.31157,1.33727,1.30571,1.30957,1.34608,1.31358,1.30411,1.30411,1.30411,1.30411,1.30411,1.30411,1.30775,1.29803,1.29955,1.31341,1.28742,1.28738,1.28918,1.29649,1.29649,1.28336,1.28482,1.31738,1.31001,1.30112,1.32,1.33437,1.34443,1.27731,1.32551,1.27941,1.31314,1.28915,1.28242,1.29806,1.30825,1.27361,1.29454,1.32478,1.31184,1.29617,1.30825,1.31131,1.30858,1.30587,1.44882,1.30983,1.28386,1.29765,1.29892,1.48662,1.45838,1.46021,1.29907,1.29558,1.41326,1.44328,1.41417,1.31112,1.41377,1.31633,1.30724,1.46549,1.3577,1.30954,1.31669,1.37601,1.35775,1.368,1.28142,1.28143,1.30411,1.30411,1.30435,1.30944,1.28203,1.28065,1.36662,1.2795,1.30791,1.37579,1.30477,1.28116,1.27719,1.32449,1.31021,1.41503,1.30442,1.28483,1.28484,1.283,1.2652,1.44185,1.30922,1.31219,1.44184,1.41446,1.34401,1.32699,1.3147,1.31541,1.31539,1.28684,1.31439,1.31505,1.28039,1.41426,1.30928,1.31947,1.2846,1.30252,1.28205,1.31655,1.2848,1.28304,1.35751,1.33463,1.32165,1.31141,1.46807,1.28622,1.30852,1.30895,1.3097,1.32161,1.28484,1.28875,1.28525,1.46253,1.28412,1.41451,1.30103,1.29514,1.29867,1.31351,1.33084,1.30161,1.3011,1.30041,1.39558,1.28684,1.30041,1.29934,1.32528,1.28616,1.4145,1.46724,1.39539,1.31263,1.30447,1.33366,1.46785,1.3101,1.41921,1.27988,1.3147,1.41388,1.31563,1.31496,1.27394,1.29951,1.29951,1.31249,1.31353,1.29574,1.31159,1.30957,1.31475,1.31183,1.32013,1.28471,1.41415,1.41368,1.36887,1.28449,1.33637,1.31856,1.28449,1.41198,1.41009,1.41016,1.31169,1.31222,1.31322,1.33195,1.31214,1.31233,1.28019,1.34589,1.31083,1.30936,1.34228,1.3147,1.46029,1.41482,1.47125,1.46575,1.28206,1.32357,1.32228,1.32374,1.32217,1.32211,1.30736,1.31064,1.30418,1.31049,1.30979,1.46972,1.46984,1.46824,1.46948,1.46921,1.29518,1.36999,1.29818,1.33627,1.46402,1.41277,1.27424,1.297,1.34162,1.2789,1.28379,1.29776,1.32908,1.46917,1.3111,1.30029,1.4605,1.28449,1.29811,1.27831,1.27575,1.30212,1.30462,1.29022,1.46074,1.28075,1.30243,1.30236,1.30153,1.27942,1.30253,1.3006,1.46783,1.27957,1.47638,1.28449,1.31406,1.28449,1.31226,1.28449,1.31512,1.31806,1.46679,1.30282,1.3147,1.41682,1.31388,1.46339,1.28111,1.32158,1.3145,1.31084,1.28539,1.31072,1.31078,1.30372,1.30562,1.2986,1.29882,1.31416,1.29682,1.46177,1.32167,1.31247,1.38769,1.46241,1.35549,1.35791,1.41485,1.30376,1.41706,1.29377,1.27475,1.29303,1.30379,1.29162,1.46548,1.46312,1.31916,1.41598,1.46759,1.33825,1.28,1.28137,1.27749,1.28142,1.28028,1.33205,1.30017,1.46795,1.2842,1.46932,1.30606,1.30119,1.28116,1.37814,1.29179,1.31418,1.46451,1.31434,1.3147,1.31534,1.30087,1.28043,1.30398,1.31124,1.41382,1.28347,1.28372,1.28486,1.29545,1.299,1.31103,1.30371,1.29629,1.29819,1.29773,1.2961,1.29745,1.29615,1.29801,1.29806,1.2969,1.30878,1.3106,1.30957,1.46487,1.46125,1.46207,1.35417,1.27939,1.2797,1.31511,1.31009,1.30907,1.46586,1.2842,1.27303,1.41502,1.31088,1.28176,1.31129,1.32061,1.46451,1.3189,1.31754,1.31828,1.31878,1.46925,1.28203,1.31197,1.27891,1.28417,1.46438,1.28164,1.38351,1.28136,1.30288,1.28157,1.31297,1.32167,1.4621,1.41338,1.29226,1.28026,1.28495,1.2958,1.41366,1.2842,1.30341,1.27972,1.35179,1.3147,1.31669,1.31623,1.27936,1.30264,1.41662,1.28341,1.31505,1.46572,1.32358,1.28024,1.46177,1.30309,1.29022,1.28033,1.41936,1.31489,1.3149,1.31213,1.41537,1.32646,1.285,1.2801,1.31804,1.45994,1.29307,1.31681,1.46863,1.46335,1.41671,1.3147,1.46587,1.29129,1.46329,1.31147,1.3128,1.31453,1.28131,1.4159,1.30372,1.28165,1.46061,1.3338,1.28173,1.31064,1.31128,1.28051,1.28448,1.28312,1.46075,1.39054,1.46361,1.46443,1.30487,1.31334,1.46366,1.46247,1.31736,1.31674,1.39112,1.41381,1.31765,1.41574,1.46581,1.31144,1.35086,1.30185,1.470788,1.31068,1.31083,1.28209,1.32029,1.33707,1.31512,1.31287,1.28256,1.35269,1.46103,1.4641,1.28067,1.30331,1.39054,1.31343,1.28142,1.3692,1.41706,1.3091,1.2882,1.46522,1.4603,1.46376,1.28116,1.27947,1.33823,1.2842,1.47068,1.41591,1.28335,1.31157,1.32883,1.31154,1.30181,1.30065,1.30217,1.3017,1.30197,1.30183,1.30142,1.41821,1.46848,1.31534,1.28163,1.30098,1.28,1.27317,1.28501,1.31095,1.32231,1.46522,1.46522,1.46369,1.39153,1.44878,1.41753,1.41782,1.41623,1.41593,1.41586,1.41611,1.4177,1.41597,1.4167,1.41672,1.41755,1.34755,1.33721,1.31108,1.31147,1.31128,1.31166,1.31096,1.44136,1.31473,1.30964,1.3147,1.32719,1.28412,1.28211,1.32706,1.28277,1.28309,1.28254,1.4645,1.28324,1.28231,1.30059,1.28144,1.28211,1.28297,1.2824,1.30862,1.4702,1.3322,1.41913,1.29283,1.27335,1.41726,1.41723,1.46036,1.30972,1.41585,1.45856,1.27363,1.43448,1.46019,1.4585,1.45898,1.46231,1.28456,1.47085,1.27976,1.2842,1.27564,1.47123,1.47003,1.41722,1.31473,1.28273,1.2815,1.46281,1.28502,1.31139,1.41376,1.41629,1.28191,1.47151,1.27976,1.2793,1.32632,1.47067,1.31473,1.46293,1.29697,1.28141,1.27485,1.41604,1.41767,1.28144,1.33511,1.28299,1.28299,1.28392,1.28234,1.28299,1.2842,1.46409,1.45822,1.31181,1.31128,1.2842,1.3147,1.31135,1.28518,1.30887,1.28467,1.27789,1.41593,1.29331,1.46253,1.30508,1.46283,1.45898,1.46177,1.41571,1.3096,1.31473,1.30973,1.28182,1.3147,1.4608,1.30821,1.45795,1.41162,1.45914,1.30025,1.29966,1.46368,1.46122,1.31029,1.2842,1.31209,1.31112,1.28302,1.46713,1.28529,1.30864,1.30991,1.33748,1.33721,1.46001,1.45964,1.46531,1.31229,1.31078,1.31841,1.48771,1.41294,1.33786,1.42768,1.47179,1.46512,1.46044,1.45856,1.45846,1.28187,1.28167,1.37417,1.45933,1.46947,1.46468,1.41723,1.28509,1.46517,1.29311,1.46343,1.46621,1.29848,1.25047,1.41849,1.32174,1.32182,1.34654,1.46008,1.3307,1.31158,1.27959,1.4644,1.31393,1.45905,1.31082,1.46531,1.45804,1.28183,1.28132,1.28173,1.40089,1.46414,1.37599,1.28509,1.4168,1.41622,1.46622,1.45956,1.45956,1.28469,1.2734,1.33036,1.3672,1.35254,1.33692,1.29083,1.46766,1.31046,1.37461,1.45796,1.45973,1.29406,1.28001,1.2818,1.31103,1.45996,1.45804,1.30314,1.45987,1.4677,1.46712,1.32621,1.28443,1.29917,1.46722,1.29374,1.33073,1.28129,1.46444,1.47046,1.4691,1.46214,1.30183,1.3028,1.45996,1.28443,1.28302,1.2842,1.28443,1.28443,1.46596,1.464481,1.31188,1.46328,1.33037,1.28426,1.28461,1.2846,1.28443,1.28429,1.28443,1.28192,1.27383,1.28414,1.41665,1.28434,1.30493,1.30277,1.28438,1.28412,1.41595,1.31516,1.31397,1.4175,1.29425,1.294,1.29423,1.28404,1.45988,1.28451,1.28359,1.29872,1.3104,1.28197,1.28405,1.31499,1.28428,1.30199,1.31023,1.28065,1.29099,1.32899,1.29093,1.29261,1.28436,1.29843,1.461517,1.36298,1.46902,1.45766,1.3203,1.28379,1.46438,1.46325,1.31261,1.31096,1.31439,1.31275,1.4641,1.33638,1.28529,1.3533,1.30968,1.30987,1.29417,1.38328,1.46442,1.39256,1.31232,1.31097,1.46359,1.28983,1.30954,1.46035,1.3245,1.2841,1.32703,1.32477,1.4146,1.45871,1.30287,1.41158,1.48646,1.41731,1.2841,1.31713,1.41832,1.29453,1.2841,1.29544,1.31736,1.41911,1.46012,1.32217,1.45812,1.41718,1.41107,1.27316,1.28196,1.28559,1.30469,1.33661,1.46604,1.46374,1.29191,1.32786,1.30213,1.27864,1.2836,1.28152,1.28155,1.28239,1.31068,1.3147,1.41373,1.41397,1.29047,1.30169,1.32045,1.2834,1.33527,1.41564,1.3055,1.2951,1.28351,1.31098,1.46038,1.46187,1.3147,1.30834,1.41713,1.4603,1.46037,1.3752,1.45871,1.30064,1.28534,1.29424,1.46197,1.38296,1.30124,1.3111,1.4647,1.45826,1.31072,1.46346,1.3101,1.46189,1.46858,1.30091,1.31566,1.46432,1.33817,1.31181,1.41686,1.3269,1.31588,1.31056,1.3147,1.3147,1.31006,1.31144,1.27499,1.34036,1.3147,1.30738,1.35432,1.2841,1.30715,1.45956,1.46785,1.28754,1.28742,1.28897,1.30909,1.41631,1.41382,1.4666,1.46304,1.31017,1.45816,1.2836,1.29702,1.30482,1.32868,1.28976,1.41439,1.4599,1.46605,1.45907,1.28612,1.2844,1.28471,1.3142,1.3109,1.46015,1.28389,1.28584,1.31197,1.28426,1.28454,1.3112,1.28844,1.32253,1.28549,1.29104,1.28833,1.31864,1.46241,1.34197,1.33984,1.33957,1.34023,1.46297,1.31197,1.45896,1.29204,1.31932,1.29828,1.30693,1.35731,1.30971,1.31167,1.31691,1.46772,1.31055,1.28864,1.28848,1.28809,1.46826,1.31477,1.47079,1.30268,1.35286,1.3035,1.3022,1.30364,1.43479,1.46653,1.32793,1.41636,1.41741,1.41778,1.29922,1.29057,1.47102,1.30062,1.45927,1.45775,1.29869,1.29912,1.45818,1.45873,1.4315,1.31623,1.34546,1.31034,1.31249,1.29182,1.47079,1.31736,1.30062,1.30353,1.29184,1.31292,1.28072,1.46529,1.46567,1.30751,1.31117,1.39158,1.41625,1.4591,1.28906,1.31078,1.3252,1.45804,1.3029,1.32707,1.46252,1.43519,1.4677,1.46144,1.31878,1.46523,1.4613,1.3529,1.46168,1.30286,1.30326,1.30302,1.3032,1.33185,1.46365,1.31603,1.46311,1.36866,1.32878,1.46716,1.46364,1.31675,1.28018,1.26586,1.41812,1.46711,1.46168,1.28456,1.28456,1.28355,1.28456,1.31875,1.26705,1.267,1.43058,1.29593,1.45951,1.29388,1.29387,1.29386,1.31259,1.28138,1.27338,1.46282,1.46446,1.34218,1.45616,1.2841,1.41769,1.34193,1.34179,1.41574,1.41712,1.31045,1.31354,1.46434,1.46408,1.29298,1.29261,1.29312,1.41625,1.46355,1.31114,1.28305,1.32645,1.36856,1.30974,1.31101,1.27427,1.3042,1.36321,1.45992,1.45808,1.46471,1.27384,1.41664,1.41693,1.4159,1.30636,1.30619,1.30464,1.30418,1.30422,1.3049,1.3245,1.32599,1.32449,1.32585,1.32645,1.32441,1.31283,1.27427,1.3147,1.28171,1.29906,1.29315,1.29153,1.31068,1.37289,1.46037,1.46195,1.27427,1.4636,1.32001,1.27391,1.28741,1.28155,1.46322,1.46593,1.46482,1.46572,1.46466,1.465,1.46426,1.46438,1.35238,1.34595,1.34549,1.30244,1.37418,1.3052,1.29865,1.46748,1.32781,1.44337,1.44987,1.30937,1.3155,1.28302,1.30488,1.31514,1.28513,1.41758,1.28352,1.3013,1.33106,1.41394,1.47079,1.47471,1.31335,1.3117,1.31309,1.31445,1.28008,1.28044,1.3124,1.31405,1.46009,1.46014,1.45807,1.31068,1.3045,1.31237,1.31391,1.30342,1.46178,1.3119,1.30488,1.45781,1.46553,1.28956,1.30329,1.30442,1.30303,1.46049,1.31579,1.30456,1.30457,1.41735,1.31688,1.41604,1.31713,1.45903,1.31158,1.46836,1.4686,1.45947,1.29986,1.29914,1.45814,1.42997,1.46262,1.30824,1.33358,1.46661,1.46342,1.4677,1.4133,1.32204,1.27222,1.31989,1.4619,1.35855,1.45937,1.35789,1.45965,1.45882,1.27536,1.46161,1.3097,1.31762,1.30959,1.29027,1.29044,1.31055,1.30859,1.31047,1.30819,1.30644,1.30596,1.28772,1.30818,1.31665,1.29432,1.46154,1.31641,1.31573,1.30953,1.30973,1.4577,1.45754,1.41488,1.30507,1.3725,1.3147,1.30968,1.3109,1.27316,1.4156,1.2758,1.41628,1.39016,1.41295,1.33637,1.39019,1.35357,1.42031,1.3014,1.30965,1.29232,1.41508,1.32025,1.32206,1.31958,1.31767,1.31081,1.31403,1.32631,1.32449,1.32828,1.46398,1.30696,1.30696,1.32354,1.46568,1.46516,1.41515,1.46896,1.3084,1.41751,1.46275,1.46245,1.29452,1.4652,1.2907,1.37667,1.46422,1.3223,1.31131,1.27634,1.31234,1.29746,1.29762,1.27317,1.27368,1.4656,1.4619,1.27228,1.27386,1.27437,1.31212,1.39926,1.304676490620552,1.46781,1.46078,1.30674,1.41641,1.27229,1.27399,1.31237,1.37484,1.45837,1.31399,1.46218,1.2799,1.4658080339431765,1.46225,1.46055,1.46029,1.31648,1.31854,1.36942,1.44418,1.45918,1.31017,1.46033,1.31531,1.28313,1.31683,1.46022,1.46057,1.46214,1.27219,1.28432,1.46762,1.31094,1.28021,1.27454,1.28387,1.27292,1.46019,1.29303,1.4608,1.38918,1.41465,1.27475,1.28656,1.27454,1.27233,1.27407,1.27504,1.35222,1.29919,1.46906,1.27455,1.27483,1.35209,1.27286,1.28338,1.29323,1.30124,1.46022,1.27497,1.37288,1.31806,1.3523,1.46217,1.30129,1.28811,1.30262,1.45849,1.29979,1.41629,1.27484,1.46809,1.30196,1.28155,1.28315,1.28199,1.4608,1.28396,1.27396,1.28174,1.27956,1.30065,1.27967,1.28147,1.45884,1.28125,1.28114,1.28187,1.28147,1.28127,1.2796,1.41711,1.31011,1.27489,1.27489,1.3118,1.46853,1.28038,1.28038,1.31586,1.46022,1.45993,1.46053,1.27395,1.27209,1.35835,1.30442,1.28165,1.28156,1.28153,1.28152,1.37214,1.46317,1.28098,1.27971,1.27987,1.27991,1.29735,1.31433,1.31633,1.28216,1.2823,1.30178,1.31042,1.31159,1.2738,1.41804,1.27286,1.41993,1.45975,1.2805,1.45843,1.41684,1.31559,1.46035,1.3116,1.30996,1.3127,1.27454,1.31006,1.3125,1.4761,1.28378,1.46433,1.30059,1.48764,1.3011,1.29194,1.29196,1.31305,1.29133,1.28401,1.2837,1.4304,1.30868,1.46247,1.3119,1.30599,1.38784,1.46095,1.46035,1.44372,1.2984,1.31713,1.29529,1.2951,1.34182,1.28165,1.46014,1.30602,1.29623,1.32813,1.2823,1.31526,1.29555,1.32201,1.35297,1.30583,1.31053,1.27549,1.27548,1.29433,1.34622,1.31144,1.46049,1.46049,1.46049,1.46049,1.46049,1.46049,1.46049,1.46049,1.46049,1.46049,1.29795,1.29647,1.29656,1.34377,1.31368,1.28146,1.28152,1.35872,1.30056,1.30963,1.29321,1.31473,1.31161,1.33626,1.30297,1.31149,1.31994,1.30322,1.46209,1.29302,1.31095,1.46015,1.45838,1.3004,1.30034,1.41264,1.29838,1.27757,1.27528,1.32655,1.27501,1.29535,1.4203517304260134,1.41517,1.41863,1.4655,1.41685,1.41609,1.31428,1.30118,1.30179,1.30338,1.30295,1.3014,1.36087,1.2928730249404907,1.4598,1.41884,1.28698,1.31162,1.46049,1.34548,1.46,1.27989,1.30966,1.34552,1.34535,1.27537,1.30627,1.34406,1.30968,1.31121,1.41456,1.41437,1.32031,1.41857,1.3048,1.35965,1.30946,1.31583,1.3058,1.30607,1.27432,1.2733,1.274,1.31349,1.31279,1.3707529520366353,1.28038,1.30175,1.24921,1.31559,1.29859,1.30192,1.30111,1.31051,1.27565,1.27554,1.31765,1.31532,1.31831,1.32805,1.29127,1.30459,1.33654,1.488,1.30845,1.33678,1.36039,1.3172,1.31774,1.31276,1.3041,1.4594650268554688,1.31135,1.36924,1.28043,1.27599,1.27477,1.31447,1.31033,1.28508,1.28428,1.30448,1.27924,1.27585,1.27328,1.3365,1.29698,1.2956,1.30347,1.3178,1.31709,1.30062,1.29571,1.31278,1.32137,1.33476,1.29547,1.29662,1.31424,1.315,1.30209,1.29542,1.27311,1.31373,1.31476,1.351,1.27878,1.27567,1.31664,1.28753,1.41197,1.45958,1.31374,1.2967,1.29658,1.41444,1.27459,1.3221,1.32382,1.3243,1.32252,1.32285,1.32339,1.32403,1.32412,1.306,1.30498,1.41965,1.34126,1.30448,1.30469,1.34129,1.35147,1.3186,1.46942,1.4102,1.32431,1.3242,1.32424,1.32428,1.32366,1.32435,1.29861,1.33195,1.30858,1.46792,1.28542,1.31389,1.27341,1.29687,1.30011,1.2777,1.461363,1.31318,1.30545,1.31825,1.31733,1.41725,1.32005,1.41695,1.41859,1.4623,1.46224,1.4679,1.46451,1.27394,1.27943,1.31263,1.32991,1.46784,1.46336,1.46336,1.41783,1.31496,1.33278,1.31853,1.45902,1.27547,1.27638,1.45915,1.46889,1.45803,1.46336,1.32899,1.45766,1.30214,1.35814,1.29817,1.37316,1.28263,1.46448,1.46231,1.46411,1.27767,1.46415,1.30165,1.30263,1.46336,1.46336,1.28548,1.46216,1.46063,1.46336,1.28469,1.30126,1.46449,1.29999,1.45735,1.45835,1.46338,1.2738,1.31591,1.30096,1.33121,1.31042,1.47011,1.46944,1.45851,1.31324,1.31405,1.27901,1.47053,1.46049,1.31784,1.45999,1.46471,1.46523,1.46587,1.46618,1.41444,1.3354,1.45974,1.46443,1.46357,1.46306,1.46495,1.46459,1.33896,1.35148,1.31681,1.2731,1.24826,1.3073,1.30754,1.31809,1.46448,1.27498,1.46998,1.3055,1.47007,1.28516,1.31714,1.46765,1.30398,1.30611,1.30392,1.30617,1.30406,1.30603,1.29673,1.296,1.29651,1.47004,1.46993,1.47036,1.28471,1.28332,1.29617,1.29656,1.41799,1.30617,1.29466,1.32137,1.28107,1.46645,1.46599,1.3006,1.2502,1.30515,1.29666,1.29671,1.30056,1.30047,1.2984,1.30065,1.29557,1.29021,1.30449,1.45925,1.4691,1.37691,1.37655,1.37499,1.35409,1.37525,1.37689,1.37475,1.31009,1.29648,1.29827,1.29635,1.30642,1.46673,1.46538,1.31661,1.32071,1.32017,1.45823,1.45986,1.30059,1.3267,1.31455,1.37694,1.29247,1.29244,1.29046,1.29191,1.29197,1.29225,1.2904,1.29222,1.29093,1.33003,1.29404,1.45752,1.33596,1.30449,1.29869,1.30016,1.29995,1.29996,1.29834,1.29869,1.28536,1.351,1.458701,1.33632,1.30987,1.32417,1.30919,1.3349,1.41846,1.31957,1.32151,1.28091,1.46251,1.46262,1.46369,1.31027,1.35841,1.46234,1.29231,1.45971,1.27637,1.31109,1.2802,1.47057,1.45803,1.46137,1.30061,1.47039,1.29152,1.31889,1.3145,1.3174,1.31755,1.31937,1.31756,1.2941,1.30006,1.29565,1.31193,1.28367,1.46347,1.45965,1.26611,1.2735,1.28152,1.31837,1.2745,1.33728,1.2958,1.3277,1.29682,1.298,1.29628,1.29849,1.29823,1.25737,1.29674,1.29575,1.41604,1.2795,1.27829,1.27752,1.27933,1.28298,1.31544,1.2813,1.28267,1.28283,1.2808,1.30658,1.3062,1.30469,1.30033,1.33711,1.34649,1.28172,1.31472,1.30038,1.30288,1.30082,1.30053,1.30056,1.31219,1.34676,1.30104,1.30117,1.30198,1.46398,1.46451,1.46426,1.46424,1.4627,1.43064,1.45994,1.45893,1.46257531047188,1.29889,1.33669,1.41872,1.31158,1.31274,1.28303,1.28216,1.41626,1.41655,1.41773,1.41659,1.41658,1.40544,1.31569,1.28363,1.28207,1.31267,1.46825,1.46312,1.30078,1.30456,1.27919,1.27773,1.31074,1.47103,1.46984,1.30431,1.30442,1.30454,1.30412,1.30406,1.30457,1.31331,1.29649,1.2961,1.2962,1.46596,1.46588,1.27469,1.37364,1.30397,1.30956,1.31974,1.45869,1.46208,1.3115,1.31822,1.46336,1.45945,1.28097,1.29553,1.27587,1.27588,1.2755,1.2999,1.30206,1.30147,1.35385,1.33688,1.31816,1.28237,1.3005,1.30124,1.31798,1.30965,1.41705,1.28512,1.35346,1.4148,1.27971,1.30283,1.31293,1.34652,1.27518,1.27375,1.34493,1.27413,1.33066,1.28142,1.31981,1.27433,1.32535,1.3255,1.32557,1.32339,1.32513,1.31189,1.45774,1.29888,1.2931220531463623,1.31979,1.33007,1.28257,1.30663,1.31877,1.28322,1.28284,1.27793,1.31259,1.28101,1.280867,1.29509,1.2824,1.28458,1.31794,1.30648,1.30653,1.3355,1.31814,1.29346,1.31273,1.296,1.28048,1.34837,1.34691,1.4591,1.31715,1.3072,1.30567,1.45977,1.28936,1.28923,1.28896,1.28756,1.30427,1.31844,1.30268,1.30199,1.30203,1.30342,1.27751,1.29632,1.30437,1.30458,1.27567,1.29459,1.29978,1.29582,1.28727,1.28855,1.28771,1.28722,1.2872,1.28777,1.27477,1.30701,1.28905,1.28717,1.416806,1.28984,1.29078,1.30785,1.25807,1.33574,1.30109,1.33546,1.34537,1.27325,1.4864,1.29397,1.30055,1.30219,1.30158,1.30223,1.29044,1.29143,1.29277,1.45959,1.28936,1.29714,1.28797,1.299638,1.27757,1.27766,1.31564,1.30854,1.45771,1.28172,1.30086,1.30185,1.29857,1.30272,1.3212,1.32013,1.32004,1.414803,1.32005,1.29873,1.33352,1.45926,1.31834,1.46664,1.46661,1.31032,1.46479,1.28159,1.46651,1.45783,1.4609,1.45947,1.4596,1.32606,1.32414,1.32563,1.32168,1.32001,1.29334,1.32585,1.29829,1.29854,1.2992,1.29915,1.29857,1.27782,1.31763,1.29415,1.28149,1.27743,1.32052,1.46989,1.47138,1.318528,1.318528,1.3178,1.31734,1.30341,1.31921,1.46336,1.318528,1.31867,1.31781,1.31761,1.29734,1.47525,1.318528,1.318528,1.3196,1.4605190747418886,1.4585792000845297,1.4582766379461196,1.47097,1.3115,1.41551,1.31758,1.45962,1.31288,1.31954,1.318528,1.318528,1.356,1.4585,1.318528,1.41676,1.32525,1.4127,1.4171,1.45927,1.318528,1.4581,1.31716,1.365,1.30179,1.27927,1.3111,1.46945,1.46937,1.47118,1.46953,1.30151,1.318528,1.45776,1.318528,1.32629,1.47145,1.318528,1.31853,1.29197,1.318528,1.46168,1.45834,1.33594,1.29126,1.41893,1.318528,1.318528,1.318528,1.412,1.282128,1.31109,1.27928,1.31705,1.31885,1.45962,1.45887,1.46436,1.46022,1.45856,1.46331,1.29304,1.37688,1.313119528212298,1.28359,1.33724,1.45975,1.47019,1.45956,1.46981,1.318524,1.318524,1.318524,1.318524,1.45753,1.39793,1.46764,1.46247,1.31878,1.31829,1.45946,1.46043,1.45773,1.45939,1.46163,1.45787,1.32647,1.30071,1.45837,1.46507,1.37513,1.45951,1.30128,1.45983,1.29109,1.30293,1.30081,1.45893,1.28522,1.28648,1.3022,1.46396,1.30044,1.46854,1.46984,1.47102,1.29896,1.30017,1.45883,1.28668,1.28509,1.30276,1.30006,1.41821,1.46302,1.46878,1.41576,1.41676,1.45982,1.46434,1.46365,1.45987,1.31898,1.3172,1.45958,1.4593287929650285,1.29874,1.41764,1.31122,1.46293,1.30045,1.3004,1.28021,1.4866,1.33724,1.46914,1.46716,1.46817,1.46706,1.35246,1.29186,1.47089,1.46968,1.45956,1.318524,1.318524,1.31815,1.29395,1.34586,1.4598,1.29835,1.29876,1.2984,1.30033,1.3183,1.27836,1.41451,1.32641,1.46022,1.46041,1.45988,1.31391,1.30871,1.41435,1.4580793099003968,1.41785,1.30191,1.29677,1.29225,1.27649,1.30475,1.46951,1.31499,1.46243,1.29168,1.43927,1.45957,1.31684,1.45848,1.30662,1.29937,1.2948,1.29674,1.45755,1.46501,1.46065,1.45974,1.46175,1.3015,1.30291,1.30169,1.30086,1.30167,1.30285,1.46253,1.31584,1.41711,1.29615,1.41544,1.41462,1.4578,1.287497,1.46734,1.30806,1.41782,1.45749,1.45977,1.29846,1.45968,1.45986,1.45769,1.4584490523318727,1.45904,1.29043,1.27825,1.31618,1.300727,1.46918,1.45969,1.318524,1.45784,1.31896,1.46336,1.45802,1.45982,1.35641,1.27634,1.33062,1.27968,1.29862,1.29905,1.31945,1.46581,1.46386,1.3058,1.46409,1.46589,1.45932,1.45792,1.4592,1.45787,1.300834,1.40739,1.45982,1.29581,1.46085,1.29478,1.29466,1.29673,1.2962,1.29528,1.41851,1.29458,1.29636,1.29488,1.2966,1.29598,1.296,1.29502,1.30939,1.45872,1.325,1.45753,1.28152,1.28245,1.45964,1.47,1.41594,1.458805,1.46731,1.45838,1.31462,1.27128,1.46705,1.45809,1.27126,1.45915,1.27016,1.45866,1.45997,1.30261,1.41627,1.41774,1.41766,1.3082,1.27014,1.416831,1.26995,1.45743,1.45791,1.28291,1.45973,1.45798,1.45931,1.31521,1.28245,1.416831,1.27016,1.30744,1.41735,1.41706,1.41781,1.41801,1.41732,1.41624,1.306582,1.28328,1.28465,1.28147,1.2849,1.45807,1.45891,1.29105,1.30596,1.4592231958412023,1.317613,1.30427,1.47002,1.46396,1.46336,1.46155,1.46163,1.41796,1.28339,1.29388,1.29446,1.27902,1.41617,1.417929,1.256984,1.30149,1.30401,1.46229,1.31417,1.4588778748062707,1.28146,1.29332,1.28161,1.256984,1.28245,1.28245,1.28245,1.28131,1.28245,1.313643,1.46672,1.29661,1.29667,1.29463,1.29661,1.47155,1.45987,1.30075,1.46023,1.4586,1.30248,1.45822,1.2947,1.29644,1.29538,1.45944,1.29494,1.46955,1.46993,1.32391,1.32546,1.458763,1.46244,1.41333,1.29664,1.33021,1.2564422399019202,1.28175,1.4596315380852165,1.41781,1.30773,1.30993,1.41642,1.41765,1.285,1.29337,1.46536,1.29464,1.29472,1.27336,1.2753,1.41626,1.41594,1.31219,1.45757,1.463419,1.46257,1.283671,1.2909,1.28918,1.4159,1.30431,1.28896,1.29049,1.45773,1.31749,1.29615,1.29653,1.28179,1.29627,1.337961,1.29662,1.29656,1.29487,1.29473,1.29318,1.318524,1.32429,1.46669,1.32615,1.2907,1.29057,1.28058,1.4604,1.29408,1.46453,1.29981,1.29589,1.46028,1.29267,1.41875,1.30109,1.46264,1.41887,1.41859,1.41207,1.29995,1.2922,1.29187,1.48521,1.46411,1.31524,1.30835,1.31019,1.27004,1.46682,1.30478,1.31903,1.32227,1.28035,1.27849,1.28422,1.33893,1.45791,1.30762,1.29664,1.46425,1.29669,1.312039,1.30325,1.31348,1.3753,1.3715767487616406,1.41406,1.31567,1.31744,1.32026,1.32196,1.31208,1.44008,1.30835,1.48558,1.33898,1.36214,1.29337,1.29309,1.41381,1.41538,1.41563,1.46295,1.33669,1.46766,1.28049,1.29439,1.30477,1.30044,1.28322,1.2828604465911215,1.28158,1.4599,1.46104,1.45969,1.41789,1.31443,1.45885,1.41862,1.46377,1.45876,1.46508,1.31687,1.30556,1.3031,1.31638,1.29848,1.29864,1.31727,1.31732,1.31562,1.29908,1.30478,1.46981,1.29616,1.31343,1.2926,1.4595,1.46887,1.4633503061129944,1.4593210185941186,1.4593424693065216,1.470788,1.46842,1.45874,1.32481,1.41676,1.4162,1.4587810107046466,1.46336,1.28437,1.4619,1.4581366776574831,1.45867,1.4587,1.316059,1.29663,1.41751,1.46216,1.32866,1.27599,1.31547,1.31698,1.46454,1.41619,1.4173,1.3148128,1.41868,1.32396,1.32396,1.32396,1.46827,1.4596956876321263,1.46187,1.4616560258245206,1.41652,1.3294741,1.4171706889264832,1.45871,1.3374,1.2747254015690903,1.2745402799857175,1.27402,1.45768,1.41796,1.4588862539924767,1.4576339075784268,1.37775,1.4592215394003414,1.3040607337428574,1.41819,1.4175,1.2965962616988946,1.295310654453104,1.450537882575532,1.3212402,1.41713,1.28421,1.315123724849338,1.3153703824775531,1.3148128,1.3148128,1.3148128,1.41692,1.3392999255839324,1.457698213048304,1.4578140452016002,1.41554,1.4633597,1.3284632695508685,1.3282942634266508,1.4588139758079155,1.4633597,1.2850454,1.4666749616212642,1.2946074788251505,1.41726,1.41714,1.2842085684018127,1.284666758972146,1.41678,1.41785,1.41721,1.41679,1.4678,1.4572994152027428,1.29601,1.46719,1.3654267601223349,1.319062022379054,1.284662968708592,1.2509656956634396,1.2824499,1.4199363966159724,1.4575418592612417,1.41813,1.4633597,1.338821590211825,1.4639486,1.41711,1.4584919835505294,1.296103238364594,1.415877157808712,1.3127557410193067,1.312263730621241,1.470675,1.46973,1.41768,1.4633597,1.2814390349343268,1.2948432998665385,1.41814,1.3253072,1.46868,1.46268,1.4594235273467868,1.4593977194593366,1.285477921929144,1.387353,1.4590268394789574,1.4599213237066002,1.4178328,1.3395802327773496,1.46411,1.41706,1.4586386276813064,1.45806,1.3737832824751477,1.2571870485224814,1.41768,1.41532,1.41735,1.41663,1.282217625619193,1.4600497718549308,1.448178116901776,1.3377580532060782,1.41733,1.4643277809709616,1.4644805,1.4634065538208887,1.4644805,1.4179291,1.4179291,1.466218891903956,1.2832498656945304,1.2816567654594415,1.282097917642521,1.2815104041130565,1.2832688723519532,1.28147,1.28183,1.283096733653474,1.2567518472965111,1.3231386240564431,1.3041603563857431,1.3063865395035883,1.2925688544291014,1.3481304138271926,1.47098,1.281567525719161,1.324068750170831,1.2820503993642345,1.2811517774896948,1.2813882520356683,1.282957594213667,1.2834415217846415,1.2830519338675608,1.41574,1.2812791853867431,1.41748,1.3168076593550035,1.2849268288358908,1.41701,1.459471173576602,1.2569835,1.41569,1.28495,1.41768,1.41562,1.41702,1.3588091,1.27490067166793,1.2830352905345008,1.292574467676037,1.4597127525672071,1.3128534297263186,1.4167043,1.41646,1.282126584435376,1.2818674148455271,1.2916821,1.3215313,1.2821929346905685,1.2818250643251277,1.2837900115263297,1.2916821,1.4587633,1.2826499255069166,1.46572,1.2826499255069166,1.2826499255069166,1.309502198005393,1.3138483742976763,1.2951072,1.2826499255069166,1.2826499255069166,1.29715,1.2821859259613126,1.28265,1.2816801349195428,1.2821306578161205,1.4644805,1.2826499255069166,1.2773465,1.4633597,1.41727,1.2812772067136422,1.4173049310869277,1.345279947726641,1.28175,1.2928154359509303,1.3404891355182418,1.305113651394577,1.327285827067126,1.41651,1.281540823378922,1.2834203152883294,1.2816390470476404,1.31981,1.4593266624493906,1.2837523164682567,1.281667677013734,1.2834981823551694,1.3117441,1.3117441,1.3128536910009507,1.459973628134785,1.31886,1.28293,1.281028461978226,1.2808428541583217,1.4587633,1.4167,1.41898,1.46539,1.4577429344272697,1.3157676,1.41707,1.4169,1.458178,1.31134,1.2817968254118144,1.29646,1.2821661439329928,1.282649925930471,1.282649925930471,1.46625,1.2944,1.281892933895941,1.2816329525508476,1.3276205030723744,1.4636,1.41906,1.45907,1.322907147704617,1.41733612918669,1.3117441,1.36294123044754,1.41762,1.322391065886476,1.282649925930471,1.2575383044490538,1.2795839,1.4576340489704112,1.41828,1.319279609160265,1.4177182687872618,1.347686,1.41812,1.2836629420920187,1.46841,1.4423779,1.4672,1.457033393881656,1.4123699,1.2808715108915572,1.2666222039019843,1.2874161,1.2874161,1.2862879112928196,1.2874161,1.2874161,1.2874161,1.4578834230061115,1.4575138453102197,1.41672,1.4176,1.33071413646994,1.325513035568159,1.3434618,1.3287087925753331,1.330216503097983,1.416803146847462,1.41795,1.4669055,1.41627,1.41614,1.2562380912875115,1.2808225686628565,1.3166391,1.3081856864813244,1.41827,1.3185236,1.284619481913345,1.3285338759758405,1.3529103552615394,1.41555,1.46707,1.36994349175762,1.41765,1.4629,1.3084608152501855,1.2909566142071491,1.25544,1.3684016314149676,1.3120474410123326,1.4584896267542309,1.41702,1.3272054,1.2872015570913036,1.41751,1.41789,1.2931364,1.340451429521586,1.45781,1.41826,1.41822,1.41699,1.2825612886719882,1.41644,1.3675565158405016,1.41628,1.284559452654546,1.283989578705699,1.284429448804044,1.2860778115791205,1.41815,1.2811649536305505,1.2581623516033342,1.4159401722389915,1.41445,1.41768,1.41713,1.41774,1.2844023126397797,1.2862177649978204,1.2803958360786474,1.2804889670197277,1.3125705687886586,1.2816810110277816,1.3109484744388302,1.352236144063582,1.306383453182531,1.2838174868155994,1.3159081702116489,1.315226089331056,1.3153613627592873,1.2808512,1.47135,1.282637452596422,1.2961077832308674,1.296736901346336,1.41722,1.28539,1.3049798985451528,1.306420669351544,1.28701,1.3173806045927967,1.31535770435704,1.3151799343714417,1.3174893644207593,1.3174956899520474,1.317088397809813,1.3152955115858929,1.3155589743492953,1.3152278674242237,1.3152,1.315767608172247,1.317325895925206,1.2974421799646805,1.2968928694301645,1.3172932402977242,1.3172,1.3172665709551752,1.2973293340199217,1.3154,1.283045956607974,1.4654855922901606,1.41638,1.2784193510925688,1.4127,1.4702059026687704,1.3708796,1.46449,1.310982634536298,1.3206426665386883,1.4592184049085135,1.46316,1.30031,1.38915,1.3171479798705092,1.3154127054166127,1.317103164014922,1.2990128421465954,1.3029948,1.3029948,1.284244767032635,1.4587633,1.2831600854127891,1.3093895334485677,1.4738,1.297881128418724,1.297755054238218,1.30355,1.2782687587017836,1.3131123861509848,1.2935635561834216,1.2975668464474144,1.2800771159273348,1.2803786722902455,1.2825561487162396,1.2815564127775054,1.282049908712101,1.2838921813172155,1.2820432870337382,1.3101111318313925,1.3082119231801423,1.2943600077877142,1.4178328,1.296426555109553,1.461152499878983,1.46036,1.2863126322374687,1.2763559745276745,1.2877227969270058,1.2881683401710955,1.4599022201067102,1.2858544693348666,1.2807922902746955,1.4707307047383713,1.4579563716739936,1.41586,1.416735872791815,1.41663,1.3102073922667083,1.278346046859261,1.2812674025751896,1.317474623629936,1.3036245,1.47046,1.2878469787391855,1.46697,1.28214551868361,1.3086164578422068,1.28353007548526,1.30576869140814,1.2796094447835022,1.46438,1.2818673429618836,1.4596495781537917,1.4596372130938562,1.46502,1.2800871302258563,1.2964312677588965,1.2783339659926565,1.4591974090185726,1.45956,1.322842131654643,1.2815799434757584,1.2789854549114368,1.4582205034669375,1.2832478485151348,1.46369,1.41561,1.2813267182713808,1.4159403,1.2844674526101303,1.2799228923834889,1.2816936792478335,1.2809936738577576,1.2811981391907594,1.28151580674285,1.2834216540491528,1.4575836010033172,1.4586229445953978,1.2821459967704167,1.45804338592356,1.2531961,1.4579821081884845,1.2936953021785873,1.2819598861501298,1.299569,1.3018163590754626,1.3079207106063386,1.47058,1.2820653505180863],\"legendgroup\":\"\",\"lon\":[103.78521,103.95887,103.95958,103.961,103.81144,103.95979,103.83924,103.8102,103.81225,103.81138,103.9609,103.83784,103.83788,103.83768,103.95717,103.85206,103.79812,103.87312,103.84498,103.84597,103.84253,103.80941,103.82299,103.86339,103.84317,103.85846,103.86243,103.83454,103.83742,103.85583,103.84311,103.84238,103.94375,103.86359,103.87374,103.84253,103.84424,103.84424,103.84424,103.84255,103.92361,103.88343,103.91569,103.92125,103.84524,103.92211,103.85255,103.91663,103.85143,103.89765,103.83496,103.86028,103.86028,103.86028,103.86214,103.8007,103.78439,103.84318,103.88423,103.84658,103.95858,103.9617,103.84275,103.84341,103.9059,103.86002,103.84074,103.84463,103.84344,103.84117,103.8812,103.86942,103.85401,103.86171,103.84165,103.85792,103.84868,103.83865,103.86276,103.84994,103.84249,103.84212,103.83274,103.94396,103.79717,103.82881,103.84133,103.83188,103.84074,103.85742,103.84575,103.93821,103.77437,103.83382,103.84073,103.84063,103.84796,103.84769,103.85843,103.83581,103.79714,103.82386,103.72204,103.79304,103.79264,103.85689,103.73082,103.881,103.96073,103.96256,103.96223,103.85344,103.85759,103.9626,103.79736,103.96465,103.90537,103.79687,103.78434,103.88439,103.85202,103.84253,103.84914,103.82847,103.840942,103.76707,103.76804,103.82376,103.85849,103.85252,103.89104,103.87071,103.85758,103.86892,103.87037,103.76475,103.78094,103.88983,103.86325,103.88133,103.8634,103.65643,103.784,103.80247,103.72607,103.88467,103.85735,103.76751,103.86344,103.8426,103.86163,103.85649,103.85702,103.90624,103.80408,103.87098,103.90207,103.727,103.86305,103.86342,103.86268,103.86415,103.73706,103.91466,103.85557,103.82905,103.91254,103.91232,103.91257,103.91259,103.91394,103.9123,103.91259,103.76716,103.85169,103.85181,103.96045,103.849,103.84953,103.85108,103.84902,103.89381,103.85142,103.84889,103.85222,103.82343,103.65664,103.93969,103.840942,103.84967,103.85091,103.84964,103.85041,103.70155,103.8627,103.85193,103.87241,103.8507,103.85358,103.87242,103.86072,103.84356,103.84122,103.8574,103.85062,103.8482,103.85017,103.86028,103.85076,103.8572,103.74679,103.73425,103.87369,103.87248,103.87212,103.87422,103.8741,103.87371,103.87419,103.72103,103.82345,103.82355,103.93592,103.656265,103.75409,103.655968,103.84335,103.83457,103.85334,103.79026,103.8526,103.90241,103.8433,103.84217,103.84929,103.85976,103.85954,103.86032,103.84215,103.83964,103.8865,103.86044,103.86168,103.861,103.85969,103.85953,103.82344,103.87852,103.85029,103.91024,103.80238,103.89036,103.84821,103.8457,103.86077,103.86066,103.86083,103.86073,103.86054,103.86064,103.86054,103.8416,103.86054,103.86054,103.86054,103.86836,103.82416,103.93315,103.88547,103.65699,103.65642,103.88615,103.90559,103.85174,103.84346,103.8451,103.8603,103.7949,103.85306,103.77971,103.91403,103.88209,103.8235,103.82145,103.82205,103.83075,103.83598,103.87554,103.84876,103.85172,103.74785,103.85184,103.91269,103.91127,103.84301,103.91468,103.91678,103.80346,103.76945,103.84892,103.84855,103.84852,103.85168,103.78932,103.88299,103.88276,103.91,103.78592,103.77518,103.85301,103.86146,103.85642,103.85366,103.8416,103.90497,103.77431,103.85829,103.85829,103.85829,103.85829,103.85829,103.85829,103.85829,103.85829,103.85829,103.85829,103.79008,103.86028,103.91408,103.8465,103.79711,103.82472,103.85285,103.85395,103.88303,103.86162,103.85555,103.89153,103.91456,103.828,103.843,103.84399,103.87973,103.72095,103.78544,103.85937,103.8593,103.86078,103.85904,103.76977,103.85843,103.78534,103.78534,103.84696,103.94855,103.70107,103.8296,103.79747,103.9519,103.85796,103.91588,103.87213,103.84133,103.91497,103.91084,103.82806,103.95444,103.86352,103.91505,103.84806,103.84334,103.84462,103.85075,103.85122,103.91181,103.88742,103.65709,103.84339,103.79736,103.91679,103.84253,103.74873,103.86278,103.84069,103.88422,103.84297,103.86338,103.85111,103.84242,103.85998,103.78707,103.93572,103.71994,103.8437,103.91272,103.91656,103.88215,103.83244,103.86075,103.96517,103.86232,103.96519,103.79575,103.86046,103.86112,103.86059,103.74834,103.8821,103.76966,103.95383,103.8588,103.86019,103.87284,103.93769,103.86168,103.85991,103.84462,103.84395,103.76596,103.81413,103.81647,103.84489,103.84677,103.84064,103.80315,103.78719,103.78741,103.78922,103.84175,103.83774,103.91404,103.83911,103.84297,103.95805,103.84045,103.68701,103.78528,103.68659,103.85829,103.85684,103.86078,103.91641,103.91487,103.9146,103.91237,103.91242,103.85017,103.86054,103.84253,103.84924,103.84368,103.84058,103.86726,103.8634,103.913361,103.91599,103.84347,103.77078,103.78794,103.87264,103.82374,103.7586,103.86028,103.86028,103.86028,103.75837,103.75807,103.83743,103.91243,103.76572,103.8397,103.84293,103.84323,103.86212,103.85493,103.83669,103.82184,103.85647,103.8456,103.83861,103.83809,103.8386,103.79772,103.86165,103.7967,103.83676,103.83858,103.82172,103.86015,103.84457,103.87355,103.85829,103.88163,103.78049,103.83738,103.85899,103.8249,103.882,103.77355,103.83852,103.7234,103.85333,103.86116,103.86143,103.84351,103.86144,103.86218,103.86069,103.69013,103.84077,103.86134,103.72186,103.85453,103.83707,103.83707,103.83707,103.83707,103.83707,103.83707,103.85217,103.85106,103.84896,103.86042,103.84786,103.84773,103.84934,103.85526,103.85526,103.84139,103.84158,103.90893,103.84101,103.85232,103.76018,103.74177,103.71245,103.84322,103.91498,103.78772,103.88002,103.84825,103.84723,103.84904,103.84003,103.84421,103.76795,103.9147,103.88672,103.84158,103.8616,103.87237,103.86098,103.89771,103.79933,103.862,103.82993,103.83627,103.83846,103.81455,103.76634,103.73418,103.83825,103.76533,103.65415,103.82434,103.65248,103.85809,103.653,103.85318,103.8527,103.77163,103.75882,103.91471,103.91258,103.90101,103.76081,103.85688,103.85261,103.85232,103.83707,103.83707,103.83382,103.8828,103.85404,103.8519,103.86305,103.78385,103.86305,103.84928,103.85073,103.8536,103.84256,103.84315,103.85817,103.65524,103.8325,103.84364,103.84285,103.84484,103.819,103.82356,103.86962,103.85702,103.82358,103.65556,103.77275,103.84962,103.88163,103.88217,103.88213,103.78593,103.75904,103.75884,103.85389,103.65248,103.89457,103.64828,103.8433,103.84143,103.85306,103.88148,103.84137,103.84315,103.83001,103.80969,103.84119,103.8566,103.77166,103.85473,103.86103,103.86149,103.8617,103.84791,103.85875,103.85302,103.8529,103.73511,103.84245,103.65333,103.85222,103.83672,103.83666,103.85355,103.90841,103.8596,103.8604,103.85857,103.75212,103.8472,103.85857,103.89046,103.85035,103.84908,103.65557,103.7698,103.75033,103.8587,103.83378,103.74233,103.77043,103.86233,103.6562,103.85165,103.88163,103.65483,103.88228,103.88168,103.84438,103.88525,103.88525,103.85768,103.90487,103.83687,103.88769,103.86113,103.88165,103.8588,103.88114,103.84319,103.65424,103.65307,103.7711,103.84294,103.74143,103.91075,103.84294,103.84497,103.84538,103.84376,103.76175,103.88308,103.88377,103.87706,103.88408,103.88297,103.7857,103.71821,103.8593,103.86254,103.7723,103.88163,103.76788,103.65494,103.76245,103.77217,103.8538,103.9133,103.91492,103.91537,103.91549,103.91541,103.86222,103.87986,103.84057,103.86129,103.86145,103.77029,103.76997,103.771,103.771,103.77148,103.84368,103.94576,103.85067,103.7415,103.74532,103.65614,103.8443,103.83774,103.76086,103.78739,103.84375,103.83869,103.72341,103.7291,103.88247,103.84699,103.74553,103.84294,103.87299,103.85082,103.84442,103.83204,103.78401,103.83721,103.73479,103.78767,103.84007,103.84184,103.80097,103.78552,103.84111,103.84177,103.77074,103.78695,103.84707,103.84294,103.92479,103.84294,103.88303,103.84294,103.84096,103.84587,103.76443,103.83225,103.88163,103.65336,103.85292,103.76208,103.78662,103.85256,103.85392,103.79765,103.84232,103.79624,103.79702,103.83913,103.84048,103.8368,103.83807,103.8399,103.83844,103.73593,103.74987,103.86071,103.89308,103.73539,103.95915,103.82841,103.65334,103.78445,103.65619,103.82896,103.83361,103.77312,103.83998,103.84373,103.72622,103.76864,103.76234,103.65356,103.77055,103.84136,103.78772,103.78576,103.83909,103.78721,103.78564,103.94445,103.85975,103.77127,103.84255,103.77088,103.84025,103.81491,103.78732,103.9411,103.80622,103.89883,103.74521,103.8991,103.88163,103.89967,103.85736,103.78655,103.85426,103.76152,103.65417,103.84166,103.84139,103.84338,103.84207,103.83634,103.88694,103.84017,103.85205,103.85129,103.85314,103.85267,103.85343,103.8513,103.85361,103.85187,103.85354,103.86242,103.86266,103.85143,103.73077,103.77006,103.76827,103.75086,103.78719,103.78603,103.92026,103.86182,103.86187,103.72579,103.84255,103.84586,103.65016,103.8604,103.85212,103.88421,103.91102,103.72612,103.91284,103.91241,103.91211,103.9121,103.77075,103.85311,103.7618,103.78764,103.84224,103.76086,103.85358,103.86923,103.78613,103.85126,103.78746,103.85789,103.90557,103.7695,103.65464,103.80781,103.85347,103.84148,103.83642,103.65313,103.84255,103.78508,103.84983,103.75778,103.88163,103.84278,103.8407,103.78765,103.86022,103.64941,103.84165,103.84257,103.72645,103.91458,103.8516,103.7691,103.8514,103.80674,103.84893,103.65632,103.88158,103.88163,103.86169,103.6522,103.94751,103.84214,103.85331,103.85151,103.76894,103.82951,103.84569,103.72682,103.76151,103.65773,103.88163,103.72817,103.84233,103.76205,103.85826,103.79646,103.89975,103.85358,103.65426,103.83991,103.85341,103.74388,103.79077,103.85213,103.85953,103.86182,103.838,103.84361,103.84212,103.76848,103.64003,103.7617,103.7448,103.83859,103.88331,103.76053,103.76838,103.908,103.90796,103.63888,103.65227,103.9064,103.65287,103.72795,103.88325,103.70406,103.7997,103.7627246,103.86118,103.86232,103.85237,103.88191,103.74297,103.86098,103.88075,103.84395,103.75533,103.76856,103.74386,103.85155,103.8487,103.64003,103.85318,103.7874,103.85798,103.65509,103.86033,103.84751,103.7266,103.76888,103.72856,103.78731,103.78634,103.74572,103.84255,103.76305,103.65603,103.84331,103.87373,103.84856,103.87348,103.85954,103.85962,103.8615,103.86119,103.86003,103.86137,103.85964,103.66173,103.72523,103.89967,103.84693,103.84717,103.85349,103.84584,103.84342,103.87955,103.886,103.7266,103.7266,103.72746,103.63927,103.80004,103.65621,103.65594,103.65637,103.6557,103.65586,103.65783,103.65716,103.6557,103.65716,103.65703,103.65769,103.6934,103.691,103.87176,103.87387,103.8739,103.8732,103.87178,103.78957,103.8816,103.86348,103.88163,103.91172,103.84396,103.84364,103.85097,103.84399,103.84296,103.84396,103.72595,103.84462,103.84472,103.86077,103.85372,103.84669,103.84475,103.84478,103.8613,103.76346,103.87853,103.65272,103.8408,103.84592,103.65559,103.65611,103.76748,103.86098,103.65723,103.76684,103.84732,103.77725,103.76855,103.76947,103.76949,103.73556,103.83317,103.76491,103.85367,103.84255,103.84414,103.76331,103.76276,103.65766,103.8816,103.83535,103.84903,103.77019,103.84349,103.86249,103.65342,103.65557,103.85232,103.76349,103.85363,103.78583,103.84953,103.76365,103.8816,103.73714,103.89147,103.85379,103.84718,103.65567,103.65607,103.85171,103.74147,103.84312,103.84312,103.8423,103.84195,103.84312,103.84255,103.73001,103.76907,103.85895,103.86064,103.84255,103.88163,103.86024,103.8428,103.86335,103.84173,103.85241,103.65648,103.83018,103.76281,103.90527,103.74538,103.76914,103.77076,103.65617,103.86251,103.8816,103.86212,103.85365,103.88163,103.76836,103.86284,103.76837,103.6575,103.7667,103.85951,103.88497,103.76264,103.77137,103.86283,103.84255,103.8601,103.90666,103.84339,103.72437,103.84147,103.92461,103.88348,103.68989,103.6905,103.7718,103.76983,103.72549,103.85985,103.85966,103.91379,103.80814,103.65591,103.68984,103.77561,103.7642,103.72954,103.76852,103.76973,103.76785,103.84498,103.8532,103.94476,103.76709,103.75895,103.72767,103.65621,103.84155,103.74548,103.84065,103.74628,103.72689,103.86064,103.82309,103.65679,103.81448,103.814,103.72224,103.76871,103.86753,103.85827,103.84625,103.7627,103.88262,103.77018,103.92463,103.73024,103.76776,103.84657,103.84491,103.84612,103.74543,103.76262,103.90221,103.84344,103.65556,103.65729,103.72819,103.77225,103.77225,103.84346,103.8442,103.88844,103.89748,103.84979,103.741,103.84284,103.7701,103.86234,103.9027,103.76862,103.76903,103.82778,103.78546,103.78558,103.87403,103.76751,103.768,103.86109,103.76722,103.77054,103.77089,103.85048,103.83417,103.83863,103.76978,103.8279,103.86619,103.78759,103.72868,103.76333,103.72462,103.76137,103.86141,103.86315,103.76982,103.83417,103.84158,103.84255,103.83417,103.83417,103.72583,103.726707,103.86005,103.73003,103.86625,103.83438,103.83402,103.834,103.83417,103.83433,103.83417,103.85291,103.84636,103.83401,103.65538,103.83395,103.83752,103.83637,103.83383,103.83408,103.65203,103.86111,103.86151,103.65123,103.82748,103.82669,103.82797,103.83408,103.76725,103.83381,103.84135,103.86055,103.86166,103.85214,103.83417,103.90373,103.83395,103.82875,103.86146,103.85155,103.84237,103.84333,103.84204,103.82625,103.83392,103.82838,103.770012,103.83862,103.77041,103.76858,103.86503,103.84159,103.72705,103.74622,103.88793,103.85202,103.84467,103.88838,103.72614,103.69361,103.84204,103.83454,103.87822,103.87608,103.83844,103.86828,103.72911,103.90516,103.85832,103.85411,103.7611,103.8323,103.85358,103.73711,103.84842,103.84253,103.84348,103.91454,103.65249,103.76726,103.84873,103.65403,103.79451,103.65462,103.84253,103.82727,103.65656,103.84248,103.84253,103.84183,103.82718,103.65636,103.76948,103.86509,103.76894,103.65509,103.65672,103.84518,103.8429,103.8332,103.85185,103.74405,103.72567,103.76106,103.80647,103.84678,103.8491,103.78706,103.84368,103.84492,103.84517,103.84502,103.86118,103.88163,103.65416,103.65432,103.80677,103.84974,103.86536,103.84367,103.7428,103.65479,103.85357,103.82826,103.84163,103.86005,103.76931,103.77173,103.88163,103.86318,103.65347,103.76749,103.76865,103.75193,103.76803,103.84873,103.84224,103.76741,103.76939,103.86942,103.85181,103.85401,103.70167,103.76884,103.85421,103.72742,103.8621,103.72883,103.77005,103.84751,103.88067,103.76253,103.92209,103.85895,103.65162,103.85245,103.90364,103.92487,103.88163,103.88163,103.86226,103.86032,103.84535,103.87977,103.88163,103.76242,103.88926,103.84253,103.84713,103.77225,103.77094,103.84993,103.84822,103.848,103.85459,103.65528,103.65441,103.7273,103.72679,103.86266,103.76851,103.8294,103.80439,103.78462,103.86784,103.84939,103.65429,103.76777,103.72607,103.76716,103.83153,103.83353,103.83366,103.85316,103.85846,103.76727,103.83154,103.83342,103.76126,103.8336,103.83187,103.7953,103.84782,103.85245,103.83389,103.82984,103.83704,103.84894,103.76169,103.77331,103.77312,103.77295,103.77124,103.76114,103.76135,103.7674,103.8068,103.84737,103.83866,103.76314,103.86381,103.85948,103.85816,103.85723,103.77118,103.85994,103.85,103.84794,103.84895,103.76383,103.855,103.76273,103.83166,103.8205,103.83194,103.83329,103.83197,103.80013,103.77344,103.86388,103.65392,103.65304,103.65236,103.84289,103.84984,103.76279,103.84313,103.7687,103.76837,103.84119,103.84106,103.76863,103.76907,103.77812,103.9,103.72175,103.83846,103.88851,103.84055,103.76273,103.85228,103.83062,103.85038,103.84229,103.79761,103.85373,103.74578,103.72744,103.83773,103.86214,103.89581,103.65424,103.76946,103.84943,103.92194,103.84058,103.77014,103.86337,103.94985,103.76183,103.79981,103.76537,103.7721,103.85252,103.72798,103.76117,103.81887,103.76139,103.86332,103.86108,103.86283,103.86256,103.86606,103.75876,103.84066,103.72794,103.89943,103.84832,103.76973,103.75808,103.85099,103.7856,103.8101,103.6537,103.76581,103.768,103.83405,103.83405,103.83323,103.83405,103.84413,103.81141,103.81143,103.77839,103.8375,103.76555,103.828,103.82651,103.82652,103.75838,103.85332,103.84546,103.76146,103.76076,103.71697,103.76484,103.84253,103.65416,103.71764,103.71839,103.65231,103.65689,103.86321,103.75811,103.76206,103.76138,103.84194,103.84249,103.84215,103.65278,103.75992,103.873,103.84279,103.84729,103.94425,103.87619,103.86232,103.84092,103.85488,103.96706,103.769028,103.77054,103.72759,103.84411,103.65096,103.65165,103.65412,103.85447,103.85316,103.85324,103.8535,103.85366,103.85297,103.85045,103.84926,103.84881,103.85087,103.8511,103.85074,103.88707,103.84092,103.88163,103.83144,103.85187,103.84273,103.84279,103.86118,103.83705,103.76425,103.7626,103.84092,103.72776,103.88205,103.84374,103.84229,103.85346,103.7281,103.74544,103.74476,103.74613,103.74403,103.74557,103.74413,103.74411,103.69871,103.87039,103.87029,103.82695,103.8722,103.85982,103.83774,103.76864,103.84838,103.80651,103.81826,103.76104,103.88063,103.83199,103.84914,103.84052,103.84156,103.65247,103.8432,103.84756,103.86605,103.65485,103.76229,103.77626,103.88536,103.87797,103.87599,103.83125,103.85375,103.85132,103.82537,103.82495,103.76792,103.76957,103.76689,103.86118,103.85812,103.82479,103.82689,103.85841,103.72966,103.86136,103.85845,103.76838,103.7266,103.85074,103.85847,103.85835,103.85958,103.77105,103.85619,103.85851,103.86025,103.65731,103.86045,103.6529,103.86046,103.76979,103.8609,103.76998,103.77078,103.76887,103.86123,103.86103,103.76854,103.77846,103.76165,103.79696,103.73832,103.72613,103.72634,103.76439,103.65456,103.85153,103.83564,103.85361,103.76271,103.88282,103.76776,103.82738,103.7699,103.76818,103.83988,103.77132,103.86076,103.82767,103.86141,103.84169,103.84097,103.83819,103.84014,103.83981,103.83488,103.83257,103.83483,103.844,103.83461,103.85276,103.80477,103.74691,103.85682,103.80362,103.86042,103.86054,103.76858,103.76976,103.65485,103.85975,103.87352,103.88163,103.86086,103.86021,103.84638,103.84413,103.84006,103.65137,103.64176,103.65496,103.74151,103.64062,103.86585,103.65077,103.84833,103.86186,103.76172,103.65304,103.95725,103.86545,103.9094,103.90779,103.88507,103.85692,103.84837,103.84685,103.86369,103.76253,103.83596,103.83596,103.85406,103.72571,103.72791,103.65414,103.77051,103.82597,103.65351,103.76262,103.72658,103.83706,103.72565,103.82812,103.87967,103.76285,103.75713,103.86041,103.84507,103.8578,103.84153,103.84157,103.83434,103.83432,103.72784,103.77108,103.83394,103.83233,103.83293,103.86349,103.74614,103.79806243190468,103.77071,103.76953,103.89852,103.6502,103.83286,103.83267,103.88693,103.88044,103.76926,103.89803,103.7705,103.85316,103.76421356201172,103.77094,103.77123,103.77107,103.88486,103.88207,103.77689,103.80652,103.76804,103.85999,103.76373,103.88457,103.84159,103.8826,103.76931,103.77124,103.77092,103.83402,103.83387,103.77179,103.76303,103.85311,103.83258,103.835,103.83383,103.77109,103.76369,103.77176,103.77194,103.89795,103.83404,103.82586,103.84002,103.83318,103.83426,103.83424,103.84995,103.8537,103.76906,103.83489,103.8347,103.85085,103.83418,103.8352,103.76341,103.80098,103.77068,103.83395,103.76524,103.7621,103.69923,103.76421,103.86056,103.84853,103.76654,103.76899,103.85857,103.84633,103.83239,103.77098,103.85935,103.84501,103.84252,103.84277,103.76904,103.83961,103.83416,103.78598,103.78559,103.82882,103.7876,103.78529,103.76695,103.78541,103.78561,103.78712,103.78536,103.78577,103.78536,103.65578,103.90284,103.83283,103.83246,103.85934,103.78046,103.84195,103.84195,103.88265,103.77118,103.76917,103.7714,103.83335,103.83428,103.76498,103.76693,103.78733,103.78553,103.78572,103.78567,103.76667,103.72704,103.78765,103.78764,103.78742,103.78543,103.84334,103.88301,103.89018,103.8602,103.86064,103.83315,103.87204,103.87205,103.84515,103.65134,103.83282,103.6514,103.76776,103.8518,103.76878,103.65468,103.88275,103.76833,103.86012,103.86019,103.86127,103.82317,103.86192,103.86121,103.77751,103.83318,103.72849,103.86113,103.80802,103.86049,103.76775,103.7697,103.88743,103.76769,103.785,103.78496,103.77993,103.85484,103.76271,103.86177,103.85248,103.89001,103.73593,103.77139,103.80708,103.83397,103.88446,103.84,103.84071,103.71784,103.85158,103.76921,103.851,103.83217,103.84965,103.78702,103.88967,103.82864,103.85756,103.85176,103.85355,103.86003,103.8489,103.84497,103.84125,103.84229,103.8797,103.76466,103.76466,103.76466,103.76466,103.76466,103.76466,103.76466,103.76466,103.76466,103.76466,103.85562,103.8577,103.85775,103.85202,103.8915,103.84125,103.84099,103.84547,103.85104,103.86018,103.7691,103.8816,103.86259,103.74356,103.84918,103.83788,103.8535,103.86345,103.72814,103.84111,103.76157,103.7712,103.76905,103.83701,103.83671,103.6536,103.85742,103.79415,103.84549,103.85072,103.84688,103.80473,103.8467068398134,103.65495,103.84743,103.72759,103.65404,103.65257,103.85804,103.85026,103.85071,103.84882,103.84868,103.85001,103.84342,103.8303451538086,103.76982,103.65424,103.78654,103.89798,103.76793,103.87174,103.77121,103.85201,103.86045,103.70525,103.70508,103.84244,103.8287,103.70405,103.8616,103.86082,103.65433,103.65384,103.84703,103.64993,103.83786,103.8458,103.85386,103.88123,103.85581,103.85583,103.84408,103.84407,103.84668,103.76043,103.75818,103.82924638688564,103.78563,103.86139,103.82496,103.82586,103.86059,103.86152,103.82859,103.8275,103.84561,103.84578,103.82551,103.82554,103.84588,103.84948,103.8458,103.84939,103.74277,103.806,103.86112,103.78016,103.89105,103.8439,103.84577,103.85804,103.78494,103.7685546875,103.86035,103.94925,103.84695,103.84562,103.84523,103.88277,103.86028,103.83384,103.83396,103.78504,103.8463,103.84388,103.84565,103.74192,103.80473,103.83039,103.86125,103.84357,103.84553,103.85184,103.8315,103.82472,103.86206,103.74183,103.80486,103.80657,103.85753,103.85788,103.86133,103.83126,103.83601,103.85741,103.91763,103.81958,103.84626,103.84587,103.84124,103.84724,103.65409,103.76869,103.85438,103.85543,103.85595,103.6539,103.84437,103.91389,103.91331,103.91535,103.91511,103.9135,103.91321,103.91471,103.91374,103.85412,103.85591,103.65078,103.76739,103.85461,103.85574,103.76615,103.81887,103.84377,103.76831,103.65443,103.91367,103.91339,103.91317,103.91346,103.91548,103.91531,103.83576,103.86705,103.82917,103.77019,103.83445,103.88913,103.80812,103.80467,103.83613,103.84479,103.735863,103.89045,103.85881,103.84571,103.84377,103.65635,103.88083,103.65476,103.65493,103.76167,103.76286,103.76979,103.76301,103.84497,103.84106,103.88808,103.86718,103.76656,103.76195,103.76195,103.65634,103.88963,103.78869,103.82628,103.77018,103.84571,103.84538,103.76746,103.76844,103.77017,103.76195,103.84263,103.77066,103.85255,103.76357,103.89594,103.94634,103.84572,103.72671,103.7611,103.72655,103.84902,103.76348,103.79062,103.85084,103.76195,103.76195,103.85896,103.76324,103.76395,103.76195,103.84149,103.84827,103.77297,103.83632,103.76824,103.76854,103.72776,103.84713,103.88235,103.85055,103.79606,103.86171,103.76159,103.76372,103.76895,103.84037,103.8395,103.84844,103.72507,103.76874,103.88605,103.76895,103.77263,103.77121,103.77344,103.77271,103.65502,103.74302,103.76913,103.76232,103.76234,103.76076,103.72755,103.72539,103.84203,103.85201,103.84136,103.84636,103.82401,103.85728,103.83519,103.88386,103.72671,103.83238,103.76377,103.89933,103.76374,103.84196,103.84355,103.76498,103.85052,103.85242,103.85187,103.85044,103.85165,103.8507,103.83746,103.83673,103.83883,103.76234,103.7617,103.76218,103.83391,103.83424,103.83664,103.83717,103.65038,103.83466,103.83664,103.85349,103.84795,103.7715,103.77318,103.84089,103.82413,103.89854,103.83699,103.83711,103.84139,103.8431,103.84087,103.84175,103.83844,103.80631,103.83822,103.76828,103.76187,103.8791,103.88002,103.87899,103.85006,103.88057,103.87992,103.88005,103.86171,103.8571,103.8576,103.85682,103.84189,103.77252,103.77328,103.84695,103.85345,103.85177,103.77056,103.76973,103.88561,103.90846,103.7583,103.76786,103.84089,103.84253,103.84247,103.84025,103.84052,103.84032,103.84162,103.84234,103.84029,103.86728,103.82651,103.76876,103.74445,103.76522,103.76417,103.76376,103.76604,103.76571,103.76583,103.76415,103.78664,103.81921,103.769508,103.74319,103.7619,103.84534,103.76177,103.74079,103.65587,103.75224,103.75245,103.85189,103.76077,103.76246,103.72728,103.76033,103.94056,103.76276,103.80741,103.77015,103.84586,103.861,103.85392,103.76341,103.77067,103.77055,103.85199,103.76225,103.76149,103.84879,103.84687,103.84859,103.84892,103.84827,103.84693,103.82732,103.88389,103.82742,103.86304,103.83527,103.73485,103.76902,103.8096,103.83252,103.85391,103.82708,103.83451,103.74627,103.84179,103.86393,103.83676,103.85571,103.85681,103.85763,103.85561,103.81925,103.85733,103.80359,103.65092,103.84329,103.84552,103.84409,103.8434,103.85853,103.83089,103.84443,103.84564,103.84501,103.84586,103.85367,103.85596,103.85578,103.76588,103.74169,103.72332,103.85342,103.83561,103.76371,103.83654,103.88613,103.88421,103.88594,103.85944,103.73229,103.85026,103.85055,103.85033,103.76248,103.76293,103.76254,103.76211,103.76233,103.77327,103.77137,103.76854,103.73651344780632,103.85232,103.74073,103.65573,103.85606,103.85842,103.84497,103.84268,103.65559,103.65554,103.65729,103.65584,103.65625,103.82071,103.85619,103.85962,103.84271,103.8566,103.77118,103.76118,103.84756,103.8405,103.84514,103.84547,103.85794,103.76379,103.76216,103.82952,103.82895,103.82954,103.82928,103.82936,103.82774,103.85854,103.84203,103.85761,103.85731,103.77051,103.77119,103.84237,103.90219,103.92244,103.86201,103.7525,103.76876,103.76954,103.85825,103.85549,103.761948,103.76885,103.85391,103.85412,103.84181,103.84165,103.84223,103.79909,103.80034,103.86155,103.8511,103.74118,103.76098,103.85227,103.88423,103.83952,103.85175,103.86018,103.6516,103.84319,103.85045,103.89859,103.78613,103.83604,103.85846,103.72554,103.84715,103.84399,103.72393,103.84231,103.86806,103.85374,103.88068,103.84194,103.85167,103.85017,103.85022,103.85028,103.8515,103.85647,103.77036,103.85315,103.83050537109376,103.75252,103.86666,103.84584,103.85602,103.85915,103.86175,103.86139,103.84522,103.85823,103.85378,103.852531,103.80579,103.78262,103.84291,103.88187,103.85511,103.85512,103.74133,103.88212,103.80479,103.85948,103.80782,103.78296,103.8536,103.85538,103.76861,103.76133,103.89806,103.89778,103.76852,103.84881,103.84871,103.84837,103.84849,103.85993,103.82627,103.86,103.86176,103.86176,103.85992,103.8474,103.83844,103.85452,103.85557,103.8494,103.84012,103.79959,103.80731,103.84946,103.84809,103.8481,103.84826,103.84843,103.84809,103.84228,103.76976,103.84844,103.84836,103.655846,103.81995,103.81789,103.76787,103.81952,103.74456,103.8399,103.74329,103.95973,103.84731,103.79365,103.79737,103.85866,103.86009,103.86,103.85852,103.83248,103.84082,103.83911,103.77009,103.84442,103.85355,103.84768,103.847122,103.84827,103.84738,103.85457,103.82984,103.76922,103.84679,103.8602,103.85823,103.85347,103.8407,103.88034,103.85287,103.85217,103.653572,103.85216,103.8494,103.87775,103.76984,103.8278,103.72474,103.72491,103.82681,103.77258,103.85183,103.77343,103.76905,103.76888,103.76904,103.76831,103.84689,103.84527,103.84532,103.86365,103.86503,103.8396,103.84677,103.85164,103.8416,103.84138,103.83961,103.84123,103.84746,103.84865,103.82786,103.85163,103.84837,103.75308,103.76214,103.76248,103.847511,103.847511,103.8483,103.84217,103.86356,103.84676,103.761948,103.847511,103.84683,103.84852,103.84837,103.82659,103.78119,103.847511,103.847511,103.84804,103.76984721327896,103.76985893958346,103.7689063916764,103.76356,103.85708,103.65244,103.84717,103.76868,103.85769,103.84712,103.847511,103.847511,103.86437,103.76879,103.847511,103.6533,103.85034,103.65289,103.65551,103.7704,103.847511,103.76955,103.84506,103.86175,103.82864,103.78705,103.85787,103.7625,103.76389,103.76187,103.7623,103.79785,103.847511,103.76908,103.847511,103.84921,103.76374,103.847511,103.84751,103.80585,103.847511,103.77036,103.76979,103.74287,103.84117,103.65514,103.847511,103.847511,103.847511,103.83421,103.858704,103.90705,103.83754,103.84549,103.84519,103.7693,103.77152,103.76276,103.77065,103.7712,103.74727,103.81724,103.88014,103.89432590161285,103.86182,103.74294,103.76906,103.76247,103.77066,103.76187,103.847511,103.847511,103.847511,103.847511,103.77001,103.91225,103.76569,103.76092,103.84838,103.84646,103.76899,103.76916,103.76777,103.76743,103.76925,103.76805,103.85086,103.8403,103.77042,103.74567,103.94739,103.77033,103.85697,103.76848,103.84228,103.85849,103.85706,103.77054,103.83317,103.83366,103.84131,103.76084,103.84009,103.77116,103.76388,103.76372,103.88392,103.886,103.7703,103.83444,103.83333,103.90158,103.85989,103.65686,103.72887,103.77001,103.65286,103.65542,103.77003,103.76125,103.76271,103.7716,103.84683,103.84669,103.769318,103.76919245872192,103.84127,103.65131,103.85807,103.76217,103.84139,103.84111,103.78408,103.81563,103.74269,103.77118,103.77112,103.76982,103.76991,103.85013,103.84215,103.76379,103.76192,103.76847,103.847511,103.847511,103.84841,103.8268,103.9601,103.76908,103.85834,103.86027,103.86009,103.85967,103.84652,103.85219,103.6554,103.83715,103.7683,103.76949,103.7701,103.85675,103.83706,103.65294,103.7683729661641,103.65282,103.84168,103.84068,103.77137,103.85472,103.84638,103.76176,103.80648,103.72643,103.76218,103.93205,103.76747,103.83967,103.76841,103.85441,103.83877,103.83841,103.83941,103.76774,103.72577,103.77081,103.77078,103.76976,103.85693,103.85876,103.85695,103.85726,103.8567,103.85908,103.76809,103.85703,103.65599,103.83811,103.6554,103.65541,103.76834,103.848557,103.76977,103.85404,103.65156,103.76882,103.76918,103.85375,103.76876,103.77007,103.77033,103.76970508126678,103.77046,103.8089,103.85154,103.85503,103.788452,103.75843,103.76804,103.847511,103.76915,103.84668,103.761948,103.77024,103.76855,103.96411,103.84163,103.87531,103.85193,103.7877,103.78739,103.83388,103.72755,103.72827,103.82584,103.72894,103.72792,103.76753,103.76752,103.76914,103.77021,103.788559,103.90315,103.77033,103.83797,103.77054,103.8382,103.83946,103.84027,103.83977,103.84019,103.65509,103.83887,103.83982,103.84017,103.8402,103.83822,103.83997,103.84022,103.86245,103.77014,103.81091,103.76894,103.8573,103.85788,103.77018,103.76223,103.654411,103.769371,103.76589,103.77033,103.8589,103.79836,103.77115,103.76869,103.79836,103.7696,103.79775,103.77072,103.76911,103.86342,103.65102,103.64975,103.65031,103.76833,103.79798,103.653244,103.79804,103.76982,103.76997,103.85879,103.76907,103.76877,103.76812,103.8425,103.85788,103.653244,103.79832,103.89537,103.651,103.65218,103.65215,103.65199,103.65299,103.65189,103.923561,103.8585,103.84732,103.85674,103.84892,103.76859,103.76882,103.84186,103.76697,103.7684012029399,103.85199,103.85505,103.7274,103.76276,103.761948,103.7695,103.76915,103.65353,103.85764,103.82811,103.83079,103.78622,103.65173,103.655365,103.820267,103.8508,103.85234,103.76087,103.88107,103.76966144889592,103.85904,103.84366,103.85859,103.820267,103.85788,103.85788,103.85788,103.85674,103.85788,103.885719,103.72787,103.83956,103.83996,103.84011,103.83863,103.76338,103.77007,103.84156,103.76786,103.76824,103.83982,103.76888,103.84002,103.83879,103.83842,103.77014,103.84016,103.76328,103.76219,103.84606,103.84533,103.769493,103.76983,103.65498,103.83998,103.86669,103.82123435232256,103.85845,103.770537335577,103.65205,103.76954,103.76127,103.655495,103.65234,103.84968,103.84248,103.72967,103.84009,103.83931,103.84587,103.8451,103.65309,103.65284,103.88038,103.77053,103.76207,103.76248,103.860489,103.83195,103.83042,103.65335,103.78495,103.83108,103.83248,103.76789,103.84582,103.84074,103.83843,103.85726,103.8404,103.870148,103.83913,103.83844,103.8385,103.8401,103.84179,103.847511,103.84535,103.76974,103.84621,103.83218,103.83237,103.78438,103.77027,103.83272,103.72697,103.84968,103.83101,103.77164,103.84125,103.65466,103.84151,103.76885,103.65398,103.65406,103.65409,103.84956,103.8063,103.80634,103.83332,103.76133,103.82785,103.76131,103.76283,103.79657,103.72668,103.78475,103.84564,103.79026,103.78627,103.78625,103.85926,103.86796,103.76865,103.76744,103.8069,103.76082,103.80714,103.836998,103.78495,103.88217,103.83055,103.944318415429,103.65333,103.82629,103.82654,103.84254,103.84222,103.88127,103.70312,103.76936,103.83143,103.86878,103.76512,103.83989,103.84186,103.65323,103.65266,103.65301,103.7625,103.86812,103.76554,103.78609,103.83861,103.8524,103.84164,103.85863,103.85883628591692,103.85883,103.7689,103.76912,103.76873,103.65185,103.88853,103.76662,103.65651,103.76168,103.76935,103.75879,103.82607,103.91283,103.8364,103.84279,103.78732,103.78694,103.82623,103.82667,103.85674,103.84004,103.83771,103.76359,103.82899,103.72092,103.83293,103.77002,103.77127,103.76193690299988,103.7701826455078,103.77016118783568,103.7627246,103.77146,103.77071,103.85227,103.65385,103.65302,103.76936338841917,103.76194,103.85082,103.76119,103.77040124589612,103.77011,103.77032,103.9776616,103.84248,103.65283,103.77067,103.94214,103.84715,103.82653,103.82623,103.72936,103.65306,103.65261,103.8984635,103.65655,103.85283,103.85283,103.85283,103.76551,103.76866048879204,103.77196,103.76980944232788,103.65531,103.6822694,103.65607595714722,103.7681,103.86981,103.84209943174504,103.84188239246112,103.84229,103.76842,103.65469,103.76815907657146,103.76943794961824,103.74501,103.76921391639404,103.78754716181793,103.65129,103.65127,103.83821137029264,103.8401662421086,103.81429340690374,103.7910179,103.65145,103.84619,103.89748313926694,103.89756368808568,103.8984635,103.8984635,103.8984635,103.65129,103.87064790831764,103.7705182004426,103.76915384141664,103.65408,103.7619442,103.68155826295988,103.68287997586457,103.76857018623046,103.7619442,103.8347855,103.72735771940344,103.83842315558776,103.65207,103.65202,103.8351300759014,103.83364847819271,103.65521,103.65095,103.65276,103.65611,103.76922,103.76901303041927,103.838,103.77053,103.76389447421116,103.76247864264556,103.833926033815,103.84583429640512,103.8578807,103.66371159821225,103.76879298891184,103.64991,103.7619442,103.86836510750436,103.7332863,103.65639,103.7685657690787,103.83991140780812,103.65404315292837,103.85904440778502,103.8613623045377,103.7630297,103.76176,103.65372,103.7619442,103.85365086115496,103.84001442887016,103.65175,103.8498993,103.77078,103.76251,103.76983176916838,103.76997426152228,103.86036113967934,103.743784,103.77047916352134,103.77019343739116,103.6563392,103.87069412533546,103.7611,103.65569,103.76836194849996,103.76943,103.90021736649776,103.82141051316624,103.65113,103.65372,103.65296,103.65289,103.85700617007562,103.77068524928973,103.83143341069416,103.74851988752587,103.65562,103.72633989284522,103.7267093,103.7275184895367,103.7267093,103.6553628,103.6553628,103.72642548604564,103.8450743895941,103.84709959492344,103.84696933984776,103.8456749588044,103.84525182809034,103.84691,103.84537,103.84487043616954,103.82033105939624,103.86622412115123,103.78881113706102,103.78881765991068,103.8037215572133,103.6959764078999,103.76185,103.84577776704432,103.84740810816288,103.8447356340068,103.84529292621512,103.84470705591536,103.84678238358552,103.84518206416162,103.84656554365306,103.65135,103.84681161964376,103.653,103.8443609744333,103.85109054054442,103.65149,103.76902393121335,103.8202676,103.65275,103.84947,103.65107,103.65279,103.65153,103.8257696,103.84190157615636,103.846978359739,103.8056413953604,103.76448133489484,103.85963641744326,103.6518059,103.65208,103.84676612840089,103.84695841301854,103.8048268,103.8527231,103.8471067127746,103.84655936526366,103.84502770988856,103.8048268,103.769496,103.84601689875126,103.72723,103.84601689875126,103.84601689875126,103.85836751293868,103.89967074508012,103.8285254,103.84601689875126,103.84601689875126,103.83789,103.84710187581064,103.84602,103.84672654345032,103.84695626223385,103.7267093,103.84601689875126,103.8536086,103.7619442,103.65123,103.857511369803,103.65272857990112,103.63530011330454,103.84576,103.83794031052192,103.85204304111818,103.834921571403,103.84722597776592,103.65229,103.84484419814018,103.84509665138071,103.84526796567526,103.77742,103.77032375003614,103.84547402625732,103.84685301131022,103.84556782484913,103.8602406,103.8602406,103.86063810531166,103.76756432311244,103.8441,103.84719,103.84592985234862,103.84585773769842,103.769496,103.65319,103.65595,103.77289,103.7704385157706,103.8459867,103.65652,103.65268,103.7658893,103.85985,103.85875266642918,103.83944,103.84691632274334,103.84601689875126,103.84601689875126,103.77021,103.83934,103.8586497359192,103.8585763424635,103.9463723457163,103.72563,103.65504,103.76906,103.89213748995206,103.65295553368128,103.8602406,103.76419577747583,103.65138,103.89147895515958,103.84601689875126,103.821414676741,103.8506561,103.77052075480944,103.65151,103.76115189678204,103.655173368752,103.771792,103.65406,103.82679740998694,103.76593,103.7934851,103.76985,103.76500189674174,103.835094,103.8456286706577,103.82474684216002,103.8472705,103.8472705,103.84809190434636,103.8472705,103.8472705,103.8472705,103.76908131314003,103.76878991255182,103.65303,103.65365,103.94424225887136,103.85062877982232,103.6895538,103.68149993182791,103.68128991054574,103.65563109682007,103.65177,103.7267065,103.652,103.65436,103.82102345526934,103.84703775561118,103.8298825,103.8336393780906,103.65168,103.8475129,103.85965861863625,103.68182305710944,103.85271256786368,103.65329,103.77125,103.86532856319585,103.65225,103.76223,103.86335616852304,103.85058211695804,103.81533,103.8582214631832,103.88262338387256,103.76964599303813,103.65223,103.8419479,103.84856679010916,103.65054,103.6511,103.8063663,103.9589383948842,103.76932,103.64984,103.65124,103.65224,103.85750027477032,103.65388,103.84467761744725,103.65383,103.83398460478722,103.83426616078827,103.83374882747142,103.83455848044476,103.65333,103.85162966066152,103.82050181939816,103.65440994501114,103.6526,103.65374,103.65366,103.65227,103.8338655285608,103.8344055322915,103.8496756154513,103.84757138851197,103.861199778575,103.84758709197216,103.86033559982324,103.85300984009385,103.78801540146544,103.86043790420176,103.82805895550275,103.82612548793831,103.82786019338812,103.8529161,103.76313,103.85800438774372,103.84023995231276,103.840071966987,103.6529,103.83593,103.92227805883344,103.92399163618197,103.84999,103.82634753915426,103.82823924209714,103.82813054934536,103.82615133137098,103.82786026988232,103.82604099607444,103.8261876055727,103.8278840953741,103.82687876091448,103.82775,103.82826996178812,103.8274954566922,103.8560337152306,103.85576002299786,103.82612409508954,103.82788,103.82697845266406,103.85425784026404,103.82818,103.85831797061412,103.7278428850248,103.65485,103.86193382266596,103.65575,103.78514800715584,103.9462779,103.7623,103.8598213629862,103.8925875790479,103.76881185919046,103.77219,103.84562,103.64086,103.82619081494336,103.8280616560566,103.8281434711639,103.8574057872996,103.8387408,103.8387408,103.83367449408536,103.769496,103.86049814522266,103.85418983545696,103.77514,103.85510868535364,103.85651444338151,103.85524,103.86198048105926,103.92214942088894,103.84119352632872,103.85381174729734,103.84490858071835,103.84691105886426,103.84634674743936,103.8466087962557,103.8454344405818,103.84413173521231,103.84535589846568,103.85399340366033,103.85434915359866,103.83856834346447,103.6563392,103.84042202065196,103.7709012167219,103.77142,103.8490749754162,103.84144409684367,103.84914401943584,103.84722421667848,103.76918913784982,103.8490370279328,103.78705624490976,103.76251738518476,103.7690084782166,103.6516,103.65435395389795,103.65415,103.89241153936254,103.8619183054042,103.85668340674889,103.84814421965442,103.797154,103.76288,103.84864302658426,103.73879,103.85702482966823,103.83859874795805,103.84574117784868,103.83307825773954,103.85304821362332,103.76001,103.7863484331192,103.76851712946912,103.77000741957052,103.76477,103.78620042354508,103.83796425082014,103.86197060272994,103.76852298808612,103.77057,103.85372781739112,103.78742890550927,103.78533746201435,103.76860434971756,103.8589481323451,103.76223,103.65569,103.78517232555454,103.6544101,103.85990869204592,103.78628258611644,103.78791597323504,103.78803289341803,103.78805185338268,103.78779722027411,103.86147616335856,103.769083415217,103.7701326486938,103.85334052437436,103.76877250019751,103.8194919,103.77019347602943,103.82948572869547,103.85699319509251,103.8985672,103.83907749635362,103.83150241120804,103.76242,103.8587138056755],\"marker\":{\"color\":\"#636efa\"},\"mode\":\"markers\",\"name\":\"\",\"showlegend\":false,\"subplot\":\"mapbox\",\"type\":\"scattermapbox\"}],                        {\"template\":{\"data\":{\"histogram2dcontour\":[{\"type\":\"histogram2dcontour\",\"colorbar\":{\"outlinewidth\":0,\"ticks\":\"\"},\"colorscale\":[[0.0,\"#0d0887\"],[0.1111111111111111,\"#46039f\"],[0.2222222222222222,\"#7201a8\"],[0.3333333333333333,\"#9c179e\"],[0.4444444444444444,\"#bd3786\"],[0.5555555555555556,\"#d8576b\"],[0.6666666666666666,\"#ed7953\"],[0.7777777777777778,\"#fb9f3a\"],[0.8888888888888888,\"#fdca26\"],[1.0,\"#f0f921\"]]}],\"choropleth\":[{\"type\":\"choropleth\",\"colorbar\":{\"outlinewidth\":0,\"ticks\":\"\"}}],\"histogram2d\":[{\"type\":\"histogram2d\",\"colorbar\":{\"outlinewidth\":0,\"ticks\":\"\"},\"colorscale\":[[0.0,\"#0d0887\"],[0.1111111111111111,\"#46039f\"],[0.2222222222222222,\"#7201a8\"],[0.3333333333333333,\"#9c179e\"],[0.4444444444444444,\"#bd3786\"],[0.5555555555555556,\"#d8576b\"],[0.6666666666666666,\"#ed7953\"],[0.7777777777777778,\"#fb9f3a\"],[0.8888888888888888,\"#fdca26\"],[1.0,\"#f0f921\"]]}],\"heatmap\":[{\"type\":\"heatmap\",\"colorbar\":{\"outlinewidth\":0,\"ticks\":\"\"},\"colorscale\":[[0.0,\"#0d0887\"],[0.1111111111111111,\"#46039f\"],[0.2222222222222222,\"#7201a8\"],[0.3333333333333333,\"#9c179e\"],[0.4444444444444444,\"#bd3786\"],[0.5555555555555556,\"#d8576b\"],[0.6666666666666666,\"#ed7953\"],[0.7777777777777778,\"#fb9f3a\"],[0.8888888888888888,\"#fdca26\"],[1.0,\"#f0f921\"]]}],\"heatmapgl\":[{\"type\":\"heatmapgl\",\"colorbar\":{\"outlinewidth\":0,\"ticks\":\"\"},\"colorscale\":[[0.0,\"#0d0887\"],[0.1111111111111111,\"#46039f\"],[0.2222222222222222,\"#7201a8\"],[0.3333333333333333,\"#9c179e\"],[0.4444444444444444,\"#bd3786\"],[0.5555555555555556,\"#d8576b\"],[0.6666666666666666,\"#ed7953\"],[0.7777777777777778,\"#fb9f3a\"],[0.8888888888888888,\"#fdca26\"],[1.0,\"#f0f921\"]]}],\"contourcarpet\":[{\"type\":\"contourcarpet\",\"colorbar\":{\"outlinewidth\":0,\"ticks\":\"\"}}],\"contour\":[{\"type\":\"contour\",\"colorbar\":{\"outlinewidth\":0,\"ticks\":\"\"},\"colorscale\":[[0.0,\"#0d0887\"],[0.1111111111111111,\"#46039f\"],[0.2222222222222222,\"#7201a8\"],[0.3333333333333333,\"#9c179e\"],[0.4444444444444444,\"#bd3786\"],[0.5555555555555556,\"#d8576b\"],[0.6666666666666666,\"#ed7953\"],[0.7777777777777778,\"#fb9f3a\"],[0.8888888888888888,\"#fdca26\"],[1.0,\"#f0f921\"]]}],\"surface\":[{\"type\":\"surface\",\"colorbar\":{\"outlinewidth\":0,\"ticks\":\"\"},\"colorscale\":[[0.0,\"#0d0887\"],[0.1111111111111111,\"#46039f\"],[0.2222222222222222,\"#7201a8\"],[0.3333333333333333,\"#9c179e\"],[0.4444444444444444,\"#bd3786\"],[0.5555555555555556,\"#d8576b\"],[0.6666666666666666,\"#ed7953\"],[0.7777777777777778,\"#fb9f3a\"],[0.8888888888888888,\"#fdca26\"],[1.0,\"#f0f921\"]]}],\"mesh3d\":[{\"type\":\"mesh3d\",\"colorbar\":{\"outlinewidth\":0,\"ticks\":\"\"}}],\"scatter\":[{\"fillpattern\":{\"fillmode\":\"overlay\",\"size\":10,\"solidity\":0.2},\"type\":\"scatter\"}],\"parcoords\":[{\"type\":\"parcoords\",\"line\":{\"colorbar\":{\"outlinewidth\":0,\"ticks\":\"\"}}}],\"scatterpolargl\":[{\"type\":\"scatterpolargl\",\"marker\":{\"colorbar\":{\"outlinewidth\":0,\"ticks\":\"\"}}}],\"bar\":[{\"error_x\":{\"color\":\"#2a3f5f\"},\"error_y\":{\"color\":\"#2a3f5f\"},\"marker\":{\"line\":{\"color\":\"#E5ECF6\",\"width\":0.5},\"pattern\":{\"fillmode\":\"overlay\",\"size\":10,\"solidity\":0.2}},\"type\":\"bar\"}],\"scattergeo\":[{\"type\":\"scattergeo\",\"marker\":{\"colorbar\":{\"outlinewidth\":0,\"ticks\":\"\"}}}],\"scatterpolar\":[{\"type\":\"scatterpolar\",\"marker\":{\"colorbar\":{\"outlinewidth\":0,\"ticks\":\"\"}}}],\"histogram\":[{\"marker\":{\"pattern\":{\"fillmode\":\"overlay\",\"size\":10,\"solidity\":0.2}},\"type\":\"histogram\"}],\"scattergl\":[{\"type\":\"scattergl\",\"marker\":{\"colorbar\":{\"outlinewidth\":0,\"ticks\":\"\"}}}],\"scatter3d\":[{\"type\":\"scatter3d\",\"line\":{\"colorbar\":{\"outlinewidth\":0,\"ticks\":\"\"}},\"marker\":{\"colorbar\":{\"outlinewidth\":0,\"ticks\":\"\"}}}],\"scattermapbox\":[{\"type\":\"scattermapbox\",\"marker\":{\"colorbar\":{\"outlinewidth\":0,\"ticks\":\"\"}}}],\"scatterternary\":[{\"type\":\"scatterternary\",\"marker\":{\"colorbar\":{\"outlinewidth\":0,\"ticks\":\"\"}}}],\"scattercarpet\":[{\"type\":\"scattercarpet\",\"marker\":{\"colorbar\":{\"outlinewidth\":0,\"ticks\":\"\"}}}],\"carpet\":[{\"aaxis\":{\"endlinecolor\":\"#2a3f5f\",\"gridcolor\":\"white\",\"linecolor\":\"white\",\"minorgridcolor\":\"white\",\"startlinecolor\":\"#2a3f5f\"},\"baxis\":{\"endlinecolor\":\"#2a3f5f\",\"gridcolor\":\"white\",\"linecolor\":\"white\",\"minorgridcolor\":\"white\",\"startlinecolor\":\"#2a3f5f\"},\"type\":\"carpet\"}],\"table\":[{\"cells\":{\"fill\":{\"color\":\"#EBF0F8\"},\"line\":{\"color\":\"white\"}},\"header\":{\"fill\":{\"color\":\"#C8D4E3\"},\"line\":{\"color\":\"white\"}},\"type\":\"table\"}],\"barpolar\":[{\"marker\":{\"line\":{\"color\":\"#E5ECF6\",\"width\":0.5},\"pattern\":{\"fillmode\":\"overlay\",\"size\":10,\"solidity\":0.2}},\"type\":\"barpolar\"}],\"pie\":[{\"automargin\":true,\"type\":\"pie\"}]},\"layout\":{\"autotypenumbers\":\"strict\",\"colorway\":[\"#636efa\",\"#EF553B\",\"#00cc96\",\"#ab63fa\",\"#FFA15A\",\"#19d3f3\",\"#FF6692\",\"#B6E880\",\"#FF97FF\",\"#FECB52\"],\"font\":{\"color\":\"#2a3f5f\"},\"hovermode\":\"closest\",\"hoverlabel\":{\"align\":\"left\"},\"paper_bgcolor\":\"white\",\"plot_bgcolor\":\"#E5ECF6\",\"polar\":{\"bgcolor\":\"#E5ECF6\",\"angularaxis\":{\"gridcolor\":\"white\",\"linecolor\":\"white\",\"ticks\":\"\"},\"radialaxis\":{\"gridcolor\":\"white\",\"linecolor\":\"white\",\"ticks\":\"\"}},\"ternary\":{\"bgcolor\":\"#E5ECF6\",\"aaxis\":{\"gridcolor\":\"white\",\"linecolor\":\"white\",\"ticks\":\"\"},\"baxis\":{\"gridcolor\":\"white\",\"linecolor\":\"white\",\"ticks\":\"\"},\"caxis\":{\"gridcolor\":\"white\",\"linecolor\":\"white\",\"ticks\":\"\"}},\"coloraxis\":{\"colorbar\":{\"outlinewidth\":0,\"ticks\":\"\"}},\"colorscale\":{\"sequential\":[[0.0,\"#0d0887\"],[0.1111111111111111,\"#46039f\"],[0.2222222222222222,\"#7201a8\"],[0.3333333333333333,\"#9c179e\"],[0.4444444444444444,\"#bd3786\"],[0.5555555555555556,\"#d8576b\"],[0.6666666666666666,\"#ed7953\"],[0.7777777777777778,\"#fb9f3a\"],[0.8888888888888888,\"#fdca26\"],[1.0,\"#f0f921\"]],\"sequentialminus\":[[0.0,\"#0d0887\"],[0.1111111111111111,\"#46039f\"],[0.2222222222222222,\"#7201a8\"],[0.3333333333333333,\"#9c179e\"],[0.4444444444444444,\"#bd3786\"],[0.5555555555555556,\"#d8576b\"],[0.6666666666666666,\"#ed7953\"],[0.7777777777777778,\"#fb9f3a\"],[0.8888888888888888,\"#fdca26\"],[1.0,\"#f0f921\"]],\"diverging\":[[0,\"#8e0152\"],[0.1,\"#c51b7d\"],[0.2,\"#de77ae\"],[0.3,\"#f1b6da\"],[0.4,\"#fde0ef\"],[0.5,\"#f7f7f7\"],[0.6,\"#e6f5d0\"],[0.7,\"#b8e186\"],[0.8,\"#7fbc41\"],[0.9,\"#4d9221\"],[1,\"#276419\"]]},\"xaxis\":{\"gridcolor\":\"white\",\"linecolor\":\"white\",\"ticks\":\"\",\"title\":{\"standoff\":15},\"zerolinecolor\":\"white\",\"automargin\":true,\"zerolinewidth\":2},\"yaxis\":{\"gridcolor\":\"white\",\"linecolor\":\"white\",\"ticks\":\"\",\"title\":{\"standoff\":15},\"zerolinecolor\":\"white\",\"automargin\":true,\"zerolinewidth\":2},\"scene\":{\"xaxis\":{\"backgroundcolor\":\"#E5ECF6\",\"gridcolor\":\"white\",\"linecolor\":\"white\",\"showbackground\":true,\"ticks\":\"\",\"zerolinecolor\":\"white\",\"gridwidth\":2},\"yaxis\":{\"backgroundcolor\":\"#E5ECF6\",\"gridcolor\":\"white\",\"linecolor\":\"white\",\"showbackground\":true,\"ticks\":\"\",\"zerolinecolor\":\"white\",\"gridwidth\":2},\"zaxis\":{\"backgroundcolor\":\"#E5ECF6\",\"gridcolor\":\"white\",\"linecolor\":\"white\",\"showbackground\":true,\"ticks\":\"\",\"zerolinecolor\":\"white\",\"gridwidth\":2}},\"shapedefaults\":{\"line\":{\"color\":\"#2a3f5f\"}},\"annotationdefaults\":{\"arrowcolor\":\"#2a3f5f\",\"arrowhead\":0,\"arrowwidth\":1},\"geo\":{\"bgcolor\":\"white\",\"landcolor\":\"#E5ECF6\",\"subunitcolor\":\"white\",\"showland\":true,\"showlakes\":true,\"lakecolor\":\"white\"},\"title\":{\"x\":0.05},\"mapbox\":{\"style\":\"light\"}}},\"mapbox\":{\"domain\":{\"x\":[0.0,1.0],\"y\":[0.0,1.0]},\"center\":{\"lat\":1.3468419641145983,\"lon\":103.81266737222627},\"zoom\":10,\"style\":\"open-street-map\"},\"legend\":{\"tracegroupgap\":0},\"margin\":{\"t\":0,\"r\":0,\"l\":0,\"b\":0},\"height\":500,\"width\":1000},                        {\"responsive\": true}                    ).then(function(){\n",
              "                            \n",
              "var gd = document.getElementById('52923c74-b4c1-46c8-bedc-e23cebe9d3ef');\n",
              "var x = new MutationObserver(function (mutations, observer) {{\n",
              "        var display = window.getComputedStyle(gd).display;\n",
              "        if (!display || display === 'none') {{\n",
              "            console.log([gd, 'removed!']);\n",
              "            Plotly.purge(gd);\n",
              "            observer.disconnect();\n",
              "        }}\n",
              "}});\n",
              "\n",
              "// Listen for the removal of the full notebook cells\n",
              "var notebookContainer = gd.closest('#notebook-container');\n",
              "if (notebookContainer) {{\n",
              "    x.observe(notebookContainer, {childList: true});\n",
              "}}\n",
              "\n",
              "// Listen for the clearing of the current output cell\n",
              "var outputEl = gd.closest('.output');\n",
              "if (outputEl) {{\n",
              "    x.observe(outputEl, {childList: true});\n",
              "}}\n",
              "\n",
              "                        })                };                            </script>        </div>\n",
              "</body>\n",
              "</html>"
            ]
          },
          "metadata": {}
        }
      ]
    },
    {
      "cell_type": "markdown",
      "source": [
        "There're still lots of listings properties actually located in the outside of Singapore, so we need to clean that data first "
      ],
      "metadata": {
        "id": "x6ZA90qKrj4c"
      }
    },
    {
      "cell_type": "code",
      "source": [
        "listings = listings[listings['latitude']<1.45328]\n",
        "outer_place_index = listings[ (listings['latitude'] > 1.40472) & (listings['longitude'] < 103.6638) ].index \n",
        "listings.drop(outer_place_index , inplace=True)\n",
        "outer_id_index = listings[listings['id'].isin([540170321699689740, 27248990, 27532454, 29171020, 28268681, 39757287, 39732595, 708999801528964619])].index\n",
        "listings.drop(outer_id_index , inplace=True)"
      ],
      "metadata": {
        "id": "uZCnwTtKuVtU",
        "colab": {
          "base_uri": "https://localhost:8080/"
        },
        "outputId": "2813f71a-53aa-4fec-f5f2-b8c7af0d3dc8"
      },
      "execution_count": null,
      "outputs": [
        {
          "output_type": "stream",
          "name": "stderr",
          "text": [
            "<ipython-input-13-fcad2bb88cf5>:3: SettingWithCopyWarning:\n",
            "\n",
            "\n",
            "A value is trying to be set on a copy of a slice from a DataFrame\n",
            "\n",
            "See the caveats in the documentation: https://pandas.pydata.org/pandas-docs/stable/user_guide/indexing.html#returning-a-view-versus-a-copy\n",
            "\n",
            "<ipython-input-13-fcad2bb88cf5>:5: SettingWithCopyWarning:\n",
            "\n",
            "\n",
            "A value is trying to be set on a copy of a slice from a DataFrame\n",
            "\n",
            "See the caveats in the documentation: https://pandas.pydata.org/pandas-docs/stable/user_guide/indexing.html#returning-a-view-versus-a-copy\n",
            "\n"
          ]
        }
      ]
    },
    {
      "cell_type": "code",
      "source": [
        "fig_map2 = px.scatter_mapbox(listings, lat='latitude', lon='longitude', hover_name='id',zoom=10, height=500, width=1000)\n",
        "fig_map2.update_layout(mapbox_style='open-street-map')\n",
        "fig_map2.update_layout(margin={'r':0,'t':0,'l':0,'b':0})\n",
        "fig_map2.show()"
      ],
      "metadata": {
        "colab": {
          "base_uri": "https://localhost:8080/",
          "height": 517
        },
        "id": "rlzVbDI11ElV",
        "outputId": "7786e4c8-e558-4671-dc00-27ec13042d2f"
      },
      "execution_count": null,
      "outputs": [
        {
          "output_type": "display_data",
          "data": {
            "text/html": [
              "<html>\n",
              "<head><meta charset=\"utf-8\" /></head>\n",
              "<body>\n",
              "    <div>            <script src=\"https://cdnjs.cloudflare.com/ajax/libs/mathjax/2.7.5/MathJax.js?config=TeX-AMS-MML_SVG\"></script><script type=\"text/javascript\">if (window.MathJax && window.MathJax.Hub && window.MathJax.Hub.Config) {window.MathJax.Hub.Config({SVG: {font: \"STIX-Web\"}});}</script>                <script type=\"text/javascript\">window.PlotlyConfig = {MathJaxConfig: 'local'};</script>\n",
              "        <script src=\"https://cdn.plot.ly/plotly-2.18.2.min.js\"></script>                <div id=\"69cf30fd-0c44-43d4-9372-ae654255bd82\" class=\"plotly-graph-div\" style=\"height:500px; width:1000px;\"></div>            <script type=\"text/javascript\">                                    window.PLOTLYENV=window.PLOTLYENV || {};                                    if (document.getElementById(\"69cf30fd-0c44-43d4-9372-ae654255bd82\")) {                    Plotly.newPlot(                        \"69cf30fd-0c44-43d4-9372-ae654255bd82\",                        [{\"hovertemplate\":\"<b>%{hovertext}</b><br><br>latitude=%{lat}<br>longitude=%{lon}<extra></extra>\",\"hovertext\":[50646.0,71609.0,71896.0,71903.0,275344.0,289234.0,294281.0,324945.0,330089.0,330095.0,344803.0,369141.0,369145.0,395191.0,606784.0,642660.0,696136.0,733863.0,747813.0,747816.0,765579.0,815685.0,833289.0,863139.0,881253.0,915275.0,962594.0,982909.0,1024986.0,1249555.0,1261443.0,1363204.0,1495386.0,1508829.0,1581224.0,1615074.0,1678744.0,1678754.0,1678755.0,1710048.0,1838622.0,1900478.0,1902729.0,1902793.0,1941719.0,2009008.0,2030663.0,2129215.0,2142826.0,2156372.0,2351979.0,2387588.0,2387715.0,2387730.0,2547778.0,2691621.0,2922184.0,2959811.0,3034137.0,3075620.0,3209752.0,3304326.0,3667894.0,3717196.0,3981252.0,4008423.0,4017084.0,4054698.0,4069756.0,4087935.0,4360679.0,4486217.0,4499317.0,4526703.0,4541072.0,4561032.0,4664392.0,4712676.0,4741630.0,4771752.0,4863317.0,4869221.0,4926170.0,4978175.0,4989903.0,5040689.0,5052014.0,5116961.0,5233415.0,5253599.0,5339318.0,5406502.0,5436010.0,5446857.0,5448209.0,5493930.0,5494971.0,5504230.0,5529062.0,5551665.0,5573458.0,5582645.0,5584157.0,5609608.0,5634851.0,5774164.0,5798211.0,5827713.0,5827998.0,5889741.0,5908083.0,5919270.0,6020248.0,6079533.0,6147375.0,6261313.0,6287204.0,6300577.0,6305559.0,6317686.0,6340605.0,6453321.0,6481052.0,6529707.0,6547248.0,6603464.0,6607671.0,6620261.0,6620271.0,6630341.0,6638508.0,6718219.0,6718514.0,6831622.0,6837947.0,6891630.0,7105265.0,7117201.0,7162659.0,7250709.0,7250803.0,7296138.0,7466596.0,7653937.0,7666349.0,7667016.0,7720994.0,7765392.0,7766300.0,7776711.0,7875935.0,7905972.0,7927886.0,7946472.0,7994039.0,8004063.0,8007663.0,8016113.0,8017511.0,8038199.0,8061522.0,8111607.0,8113569.0,8113712.0,8113821.0,8113893.0,8113936.0,8114003.0,8176609.0,8180339.0,8180346.0,8195397.0,8196180.0,8196359.0,8196417.0,8200542.0,8212166.0,8212422.0,8234618.0,8256942.0,8264717.0,8277151.0,8343880.0,8345350.0,8345921.0,8355592.0,8380826.0,8445747.0,8508225.0,8522750.0,8705956.0,8721639.0,8890247.0,8897560.0,8914905.0,9016784.0,9019945.0,9054629.0,9054941.0,9055103.0,9116730.0,9143024.0,9204908.0,9216943.0,9268058.0,9268500.0,9268680.0,9269260.0,9269637.0,9269848.0,9269981.0,9281075.0,9282668.0,9283072.0,9320962.0,9351647.0,9397355.0,9398808.0,9416569.0,9459389.0,9464059.0,9476931.0,9532788.0,9635192.0,9683612.0,9716208.0,9738917.0,9739084.0,9746208.0,9828451.0,9857050.0,9866651.0,9866904.0,9866917.0,9866970.0,9869425.0,9875315.0,9887900.0,9910891.0,9928008.0,9942594.0,9986864.0,10001615.0,10013630.0,10020525.0,10020690.0,10021140.0,10021610.0,10023519.0,10027442.0,10030323.0,10032227.0,10040456.0,10040969.0,10041012.0,10126030.0,10210475.0,10214097.0,10260541.0,10302387.0,10321584.0,10377488.0,10427701.0,10466406.0,10669564.0,10708117.0,10813595.0,11007108.0,11071722.0,11126190.0,11127304.0,11127543.0,11128602.0,11220676.0,11228389.0,11262375.0,11282735.0,11496278.0,11581560.0,11616119.0,11616187.0,11617126.0,11679272.0,11679463.0,11760026.0,11817134.0,11863888.0,11865360.0,11898518.0,11965790.0,11971734.0,11972403.0,11980197.0,12028422.0,12045687.0,12162272.0,12211385.0,12211392.0,12213801.0,12219588.0,12317780.0,12345284.0,12347038.0,12366660.0,12366958.0,12367042.0,12367245.0,12367388.0,12367758.0,12367917.0,12368074.0,12434512.0,12455215.0,12556334.0,12702541.0,12710735.0,12738797.0,12738896.0,12801097.0,12815967.0,12904788.0,12975736.0,13049120.0,13183241.0,13243736.0,13274269.0,13274598.0,13283938.0,13286282.0,13317120.0,13335962.0,13336054.0,13336111.0,13336133.0,13361848.0,13396802.0,13468399.0,13659860.0,13703898.0,13717530.0,13809823.0,13834039.0,13875517.0,13890512.0,13952292.0,13965663.0,13966783.0,13967760.0,14020127.0,14094341.0,14099732.0,14131949.0,14158971.0,14191894.0,14196212.0,14213091.0,14226426.0,14226658.0,14245740.0,14341511.0,14407337.0,14435012.0,14558461.0,14577360.0,14582945.0,14583967.0,14602011.0,14682977.0,14701395.0,14901562.0,14940462.0,14953906.0,15100514.0,15133816.0,15229173.0,15260342.0,15310627.0,15364942.0,15365213.0,15367409.0,15379742.0,15406706.0,15430456.0,15441196.0,15454153.0,15455706.0,15475788.0,15487894.0,15492056.0,15508557.0,15538540.0,15589669.0,15619288.0,15634389.0,15687109.0,15722252.0,15727280.0,15749275.0,15765810.0,15773382.0,15775439.0,15775531.0,15790995.0,15792137.0,15792808.0,15813099.0,15893111.0,15918822.0,15919067.0,15919162.0,15933531.0,15991345.0,16005440.0,16006904.0,16007139.0,16036564.0,16044788.0,16054752.0,16057988.0,16059067.0,16110969.0,16118606.0,16140165.0,16149105.0,16149534.0,16149684.0,16150227.0,16150642.0,16155549.0,16183428.0,16185665.0,16206947.0,16209070.0,16213146.0,16213361.0,16220808.0,16243464.0,16260783.0,16309636.0,16367233.0,16370834.0,16395877.0,16424205.0,16427874.0,16428014.0,16429519.0,16462052.0,16477283.0,16495388.0,16502098.0,16503238.0,16519375.0,16522880.0,16524551.0,16552273.0,16565287.0,16578603.0,16650721.0,16677104.0,16701352.0,16742820.0,16743909.0,16750061.0,16758638.0,16798945.0,16832754.0,16846533.0,16848828.0,16881298.0,16947051.0,16964241.0,16966634.0,16985394.0,16988242.0,17016908.0,17037625.0,17110437.0,17112396.0,17123186.0,17179470.0,17275135.0,17325640.0,17454856.0,17483368.0,17488373.0,17519803.0,17626886.0,17643521.0,17672050.0,17736530.0,17740089.0,17766467.0,17768467.0,17769862.0,17798438.0,17798496.0,17812922.0,17813026.0,17813122.0,17814377.0,17863026.0,17868078.0,17868090.0,17899942.0,17927897.0,17928170.0,17928273.0,17929045.0,17929049.0,17929480.0,17947055.0,17949590.0,18052476.0,18086207.0,18109887.0,18117026.0,18151459.0,18166182.0,18169687.0,18180874.0,18184250.0,18199481.0,18202395.0,18203227.0,18235755.0,18253219.0,18286281.0,18342015.0,18388608.0,18395154.0,18421322.0,18434466.0,18452100.0,18484277.0,18508828.0,18513959.0,18585234.0,18674998.0,18675202.0,18858584.0,18905203.0,18978986.0,19056267.0,19107598.0,19132856.0,19200431.0,19218794.0,19231371.0,19258336.0,19282261.0,19490734.0,19534648.0,19535251.0,19575817.0,19575854.0,19595827.0,19615505.0,19648215.0,19652882.0,19720477.0,19731540.0,19774490.0,19774868.0,19831199.0,19895150.0,20016031.0,20016671.0,20065234.0,20084815.0,20181595.0,20181917.0,20181944.0,20247516.0,20268188.0,20363687.0,20459428.0,20468114.0,20512779.0,20539655.0,20625688.0,20625726.0,20625773.0,20631625.0,20658143.0,20659099.0,20754763.0,20778113.0,20791161.0,20803693.0,20806898.0,20822762.0,20823632.0,20824274.0,20856422.0,20865016.0,20888336.0,20904654.0,20984770.0,21004249.0,21013726.0,21015410.0,21015787.0,21044947.0,21049838.0,21050025.0,21061607.0,21145943.0,21154124.0,21214988.0,21283595.0,21358634.0,21402272.0,21415749.0,21416331.0,21416445.0,21419965.0,21420790.0,21462227.0,21552874.0,21553387.0,21605333.0,21650745.0,21658483.0,21670282.0,21671407.0,21703476.0,21718303.0,21722898.0,21793363.0,21803237.0,21806277.0,21854678.0,21854687.0,21865119.0,21887155.0,21888054.0,21888290.0,21916263.0,21927257.0,21928795.0,21937326.0,21970302.0,22007320.0,22019165.0,22021287.0,22051870.0,22051992.0,22090557.0,22090561.0,22090563.0,22090931.0,22114845.0,22116641.0,22133845.0,22143968.0,22158920.0,22177543.0,22193170.0,22196788.0,22214451.0,22233862.0,22267147.0,22329509.0,22329702.0,22330042.0,22330144.0,22330228.0,22330294.0,22345943.0,22348216.0,22361966.0,22376153.0,22395492.0,22441995.0,22454647.0,22469925.0,22475917.0,22544362.0,22561172.0,22577896.0,22588306.0,22590845.0,22594189.0,22627321.0,22666446.0,22708024.0,22720008.0,22733377.0,22745179.0,22760803.0,22798533.0,22826338.0,22874441.0,22890318.0,22912035.0,22912163.0,22918883.0,22971370.0,22990388.0,22990457.0,23015765.0,23048720.0,23052237.0,23070535.0,23072323.0,23080358.0,23083547.0,23084195.0,23094299.0,23097015.0,23169041.0,23256379.0,23258478.0,23277237.0,23318905.0,23348921.0,23360633.0,23361035.0,23362375.0,23362544.0,23380147.0,23380199.0,23380807.0,23380866.0,23457264.0,23496793.0,23509109.0,23598682.0,23604711.0,23658989.0,23733935.0,23760158.0,23861900.0,23862116.0,23874999.0,23968956.0,24023173.0,24025735.0,24030192.0,24048644.0,24125960.0,24161078.0,24211014.0,24212593.0,24300044.0,24420175.0,24435157.0,24447655.0,24500374.0,24506349.0,24528929.0,24546514.0,24569607.0,24571017.0,24594306.0,24606096.0,24609199.0,24618190.0,24635669.0,24636266.0,24636530.0,24660198.0,24682695.0,24720145.0,24725185.0,24741587.0,24761439.0,24763374.0,24763494.0,24763572.0,24763675.0,24765067.0,24765141.0,24765195.0,24785006.0,24785613.0,24787313.0,24835791.0,24855606.0,24857166.0,24863189.0,24900530.0,24919927.0,24972169.0,25022657.0,25087117.0,25096569.0,25130085.0,25141849.0,25183317.0,25183623.0,25183926.0,25184205.0,25306072.0,25306664.0,25324517.0,25353206.0,25364632.0,25366424.0,25385698.0,25402824.0,25424295.0,25432123.0,25435388.0,25711980.0,25765385.0,25797887.0,25815030.0,25860399.0,25877353.0,25892078.0,25899420.0,25909373.0,25926356.0,25927281.0,25949294.0,25953564.0,25963531.0,25985995.0,26093121.0,26143135.0,26183286.0,26207243.0,26217724.0,26290123.0,26290281.0,26293068.0,26369349.0,26382243.0,26432259.0,26435923.0,26583889.0,26584687.0,26722862.0,26791029.0,26822021.0,26849028.0,26853356.0,26857526.0,26965345.0,26973231.0,27041512.0,27069141.0,27091696.0,27125463.0,27141929.0,27173843.0,27174440.0,27343211.0,27406451.0,27513236.0,27513625.0,27581596.0,27709128.0,27804407.0,27816487.0,27858471.0,27882577.0,27889309.0,27978202.0,28000993.0,28038349.0,28054617.0,28165463.0,28198324.0,28261272.0,28264364.0,28321986.0,28348653.0,28369982.0,28522862.0,28536238.0,28649449.0,28657973.0,28675203.0,28700151.0,28772425.0,28788262.0,28789540.0,28794509.0,28998042.0,28998072.0,28998095.0,28998145.0,28998161.0,28998181.0,28998191.0,29015768.0,29020376.0,29044276.0,29046718.0,29049813.0,29072228.0,29076794.0,29078458.0,29180163.0,29295230.0,29302695.0,29319213.0,29319567.0,29319686.0,29320287.0,29320487.0,29320724.0,29325647.0,29344002.0,29355663.0,29355884.0,29525240.0,29525299.0,29525417.0,29525922.0,29525951.0,29526074.0,29552115.0,29552643.0,29554536.0,29557949.0,29579499.0,29580481.0,29581373.0,29634299.0,29665238.0,29725544.0,29745033.0,29768671.0,29860691.0,29880877.0,29956433.0,29977184.0,29977663.0,29994693.0,29996505.0,30017848.0,30024441.0,30046453.0,30058572.0,30092896.0,30167617.0,30180540.0,30188702.0,30234271.0,30280422.0,30335491.0,30354713.0,30357414.0,30380985.0,30385249.0,30385261.0,30385269.0,30385291.0,30385453.0,30410480.0,30431950.0,30434753.0,30453430.0,30494592.0,30520209.0,30520904.0,30543386.0,30570119.0,30578632.0,30650792.0,30687199.0,30776617.0,30778537.0,30783602.0,30784099.0,30878734.0,30966211.0,31002918.0,31003554.0,31081282.0,31107843.0,31112721.0,31114726.0,31129905.0,31155160.0,31196834.0,31214273.0,31218304.0,31219674.0,31275547.0,31276318.0,31294965.0,31348508.0,31357872.0,31424549.0,31428108.0,31435898.0,31573008.0,31580959.0,31604515.0,31604616.0,31657383.0,31658769.0,31687465.0,31722950.0,31807637.0,31812483.0,31840078.0,31886652.0,31959810.0,31960343.0,31960810.0,31965730.0,32003564.0,32035890.0,32171204.0,32194580.0,32203558.0,32205289.0,32223363.0,32223767.0,32295511.0,32303894.0,32351804.0,32375403.0,32376196.0,32394595.0,32411075.0,32475586.0,32486084.0,32488562.0,32526213.0,32533341.0,32534020.0,32576311.0,32671732.0,32671831.0,32723994.0,32729464.0,32729775.0,32732351.0,32748783.0,32777995.0,32818697.0,32818879.0,32821771.0,32822582.0,32822945.0,32832467.0,32846195.0,32854955.0,32857394.0,32873124.0,32874731.0,32906878.0,32908981.0,32949187.0,32949544.0,33028364.0,33029085.0,33060127.0,33061316.0,33061606.0,33076582.0,33079469.0,33081780.0,33085177.0,33085362.0,33087310.0,33098686.0,33102270.0,33119907.0,33147781.0,33155188.0,33172664.0,33175321.0,33204190.0,33208103.0,33208709.0,33216747.0,33238214.0,33282970.0,33321325.0,33330793.0,33376051.0,33388955.0,33394388.0,33405725.0,33460906.0,33477122.0,33490643.0,33500731.0,33502141.0,33515578.0,33536365.0,33573944.0,33596370.0,33604276.0,33622349.0,33669171.0,33721523.0,33722089.0,33722374.0,33734018.0,33753429.0,33792104.0,33815699.0,33885719.0,33885738.0,33888989.0,33894843.0,33948359.0,33981233.0,33982757.0,33999107.0,34010187.0,34030772.0,34052336.0,34066811.0,34067159.0,34068805.0,34071208.0,34071837.0,34072244.0,34073545.0,34076777.0,34082010.0,34127447.0,34183884.0,34184363.0,34186257.0,34188337.0,34236667.0,34243743.0,34271538.0,34288316.0,34346401.0,34373954.0,34405820.0,34449857.0,34454047.0,34479465.0,34489654.0,34517790.0,34526007.0,34579286.0,34654117.0,34725687.0,34733071.0,34788406.0,34790062.0,34804905.0,34819352.0,34870345.0,34909010.0,34909012.0,34930444.0,34932388.0,34949534.0,34951369.0,34964444.0,34990577.0,35018771.0,35026116.0,35030220.0,35077531.0,35077950.0,35082329.0,35102472.0,35181133.0,35185731.0,35185755.0,35185822.0,35208177.0,35237622.0,35300552.0,35300977.0,35302676.0,35320113.0,35328831.0,35335972.0,35336070.0,35363901.0,35396427.0,35397761.0,35429425.0,35469684.0,35471887.0,35477254.0,35483332.0,35483354.0,35483358.0,35505259.0,35505740.0,35506195.0,35506661.0,35628829.0,35656521.0,35656871.0,35693228.0,35742330.0,35744548.0,35747289.0,35818107.0,35845573.0,35878570.0,35883311.0,35883439.0,35885309.0,35961334.0,36008984.0,36009935.0,36010500.0,36013750.0,36016056.0,36080117.0,36085663.0,36122224.0,36129690.0,36131561.0,36156090.0,36156663.0,36214603.0,36216542.0,36226718.0,36252767.0,36285087.0,36285346.0,36319795.0,36324726.0,36325967.0,36333873.0,36354920.0,36362495.0,36490863.0,36530311.0,36570785.0,36618900.0,36652759.0,36681333.0,36738948.0,36760495.0,36785495.0,36808814.0,36852543.0,36855460.0,36855972.0,36857064.0,36857645.0,36860135.0,36983957.0,36989732.0,37023580.0,37108652.0,37111118.0,37169326.0,37219959.0,37219965.0,37219969.0,37219971.0,37234668.0,37236875.0,37257081.0,37274297.0,37301624.0,37312985.0,37313724.0,37314737.0,37334803.0,37344187.0,37375089.0,37419221.0,37444884.0,37538230.0,37551948.0,37586357.0,37587133.0,37646663.0,37647172.0,37648135.0,37757787.0,37794307.0,37813120.0,37825175.0,37887742.0,37905248.0,37916346.0,37924217.0,37947662.0,37958355.0,37980033.0,37981411.0,37981670.0,37981883.0,37982840.0,37983056.0,37984003.0,37984348.0,37984441.0,37984524.0,37986233.0,37986704.0,37987025.0,37999599.0,38005247.0,38007330.0,38026889.0,38033643.0,38034121.0,38035489.0,38056679.0,38134989.0,38166428.0,38171044.0,38199255.0,38203576.0,38250487.0,38305984.0,38307308.0,38307486.0,38308020.0,38388737.0,38395413.0,38416386.0,38417543.0,38417844.0,38471875.0,38478522.0,38498535.0,38523541.0,38526126.0,38530815.0,38639800.0,38649039.0,38684124.0,38735078.0,38735289.0,38735661.0,38788624.0,38824582.0,38824684.0,38835146.0,38837741.0,38910295.0,38914093.0,38915453.0,38915787.0,38916143.0,38935611.0,38939902.0,38965851.0,38986386.0,38986709.0,38987390.0,39011692.0,39014250.0,39014610.0,39062013.0,39095087.0,39115031.0,39119402.0,39119415.0,39123066.0,39147495.0,39158146.0,39212348.0,39212874.0,39214180.0,39281565.0,39293936.0,39338786.0,39345579.0,39349086.0,39380253.0,39401038.0,39401945.0,39403510.0,39404193.0,39404728.0,39404880.0,39405623.0,39406103.0,39406409.0,39406586.0,39423497.0,39424914.0,39448392.0,39451138.0,39451764.0,39488084.0,39589304.0,39603119.0,39612598.0,39638066.0,39653480.0,39657837.0,39679521.0,39689162.0,39741652.0,39759499.0,39811470.0,39822559.0,39824181.0,39885622.0,39900195.0,39903730.0,39906363.0,39928120.0,39928443.0,39930052.0,39930544.0,39931393.0,39952401.0,39952459.0,39956760.0,40043690.0,40122145.0,40149431.0,40185785.0,40198092.0,40211954.0,40213569.0,40226189.0,40267527.0,40267722.0,40269661.0,40294463.0,40313848.0,40314128.0,40314515.0,40315763.0,40316461.0,40321693.0,40351507.0,40354419.0,40354655.0,40361907.0,40382084.0,40384948.0,40389032.0,40456301.0,40479903.0,40509365.0,40516462.0,40551114.0,40552643.0,40567661.0,40571566.0,40597192.0,40597586.0,40605925.0,40634584.0,40641448.0,40642051.0,40642810.0,40649820.0,40663631.0,40663975.0,40681844.0,40687175.0,40690201.0,40708485.0,40712481.0,40715608.0,40723858.0,40736423.0,40745871.0,40748133.0,40752825.0,40765359.0,40769351.0,40774447.0,40789842.0,40809878.0,40816592.0,40831251.0,40833390.0,40849480.0,40850159.0,40856084.0,40901829.0,40902252.0,40904017.0,40904264.0,40904925.0,40905313.0,40905639.0,40921448.0,40928860.0,40933623.0,40936924.0,40953263.0,40966161.0,40966385.0,40974363.0,40974569.0,40975409.0,40975518.0,40975603.0,40975736.0,40983826.0,41014661.0,41014693.0,41019742.0,41032597.0,41032965.0,41033173.0,41076836.0,41077161.0,41087343.0,41089548.0,41090834.0,41090879.0,41091240.0,41091895.0,41112238.0,41116039.0,41116137.0,41116342.0,41117291.0,41120765.0,41125664.0,41135982.0,41138711.0,41139389.0,41158163.0,41159508.0,41160357.0,41162396.0,41163746.0,41202185.0,41296812.0,41299496.0,41303291.0,41305105.0,41307190.0,41323209.0,41326546.0,41388877.0,41419891.0,41439350.0,41439736.0,41460941.0,41467431.0,41476885.0,41481981.0,41482560.0,41509578.0,41536506.0,41566195.0,41568582.0,41570615.0,41610819.0,41611248.0,41613235.0,41626102.0,41650236.0,41652432.0,41694844.0,41703280.0,41777146.0,41804607.0,41889066.0,41895257.0,41916193.0,41926070.0,41940620.0,41942466.0,41948477.0,41966894.0,41970974.0,41994916.0,42011728.0,42023190.0,42079535.0,42079889.0,42081657.0,42084241.0,42085924.0,42104353.0,42104603.0,42105787.0,42124141.0,42144452.0,42184804.0,42186946.0,42190445.0,42214291.0,42238629.0,42239864.0,42240675.0,42259371.0,42301284.0,42301881.0,42337799.0,42338112.0,42417293.0,42418964.0,42461130.0,42462883.0,42464072.0,42464820.0,42545364.0,42545850.0,42552864.0,42555321.0,42555446.0,42555518.0,42555592.0,42555640.0,42569842.0,42588720.0,42654230.0,42660661.0,42672097.0,42678905.0,42693235.0,42696868.0,42697304.0,42700800.0,42725125.0,42750393.0,42752743.0,42753075.0,42780473.0,42804408.0,42813500.0,42867108.0,42872451.0,42885763.0,42885911.0,42885950.0,42886241.0,42886645.0,42898181.0,42898315.0,42913012.0,42917601.0,42931312.0,42932845.0,42933385.0,42945709.0,42945867.0,42946035.0,42946226.0,42956618.0,42956982.0,42968514.0,42968688.0,42983733.0,42992160.0,43006410.0,43006583.0,43015409.0,43041408.0,43054633.0,43055185.0,43057362.0,43057582.0,43063719.0,43064371.0,43080765.0,43092034.0,43106766.0,43107113.0,43107491.0,43108706.0,43112898.0,43118642.0,43120283.0,43120435.0,43120799.0,43121186.0,43121342.0,43129509.0,43129915.0,43137062.0,43137994.0,43143057.0,43143093.0,43143215.0,43145328.0,43145924.0,43177325.0,43183219.0,43183486.0,43183832.0,43193534.0,43193779.0,43194004.0,43194247.0,43201822.0,43210710.0,43249498.0,43250927.0,43254119.0,43263545.0,43313632.0,43313813.0,43328947.0,43336673.0,43337094.0,43344197.0,43354292.0,43354914.0,43355016.0,43358921.0,43359021.0,43359087.0,43359359.0,43359426.0,43379651.0,43379899.0,43406519.0,43407835.0,43408005.0,43414572.0,43424855.0,43452908.0,43481271.0,43481361.0,43492077.0,43492196.0,43493044.0,43493128.0,43537475.0,43537553.0,43537846.0,43584129.0,43629592.0,43684578.0,43706347.0,43709414.0,43711437.0,43723774.0,43737197.0,43744659.0,43745260.0,43795151.0,43920230.0,43922476.0,43947546.0,43967100.0,44069414.0,44090296.0,44091450.0,44158699.0,44159363.0,44255450.0,44283744.0,44294078.0,44323246.0,44407293.0,44420536.0,44525671.0,44599757.0,44626865.0,44655207.0,45005221.0,45007102.0,45059473.0,45107551.0,45109853.0,45131086.0,45133990.0,45134515.0,45149158.0,45149222.0,45167077.0,45280147.0,45319306.0,45440615.0,45474205.0,45474953.0,45491502.0,45524524.0,45533543.0,45537334.0,45549184.0,45626850.0,45662807.0,45680876.0,45705715.0,45772597.0,45773295.0,45773404.0,45773494.0,45773595.0,45773723.0,45777993.0,45778518.0,45779393.0,45803322.0,45803343.0,45808942.0,45809564.0,45835431.0,45855332.0,45871634.0,45895673.0,45902566.0,45918725.0,45945180.0,45948749.0,45949989.0,45961316.0,45962405.0,45962495.0,45962749.0,45963685.0,46000906.0,46028608.0,46057282.0,46057773.0,46057791.0,46058773.0,46073890.0,46075495.0,46108799.0,46114490.0,46144509.0,46144841.0,46145057.0,46178304.0,46232391.0,46266405.0,46266507.0,46321781.0,46322024.0,46388294.0,46456107.0,46473348.0,46474181.0,46475439.0,46475535.0,46475821.0,46475943.0,46476119.0,46476300.0,46476407.0,46482752.0,46491972.0,46589101.0,46589304.0,46590239.0,46590765.0,46591065.0,46605955.0,46606151.0,46606472.0,46615918.0,46669109.0,46684451.0,46685647.0,46686341.0,46698429.0,46698961.0,46742348.0,46744465.0,46803536.0,46933172.0,46939877.0,46973148.0,47037652.0,47060269.0,47124048.0,47188396.0,47259456.0,47295315.0,47295571.0,47295577.0,47295777.0,47296644.0,47296851.0,47305069.0,47326826.0,47398022.0,47460138.0,47477733.0,47555385.0,47736858.0,47774321.0,47775611.0,47778000.0,47789812.0,47819395.0,47838915.0,47895132.0,47911042.0,47911419.0,47911477.0,47912630.0,47912755.0,47912877.0,47931824.0,47945468.0,47945578.0,47945703.0,47945986.0,48000883.0,48007776.0,48019222.0,48019325.0,48019417.0,48019515.0,48033280.0,48033351.0,48033436.0,48034619.0,48082868.0,48085243.0,48098802.0,48113748.0,48127824.0,48141431.0,48153394.0,48176330.0,48191140.0,48192343.0,48246660.0,48261012.0,48265114.0,48265411.0,48313505.0,48510579.0,48531971.0,48591933.0,48593056.0,48613065.0,48614070.0,48688017.0,48723619.0,48725792.0,48743492.0,48816051.0,48924200.0,48950684.0,49048346.0,49048569.0,49064964.0,49081728.0,49082170.0,49082424.0,49082585.0,49083516.0,49083651.0,49087160.0,49099456.0,49099810.0,49100433.0,49133042.0,49209267.0,49408255.0,49428269.0,49445304.0,49577387.0,49597391.0,49693917.0,49863259.0,49864430.0,49893407.0,49896709.0,49937277.0,49939967.0,49951302.0,49990549.0,50199435.0,50229786.0,50255816.0,50278378.0,50294480.0,50333798.0,50340792.0,50402384.0,50424407.0,50433019.0,50476069.0,50482195.0,50492656.0,50493423.0,50493546.0,50493982.0,50537862.0,50538895.0,50551854.0,50562391.0,50586056.0,50719175.0,50732473.0,50732541.0,50732900.0,50733196.0,50733227.0,50742155.0,50823476.0,50844665.0,51002244.0,51075477.0,51075717.0,51076382.0,51091286.0,51122058.0,51122424.0,51131949.0,51137361.0,51223656.0,51246884.0,51338514.0,51357661.0,51395340.0,51462386.0,51475066.0,51476593.0,51477667.0,51498491.0,51498894.0,51514279.0,51514416.0,51515637.0,51548417.0,51549950.0,51573604.0,51586919.0,51593286.0,51660574.0,51660773.0,51661055.0,51661224.0,51676330.0,51680260.0,51714695.0,51715077.0,51715174.0,51715392.0,51759139.0,51782378.0,51809454.0,51809755.0,51833418.0,51863280.0,51898390.0,51899564.0,51931255.0,51931450.0,51931632.0,51946794.0,51946940.0,51947045.0,51996111.0,51997726.0,52062009.0,52062197.0,52120623.0,52136874.0,52157275.0,52216017.0,52272864.0,52274401.0,52289477.0,52301070.0,52312464.0,52333311.0,52357276.0,52357563.0,52357696.0,52357956.0,52358231.0,52359332.0,52360450.0,52395633.0,52396348.0,52437613.0,52464204.0,52522468.0,52525344.0,52525651.0,52545178.0,52574199.0,52575543.0,52575637.0,52604174.0,52644962.0,52646026.0,52663333.0,52664352.0,52680716.0,52681365.0,52699740.0,52767590.0,52786412.0,52815766.0,52910692.0,52928963.0,52929689.0,52970740.0,52970813.0,52977792.0,53000749.0,53038612.0,53057197.0,53057294.0,53070791.0,53071840.0,53072633.0,53073961.0,53084699.0,53100793.0,53103357.0,53108703.0,53119442.0,53122920.0,53123488.0,53137763.0,53137769.0,53166174.0,53174768.0,53175494.0,53175628.0,53175850.0,53181539.0,53193333.0,53196067.0,53196481.0,53209302.0,53222711.0,53243221.0,53260515.0,53260824.0,53270162.0,53280269.0,53281701.0,53284064.0,53301824.0,53316636.0,53317101.0,53317236.0,53319368.0,53337254.0,53346651.0,53355259.0,53355991.0,53370046.0,53374606.0,53375485.0,53387459.0,53388036.0,53405061.0,53406678.0,53465105.0,53465265.0,53465478.0,53483449.0,53500702.0,53503028.0,53503062.0,53508563.0,53509366.0,53564318.0,53577728.0,53577944.0,53579193.0,53579454.0,53618034.0,53622188.0,53632741.0,53633752.0,53669943.0,53697187.0,53697444.0,53713864.0,53745162.0,53779436.0,53802906.0,53819000.0,53819918.0,53819947.0,53836629.0,53836902.0,53853166.0,53855956.0,53883858.0,53884012.0,53905492.0,53905653.0,53910005.0,53910434.0,54008210.0,54009687.0,54042568.0,54048163.0,54060493.0,54061501.0,54076340.0,54113136.0,54154999.0,54186804.0,54204802.0,54205551.0,54205610.0,54214469.0,54214679.0,54219139.0,54219241.0,54219324.0,54219421.0,54237144.0,54268944.0,54269865.0,54284039.0,54295935.0,54350213.0,54351046.0,54354117.0,54360489.0,54381837.0,5.147964565539709e+17,5.388990960486265e+17,5.42953504353474e+17,5.482055628923744e+17,5.489608385759454e+17,5.4918656138271386e+17,5.492298883455588e+17,5.517008123825022e+17,5.517184331604036e+17,5.5172155679187424e+17,5.517226535322986e+17,5.5172500468141005e+17,5.5172904318349165e+17,5.525796209160195e+17,5.542843369358256e+17,5.590562488851167e+17,5.600197055246435e+17,5.626059713816131e+17,5.635968091774449e+17,5.636183638605432e+17,5.6387679799156986e+17,5.639876339299405e+17,5.672253062597962e+17,5.679107890871909e+17,5.6922500932798534e+17,5.698683265256166e+17,5.699033915903419e+17,5.70021053543594e+17,5.713442983053351e+17,5.7135276057649114e+17,5.713785469434394e+17,5.723032850403623e+17,5.785148141691148e+17,5.793308717137157e+17,5.801419595543894e+17,5.832747236115452e+17,5.832880244992754e+17,5.844164278341484e+17,5.84416455299923e+17,5.844248752654397e+17,5.846271719086089e+17,5.846521600357489e+17,5.846522725128483e+17,5.846524895427695e+17,5.847118313721917e+17,5.847122463594903e+17,5.847197950046906e+17,5.856844606386683e+17,5.917730776846522e+17,5.93097933578669e+17,5.931080825862738e+17,5.959973496030868e+17,5.972361191177782e+17,5.987670565951786e+17,5.989112903350455e+17,5.990447070105859e+17,5.995629962736707e+17,5.996106590133201e+17,5.996264087345322e+17,6.003824694180986e+17,6.012240108442377e+17,6.013328855902735e+17,6.024048676029704e+17,6.025939374900278e+17,6.031320429209243e+17,6.032436164382954e+17,6.033533674227101e+17,6.035885411372305e+17,6.047163612936785e+17,6.055343513763287e+17,6.059788471871668e+17,6.061479061565055e+17,6.063296962190478e+17,6.091924691699078e+17,6.09303081692506e+17,6.093313057587446e+17,6.097555901004137e+17,6.1043295056935e+17,6.105084442251895e+17,6.105664759394972e+17,6.110441759224682e+17,6.112379493394176e+17,6.112428818635146e+17,6.11404781338456e+17,6.117502477321002e+17,6.118129969508148e+17,6.118484129404808e+17,6.11875649711953e+17,6.119010235971136e+17,6.119011184102752e+17,6.119928491298778e+17,6.128140410096996e+17,6.128648177295081e+17,6.12870854149219e+17,6.128843912635464e+17,6.13542199071363e+17,6.135516781228416e+17,6.136798674581876e+17,6.136974695358807e+17,6.137018319234892e+17,6.137141376920046e+17,6.142409353956082e+17,6.142546071123909e+17,6.147261365766286e+17,6.148248685236806e+17,6.151197919787447e+17,6.154264794813187e+17,6.156925573347548e+17,6.157133206718098e+17,6.161580210643045e+17,6.162697669893805e+17,6.172471738116323e+17,6.172475229832314e+17,6.176556689331834e+17,6.176688944122762e+17,6.185381821004964e+17,6.192358040890586e+17,6.193238879447643e+17,6.193443751444974e+17,6.2070532718483e+17,6.207774638292339e+17,6.207881268936116e+17,6.214806036113164e+17,6.217015018842724e+17,6.21701736675445e+17,6.217731221860211e+17,6.222697124399254e+17,6.222854595703059e+17,6.222951583150199e+17,6.222952309876495e+17,6.222953473043348e+17,6.222954279921769e+17,6.229617624412083e+17,6.230421434554131e+17,6.235620801341988e+17,6.236466587542632e+17,6.236651390034228e+17,6.236769221188582e+17,6.236944489879694e+17,6.249681046855724e+17,6.251351242872214e+17,6.25135239707995e+17,6.258298478826647e+17,6.258715489045847e+17,6.279933622642374e+17,6.280236553549724e+17,6.280344810715127e+17,6.286850695504449e+17,6.287385408394518e+17,6.287529258814897e+17,6.291895875259964e+17,6.299734945658593e+17,6.299746537071387e+17,6.29978664332934e+17,6.301266882193123e+17,6.302080648984511e+17,6.304990547510134e+17,6.307503949126003e+17,6.30881849580813e+17,6.309009457088498e+17,6.309252629657083e+17,6.315533803237711e+17,6.315834370295113e+17,6.316281016052065e+17,6.322244394824934e+17,6.32773923177408e+17,6.329643216607895e+17,6.330463207428379e+17,6.331088407022938e+17,6.331189364536564e+17,6.331355296433708e+17,6.33679377916015e+17,6.338418158934007e+17,6.344488897826802e+17,6.344960662392774e+17,6.345349782059831e+17,6.345694473141518e+17,6.351751654627432e+17,6.352440414038094e+17,6.359374288110218e+17,6.359874575752886e+17,6.360062727291402e+17,6.361121036201112e+17,6.361123344875045e+17,6.361137674966742e+17,6.375085796374958e+17,6.380766691365953e+17,6.380962830374364e+17,6.381217656793574e+17,6.381574891941394e+17,6.381766174375218e+17,6.382019065303721e+17,6.386522786266876e+17,6.387260886996024e+17,6.388228125409772e+17,6.388301417163569e+17,6.388899894647768e+17,6.389769254975345e+17,6.393197000306575e+17,6.394628958903731e+17,6.403100424583114e+17,6.410226139795538e+17,6.414818075232765e+17,6.417473065960795e+17,6.426308832465358e+17,6.431689438619122e+17,6.4318329650292e+17,6.432115900770496e+17,6.446871776110186e+17,6.451295654100168e+17,6.451378656517059e+17,6.451417777969942e+17,6.487621185804707e+17,6.495155088749001e+17,6.502181762342515e+17,6.502283767282141e+17,6.502331267364164e+17,6.511379809816223e+17,6.519688349968987e+17,6.52820545164374e+17,6.528648090941368e+17,6.531374989919478e+17,6.531927866998363e+17,6.539410421975954e+17,6.541251204997142e+17,6.541322209977016e+17,6.54135534924136e+17,6.541399398666227e+17,6.541428376216099e+17,6.546116999194385e+17,6.553643347558164e+17,6.55372673320282e+17,6.561042554064152e+17,6.564303753667137e+17,6.573784684761175e+17,6.573863083404237e+17,6.581865481609379e+17,6.582617387113591e+17,6.582920168618808e+17,6.583365256342968e+17,6.584712396129933e+17,6.590188196122895e+17,6.603981813474066e+17,6.608039335268675e+17,6.61126911495365e+17,6.611413651447034e+17,6.620003321285592e+17,6.620188044910844e+17,6.623908046768675e+17,6.626508677075516e+17,6.630035152234441e+17,6.633107797917774e+17,6.647804853573716e+17,6.647949148972901e+17,6.650663747646461e+17,6.662920803379877e+17,6.664770971256887e+17,6.683930198066167e+17,6.684874912250474e+17,6.684946565886743e+17,6.686711857475786e+17,6.688309350866853e+17,6.688368283645494e+17,6.688400488398295e+17,6.688402598363174e+17,6.690278553269354e+17,6.697917827398913e+17,6.697994252363901e+17,6.698566180119628e+17,6.698720109612468e+17,6.699491932288172e+17,6.706918789130223e+17,6.707242210347981e+17,6.707326320589522e+17,6.707409567266816e+17,6.707461008178063e+17,6.70750910556738e+17,6.707543021842461e+17,6.707587506444403e+17,6.708877493673448e+17,6.71343515745578e+17,6.713435855226205e+17,6.714206728042067e+17,6.715038297257646e+17,6.719781230014568e+17,6.721647319349347e+17,6.721885898008092e+17,6.722372971854382e+17,6.72646130912796e+17,6.734255470819264e+17,6.735814064146916e+17,6.736518708118967e+17,6.737027619172201e+17,6.742049226650811e+17,6.742051985535063e+17,6.742543463542548e+17,6.742926170618863e+17,6.749524954756303e+17,6.749645058799956e+17,6.74976333260486e+17,6.751425655890865e+17,6.75508190285379e+17,6.756263390308987e+17,6.756758631013695e+17,6.756821740896557e+17,6.756845241366225e+17,6.758394044472708e+17,6.758618959396387e+17,6.758702592029624e+17,6.758903730041814e+17,6.764066195828708e+17,6.76634028875033e+17,6.77887152030629e+17,6.783163322351657e+17,6.785931711532273e+17,6.785934520047361e+17,6.787466865725985e+17,6.79279105336807e+17,6.793115361047405e+17,6.796006281508777e+17,6.796054976379293e+17,6.79613933233951e+17,6.799266436300202e+17,6.801816535999876e+17,6.802003389745002e+17,6.802029271324477e+17,6.806996092909903e+17,6.806996631211816e+17,6.807009664256521e+17,6.815287086646015e+17,6.823522085787002e+17,6.823585314989481e+17,6.823653097384116e+17,6.83834471977796e+17,6.845692920640637e+17,6.846148468425327e+17,6.847645638367365e+17,6.850135870302662e+17,6.850236010508416e+17,6.850355232067474e+17,6.853825503455302e+17,6.855543484397866e+17,6.857378900661486e+17,6.859717330667633e+17,6.87174844027055e+17,6.878685313861825e+17,6.879542704481948e+17,6.88158576348216e+17,6.886226665017777e+17,6.894541692268141e+17,6.895403553220932e+17,6.90173353285048e+17,6.908294606045774e+17,6.909738420465669e+17,6.915247666977917e+17,6.917339882529427e+17,6.923464117271992e+17,6.923929151722048e+17,6.924458283088675e+17,6.924835019614604e+17,6.927156606131112e+17,6.927431370798609e+17,6.927471035761722e+17,6.927489727637234e+17,6.940949966340014e+17,6.945773132575722e+17,6.94592765223323e+17,6.945931715410067e+17,6.946017988949395e+17,6.952070534552499e+17,6.953074353831419e+17,6.954786894801765e+17,6.960959008460369e+17,6.962537959629983e+17,6.964784323730435e+17,6.965775446423124e+17,6.966131488750071e+17,6.980501468828929e+17,6.987019488451729e+17,6.98718499506329e+17,6.987247869846591e+17,6.988004255670565e+17,6.988060778864475e+17,6.991453567877288e+17,6.992880682445718e+17,6.996511900896431e+17,7.0023031358208e+17,7.00405682974658e+17,7.006594968864259e+17,7.010859410363284e+17,7.011172224250921e+17,7.011631826459107e+17,7.0177560316645e+17,7.019268916106908e+17,7.02019142760275e+17,7.039344548013682e+17,7.039822815166747e+17,7.040036196358816e+17,7.040257411088077e+17,7.040306962642383e+17,7.040583357685359e+17,7.040962004342309e+17,7.046405651623116e+17,7.049801328409336e+17,7.051262540579567e+17,7.052426988545306e+17,7.053841396368465e+17,7.054580136922458e+17,7.054992195304991e+17,7.057515062207974e+17,7.057721812960603e+17,7.0577324470708e+17,7.061651331224081e+17,7.061664588183301e+17,7.061807938180671e+17,7.064972005941722e+17,7.067493949221335e+17,7.067890500064465e+17,7.068055820044096e+17,7.068317145414912e+17,7.068329819774394e+17,7.068339627600403e+17,7.068586338399424e+17,7.068596875125873e+17,7.068616237891114e+17,7.068627039181827e+17,7.068875591684449e+17,7.068959908421585e+17,7.069067796047892e+17,7.069097098776485e+17,7.0691070032216e+17,7.069142571508658e+17,7.069218226650734e+17,7.06937226249549e+17,7.069403182708005e+17,7.069656382608294e+17,7.07565204178349e+17,7.077917340548621e+17,7.083787994300737e+17,7.085626784627223e+17,7.089971583920896e+17,7.090252264465331e+17,7.090305484535434e+17,7.090314786250479e+17,7.09042272386155e+17,7.091331692771003e+17,7.091335408499251e+17,7.091682067269152e+17,7.096608636389014e+17,7.096865451754355e+17,7.098079218259739e+17,7.09836154042898e+17,7.098511710988983e+17,7.09939057124037e+17,7.104303071148567e+17,7.104906694061366e+17,7.104907310435397e+17,7.105101544833441e+17,7.105169222553875e+17,7.105353461299946e+17,7.105462575039052e+17,7.10555757990116e+17,7.105632551443107e+17,7.105758189024613e+17,7.111166759444325e+17,7.111204976090232e+17,7.115589507726177e+17,7.118697729244494e+17,7.1201456380884e+17,7.121032996017258e+17,7.12113614473297e+17,7.121213575500915e+17,7.129073195202811e+17,7.133490782589821e+17,7.136622224696808e+17,7.139317903953446e+17,7.1397785125811e+17,7.141009899591465e+17,7.141733808852134e+17,7.142037589198282e+17,7.146970723534257e+17,7.146977186613165e+17,7.148907004589189e+17,7.153372060835146e+17,7.153805051616486e+17,7.155289274179982e+17,7.157677073273606e+17,7.158877041418195e+17,7.162834862121324e+17,7.164335888945373e+17,7.168008501131172e+17,7.16837378677584e+17,7.169225822698163e+17,7.170676221037162e+17,7.171939445461784e+17,7.176383262329343e+17,7.176418808272687e+17,7.176573514516033e+17,7.176612100761376e+17,7.176638167824207e+17,7.18751971614977e+17,7.195343149979939e+17,7.197211710627818e+17,7.198211046117495e+17,7.199482065342115e+17,7.200002710100035e+17,7.200005526439567e+17,7.206952318879022e+17,7.208119610889594e+17],\"lat\":[1.33432,1.34537,1.34754,1.34531,1.28836,1.3449,1.31142,1.28828,1.28652,1.28636,1.34917,1.31144,1.31129,1.29335,1.34361,1.30096,1.30938,1.36926,1.27663,1.27585,1.2841,1.29065,1.27716,1.3092,1.28485,1.31208,1.30663,1.33389,1.29245,1.31322,1.28458,1.28386,1.37975,1.3072,1.31108,1.2841,1.28405,1.28405,1.28405,1.28466,1.31805,1.31612,1.3209,1.32204,1.27525,1.32301,1.32453,1.31936,1.32485,1.36722,1.29182,1.3117,1.3117,1.3117,1.31117,1.30692,1.2805,1.30085,1.35956,1.29973,1.34806,1.34798,1.28424,1.28497,1.31786,1.31179,1.28172,1.28268,1.283,1.31546,1.3111,1.38763,1.29489,1.30778,1.34081,1.31288,1.28135,1.36747,1.30793,1.3004,1.28511,1.28563,1.35349,1.33203,1.31262,1.37165,1.27428,1.28366,1.27619,1.3171,1.30358,1.31279,1.41423,1.27626,1.2744,1.3174,1.31778,1.30933,1.27513,1.31269,1.44061,1.33444,1.44162,1.44349,1.31486,1.31315,1.34571,1.3464,1.3446,1.30153,1.31642,1.346,1.31132,1.35894,1.40015,1.31107,1.43012,1.32874,1.28191,1.2841,1.32515,1.36973,1.296265,1.29575,1.34507,1.44167,1.31099,1.32419,1.31697,1.34611,1.3124,1.34385,1.34603,1.30613,1.38084,1.31011,1.3149,1.32614,1.30423,1.28843,1.33303,1.31461,1.31519,1.3073,1.41142,1.30751,1.31555,1.31271,1.39863,1.28872,1.31372,1.30634,1.33433,1.30743,1.30928,1.3075,1.30627,1.34002,1.32162,1.29694,1.31593,1.31756,1.31716,1.31893,1.31716,1.31696,1.31851,1.31855,1.28039,1.28002,1.3455,1.30389,1.30356,1.30394,1.30345,1.31334,1.28146,1.3055,1.28202,1.44162,1.34789,1.296265,1.30362,1.30479,1.30565,1.30563,1.34546,1.30803,1.28172,1.35476,1.2802,1.28199,1.31131,1.31147,1.28313,1.32205,1.29673,1.28535,1.28656,1.28775,1.3117,1.31458,1.29672,1.34842,1.30959,1.30975,1.31106,1.31103,1.31161,1.30976,1.31017,1.34729,1.43965,1.43992,1.31036,1.35165,1.28393,1.28549,1.28019,1.449275,1.31689,1.37697,1.28276,1.2832,1.30362,1.31166,1.31324,1.31339,1.28488,1.31656,1.31457,1.31331,1.31277,1.31318,1.31239,1.31163,1.43873,1.39156,1.28647,1.31907,1.28686,1.2983,1.28819,1.28543,1.3114,1.31117,1.31155,1.31134,1.31114,1.31129,1.31114,1.29301,1.31114,1.31114,1.31114,1.35594,1.44165,1.3106,1.31395,1.31226,1.31363,1.28164,1.284,1.31255,1.33051,1.32334,1.33916,1.31222,1.31106,1.44347,1.44516,1.44412,1.36628,1.30081,1.33007,1.30424,1.2813,1.39857,1.28028,1.31021,1.31245,1.32152,1.32337,1.32381,1.28783,1.28184,1.28215,1.28213,1.28169,1.4483,1.36263,1.36219,1.40088,1.2814,1.28205,1.29896,1.31027,1.31082,1.28567,1.32893,1.37772,1.31005,1.31005,1.31005,1.31005,1.31005,1.31005,1.31005,1.31005,1.31005,1.31005,1.31248,1.3117,1.31693,1.30409,1.43508,1.24854,1.36741,1.28038,1.3157,1.30902,1.31289,1.31846,1.32552,1.35725,1.28499,1.28379,1.31398,1.34373,1.28073,1.30429,1.30442,1.30242,1.30427,1.31338,1.28049,1.42998,1.27872,1.37173,1.34401,1.2943,1.31244,1.34048,1.31261,1.32833,1.31124,1.28338,1.32522,1.31756,1.31889,1.32683,1.36464,1.32547,1.31735,1.275,1.27526,1.28341,1.28146,1.39178,1.35593,1.28382,1.31284,1.32405,1.2841,1.34757,1.31001,1.324,1.31361,1.32157,1.30805,1.32826,1.28359,1.31297,1.28134,1.31163,1.34054,1.27703,1.31675,1.32531,1.31552,1.31723,1.31053,1.35563,1.30983,1.35488,1.30285,1.31348,1.3085,1.31212,1.34724,1.31548,1.34358,1.3093,1.31165,1.37451,1.31204,1.31215,1.31188,1.33537,1.32257,1.37466,1.45152,1.44814,1.28156,1.28243,1.30933,1.30926,1.29934,1.29759,1.29828,1.283,1.31268,1.39828,1.3114,1.31234,1.34159,1.30641,1.34313,1.2803,1.34406,1.31005,1.31721,1.31044,1.32373,1.32516,1.32362,1.31844,1.31703,1.33514,1.31114,1.2841,1.39604,1.2833,1.32796,1.35641,1.30768,1.328848,1.3255,1.28373,1.27805,1.38703,1.25312,1.37738,1.3117,1.3117,1.3117,1.37723,1.37741,1.27329,1.31889,1.36034,1.29732,1.28489,1.28489,1.30747,1.31402,1.4182,1.44154,1.31264,1.27343,1.29719,1.29685,1.29899,1.30961,1.3098,1.30767,1.29755,1.29699,1.44241,1.31185,1.28299,1.38565,1.31005,1.3147,1.42959,1.29846,1.31232,1.44196,1.31522,1.43109,1.30447,1.3468,1.31352,1.30784,1.30834,1.28498,1.3095,1.30885,1.31157,1.33727,1.30571,1.30957,1.34608,1.31358,1.30411,1.30411,1.30411,1.30411,1.30411,1.30411,1.30775,1.29803,1.29955,1.31341,1.28742,1.28738,1.28918,1.29649,1.29649,1.28336,1.28482,1.31738,1.31001,1.30112,1.32,1.33437,1.34443,1.27731,1.32551,1.27941,1.31314,1.28915,1.28242,1.29806,1.30825,1.27361,1.29454,1.32478,1.31184,1.29617,1.30825,1.31131,1.30858,1.30587,1.44882,1.30983,1.28386,1.29765,1.29892,1.29907,1.29558,1.44328,1.31112,1.31633,1.30724,1.3577,1.30954,1.31669,1.37601,1.35775,1.368,1.28142,1.28143,1.30411,1.30411,1.30435,1.30944,1.28203,1.28065,1.36662,1.2795,1.30791,1.37579,1.30477,1.28116,1.27719,1.32449,1.31021,1.30442,1.28483,1.28484,1.283,1.2652,1.44185,1.30922,1.31219,1.44184,1.34401,1.32699,1.3147,1.31541,1.31539,1.28684,1.31439,1.31505,1.28039,1.30928,1.31947,1.2846,1.30252,1.28205,1.31655,1.2848,1.28304,1.35751,1.33463,1.32165,1.31141,1.28622,1.30852,1.30895,1.3097,1.32161,1.28484,1.28875,1.28525,1.28412,1.30103,1.29514,1.29867,1.31351,1.33084,1.30161,1.3011,1.30041,1.39558,1.28684,1.30041,1.29934,1.32528,1.28616,1.39539,1.31263,1.30447,1.33366,1.3101,1.27988,1.3147,1.31563,1.31496,1.27394,1.29951,1.29951,1.31249,1.31353,1.29574,1.31159,1.30957,1.31475,1.31183,1.32013,1.28471,1.36887,1.28449,1.33637,1.31856,1.28449,1.41198,1.41009,1.41016,1.31169,1.31222,1.31322,1.33195,1.31214,1.31233,1.28019,1.34589,1.31083,1.30936,1.34228,1.3147,1.28206,1.32357,1.32228,1.32374,1.32217,1.32211,1.30736,1.31064,1.30418,1.31049,1.30979,1.29518,1.36999,1.29818,1.33627,1.27424,1.297,1.34162,1.2789,1.28379,1.29776,1.32908,1.3111,1.30029,1.28449,1.29811,1.27831,1.27575,1.30212,1.30462,1.29022,1.28075,1.30243,1.30236,1.30153,1.27942,1.30253,1.3006,1.27957,1.28449,1.31406,1.28449,1.31226,1.28449,1.31512,1.31806,1.30282,1.3147,1.31388,1.28111,1.32158,1.3145,1.31084,1.28539,1.31072,1.31078,1.30372,1.30562,1.2986,1.29882,1.31416,1.29682,1.32167,1.31247,1.38769,1.35549,1.35791,1.30376,1.29377,1.27475,1.29303,1.30379,1.29162,1.31916,1.33825,1.28,1.28137,1.27749,1.28142,1.28028,1.33205,1.30017,1.2842,1.30606,1.30119,1.28116,1.37814,1.29179,1.31418,1.31434,1.3147,1.31534,1.30087,1.28043,1.30398,1.31124,1.28347,1.28372,1.28486,1.29545,1.299,1.31103,1.30371,1.29629,1.29819,1.29773,1.2961,1.29745,1.29615,1.29801,1.29806,1.2969,1.30878,1.3106,1.30957,1.35417,1.27939,1.2797,1.31511,1.31009,1.30907,1.2842,1.27303,1.31088,1.28176,1.31129,1.32061,1.3189,1.31754,1.31828,1.31878,1.28203,1.31197,1.27891,1.28417,1.28164,1.38351,1.28136,1.30288,1.28157,1.31297,1.32167,1.29226,1.28026,1.28495,1.2958,1.2842,1.30341,1.27972,1.35179,1.3147,1.31669,1.31623,1.27936,1.30264,1.28341,1.31505,1.32358,1.28024,1.30309,1.29022,1.28033,1.31489,1.3149,1.31213,1.32646,1.285,1.2801,1.31804,1.29307,1.31681,1.3147,1.29129,1.31147,1.3128,1.31453,1.28131,1.30372,1.28165,1.3338,1.28173,1.31064,1.31128,1.28051,1.28448,1.28312,1.30487,1.31334,1.31736,1.31674,1.31765,1.31144,1.35086,1.30185,1.31068,1.31083,1.28209,1.32029,1.33707,1.31512,1.31287,1.28256,1.35269,1.28067,1.30331,1.31343,1.28142,1.3692,1.3091,1.2882,1.28116,1.27947,1.33823,1.2842,1.28335,1.31157,1.32883,1.31154,1.30181,1.30065,1.30217,1.3017,1.30197,1.30183,1.30142,1.31534,1.28163,1.30098,1.28,1.27317,1.28501,1.31095,1.32231,1.44878,1.34755,1.33721,1.31108,1.31147,1.31128,1.31166,1.31096,1.44136,1.31473,1.30964,1.3147,1.32719,1.28412,1.28211,1.32706,1.28277,1.28309,1.28254,1.28324,1.28231,1.30059,1.28144,1.28211,1.28297,1.2824,1.30862,1.3322,1.29283,1.27335,1.30972,1.27363,1.43448,1.28456,1.27976,1.2842,1.27564,1.31473,1.28273,1.2815,1.28502,1.31139,1.28191,1.27976,1.2793,1.32632,1.31473,1.29697,1.28141,1.27485,1.28144,1.33511,1.28299,1.28299,1.28392,1.28234,1.28299,1.2842,1.31181,1.31128,1.2842,1.3147,1.31135,1.28518,1.30887,1.28467,1.27789,1.29331,1.30508,1.3096,1.31473,1.30973,1.28182,1.3147,1.30821,1.30025,1.29966,1.31029,1.2842,1.31209,1.31112,1.28302,1.28529,1.30864,1.30991,1.33748,1.33721,1.31229,1.31078,1.31841,1.33786,1.42768,1.28187,1.28167,1.37417,1.28509,1.29311,1.29848,1.25047,1.32174,1.32182,1.34654,1.3307,1.31158,1.27959,1.31393,1.31082,1.28183,1.28132,1.28173,1.40089,1.37599,1.28509,1.28469,1.2734,1.33036,1.3672,1.35254,1.33692,1.29083,1.31046,1.37461,1.29406,1.28001,1.2818,1.31103,1.30314,1.32621,1.28443,1.29917,1.29374,1.33073,1.28129,1.30183,1.3028,1.28443,1.28302,1.2842,1.28443,1.28443,1.31188,1.33037,1.28426,1.28461,1.2846,1.28443,1.28429,1.28443,1.28192,1.27383,1.28414,1.28434,1.30493,1.30277,1.28438,1.28412,1.31516,1.31397,1.29425,1.294,1.29423,1.28404,1.28451,1.28359,1.29872,1.3104,1.28197,1.28405,1.31499,1.28428,1.30199,1.31023,1.28065,1.29099,1.32899,1.29093,1.29261,1.28436,1.29843,1.36298,1.3203,1.28379,1.31261,1.31096,1.31439,1.31275,1.33638,1.28529,1.3533,1.30968,1.30987,1.29417,1.38328,1.39256,1.31232,1.31097,1.28983,1.30954,1.3245,1.2841,1.32703,1.32477,1.30287,1.2841,1.31713,1.29453,1.2841,1.29544,1.31736,1.32217,1.27316,1.28196,1.28559,1.30469,1.33661,1.29191,1.32786,1.30213,1.27864,1.2836,1.28152,1.28155,1.28239,1.31068,1.3147,1.29047,1.30169,1.32045,1.2834,1.33527,1.3055,1.2951,1.28351,1.31098,1.3147,1.30834,1.3752,1.30064,1.28534,1.29424,1.38296,1.30124,1.3111,1.31072,1.3101,1.30091,1.31566,1.33817,1.31181,1.3269,1.31588,1.31056,1.3147,1.3147,1.31006,1.31144,1.27499,1.34036,1.3147,1.30738,1.35432,1.2841,1.30715,1.28754,1.28742,1.28897,1.30909,1.31017,1.2836,1.29702,1.30482,1.32868,1.28976,1.28612,1.2844,1.28471,1.3142,1.3109,1.28389,1.28584,1.31197,1.28426,1.28454,1.3112,1.28844,1.32253,1.28549,1.29104,1.28833,1.31864,1.34197,1.33984,1.33957,1.34023,1.31197,1.29204,1.31932,1.29828,1.30693,1.35731,1.30971,1.31167,1.31691,1.31055,1.28864,1.28848,1.28809,1.31477,1.30268,1.35286,1.3035,1.3022,1.30364,1.43479,1.32793,1.29922,1.29057,1.30062,1.29869,1.29912,1.4315,1.31623,1.34546,1.31034,1.31249,1.29182,1.31736,1.30062,1.30353,1.29184,1.31292,1.28072,1.30751,1.31117,1.39158,1.28906,1.31078,1.3252,1.3029,1.32707,1.43519,1.31878,1.3529,1.30286,1.30326,1.30302,1.3032,1.33185,1.31603,1.36866,1.32878,1.31675,1.28018,1.26586,1.28456,1.28456,1.28355,1.28456,1.31875,1.26705,1.267,1.43058,1.29593,1.29388,1.29387,1.29386,1.31259,1.28138,1.27338,1.34218,1.2841,1.34193,1.34179,1.31045,1.31354,1.29298,1.29261,1.29312,1.31114,1.28305,1.32645,1.36856,1.30974,1.31101,1.27427,1.3042,1.36321,1.27384,1.30636,1.30619,1.30464,1.30418,1.30422,1.3049,1.3245,1.32599,1.32449,1.32585,1.32645,1.32441,1.31283,1.27427,1.3147,1.28171,1.29906,1.29315,1.29153,1.31068,1.37289,1.27427,1.32001,1.27391,1.28741,1.28155,1.35238,1.34595,1.34549,1.30244,1.37418,1.3052,1.29865,1.32781,1.44337,1.44987,1.30937,1.3155,1.28302,1.30488,1.31514,1.28513,1.28352,1.3013,1.33106,1.31335,1.3117,1.31309,1.31445,1.28008,1.28044,1.3124,1.31405,1.31068,1.3045,1.31237,1.31391,1.30342,1.3119,1.30488,1.28956,1.30329,1.30442,1.30303,1.31579,1.30456,1.30457,1.31688,1.31713,1.31158,1.29986,1.29914,1.42997,1.30824,1.33358,1.32204,1.27222,1.31989,1.35855,1.35789,1.27536,1.3097,1.31762,1.30959,1.29027,1.29044,1.31055,1.30859,1.31047,1.30819,1.30644,1.30596,1.28772,1.30818,1.31665,1.29432,1.31641,1.31573,1.30953,1.30973,1.30507,1.3725,1.3147,1.30968,1.3109,1.27316,1.4156,1.2758,1.33637,1.35357,1.3014,1.30965,1.29232,1.32025,1.32206,1.31958,1.31767,1.31081,1.31403,1.32631,1.32449,1.32828,1.30696,1.30696,1.32354,1.3084,1.29452,1.2907,1.37667,1.3223,1.31131,1.27634,1.31234,1.29746,1.29762,1.27317,1.27368,1.27228,1.27386,1.27437,1.31212,1.39926,1.304676490620552,1.30674,1.27229,1.27399,1.31237,1.37484,1.31399,1.2799,1.31648,1.31854,1.36942,1.44418,1.31017,1.31531,1.28313,1.31683,1.27219,1.28432,1.31094,1.28021,1.27454,1.28387,1.27292,1.29303,1.38918,1.41465,1.27475,1.28656,1.27454,1.27233,1.27407,1.27504,1.35222,1.29919,1.27455,1.27483,1.35209,1.27286,1.28338,1.29323,1.30124,1.27497,1.37288,1.31806,1.3523,1.30129,1.28811,1.30262,1.29979,1.41629,1.27484,1.30196,1.28155,1.28315,1.28199,1.28396,1.27396,1.28174,1.27956,1.30065,1.27967,1.28147,1.28125,1.28114,1.28187,1.28147,1.28127,1.2796,1.31011,1.27489,1.27489,1.3118,1.28038,1.28038,1.31586,1.27395,1.27209,1.35835,1.30442,1.28165,1.28156,1.28153,1.28152,1.37214,1.28098,1.27971,1.27987,1.27991,1.29735,1.31433,1.31633,1.28216,1.2823,1.30178,1.31042,1.31159,1.2738,1.27286,1.2805,1.31559,1.3116,1.30996,1.3127,1.27454,1.31006,1.3125,1.28378,1.30059,1.3011,1.29194,1.29196,1.31305,1.29133,1.28401,1.2837,1.4304,1.30868,1.3119,1.30599,1.38784,1.44372,1.2984,1.31713,1.29529,1.2951,1.34182,1.28165,1.30602,1.29623,1.32813,1.2823,1.31526,1.29555,1.32201,1.35297,1.30583,1.31053,1.27549,1.27548,1.29433,1.34622,1.31144,1.29795,1.29647,1.29656,1.34377,1.31368,1.28146,1.28152,1.35872,1.30056,1.30963,1.29321,1.31473,1.31161,1.33626,1.30297,1.31149,1.31994,1.30322,1.29302,1.31095,1.3004,1.30034,1.29838,1.27757,1.27528,1.32655,1.27501,1.29535,1.4203517304260134,1.41863,1.31428,1.30118,1.30179,1.30338,1.30295,1.3014,1.36087,1.2928730249404907,1.28698,1.31162,1.34548,1.27989,1.30966,1.34552,1.34535,1.27537,1.30627,1.34406,1.30968,1.31121,1.32031,1.3048,1.35965,1.30946,1.31583,1.3058,1.30607,1.27432,1.2733,1.274,1.31349,1.31279,1.3707529520366353,1.28038,1.30175,1.24921,1.31559,1.29859,1.30192,1.30111,1.31051,1.27565,1.27554,1.31765,1.31532,1.31831,1.32805,1.29127,1.30459,1.33654,1.30845,1.33678,1.36039,1.3172,1.31774,1.31276,1.3041,1.31135,1.36924,1.28043,1.27599,1.27477,1.31447,1.31033,1.28508,1.28428,1.30448,1.27924,1.27585,1.27328,1.3365,1.29698,1.2956,1.30347,1.3178,1.31709,1.30062,1.29571,1.31278,1.32137,1.33476,1.29547,1.29662,1.31424,1.315,1.30209,1.29542,1.27311,1.31373,1.31476,1.351,1.27878,1.27567,1.31664,1.28753,1.31374,1.2967,1.29658,1.27459,1.3221,1.32382,1.3243,1.32252,1.32285,1.32339,1.32403,1.32412,1.306,1.30498,1.34126,1.30448,1.30469,1.34129,1.35147,1.3186,1.32431,1.3242,1.32424,1.32428,1.32366,1.32435,1.29861,1.33195,1.30858,1.28542,1.31389,1.27341,1.29687,1.30011,1.2777,1.31318,1.30545,1.31825,1.31733,1.32005,1.27394,1.27943,1.31263,1.32991,1.31496,1.33278,1.31853,1.27547,1.27638,1.32899,1.30214,1.35814,1.29817,1.37316,1.28263,1.27767,1.30165,1.30263,1.28548,1.28469,1.30126,1.29999,1.2738,1.31591,1.30096,1.33121,1.31042,1.31324,1.31405,1.27901,1.31784,1.3354,1.33896,1.35148,1.31681,1.2731,1.24826,1.3073,1.30754,1.31809,1.27498,1.3055,1.28516,1.31714,1.30398,1.30611,1.30392,1.30617,1.30406,1.30603,1.29673,1.296,1.29651,1.28471,1.28332,1.29617,1.29656,1.30617,1.29466,1.32137,1.28107,1.3006,1.2502,1.30515,1.29666,1.29671,1.30056,1.30047,1.2984,1.30065,1.29557,1.29021,1.30449,1.37691,1.37655,1.37499,1.35409,1.37525,1.37689,1.37475,1.31009,1.29648,1.29827,1.29635,1.30642,1.31661,1.32071,1.32017,1.30059,1.3267,1.31455,1.37694,1.29247,1.29244,1.29046,1.29191,1.29197,1.29225,1.2904,1.29222,1.29093,1.33003,1.29404,1.33596,1.30449,1.29869,1.30016,1.29995,1.29996,1.29834,1.29869,1.28536,1.351,1.33632,1.30987,1.32417,1.30919,1.3349,1.31957,1.32151,1.28091,1.31027,1.35841,1.29231,1.27637,1.31109,1.2802,1.30061,1.29152,1.31889,1.3145,1.3174,1.31755,1.31937,1.31756,1.2941,1.30006,1.29565,1.31193,1.28367,1.26611,1.2735,1.28152,1.31837,1.2745,1.33728,1.2958,1.3277,1.29682,1.298,1.29628,1.29849,1.29823,1.25737,1.29674,1.29575,1.2795,1.27829,1.27752,1.27933,1.28298,1.31544,1.2813,1.28267,1.28283,1.2808,1.30658,1.3062,1.30469,1.30033,1.33711,1.34649,1.28172,1.31472,1.30038,1.30288,1.30082,1.30053,1.30056,1.31219,1.34676,1.30104,1.30117,1.30198,1.43064,1.29889,1.33669,1.31158,1.31274,1.28303,1.28216,1.40544,1.31569,1.28363,1.28207,1.31267,1.30078,1.30456,1.27919,1.27773,1.31074,1.30431,1.30442,1.30454,1.30412,1.30406,1.30457,1.31331,1.29649,1.2961,1.2962,1.27469,1.37364,1.30397,1.30956,1.31974,1.3115,1.31822,1.28097,1.29553,1.27587,1.27588,1.2755,1.2999,1.30206,1.30147,1.35385,1.33688,1.31816,1.28237,1.3005,1.30124,1.31798,1.30965,1.28512,1.35346,1.4148,1.27971,1.30283,1.31293,1.34652,1.27518,1.27375,1.34493,1.27413,1.33066,1.28142,1.31981,1.27433,1.32535,1.3255,1.32557,1.32339,1.32513,1.31189,1.29888,1.2931220531463623,1.31979,1.33007,1.28257,1.30663,1.31877,1.28322,1.28284,1.27793,1.31259,1.28101,1.280867,1.29509,1.2824,1.28458,1.31794,1.30648,1.30653,1.3355,1.31814,1.29346,1.31273,1.296,1.28048,1.34837,1.34691,1.31715,1.3072,1.30567,1.28936,1.28923,1.28896,1.28756,1.30427,1.31844,1.30268,1.30199,1.30203,1.30342,1.27751,1.29632,1.30437,1.30458,1.27567,1.29459,1.29978,1.29582,1.28727,1.28855,1.28771,1.28722,1.2872,1.28777,1.27477,1.30701,1.28905,1.28717,1.28984,1.29078,1.30785,1.25807,1.33574,1.30109,1.33546,1.34537,1.27325,1.29397,1.30055,1.30219,1.30158,1.30223,1.29044,1.29143,1.29277,1.28936,1.29714,1.28797,1.299638,1.27757,1.27766,1.31564,1.30854,1.28172,1.30086,1.30185,1.29857,1.30272,1.3212,1.32013,1.32004,1.32005,1.29873,1.33352,1.31834,1.31032,1.28159,1.32606,1.32414,1.32563,1.32168,1.32001,1.29334,1.32585,1.29829,1.29854,1.2992,1.29915,1.29857,1.27782,1.31763,1.29415,1.28149,1.27743,1.32052,1.318528,1.318528,1.3178,1.31734,1.30341,1.31921,1.318528,1.31867,1.31781,1.31761,1.29734,1.318528,1.318528,1.3196,1.3115,1.31758,1.31288,1.31954,1.318528,1.318528,1.356,1.318528,1.32525,1.318528,1.31716,1.365,1.30179,1.27927,1.3111,1.30151,1.318528,1.318528,1.32629,1.318528,1.31853,1.29197,1.318528,1.33594,1.29126,1.318528,1.318528,1.318528,1.412,1.282128,1.31109,1.27928,1.31705,1.31885,1.29304,1.37688,1.313119528212298,1.28359,1.33724,1.318524,1.318524,1.318524,1.318524,1.39793,1.31878,1.31829,1.32647,1.30071,1.37513,1.30128,1.29109,1.30293,1.30081,1.28522,1.28648,1.3022,1.30044,1.29896,1.30017,1.28668,1.28509,1.30276,1.30006,1.31898,1.3172,1.29874,1.31122,1.30045,1.3004,1.28021,1.33724,1.35246,1.29186,1.318524,1.318524,1.31815,1.29395,1.34586,1.29835,1.29876,1.2984,1.30033,1.3183,1.27836,1.32641,1.31391,1.30871,1.30191,1.29677,1.29225,1.27649,1.30475,1.31499,1.29168,1.31684,1.30662,1.29937,1.2948,1.29674,1.3015,1.30291,1.30169,1.30086,1.30167,1.30285,1.31584,1.29615,1.287497,1.30806,1.29846,1.29043,1.27825,1.31618,1.300727,1.318524,1.31896,1.35641,1.27634,1.33062,1.27968,1.29862,1.29905,1.31945,1.3058,1.300834,1.40739,1.29581,1.29478,1.29466,1.29673,1.2962,1.29528,1.29458,1.29636,1.29488,1.2966,1.29598,1.296,1.29502,1.30939,1.325,1.28152,1.28245,1.31462,1.27128,1.27126,1.27016,1.30261,1.3082,1.27014,1.26995,1.28291,1.31521,1.28245,1.27016,1.30744,1.306582,1.28328,1.28465,1.28147,1.2849,1.29105,1.30596,1.317613,1.30427,1.28339,1.29388,1.29446,1.27902,1.256984,1.30149,1.30401,1.31417,1.28146,1.29332,1.28161,1.256984,1.28245,1.28245,1.28245,1.28131,1.28245,1.313643,1.29661,1.29667,1.29463,1.29661,1.30075,1.30248,1.2947,1.29644,1.29538,1.29494,1.32391,1.32546,1.29664,1.33021,1.2564422399019202,1.28175,1.30773,1.30993,1.285,1.29337,1.29464,1.29472,1.27336,1.2753,1.31219,1.283671,1.2909,1.28918,1.30431,1.28896,1.29049,1.31749,1.29615,1.29653,1.28179,1.29627,1.337961,1.29662,1.29656,1.29487,1.29473,1.29318,1.318524,1.32429,1.32615,1.2907,1.29057,1.28058,1.29408,1.29981,1.29589,1.29267,1.30109,1.29995,1.2922,1.29187,1.31524,1.30835,1.31019,1.27004,1.30478,1.31903,1.32227,1.28035,1.27849,1.28422,1.33893,1.30762,1.29664,1.29669,1.312039,1.30325,1.31348,1.3753,1.3715767487616406,1.31567,1.31744,1.32026,1.32196,1.31208,1.44008,1.30835,1.33898,1.36214,1.29337,1.29309,1.33669,1.28049,1.29439,1.30477,1.30044,1.28322,1.2828604465911215,1.28158,1.31443,1.31687,1.30556,1.3031,1.31638,1.29848,1.29864,1.31727,1.31732,1.31562,1.29908,1.30478,1.29616,1.31343,1.2926,1.32481,1.28437,1.316059,1.29663,1.32866,1.27599,1.31547,1.31698,1.3148128,1.32396,1.32396,1.32396,1.3294741,1.3374,1.2747254015690903,1.2745402799857175,1.27402,1.37775,1.3040607337428574,1.2965962616988946,1.295310654453104,1.450537882575532,1.3212402,1.28421,1.315123724849338,1.3153703824775531,1.3148128,1.3148128,1.3148128,1.3392999255839324,1.3284632695508685,1.3282942634266508,1.2850454,1.2946074788251505,1.2842085684018127,1.284666758972146,1.29601,1.3654267601223349,1.319062022379054,1.284662968708592,1.2509656956634396,1.2824499,1.338821590211825,1.296103238364594,1.3127557410193067,1.312263730621241,1.2814390349343268,1.2948432998665385,1.3253072,1.285477921929144,1.387353,1.3395802327773496,1.3737832824751477,1.2571870485224814,1.282217625619193,1.448178116901776,1.3377580532060782,1.2832498656945304,1.2816567654594415,1.282097917642521,1.2815104041130565,1.2832688723519532,1.28147,1.28183,1.283096733653474,1.2567518472965111,1.3231386240564431,1.3041603563857431,1.3063865395035883,1.2925688544291014,1.3481304138271926,1.281567525719161,1.324068750170831,1.2820503993642345,1.2811517774896948,1.2813882520356683,1.282957594213667,1.2834415217846415,1.2830519338675608,1.2812791853867431,1.3168076593550035,1.2849268288358908,1.2569835,1.28495,1.3588091,1.27490067166793,1.2830352905345008,1.292574467676037,1.3128534297263186,1.282126584435376,1.2818674148455271,1.2916821,1.3215313,1.2821929346905685,1.2818250643251277,1.2837900115263297,1.2916821,1.2826499255069166,1.2826499255069166,1.2826499255069166,1.309502198005393,1.3138483742976763,1.2951072,1.2826499255069166,1.2826499255069166,1.29715,1.2821859259613126,1.28265,1.2816801349195428,1.2821306578161205,1.2826499255069166,1.2773465,1.2812772067136422,1.345279947726641,1.28175,1.2928154359509303,1.3404891355182418,1.305113651394577,1.327285827067126,1.281540823378922,1.2834203152883294,1.2816390470476404,1.31981,1.2837523164682567,1.281667677013734,1.2834981823551694,1.3117441,1.3117441,1.3128536910009507,1.31886,1.28293,1.281028461978226,1.2808428541583217,1.3157676,1.31134,1.2817968254118144,1.29646,1.2821661439329928,1.282649925930471,1.282649925930471,1.2944,1.281892933895941,1.2816329525508476,1.3276205030723744,1.322907147704617,1.3117441,1.36294123044754,1.322391065886476,1.282649925930471,1.2575383044490538,1.2795839,1.319279609160265,1.347686,1.2836629420920187,1.4423779,1.4123699,1.2808715108915572,1.2666222039019843,1.2874161,1.2874161,1.2862879112928196,1.2874161,1.2874161,1.2874161,1.33071413646994,1.325513035568159,1.3434618,1.3287087925753331,1.330216503097983,1.2562380912875115,1.2808225686628565,1.3166391,1.3081856864813244,1.3185236,1.284619481913345,1.3285338759758405,1.3529103552615394,1.36994349175762,1.3084608152501855,1.2909566142071491,1.25544,1.3684016314149676,1.3120474410123326,1.3272054,1.2872015570913036,1.2931364,1.340451429521586,1.2825612886719882,1.3675565158405016,1.284559452654546,1.283989578705699,1.284429448804044,1.2860778115791205,1.2811649536305505,1.2581623516033342,1.2844023126397797,1.2862177649978204,1.2803958360786474,1.2804889670197277,1.3125705687886586,1.2816810110277816,1.3109484744388302,1.352236144063582,1.306383453182531,1.2838174868155994,1.3159081702116489,1.315226089331056,1.3153613627592873,1.2808512,1.282637452596422,1.2961077832308674,1.296736901346336,1.28539,1.3049798985451528,1.306420669351544,1.28701,1.3173806045927967,1.31535770435704,1.3151799343714417,1.3174893644207593,1.3174956899520474,1.317088397809813,1.3152955115858929,1.3155589743492953,1.3152278674242237,1.3152,1.315767608172247,1.317325895925206,1.2974421799646805,1.2968928694301645,1.3172932402977242,1.3172,1.3172665709551752,1.2973293340199217,1.3154,1.283045956607974,1.2784193510925688,1.3708796,1.310982634536298,1.3206426665386883,1.30031,1.3171479798705092,1.3154127054166127,1.317103164014922,1.2990128421465954,1.3029948,1.3029948,1.284244767032635,1.2831600854127891,1.3093895334485677,1.297881128418724,1.297755054238218,1.30355,1.2782687587017836,1.3131123861509848,1.2935635561834216,1.2975668464474144,1.2800771159273348,1.2803786722902455,1.2825561487162396,1.2815564127775054,1.282049908712101,1.2838921813172155,1.2820432870337382,1.3101111318313925,1.3082119231801423,1.2943600077877142,1.296426555109553,1.2863126322374687,1.2763559745276745,1.2877227969270058,1.2881683401710955,1.2858544693348666,1.2807922902746955,1.3102073922667083,1.278346046859261,1.2812674025751896,1.317474623629936,1.3036245,1.2878469787391855,1.28214551868361,1.3086164578422068,1.28353007548526,1.30576869140814,1.2796094447835022,1.2818673429618836,1.2800871302258563,1.2964312677588965,1.2783339659926565,1.322842131654643,1.2815799434757584,1.2789854549114368,1.2832478485151348,1.2813267182713808,1.2844674526101303,1.2799228923834889,1.2816936792478335,1.2809936738577576,1.2811981391907594,1.28151580674285,1.2834216540491528,1.2821459967704167,1.2531961,1.2936953021785873,1.2819598861501298,1.299569,1.3018163590754626,1.3079207106063386,1.2820653505180863],\"legendgroup\":\"\",\"lon\":[103.78521,103.95887,103.95958,103.961,103.81144,103.95979,103.83924,103.8102,103.81225,103.81138,103.9609,103.83784,103.83788,103.83768,103.95717,103.85206,103.79812,103.87312,103.84498,103.84597,103.84253,103.80941,103.82299,103.86339,103.84317,103.85846,103.86243,103.83454,103.83742,103.85583,103.84311,103.84238,103.94375,103.86359,103.87374,103.84253,103.84424,103.84424,103.84424,103.84255,103.92361,103.88343,103.91569,103.92125,103.84524,103.92211,103.85255,103.91663,103.85143,103.89765,103.83496,103.86028,103.86028,103.86028,103.86214,103.8007,103.78439,103.84318,103.88423,103.84658,103.95858,103.9617,103.84275,103.84341,103.9059,103.86002,103.84074,103.84463,103.84344,103.84117,103.8812,103.86942,103.85401,103.86171,103.84165,103.85792,103.84868,103.83865,103.86276,103.84994,103.84249,103.84212,103.83274,103.94396,103.79717,103.82881,103.84133,103.83188,103.84074,103.85742,103.84575,103.93821,103.83382,103.84073,103.84063,103.84796,103.84769,103.85843,103.83581,103.79714,103.82386,103.72204,103.79304,103.79264,103.85689,103.881,103.96073,103.96256,103.96223,103.85344,103.85759,103.9626,103.79736,103.96465,103.90537,103.79687,103.78434,103.88439,103.85202,103.84253,103.84914,103.82847,103.840942,103.76707,103.76804,103.82376,103.85849,103.85252,103.89104,103.87071,103.85758,103.86892,103.87037,103.78094,103.88983,103.86325,103.88133,103.8634,103.784,103.80247,103.72607,103.88467,103.85735,103.86344,103.8426,103.86163,103.85649,103.85702,103.90624,103.80408,103.87098,103.90207,103.727,103.86305,103.86342,103.86268,103.86415,103.73706,103.91466,103.85557,103.82905,103.91254,103.91232,103.91257,103.91259,103.91394,103.9123,103.91259,103.85169,103.85181,103.96045,103.849,103.84953,103.85108,103.84902,103.89381,103.85142,103.84889,103.85222,103.82343,103.93969,103.840942,103.84967,103.85091,103.84964,103.85041,103.70155,103.8627,103.85193,103.87241,103.8507,103.85358,103.87242,103.86072,103.84356,103.84122,103.8574,103.85062,103.8482,103.85017,103.86028,103.85076,103.8572,103.74679,103.87369,103.87248,103.87212,103.87422,103.8741,103.87371,103.87419,103.72103,103.82345,103.82355,103.93592,103.75409,103.84335,103.83457,103.85334,103.79026,103.8526,103.90241,103.8433,103.84217,103.84929,103.85976,103.85954,103.86032,103.84215,103.83964,103.8865,103.86044,103.86168,103.861,103.85969,103.85953,103.82344,103.87852,103.85029,103.91024,103.80238,103.89036,103.84821,103.8457,103.86077,103.86066,103.86083,103.86073,103.86054,103.86064,103.86054,103.8416,103.86054,103.86054,103.86054,103.86836,103.82416,103.93315,103.88547,103.88615,103.90559,103.85174,103.84346,103.8603,103.7949,103.85306,103.77971,103.91403,103.88209,103.8235,103.82145,103.82205,103.83075,103.83598,103.87554,103.84876,103.85172,103.74785,103.85184,103.91269,103.91127,103.84301,103.91468,103.91678,103.80346,103.84892,103.84855,103.84852,103.85168,103.78932,103.88299,103.88276,103.91,103.78592,103.85301,103.86146,103.85642,103.85366,103.8416,103.90497,103.77431,103.85829,103.85829,103.85829,103.85829,103.85829,103.85829,103.85829,103.85829,103.85829,103.85829,103.79008,103.86028,103.91408,103.8465,103.79711,103.82472,103.85285,103.85395,103.88303,103.86162,103.85555,103.89153,103.91456,103.828,103.843,103.84399,103.87973,103.72095,103.78544,103.85937,103.8593,103.86078,103.85904,103.85843,103.78534,103.78534,103.84696,103.94855,103.70107,103.8296,103.79747,103.9519,103.85796,103.91588,103.87213,103.84133,103.91497,103.91084,103.82806,103.95444,103.86352,103.91505,103.84806,103.84334,103.84462,103.85075,103.85122,103.91181,103.88742,103.84339,103.79736,103.91679,103.84253,103.74873,103.86278,103.84069,103.88422,103.84297,103.86338,103.85111,103.84242,103.85998,103.78707,103.93572,103.71994,103.8437,103.91272,103.91656,103.88215,103.83244,103.86075,103.96517,103.86232,103.96519,103.79575,103.86046,103.86112,103.86059,103.74834,103.8821,103.95383,103.8588,103.86019,103.87284,103.93769,103.86168,103.85991,103.84462,103.84395,103.76596,103.81413,103.81647,103.84489,103.84677,103.84064,103.80315,103.78719,103.78741,103.78922,103.84175,103.83774,103.91404,103.83911,103.84297,103.95805,103.84045,103.68701,103.78528,103.68659,103.85829,103.85684,103.86078,103.91641,103.91487,103.9146,103.91237,103.91242,103.85017,103.86054,103.84253,103.84924,103.84368,103.84058,103.86726,103.8634,103.913361,103.91599,103.84347,103.78794,103.87264,103.82374,103.7586,103.86028,103.86028,103.86028,103.75837,103.75807,103.83743,103.91243,103.76572,103.8397,103.84293,103.84323,103.86212,103.85493,103.83669,103.82184,103.85647,103.8456,103.83861,103.83809,103.8386,103.79772,103.86165,103.7967,103.83676,103.83858,103.82172,103.86015,103.84457,103.87355,103.85829,103.88163,103.78049,103.83738,103.85899,103.8249,103.882,103.77355,103.83852,103.7234,103.85333,103.86116,103.86143,103.84351,103.86144,103.86218,103.86069,103.69013,103.84077,103.86134,103.72186,103.85453,103.83707,103.83707,103.83707,103.83707,103.83707,103.83707,103.85217,103.85106,103.84896,103.86042,103.84786,103.84773,103.84934,103.85526,103.85526,103.84139,103.84158,103.90893,103.84101,103.85232,103.76018,103.74177,103.71245,103.84322,103.91498,103.78772,103.88002,103.84825,103.84723,103.84904,103.84003,103.84421,103.76795,103.9147,103.88672,103.84158,103.8616,103.87237,103.86098,103.89771,103.79933,103.862,103.82993,103.83627,103.83846,103.83825,103.76533,103.82434,103.85809,103.85318,103.8527,103.75882,103.91471,103.91258,103.90101,103.76081,103.85688,103.85261,103.85232,103.83707,103.83707,103.83382,103.8828,103.85404,103.8519,103.86305,103.78385,103.86305,103.84928,103.85073,103.8536,103.84256,103.84315,103.85817,103.8325,103.84364,103.84285,103.84484,103.819,103.82356,103.86962,103.85702,103.82358,103.77275,103.84962,103.88163,103.88217,103.88213,103.78593,103.75904,103.75884,103.85389,103.89457,103.64828,103.8433,103.84143,103.85306,103.88148,103.84137,103.84315,103.83001,103.80969,103.84119,103.8566,103.85473,103.86103,103.86149,103.8617,103.84791,103.85875,103.85302,103.8529,103.84245,103.85222,103.83672,103.83666,103.85355,103.90841,103.8596,103.8604,103.85857,103.75212,103.8472,103.85857,103.89046,103.85035,103.84908,103.75033,103.8587,103.83378,103.74233,103.86233,103.85165,103.88163,103.88228,103.88168,103.84438,103.88525,103.88525,103.85768,103.90487,103.83687,103.88769,103.86113,103.88165,103.8588,103.88114,103.84319,103.7711,103.84294,103.74143,103.91075,103.84294,103.84497,103.84538,103.84376,103.76175,103.88308,103.88377,103.87706,103.88408,103.88297,103.7857,103.71821,103.8593,103.86254,103.7723,103.88163,103.8538,103.9133,103.91492,103.91537,103.91549,103.91541,103.86222,103.87986,103.84057,103.86129,103.86145,103.84368,103.94576,103.85067,103.7415,103.8443,103.83774,103.76086,103.78739,103.84375,103.83869,103.72341,103.88247,103.84699,103.84294,103.87299,103.85082,103.84442,103.83204,103.78401,103.83721,103.78767,103.84007,103.84184,103.80097,103.78552,103.84111,103.84177,103.78695,103.84294,103.92479,103.84294,103.88303,103.84294,103.84096,103.84587,103.83225,103.88163,103.85292,103.78662,103.85256,103.85392,103.79765,103.84232,103.79624,103.79702,103.83913,103.84048,103.8368,103.83807,103.8399,103.83844,103.74987,103.86071,103.89308,103.95915,103.82841,103.78445,103.82896,103.83361,103.77312,103.83998,103.84373,103.76234,103.84136,103.78772,103.78576,103.83909,103.78721,103.78564,103.94445,103.85975,103.84255,103.84025,103.81491,103.78732,103.9411,103.80622,103.89883,103.8991,103.88163,103.89967,103.85736,103.78655,103.85426,103.76152,103.84166,103.84139,103.84338,103.84207,103.83634,103.88694,103.84017,103.85205,103.85129,103.85314,103.85267,103.85343,103.8513,103.85361,103.85187,103.85354,103.86242,103.86266,103.85143,103.75086,103.78719,103.78603,103.92026,103.86182,103.86187,103.84255,103.84586,103.8604,103.85212,103.88421,103.91102,103.91284,103.91241,103.91211,103.9121,103.85311,103.7618,103.78764,103.84224,103.85358,103.86923,103.78613,103.85126,103.78746,103.85789,103.90557,103.80781,103.85347,103.84148,103.83642,103.84255,103.78508,103.84983,103.75778,103.88163,103.84278,103.8407,103.78765,103.86022,103.84165,103.84257,103.91458,103.8516,103.8514,103.80674,103.84893,103.88158,103.88163,103.86169,103.94751,103.84214,103.85331,103.85151,103.82951,103.84569,103.88163,103.84233,103.85826,103.79646,103.89975,103.85358,103.83991,103.85341,103.79077,103.85213,103.85953,103.86182,103.838,103.84361,103.84212,103.83859,103.88331,103.908,103.90796,103.9064,103.88325,103.70406,103.7997,103.86118,103.86232,103.85237,103.88191,103.74297,103.86098,103.88075,103.84395,103.75533,103.85155,103.8487,103.85318,103.7874,103.85798,103.86033,103.84751,103.78731,103.78634,103.74572,103.84255,103.84331,103.87373,103.84856,103.87348,103.85954,103.85962,103.8615,103.86119,103.86003,103.86137,103.85964,103.89967,103.84693,103.84717,103.85349,103.84584,103.84342,103.87955,103.886,103.80004,103.6934,103.691,103.87176,103.87387,103.8739,103.8732,103.87178,103.78957,103.8816,103.86348,103.88163,103.91172,103.84396,103.84364,103.85097,103.84399,103.84296,103.84396,103.84462,103.84472,103.86077,103.85372,103.84669,103.84475,103.84478,103.8613,103.87853,103.8408,103.84592,103.86098,103.84732,103.77725,103.83317,103.85367,103.84255,103.84414,103.8816,103.83535,103.84903,103.84349,103.86249,103.85232,103.85363,103.78583,103.84953,103.8816,103.89147,103.85379,103.84718,103.85171,103.74147,103.84312,103.84312,103.8423,103.84195,103.84312,103.84255,103.85895,103.86064,103.84255,103.88163,103.86024,103.8428,103.86335,103.84173,103.85241,103.83018,103.90527,103.86251,103.8816,103.86212,103.85365,103.88163,103.86284,103.85951,103.88497,103.86283,103.84255,103.8601,103.90666,103.84339,103.84147,103.92461,103.88348,103.68989,103.6905,103.85985,103.85966,103.91379,103.68984,103.77561,103.84498,103.8532,103.94476,103.84155,103.84065,103.86064,103.82309,103.81448,103.814,103.72224,103.86753,103.85827,103.84625,103.88262,103.92463,103.84657,103.84491,103.84612,103.74543,103.90221,103.84344,103.84346,103.8442,103.88844,103.89748,103.84979,103.741,103.84284,103.86234,103.9027,103.82778,103.78546,103.78558,103.87403,103.86109,103.85048,103.83417,103.83863,103.8279,103.86619,103.78759,103.86141,103.86315,103.83417,103.84158,103.84255,103.83417,103.83417,103.86005,103.86625,103.83438,103.83402,103.834,103.83417,103.83433,103.83417,103.85291,103.84636,103.83401,103.83395,103.83752,103.83637,103.83383,103.83408,103.86111,103.86151,103.82748,103.82669,103.82797,103.83408,103.83381,103.84135,103.86055,103.86166,103.85214,103.83417,103.90373,103.83395,103.82875,103.86146,103.85155,103.84237,103.84333,103.84204,103.82625,103.83392,103.82838,103.83862,103.86503,103.84159,103.88793,103.85202,103.84467,103.88838,103.69361,103.84204,103.83454,103.87822,103.87608,103.83844,103.86828,103.90516,103.85832,103.85411,103.8323,103.85358,103.84842,103.84253,103.84348,103.91454,103.84873,103.84253,103.82727,103.84248,103.84253,103.84183,103.82718,103.86509,103.84518,103.8429,103.8332,103.85185,103.74405,103.80647,103.84678,103.8491,103.78706,103.84368,103.84492,103.84517,103.84502,103.86118,103.88163,103.80677,103.84974,103.86536,103.84367,103.7428,103.85357,103.82826,103.84163,103.86005,103.88163,103.86318,103.75193,103.84873,103.84224,103.76741,103.86942,103.85181,103.85401,103.85421,103.8621,103.84751,103.88067,103.92209,103.85895,103.85245,103.90364,103.92487,103.88163,103.88163,103.86226,103.86032,103.84535,103.87977,103.88163,103.76242,103.88926,103.84253,103.84713,103.84993,103.84822,103.848,103.85459,103.86266,103.8294,103.80439,103.78462,103.86784,103.84939,103.83153,103.83353,103.83366,103.85316,103.85846,103.83154,103.83342,103.76126,103.8336,103.83187,103.7953,103.84782,103.85245,103.83389,103.82984,103.83704,103.84894,103.77331,103.77312,103.77295,103.77124,103.76135,103.8068,103.84737,103.83866,103.76314,103.86381,103.85948,103.85816,103.85723,103.85994,103.85,103.84794,103.84895,103.855,103.83166,103.8205,103.83194,103.83329,103.83197,103.80013,103.86388,103.84289,103.84984,103.84313,103.84119,103.84106,103.77812,103.9,103.72175,103.83846,103.88851,103.84055,103.85228,103.83062,103.85038,103.84229,103.79761,103.85373,103.83773,103.86214,103.89581,103.84943,103.92194,103.84058,103.86337,103.94985,103.79981,103.85252,103.81887,103.86332,103.86108,103.86283,103.86256,103.86606,103.84066,103.89943,103.84832,103.85099,103.7856,103.8101,103.83405,103.83405,103.83323,103.83405,103.84413,103.81141,103.81143,103.77839,103.8375,103.828,103.82651,103.82652,103.75838,103.85332,103.84546,103.71697,103.84253,103.71764,103.71839,103.86321,103.75811,103.84194,103.84249,103.84215,103.873,103.84279,103.84729,103.94425,103.87619,103.86232,103.84092,103.85488,103.96706,103.84411,103.85447,103.85316,103.85324,103.8535,103.85366,103.85297,103.85045,103.84926,103.84881,103.85087,103.8511,103.85074,103.88707,103.84092,103.88163,103.83144,103.85187,103.84273,103.84279,103.86118,103.83705,103.84092,103.88205,103.84374,103.84229,103.85346,103.69871,103.87039,103.87029,103.82695,103.8722,103.85982,103.83774,103.84838,103.80651,103.81826,103.76104,103.88063,103.83199,103.84914,103.84052,103.84156,103.8432,103.84756,103.86605,103.88536,103.87797,103.87599,103.83125,103.85375,103.85132,103.82537,103.82495,103.86118,103.85812,103.82479,103.82689,103.85841,103.86136,103.85845,103.85074,103.85847,103.85835,103.85958,103.85619,103.85851,103.86025,103.86045,103.86046,103.8609,103.86123,103.86103,103.77846,103.79696,103.73832,103.85153,103.83564,103.85361,103.88282,103.82738,103.83988,103.86076,103.82767,103.86141,103.84169,103.84097,103.83819,103.84014,103.83981,103.83488,103.83257,103.83483,103.844,103.83461,103.85276,103.80477,103.85682,103.80362,103.86042,103.86054,103.85975,103.87352,103.88163,103.86086,103.86021,103.84638,103.84413,103.84006,103.74151,103.86585,103.84833,103.86186,103.76172,103.95725,103.86545,103.9094,103.90779,103.88507,103.85692,103.84837,103.84685,103.86369,103.83596,103.83596,103.85406,103.82597,103.83706,103.82812,103.87967,103.75713,103.86041,103.84507,103.8578,103.84153,103.84157,103.83434,103.83432,103.83394,103.83233,103.83293,103.86349,103.74614,103.79806243190468,103.89852,103.83286,103.83267,103.88693,103.88044,103.89803,103.85316,103.88486,103.88207,103.77689,103.80652,103.85999,103.88457,103.84159,103.8826,103.83402,103.83387,103.76303,103.85311,103.83258,103.835,103.83383,103.76369,103.77194,103.89795,103.83404,103.82586,103.84002,103.83318,103.83426,103.83424,103.84995,103.8537,103.83489,103.8347,103.85085,103.83418,103.8352,103.76341,103.80098,103.83395,103.76524,103.7621,103.69923,103.86056,103.84853,103.76654,103.85857,103.84633,103.83239,103.85935,103.84501,103.84252,103.84277,103.83961,103.83416,103.78598,103.78559,103.82882,103.7876,103.78529,103.78541,103.78561,103.78712,103.78536,103.78577,103.78536,103.90284,103.83283,103.83246,103.85934,103.84195,103.84195,103.88265,103.83335,103.83428,103.76498,103.76693,103.78733,103.78553,103.78572,103.78567,103.76667,103.78765,103.78764,103.78742,103.78543,103.84334,103.88301,103.89018,103.8602,103.86064,103.83315,103.87204,103.87205,103.84515,103.83282,103.8518,103.88275,103.86012,103.86019,103.86127,103.82317,103.86192,103.86121,103.83318,103.86113,103.86049,103.76775,103.7697,103.88743,103.76769,103.785,103.78496,103.77993,103.85484,103.86177,103.85248,103.89001,103.80708,103.83397,103.88446,103.84,103.84071,103.71784,103.85158,103.851,103.83217,103.84965,103.78702,103.88967,103.82864,103.85756,103.85176,103.85355,103.86003,103.8489,103.84497,103.84125,103.84229,103.8797,103.85562,103.8577,103.85775,103.85202,103.8915,103.84125,103.84099,103.84547,103.85104,103.86018,103.7691,103.8816,103.86259,103.74356,103.84918,103.83788,103.8535,103.86345,103.84111,103.76157,103.83701,103.83671,103.85742,103.79415,103.84549,103.85072,103.84688,103.80473,103.8467068398134,103.84743,103.85804,103.85026,103.85071,103.84882,103.84868,103.85001,103.84342,103.8303451538086,103.78654,103.89798,103.87174,103.85201,103.86045,103.70525,103.70508,103.84244,103.8287,103.70405,103.8616,103.86082,103.84703,103.83786,103.8458,103.85386,103.88123,103.85581,103.85583,103.84408,103.84407,103.84668,103.76043,103.75818,103.82924638688564,103.78563,103.86139,103.82496,103.82586,103.86059,103.86152,103.82859,103.8275,103.84561,103.84578,103.82551,103.82554,103.84588,103.84948,103.8458,103.84939,103.74277,103.86112,103.78016,103.89105,103.8439,103.84577,103.85804,103.78494,103.86035,103.94925,103.84695,103.84562,103.84523,103.88277,103.86028,103.83384,103.83396,103.78504,103.8463,103.84388,103.84565,103.74192,103.80473,103.83039,103.86125,103.84357,103.84553,103.85184,103.8315,103.82472,103.86206,103.74183,103.80486,103.80657,103.85753,103.85788,103.86133,103.83126,103.83601,103.85741,103.91763,103.81958,103.84626,103.84587,103.84124,103.84724,103.85438,103.85543,103.85595,103.84437,103.91389,103.91331,103.91535,103.91511,103.9135,103.91321,103.91471,103.91374,103.85412,103.85591,103.76739,103.85461,103.85574,103.76615,103.81887,103.84377,103.91367,103.91339,103.91317,103.91346,103.91548,103.91531,103.83576,103.86705,103.82917,103.83445,103.88913,103.80812,103.80467,103.83613,103.84479,103.89045,103.85881,103.84571,103.84377,103.88083,103.84497,103.84106,103.88808,103.86718,103.88963,103.78869,103.82628,103.84571,103.84538,103.84263,103.85255,103.76357,103.89594,103.94634,103.84572,103.84902,103.79062,103.85084,103.85896,103.84149,103.84827,103.83632,103.84713,103.88235,103.85055,103.79606,103.86171,103.84037,103.8395,103.84844,103.88605,103.74302,103.84203,103.85201,103.84136,103.84636,103.82401,103.85728,103.83519,103.88386,103.83238,103.89933,103.84196,103.84355,103.85052,103.85242,103.85187,103.85044,103.85165,103.8507,103.83746,103.83673,103.83883,103.83391,103.83424,103.83664,103.83717,103.83466,103.83664,103.85349,103.84795,103.84089,103.82413,103.89854,103.83699,103.83711,103.84139,103.8431,103.84087,103.84175,103.83844,103.80631,103.83822,103.8791,103.88002,103.87899,103.85006,103.88057,103.87992,103.88005,103.86171,103.8571,103.8576,103.85682,103.84189,103.84695,103.85345,103.85177,103.88561,103.90846,103.7583,103.76786,103.84089,103.84253,103.84247,103.84025,103.84052,103.84032,103.84162,103.84234,103.84029,103.86728,103.82651,103.74445,103.76522,103.76417,103.76376,103.76604,103.76571,103.76583,103.76415,103.78664,103.81921,103.74319,103.7619,103.84534,103.76177,103.74079,103.75224,103.75245,103.85189,103.76033,103.94056,103.80741,103.84586,103.861,103.85392,103.85199,103.76149,103.84879,103.84687,103.84859,103.84892,103.84827,103.84693,103.82732,103.88389,103.82742,103.86304,103.83527,103.8096,103.83252,103.85391,103.82708,103.83451,103.74627,103.84179,103.86393,103.83676,103.85571,103.85681,103.85763,103.85561,103.81925,103.85733,103.80359,103.84329,103.84552,103.84409,103.8434,103.85853,103.83089,103.84443,103.84564,103.84501,103.84586,103.85367,103.85596,103.85578,103.76588,103.74169,103.72332,103.85342,103.83561,103.76371,103.83654,103.88613,103.88421,103.88594,103.85944,103.73229,103.85026,103.85055,103.85033,103.77327,103.85232,103.74073,103.85606,103.85842,103.84497,103.84268,103.82071,103.85619,103.85962,103.84271,103.8566,103.84756,103.8405,103.84514,103.84547,103.85794,103.82952,103.82895,103.82954,103.82928,103.82936,103.82774,103.85854,103.84203,103.85761,103.85731,103.84237,103.90219,103.92244,103.86201,103.7525,103.85825,103.85549,103.85391,103.85412,103.84181,103.84165,103.84223,103.79909,103.80034,103.86155,103.8511,103.74118,103.76098,103.85227,103.88423,103.83952,103.85175,103.86018,103.84319,103.85045,103.89859,103.78613,103.83604,103.85846,103.72554,103.84715,103.84399,103.72393,103.84231,103.86806,103.85374,103.88068,103.84194,103.85167,103.85017,103.85022,103.85028,103.8515,103.85647,103.85315,103.83050537109376,103.75252,103.86666,103.84584,103.85602,103.85915,103.86175,103.86139,103.84522,103.85823,103.85378,103.852531,103.80579,103.78262,103.84291,103.88187,103.85511,103.85512,103.74133,103.88212,103.80479,103.85948,103.80782,103.78296,103.8536,103.85538,103.76133,103.89806,103.89778,103.84881,103.84871,103.84837,103.84849,103.85993,103.82627,103.86,103.86176,103.86176,103.85992,103.8474,103.83844,103.85452,103.85557,103.8494,103.84012,103.79959,103.80731,103.84946,103.84809,103.8481,103.84826,103.84843,103.84809,103.84228,103.76976,103.84844,103.84836,103.81995,103.81789,103.76787,103.81952,103.74456,103.8399,103.74329,103.95973,103.84731,103.79737,103.85866,103.86009,103.86,103.85852,103.83248,103.84082,103.83911,103.84442,103.85355,103.84768,103.847122,103.84827,103.84738,103.85457,103.82984,103.84679,103.8602,103.85823,103.85347,103.8407,103.88034,103.85287,103.85217,103.85216,103.8494,103.87775,103.8278,103.82681,103.85183,103.84689,103.84527,103.84532,103.86365,103.86503,103.8396,103.84677,103.85164,103.8416,103.84138,103.83961,103.84123,103.84746,103.84865,103.82786,103.85163,103.84837,103.75308,103.847511,103.847511,103.8483,103.84217,103.86356,103.84676,103.847511,103.84683,103.84852,103.84837,103.82659,103.847511,103.847511,103.84804,103.85708,103.84717,103.85769,103.84712,103.847511,103.847511,103.86437,103.847511,103.85034,103.847511,103.84506,103.86175,103.82864,103.78705,103.85787,103.79785,103.847511,103.847511,103.84921,103.847511,103.84751,103.80585,103.847511,103.74287,103.84117,103.847511,103.847511,103.847511,103.83421,103.858704,103.90705,103.83754,103.84549,103.84519,103.81724,103.88014,103.89432590161285,103.86182,103.74294,103.847511,103.847511,103.847511,103.847511,103.91225,103.84838,103.84646,103.85086,103.8403,103.94739,103.85697,103.84228,103.85849,103.85706,103.83317,103.83366,103.84131,103.84009,103.88392,103.886,103.83444,103.83333,103.90158,103.85989,103.84683,103.84669,103.84127,103.85807,103.84139,103.84111,103.78408,103.74269,103.85013,103.84215,103.847511,103.847511,103.84841,103.8268,103.9601,103.85834,103.86027,103.86009,103.85967,103.84652,103.85219,103.83715,103.85675,103.83706,103.84168,103.84068,103.77137,103.85472,103.84638,103.80648,103.76218,103.83967,103.85441,103.83877,103.83841,103.83941,103.85693,103.85876,103.85695,103.85726,103.8567,103.85908,103.85703,103.83811,103.848557,103.85404,103.85375,103.8089,103.85154,103.85503,103.788452,103.847511,103.84668,103.96411,103.84163,103.87531,103.85193,103.7877,103.78739,103.83388,103.82584,103.788559,103.90315,103.83797,103.8382,103.83946,103.84027,103.83977,103.84019,103.83887,103.83982,103.84017,103.8402,103.83822,103.83997,103.84022,103.86245,103.81091,103.8573,103.85788,103.8589,103.79836,103.79836,103.79775,103.86342,103.76833,103.79798,103.79804,103.85879,103.8425,103.85788,103.79832,103.89537,103.923561,103.8585,103.84732,103.85674,103.84892,103.84186,103.76697,103.85199,103.85505,103.85764,103.82811,103.83079,103.78622,103.820267,103.8508,103.85234,103.88107,103.85904,103.84366,103.85859,103.820267,103.85788,103.85788,103.85788,103.85674,103.85788,103.885719,103.83956,103.83996,103.84011,103.83863,103.84156,103.83982,103.84002,103.83879,103.83842,103.84016,103.84606,103.84533,103.83998,103.86669,103.82123435232256,103.85845,103.76954,103.76127,103.84968,103.84248,103.84009,103.83931,103.84587,103.8451,103.88038,103.860489,103.83195,103.83042,103.78495,103.83108,103.83248,103.84582,103.84074,103.83843,103.85726,103.8404,103.870148,103.83913,103.83844,103.8385,103.8401,103.84179,103.847511,103.84535,103.84621,103.83218,103.83237,103.78438,103.83272,103.84968,103.83101,103.84125,103.84151,103.84956,103.8063,103.80634,103.82785,103.76131,103.76283,103.79657,103.78475,103.84564,103.79026,103.78627,103.78625,103.85926,103.86796,103.76744,103.8069,103.80714,103.836998,103.78495,103.88217,103.83055,103.944318415429,103.82629,103.82654,103.84254,103.84222,103.88127,103.70312,103.76936,103.86878,103.76512,103.83989,103.84186,103.86812,103.78609,103.83861,103.8524,103.84164,103.85863,103.85883628591692,103.85883,103.88853,103.82607,103.91283,103.8364,103.84279,103.78732,103.78694,103.82623,103.82667,103.85674,103.84004,103.83771,103.82899,103.72092,103.83293,103.85227,103.85082,103.9776616,103.84248,103.94214,103.84715,103.82653,103.82623,103.8984635,103.85283,103.85283,103.85283,103.6822694,103.86981,103.84209943174504,103.84188239246112,103.84229,103.74501,103.78754716181793,103.83821137029264,103.8401662421086,103.81429340690374,103.7910179,103.84619,103.89748313926694,103.89756368808568,103.8984635,103.8984635,103.8984635,103.87064790831764,103.68155826295988,103.68287997586457,103.8347855,103.83842315558776,103.8351300759014,103.83364847819271,103.838,103.76389447421116,103.76247864264556,103.833926033815,103.84583429640512,103.8578807,103.86836510750436,103.83991140780812,103.85904440778502,103.8613623045377,103.85365086115496,103.84001442887016,103.8498993,103.86036113967934,103.743784,103.87069412533546,103.90021736649776,103.82141051316624,103.85700617007562,103.83143341069416,103.74851988752587,103.8450743895941,103.84709959492344,103.84696933984776,103.8456749588044,103.84525182809034,103.84691,103.84537,103.84487043616954,103.82033105939624,103.86622412115123,103.78881113706102,103.78881765991068,103.8037215572133,103.6959764078999,103.84577776704432,103.84740810816288,103.8447356340068,103.84529292621512,103.84470705591536,103.84678238358552,103.84518206416162,103.84656554365306,103.84681161964376,103.8443609744333,103.85109054054442,103.8202676,103.84947,103.8257696,103.84190157615636,103.846978359739,103.8056413953604,103.85963641744326,103.84676612840089,103.84695841301854,103.8048268,103.8527231,103.8471067127746,103.84655936526366,103.84502770988856,103.8048268,103.84601689875126,103.84601689875126,103.84601689875126,103.85836751293868,103.89967074508012,103.8285254,103.84601689875126,103.84601689875126,103.83789,103.84710187581064,103.84602,103.84672654345032,103.84695626223385,103.84601689875126,103.8536086,103.857511369803,103.63530011330454,103.84576,103.83794031052192,103.85204304111818,103.834921571403,103.84722597776592,103.84484419814018,103.84509665138071,103.84526796567526,103.77742,103.84547402625732,103.84685301131022,103.84556782484913,103.8602406,103.8602406,103.86063810531166,103.8441,103.84719,103.84592985234862,103.84585773769842,103.8459867,103.85985,103.85875266642918,103.83944,103.84691632274334,103.84601689875126,103.84601689875126,103.83934,103.8586497359192,103.8585763424635,103.9463723457163,103.89213748995206,103.8602406,103.76419577747583,103.89147895515958,103.84601689875126,103.821414676741,103.8506561,103.76115189678204,103.771792,103.82679740998694,103.7934851,103.835094,103.8456286706577,103.82474684216002,103.8472705,103.8472705,103.84809190434636,103.8472705,103.8472705,103.8472705,103.94424225887136,103.85062877982232,103.6895538,103.68149993182791,103.68128991054574,103.82102345526934,103.84703775561118,103.8298825,103.8336393780906,103.8475129,103.85965861863625,103.68182305710944,103.85271256786368,103.86532856319585,103.86335616852304,103.85058211695804,103.81533,103.8582214631832,103.88262338387256,103.8419479,103.84856679010916,103.8063663,103.9589383948842,103.85750027477032,103.84467761744725,103.83398460478722,103.83426616078827,103.83374882747142,103.83455848044476,103.85162966066152,103.82050181939816,103.8338655285608,103.8344055322915,103.8496756154513,103.84757138851197,103.861199778575,103.84758709197216,103.86033559982324,103.85300984009385,103.78801540146544,103.86043790420176,103.82805895550275,103.82612548793831,103.82786019338812,103.8529161,103.85800438774372,103.84023995231276,103.840071966987,103.83593,103.92227805883344,103.92399163618197,103.84999,103.82634753915426,103.82823924209714,103.82813054934536,103.82615133137098,103.82786026988232,103.82604099607444,103.8261876055727,103.8278840953741,103.82687876091448,103.82775,103.82826996178812,103.8274954566922,103.8560337152306,103.85576002299786,103.82612409508954,103.82788,103.82697845266406,103.85425784026404,103.82818,103.85831797061412,103.86193382266596,103.9462779,103.8598213629862,103.8925875790479,103.84562,103.82619081494336,103.8280616560566,103.8281434711639,103.8574057872996,103.8387408,103.8387408,103.83367449408536,103.86049814522266,103.85418983545696,103.85510868535364,103.85651444338151,103.85524,103.86198048105926,103.92214942088894,103.84119352632872,103.85381174729734,103.84490858071835,103.84691105886426,103.84634674743936,103.8466087962557,103.8454344405818,103.84413173521231,103.84535589846568,103.85399340366033,103.85434915359866,103.83856834346447,103.84042202065196,103.8490749754162,103.84144409684367,103.84914401943584,103.84722421667848,103.8490370279328,103.78705624490976,103.89241153936254,103.8619183054042,103.85668340674889,103.84814421965442,103.797154,103.84864302658426,103.85702482966823,103.83859874795805,103.84574117784868,103.83307825773954,103.85304821362332,103.7863484331192,103.78620042354508,103.83796425082014,103.86197060272994,103.85372781739112,103.78742890550927,103.78533746201435,103.8589481323451,103.78517232555454,103.85990869204592,103.78628258611644,103.78791597323504,103.78803289341803,103.78805185338268,103.78779722027411,103.86147616335856,103.85334052437436,103.8194919,103.82948572869547,103.85699319509251,103.8985672,103.83907749635362,103.83150241120804,103.8587138056755],\"marker\":{\"color\":\"#636efa\"},\"mode\":\"markers\",\"name\":\"\",\"showlegend\":false,\"subplot\":\"mapbox\",\"type\":\"scattermapbox\"}],                        {\"template\":{\"data\":{\"histogram2dcontour\":[{\"type\":\"histogram2dcontour\",\"colorbar\":{\"outlinewidth\":0,\"ticks\":\"\"},\"colorscale\":[[0.0,\"#0d0887\"],[0.1111111111111111,\"#46039f\"],[0.2222222222222222,\"#7201a8\"],[0.3333333333333333,\"#9c179e\"],[0.4444444444444444,\"#bd3786\"],[0.5555555555555556,\"#d8576b\"],[0.6666666666666666,\"#ed7953\"],[0.7777777777777778,\"#fb9f3a\"],[0.8888888888888888,\"#fdca26\"],[1.0,\"#f0f921\"]]}],\"choropleth\":[{\"type\":\"choropleth\",\"colorbar\":{\"outlinewidth\":0,\"ticks\":\"\"}}],\"histogram2d\":[{\"type\":\"histogram2d\",\"colorbar\":{\"outlinewidth\":0,\"ticks\":\"\"},\"colorscale\":[[0.0,\"#0d0887\"],[0.1111111111111111,\"#46039f\"],[0.2222222222222222,\"#7201a8\"],[0.3333333333333333,\"#9c179e\"],[0.4444444444444444,\"#bd3786\"],[0.5555555555555556,\"#d8576b\"],[0.6666666666666666,\"#ed7953\"],[0.7777777777777778,\"#fb9f3a\"],[0.8888888888888888,\"#fdca26\"],[1.0,\"#f0f921\"]]}],\"heatmap\":[{\"type\":\"heatmap\",\"colorbar\":{\"outlinewidth\":0,\"ticks\":\"\"},\"colorscale\":[[0.0,\"#0d0887\"],[0.1111111111111111,\"#46039f\"],[0.2222222222222222,\"#7201a8\"],[0.3333333333333333,\"#9c179e\"],[0.4444444444444444,\"#bd3786\"],[0.5555555555555556,\"#d8576b\"],[0.6666666666666666,\"#ed7953\"],[0.7777777777777778,\"#fb9f3a\"],[0.8888888888888888,\"#fdca26\"],[1.0,\"#f0f921\"]]}],\"heatmapgl\":[{\"type\":\"heatmapgl\",\"colorbar\":{\"outlinewidth\":0,\"ticks\":\"\"},\"colorscale\":[[0.0,\"#0d0887\"],[0.1111111111111111,\"#46039f\"],[0.2222222222222222,\"#7201a8\"],[0.3333333333333333,\"#9c179e\"],[0.4444444444444444,\"#bd3786\"],[0.5555555555555556,\"#d8576b\"],[0.6666666666666666,\"#ed7953\"],[0.7777777777777778,\"#fb9f3a\"],[0.8888888888888888,\"#fdca26\"],[1.0,\"#f0f921\"]]}],\"contourcarpet\":[{\"type\":\"contourcarpet\",\"colorbar\":{\"outlinewidth\":0,\"ticks\":\"\"}}],\"contour\":[{\"type\":\"contour\",\"colorbar\":{\"outlinewidth\":0,\"ticks\":\"\"},\"colorscale\":[[0.0,\"#0d0887\"],[0.1111111111111111,\"#46039f\"],[0.2222222222222222,\"#7201a8\"],[0.3333333333333333,\"#9c179e\"],[0.4444444444444444,\"#bd3786\"],[0.5555555555555556,\"#d8576b\"],[0.6666666666666666,\"#ed7953\"],[0.7777777777777778,\"#fb9f3a\"],[0.8888888888888888,\"#fdca26\"],[1.0,\"#f0f921\"]]}],\"surface\":[{\"type\":\"surface\",\"colorbar\":{\"outlinewidth\":0,\"ticks\":\"\"},\"colorscale\":[[0.0,\"#0d0887\"],[0.1111111111111111,\"#46039f\"],[0.2222222222222222,\"#7201a8\"],[0.3333333333333333,\"#9c179e\"],[0.4444444444444444,\"#bd3786\"],[0.5555555555555556,\"#d8576b\"],[0.6666666666666666,\"#ed7953\"],[0.7777777777777778,\"#fb9f3a\"],[0.8888888888888888,\"#fdca26\"],[1.0,\"#f0f921\"]]}],\"mesh3d\":[{\"type\":\"mesh3d\",\"colorbar\":{\"outlinewidth\":0,\"ticks\":\"\"}}],\"scatter\":[{\"fillpattern\":{\"fillmode\":\"overlay\",\"size\":10,\"solidity\":0.2},\"type\":\"scatter\"}],\"parcoords\":[{\"type\":\"parcoords\",\"line\":{\"colorbar\":{\"outlinewidth\":0,\"ticks\":\"\"}}}],\"scatterpolargl\":[{\"type\":\"scatterpolargl\",\"marker\":{\"colorbar\":{\"outlinewidth\":0,\"ticks\":\"\"}}}],\"bar\":[{\"error_x\":{\"color\":\"#2a3f5f\"},\"error_y\":{\"color\":\"#2a3f5f\"},\"marker\":{\"line\":{\"color\":\"#E5ECF6\",\"width\":0.5},\"pattern\":{\"fillmode\":\"overlay\",\"size\":10,\"solidity\":0.2}},\"type\":\"bar\"}],\"scattergeo\":[{\"type\":\"scattergeo\",\"marker\":{\"colorbar\":{\"outlinewidth\":0,\"ticks\":\"\"}}}],\"scatterpolar\":[{\"type\":\"scatterpolar\",\"marker\":{\"colorbar\":{\"outlinewidth\":0,\"ticks\":\"\"}}}],\"histogram\":[{\"marker\":{\"pattern\":{\"fillmode\":\"overlay\",\"size\":10,\"solidity\":0.2}},\"type\":\"histogram\"}],\"scattergl\":[{\"type\":\"scattergl\",\"marker\":{\"colorbar\":{\"outlinewidth\":0,\"ticks\":\"\"}}}],\"scatter3d\":[{\"type\":\"scatter3d\",\"line\":{\"colorbar\":{\"outlinewidth\":0,\"ticks\":\"\"}},\"marker\":{\"colorbar\":{\"outlinewidth\":0,\"ticks\":\"\"}}}],\"scattermapbox\":[{\"type\":\"scattermapbox\",\"marker\":{\"colorbar\":{\"outlinewidth\":0,\"ticks\":\"\"}}}],\"scatterternary\":[{\"type\":\"scatterternary\",\"marker\":{\"colorbar\":{\"outlinewidth\":0,\"ticks\":\"\"}}}],\"scattercarpet\":[{\"type\":\"scattercarpet\",\"marker\":{\"colorbar\":{\"outlinewidth\":0,\"ticks\":\"\"}}}],\"carpet\":[{\"aaxis\":{\"endlinecolor\":\"#2a3f5f\",\"gridcolor\":\"white\",\"linecolor\":\"white\",\"minorgridcolor\":\"white\",\"startlinecolor\":\"#2a3f5f\"},\"baxis\":{\"endlinecolor\":\"#2a3f5f\",\"gridcolor\":\"white\",\"linecolor\":\"white\",\"minorgridcolor\":\"white\",\"startlinecolor\":\"#2a3f5f\"},\"type\":\"carpet\"}],\"table\":[{\"cells\":{\"fill\":{\"color\":\"#EBF0F8\"},\"line\":{\"color\":\"white\"}},\"header\":{\"fill\":{\"color\":\"#C8D4E3\"},\"line\":{\"color\":\"white\"}},\"type\":\"table\"}],\"barpolar\":[{\"marker\":{\"line\":{\"color\":\"#E5ECF6\",\"width\":0.5},\"pattern\":{\"fillmode\":\"overlay\",\"size\":10,\"solidity\":0.2}},\"type\":\"barpolar\"}],\"pie\":[{\"automargin\":true,\"type\":\"pie\"}]},\"layout\":{\"autotypenumbers\":\"strict\",\"colorway\":[\"#636efa\",\"#EF553B\",\"#00cc96\",\"#ab63fa\",\"#FFA15A\",\"#19d3f3\",\"#FF6692\",\"#B6E880\",\"#FF97FF\",\"#FECB52\"],\"font\":{\"color\":\"#2a3f5f\"},\"hovermode\":\"closest\",\"hoverlabel\":{\"align\":\"left\"},\"paper_bgcolor\":\"white\",\"plot_bgcolor\":\"#E5ECF6\",\"polar\":{\"bgcolor\":\"#E5ECF6\",\"angularaxis\":{\"gridcolor\":\"white\",\"linecolor\":\"white\",\"ticks\":\"\"},\"radialaxis\":{\"gridcolor\":\"white\",\"linecolor\":\"white\",\"ticks\":\"\"}},\"ternary\":{\"bgcolor\":\"#E5ECF6\",\"aaxis\":{\"gridcolor\":\"white\",\"linecolor\":\"white\",\"ticks\":\"\"},\"baxis\":{\"gridcolor\":\"white\",\"linecolor\":\"white\",\"ticks\":\"\"},\"caxis\":{\"gridcolor\":\"white\",\"linecolor\":\"white\",\"ticks\":\"\"}},\"coloraxis\":{\"colorbar\":{\"outlinewidth\":0,\"ticks\":\"\"}},\"colorscale\":{\"sequential\":[[0.0,\"#0d0887\"],[0.1111111111111111,\"#46039f\"],[0.2222222222222222,\"#7201a8\"],[0.3333333333333333,\"#9c179e\"],[0.4444444444444444,\"#bd3786\"],[0.5555555555555556,\"#d8576b\"],[0.6666666666666666,\"#ed7953\"],[0.7777777777777778,\"#fb9f3a\"],[0.8888888888888888,\"#fdca26\"],[1.0,\"#f0f921\"]],\"sequentialminus\":[[0.0,\"#0d0887\"],[0.1111111111111111,\"#46039f\"],[0.2222222222222222,\"#7201a8\"],[0.3333333333333333,\"#9c179e\"],[0.4444444444444444,\"#bd3786\"],[0.5555555555555556,\"#d8576b\"],[0.6666666666666666,\"#ed7953\"],[0.7777777777777778,\"#fb9f3a\"],[0.8888888888888888,\"#fdca26\"],[1.0,\"#f0f921\"]],\"diverging\":[[0,\"#8e0152\"],[0.1,\"#c51b7d\"],[0.2,\"#de77ae\"],[0.3,\"#f1b6da\"],[0.4,\"#fde0ef\"],[0.5,\"#f7f7f7\"],[0.6,\"#e6f5d0\"],[0.7,\"#b8e186\"],[0.8,\"#7fbc41\"],[0.9,\"#4d9221\"],[1,\"#276419\"]]},\"xaxis\":{\"gridcolor\":\"white\",\"linecolor\":\"white\",\"ticks\":\"\",\"title\":{\"standoff\":15},\"zerolinecolor\":\"white\",\"automargin\":true,\"zerolinewidth\":2},\"yaxis\":{\"gridcolor\":\"white\",\"linecolor\":\"white\",\"ticks\":\"\",\"title\":{\"standoff\":15},\"zerolinecolor\":\"white\",\"automargin\":true,\"zerolinewidth\":2},\"scene\":{\"xaxis\":{\"backgroundcolor\":\"#E5ECF6\",\"gridcolor\":\"white\",\"linecolor\":\"white\",\"showbackground\":true,\"ticks\":\"\",\"zerolinecolor\":\"white\",\"gridwidth\":2},\"yaxis\":{\"backgroundcolor\":\"#E5ECF6\",\"gridcolor\":\"white\",\"linecolor\":\"white\",\"showbackground\":true,\"ticks\":\"\",\"zerolinecolor\":\"white\",\"gridwidth\":2},\"zaxis\":{\"backgroundcolor\":\"#E5ECF6\",\"gridcolor\":\"white\",\"linecolor\":\"white\",\"showbackground\":true,\"ticks\":\"\",\"zerolinecolor\":\"white\",\"gridwidth\":2}},\"shapedefaults\":{\"line\":{\"color\":\"#2a3f5f\"}},\"annotationdefaults\":{\"arrowcolor\":\"#2a3f5f\",\"arrowhead\":0,\"arrowwidth\":1},\"geo\":{\"bgcolor\":\"white\",\"landcolor\":\"#E5ECF6\",\"subunitcolor\":\"white\",\"showland\":true,\"showlakes\":true,\"lakecolor\":\"white\"},\"title\":{\"x\":0.05},\"mapbox\":{\"style\":\"light\"}}},\"mapbox\":{\"domain\":{\"x\":[0.0,1.0],\"y\":[0.0,1.0]},\"center\":{\"lat\":1.3088576116829773,\"lon\":103.84288341256257},\"zoom\":10,\"style\":\"open-street-map\"},\"legend\":{\"tracegroupgap\":0},\"margin\":{\"t\":0,\"r\":0,\"l\":0,\"b\":0},\"height\":500,\"width\":1000},                        {\"responsive\": true}                    ).then(function(){\n",
              "                            \n",
              "var gd = document.getElementById('69cf30fd-0c44-43d4-9372-ae654255bd82');\n",
              "var x = new MutationObserver(function (mutations, observer) {{\n",
              "        var display = window.getComputedStyle(gd).display;\n",
              "        if (!display || display === 'none') {{\n",
              "            console.log([gd, 'removed!']);\n",
              "            Plotly.purge(gd);\n",
              "            observer.disconnect();\n",
              "        }}\n",
              "}});\n",
              "\n",
              "// Listen for the removal of the full notebook cells\n",
              "var notebookContainer = gd.closest('#notebook-container');\n",
              "if (notebookContainer) {{\n",
              "    x.observe(notebookContainer, {childList: true});\n",
              "}}\n",
              "\n",
              "// Listen for the clearing of the current output cell\n",
              "var outputEl = gd.closest('.output');\n",
              "if (outputEl) {{\n",
              "    x.observe(outputEl, {childList: true});\n",
              "}}\n",
              "\n",
              "                        })                };                            </script>        </div>\n",
              "</body>\n",
              "</html>"
            ]
          },
          "metadata": {}
        }
      ]
    },
    {
      "cell_type": "markdown",
      "source": [
        "Now, we got a map of listings properties distribution in the Singapore only"
      ],
      "metadata": {
        "id": "0ViKFTjEs39K"
      }
    },
    {
      "cell_type": "code",
      "source": [
        "listings = listings.drop('level_0', axis='columns')\n",
        "listings = listings.drop('index', axis='columns')\n",
        "listings.info()"
      ],
      "metadata": {
        "colab": {
          "base_uri": "https://localhost:8080/"
        },
        "id": "zy-vGma2rgqk",
        "outputId": "fa3aca80-ee37-4d1b-c312-9ac20892a2a5"
      },
      "execution_count": null,
      "outputs": [
        {
          "output_type": "stream",
          "name": "stdout",
          "text": [
            "<class 'pandas.core.frame.DataFrame'>\n",
            "Int64Index: 2717 entries, 0 to 3720\n",
            "Data columns (total 11 columns):\n",
            " #   Column            Non-Null Count  Dtype  \n",
            "---  ------            --------------  -----  \n",
            " 0   id                2717 non-null   int64  \n",
            " 1   name              2717 non-null   object \n",
            " 2   host_id           2717 non-null   int64  \n",
            " 3   host_name         2717 non-null   object \n",
            " 4   neighbourhood     2717 non-null   object \n",
            " 5   latitude          2717 non-null   float64\n",
            " 6   longitude         2717 non-null   float64\n",
            " 7   room_type         2717 non-null   object \n",
            " 8   price             2717 non-null   int64  \n",
            " 9   minimum_nights    2717 non-null   int64  \n",
            " 10  availability_365  2717 non-null   int64  \n",
            "dtypes: float64(2), int64(5), object(4)\n",
            "memory usage: 254.7+ KB\n"
          ]
        }
      ]
    },
    {
      "cell_type": "markdown",
      "source": [
        "As listings properties dataset being cleaned, our data now consist of 2717 entries"
      ],
      "metadata": {
        "id": "3ZSZuxLitWf5"
      }
    },
    {
      "cell_type": "markdown",
      "source": [
        "### **Neighborhood Mapping Dataset**"
      ],
      "metadata": {
        "id": "kIYmlDckor5D"
      }
    },
    {
      "cell_type": "code",
      "source": [
        "neighborhood.columns"
      ],
      "metadata": {
        "colab": {
          "base_uri": "https://localhost:8080/"
        },
        "id": "UKXy1KTyse2K",
        "outputId": "9fcca166-ced1-4d48-a877-28f08081319a"
      },
      "execution_count": null,
      "outputs": [
        {
          "output_type": "execute_result",
          "data": {
            "text/plain": [
              "Index(['neighbourhood_group', 'neighbourhood'], dtype='object')"
            ]
          },
          "metadata": {},
          "execution_count": 16
        }
      ]
    },
    {
      "cell_type": "code",
      "source": [
        "print('\\n neighborhood missing values :', neighborhood.isna().sum().sum())\n",
        "neighborhood.drop_duplicates(inplace=True)\n",
        "print('\\n neighborhood duplicated values :', neighborhood.duplicated().sum())"
      ],
      "metadata": {
        "colab": {
          "base_uri": "https://localhost:8080/"
        },
        "id": "dc7tTmzKpiR8",
        "outputId": "1fd75ab3-e0aa-4e78-816f-3c5701d55e45"
      },
      "execution_count": null,
      "outputs": [
        {
          "output_type": "stream",
          "name": "stdout",
          "text": [
            "\n",
            " neighborhood missing values : 0\n",
            "\n",
            " neighborhood duplicated values : 0\n"
          ]
        }
      ]
    },
    {
      "cell_type": "code",
      "source": [
        "neighborhood.info()"
      ],
      "metadata": {
        "colab": {
          "base_uri": "https://localhost:8080/"
        },
        "id": "rQyg3Uzvs-dS",
        "outputId": "33fbe2d6-34d2-4d01-bf49-5a9a30b4d9b1"
      },
      "execution_count": null,
      "outputs": [
        {
          "output_type": "stream",
          "name": "stdout",
          "text": [
            "<class 'pandas.core.frame.DataFrame'>\n",
            "Int64Index: 55 entries, 0 to 54\n",
            "Data columns (total 2 columns):\n",
            " #   Column               Non-Null Count  Dtype \n",
            "---  ------               --------------  ----- \n",
            " 0   neighbourhood_group  55 non-null     object\n",
            " 1   neighbourhood        55 non-null     object\n",
            "dtypes: object(2)\n",
            "memory usage: 1.3+ KB\n"
          ]
        }
      ]
    },
    {
      "cell_type": "markdown",
      "source": [
        "Neighborhood mapping dataset has 2 columns consist of 55 entries without any missing and duplicate values\n",
        "*   neighbourhood_group: Singapore regions (Central, North, East, West, North-East)\n",
        "*   neighbourhood: Singapore neighbourhood"
      ],
      "metadata": {
        "id": "Rgp2KqPcuwjq"
      }
    },
    {
      "cell_type": "markdown",
      "source": [
        "Here's the head of neighborhood dataset:"
      ],
      "metadata": {
        "id": "aNF--VTzvVIu"
      }
    },
    {
      "cell_type": "code",
      "source": [
        "neighborhood.head()"
      ],
      "metadata": {
        "colab": {
          "base_uri": "https://localhost:8080/",
          "height": 213
        },
        "id": "9yG3vU3KtrFT",
        "outputId": "eae2a4cf-e158-4cf1-a860-a85704800533"
      },
      "execution_count": null,
      "outputs": [
        {
          "output_type": "execute_result",
          "data": {
            "text/plain": [
              "  neighbourhood_group  neighbourhood\n",
              "0      Central Region         Bishan\n",
              "1      Central Region    Bukit Merah\n",
              "2      Central Region    Bukit Timah\n",
              "3      Central Region  Downtown Core\n",
              "4      Central Region        Geylang"
            ],
            "text/html": [
              "\n",
              "  <div id=\"df-215f02cf-27e6-4f19-afb7-867ace1aa0fc\">\n",
              "    <div class=\"colab-df-container\">\n",
              "      <div>\n",
              "<style scoped>\n",
              "    .dataframe tbody tr th:only-of-type {\n",
              "        vertical-align: middle;\n",
              "    }\n",
              "\n",
              "    .dataframe tbody tr th {\n",
              "        vertical-align: top;\n",
              "    }\n",
              "\n",
              "    .dataframe thead th {\n",
              "        text-align: right;\n",
              "    }\n",
              "</style>\n",
              "<table border=\"1\" class=\"dataframe\">\n",
              "  <thead>\n",
              "    <tr style=\"text-align: right;\">\n",
              "      <th></th>\n",
              "      <th>neighbourhood_group</th>\n",
              "      <th>neighbourhood</th>\n",
              "    </tr>\n",
              "  </thead>\n",
              "  <tbody>\n",
              "    <tr>\n",
              "      <th>0</th>\n",
              "      <td>Central Region</td>\n",
              "      <td>Bishan</td>\n",
              "    </tr>\n",
              "    <tr>\n",
              "      <th>1</th>\n",
              "      <td>Central Region</td>\n",
              "      <td>Bukit Merah</td>\n",
              "    </tr>\n",
              "    <tr>\n",
              "      <th>2</th>\n",
              "      <td>Central Region</td>\n",
              "      <td>Bukit Timah</td>\n",
              "    </tr>\n",
              "    <tr>\n",
              "      <th>3</th>\n",
              "      <td>Central Region</td>\n",
              "      <td>Downtown Core</td>\n",
              "    </tr>\n",
              "    <tr>\n",
              "      <th>4</th>\n",
              "      <td>Central Region</td>\n",
              "      <td>Geylang</td>\n",
              "    </tr>\n",
              "  </tbody>\n",
              "</table>\n",
              "</div>\n",
              "      <button class=\"colab-df-convert\" onclick=\"convertToInteractive('df-215f02cf-27e6-4f19-afb7-867ace1aa0fc')\"\n",
              "              title=\"Convert this dataframe to an interactive table.\"\n",
              "              style=\"display:none;\">\n",
              "        \n",
              "  <svg xmlns=\"http://www.w3.org/2000/svg\" height=\"24px\"viewBox=\"0 0 24 24\"\n",
              "       width=\"24px\">\n",
              "    <path d=\"M0 0h24v24H0V0z\" fill=\"none\"/>\n",
              "    <path d=\"M18.56 5.44l.94 2.06.94-2.06 2.06-.94-2.06-.94-.94-2.06-.94 2.06-2.06.94zm-11 1L8.5 8.5l.94-2.06 2.06-.94-2.06-.94L8.5 2.5l-.94 2.06-2.06.94zm10 10l.94 2.06.94-2.06 2.06-.94-2.06-.94-.94-2.06-.94 2.06-2.06.94z\"/><path d=\"M17.41 7.96l-1.37-1.37c-.4-.4-.92-.59-1.43-.59-.52 0-1.04.2-1.43.59L10.3 9.45l-7.72 7.72c-.78.78-.78 2.05 0 2.83L4 21.41c.39.39.9.59 1.41.59.51 0 1.02-.2 1.41-.59l7.78-7.78 2.81-2.81c.8-.78.8-2.07 0-2.86zM5.41 20L4 18.59l7.72-7.72 1.47 1.35L5.41 20z\"/>\n",
              "  </svg>\n",
              "      </button>\n",
              "      \n",
              "  <style>\n",
              "    .colab-df-container {\n",
              "      display:flex;\n",
              "      flex-wrap:wrap;\n",
              "      gap: 12px;\n",
              "    }\n",
              "\n",
              "    .colab-df-convert {\n",
              "      background-color: #E8F0FE;\n",
              "      border: none;\n",
              "      border-radius: 50%;\n",
              "      cursor: pointer;\n",
              "      display: none;\n",
              "      fill: #1967D2;\n",
              "      height: 32px;\n",
              "      padding: 0 0 0 0;\n",
              "      width: 32px;\n",
              "    }\n",
              "\n",
              "    .colab-df-convert:hover {\n",
              "      background-color: #E2EBFA;\n",
              "      box-shadow: 0px 1px 2px rgba(60, 64, 67, 0.3), 0px 1px 3px 1px rgba(60, 64, 67, 0.15);\n",
              "      fill: #174EA6;\n",
              "    }\n",
              "\n",
              "    [theme=dark] .colab-df-convert {\n",
              "      background-color: #3B4455;\n",
              "      fill: #D2E3FC;\n",
              "    }\n",
              "\n",
              "    [theme=dark] .colab-df-convert:hover {\n",
              "      background-color: #434B5C;\n",
              "      box-shadow: 0px 1px 3px 1px rgba(0, 0, 0, 0.15);\n",
              "      filter: drop-shadow(0px 1px 2px rgba(0, 0, 0, 0.3));\n",
              "      fill: #FFFFFF;\n",
              "    }\n",
              "  </style>\n",
              "\n",
              "      <script>\n",
              "        const buttonEl =\n",
              "          document.querySelector('#df-215f02cf-27e6-4f19-afb7-867ace1aa0fc button.colab-df-convert');\n",
              "        buttonEl.style.display =\n",
              "          google.colab.kernel.accessAllowed ? 'block' : 'none';\n",
              "\n",
              "        async function convertToInteractive(key) {\n",
              "          const element = document.querySelector('#df-215f02cf-27e6-4f19-afb7-867ace1aa0fc');\n",
              "          const dataTable =\n",
              "            await google.colab.kernel.invokeFunction('convertToInteractive',\n",
              "                                                     [key], {});\n",
              "          if (!dataTable) return;\n",
              "\n",
              "          const docLinkHtml = 'Like what you see? Visit the ' +\n",
              "            '<a target=\"_blank\" href=https://colab.research.google.com/notebooks/data_table.ipynb>data table notebook</a>'\n",
              "            + ' to learn more about interactive tables.';\n",
              "          element.innerHTML = '';\n",
              "          dataTable['output_type'] = 'display_data';\n",
              "          await google.colab.output.renderOutput(dataTable, element);\n",
              "          const docLink = document.createElement('div');\n",
              "          docLink.innerHTML = docLinkHtml;\n",
              "          element.appendChild(docLink);\n",
              "        }\n",
              "      </script>\n",
              "    </div>\n",
              "  </div>\n",
              "  "
            ]
          },
          "metadata": {},
          "execution_count": 19
        }
      ]
    },
    {
      "cell_type": "markdown",
      "source": [
        "### **Airbnb Listings Reviews History**"
      ],
      "metadata": {
        "id": "-nbNY09ep7-v"
      }
    },
    {
      "cell_type": "code",
      "source": [
        "reviews.columns"
      ],
      "metadata": {
        "colab": {
          "base_uri": "https://localhost:8080/"
        },
        "id": "1wH6B7t7sjK0",
        "outputId": "e5455cd8-a430-4cb6-a65d-bde41bd7ab48"
      },
      "execution_count": null,
      "outputs": [
        {
          "output_type": "execute_result",
          "data": {
            "text/plain": [
              "Index(['id', 'date'], dtype='object')"
            ]
          },
          "metadata": {},
          "execution_count": 20
        }
      ]
    },
    {
      "cell_type": "code",
      "source": [
        "print('\\n reviews missing values :', reviews.isna().sum().sum())\n",
        "reviews.drop_duplicates(inplace=True)\n",
        "print('\\n reviews duplicated values :', reviews.duplicated().sum())"
      ],
      "metadata": {
        "colab": {
          "base_uri": "https://localhost:8080/"
        },
        "id": "CMESvOiRpoS9",
        "outputId": "cbd7d6a4-d026-4302-a9d6-7abd5c0b8cce"
      },
      "execution_count": null,
      "outputs": [
        {
          "output_type": "stream",
          "name": "stdout",
          "text": [
            "\n",
            " reviews missing values : 0\n",
            "\n",
            " reviews duplicated values : 0\n"
          ]
        }
      ]
    },
    {
      "cell_type": "code",
      "source": [
        "reviews.info()"
      ],
      "metadata": {
        "colab": {
          "base_uri": "https://localhost:8080/"
        },
        "id": "Tbnsu6WCs-on",
        "outputId": "ec29b7c9-f047-4be2-f73c-1e2361fcdff2"
      },
      "execution_count": null,
      "outputs": [
        {
          "output_type": "stream",
          "name": "stdout",
          "text": [
            "<class 'pandas.core.frame.DataFrame'>\n",
            "Int64Index: 49012 entries, 0 to 49694\n",
            "Data columns (total 2 columns):\n",
            " #   Column  Non-Null Count  Dtype \n",
            "---  ------  --------------  ----- \n",
            " 0   id      49012 non-null  int64 \n",
            " 1   date    49012 non-null  object\n",
            "dtypes: int64(1), object(1)\n",
            "memory usage: 1.1+ MB\n"
          ]
        }
      ]
    },
    {
      "cell_type": "markdown",
      "source": [
        "Airbnb listings review history dataset has 2 columns consist of 49012 entries collected from 2018-01-01 to 2022-09-22 without any missing and duplicate values\n",
        "*   id: unique Airbnb listings properties id\n",
        "*   date: date when listings properties started being rented\n",
        "\n"
      ],
      "metadata": {
        "id": "ylkHfuCxwiVk"
      }
    },
    {
      "cell_type": "markdown",
      "source": [
        "Here's the head of listings review history dataset:"
      ],
      "metadata": {
        "id": "Nc8puyR_yFij"
      }
    },
    {
      "cell_type": "code",
      "source": [
        "reviews.head()"
      ],
      "metadata": {
        "colab": {
          "base_uri": "https://localhost:8080/",
          "height": 213
        },
        "id": "JB9z4wIQtwNk",
        "outputId": "70125ae4-885f-41e7-e172-25841b036e4c"
      },
      "execution_count": null,
      "outputs": [
        {
          "output_type": "execute_result",
          "data": {
            "text/plain": [
              "      id        date\n",
              "0  71609  2018-07-14\n",
              "1  71609  2019-01-06\n",
              "2  71609  2019-07-27\n",
              "3  71609  2019-08-11\n",
              "4  71609  2019-09-07"
            ],
            "text/html": [
              "\n",
              "  <div id=\"df-8e9cf028-4c46-4906-858f-02a212316741\">\n",
              "    <div class=\"colab-df-container\">\n",
              "      <div>\n",
              "<style scoped>\n",
              "    .dataframe tbody tr th:only-of-type {\n",
              "        vertical-align: middle;\n",
              "    }\n",
              "\n",
              "    .dataframe tbody tr th {\n",
              "        vertical-align: top;\n",
              "    }\n",
              "\n",
              "    .dataframe thead th {\n",
              "        text-align: right;\n",
              "    }\n",
              "</style>\n",
              "<table border=\"1\" class=\"dataframe\">\n",
              "  <thead>\n",
              "    <tr style=\"text-align: right;\">\n",
              "      <th></th>\n",
              "      <th>id</th>\n",
              "      <th>date</th>\n",
              "    </tr>\n",
              "  </thead>\n",
              "  <tbody>\n",
              "    <tr>\n",
              "      <th>0</th>\n",
              "      <td>71609</td>\n",
              "      <td>2018-07-14</td>\n",
              "    </tr>\n",
              "    <tr>\n",
              "      <th>1</th>\n",
              "      <td>71609</td>\n",
              "      <td>2019-01-06</td>\n",
              "    </tr>\n",
              "    <tr>\n",
              "      <th>2</th>\n",
              "      <td>71609</td>\n",
              "      <td>2019-07-27</td>\n",
              "    </tr>\n",
              "    <tr>\n",
              "      <th>3</th>\n",
              "      <td>71609</td>\n",
              "      <td>2019-08-11</td>\n",
              "    </tr>\n",
              "    <tr>\n",
              "      <th>4</th>\n",
              "      <td>71609</td>\n",
              "      <td>2019-09-07</td>\n",
              "    </tr>\n",
              "  </tbody>\n",
              "</table>\n",
              "</div>\n",
              "      <button class=\"colab-df-convert\" onclick=\"convertToInteractive('df-8e9cf028-4c46-4906-858f-02a212316741')\"\n",
              "              title=\"Convert this dataframe to an interactive table.\"\n",
              "              style=\"display:none;\">\n",
              "        \n",
              "  <svg xmlns=\"http://www.w3.org/2000/svg\" height=\"24px\"viewBox=\"0 0 24 24\"\n",
              "       width=\"24px\">\n",
              "    <path d=\"M0 0h24v24H0V0z\" fill=\"none\"/>\n",
              "    <path d=\"M18.56 5.44l.94 2.06.94-2.06 2.06-.94-2.06-.94-.94-2.06-.94 2.06-2.06.94zm-11 1L8.5 8.5l.94-2.06 2.06-.94-2.06-.94L8.5 2.5l-.94 2.06-2.06.94zm10 10l.94 2.06.94-2.06 2.06-.94-2.06-.94-.94-2.06-.94 2.06-2.06.94z\"/><path d=\"M17.41 7.96l-1.37-1.37c-.4-.4-.92-.59-1.43-.59-.52 0-1.04.2-1.43.59L10.3 9.45l-7.72 7.72c-.78.78-.78 2.05 0 2.83L4 21.41c.39.39.9.59 1.41.59.51 0 1.02-.2 1.41-.59l7.78-7.78 2.81-2.81c.8-.78.8-2.07 0-2.86zM5.41 20L4 18.59l7.72-7.72 1.47 1.35L5.41 20z\"/>\n",
              "  </svg>\n",
              "      </button>\n",
              "      \n",
              "  <style>\n",
              "    .colab-df-container {\n",
              "      display:flex;\n",
              "      flex-wrap:wrap;\n",
              "      gap: 12px;\n",
              "    }\n",
              "\n",
              "    .colab-df-convert {\n",
              "      background-color: #E8F0FE;\n",
              "      border: none;\n",
              "      border-radius: 50%;\n",
              "      cursor: pointer;\n",
              "      display: none;\n",
              "      fill: #1967D2;\n",
              "      height: 32px;\n",
              "      padding: 0 0 0 0;\n",
              "      width: 32px;\n",
              "    }\n",
              "\n",
              "    .colab-df-convert:hover {\n",
              "      background-color: #E2EBFA;\n",
              "      box-shadow: 0px 1px 2px rgba(60, 64, 67, 0.3), 0px 1px 3px 1px rgba(60, 64, 67, 0.15);\n",
              "      fill: #174EA6;\n",
              "    }\n",
              "\n",
              "    [theme=dark] .colab-df-convert {\n",
              "      background-color: #3B4455;\n",
              "      fill: #D2E3FC;\n",
              "    }\n",
              "\n",
              "    [theme=dark] .colab-df-convert:hover {\n",
              "      background-color: #434B5C;\n",
              "      box-shadow: 0px 1px 3px 1px rgba(0, 0, 0, 0.15);\n",
              "      filter: drop-shadow(0px 1px 2px rgba(0, 0, 0, 0.3));\n",
              "      fill: #FFFFFF;\n",
              "    }\n",
              "  </style>\n",
              "\n",
              "      <script>\n",
              "        const buttonEl =\n",
              "          document.querySelector('#df-8e9cf028-4c46-4906-858f-02a212316741 button.colab-df-convert');\n",
              "        buttonEl.style.display =\n",
              "          google.colab.kernel.accessAllowed ? 'block' : 'none';\n",
              "\n",
              "        async function convertToInteractive(key) {\n",
              "          const element = document.querySelector('#df-8e9cf028-4c46-4906-858f-02a212316741');\n",
              "          const dataTable =\n",
              "            await google.colab.kernel.invokeFunction('convertToInteractive',\n",
              "                                                     [key], {});\n",
              "          if (!dataTable) return;\n",
              "\n",
              "          const docLinkHtml = 'Like what you see? Visit the ' +\n",
              "            '<a target=\"_blank\" href=https://colab.research.google.com/notebooks/data_table.ipynb>data table notebook</a>'\n",
              "            + ' to learn more about interactive tables.';\n",
              "          element.innerHTML = '';\n",
              "          dataTable['output_type'] = 'display_data';\n",
              "          await google.colab.output.renderOutput(dataTable, element);\n",
              "          const docLink = document.createElement('div');\n",
              "          docLink.innerHTML = docLinkHtml;\n",
              "          element.appendChild(docLink);\n",
              "        }\n",
              "      </script>\n",
              "    </div>\n",
              "  </div>\n",
              "  "
            ]
          },
          "metadata": {},
          "execution_count": 23
        }
      ]
    },
    {
      "cell_type": "markdown",
      "source": [
        "Listings review history dataset sorted based on the date"
      ],
      "metadata": {
        "id": "L063CErKyLtW"
      }
    },
    {
      "cell_type": "code",
      "source": [
        "reviews.sort_values('date')"
      ],
      "metadata": {
        "colab": {
          "base_uri": "https://localhost:8080/",
          "height": 439
        },
        "id": "wmOy1AkgpImi",
        "outputId": "8614fed7-c3ca-438f-d033-07b86702b4ad"
      },
      "execution_count": null,
      "outputs": [
        {
          "output_type": "execute_result",
          "data": {
            "text/plain": [
              "                       id        date\n",
              "6760             14530157  2018-01-01\n",
              "8413             17769862  2018-01-01\n",
              "6783             15310627  2018-01-01\n",
              "994               2387715  2018-01-01\n",
              "2495              5889741  2018-01-01\n",
              "...                   ...         ...\n",
              "19692            28212124  2022-09-22\n",
              "37566            42079889  2022-09-22\n",
              "46070            54382047  2022-09-22\n",
              "46827  580226596963352685  2022-09-22\n",
              "48577  640245872878209652  2022-09-22\n",
              "\n",
              "[49012 rows x 2 columns]"
            ],
            "text/html": [
              "\n",
              "  <div id=\"df-2e6a70a8-3feb-4a94-af99-3cd60ce41a1e\">\n",
              "    <div class=\"colab-df-container\">\n",
              "      <div>\n",
              "<style scoped>\n",
              "    .dataframe tbody tr th:only-of-type {\n",
              "        vertical-align: middle;\n",
              "    }\n",
              "\n",
              "    .dataframe tbody tr th {\n",
              "        vertical-align: top;\n",
              "    }\n",
              "\n",
              "    .dataframe thead th {\n",
              "        text-align: right;\n",
              "    }\n",
              "</style>\n",
              "<table border=\"1\" class=\"dataframe\">\n",
              "  <thead>\n",
              "    <tr style=\"text-align: right;\">\n",
              "      <th></th>\n",
              "      <th>id</th>\n",
              "      <th>date</th>\n",
              "    </tr>\n",
              "  </thead>\n",
              "  <tbody>\n",
              "    <tr>\n",
              "      <th>6760</th>\n",
              "      <td>14530157</td>\n",
              "      <td>2018-01-01</td>\n",
              "    </tr>\n",
              "    <tr>\n",
              "      <th>8413</th>\n",
              "      <td>17769862</td>\n",
              "      <td>2018-01-01</td>\n",
              "    </tr>\n",
              "    <tr>\n",
              "      <th>6783</th>\n",
              "      <td>15310627</td>\n",
              "      <td>2018-01-01</td>\n",
              "    </tr>\n",
              "    <tr>\n",
              "      <th>994</th>\n",
              "      <td>2387715</td>\n",
              "      <td>2018-01-01</td>\n",
              "    </tr>\n",
              "    <tr>\n",
              "      <th>2495</th>\n",
              "      <td>5889741</td>\n",
              "      <td>2018-01-01</td>\n",
              "    </tr>\n",
              "    <tr>\n",
              "      <th>...</th>\n",
              "      <td>...</td>\n",
              "      <td>...</td>\n",
              "    </tr>\n",
              "    <tr>\n",
              "      <th>19692</th>\n",
              "      <td>28212124</td>\n",
              "      <td>2022-09-22</td>\n",
              "    </tr>\n",
              "    <tr>\n",
              "      <th>37566</th>\n",
              "      <td>42079889</td>\n",
              "      <td>2022-09-22</td>\n",
              "    </tr>\n",
              "    <tr>\n",
              "      <th>46070</th>\n",
              "      <td>54382047</td>\n",
              "      <td>2022-09-22</td>\n",
              "    </tr>\n",
              "    <tr>\n",
              "      <th>46827</th>\n",
              "      <td>580226596963352685</td>\n",
              "      <td>2022-09-22</td>\n",
              "    </tr>\n",
              "    <tr>\n",
              "      <th>48577</th>\n",
              "      <td>640245872878209652</td>\n",
              "      <td>2022-09-22</td>\n",
              "    </tr>\n",
              "  </tbody>\n",
              "</table>\n",
              "<p>49012 rows × 2 columns</p>\n",
              "</div>\n",
              "      <button class=\"colab-df-convert\" onclick=\"convertToInteractive('df-2e6a70a8-3feb-4a94-af99-3cd60ce41a1e')\"\n",
              "              title=\"Convert this dataframe to an interactive table.\"\n",
              "              style=\"display:none;\">\n",
              "        \n",
              "  <svg xmlns=\"http://www.w3.org/2000/svg\" height=\"24px\"viewBox=\"0 0 24 24\"\n",
              "       width=\"24px\">\n",
              "    <path d=\"M0 0h24v24H0V0z\" fill=\"none\"/>\n",
              "    <path d=\"M18.56 5.44l.94 2.06.94-2.06 2.06-.94-2.06-.94-.94-2.06-.94 2.06-2.06.94zm-11 1L8.5 8.5l.94-2.06 2.06-.94-2.06-.94L8.5 2.5l-.94 2.06-2.06.94zm10 10l.94 2.06.94-2.06 2.06-.94-2.06-.94-.94-2.06-.94 2.06-2.06.94z\"/><path d=\"M17.41 7.96l-1.37-1.37c-.4-.4-.92-.59-1.43-.59-.52 0-1.04.2-1.43.59L10.3 9.45l-7.72 7.72c-.78.78-.78 2.05 0 2.83L4 21.41c.39.39.9.59 1.41.59.51 0 1.02-.2 1.41-.59l7.78-7.78 2.81-2.81c.8-.78.8-2.07 0-2.86zM5.41 20L4 18.59l7.72-7.72 1.47 1.35L5.41 20z\"/>\n",
              "  </svg>\n",
              "      </button>\n",
              "      \n",
              "  <style>\n",
              "    .colab-df-container {\n",
              "      display:flex;\n",
              "      flex-wrap:wrap;\n",
              "      gap: 12px;\n",
              "    }\n",
              "\n",
              "    .colab-df-convert {\n",
              "      background-color: #E8F0FE;\n",
              "      border: none;\n",
              "      border-radius: 50%;\n",
              "      cursor: pointer;\n",
              "      display: none;\n",
              "      fill: #1967D2;\n",
              "      height: 32px;\n",
              "      padding: 0 0 0 0;\n",
              "      width: 32px;\n",
              "    }\n",
              "\n",
              "    .colab-df-convert:hover {\n",
              "      background-color: #E2EBFA;\n",
              "      box-shadow: 0px 1px 2px rgba(60, 64, 67, 0.3), 0px 1px 3px 1px rgba(60, 64, 67, 0.15);\n",
              "      fill: #174EA6;\n",
              "    }\n",
              "\n",
              "    [theme=dark] .colab-df-convert {\n",
              "      background-color: #3B4455;\n",
              "      fill: #D2E3FC;\n",
              "    }\n",
              "\n",
              "    [theme=dark] .colab-df-convert:hover {\n",
              "      background-color: #434B5C;\n",
              "      box-shadow: 0px 1px 3px 1px rgba(0, 0, 0, 0.15);\n",
              "      filter: drop-shadow(0px 1px 2px rgba(0, 0, 0, 0.3));\n",
              "      fill: #FFFFFF;\n",
              "    }\n",
              "  </style>\n",
              "\n",
              "      <script>\n",
              "        const buttonEl =\n",
              "          document.querySelector('#df-2e6a70a8-3feb-4a94-af99-3cd60ce41a1e button.colab-df-convert');\n",
              "        buttonEl.style.display =\n",
              "          google.colab.kernel.accessAllowed ? 'block' : 'none';\n",
              "\n",
              "        async function convertToInteractive(key) {\n",
              "          const element = document.querySelector('#df-2e6a70a8-3feb-4a94-af99-3cd60ce41a1e');\n",
              "          const dataTable =\n",
              "            await google.colab.kernel.invokeFunction('convertToInteractive',\n",
              "                                                     [key], {});\n",
              "          if (!dataTable) return;\n",
              "\n",
              "          const docLinkHtml = 'Like what you see? Visit the ' +\n",
              "            '<a target=\"_blank\" href=https://colab.research.google.com/notebooks/data_table.ipynb>data table notebook</a>'\n",
              "            + ' to learn more about interactive tables.';\n",
              "          element.innerHTML = '';\n",
              "          dataTable['output_type'] = 'display_data';\n",
              "          await google.colab.output.renderOutput(dataTable, element);\n",
              "          const docLink = document.createElement('div');\n",
              "          docLink.innerHTML = docLinkHtml;\n",
              "          element.appendChild(docLink);\n",
              "        }\n",
              "      </script>\n",
              "    </div>\n",
              "  </div>\n",
              "  "
            ]
          },
          "metadata": {},
          "execution_count": 24
        }
      ]
    },
    {
      "cell_type": "markdown",
      "source": [
        "## **Data Merging**"
      ],
      "metadata": {
        "id": "4LOA1rBUsl0J"
      }
    },
    {
      "cell_type": "markdown",
      "source": [
        "We merged specified data into new tables for further analysis "
      ],
      "metadata": {
        "id": "UOPyzIRAyoVM"
      }
    },
    {
      "cell_type": "code",
      "source": [
        "!pip install pandasql\n",
        "!pip install sqlalchemy==1.4.47"
      ],
      "metadata": {
        "colab": {
          "base_uri": "https://localhost:8080/"
        },
        "id": "g_mPKVSPDIEB",
        "outputId": "f37cd8fb-f8c0-46e5-9e56-9fd454c10d0c"
      },
      "execution_count": null,
      "outputs": [
        {
          "output_type": "stream",
          "name": "stdout",
          "text": [
            "Looking in indexes: https://pypi.org/simple, https://us-python.pkg.dev/colab-wheels/public/simple/\n",
            "Collecting pandasql\n",
            "  Downloading pandasql-0.7.3.tar.gz (26 kB)\n",
            "  Preparing metadata (setup.py) ... \u001b[?25l\u001b[?25hdone\n",
            "Requirement already satisfied: numpy in /usr/local/lib/python3.10/dist-packages (from pandasql) (1.22.4)\n",
            "Requirement already satisfied: pandas in /usr/local/lib/python3.10/dist-packages (from pandasql) (1.5.3)\n",
            "Requirement already satisfied: sqlalchemy in /usr/local/lib/python3.10/dist-packages (from pandasql) (2.0.10)\n",
            "Requirement already satisfied: python-dateutil>=2.8.1 in /usr/local/lib/python3.10/dist-packages (from pandas->pandasql) (2.8.2)\n",
            "Requirement already satisfied: pytz>=2020.1 in /usr/local/lib/python3.10/dist-packages (from pandas->pandasql) (2022.7.1)\n",
            "Requirement already satisfied: greenlet!=0.4.17 in /usr/local/lib/python3.10/dist-packages (from sqlalchemy->pandasql) (2.0.2)\n",
            "Requirement already satisfied: typing-extensions>=4.2.0 in /usr/local/lib/python3.10/dist-packages (from sqlalchemy->pandasql) (4.5.0)\n",
            "Requirement already satisfied: six>=1.5 in /usr/local/lib/python3.10/dist-packages (from python-dateutil>=2.8.1->pandas->pandasql) (1.16.0)\n",
            "Building wheels for collected packages: pandasql\n",
            "  Building wheel for pandasql (setup.py) ... \u001b[?25l\u001b[?25hdone\n",
            "  Created wheel for pandasql: filename=pandasql-0.7.3-py3-none-any.whl size=26784 sha256=73c87bd376d47692e62f6e19aef37db9814e2dd47eea2db662433b54942d91cf\n",
            "  Stored in directory: /root/.cache/pip/wheels/e9/bc/3a/8434bdcccf5779e72894a9b24fecbdcaf97940607eaf4bcdf9\n",
            "Successfully built pandasql\n",
            "Installing collected packages: pandasql\n",
            "Successfully installed pandasql-0.7.3\n",
            "Looking in indexes: https://pypi.org/simple, https://us-python.pkg.dev/colab-wheels/public/simple/\n",
            "Collecting sqlalchemy==1.4.47\n",
            "  Downloading SQLAlchemy-1.4.47-cp310-cp310-manylinux_2_5_x86_64.manylinux1_x86_64.manylinux_2_17_x86_64.manylinux2014_x86_64.whl (1.6 MB)\n",
            "\u001b[2K     \u001b[90m━━━━━━━━━━━━━━━━━━━━━━━━━━━━━━━━━━━━━━━━\u001b[0m \u001b[32m1.6/1.6 MB\u001b[0m \u001b[31m31.1 MB/s\u001b[0m eta \u001b[36m0:00:00\u001b[0m\n",
            "\u001b[?25hRequirement already satisfied: greenlet!=0.4.17 in /usr/local/lib/python3.10/dist-packages (from sqlalchemy==1.4.47) (2.0.2)\n",
            "Installing collected packages: sqlalchemy\n",
            "  Attempting uninstall: sqlalchemy\n",
            "    Found existing installation: SQLAlchemy 2.0.10\n",
            "    Uninstalling SQLAlchemy-2.0.10:\n",
            "      Successfully uninstalled SQLAlchemy-2.0.10\n",
            "Successfully installed sqlalchemy-1.4.47\n"
          ]
        }
      ]
    },
    {
      "cell_type": "code",
      "source": [
        "import pandasql as ps\n",
        "from pandasql import sqldf"
      ],
      "metadata": {
        "id": "eVxbU_kp0rFj"
      },
      "execution_count": null,
      "outputs": []
    },
    {
      "cell_type": "markdown",
      "source": [
        "First table is listings_neighborhood by joined data between listings properties dataset and neighborhood mapping dataset with columns:\n",
        "*   id\n",
        "*   name\n",
        "*   neighbourhood_group\n",
        "*   neighbourhood\n",
        "*   longitude\n",
        "*   latitude\n",
        "*   room_type\n",
        "*   minimum_nights\n",
        "*   availability_365\n"
      ],
      "metadata": {
        "id": "HbT4B_is0e23"
      }
    },
    {
      "cell_type": "code",
      "source": [
        "listings_neighborhood = ps.sqldf(\"\"\"SELECT l.id, l.name, n.neighbourhood_group, l.neighbourhood, l.longitude, l.latitude, l.room_type, l.minimum_nights, l.price, l.availability_365 from neighborhood n join listings l on n.neighbourhood=l.neighbourhood;\"\"\")\n",
        "display(listings_neighborhood)"
      ],
      "metadata": {
        "colab": {
          "base_uri": "https://localhost:8080/",
          "height": 1000
        },
        "id": "uXbqkLUGD4mm",
        "outputId": "7e7d64fd-5aad-48e1-e9c0-183d1101caa6"
      },
      "execution_count": null,
      "outputs": [
        {
          "output_type": "display_data",
          "data": {
            "text/plain": [
              "                      id                                             name  \\\n",
              "0                4926170       Room 4B in Terrace House @ Thomson Village   \n",
              "1               11128602                  Luxury 3 bedroom condo. 1389sqf   \n",
              "2               13243736      Charming 2Bed-2Bath- Parking Full Apartment   \n",
              "3               20865016             Lush Green Neighborhood Private Room   \n",
              "4               23604711           Tranquil 2Bed/2Bath Parking -Apartment   \n",
              "...                  ...                                              ...   \n",
              "2712  694601798894939474              Twin Room in Jurong with Facilities   \n",
              "2713  696577544642312428              Twin Room in Jurong with Facilities   \n",
              "2714            20791161  YOUR entire PRIVATE LUXURY PENTHOUSE condo unit   \n",
              "2715  678316332235165738         50min from Singapore City, brand new 2BR   \n",
              "2716            16059067                                  Single bed room   \n",
              "\n",
              "     neighbourhood_group            neighbourhood   longitude  latitude  \\\n",
              "0         Central Region                   Bishan  103.832740  1.353490   \n",
              "1         Central Region                   Bishan  103.830750  1.366280   \n",
              "2         Central Region                   Bishan  103.828000  1.357250   \n",
              "3         Central Region                   Bishan  103.830010  1.357510   \n",
              "4         Central Region                   Bishan  103.828410  1.357910   \n",
              "...                  ...                      ...         ...       ...   \n",
              "2712         West Region              Jurong West  103.681290  1.330217   \n",
              "2713         West Region              Jurong West  103.681823  1.328534   \n",
              "2714         West Region                     Tuas  103.648280  1.319470   \n",
              "2715         West Region                     Tuas  103.635300  1.345280   \n",
              "2716         West Region  Western Water Catchment  103.686590  1.344060   \n",
              "\n",
              "            room_type  minimum_nights  price  availability_365  \n",
              "0        Private room              92     47               356  \n",
              "1     Entire home/apt             180    200               365  \n",
              "2     Entire home/apt              92    209               330  \n",
              "3        Private room              92     50               363  \n",
              "4     Entire home/apt              92    207               329  \n",
              "...               ...             ...    ...               ...  \n",
              "2712  Entire home/apt               6    100               350  \n",
              "2713  Entire home/apt               6    100               347  \n",
              "2714  Entire home/apt              92  10286                89  \n",
              "2715  Entire home/apt              92     70               362  \n",
              "2716     Private room              92     51               109  \n",
              "\n",
              "[2717 rows x 10 columns]"
            ],
            "text/html": [
              "\n",
              "  <div id=\"df-59db560e-720b-4944-9e39-67f929a3687c\">\n",
              "    <div class=\"colab-df-container\">\n",
              "      <div>\n",
              "<style scoped>\n",
              "    .dataframe tbody tr th:only-of-type {\n",
              "        vertical-align: middle;\n",
              "    }\n",
              "\n",
              "    .dataframe tbody tr th {\n",
              "        vertical-align: top;\n",
              "    }\n",
              "\n",
              "    .dataframe thead th {\n",
              "        text-align: right;\n",
              "    }\n",
              "</style>\n",
              "<table border=\"1\" class=\"dataframe\">\n",
              "  <thead>\n",
              "    <tr style=\"text-align: right;\">\n",
              "      <th></th>\n",
              "      <th>id</th>\n",
              "      <th>name</th>\n",
              "      <th>neighbourhood_group</th>\n",
              "      <th>neighbourhood</th>\n",
              "      <th>longitude</th>\n",
              "      <th>latitude</th>\n",
              "      <th>room_type</th>\n",
              "      <th>minimum_nights</th>\n",
              "      <th>price</th>\n",
              "      <th>availability_365</th>\n",
              "    </tr>\n",
              "  </thead>\n",
              "  <tbody>\n",
              "    <tr>\n",
              "      <th>0</th>\n",
              "      <td>4926170</td>\n",
              "      <td>Room 4B in Terrace House @ Thomson Village</td>\n",
              "      <td>Central Region</td>\n",
              "      <td>Bishan</td>\n",
              "      <td>103.832740</td>\n",
              "      <td>1.353490</td>\n",
              "      <td>Private room</td>\n",
              "      <td>92</td>\n",
              "      <td>47</td>\n",
              "      <td>356</td>\n",
              "    </tr>\n",
              "    <tr>\n",
              "      <th>1</th>\n",
              "      <td>11128602</td>\n",
              "      <td>Luxury 3 bedroom condo. 1389sqf</td>\n",
              "      <td>Central Region</td>\n",
              "      <td>Bishan</td>\n",
              "      <td>103.830750</td>\n",
              "      <td>1.366280</td>\n",
              "      <td>Entire home/apt</td>\n",
              "      <td>180</td>\n",
              "      <td>200</td>\n",
              "      <td>365</td>\n",
              "    </tr>\n",
              "    <tr>\n",
              "      <th>2</th>\n",
              "      <td>13243736</td>\n",
              "      <td>Charming 2Bed-2Bath- Parking Full Apartment</td>\n",
              "      <td>Central Region</td>\n",
              "      <td>Bishan</td>\n",
              "      <td>103.828000</td>\n",
              "      <td>1.357250</td>\n",
              "      <td>Entire home/apt</td>\n",
              "      <td>92</td>\n",
              "      <td>209</td>\n",
              "      <td>330</td>\n",
              "    </tr>\n",
              "    <tr>\n",
              "      <th>3</th>\n",
              "      <td>20865016</td>\n",
              "      <td>Lush Green Neighborhood Private Room</td>\n",
              "      <td>Central Region</td>\n",
              "      <td>Bishan</td>\n",
              "      <td>103.830010</td>\n",
              "      <td>1.357510</td>\n",
              "      <td>Private room</td>\n",
              "      <td>92</td>\n",
              "      <td>50</td>\n",
              "      <td>363</td>\n",
              "    </tr>\n",
              "    <tr>\n",
              "      <th>4</th>\n",
              "      <td>23604711</td>\n",
              "      <td>Tranquil 2Bed/2Bath Parking -Apartment</td>\n",
              "      <td>Central Region</td>\n",
              "      <td>Bishan</td>\n",
              "      <td>103.828410</td>\n",
              "      <td>1.357910</td>\n",
              "      <td>Entire home/apt</td>\n",
              "      <td>92</td>\n",
              "      <td>207</td>\n",
              "      <td>329</td>\n",
              "    </tr>\n",
              "    <tr>\n",
              "      <th>...</th>\n",
              "      <td>...</td>\n",
              "      <td>...</td>\n",
              "      <td>...</td>\n",
              "      <td>...</td>\n",
              "      <td>...</td>\n",
              "      <td>...</td>\n",
              "      <td>...</td>\n",
              "      <td>...</td>\n",
              "      <td>...</td>\n",
              "      <td>...</td>\n",
              "    </tr>\n",
              "    <tr>\n",
              "      <th>2712</th>\n",
              "      <td>694601798894939474</td>\n",
              "      <td>Twin Room in Jurong with Facilities</td>\n",
              "      <td>West Region</td>\n",
              "      <td>Jurong West</td>\n",
              "      <td>103.681290</td>\n",
              "      <td>1.330217</td>\n",
              "      <td>Entire home/apt</td>\n",
              "      <td>6</td>\n",
              "      <td>100</td>\n",
              "      <td>350</td>\n",
              "    </tr>\n",
              "    <tr>\n",
              "      <th>2713</th>\n",
              "      <td>696577544642312428</td>\n",
              "      <td>Twin Room in Jurong with Facilities</td>\n",
              "      <td>West Region</td>\n",
              "      <td>Jurong West</td>\n",
              "      <td>103.681823</td>\n",
              "      <td>1.328534</td>\n",
              "      <td>Entire home/apt</td>\n",
              "      <td>6</td>\n",
              "      <td>100</td>\n",
              "      <td>347</td>\n",
              "    </tr>\n",
              "    <tr>\n",
              "      <th>2714</th>\n",
              "      <td>20791161</td>\n",
              "      <td>YOUR entire PRIVATE LUXURY PENTHOUSE condo unit</td>\n",
              "      <td>West Region</td>\n",
              "      <td>Tuas</td>\n",
              "      <td>103.648280</td>\n",
              "      <td>1.319470</td>\n",
              "      <td>Entire home/apt</td>\n",
              "      <td>92</td>\n",
              "      <td>10286</td>\n",
              "      <td>89</td>\n",
              "    </tr>\n",
              "    <tr>\n",
              "      <th>2715</th>\n",
              "      <td>678316332235165738</td>\n",
              "      <td>50min from Singapore City, brand new 2BR</td>\n",
              "      <td>West Region</td>\n",
              "      <td>Tuas</td>\n",
              "      <td>103.635300</td>\n",
              "      <td>1.345280</td>\n",
              "      <td>Entire home/apt</td>\n",
              "      <td>92</td>\n",
              "      <td>70</td>\n",
              "      <td>362</td>\n",
              "    </tr>\n",
              "    <tr>\n",
              "      <th>2716</th>\n",
              "      <td>16059067</td>\n",
              "      <td>Single bed room</td>\n",
              "      <td>West Region</td>\n",
              "      <td>Western Water Catchment</td>\n",
              "      <td>103.686590</td>\n",
              "      <td>1.344060</td>\n",
              "      <td>Private room</td>\n",
              "      <td>92</td>\n",
              "      <td>51</td>\n",
              "      <td>109</td>\n",
              "    </tr>\n",
              "  </tbody>\n",
              "</table>\n",
              "<p>2717 rows × 10 columns</p>\n",
              "</div>\n",
              "      <button class=\"colab-df-convert\" onclick=\"convertToInteractive('df-59db560e-720b-4944-9e39-67f929a3687c')\"\n",
              "              title=\"Convert this dataframe to an interactive table.\"\n",
              "              style=\"display:none;\">\n",
              "        \n",
              "  <svg xmlns=\"http://www.w3.org/2000/svg\" height=\"24px\"viewBox=\"0 0 24 24\"\n",
              "       width=\"24px\">\n",
              "    <path d=\"M0 0h24v24H0V0z\" fill=\"none\"/>\n",
              "    <path d=\"M18.56 5.44l.94 2.06.94-2.06 2.06-.94-2.06-.94-.94-2.06-.94 2.06-2.06.94zm-11 1L8.5 8.5l.94-2.06 2.06-.94-2.06-.94L8.5 2.5l-.94 2.06-2.06.94zm10 10l.94 2.06.94-2.06 2.06-.94-2.06-.94-.94-2.06-.94 2.06-2.06.94z\"/><path d=\"M17.41 7.96l-1.37-1.37c-.4-.4-.92-.59-1.43-.59-.52 0-1.04.2-1.43.59L10.3 9.45l-7.72 7.72c-.78.78-.78 2.05 0 2.83L4 21.41c.39.39.9.59 1.41.59.51 0 1.02-.2 1.41-.59l7.78-7.78 2.81-2.81c.8-.78.8-2.07 0-2.86zM5.41 20L4 18.59l7.72-7.72 1.47 1.35L5.41 20z\"/>\n",
              "  </svg>\n",
              "      </button>\n",
              "      \n",
              "  <style>\n",
              "    .colab-df-container {\n",
              "      display:flex;\n",
              "      flex-wrap:wrap;\n",
              "      gap: 12px;\n",
              "    }\n",
              "\n",
              "    .colab-df-convert {\n",
              "      background-color: #E8F0FE;\n",
              "      border: none;\n",
              "      border-radius: 50%;\n",
              "      cursor: pointer;\n",
              "      display: none;\n",
              "      fill: #1967D2;\n",
              "      height: 32px;\n",
              "      padding: 0 0 0 0;\n",
              "      width: 32px;\n",
              "    }\n",
              "\n",
              "    .colab-df-convert:hover {\n",
              "      background-color: #E2EBFA;\n",
              "      box-shadow: 0px 1px 2px rgba(60, 64, 67, 0.3), 0px 1px 3px 1px rgba(60, 64, 67, 0.15);\n",
              "      fill: #174EA6;\n",
              "    }\n",
              "\n",
              "    [theme=dark] .colab-df-convert {\n",
              "      background-color: #3B4455;\n",
              "      fill: #D2E3FC;\n",
              "    }\n",
              "\n",
              "    [theme=dark] .colab-df-convert:hover {\n",
              "      background-color: #434B5C;\n",
              "      box-shadow: 0px 1px 3px 1px rgba(0, 0, 0, 0.15);\n",
              "      filter: drop-shadow(0px 1px 2px rgba(0, 0, 0, 0.3));\n",
              "      fill: #FFFFFF;\n",
              "    }\n",
              "  </style>\n",
              "\n",
              "      <script>\n",
              "        const buttonEl =\n",
              "          document.querySelector('#df-59db560e-720b-4944-9e39-67f929a3687c button.colab-df-convert');\n",
              "        buttonEl.style.display =\n",
              "          google.colab.kernel.accessAllowed ? 'block' : 'none';\n",
              "\n",
              "        async function convertToInteractive(key) {\n",
              "          const element = document.querySelector('#df-59db560e-720b-4944-9e39-67f929a3687c');\n",
              "          const dataTable =\n",
              "            await google.colab.kernel.invokeFunction('convertToInteractive',\n",
              "                                                     [key], {});\n",
              "          if (!dataTable) return;\n",
              "\n",
              "          const docLinkHtml = 'Like what you see? Visit the ' +\n",
              "            '<a target=\"_blank\" href=https://colab.research.google.com/notebooks/data_table.ipynb>data table notebook</a>'\n",
              "            + ' to learn more about interactive tables.';\n",
              "          element.innerHTML = '';\n",
              "          dataTable['output_type'] = 'display_data';\n",
              "          await google.colab.output.renderOutput(dataTable, element);\n",
              "          const docLink = document.createElement('div');\n",
              "          docLink.innerHTML = docLinkHtml;\n",
              "          element.appendChild(docLink);\n",
              "        }\n",
              "      </script>\n",
              "    </div>\n",
              "  </div>\n",
              "  "
            ]
          },
          "metadata": {}
        }
      ]
    },
    {
      "cell_type": "code",
      "source": [
        "listings_neighborhood.info()"
      ],
      "metadata": {
        "colab": {
          "base_uri": "https://localhost:8080/"
        },
        "id": "lJgHhSKWVnSN",
        "outputId": "d21f09ca-b7f9-44c1-8d61-caf7cbe58286"
      },
      "execution_count": null,
      "outputs": [
        {
          "output_type": "stream",
          "name": "stdout",
          "text": [
            "<class 'pandas.core.frame.DataFrame'>\n",
            "RangeIndex: 2717 entries, 0 to 2716\n",
            "Data columns (total 10 columns):\n",
            " #   Column               Non-Null Count  Dtype  \n",
            "---  ------               --------------  -----  \n",
            " 0   id                   2717 non-null   int64  \n",
            " 1   name                 2717 non-null   object \n",
            " 2   neighbourhood_group  2717 non-null   object \n",
            " 3   neighbourhood        2717 non-null   object \n",
            " 4   longitude            2717 non-null   float64\n",
            " 5   latitude             2717 non-null   float64\n",
            " 6   room_type            2717 non-null   object \n",
            " 7   minimum_nights       2717 non-null   int64  \n",
            " 8   price                2717 non-null   int64  \n",
            " 9   availability_365     2717 non-null   int64  \n",
            "dtypes: float64(2), int64(4), object(4)\n",
            "memory usage: 212.4+ KB\n"
          ]
        }
      ]
    },
    {
      "cell_type": "markdown",
      "source": [
        "Second table is listings_reviews by joined data between listings_neighborhood table and listings review history dataset with columns:\n",
        "*   date\n",
        "*   month: month and year from date data\n",
        "*   year: from date data\n",
        "*   id\n",
        "*   name\n",
        "*   neighbourhood_group\n",
        "*   neighbourhood\n",
        "*   room_type\n",
        "*   price\n",
        "*   minimum_nights\n",
        "*   availability_365\n"
      ],
      "metadata": {
        "id": "L1E6lUeP4SZi"
      }
    },
    {
      "cell_type": "code",
      "source": [
        "listings_reviews = ps.sqldf(\"\"\"SELECT r.date, strftime('%Y-%m', r.date) month, strftime('%Y', r.date) year, ln.id, ln.name, ln.neighbourhood, ln.neighbourhood_group, ln.room_type, ln.price, ln.minimum_nights, ln.availability_365 from reviews r join listings_neighborhood ln on r.id = ln.id\"\"\")\n",
        "listings_reviews"
      ],
      "metadata": {
        "colab": {
          "base_uri": "https://localhost:8080/",
          "height": 1000
        },
        "id": "mnIIiKtm18oa",
        "outputId": "6ac2ee52-efd9-4d35-dc00-58f5ccfd8811"
      },
      "execution_count": null,
      "outputs": [
        {
          "output_type": "execute_result",
          "data": {
            "text/plain": [
              "             date    month  year                  id  \\\n",
              "0      2018-07-14  2018-07  2018               71609   \n",
              "1      2019-01-06  2019-01  2019               71609   \n",
              "2      2019-07-27  2019-07  2019               71609   \n",
              "3      2019-08-11  2019-08  2019               71609   \n",
              "4      2019-09-07  2019-09  2019               71609   \n",
              "...           ...      ...   ...                 ...   \n",
              "18875  2022-09-18  2022-09  2022  712014563808839949   \n",
              "18876  2022-09-13  2022-09  2022  712121357550091568   \n",
              "18877  2022-09-14  2022-09  2022  712907319520281078   \n",
              "18878  2022-09-15  2022-09  2022  712907319520281078   \n",
              "18879  2022-09-16  2022-09  2022  712907319520281078   \n",
              "\n",
              "                                           name    neighbourhood  \\\n",
              "0           Ensuite Room (Room 1 & 2) near EXPO         Tampines   \n",
              "1           Ensuite Room (Room 1 & 2) near EXPO         Tampines   \n",
              "2           Ensuite Room (Room 1 & 2) near EXPO         Tampines   \n",
              "3           Ensuite Room (Room 1 & 2) near EXPO         Tampines   \n",
              "4           Ensuite Room (Room 1 & 2) near EXPO         Tampines   \n",
              "...                                         ...              ...   \n",
              "18875            Queen Capsule Bed (mixed dorm)  Singapore River   \n",
              "18876              Single Capsule (Shared Room)  Singapore River   \n",
              "18877  Charming hostel in singapore (Boat Quay)  Singapore River   \n",
              "18878  Charming hostel in singapore (Boat Quay)  Singapore River   \n",
              "18879  Charming hostel in singapore (Boat Quay)  Singapore River   \n",
              "\n",
              "      neighbourhood_group     room_type  price  minimum_nights  \\\n",
              "0             East Region  Private room    145              92   \n",
              "1             East Region  Private room    145              92   \n",
              "2             East Region  Private room    145              92   \n",
              "3             East Region  Private room    145              92   \n",
              "4             East Region  Private room    145              92   \n",
              "...                   ...           ...    ...             ...   \n",
              "18875      Central Region   Shared room     60               1   \n",
              "18876      Central Region   Shared room     29               1   \n",
              "18877      Central Region   Shared room     31               1   \n",
              "18878      Central Region   Shared room     31               1   \n",
              "18879      Central Region   Shared room     31               1   \n",
              "\n",
              "       availability_365  \n",
              "0                   340  \n",
              "1                   340  \n",
              "2                   340  \n",
              "3                   340  \n",
              "4                   340  \n",
              "...                 ...  \n",
              "18875               346  \n",
              "18876               259  \n",
              "18877               342  \n",
              "18878               342  \n",
              "18879               342  \n",
              "\n",
              "[18880 rows x 11 columns]"
            ],
            "text/html": [
              "\n",
              "  <div id=\"df-6393d9d4-a790-4e65-be96-7094a410b856\">\n",
              "    <div class=\"colab-df-container\">\n",
              "      <div>\n",
              "<style scoped>\n",
              "    .dataframe tbody tr th:only-of-type {\n",
              "        vertical-align: middle;\n",
              "    }\n",
              "\n",
              "    .dataframe tbody tr th {\n",
              "        vertical-align: top;\n",
              "    }\n",
              "\n",
              "    .dataframe thead th {\n",
              "        text-align: right;\n",
              "    }\n",
              "</style>\n",
              "<table border=\"1\" class=\"dataframe\">\n",
              "  <thead>\n",
              "    <tr style=\"text-align: right;\">\n",
              "      <th></th>\n",
              "      <th>date</th>\n",
              "      <th>month</th>\n",
              "      <th>year</th>\n",
              "      <th>id</th>\n",
              "      <th>name</th>\n",
              "      <th>neighbourhood</th>\n",
              "      <th>neighbourhood_group</th>\n",
              "      <th>room_type</th>\n",
              "      <th>price</th>\n",
              "      <th>minimum_nights</th>\n",
              "      <th>availability_365</th>\n",
              "    </tr>\n",
              "  </thead>\n",
              "  <tbody>\n",
              "    <tr>\n",
              "      <th>0</th>\n",
              "      <td>2018-07-14</td>\n",
              "      <td>2018-07</td>\n",
              "      <td>2018</td>\n",
              "      <td>71609</td>\n",
              "      <td>Ensuite Room (Room 1 &amp; 2) near EXPO</td>\n",
              "      <td>Tampines</td>\n",
              "      <td>East Region</td>\n",
              "      <td>Private room</td>\n",
              "      <td>145</td>\n",
              "      <td>92</td>\n",
              "      <td>340</td>\n",
              "    </tr>\n",
              "    <tr>\n",
              "      <th>1</th>\n",
              "      <td>2019-01-06</td>\n",
              "      <td>2019-01</td>\n",
              "      <td>2019</td>\n",
              "      <td>71609</td>\n",
              "      <td>Ensuite Room (Room 1 &amp; 2) near EXPO</td>\n",
              "      <td>Tampines</td>\n",
              "      <td>East Region</td>\n",
              "      <td>Private room</td>\n",
              "      <td>145</td>\n",
              "      <td>92</td>\n",
              "      <td>340</td>\n",
              "    </tr>\n",
              "    <tr>\n",
              "      <th>2</th>\n",
              "      <td>2019-07-27</td>\n",
              "      <td>2019-07</td>\n",
              "      <td>2019</td>\n",
              "      <td>71609</td>\n",
              "      <td>Ensuite Room (Room 1 &amp; 2) near EXPO</td>\n",
              "      <td>Tampines</td>\n",
              "      <td>East Region</td>\n",
              "      <td>Private room</td>\n",
              "      <td>145</td>\n",
              "      <td>92</td>\n",
              "      <td>340</td>\n",
              "    </tr>\n",
              "    <tr>\n",
              "      <th>3</th>\n",
              "      <td>2019-08-11</td>\n",
              "      <td>2019-08</td>\n",
              "      <td>2019</td>\n",
              "      <td>71609</td>\n",
              "      <td>Ensuite Room (Room 1 &amp; 2) near EXPO</td>\n",
              "      <td>Tampines</td>\n",
              "      <td>East Region</td>\n",
              "      <td>Private room</td>\n",
              "      <td>145</td>\n",
              "      <td>92</td>\n",
              "      <td>340</td>\n",
              "    </tr>\n",
              "    <tr>\n",
              "      <th>4</th>\n",
              "      <td>2019-09-07</td>\n",
              "      <td>2019-09</td>\n",
              "      <td>2019</td>\n",
              "      <td>71609</td>\n",
              "      <td>Ensuite Room (Room 1 &amp; 2) near EXPO</td>\n",
              "      <td>Tampines</td>\n",
              "      <td>East Region</td>\n",
              "      <td>Private room</td>\n",
              "      <td>145</td>\n",
              "      <td>92</td>\n",
              "      <td>340</td>\n",
              "    </tr>\n",
              "    <tr>\n",
              "      <th>...</th>\n",
              "      <td>...</td>\n",
              "      <td>...</td>\n",
              "      <td>...</td>\n",
              "      <td>...</td>\n",
              "      <td>...</td>\n",
              "      <td>...</td>\n",
              "      <td>...</td>\n",
              "      <td>...</td>\n",
              "      <td>...</td>\n",
              "      <td>...</td>\n",
              "      <td>...</td>\n",
              "    </tr>\n",
              "    <tr>\n",
              "      <th>18875</th>\n",
              "      <td>2022-09-18</td>\n",
              "      <td>2022-09</td>\n",
              "      <td>2022</td>\n",
              "      <td>712014563808839949</td>\n",
              "      <td>Queen Capsule Bed (mixed dorm)</td>\n",
              "      <td>Singapore River</td>\n",
              "      <td>Central Region</td>\n",
              "      <td>Shared room</td>\n",
              "      <td>60</td>\n",
              "      <td>1</td>\n",
              "      <td>346</td>\n",
              "    </tr>\n",
              "    <tr>\n",
              "      <th>18876</th>\n",
              "      <td>2022-09-13</td>\n",
              "      <td>2022-09</td>\n",
              "      <td>2022</td>\n",
              "      <td>712121357550091568</td>\n",
              "      <td>Single Capsule (Shared Room)</td>\n",
              "      <td>Singapore River</td>\n",
              "      <td>Central Region</td>\n",
              "      <td>Shared room</td>\n",
              "      <td>29</td>\n",
              "      <td>1</td>\n",
              "      <td>259</td>\n",
              "    </tr>\n",
              "    <tr>\n",
              "      <th>18877</th>\n",
              "      <td>2022-09-14</td>\n",
              "      <td>2022-09</td>\n",
              "      <td>2022</td>\n",
              "      <td>712907319520281078</td>\n",
              "      <td>Charming hostel in singapore (Boat Quay)</td>\n",
              "      <td>Singapore River</td>\n",
              "      <td>Central Region</td>\n",
              "      <td>Shared room</td>\n",
              "      <td>31</td>\n",
              "      <td>1</td>\n",
              "      <td>342</td>\n",
              "    </tr>\n",
              "    <tr>\n",
              "      <th>18878</th>\n",
              "      <td>2022-09-15</td>\n",
              "      <td>2022-09</td>\n",
              "      <td>2022</td>\n",
              "      <td>712907319520281078</td>\n",
              "      <td>Charming hostel in singapore (Boat Quay)</td>\n",
              "      <td>Singapore River</td>\n",
              "      <td>Central Region</td>\n",
              "      <td>Shared room</td>\n",
              "      <td>31</td>\n",
              "      <td>1</td>\n",
              "      <td>342</td>\n",
              "    </tr>\n",
              "    <tr>\n",
              "      <th>18879</th>\n",
              "      <td>2022-09-16</td>\n",
              "      <td>2022-09</td>\n",
              "      <td>2022</td>\n",
              "      <td>712907319520281078</td>\n",
              "      <td>Charming hostel in singapore (Boat Quay)</td>\n",
              "      <td>Singapore River</td>\n",
              "      <td>Central Region</td>\n",
              "      <td>Shared room</td>\n",
              "      <td>31</td>\n",
              "      <td>1</td>\n",
              "      <td>342</td>\n",
              "    </tr>\n",
              "  </tbody>\n",
              "</table>\n",
              "<p>18880 rows × 11 columns</p>\n",
              "</div>\n",
              "      <button class=\"colab-df-convert\" onclick=\"convertToInteractive('df-6393d9d4-a790-4e65-be96-7094a410b856')\"\n",
              "              title=\"Convert this dataframe to an interactive table.\"\n",
              "              style=\"display:none;\">\n",
              "        \n",
              "  <svg xmlns=\"http://www.w3.org/2000/svg\" height=\"24px\"viewBox=\"0 0 24 24\"\n",
              "       width=\"24px\">\n",
              "    <path d=\"M0 0h24v24H0V0z\" fill=\"none\"/>\n",
              "    <path d=\"M18.56 5.44l.94 2.06.94-2.06 2.06-.94-2.06-.94-.94-2.06-.94 2.06-2.06.94zm-11 1L8.5 8.5l.94-2.06 2.06-.94-2.06-.94L8.5 2.5l-.94 2.06-2.06.94zm10 10l.94 2.06.94-2.06 2.06-.94-2.06-.94-.94-2.06-.94 2.06-2.06.94z\"/><path d=\"M17.41 7.96l-1.37-1.37c-.4-.4-.92-.59-1.43-.59-.52 0-1.04.2-1.43.59L10.3 9.45l-7.72 7.72c-.78.78-.78 2.05 0 2.83L4 21.41c.39.39.9.59 1.41.59.51 0 1.02-.2 1.41-.59l7.78-7.78 2.81-2.81c.8-.78.8-2.07 0-2.86zM5.41 20L4 18.59l7.72-7.72 1.47 1.35L5.41 20z\"/>\n",
              "  </svg>\n",
              "      </button>\n",
              "      \n",
              "  <style>\n",
              "    .colab-df-container {\n",
              "      display:flex;\n",
              "      flex-wrap:wrap;\n",
              "      gap: 12px;\n",
              "    }\n",
              "\n",
              "    .colab-df-convert {\n",
              "      background-color: #E8F0FE;\n",
              "      border: none;\n",
              "      border-radius: 50%;\n",
              "      cursor: pointer;\n",
              "      display: none;\n",
              "      fill: #1967D2;\n",
              "      height: 32px;\n",
              "      padding: 0 0 0 0;\n",
              "      width: 32px;\n",
              "    }\n",
              "\n",
              "    .colab-df-convert:hover {\n",
              "      background-color: #E2EBFA;\n",
              "      box-shadow: 0px 1px 2px rgba(60, 64, 67, 0.3), 0px 1px 3px 1px rgba(60, 64, 67, 0.15);\n",
              "      fill: #174EA6;\n",
              "    }\n",
              "\n",
              "    [theme=dark] .colab-df-convert {\n",
              "      background-color: #3B4455;\n",
              "      fill: #D2E3FC;\n",
              "    }\n",
              "\n",
              "    [theme=dark] .colab-df-convert:hover {\n",
              "      background-color: #434B5C;\n",
              "      box-shadow: 0px 1px 3px 1px rgba(0, 0, 0, 0.15);\n",
              "      filter: drop-shadow(0px 1px 2px rgba(0, 0, 0, 0.3));\n",
              "      fill: #FFFFFF;\n",
              "    }\n",
              "  </style>\n",
              "\n",
              "      <script>\n",
              "        const buttonEl =\n",
              "          document.querySelector('#df-6393d9d4-a790-4e65-be96-7094a410b856 button.colab-df-convert');\n",
              "        buttonEl.style.display =\n",
              "          google.colab.kernel.accessAllowed ? 'block' : 'none';\n",
              "\n",
              "        async function convertToInteractive(key) {\n",
              "          const element = document.querySelector('#df-6393d9d4-a790-4e65-be96-7094a410b856');\n",
              "          const dataTable =\n",
              "            await google.colab.kernel.invokeFunction('convertToInteractive',\n",
              "                                                     [key], {});\n",
              "          if (!dataTable) return;\n",
              "\n",
              "          const docLinkHtml = 'Like what you see? Visit the ' +\n",
              "            '<a target=\"_blank\" href=https://colab.research.google.com/notebooks/data_table.ipynb>data table notebook</a>'\n",
              "            + ' to learn more about interactive tables.';\n",
              "          element.innerHTML = '';\n",
              "          dataTable['output_type'] = 'display_data';\n",
              "          await google.colab.output.renderOutput(dataTable, element);\n",
              "          const docLink = document.createElement('div');\n",
              "          docLink.innerHTML = docLinkHtml;\n",
              "          element.appendChild(docLink);\n",
              "        }\n",
              "      </script>\n",
              "    </div>\n",
              "  </div>\n",
              "  "
            ]
          },
          "metadata": {},
          "execution_count": 29
        }
      ]
    },
    {
      "cell_type": "code",
      "source": [
        "listings_reviews.info()"
      ],
      "metadata": {
        "colab": {
          "base_uri": "https://localhost:8080/"
        },
        "id": "-2rAw_j2OeRu",
        "outputId": "1002355b-f8bf-4cbb-c773-a8f2bd2058f0"
      },
      "execution_count": null,
      "outputs": [
        {
          "output_type": "stream",
          "name": "stdout",
          "text": [
            "<class 'pandas.core.frame.DataFrame'>\n",
            "RangeIndex: 18880 entries, 0 to 18879\n",
            "Data columns (total 11 columns):\n",
            " #   Column               Non-Null Count  Dtype \n",
            "---  ------               --------------  ----- \n",
            " 0   date                 18880 non-null  object\n",
            " 1   month                18880 non-null  object\n",
            " 2   year                 18880 non-null  object\n",
            " 3   id                   18880 non-null  int64 \n",
            " 4   name                 18880 non-null  object\n",
            " 5   neighbourhood        18880 non-null  object\n",
            " 6   neighbourhood_group  18880 non-null  object\n",
            " 7   room_type            18880 non-null  object\n",
            " 8   price                18880 non-null  int64 \n",
            " 9   minimum_nights       18880 non-null  int64 \n",
            " 10  availability_365     18880 non-null  int64 \n",
            "dtypes: int64(4), object(7)\n",
            "memory usage: 1.6+ MB\n"
          ]
        }
      ]
    },
    {
      "cell_type": "markdown",
      "source": [
        "## **Data Analysis & Data Visualization**"
      ],
      "metadata": {
        "id": "D9nwTxstcPIX"
      }
    },
    {
      "cell_type": "markdown",
      "source": [
        "### **Listings Properties Distribution in Singapore**"
      ],
      "metadata": {
        "id": "cVxtmUMLhGcY"
      }
    },
    {
      "cell_type": "markdown",
      "source": [
        "#### **Listings Distribution by Neighborhood Group**"
      ],
      "metadata": {
        "id": "xLjxBzaF6f3f"
      }
    },
    {
      "cell_type": "code",
      "source": [
        "fig_nbgroup_pie = px.pie(listings_neighborhood, values=listings_neighborhood['neighbourhood_group'].value_counts().values, color=listings_neighborhood['neighbourhood_group'].value_counts().index, names=listings_neighborhood['neighbourhood_group'].value_counts().index, color_discrete_sequence=['#9600ff', '#995bd5', '#bf99f2', '#9cf945', '#509724'], hole=0.25)\n",
        "fig_nbgroup_pie.update_traces(textposition='inside', textfont=dict(color='black',size=15), textinfo='label+percent',pull=[0.1,0.1,0.12,0.13,0.14],rotation = 120)\n",
        "fig_nbgroup_pie.update_layout(title='<b>Listings Distribution by Neighborhood Group</b>', title_font=dict(size=20))\n",
        "fig_nbgroup_pie.show()"
      ],
      "metadata": {
        "colab": {
          "base_uri": "https://localhost:8080/",
          "height": 542
        },
        "id": "6JFkl6E7elua",
        "outputId": "7f9149fb-251c-4277-9253-c2b0f39f84ab"
      },
      "execution_count": null,
      "outputs": [
        {
          "output_type": "display_data",
          "data": {
            "text/html": [
              "<html>\n",
              "<head><meta charset=\"utf-8\" /></head>\n",
              "<body>\n",
              "    <div>            <script src=\"https://cdnjs.cloudflare.com/ajax/libs/mathjax/2.7.5/MathJax.js?config=TeX-AMS-MML_SVG\"></script><script type=\"text/javascript\">if (window.MathJax && window.MathJax.Hub && window.MathJax.Hub.Config) {window.MathJax.Hub.Config({SVG: {font: \"STIX-Web\"}});}</script>                <script type=\"text/javascript\">window.PlotlyConfig = {MathJaxConfig: 'local'};</script>\n",
              "        <script src=\"https://cdn.plot.ly/plotly-2.18.2.min.js\"></script>                <div id=\"2f7d84c0-f560-4b31-b0bc-12618cc0a3e3\" class=\"plotly-graph-div\" style=\"height:525px; width:100%;\"></div>            <script type=\"text/javascript\">                                    window.PLOTLYENV=window.PLOTLYENV || {};                                    if (document.getElementById(\"2f7d84c0-f560-4b31-b0bc-12618cc0a3e3\")) {                    Plotly.newPlot(                        \"2f7d84c0-f560-4b31-b0bc-12618cc0a3e3\",                        [{\"customdata\":[[\"Central Region\"],[\"West Region\"],[\"East Region\"],[\"North-East Region\"],[\"North Region\"]],\"domain\":{\"x\":[0.0,1.0],\"y\":[0.0,1.0]},\"hole\":0.25,\"hovertemplate\":\"label=%{label}<br>value=%{value}<br>color=%{customdata[0]}<extra></extra>\",\"labels\":[\"Central Region\",\"West Region\",\"East Region\",\"North-East Region\",\"North Region\"],\"legendgroup\":\"\",\"marker\":{\"colors\":[\"#9600ff\",\"#995bd5\",\"#bf99f2\",\"#9cf945\",\"#509724\"]},\"name\":\"\",\"showlegend\":true,\"values\":[2252,176,145,79,65],\"type\":\"pie\",\"textfont\":{\"color\":\"black\",\"size\":15},\"pull\":[0.1,0.1,0.12,0.13,0.14],\"rotation\":120,\"textinfo\":\"label+percent\",\"textposition\":\"inside\"}],                        {\"template\":{\"data\":{\"histogram2dcontour\":[{\"type\":\"histogram2dcontour\",\"colorbar\":{\"outlinewidth\":0,\"ticks\":\"\"},\"colorscale\":[[0.0,\"#0d0887\"],[0.1111111111111111,\"#46039f\"],[0.2222222222222222,\"#7201a8\"],[0.3333333333333333,\"#9c179e\"],[0.4444444444444444,\"#bd3786\"],[0.5555555555555556,\"#d8576b\"],[0.6666666666666666,\"#ed7953\"],[0.7777777777777778,\"#fb9f3a\"],[0.8888888888888888,\"#fdca26\"],[1.0,\"#f0f921\"]]}],\"choropleth\":[{\"type\":\"choropleth\",\"colorbar\":{\"outlinewidth\":0,\"ticks\":\"\"}}],\"histogram2d\":[{\"type\":\"histogram2d\",\"colorbar\":{\"outlinewidth\":0,\"ticks\":\"\"},\"colorscale\":[[0.0,\"#0d0887\"],[0.1111111111111111,\"#46039f\"],[0.2222222222222222,\"#7201a8\"],[0.3333333333333333,\"#9c179e\"],[0.4444444444444444,\"#bd3786\"],[0.5555555555555556,\"#d8576b\"],[0.6666666666666666,\"#ed7953\"],[0.7777777777777778,\"#fb9f3a\"],[0.8888888888888888,\"#fdca26\"],[1.0,\"#f0f921\"]]}],\"heatmap\":[{\"type\":\"heatmap\",\"colorbar\":{\"outlinewidth\":0,\"ticks\":\"\"},\"colorscale\":[[0.0,\"#0d0887\"],[0.1111111111111111,\"#46039f\"],[0.2222222222222222,\"#7201a8\"],[0.3333333333333333,\"#9c179e\"],[0.4444444444444444,\"#bd3786\"],[0.5555555555555556,\"#d8576b\"],[0.6666666666666666,\"#ed7953\"],[0.7777777777777778,\"#fb9f3a\"],[0.8888888888888888,\"#fdca26\"],[1.0,\"#f0f921\"]]}],\"heatmapgl\":[{\"type\":\"heatmapgl\",\"colorbar\":{\"outlinewidth\":0,\"ticks\":\"\"},\"colorscale\":[[0.0,\"#0d0887\"],[0.1111111111111111,\"#46039f\"],[0.2222222222222222,\"#7201a8\"],[0.3333333333333333,\"#9c179e\"],[0.4444444444444444,\"#bd3786\"],[0.5555555555555556,\"#d8576b\"],[0.6666666666666666,\"#ed7953\"],[0.7777777777777778,\"#fb9f3a\"],[0.8888888888888888,\"#fdca26\"],[1.0,\"#f0f921\"]]}],\"contourcarpet\":[{\"type\":\"contourcarpet\",\"colorbar\":{\"outlinewidth\":0,\"ticks\":\"\"}}],\"contour\":[{\"type\":\"contour\",\"colorbar\":{\"outlinewidth\":0,\"ticks\":\"\"},\"colorscale\":[[0.0,\"#0d0887\"],[0.1111111111111111,\"#46039f\"],[0.2222222222222222,\"#7201a8\"],[0.3333333333333333,\"#9c179e\"],[0.4444444444444444,\"#bd3786\"],[0.5555555555555556,\"#d8576b\"],[0.6666666666666666,\"#ed7953\"],[0.7777777777777778,\"#fb9f3a\"],[0.8888888888888888,\"#fdca26\"],[1.0,\"#f0f921\"]]}],\"surface\":[{\"type\":\"surface\",\"colorbar\":{\"outlinewidth\":0,\"ticks\":\"\"},\"colorscale\":[[0.0,\"#0d0887\"],[0.1111111111111111,\"#46039f\"],[0.2222222222222222,\"#7201a8\"],[0.3333333333333333,\"#9c179e\"],[0.4444444444444444,\"#bd3786\"],[0.5555555555555556,\"#d8576b\"],[0.6666666666666666,\"#ed7953\"],[0.7777777777777778,\"#fb9f3a\"],[0.8888888888888888,\"#fdca26\"],[1.0,\"#f0f921\"]]}],\"mesh3d\":[{\"type\":\"mesh3d\",\"colorbar\":{\"outlinewidth\":0,\"ticks\":\"\"}}],\"scatter\":[{\"fillpattern\":{\"fillmode\":\"overlay\",\"size\":10,\"solidity\":0.2},\"type\":\"scatter\"}],\"parcoords\":[{\"type\":\"parcoords\",\"line\":{\"colorbar\":{\"outlinewidth\":0,\"ticks\":\"\"}}}],\"scatterpolargl\":[{\"type\":\"scatterpolargl\",\"marker\":{\"colorbar\":{\"outlinewidth\":0,\"ticks\":\"\"}}}],\"bar\":[{\"error_x\":{\"color\":\"#2a3f5f\"},\"error_y\":{\"color\":\"#2a3f5f\"},\"marker\":{\"line\":{\"color\":\"#E5ECF6\",\"width\":0.5},\"pattern\":{\"fillmode\":\"overlay\",\"size\":10,\"solidity\":0.2}},\"type\":\"bar\"}],\"scattergeo\":[{\"type\":\"scattergeo\",\"marker\":{\"colorbar\":{\"outlinewidth\":0,\"ticks\":\"\"}}}],\"scatterpolar\":[{\"type\":\"scatterpolar\",\"marker\":{\"colorbar\":{\"outlinewidth\":0,\"ticks\":\"\"}}}],\"histogram\":[{\"marker\":{\"pattern\":{\"fillmode\":\"overlay\",\"size\":10,\"solidity\":0.2}},\"type\":\"histogram\"}],\"scattergl\":[{\"type\":\"scattergl\",\"marker\":{\"colorbar\":{\"outlinewidth\":0,\"ticks\":\"\"}}}],\"scatter3d\":[{\"type\":\"scatter3d\",\"line\":{\"colorbar\":{\"outlinewidth\":0,\"ticks\":\"\"}},\"marker\":{\"colorbar\":{\"outlinewidth\":0,\"ticks\":\"\"}}}],\"scattermapbox\":[{\"type\":\"scattermapbox\",\"marker\":{\"colorbar\":{\"outlinewidth\":0,\"ticks\":\"\"}}}],\"scatterternary\":[{\"type\":\"scatterternary\",\"marker\":{\"colorbar\":{\"outlinewidth\":0,\"ticks\":\"\"}}}],\"scattercarpet\":[{\"type\":\"scattercarpet\",\"marker\":{\"colorbar\":{\"outlinewidth\":0,\"ticks\":\"\"}}}],\"carpet\":[{\"aaxis\":{\"endlinecolor\":\"#2a3f5f\",\"gridcolor\":\"white\",\"linecolor\":\"white\",\"minorgridcolor\":\"white\",\"startlinecolor\":\"#2a3f5f\"},\"baxis\":{\"endlinecolor\":\"#2a3f5f\",\"gridcolor\":\"white\",\"linecolor\":\"white\",\"minorgridcolor\":\"white\",\"startlinecolor\":\"#2a3f5f\"},\"type\":\"carpet\"}],\"table\":[{\"cells\":{\"fill\":{\"color\":\"#EBF0F8\"},\"line\":{\"color\":\"white\"}},\"header\":{\"fill\":{\"color\":\"#C8D4E3\"},\"line\":{\"color\":\"white\"}},\"type\":\"table\"}],\"barpolar\":[{\"marker\":{\"line\":{\"color\":\"#E5ECF6\",\"width\":0.5},\"pattern\":{\"fillmode\":\"overlay\",\"size\":10,\"solidity\":0.2}},\"type\":\"barpolar\"}],\"pie\":[{\"automargin\":true,\"type\":\"pie\"}]},\"layout\":{\"autotypenumbers\":\"strict\",\"colorway\":[\"#636efa\",\"#EF553B\",\"#00cc96\",\"#ab63fa\",\"#FFA15A\",\"#19d3f3\",\"#FF6692\",\"#B6E880\",\"#FF97FF\",\"#FECB52\"],\"font\":{\"color\":\"#2a3f5f\"},\"hovermode\":\"closest\",\"hoverlabel\":{\"align\":\"left\"},\"paper_bgcolor\":\"white\",\"plot_bgcolor\":\"#E5ECF6\",\"polar\":{\"bgcolor\":\"#E5ECF6\",\"angularaxis\":{\"gridcolor\":\"white\",\"linecolor\":\"white\",\"ticks\":\"\"},\"radialaxis\":{\"gridcolor\":\"white\",\"linecolor\":\"white\",\"ticks\":\"\"}},\"ternary\":{\"bgcolor\":\"#E5ECF6\",\"aaxis\":{\"gridcolor\":\"white\",\"linecolor\":\"white\",\"ticks\":\"\"},\"baxis\":{\"gridcolor\":\"white\",\"linecolor\":\"white\",\"ticks\":\"\"},\"caxis\":{\"gridcolor\":\"white\",\"linecolor\":\"white\",\"ticks\":\"\"}},\"coloraxis\":{\"colorbar\":{\"outlinewidth\":0,\"ticks\":\"\"}},\"colorscale\":{\"sequential\":[[0.0,\"#0d0887\"],[0.1111111111111111,\"#46039f\"],[0.2222222222222222,\"#7201a8\"],[0.3333333333333333,\"#9c179e\"],[0.4444444444444444,\"#bd3786\"],[0.5555555555555556,\"#d8576b\"],[0.6666666666666666,\"#ed7953\"],[0.7777777777777778,\"#fb9f3a\"],[0.8888888888888888,\"#fdca26\"],[1.0,\"#f0f921\"]],\"sequentialminus\":[[0.0,\"#0d0887\"],[0.1111111111111111,\"#46039f\"],[0.2222222222222222,\"#7201a8\"],[0.3333333333333333,\"#9c179e\"],[0.4444444444444444,\"#bd3786\"],[0.5555555555555556,\"#d8576b\"],[0.6666666666666666,\"#ed7953\"],[0.7777777777777778,\"#fb9f3a\"],[0.8888888888888888,\"#fdca26\"],[1.0,\"#f0f921\"]],\"diverging\":[[0,\"#8e0152\"],[0.1,\"#c51b7d\"],[0.2,\"#de77ae\"],[0.3,\"#f1b6da\"],[0.4,\"#fde0ef\"],[0.5,\"#f7f7f7\"],[0.6,\"#e6f5d0\"],[0.7,\"#b8e186\"],[0.8,\"#7fbc41\"],[0.9,\"#4d9221\"],[1,\"#276419\"]]},\"xaxis\":{\"gridcolor\":\"white\",\"linecolor\":\"white\",\"ticks\":\"\",\"title\":{\"standoff\":15},\"zerolinecolor\":\"white\",\"automargin\":true,\"zerolinewidth\":2},\"yaxis\":{\"gridcolor\":\"white\",\"linecolor\":\"white\",\"ticks\":\"\",\"title\":{\"standoff\":15},\"zerolinecolor\":\"white\",\"automargin\":true,\"zerolinewidth\":2},\"scene\":{\"xaxis\":{\"backgroundcolor\":\"#E5ECF6\",\"gridcolor\":\"white\",\"linecolor\":\"white\",\"showbackground\":true,\"ticks\":\"\",\"zerolinecolor\":\"white\",\"gridwidth\":2},\"yaxis\":{\"backgroundcolor\":\"#E5ECF6\",\"gridcolor\":\"white\",\"linecolor\":\"white\",\"showbackground\":true,\"ticks\":\"\",\"zerolinecolor\":\"white\",\"gridwidth\":2},\"zaxis\":{\"backgroundcolor\":\"#E5ECF6\",\"gridcolor\":\"white\",\"linecolor\":\"white\",\"showbackground\":true,\"ticks\":\"\",\"zerolinecolor\":\"white\",\"gridwidth\":2}},\"shapedefaults\":{\"line\":{\"color\":\"#2a3f5f\"}},\"annotationdefaults\":{\"arrowcolor\":\"#2a3f5f\",\"arrowhead\":0,\"arrowwidth\":1},\"geo\":{\"bgcolor\":\"white\",\"landcolor\":\"#E5ECF6\",\"subunitcolor\":\"white\",\"showland\":true,\"showlakes\":true,\"lakecolor\":\"white\"},\"title\":{\"x\":0.05},\"mapbox\":{\"style\":\"light\"}}},\"legend\":{\"tracegroupgap\":0},\"margin\":{\"t\":60},\"piecolorway\":[\"#9600ff\",\"#995bd5\",\"#bf99f2\",\"#9cf945\",\"#509724\"],\"title\":{\"text\":\"<b>Listings Distribution by Neighborhood Group</b>\",\"font\":{\"size\":20}}},                        {\"responsive\": true}                    ).then(function(){\n",
              "                            \n",
              "var gd = document.getElementById('2f7d84c0-f560-4b31-b0bc-12618cc0a3e3');\n",
              "var x = new MutationObserver(function (mutations, observer) {{\n",
              "        var display = window.getComputedStyle(gd).display;\n",
              "        if (!display || display === 'none') {{\n",
              "            console.log([gd, 'removed!']);\n",
              "            Plotly.purge(gd);\n",
              "            observer.disconnect();\n",
              "        }}\n",
              "}});\n",
              "\n",
              "// Listen for the removal of the full notebook cells\n",
              "var notebookContainer = gd.closest('#notebook-container');\n",
              "if (notebookContainer) {{\n",
              "    x.observe(notebookContainer, {childList: true});\n",
              "}}\n",
              "\n",
              "// Listen for the clearing of the current output cell\n",
              "var outputEl = gd.closest('.output');\n",
              "if (outputEl) {{\n",
              "    x.observe(outputEl, {childList: true});\n",
              "}}\n",
              "\n",
              "                        })                };                            </script>        </div>\n",
              "</body>\n",
              "</html>"
            ]
          },
          "metadata": {}
        }
      ]
    },
    {
      "cell_type": "markdown",
      "source": [
        "Listings distribution dominated 82.9% by Central Region with 2252 properties followed by West Region 6.48% and East Region 5.34% which also represented in the map below:\n"
      ],
      "metadata": {
        "id": "XWlW8txT8CP_"
      }
    },
    {
      "cell_type": "code",
      "source": [
        "import plotly.express as px\n",
        "fig_nbgroup_map = px.scatter_mapbox(listings_neighborhood, lat='latitude', lon='longitude', color='neighbourhood_group', hover_name='neighbourhood_group', zoom=10, height=500, width=1000, color_discrete_sequence=['#9600ff', '#995bd5', '#bf99f2', '#9cf945', '#509724'])\n",
        "fig_nbgroup_map.update_layout(mapbox_style='open-street-map')\n",
        "fig_nbgroup_map.update_layout(margin={'r':0,'t':0,'l':0,'b':0})\n",
        "fig_nbgroup_map.show()"
      ],
      "metadata": {
        "colab": {
          "base_uri": "https://localhost:8080/",
          "height": 517
        },
        "id": "3IgVoFteiA-y",
        "outputId": "32904a72-9c7a-4150-e379-b33ae87bd1d4"
      },
      "execution_count": null,
      "outputs": [
        {
          "output_type": "display_data",
          "data": {
            "text/html": [
              "<html>\n",
              "<head><meta charset=\"utf-8\" /></head>\n",
              "<body>\n",
              "    <div>            <script src=\"https://cdnjs.cloudflare.com/ajax/libs/mathjax/2.7.5/MathJax.js?config=TeX-AMS-MML_SVG\"></script><script type=\"text/javascript\">if (window.MathJax && window.MathJax.Hub && window.MathJax.Hub.Config) {window.MathJax.Hub.Config({SVG: {font: \"STIX-Web\"}});}</script>                <script type=\"text/javascript\">window.PlotlyConfig = {MathJaxConfig: 'local'};</script>\n",
              "        <script src=\"https://cdn.plot.ly/plotly-2.18.2.min.js\"></script>                <div id=\"034a42f4-3c84-470a-bc0b-e548be6eefb0\" class=\"plotly-graph-div\" style=\"height:500px; width:1000px;\"></div>            <script type=\"text/javascript\">                                    window.PLOTLYENV=window.PLOTLYENV || {};                                    if (document.getElementById(\"034a42f4-3c84-470a-bc0b-e548be6eefb0\")) {                    Plotly.newPlot(                        \"034a42f4-3c84-470a-bc0b-e548be6eefb0\",                        [{\"hovertemplate\":\"<b>%{hovertext}</b><br><br>neighbourhood_group=Central Region<br>latitude=%{lat}<br>longitude=%{lon}<extra></extra>\",\"hovertext\":[\"Central Region\",\"Central Region\",\"Central Region\",\"Central Region\",\"Central Region\",\"Central Region\",\"Central Region\",\"Central Region\",\"Central Region\",\"Central Region\",\"Central Region\",\"Central Region\",\"Central Region\",\"Central Region\",\"Central Region\",\"Central Region\",\"Central Region\",\"Central Region\",\"Central Region\",\"Central Region\",\"Central Region\",\"Central Region\",\"Central Region\",\"Central Region\",\"Central Region\",\"Central Region\",\"Central Region\",\"Central Region\",\"Central Region\",\"Central Region\",\"Central Region\",\"Central Region\",\"Central Region\",\"Central Region\",\"Central Region\",\"Central Region\",\"Central Region\",\"Central Region\",\"Central Region\",\"Central Region\",\"Central Region\",\"Central Region\",\"Central Region\",\"Central Region\",\"Central Region\",\"Central Region\",\"Central Region\",\"Central Region\",\"Central Region\",\"Central Region\",\"Central Region\",\"Central Region\",\"Central Region\",\"Central Region\",\"Central Region\",\"Central Region\",\"Central Region\",\"Central Region\",\"Central Region\",\"Central Region\",\"Central Region\",\"Central Region\",\"Central Region\",\"Central Region\",\"Central Region\",\"Central Region\",\"Central Region\",\"Central Region\",\"Central Region\",\"Central Region\",\"Central Region\",\"Central Region\",\"Central Region\",\"Central Region\",\"Central Region\",\"Central Region\",\"Central Region\",\"Central Region\",\"Central Region\",\"Central Region\",\"Central Region\",\"Central Region\",\"Central Region\",\"Central Region\",\"Central Region\",\"Central Region\",\"Central Region\",\"Central Region\",\"Central Region\",\"Central Region\",\"Central Region\",\"Central Region\",\"Central Region\",\"Central Region\",\"Central Region\",\"Central Region\",\"Central Region\",\"Central Region\",\"Central Region\",\"Central Region\",\"Central Region\",\"Central Region\",\"Central Region\",\"Central Region\",\"Central Region\",\"Central Region\",\"Central Region\",\"Central Region\",\"Central Region\",\"Central Region\",\"Central Region\",\"Central Region\",\"Central Region\",\"Central Region\",\"Central Region\",\"Central Region\",\"Central Region\",\"Central Region\",\"Central Region\",\"Central Region\",\"Central Region\",\"Central Region\",\"Central Region\",\"Central Region\",\"Central Region\",\"Central Region\",\"Central Region\",\"Central Region\",\"Central Region\",\"Central Region\",\"Central Region\",\"Central Region\",\"Central Region\",\"Central Region\",\"Central Region\",\"Central Region\",\"Central Region\",\"Central Region\",\"Central Region\",\"Central Region\",\"Central Region\",\"Central Region\",\"Central Region\",\"Central Region\",\"Central Region\",\"Central Region\",\"Central Region\",\"Central Region\",\"Central Region\",\"Central Region\",\"Central Region\",\"Central Region\",\"Central Region\",\"Central Region\",\"Central Region\",\"Central Region\",\"Central Region\",\"Central Region\",\"Central Region\",\"Central Region\",\"Central Region\",\"Central Region\",\"Central Region\",\"Central Region\",\"Central Region\",\"Central Region\",\"Central Region\",\"Central Region\",\"Central Region\",\"Central Region\",\"Central Region\",\"Central Region\",\"Central Region\",\"Central Region\",\"Central Region\",\"Central Region\",\"Central Region\",\"Central Region\",\"Central Region\",\"Central Region\",\"Central Region\",\"Central Region\",\"Central Region\",\"Central Region\",\"Central Region\",\"Central Region\",\"Central Region\",\"Central Region\",\"Central Region\",\"Central Region\",\"Central Region\",\"Central Region\",\"Central Region\",\"Central Region\",\"Central Region\",\"Central Region\",\"Central Region\",\"Central Region\",\"Central Region\",\"Central Region\",\"Central Region\",\"Central Region\",\"Central Region\",\"Central Region\",\"Central Region\",\"Central Region\",\"Central Region\",\"Central Region\",\"Central Region\",\"Central Region\",\"Central Region\",\"Central Region\",\"Central Region\",\"Central Region\",\"Central Region\",\"Central Region\",\"Central Region\",\"Central Region\",\"Central Region\",\"Central Region\",\"Central Region\",\"Central Region\",\"Central Region\",\"Central Region\",\"Central Region\",\"Central Region\",\"Central Region\",\"Central Region\",\"Central Region\",\"Central Region\",\"Central Region\",\"Central Region\",\"Central Region\",\"Central Region\",\"Central Region\",\"Central Region\",\"Central Region\",\"Central Region\",\"Central Region\",\"Central Region\",\"Central Region\",\"Central Region\",\"Central Region\",\"Central Region\",\"Central Region\",\"Central Region\",\"Central Region\",\"Central Region\",\"Central Region\",\"Central Region\",\"Central Region\",\"Central Region\",\"Central Region\",\"Central Region\",\"Central Region\",\"Central Region\",\"Central Region\",\"Central Region\",\"Central Region\",\"Central Region\",\"Central Region\",\"Central Region\",\"Central Region\",\"Central Region\",\"Central Region\",\"Central Region\",\"Central Region\",\"Central Region\",\"Central Region\",\"Central Region\",\"Central Region\",\"Central Region\",\"Central Region\",\"Central Region\",\"Central Region\",\"Central Region\",\"Central Region\",\"Central Region\",\"Central Region\",\"Central Region\",\"Central Region\",\"Central Region\",\"Central Region\",\"Central Region\",\"Central Region\",\"Central Region\",\"Central Region\",\"Central Region\",\"Central Region\",\"Central Region\",\"Central Region\",\"Central Region\",\"Central Region\",\"Central Region\",\"Central Region\",\"Central Region\",\"Central Region\",\"Central Region\",\"Central Region\",\"Central Region\",\"Central Region\",\"Central Region\",\"Central Region\",\"Central Region\",\"Central Region\",\"Central Region\",\"Central Region\",\"Central Region\",\"Central Region\",\"Central Region\",\"Central Region\",\"Central Region\",\"Central Region\",\"Central Region\",\"Central Region\",\"Central Region\",\"Central Region\",\"Central Region\",\"Central Region\",\"Central Region\",\"Central Region\",\"Central Region\",\"Central Region\",\"Central Region\",\"Central Region\",\"Central Region\",\"Central Region\",\"Central Region\",\"Central Region\",\"Central Region\",\"Central Region\",\"Central Region\",\"Central Region\",\"Central Region\",\"Central Region\",\"Central Region\",\"Central Region\",\"Central Region\",\"Central Region\",\"Central Region\",\"Central Region\",\"Central Region\",\"Central Region\",\"Central Region\",\"Central Region\",\"Central Region\",\"Central Region\",\"Central Region\",\"Central Region\",\"Central Region\",\"Central Region\",\"Central Region\",\"Central Region\",\"Central Region\",\"Central Region\",\"Central Region\",\"Central Region\",\"Central Region\",\"Central Region\",\"Central Region\",\"Central Region\",\"Central Region\",\"Central Region\",\"Central Region\",\"Central Region\",\"Central Region\",\"Central Region\",\"Central Region\",\"Central Region\",\"Central Region\",\"Central Region\",\"Central Region\",\"Central Region\",\"Central Region\",\"Central Region\",\"Central Region\",\"Central Region\",\"Central Region\",\"Central Region\",\"Central Region\",\"Central Region\",\"Central Region\",\"Central Region\",\"Central Region\",\"Central Region\",\"Central Region\",\"Central Region\",\"Central Region\",\"Central Region\",\"Central Region\",\"Central Region\",\"Central Region\",\"Central Region\",\"Central Region\",\"Central Region\",\"Central Region\",\"Central Region\",\"Central Region\",\"Central Region\",\"Central Region\",\"Central Region\",\"Central Region\",\"Central Region\",\"Central Region\",\"Central Region\",\"Central Region\",\"Central Region\",\"Central Region\",\"Central Region\",\"Central Region\",\"Central Region\",\"Central Region\",\"Central Region\",\"Central Region\",\"Central Region\",\"Central Region\",\"Central Region\",\"Central Region\",\"Central Region\",\"Central Region\",\"Central Region\",\"Central Region\",\"Central Region\",\"Central Region\",\"Central Region\",\"Central Region\",\"Central Region\",\"Central Region\",\"Central Region\",\"Central Region\",\"Central Region\",\"Central Region\",\"Central Region\",\"Central Region\",\"Central Region\",\"Central Region\",\"Central Region\",\"Central Region\",\"Central Region\",\"Central Region\",\"Central Region\",\"Central Region\",\"Central Region\",\"Central Region\",\"Central Region\",\"Central Region\",\"Central Region\",\"Central Region\",\"Central Region\",\"Central Region\",\"Central Region\",\"Central Region\",\"Central Region\",\"Central Region\",\"Central Region\",\"Central Region\",\"Central Region\",\"Central Region\",\"Central Region\",\"Central Region\",\"Central Region\",\"Central Region\",\"Central Region\",\"Central Region\",\"Central Region\",\"Central Region\",\"Central Region\",\"Central Region\",\"Central Region\",\"Central Region\",\"Central Region\",\"Central Region\",\"Central Region\",\"Central Region\",\"Central Region\",\"Central Region\",\"Central Region\",\"Central Region\",\"Central Region\",\"Central Region\",\"Central Region\",\"Central Region\",\"Central Region\",\"Central Region\",\"Central Region\",\"Central Region\",\"Central Region\",\"Central Region\",\"Central Region\",\"Central Region\",\"Central Region\",\"Central Region\",\"Central Region\",\"Central Region\",\"Central Region\",\"Central Region\",\"Central Region\",\"Central Region\",\"Central Region\",\"Central Region\",\"Central Region\",\"Central Region\",\"Central Region\",\"Central Region\",\"Central Region\",\"Central Region\",\"Central Region\",\"Central Region\",\"Central Region\",\"Central Region\",\"Central Region\",\"Central Region\",\"Central Region\",\"Central Region\",\"Central Region\",\"Central Region\",\"Central Region\",\"Central Region\",\"Central Region\",\"Central Region\",\"Central Region\",\"Central Region\",\"Central Region\",\"Central Region\",\"Central Region\",\"Central Region\",\"Central Region\",\"Central Region\",\"Central Region\",\"Central Region\",\"Central Region\",\"Central Region\",\"Central Region\",\"Central Region\",\"Central Region\",\"Central Region\",\"Central Region\",\"Central Region\",\"Central Region\",\"Central Region\",\"Central Region\",\"Central Region\",\"Central Region\",\"Central Region\",\"Central Region\",\"Central Region\",\"Central Region\",\"Central Region\",\"Central Region\",\"Central Region\",\"Central Region\",\"Central Region\",\"Central Region\",\"Central Region\",\"Central Region\",\"Central Region\",\"Central Region\",\"Central Region\",\"Central Region\",\"Central Region\",\"Central Region\",\"Central Region\",\"Central Region\",\"Central Region\",\"Central Region\",\"Central Region\",\"Central Region\",\"Central Region\",\"Central Region\",\"Central Region\",\"Central Region\",\"Central Region\",\"Central Region\",\"Central Region\",\"Central Region\",\"Central Region\",\"Central Region\",\"Central Region\",\"Central Region\",\"Central Region\",\"Central Region\",\"Central Region\",\"Central Region\",\"Central Region\",\"Central Region\",\"Central Region\",\"Central Region\",\"Central Region\",\"Central Region\",\"Central Region\",\"Central Region\",\"Central Region\",\"Central Region\",\"Central Region\",\"Central Region\",\"Central Region\",\"Central Region\",\"Central Region\",\"Central Region\",\"Central Region\",\"Central Region\",\"Central Region\",\"Central Region\",\"Central Region\",\"Central Region\",\"Central Region\",\"Central Region\",\"Central Region\",\"Central Region\",\"Central Region\",\"Central Region\",\"Central Region\",\"Central Region\",\"Central Region\",\"Central Region\",\"Central Region\",\"Central Region\",\"Central Region\",\"Central Region\",\"Central Region\",\"Central Region\",\"Central Region\",\"Central Region\",\"Central Region\",\"Central Region\",\"Central Region\",\"Central Region\",\"Central Region\",\"Central Region\",\"Central Region\",\"Central Region\",\"Central Region\",\"Central Region\",\"Central Region\",\"Central Region\",\"Central Region\",\"Central Region\",\"Central Region\",\"Central Region\",\"Central Region\",\"Central Region\",\"Central Region\",\"Central Region\",\"Central Region\",\"Central Region\",\"Central Region\",\"Central Region\",\"Central Region\",\"Central Region\",\"Central Region\",\"Central Region\",\"Central Region\",\"Central Region\",\"Central Region\",\"Central Region\",\"Central Region\",\"Central Region\",\"Central Region\",\"Central Region\",\"Central Region\",\"Central Region\",\"Central Region\",\"Central Region\",\"Central Region\",\"Central Region\",\"Central Region\",\"Central Region\",\"Central Region\",\"Central Region\",\"Central Region\",\"Central Region\",\"Central Region\",\"Central Region\",\"Central Region\",\"Central Region\",\"Central Region\",\"Central Region\",\"Central Region\",\"Central Region\",\"Central Region\",\"Central Region\",\"Central Region\",\"Central Region\",\"Central Region\",\"Central Region\",\"Central Region\",\"Central Region\",\"Central Region\",\"Central Region\",\"Central Region\",\"Central Region\",\"Central Region\",\"Central Region\",\"Central Region\",\"Central Region\",\"Central Region\",\"Central Region\",\"Central Region\",\"Central Region\",\"Central Region\",\"Central Region\",\"Central Region\",\"Central Region\",\"Central Region\",\"Central Region\",\"Central Region\",\"Central Region\",\"Central Region\",\"Central Region\",\"Central Region\",\"Central Region\",\"Central Region\",\"Central Region\",\"Central Region\",\"Central Region\",\"Central Region\",\"Central Region\",\"Central Region\",\"Central Region\",\"Central Region\",\"Central Region\",\"Central Region\",\"Central Region\",\"Central Region\",\"Central Region\",\"Central Region\",\"Central Region\",\"Central Region\",\"Central Region\",\"Central Region\",\"Central Region\",\"Central Region\",\"Central Region\",\"Central Region\",\"Central Region\",\"Central Region\",\"Central Region\",\"Central Region\",\"Central Region\",\"Central Region\",\"Central Region\",\"Central Region\",\"Central Region\",\"Central Region\",\"Central Region\",\"Central Region\",\"Central Region\",\"Central Region\",\"Central Region\",\"Central Region\",\"Central Region\",\"Central Region\",\"Central Region\",\"Central Region\",\"Central Region\",\"Central Region\",\"Central Region\",\"Central Region\",\"Central Region\",\"Central Region\",\"Central Region\",\"Central Region\",\"Central Region\",\"Central Region\",\"Central Region\",\"Central Region\",\"Central Region\",\"Central Region\",\"Central Region\",\"Central Region\",\"Central Region\",\"Central Region\",\"Central Region\",\"Central Region\",\"Central Region\",\"Central Region\",\"Central Region\",\"Central Region\",\"Central Region\",\"Central Region\",\"Central Region\",\"Central Region\",\"Central Region\",\"Central Region\",\"Central Region\",\"Central Region\",\"Central Region\",\"Central Region\",\"Central Region\",\"Central Region\",\"Central Region\",\"Central Region\",\"Central Region\",\"Central Region\",\"Central Region\",\"Central Region\",\"Central Region\",\"Central Region\",\"Central Region\",\"Central Region\",\"Central Region\",\"Central Region\",\"Central Region\",\"Central Region\",\"Central Region\",\"Central Region\",\"Central Region\",\"Central Region\",\"Central Region\",\"Central Region\",\"Central Region\",\"Central Region\",\"Central Region\",\"Central Region\",\"Central Region\",\"Central Region\",\"Central Region\",\"Central Region\",\"Central Region\",\"Central Region\",\"Central Region\",\"Central Region\",\"Central Region\",\"Central Region\",\"Central Region\",\"Central Region\",\"Central Region\",\"Central Region\",\"Central Region\",\"Central Region\",\"Central Region\",\"Central Region\",\"Central Region\",\"Central Region\",\"Central Region\",\"Central Region\",\"Central Region\",\"Central Region\",\"Central Region\",\"Central Region\",\"Central Region\",\"Central Region\",\"Central Region\",\"Central Region\",\"Central Region\",\"Central Region\",\"Central Region\",\"Central Region\",\"Central Region\",\"Central Region\",\"Central Region\",\"Central Region\",\"Central Region\",\"Central Region\",\"Central Region\",\"Central Region\",\"Central Region\",\"Central Region\",\"Central Region\",\"Central Region\",\"Central Region\",\"Central Region\",\"Central Region\",\"Central Region\",\"Central Region\",\"Central Region\",\"Central Region\",\"Central Region\",\"Central Region\",\"Central Region\",\"Central Region\",\"Central Region\",\"Central Region\",\"Central Region\",\"Central Region\",\"Central Region\",\"Central Region\",\"Central Region\",\"Central Region\",\"Central Region\",\"Central Region\",\"Central Region\",\"Central Region\",\"Central Region\",\"Central Region\",\"Central Region\",\"Central Region\",\"Central Region\",\"Central Region\",\"Central Region\",\"Central Region\",\"Central Region\",\"Central Region\",\"Central Region\",\"Central Region\",\"Central Region\",\"Central Region\",\"Central Region\",\"Central Region\",\"Central Region\",\"Central Region\",\"Central Region\",\"Central Region\",\"Central Region\",\"Central Region\",\"Central Region\",\"Central Region\",\"Central Region\",\"Central Region\",\"Central Region\",\"Central Region\",\"Central Region\",\"Central Region\",\"Central Region\",\"Central Region\",\"Central Region\",\"Central Region\",\"Central Region\",\"Central Region\",\"Central Region\",\"Central Region\",\"Central Region\",\"Central Region\",\"Central Region\",\"Central Region\",\"Central Region\",\"Central Region\",\"Central Region\",\"Central Region\",\"Central Region\",\"Central Region\",\"Central Region\",\"Central Region\",\"Central Region\",\"Central Region\",\"Central Region\",\"Central Region\",\"Central Region\",\"Central Region\",\"Central Region\",\"Central Region\",\"Central Region\",\"Central Region\",\"Central Region\",\"Central Region\",\"Central Region\",\"Central Region\",\"Central Region\",\"Central Region\",\"Central Region\",\"Central Region\",\"Central Region\",\"Central Region\",\"Central Region\",\"Central Region\",\"Central Region\",\"Central Region\",\"Central Region\",\"Central Region\",\"Central Region\",\"Central Region\",\"Central Region\",\"Central Region\",\"Central Region\",\"Central Region\",\"Central Region\",\"Central Region\",\"Central Region\",\"Central Region\",\"Central Region\",\"Central Region\",\"Central Region\",\"Central Region\",\"Central Region\",\"Central Region\",\"Central Region\",\"Central Region\",\"Central Region\",\"Central Region\",\"Central Region\",\"Central Region\",\"Central Region\",\"Central Region\",\"Central Region\",\"Central Region\",\"Central Region\",\"Central Region\",\"Central Region\",\"Central Region\",\"Central Region\",\"Central Region\",\"Central Region\",\"Central Region\",\"Central Region\",\"Central Region\",\"Central Region\",\"Central Region\",\"Central Region\",\"Central Region\",\"Central Region\",\"Central Region\",\"Central Region\",\"Central Region\",\"Central Region\",\"Central Region\",\"Central Region\",\"Central Region\",\"Central Region\",\"Central Region\",\"Central Region\",\"Central Region\",\"Central Region\",\"Central Region\",\"Central Region\",\"Central Region\",\"Central Region\",\"Central Region\",\"Central Region\",\"Central Region\",\"Central Region\",\"Central Region\",\"Central Region\",\"Central Region\",\"Central Region\",\"Central Region\",\"Central Region\",\"Central Region\",\"Central Region\",\"Central Region\",\"Central Region\",\"Central Region\",\"Central Region\",\"Central Region\",\"Central Region\",\"Central Region\",\"Central Region\",\"Central Region\",\"Central Region\",\"Central Region\",\"Central Region\",\"Central Region\",\"Central Region\",\"Central Region\",\"Central Region\",\"Central Region\",\"Central Region\",\"Central Region\",\"Central Region\",\"Central Region\",\"Central Region\",\"Central Region\",\"Central Region\",\"Central Region\",\"Central Region\",\"Central Region\",\"Central Region\",\"Central Region\",\"Central Region\",\"Central Region\",\"Central Region\",\"Central Region\",\"Central Region\",\"Central Region\",\"Central Region\",\"Central Region\",\"Central Region\",\"Central Region\",\"Central Region\",\"Central Region\",\"Central Region\",\"Central Region\",\"Central Region\",\"Central Region\",\"Central Region\",\"Central Region\",\"Central Region\",\"Central Region\",\"Central Region\",\"Central Region\",\"Central Region\",\"Central Region\",\"Central Region\",\"Central Region\",\"Central Region\",\"Central Region\",\"Central Region\",\"Central Region\",\"Central Region\",\"Central Region\",\"Central Region\",\"Central Region\",\"Central Region\",\"Central Region\",\"Central Region\",\"Central Region\",\"Central Region\",\"Central Region\",\"Central Region\",\"Central Region\",\"Central Region\",\"Central Region\",\"Central Region\",\"Central Region\",\"Central Region\",\"Central Region\",\"Central Region\",\"Central Region\",\"Central Region\",\"Central Region\",\"Central Region\",\"Central Region\",\"Central Region\",\"Central Region\",\"Central Region\",\"Central Region\",\"Central Region\",\"Central Region\",\"Central Region\",\"Central Region\",\"Central Region\",\"Central Region\",\"Central Region\",\"Central Region\",\"Central Region\",\"Central Region\",\"Central Region\",\"Central Region\",\"Central Region\",\"Central Region\",\"Central Region\",\"Central Region\",\"Central Region\",\"Central Region\",\"Central Region\",\"Central Region\",\"Central Region\",\"Central Region\",\"Central Region\",\"Central Region\",\"Central Region\",\"Central Region\",\"Central Region\",\"Central Region\",\"Central Region\",\"Central Region\",\"Central Region\",\"Central Region\",\"Central Region\",\"Central Region\",\"Central Region\",\"Central Region\",\"Central Region\",\"Central Region\",\"Central Region\",\"Central Region\",\"Central Region\",\"Central Region\",\"Central Region\",\"Central Region\",\"Central Region\",\"Central Region\",\"Central Region\",\"Central Region\",\"Central Region\",\"Central Region\",\"Central Region\",\"Central Region\",\"Central Region\",\"Central Region\",\"Central Region\",\"Central Region\",\"Central Region\",\"Central Region\",\"Central Region\",\"Central Region\",\"Central Region\",\"Central Region\",\"Central Region\",\"Central Region\",\"Central Region\",\"Central Region\",\"Central Region\",\"Central Region\",\"Central Region\",\"Central Region\",\"Central Region\",\"Central Region\",\"Central Region\",\"Central Region\",\"Central Region\",\"Central Region\",\"Central Region\",\"Central Region\",\"Central Region\",\"Central Region\",\"Central Region\",\"Central Region\",\"Central Region\",\"Central Region\",\"Central Region\",\"Central Region\",\"Central Region\",\"Central Region\",\"Central Region\",\"Central Region\",\"Central Region\",\"Central Region\",\"Central Region\",\"Central Region\",\"Central Region\",\"Central Region\",\"Central Region\",\"Central Region\",\"Central Region\",\"Central Region\",\"Central Region\",\"Central Region\",\"Central Region\",\"Central Region\",\"Central Region\",\"Central Region\",\"Central Region\",\"Central Region\",\"Central Region\",\"Central Region\",\"Central Region\",\"Central Region\",\"Central Region\",\"Central Region\",\"Central Region\",\"Central Region\",\"Central Region\",\"Central Region\",\"Central Region\",\"Central Region\",\"Central Region\",\"Central Region\",\"Central Region\",\"Central Region\",\"Central Region\",\"Central Region\",\"Central Region\",\"Central Region\",\"Central Region\",\"Central Region\",\"Central Region\",\"Central Region\",\"Central Region\",\"Central Region\",\"Central Region\",\"Central Region\",\"Central Region\",\"Central Region\",\"Central Region\",\"Central Region\",\"Central Region\",\"Central Region\",\"Central Region\",\"Central Region\",\"Central Region\",\"Central Region\",\"Central Region\",\"Central Region\",\"Central Region\",\"Central Region\",\"Central Region\",\"Central Region\",\"Central Region\",\"Central Region\",\"Central Region\",\"Central Region\",\"Central Region\",\"Central Region\",\"Central Region\",\"Central Region\",\"Central Region\",\"Central Region\",\"Central Region\",\"Central Region\",\"Central Region\",\"Central Region\",\"Central Region\",\"Central Region\",\"Central Region\",\"Central Region\",\"Central Region\",\"Central Region\",\"Central Region\",\"Central Region\",\"Central Region\",\"Central Region\",\"Central Region\",\"Central Region\",\"Central Region\",\"Central Region\",\"Central Region\",\"Central Region\",\"Central Region\",\"Central Region\",\"Central Region\",\"Central Region\",\"Central Region\",\"Central Region\",\"Central Region\",\"Central Region\",\"Central Region\",\"Central Region\",\"Central Region\",\"Central Region\",\"Central Region\",\"Central Region\",\"Central Region\",\"Central Region\",\"Central Region\",\"Central Region\",\"Central Region\",\"Central Region\",\"Central Region\",\"Central Region\",\"Central Region\",\"Central Region\",\"Central Region\",\"Central Region\",\"Central Region\",\"Central Region\",\"Central Region\",\"Central Region\",\"Central Region\",\"Central Region\",\"Central Region\",\"Central Region\",\"Central Region\",\"Central Region\",\"Central Region\",\"Central Region\",\"Central Region\",\"Central Region\",\"Central Region\",\"Central Region\",\"Central Region\",\"Central Region\",\"Central Region\",\"Central Region\",\"Central Region\",\"Central Region\",\"Central Region\",\"Central Region\",\"Central Region\",\"Central Region\",\"Central Region\",\"Central Region\",\"Central Region\",\"Central Region\",\"Central Region\",\"Central Region\",\"Central Region\",\"Central Region\",\"Central Region\",\"Central Region\",\"Central Region\",\"Central Region\",\"Central Region\",\"Central Region\",\"Central Region\",\"Central Region\",\"Central Region\",\"Central Region\",\"Central Region\",\"Central Region\",\"Central Region\",\"Central Region\",\"Central Region\",\"Central Region\",\"Central Region\",\"Central Region\",\"Central Region\",\"Central Region\",\"Central Region\",\"Central Region\",\"Central Region\",\"Central Region\",\"Central Region\",\"Central Region\",\"Central Region\",\"Central Region\",\"Central Region\",\"Central Region\",\"Central Region\",\"Central Region\",\"Central Region\",\"Central Region\",\"Central Region\",\"Central Region\",\"Central Region\",\"Central Region\",\"Central Region\",\"Central Region\",\"Central Region\",\"Central Region\",\"Central Region\",\"Central Region\",\"Central Region\",\"Central Region\",\"Central Region\",\"Central Region\",\"Central Region\",\"Central Region\",\"Central Region\",\"Central Region\",\"Central Region\",\"Central Region\",\"Central Region\",\"Central Region\",\"Central Region\",\"Central Region\",\"Central Region\",\"Central Region\",\"Central Region\",\"Central Region\",\"Central Region\",\"Central Region\",\"Central Region\",\"Central Region\",\"Central Region\",\"Central Region\",\"Central Region\",\"Central Region\",\"Central Region\",\"Central Region\",\"Central Region\",\"Central Region\",\"Central Region\",\"Central Region\",\"Central Region\",\"Central Region\",\"Central Region\",\"Central Region\",\"Central Region\",\"Central Region\",\"Central Region\",\"Central Region\",\"Central Region\",\"Central Region\",\"Central Region\",\"Central Region\",\"Central Region\",\"Central Region\",\"Central Region\",\"Central Region\",\"Central Region\",\"Central Region\",\"Central Region\",\"Central Region\",\"Central Region\",\"Central Region\",\"Central Region\",\"Central Region\",\"Central Region\",\"Central Region\",\"Central Region\",\"Central Region\",\"Central Region\",\"Central Region\",\"Central Region\",\"Central Region\",\"Central Region\",\"Central Region\",\"Central Region\",\"Central Region\",\"Central Region\",\"Central Region\",\"Central Region\",\"Central Region\",\"Central Region\",\"Central Region\",\"Central Region\",\"Central Region\",\"Central Region\",\"Central Region\",\"Central Region\",\"Central Region\",\"Central Region\",\"Central Region\",\"Central Region\",\"Central Region\",\"Central Region\",\"Central Region\",\"Central Region\",\"Central Region\",\"Central Region\",\"Central Region\",\"Central Region\",\"Central Region\",\"Central Region\",\"Central Region\",\"Central Region\",\"Central Region\",\"Central Region\",\"Central Region\",\"Central Region\",\"Central Region\",\"Central Region\",\"Central Region\",\"Central Region\",\"Central Region\",\"Central Region\",\"Central Region\",\"Central Region\",\"Central Region\",\"Central Region\",\"Central Region\",\"Central Region\",\"Central Region\",\"Central Region\",\"Central Region\",\"Central Region\",\"Central Region\",\"Central Region\",\"Central Region\",\"Central Region\",\"Central Region\",\"Central Region\",\"Central Region\",\"Central Region\",\"Central Region\",\"Central Region\",\"Central Region\",\"Central Region\",\"Central Region\",\"Central Region\",\"Central Region\",\"Central Region\",\"Central Region\",\"Central Region\",\"Central Region\",\"Central Region\",\"Central Region\",\"Central Region\",\"Central Region\",\"Central Region\",\"Central Region\",\"Central Region\",\"Central Region\",\"Central Region\",\"Central Region\",\"Central Region\",\"Central Region\",\"Central Region\",\"Central Region\",\"Central Region\",\"Central Region\",\"Central Region\",\"Central Region\",\"Central Region\",\"Central Region\",\"Central Region\",\"Central Region\",\"Central Region\",\"Central Region\",\"Central Region\",\"Central Region\",\"Central Region\",\"Central Region\",\"Central Region\",\"Central Region\",\"Central Region\",\"Central Region\",\"Central Region\",\"Central Region\",\"Central Region\",\"Central Region\",\"Central Region\",\"Central Region\",\"Central Region\",\"Central Region\",\"Central Region\",\"Central Region\",\"Central Region\",\"Central Region\",\"Central Region\",\"Central Region\",\"Central Region\",\"Central Region\",\"Central Region\",\"Central Region\",\"Central Region\",\"Central Region\",\"Central Region\",\"Central Region\",\"Central Region\",\"Central Region\",\"Central Region\",\"Central Region\",\"Central Region\",\"Central Region\",\"Central Region\",\"Central Region\",\"Central Region\",\"Central Region\",\"Central Region\",\"Central Region\",\"Central Region\",\"Central Region\",\"Central Region\",\"Central Region\",\"Central Region\",\"Central Region\",\"Central Region\",\"Central Region\",\"Central Region\",\"Central Region\",\"Central Region\",\"Central Region\",\"Central Region\",\"Central Region\",\"Central Region\",\"Central Region\",\"Central Region\",\"Central Region\",\"Central Region\",\"Central Region\",\"Central Region\",\"Central Region\",\"Central Region\",\"Central Region\",\"Central Region\",\"Central Region\",\"Central Region\",\"Central Region\",\"Central Region\",\"Central Region\",\"Central Region\",\"Central Region\",\"Central Region\",\"Central Region\",\"Central Region\",\"Central Region\",\"Central Region\",\"Central Region\",\"Central Region\",\"Central Region\",\"Central Region\",\"Central Region\",\"Central Region\",\"Central Region\",\"Central Region\",\"Central Region\",\"Central Region\",\"Central Region\",\"Central Region\",\"Central Region\",\"Central Region\",\"Central Region\",\"Central Region\",\"Central Region\",\"Central Region\",\"Central Region\",\"Central Region\",\"Central Region\",\"Central Region\",\"Central Region\",\"Central Region\",\"Central Region\",\"Central Region\",\"Central Region\",\"Central Region\",\"Central Region\",\"Central Region\",\"Central Region\",\"Central Region\",\"Central Region\",\"Central Region\",\"Central Region\",\"Central Region\",\"Central Region\",\"Central Region\",\"Central Region\",\"Central Region\",\"Central Region\",\"Central Region\",\"Central Region\",\"Central Region\",\"Central Region\",\"Central Region\",\"Central Region\",\"Central Region\",\"Central Region\",\"Central Region\",\"Central Region\",\"Central Region\",\"Central Region\",\"Central Region\",\"Central Region\",\"Central Region\",\"Central Region\",\"Central Region\",\"Central Region\",\"Central Region\",\"Central Region\",\"Central Region\",\"Central Region\",\"Central Region\",\"Central Region\",\"Central Region\",\"Central Region\",\"Central Region\",\"Central Region\",\"Central Region\",\"Central Region\",\"Central Region\",\"Central Region\",\"Central Region\",\"Central Region\",\"Central Region\",\"Central Region\",\"Central Region\",\"Central Region\",\"Central Region\",\"Central Region\",\"Central Region\",\"Central Region\",\"Central Region\",\"Central Region\",\"Central Region\",\"Central Region\",\"Central Region\",\"Central Region\",\"Central Region\",\"Central Region\",\"Central Region\",\"Central Region\",\"Central Region\",\"Central Region\",\"Central Region\",\"Central Region\",\"Central Region\",\"Central Region\",\"Central Region\",\"Central Region\",\"Central Region\",\"Central Region\",\"Central Region\",\"Central Region\",\"Central Region\",\"Central Region\",\"Central Region\",\"Central Region\",\"Central Region\",\"Central Region\",\"Central Region\",\"Central Region\",\"Central Region\",\"Central Region\",\"Central Region\",\"Central Region\",\"Central Region\",\"Central Region\",\"Central Region\",\"Central Region\",\"Central Region\",\"Central Region\",\"Central Region\",\"Central Region\",\"Central Region\",\"Central Region\",\"Central Region\",\"Central Region\",\"Central Region\",\"Central Region\",\"Central Region\",\"Central Region\",\"Central Region\",\"Central Region\",\"Central Region\",\"Central Region\",\"Central Region\",\"Central Region\",\"Central Region\",\"Central Region\",\"Central Region\",\"Central Region\",\"Central Region\",\"Central Region\",\"Central Region\",\"Central Region\",\"Central Region\",\"Central Region\",\"Central Region\",\"Central Region\",\"Central Region\",\"Central Region\",\"Central Region\",\"Central Region\",\"Central Region\",\"Central Region\",\"Central Region\",\"Central Region\",\"Central Region\",\"Central Region\",\"Central Region\",\"Central Region\",\"Central Region\",\"Central Region\",\"Central Region\",\"Central Region\",\"Central Region\",\"Central Region\",\"Central Region\",\"Central Region\",\"Central Region\",\"Central Region\",\"Central Region\",\"Central Region\",\"Central Region\",\"Central Region\",\"Central Region\",\"Central Region\",\"Central Region\",\"Central Region\",\"Central Region\",\"Central Region\",\"Central Region\",\"Central Region\",\"Central Region\",\"Central Region\",\"Central Region\",\"Central Region\",\"Central Region\",\"Central Region\",\"Central Region\",\"Central Region\",\"Central Region\",\"Central Region\",\"Central Region\",\"Central Region\",\"Central Region\",\"Central Region\",\"Central Region\",\"Central Region\",\"Central Region\",\"Central Region\",\"Central Region\",\"Central Region\",\"Central Region\",\"Central Region\",\"Central Region\",\"Central Region\",\"Central Region\",\"Central Region\",\"Central Region\",\"Central Region\",\"Central Region\",\"Central Region\",\"Central Region\",\"Central Region\",\"Central Region\",\"Central Region\",\"Central Region\",\"Central Region\",\"Central Region\",\"Central Region\",\"Central Region\",\"Central Region\",\"Central Region\",\"Central Region\",\"Central Region\",\"Central Region\",\"Central Region\",\"Central Region\",\"Central Region\",\"Central Region\",\"Central Region\",\"Central Region\",\"Central Region\",\"Central Region\",\"Central Region\",\"Central Region\",\"Central Region\",\"Central Region\",\"Central Region\",\"Central Region\",\"Central Region\",\"Central Region\",\"Central Region\",\"Central Region\",\"Central Region\",\"Central Region\",\"Central Region\",\"Central Region\",\"Central Region\",\"Central Region\",\"Central Region\",\"Central Region\",\"Central Region\",\"Central Region\",\"Central Region\",\"Central Region\",\"Central Region\",\"Central Region\",\"Central Region\",\"Central Region\",\"Central Region\",\"Central Region\",\"Central Region\",\"Central Region\",\"Central Region\",\"Central Region\",\"Central Region\",\"Central Region\",\"Central Region\",\"Central Region\",\"Central Region\",\"Central Region\",\"Central Region\",\"Central Region\",\"Central Region\",\"Central Region\",\"Central Region\",\"Central Region\",\"Central Region\",\"Central Region\",\"Central Region\",\"Central Region\",\"Central Region\",\"Central Region\",\"Central Region\",\"Central Region\",\"Central Region\",\"Central Region\",\"Central Region\",\"Central Region\",\"Central Region\",\"Central Region\",\"Central Region\",\"Central Region\",\"Central Region\",\"Central Region\",\"Central Region\",\"Central Region\",\"Central Region\",\"Central Region\",\"Central Region\",\"Central Region\",\"Central Region\",\"Central Region\",\"Central Region\",\"Central Region\",\"Central Region\",\"Central Region\",\"Central Region\",\"Central Region\",\"Central Region\",\"Central Region\",\"Central Region\",\"Central Region\",\"Central Region\",\"Central Region\",\"Central Region\",\"Central Region\",\"Central Region\",\"Central Region\",\"Central Region\",\"Central Region\",\"Central Region\",\"Central Region\",\"Central Region\",\"Central Region\",\"Central Region\",\"Central Region\",\"Central Region\",\"Central Region\",\"Central Region\",\"Central Region\",\"Central Region\",\"Central Region\",\"Central Region\",\"Central Region\",\"Central Region\",\"Central Region\",\"Central Region\",\"Central Region\",\"Central Region\",\"Central Region\",\"Central Region\",\"Central Region\",\"Central Region\",\"Central Region\",\"Central Region\",\"Central Region\",\"Central Region\",\"Central Region\",\"Central Region\",\"Central Region\",\"Central Region\",\"Central Region\",\"Central Region\",\"Central Region\",\"Central Region\",\"Central Region\",\"Central Region\",\"Central Region\",\"Central Region\",\"Central Region\",\"Central Region\",\"Central Region\",\"Central Region\",\"Central Region\",\"Central Region\",\"Central Region\",\"Central Region\",\"Central Region\",\"Central Region\",\"Central Region\",\"Central Region\",\"Central Region\",\"Central Region\",\"Central Region\",\"Central Region\",\"Central Region\",\"Central Region\",\"Central Region\",\"Central Region\",\"Central Region\",\"Central Region\",\"Central Region\",\"Central Region\",\"Central Region\",\"Central Region\",\"Central Region\",\"Central Region\",\"Central Region\",\"Central Region\",\"Central Region\",\"Central Region\",\"Central Region\",\"Central Region\",\"Central Region\",\"Central Region\",\"Central Region\",\"Central Region\",\"Central Region\",\"Central Region\",\"Central Region\",\"Central Region\",\"Central Region\",\"Central Region\",\"Central Region\",\"Central Region\",\"Central Region\",\"Central Region\",\"Central Region\",\"Central Region\",\"Central Region\",\"Central Region\",\"Central Region\",\"Central Region\",\"Central Region\",\"Central Region\",\"Central Region\",\"Central Region\",\"Central Region\",\"Central Region\",\"Central Region\",\"Central Region\",\"Central Region\",\"Central Region\",\"Central Region\",\"Central Region\",\"Central Region\",\"Central Region\",\"Central Region\",\"Central Region\",\"Central Region\",\"Central Region\",\"Central Region\",\"Central Region\",\"Central Region\",\"Central Region\",\"Central Region\",\"Central Region\",\"Central Region\",\"Central Region\",\"Central Region\",\"Central Region\",\"Central Region\",\"Central Region\",\"Central Region\",\"Central Region\",\"Central Region\",\"Central Region\",\"Central Region\",\"Central Region\",\"Central Region\",\"Central Region\",\"Central Region\",\"Central Region\",\"Central Region\",\"Central Region\",\"Central Region\",\"Central Region\",\"Central Region\",\"Central Region\",\"Central Region\",\"Central Region\",\"Central Region\",\"Central Region\",\"Central Region\",\"Central Region\",\"Central Region\",\"Central Region\",\"Central Region\",\"Central Region\",\"Central Region\",\"Central Region\",\"Central Region\",\"Central Region\",\"Central Region\",\"Central Region\",\"Central Region\",\"Central Region\",\"Central Region\",\"Central Region\",\"Central Region\",\"Central Region\",\"Central Region\",\"Central Region\",\"Central Region\",\"Central Region\",\"Central Region\",\"Central Region\",\"Central Region\",\"Central Region\",\"Central Region\",\"Central Region\",\"Central Region\",\"Central Region\",\"Central Region\",\"Central Region\",\"Central Region\",\"Central Region\",\"Central Region\",\"Central Region\",\"Central Region\",\"Central Region\",\"Central Region\",\"Central Region\",\"Central Region\",\"Central Region\",\"Central Region\",\"Central Region\",\"Central Region\",\"Central Region\",\"Central Region\",\"Central Region\",\"Central Region\",\"Central Region\",\"Central Region\",\"Central Region\",\"Central Region\",\"Central Region\",\"Central Region\",\"Central Region\",\"Central Region\",\"Central Region\",\"Central Region\",\"Central Region\",\"Central Region\",\"Central Region\",\"Central Region\",\"Central Region\",\"Central Region\",\"Central Region\",\"Central Region\",\"Central Region\",\"Central Region\",\"Central Region\",\"Central Region\",\"Central Region\",\"Central Region\",\"Central Region\",\"Central Region\",\"Central Region\",\"Central Region\",\"Central Region\",\"Central Region\",\"Central Region\",\"Central Region\",\"Central Region\",\"Central Region\",\"Central Region\",\"Central Region\",\"Central Region\",\"Central Region\",\"Central Region\",\"Central Region\",\"Central Region\",\"Central Region\",\"Central Region\",\"Central Region\",\"Central Region\",\"Central Region\",\"Central Region\",\"Central Region\",\"Central Region\",\"Central Region\",\"Central Region\",\"Central Region\",\"Central Region\",\"Central Region\",\"Central Region\",\"Central Region\",\"Central Region\",\"Central Region\",\"Central Region\",\"Central Region\",\"Central Region\",\"Central Region\",\"Central Region\",\"Central Region\",\"Central Region\",\"Central Region\",\"Central Region\",\"Central Region\",\"Central Region\",\"Central Region\",\"Central Region\",\"Central Region\",\"Central Region\",\"Central Region\",\"Central Region\",\"Central Region\",\"Central Region\",\"Central Region\",\"Central Region\",\"Central Region\",\"Central Region\",\"Central Region\",\"Central Region\",\"Central Region\",\"Central Region\",\"Central Region\",\"Central Region\",\"Central Region\",\"Central Region\",\"Central Region\",\"Central Region\",\"Central Region\",\"Central Region\",\"Central Region\",\"Central Region\",\"Central Region\",\"Central Region\"],\"lat\":[1.35349,1.36628,1.35725,1.35751,1.35791,1.35254,1.36298,1.3533,1.35789,1.35222,1.35209,1.35297,1.34622,1.34377,1.35872,1.36087,1.35965,1.35148,1.35409,1.35385,1.35346,1.34837,1.34691,1.35246,1.3588091,1.3529103552615394,1.352236144063582,1.28836,1.28828,1.28652,1.28636,1.29065,1.27716,1.28366,1.27619,1.27626,1.2744,1.27513,1.28549,1.27329,1.28386,1.2652,1.27475,1.27749,1.28051,1.28456,1.28273,1.28443,1.28443,1.28443,1.28443,1.28426,1.28461,1.2846,1.28443,1.28429,1.28443,1.28414,1.28434,1.28438,1.28412,1.28404,1.28451,1.28405,1.28428,1.28436,1.28983,1.28559,1.2836,1.28612,1.2844,1.28471,1.28389,1.28584,1.28426,1.28454,1.28549,1.29104,1.26586,1.28456,1.28456,1.28355,1.28456,1.26705,1.267,1.27427,1.27427,1.28171,1.27427,1.28302,1.27222,1.27536,1.2758,1.2907,1.27317,1.27368,1.27228,1.27386,1.27437,1.27229,1.27399,1.27219,1.28432,1.27454,1.28387,1.27292,1.27475,1.28656,1.27454,1.27233,1.27407,1.27504,1.27455,1.27483,1.27286,1.28338,1.27497,1.27484,1.27396,1.27489,1.27489,1.27395,1.27209,1.27286,1.27454,1.28378,1.28508,1.28428,1.27311,1.28542,1.27341,1.27498,1.28471,1.28332,1.28367,1.26611,1.2735,1.2745,1.28984,1.29078,1.29044,1.27928,1.29304,1.28522,1.28648,1.28668,1.28509,1.29043,1.2909,1.28918,1.28896,1.29049,1.2907,1.29057,1.2850454,1.2842085684018127,1.284666758972146,1.284662968708592,1.2836629420920187,1.2666222039019843,1.284559452654546,1.283989578705699,1.284429448804044,1.2860778115791205,1.2844023126397797,1.2862177649978204,1.284244767032635,1.33432,1.30938,1.31262,1.31269,1.31132,1.31107,1.34507,1.33051,1.33916,1.31244,1.31284,1.30961,1.34401,1.33463,1.34228,1.31084,1.31072,1.31078,1.3128,1.3338,1.3112,1.34197,1.33984,1.33957,1.34023,1.31292,1.31573,1.33678,1.34126,1.34129,1.33278,1.33121,1.325,1.32227,1.3212402,1.31981,1.27663,1.27585,1.27525,1.29489,1.28191,1.29694,1.28039,1.28002,1.28146,1.28202,1.28172,1.2802,1.28199,1.29673,1.28535,1.28775,1.29672,1.28019,1.28164,1.2813,1.28028,1.28169,1.28205,1.28038,1.27872,1.275,1.27526,1.28341,1.28146,1.27343,1.28918,1.29649,1.29649,1.27361,1.28142,1.28143,1.28203,1.28065,1.28116,1.28039,1.28205,1.28622,1.28484,1.28875,1.28525,1.30041,1.30041,1.27988,1.27394,1.28206,1.27424,1.27831,1.30087,1.2961,1.29745,1.2969,1.27303,1.28176,1.28203,1.28164,1.28026,1.27972,1.28024,1.28033,1.2801,1.28131,1.28165,1.28173,1.28209,1.28067,1.28,1.27317,1.28144,1.27335,1.27363,1.27976,1.2815,1.28191,1.27976,1.28141,1.27485,1.28144,1.27789,1.28182,1.28167,1.27959,1.2734,1.28192,1.27383,1.28197,1.28065,1.27316,1.27499,1.28976,1.28864,1.29057,1.28072,1.28906,1.28138,1.27338,1.27384,1.27391,1.28155,1.28008,1.28044,1.28956,1.27316,1.27634,1.2799,1.28021,1.29979,1.28216,1.2823,1.2738,1.2805,1.28165,1.27549,1.27548,1.29795,1.29647,1.29656,1.29838,1.27528,1.27501,1.27989,1.27432,1.2733,1.274,1.27565,1.27554,1.27599,1.27477,1.27924,1.27328,1.27878,1.27567,1.2967,1.29658,1.27459,1.27394,1.27547,1.27638,1.27767,1.28548,1.2738,1.27901,1.2731,1.29648,1.29827,1.29635,1.28091,1.27637,1.2802,1.28152,1.298,1.29628,1.29849,1.29823,1.29674,1.27829,1.28298,1.28172,1.28363,1.27773,1.2961,1.2962,1.27469,1.28097,1.29553,1.28237,1.27518,1.27375,1.27413,1.28142,1.27433,1.27793,1.28101,1.280867,1.27751,1.27567,1.27325,1.30055,1.29714,1.27757,1.27766,1.28159,1.27782,1.28149,1.27743,1.282128,1.30128,1.30081,1.29835,1.2984,1.27836,1.27649,1.3015,1.30169,1.30086,1.30167,1.27825,1.27968,1.28152,1.28245,1.28291,1.28245,1.28328,1.28147,1.2849,1.28339,1.28146,1.28161,1.28245,1.28245,1.28245,1.28131,1.28245,1.28175,1.285,1.27336,1.2753,1.283671,1.28179,1.28422,1.28322,1.2828604465911215,1.28158,1.28437,1.27599,1.2747254015690903,1.2745402799857175,1.27402,1.2824499,1.2814390349343268,1.285477921929144,1.282217625619193,1.2849268288358908,1.28495,1.2773465,1.2812772067136422,1.2817968254118144,1.281892933895941,1.2816329525508476,1.2795839,1.284619481913345,1.2909566142071491,1.2825612886719882,1.2811649536305505,1.2803958360786474,1.2838174868155994,1.2808512,1.282637452596422,1.2974421799646805,1.2968928694301645,1.2973293340199217,1.283045956607974,1.2990128421465954,1.2831600854127891,1.297881128418724,1.297755054238218,1.2975668464474144,1.2800771159273348,1.2812674025751896,1.28214551868361,1.2796094447835022,1.2832478485151348,1.2844674526101303,1.2821459967704167,1.2819598861501298,1.2820653505180863,1.31612,1.3111,1.31315,1.32874,1.31697,1.3149,1.31461,1.31334,1.31457,1.31395,1.31226,1.31363,1.31106,1.33007,1.32893,1.3157,1.31846,1.31398,1.31361,1.31552,1.31548,1.3147,1.31522,1.31314,1.31184,1.30944,1.3147,1.31541,1.31539,1.31655,1.3147,1.31563,1.31496,1.31353,1.31159,1.31475,1.32013,1.31222,1.31322,1.31214,1.31233,1.3147,1.31064,1.3111,1.31226,1.3147,1.31418,1.31434,1.3147,1.31534,1.31103,1.31129,1.3147,1.31489,1.3149,1.3147,1.31453,1.31334,1.31144,1.32029,1.31287,1.31534,1.31095,1.32231,1.31473,1.3147,1.31473,1.31473,1.3147,1.31473,1.3147,1.30991,1.31393,1.33036,1.31499,1.31261,1.31275,1.30968,1.30987,1.3147,1.3147,1.31566,1.31588,1.3147,1.3147,1.3147,1.31623,1.31249,1.30974,1.31283,1.3147,1.32001,1.3155,1.31335,1.3117,1.31309,1.3147,1.31081,1.31237,1.31399,1.31648,1.31854,1.31531,1.31683,1.31586,1.31433,1.31633,1.31559,1.31305,1.31713,1.31526,1.31144,1.31368,1.31473,1.31162,1.31583,1.31447,1.31389,1.31318,1.32005,1.31263,1.31496,1.31591,1.31784,1.31809,1.31981,1.31794,1.31814,1.3212,1.313119528212298,1.31417,1.313643,1.31219,1.31348,1.31208,1.31443,1.3148128,1.315123724849338,1.3153703824775531,1.3148128,1.3148128,1.3148128,1.3138483742976763,1.322907147704617,1.322391065886476,1.3120474410123326,1.3206426665386883,1.3102073922667083,1.3092,1.31208,1.30663,1.31322,1.3072,1.31108,1.3117,1.3117,1.3117,1.31117,1.31179,1.30778,1.31288,1.30793,1.3171,1.30933,1.31486,1.31642,1.31099,1.3124,1.31011,1.32614,1.31519,1.3073,1.30751,1.31555,1.31271,1.31372,1.30743,1.30928,1.3075,1.30627,1.30803,1.31131,1.31147,1.3117,1.31458,1.30959,1.30975,1.31106,1.31103,1.31161,1.30976,1.31017,1.31689,1.31166,1.31324,1.31339,1.31331,1.31277,1.31318,1.31239,1.31163,1.3114,1.31117,1.31155,1.31134,1.31114,1.31129,1.31114,1.31114,1.31114,1.31114,1.31255,1.29896,1.31027,1.31005,1.31005,1.31005,1.31005,1.31005,1.31005,1.31005,1.31005,1.31005,1.31005,1.3117,1.30902,1.31289,1.31338,1.31261,1.31124,1.31001,1.30805,1.31297,1.31053,1.30983,1.31348,1.3085,1.31212,1.3093,1.31165,1.31215,1.31188,1.31005,1.31721,1.31044,1.31114,1.30768,1.3117,1.3117,1.3117,1.30747,1.31402,1.31264,1.3098,1.31185,1.31005,1.31232,1.31352,1.30784,1.30834,1.3095,1.30885,1.31157,1.30957,1.31358,1.31341,1.30825,1.31131,1.30858,1.30983,1.31112,1.31633,1.30791,1.31021,1.30922,1.31219,1.31141,1.30852,1.30895,1.3097,1.31351,1.31263,1.3101,1.29951,1.29951,1.31249,1.30957,1.31183,1.31083,1.30936,1.30736,1.31049,1.30979,1.29811,1.31388,1.3145,1.31247,1.30878,1.3106,1.31009,1.30907,1.31088,1.31297,1.31213,1.31804,1.31147,1.31064,1.31128,1.31068,1.31083,1.31512,1.31343,1.3091,1.31157,1.31154,1.31108,1.31147,1.31128,1.31166,1.31096,1.30964,1.30059,1.30862,1.30972,1.31139,1.31181,1.31128,1.31135,1.30887,1.3096,1.30973,1.30821,1.29966,1.31029,1.31209,1.31229,1.31078,1.29848,1.31158,1.31046,1.31103,1.3028,1.31188,1.31516,1.31397,1.29872,1.3104,1.31023,1.3203,1.31096,1.31232,1.32217,1.31068,1.32045,1.31098,1.30834,1.3101,1.31181,1.31006,1.31144,1.31017,1.3142,1.3109,1.30971,1.31167,1.31691,1.31055,1.31477,1.32793,1.31736,1.31117,1.3029,1.31878,1.30286,1.30302,1.3032,1.31675,1.31045,1.31114,1.31101,1.31068,1.31068,1.3119,1.31579,1.31688,1.31713,1.31158,1.29986,1.29914,1.3097,1.30959,1.31665,1.31641,1.30953,1.30973,1.30968,1.3109,1.30965,1.32206,1.31403,1.32828,1.31131,1.31234,1.31212,1.31017,1.3118,1.31042,1.31159,1.3116,1.30996,1.3127,1.31006,1.3125,1.30059,1.3119,1.32201,1.31053,1.30963,1.31161,1.30322,1.31428,1.30966,1.30968,1.31121,1.29859,1.30845,1.31276,1.31135,1.31033,1.30347,1.32137,1.31424,1.315,1.31373,1.31374,1.31042,1.31009,1.31109,1.3145,1.30006,1.31193,1.3277,1.30053,1.31219,1.31158,1.31274,1.31569,1.31267,1.31074,1.31331,1.30956,1.3115,1.31822,1.3005,1.31798,1.30965,1.31293,1.31189,1.31877,1.31259,1.31273,1.31564,1.32168,1.32001,1.30341,1.3115,1.31288,1.3111,1.29896,1.30006,1.31122,1.29876,1.31391,1.31584,1.31618,1.30939,1.31462,1.30261,1.317613,1.31562,1.3127557410193067,1.312263730621241,1.3231386240564431,1.3128534297263186,1.309502198005393,1.3117441,1.3117441,1.3128536910009507,1.31134,1.3117441,1.3084608152501855,1.3125705687886586,1.3109484744388302,1.310982634536298,1.28322,1.28284,1.28359,1.2784193510925688,1.2782687587017836,1.278346046859261,1.2783339659926565,1.2834216540491528,1.30634,1.2983,1.30587,1.30928,1.29934,1.29697,1.30508,1.31112,1.30674,1.31011,1.29817,1.3055,1.30515,1.30059,1.30082,1.30056,1.3072,1.30567,1.31109,1.30017,1.30276,1.30744,1.30556,1.299569,1.29973,1.29955,1.29806,1.29518,1.29629,1.29615,1.29453,1.29922,1.29735,1.299638,1.29873,1.29332,1.30031,1.31142,1.31144,1.31129,1.30933,1.31268,1.3114,1.30641,1.30447,1.30571,1.31001,1.30825,1.30418,1.30236,1.30372,1.30562,1.30379,1.30606,1.30371,1.30372,1.30487,1.30493,1.31034,1.30751,1.31055,1.30859,1.31047,1.30596,1.30696,1.30696,1.31149,1.3048,1.31051,1.30858,1.30617,1.30449,1.30642,1.31472,1.30456,1.30854,1.30871,1.30475,1.312039,1.30478,1.305113651394577,1.3029948,1.3029948,1.3086164578422068,1.3018163590754626,1.3079207106063386,1.33389,1.32453,1.32485,1.31546,1.3174,1.31778,1.32515,1.32419,1.32205,1.31656,1.32334,1.32152,1.31735,1.324,1.32157,1.32826,1.32257,1.31234,1.32796,1.32449,1.32699,1.32165,1.32161,1.32528,1.31512,1.31806,1.32158,1.31416,1.31669,1.31623,1.31505,1.31681,1.32883,1.32706,1.32632,1.32621,1.32899,1.31439,1.3245,1.32703,1.32786,1.3269,1.32253,1.31864,1.31932,1.3252,1.31603,1.32878,1.31875,1.32645,1.3245,1.32599,1.32449,1.32585,1.32645,1.32441,1.32781,1.31514,1.32204,1.31989,1.32631,1.32449,1.32354,1.32813,1.31994,1.32655,1.32031,1.31831,1.32805,1.3172,1.31774,1.3178,1.31709,1.31664,1.3186,1.31825,1.31733,1.32899,1.31324,1.31405,1.31681,1.31714,1.32137,1.31661,1.32071,1.32017,1.32417,1.31889,1.3174,1.31755,1.31937,1.31756,1.32535,1.3255,1.32557,1.32339,1.32513,1.32013,1.32004,1.32005,1.32606,1.32414,1.32563,1.32585,1.31763,1.318528,1.318528,1.3178,1.31734,1.31921,1.318528,1.31867,1.31781,1.31761,1.318528,1.318528,1.3196,1.31758,1.31954,1.318528,1.318528,1.318528,1.32525,1.318528,1.31716,1.318528,1.318528,1.32629,1.318528,1.31853,1.318528,1.318528,1.318528,1.318528,1.31705,1.31885,1.318524,1.318524,1.318524,1.318524,1.31878,1.31829,1.32647,1.31898,1.3172,1.318524,1.318524,1.31815,1.3183,1.32641,1.31684,1.318524,1.31896,1.31945,1.31521,1.32391,1.32546,1.31749,1.318524,1.32429,1.32615,1.31903,1.32026,1.32196,1.31638,1.32481,1.32396,1.32396,1.32396,1.3253072,1.324068750170831,1.3168076593550035,1.3215313,1.327285827067126,1.31886,1.3157676,1.325513035568159,1.3185236,1.3272054,1.317474623629936,1.322842131654643,1.30085,1.30081,1.29899,1.30411,1.30411,1.30411,1.30411,1.30411,1.30411,1.29892,1.29907,1.30411,1.30411,1.30435,1.30442,1.30252,1.30447,1.30243,1.30253,1.3006,1.30282,1.29882,1.29917,1.30277,1.3035,1.3022,1.30364,1.30062,1.29865,1.30819,1.30644,1.30818,1.3004,1.30034,1.30627,1.30011,1.29999,1.30754,1.3006,1.30056,1.30047,1.30065,1.30288,1.30454,1.30457,1.30124,1.30283,1.30109,1.30272,1.2992,1.30071,1.3022,1.30044,1.30045,1.3004,1.30191,1.29937,1.3058,1.30075,1.30248,1.30109,1.30044,1.3031,1.3081856864813244,1.30576869140814,1.2841,1.28485,1.28458,1.28386,1.2841,1.28405,1.28405,1.28405,1.28466,1.28424,1.28497,1.28172,1.28268,1.283,1.28135,1.28511,1.28563,1.27428,1.2841,1.28313,1.28393,1.28276,1.2832,1.28488,1.28543,1.284,1.28184,1.28215,1.28213,1.28567,1.28499,1.28379,1.28338,1.28382,1.2841,1.28359,1.27703,1.28156,1.28243,1.283,1.2841,1.2833,1.28373,1.28489,1.28489,1.28299,1.28498,1.28336,1.28482,1.27731,1.28242,1.27719,1.28483,1.28484,1.283,1.2846,1.2848,1.28304,1.28412,1.28471,1.28449,1.28449,1.28379,1.28449,1.27575,1.28449,1.28449,1.28449,1.28539,1.2842,1.28347,1.28372,1.28486,1.2842,1.28417,1.28495,1.2842,1.28341,1.285,1.28448,1.28312,1.28256,1.2842,1.28335,1.28163,1.28501,1.28412,1.28211,1.28277,1.28309,1.28254,1.28324,1.28231,1.28211,1.28297,1.2824,1.2842,1.27564,1.28502,1.28299,1.28299,1.28392,1.28234,1.28299,1.2842,1.2842,1.28518,1.28467,1.2842,1.28302,1.28529,1.28187,1.28509,1.28183,1.28132,1.28173,1.28509,1.28469,1.28302,1.2842,1.28359,1.28379,1.28529,1.2841,1.2841,1.2841,1.28196,1.2836,1.28152,1.28155,1.28239,1.2834,1.28351,1.28534,1.2841,1.2841,1.28305,1.28741,1.28513,1.28352,1.28313,1.28155,1.28315,1.28199,1.28396,1.28038,1.28038,1.28146,1.28152,1.27537,1.28043,1.27585,1.2777,1.27943,1.28263,1.28469,1.28516,1.28107,1.2795,1.27752,1.27933,1.2813,1.28267,1.28283,1.2808,1.28303,1.28216,1.28207,1.27919,1.27587,1.27588,1.2755,1.28512,1.28257,1.28458,1.27477,1.28172,1.27634,1.28465,1.28421,1.2832498656945304,1.2816567654594415,1.282097917642521,1.2815104041130565,1.2832688723519532,1.28147,1.28183,1.283096733653474,1.281567525719161,1.2820503993642345,1.2811517774896948,1.2813882520356683,1.282957594213667,1.2834415217846415,1.2830519338675608,1.2812791853867431,1.27490067166793,1.2830352905345008,1.282126584435376,1.2818674148455271,1.2821929346905685,1.2818250643251277,1.2837900115263297,1.2826499255069166,1.2826499255069166,1.2826499255069166,1.2826499255069166,1.2826499255069166,1.2821859259613126,1.28265,1.2816801349195428,1.2821306578161205,1.2826499255069166,1.28175,1.281540823378922,1.2834203152883294,1.2816390470476404,1.2837523164682567,1.281667677013734,1.2834981823551694,1.28293,1.281028461978226,1.2808428541583217,1.2821661439329928,1.282649925930471,1.282649925930471,1.282649925930471,1.2808715108915572,1.2808225686628565,1.2804889670197277,1.2816810110277816,1.28539,1.2803786722902455,1.2825561487162396,1.2815564127775054,1.282049908712101,1.2838921813172155,1.2820432870337382,1.2763559745276745,1.28353007548526,1.30692,1.2805,1.30613,1.30423,1.28843,1.28872,1.28686,1.28783,1.2814,1.31248,1.28073,1.28049,1.28134,1.30285,1.29934,1.29759,1.29828,1.2803,1.27805,1.30767,1.27941,1.2795,1.28684,1.28019,1.2789,1.30462,1.28075,1.30153,1.27942,1.27957,1.28111,1.30376,1.29303,1.28,1.28137,1.28142,1.28028,1.28116,1.29179,1.28043,1.27939,1.2797,1.27891,1.28136,1.28157,1.29226,1.30341,1.27936,1.29022,1.30185,1.28142,1.28116,1.27947,1.2793,1.28001,1.2818,1.28129,1.29191,1.27864,1.29047,1.29702,1.30482,1.29204,1.28018,1.30824,1.29432,1.29232,1.304676490620552,1.29303,1.29323,1.30124,1.28174,1.27956,1.27967,1.28147,1.28125,1.28114,1.28187,1.28147,1.28127,1.2796,1.28165,1.28156,1.28153,1.28152,1.28098,1.27971,1.27987,1.27991,1.29194,1.29196,1.29133,1.28401,1.2837,1.2823,1.29321,1.27757,1.29535,1.28698,1.28038,1.3041,1.30448,1.29698,1.29547,1.29662,1.29687,1.30165,1.29021,1.28536,1.29231,1.29152,1.29575,1.2999,1.30206,1.27971,1.29509,1.2824,1.29346,1.296,1.28048,1.29978,1.29582,1.29397,1.27927,1.30151,1.29197,1.28021,1.29225,1.29168,1.300727,1.29862,1.29905,1.300834,1.27128,1.27126,1.27016,1.27014,1.26995,1.27016,1.27902,1.30431,1.28058,1.2922,1.29187,1.27004,1.30478,1.28035,1.27849,1.29664,1.29669,1.30325,1.28049,1.29848,1.29864,1.3040607337428574,1.3041603563857431,1.3063865395035883,1.2925688544291014,1.292574467676037,1.2916821,1.2916821,1.2931364,1.306383453182531,1.2807922902746955,1.3036245,1.2818673429618836,1.2800871302258563,1.2815799434757584,1.2789854549114368,1.2813267182713808,1.2799228923834889,1.2816936792478335,1.2809936738577576,1.2811981391907594,1.28151580674285,1.29335,1.29245,1.296265,1.296265,1.29732,1.29719,1.29685,1.29755,1.29699,1.29846,1.29617,1.29765,1.29514,1.29867,1.29574,1.297,1.29776,1.30212,1.2986,1.29682,1.29545,1.299,1.2958,1.29283,1.29311,1.30199,1.29417,1.29544,1.29828,1.30268,1.29869,1.29912,1.30062,1.29593,1.30244,1.29452,1.29746,1.29762,1.30065,1.30178,1.2984,1.29529,1.2951,1.29433,1.29302,1.30111,1.29861,1.29673,1.296,1.29651,1.29617,1.29656,1.29466,1.29666,1.29671,1.2984,1.29557,1.29247,1.29191,1.29197,1.29225,1.2958,1.29682,1.30431,1.30442,1.30412,1.30406,1.29649,1.29632,1.29459,1.29277,1.29334,1.29854,1.29915,1.29857,1.30179,1.29874,1.29677,1.2948,1.29674,1.29615,1.29581,1.29478,1.29466,1.29673,1.2962,1.29528,1.29458,1.29636,1.29488,1.2966,1.29598,1.296,1.29502,1.29661,1.29667,1.29463,1.29661,1.2947,1.29644,1.29538,1.29494,1.29664,1.29464,1.29472,1.29615,1.29653,1.29627,1.29662,1.29656,1.29487,1.29473,1.29589,1.29337,1.29439,1.29908,1.29663,1.2965962616988946,1.295310654453104,1.2946074788251505,1.29601,1.296103238364594,1.2948432998665385,1.29715,1.2928154359509303,1.29646,1.2944,1.2961077832308674,1.296736901346336,1.2935635561834216,1.2943600077877142,1.296426555109553,1.2964312677588965,1.30096,1.3004,1.30358,1.30153,1.30389,1.30356,1.30394,1.30345,1.3055,1.30362,1.30479,1.30565,1.30563,1.30362,1.30424,1.31082,1.30409,1.30429,1.30442,1.30242,1.30427,1.30775,1.29803,1.30112,1.30724,1.30477,1.30103,1.30161,1.3011,1.29818,1.30029,1.30017,1.30398,1.29819,1.29773,1.29801,1.29806,1.30957,1.30288,1.30264,1.30309,1.30331,1.30181,1.30065,1.30217,1.3017,1.30197,1.30183,1.30142,1.30098,1.30025,1.30314,1.30183,1.31097,1.30954,1.30287,1.30469,1.30213,1.30169,1.3055,1.30064,1.30124,1.3111,1.31072,1.30091,1.30715,1.30909,1.30353,1.30326,1.3042,1.30636,1.30619,1.30464,1.30418,1.30422,1.3049,1.29906,1.3052,1.30488,1.3013,1.3045,1.30342,1.30488,1.30329,1.30442,1.30303,1.30456,1.30457,1.30507,1.3014,1.29919,1.30129,1.30196,1.3011,1.30868,1.30599,1.30602,1.30583,1.30056,1.30297,1.30118,1.30179,1.30338,1.30295,1.3014,1.30946,1.3058,1.30607,1.30175,1.30192,1.30459,1.30062,1.30209,1.306,1.30498,1.30448,1.30469,1.30545,1.30214,1.30263,1.30126,1.30096,1.3073,1.30398,1.30611,1.30392,1.30617,1.30406,1.30603,1.30061,1.30658,1.3062,1.30469,1.30104,1.30117,1.30198,1.29889,1.30078,1.30147,1.29888,1.30663,1.30648,1.30653,1.30427,1.30268,1.30199,1.30203,1.30342,1.30437,1.30458,1.30219,1.30158,1.30223,1.30086,1.30185,1.29857,1.29829,1.30293,1.30033,1.30662,1.30291,1.30285,1.30806,1.29846,1.30427,1.30149,1.30401,1.29981,1.29995,1.30477,1.3093895334485677,1.30355,1.3101111318313925,1.3082119231801423,1.29182,1.28656,1.28647,1.28819,1.29301,1.28742,1.28738,1.28915,1.28684,1.28616,1.29022,1.29162,1.29129,1.2882,1.29083,1.29099,1.29093,1.28754,1.28742,1.28897,1.28844,1.28833,1.28848,1.28809,1.29182,1.29184,1.29298,1.29261,1.29312,1.29315,1.29153,1.29027,1.29044,1.28772,1.28811,1.29623,1.29127,1.2956,1.29571,1.29542,1.28753,1.29244,1.29046,1.2904,1.29222,1.29093,1.28936,1.28923,1.28896,1.28756,1.28727,1.28855,1.28771,1.28722,1.2872,1.28777,1.28905,1.28717,1.29143,1.28936,1.28797,1.29126,1.29109,1.29186,1.287497,1.29105,1.29337,1.29318,1.29408,1.29267,1.29309,1.2926,1.2874161,1.2874161,1.2862879112928196,1.2874161,1.2874161,1.2874161,1.2872015570913036,1.28701,1.2863126322374687,1.2877227969270058,1.2881683401710955,1.2858544693348666,1.2878469787391855,1.24854,1.25312,1.25047,1.24921,1.24826,1.2502,1.25737,1.25807,1.256984,1.256984,1.2564422399019202,1.2509656956634396,1.2571870485224814,1.2567518472965111,1.2569835,1.2575383044490538,1.2562380912875115,1.25544,1.2581623516033342,1.2531961,1.31593,1.2943,1.31889,1.31723,1.30926,1.29377,1.30119,1.29307,1.29331,1.32174,1.32182,1.29406,1.29374,1.29425,1.294,1.29423,1.29261,1.29843,1.31713,1.31736,1.2951,1.29388,1.29387,1.29386,1.31445,1.3124,1.31405,1.31237,1.31391,1.31762,1.3084,1.29555,1.2928730249404907,1.31559,1.31765,1.31532,1.31278,1.31853,1.29404,1.2941,1.29565,1.31837,1.31544,1.2931220531463623,1.31844,1.31834,1.31032,1.29415,1.29734,1.29395,1.31499,1.29388,1.29446,1.31524,1.31567,1.31744,1.31687,1.31727,1.31732,1.29616,1.31547,1.31698,1.2951072,1.3166391,1.3159081702116489,1.315226089331056,1.3153613627592873,1.3173806045927967,1.31535770435704,1.3151799343714417,1.3174893644207593,1.3174956899520474,1.317088397809813,1.3152955115858929,1.3155589743492953,1.3152278674242237,1.3152,1.315767608172247,1.317325895925206,1.3172932402977242,1.3172,1.3172665709551752,1.3154,1.3171479798705092,1.3154127054166127,1.317103164014922,1.2936953021785873,1.34081,1.33537,1.33514,1.33195,1.33825,1.3322,1.3307,1.33073,1.33037,1.34036,1.32868,1.33185,1.33106,1.33195,1.32991,1.33896,1.33003,1.33066,1.33007,1.33352,1.33062,1.33021,1.337961,1.33893,1.33898,1.33669,1.3374,1.3392999255839324,1.338821590211825,1.3395802327773496,1.3404891355182418],\"legendgroup\":\"Central Region\",\"lon\":[103.83274,103.83075,103.828,103.83001,103.82841,103.84979,103.83862,103.83454,103.82738,103.84995,103.85085,103.85176,103.84229,103.85202,103.84547,103.84342,103.8458,103.85201,103.85006,103.8511,103.85045,103.8536,103.85538,103.85013,103.8257696,103.85271256786368,103.85300984009385,103.81144,103.8102,103.81225,103.81138,103.80941,103.82299,103.83188,103.84074,103.84073,103.84063,103.83581,103.83457,103.83743,103.82993,103.819,103.83361,103.83909,103.838,103.83317,103.83535,103.83417,103.83417,103.83417,103.83417,103.83438,103.83402,103.834,103.83417,103.83433,103.83417,103.83401,103.83395,103.83383,103.83408,103.83408,103.83381,103.83417,103.83395,103.83392,103.8323,103.8332,103.8294,103.83153,103.83353,103.83366,103.83154,103.83342,103.8336,103.83187,103.83389,103.82984,103.8101,103.83405,103.83405,103.83323,103.83405,103.81141,103.81143,103.84092,103.84092,103.83144,103.84092,103.83199,103.83564,103.83988,103.84006,103.82812,103.83434,103.83432,103.83394,103.83233,103.83293,103.83286,103.83267,103.83402,103.83387,103.83258,103.835,103.83383,103.83404,103.82586,103.84002,103.83318,103.83426,103.83424,103.83489,103.8347,103.83418,103.8352,103.83395,103.83239,103.83416,103.83283,103.83246,103.83335,103.83428,103.83282,103.82317,103.83318,103.83384,103.83396,103.83601,103.83445,103.80812,103.83238,103.83391,103.83424,103.83527,103.8096,103.83252,103.83451,103.81995,103.81789,103.83248,103.83754,103.81724,103.83317,103.83366,103.83444,103.83333,103.8089,103.83195,103.83042,103.83108,103.83248,103.83218,103.83237,103.8347855,103.8351300759014,103.83364847819271,103.833926033815,103.82679740998694,103.82474684216002,103.83398460478722,103.83426616078827,103.83374882747142,103.83455848044476,103.8338655285608,103.8344055322915,103.83367449408536,103.78521,103.79812,103.79717,103.79714,103.79736,103.79687,103.76804,103.7949,103.77971,103.79747,103.79736,103.79772,103.77275,103.80969,103.7723,103.79765,103.79624,103.79702,103.79646,103.79077,103.7953,103.77331,103.77312,103.77295,103.77124,103.79761,103.80362,103.78016,103.76739,103.76615,103.78869,103.79606,103.81091,103.79026,103.7910179,103.77742,103.84498,103.84597,103.84524,103.85401,103.85202,103.85557,103.85169,103.85181,103.85142,103.85222,103.85193,103.8507,103.85358,103.8574,103.85062,103.85017,103.8572,103.85334,103.85174,103.85172,103.85184,103.85168,103.85301,103.85395,103.84696,103.84334,103.84462,103.85075,103.85122,103.8456,103.84934,103.85526,103.85526,103.84421,103.85261,103.85232,103.85404,103.8519,103.8536,103.85389,103.85306,103.85473,103.85875,103.85302,103.8529,103.85857,103.85857,103.85165,103.84438,103.8538,103.8443,103.85082,103.85736,103.85267,103.85343,103.85354,103.84586,103.85212,103.85311,103.85358,103.85347,103.84983,103.8516,103.84893,103.85331,103.85358,103.85341,103.85213,103.85237,103.85155,103.85349,103.84584,103.85372,103.84592,103.84732,103.85367,103.84903,103.85232,103.85363,103.85379,103.84718,103.85171,103.85241,103.85365,103.8532,103.84625,103.8442,103.85291,103.84636,103.85214,103.85155,103.84518,103.84535,103.84939,103.85,103.84984,103.85373,103.84943,103.85332,103.84546,103.84411,103.84374,103.85346,103.85375,103.85132,103.85074,103.84638,103.84507,103.85316,103.85311,103.85857,103.8602,103.86064,103.84515,103.8518,103.85158,103.8489,103.84497,103.85562,103.8577,103.85775,103.85742,103.84549,103.84688,103.85201,103.84408,103.84407,103.84668,103.84561,103.84578,103.84562,103.84523,103.8463,103.84565,103.84626,103.84587,103.85543,103.85595,103.84437,103.84497,103.84571,103.84538,103.84902,103.85896,103.84713,103.84844,103.84636,103.8571,103.8576,103.85682,103.85189,103.84586,103.85392,103.85391,103.85571,103.85681,103.85763,103.85561,103.85733,103.84552,103.85853,103.85342,103.85962,103.84547,103.85761,103.85731,103.84237,103.85391,103.85412,103.85227,103.84715,103.84399,103.84231,103.85374,103.84194,103.84522,103.85378,103.852531,103.8474,103.8494,103.84731,103.85866,103.85355,103.84827,103.84738,103.85183,103.84746,103.85163,103.84837,103.858704,103.85697,103.85706,103.85834,103.86009,103.85219,103.85472,103.85693,103.85695,103.85726,103.8567,103.85154,103.85193,103.8573,103.85788,103.85879,103.85788,103.8585,103.85674,103.84892,103.85764,103.85904,103.85859,103.85788,103.85788,103.85788,103.85674,103.85788,103.85845,103.84968,103.84587,103.8451,103.860489,103.85726,103.85926,103.85863,103.85883628591692,103.85883,103.85082,103.84715,103.84209943174504,103.84188239246112,103.84229,103.8578807,103.85365086115496,103.86036113967934,103.85700617007562,103.85109054054442,103.84947,103.8536086,103.857511369803,103.85875266642918,103.8586497359192,103.8585763424635,103.8506561,103.85965861863625,103.85058211695804,103.85750027477032,103.85162966066152,103.8496756154513,103.86043790420176,103.8529161,103.85800438774372,103.8560337152306,103.85576002299786,103.85425784026404,103.85831797061412,103.8574057872996,103.86049814522266,103.85510868535364,103.85651444338151,103.85381174729734,103.84490858071835,103.85668340674889,103.85702482966823,103.85304821362332,103.8589481323451,103.85990869204592,103.85334052437436,103.85699319509251,103.8587138056755,103.88343,103.8812,103.881,103.88439,103.89104,103.88133,103.88467,103.89381,103.8865,103.88547,103.88615,103.90559,103.88209,103.87554,103.90497,103.88303,103.89153,103.87973,103.88422,103.88215,103.8821,103.88163,103.882,103.88002,103.88672,103.8828,103.88163,103.88217,103.88213,103.88148,103.88163,103.88228,103.88168,103.90487,103.88769,103.88165,103.88114,103.88308,103.88377,103.88408,103.88297,103.88163,103.87986,103.88247,103.88303,103.88163,103.89883,103.8991,103.88163,103.89967,103.88694,103.88421,103.88163,103.88158,103.88163,103.88163,103.89975,103.88331,103.88325,103.88191,103.88075,103.89967,103.87955,103.886,103.8816,103.88163,103.8816,103.8816,103.88163,103.8816,103.88163,103.88348,103.88262,103.88844,103.90373,103.88793,103.88838,103.87822,103.87608,103.88163,103.88163,103.88067,103.90364,103.88163,103.88163,103.88163,103.9,103.88851,103.87619,103.88707,103.88163,103.88205,103.88063,103.88536,103.87797,103.87599,103.88163,103.88507,103.88693,103.89803,103.88486,103.88207,103.88457,103.8826,103.88265,103.88301,103.89018,103.88275,103.88743,103.88446,103.88967,103.8797,103.8915,103.8816,103.89798,103.88123,103.88277,103.88913,103.89045,103.88083,103.88808,103.88963,103.88235,103.88605,103.88386,103.88068,103.88187,103.88212,103.88034,103.89432590161285,103.88107,103.885719,103.88038,103.88217,103.88127,103.88853,103.8984635,103.89748313926694,103.89756368808568,103.8984635,103.8984635,103.8984635,103.89967074508012,103.89213748995206,103.89147895515958,103.88262338387256,103.8925875790479,103.89241153936254,103.86339,103.85846,103.86243,103.85583,103.86359,103.87374,103.86028,103.86028,103.86028,103.86214,103.86002,103.86171,103.85792,103.86276,103.85742,103.85843,103.85689,103.85759,103.85849,103.85758,103.86325,103.8634,103.85735,103.86344,103.86163,103.85649,103.85702,103.87098,103.86305,103.86342,103.86268,103.86415,103.8627,103.87242,103.86072,103.86028,103.85076,103.87369,103.87248,103.87212,103.87422,103.8741,103.87371,103.87419,103.8526,103.85976,103.85954,103.86032,103.86044,103.86168,103.861,103.85969,103.85953,103.86077,103.86066,103.86083,103.86073,103.86054,103.86064,103.86054,103.86054,103.86054,103.86054,103.8603,103.86146,103.85642,103.85829,103.85829,103.85829,103.85829,103.85829,103.85829,103.85829,103.85829,103.85829,103.85829,103.86028,103.86162,103.85555,103.85843,103.85796,103.87213,103.86278,103.86338,103.85998,103.86075,103.86232,103.86046,103.86112,103.86059,103.8588,103.86019,103.86168,103.85991,103.85829,103.85684,103.86078,103.86054,103.8634,103.86028,103.86028,103.86028,103.86212,103.85493,103.85647,103.86165,103.86015,103.85829,103.85899,103.85333,103.86116,103.86143,103.86144,103.86218,103.86069,103.86134,103.85453,103.86042,103.8616,103.87237,103.86098,103.862,103.85809,103.85318,103.86305,103.85817,103.86962,103.85702,103.8566,103.86103,103.86149,103.8617,103.85355,103.8587,103.86233,103.88525,103.88525,103.85768,103.86113,103.8588,103.8593,103.86254,103.86222,103.86129,103.86145,103.87299,103.85292,103.85392,103.86071,103.86242,103.86266,103.86182,103.86187,103.8604,103.85789,103.86169,103.85151,103.85826,103.85953,103.86182,103.86118,103.86232,103.86098,103.85318,103.86033,103.87373,103.87348,103.87176,103.87387,103.8739,103.8732,103.87178,103.86348,103.86077,103.8613,103.86098,103.86249,103.85895,103.86064,103.86024,103.86335,103.86251,103.86212,103.86284,103.88497,103.86283,103.8601,103.85985,103.85966,103.86064,103.85827,103.86234,103.87403,103.86315,103.86005,103.86111,103.86151,103.86055,103.86166,103.86146,103.86503,103.85202,103.85832,103.86509,103.86118,103.86536,103.86005,103.86318,103.8621,103.85895,103.86226,103.86032,103.86266,103.85316,103.85846,103.85948,103.85816,103.85723,103.85994,103.855,103.86388,103.85228,103.86214,103.86337,103.85252,103.86332,103.86283,103.86256,103.85099,103.86321,103.873,103.86232,103.86118,103.86118,103.86136,103.85619,103.86045,103.86046,103.8609,103.86123,103.86103,103.86076,103.86141,103.85276,103.85682,103.86042,103.86054,103.86086,103.86021,103.86186,103.86545,103.85692,103.86369,103.86041,103.8578,103.86349,103.85999,103.85934,103.87204,103.87205,103.86012,103.86019,103.86127,103.86192,103.86121,103.86113,103.86177,103.85756,103.86003,103.86018,103.86259,103.86345,103.85804,103.86045,103.8616,103.86082,103.86059,103.86112,103.85804,103.86035,103.86028,103.86125,103.86206,103.85753,103.85788,103.85741,103.85438,103.86171,103.86171,103.861,103.84687,103.88389,103.86304,103.86393,103.88421,103.85944,103.85606,103.85842,103.85619,103.8566,103.85794,103.85854,103.86201,103.85825,103.85549,103.88423,103.85175,103.86018,103.85846,103.85647,103.85915,103.85823,103.85948,103.85457,103.86365,103.86503,103.86356,103.85708,103.85769,103.85787,103.88392,103.85989,103.85807,103.86027,103.85675,103.85703,103.85503,103.86245,103.8589,103.86342,103.85199,103.85674,103.85904440778502,103.8613623045377,103.86622412115123,103.85963641744326,103.85836751293868,103.8602406,103.8602406,103.86063810531166,103.85985,103.8602406,103.86335616852304,103.861199778575,103.86033559982324,103.8598213629862,103.86175,103.86139,103.86182,103.86193382266596,103.86198048105926,103.8619183054042,103.86197060272994,103.86147616335856,103.90207,103.89036,103.89771,103.89457,103.89046,103.89147,103.90527,103.90666,103.89852,103.90284,103.89594,103.89933,103.89854,103.88561,103.88613,103.88594,103.89806,103.89778,103.90705,103.886,103.90158,103.89537,103.91283,103.8985672,103.84658,103.84896,103.84904,103.84368,103.85205,103.8513,103.84248,103.84289,103.84334,103.847122,103.8494,103.84366,103.84562,103.83924,103.83784,103.83788,103.84064,103.83774,103.83911,103.84045,103.83852,103.84077,103.84101,103.84003,103.84057,103.84184,103.83913,103.84048,103.83998,103.84025,103.84017,103.83991,103.83859,103.83752,103.83846,103.83773,103.83819,103.84014,103.83981,103.83483,103.83596,103.83596,103.83788,103.83786,103.8275,103.82917,103.83466,103.83822,103.84189,103.83561,103.8405,103.82984,103.83706,103.84638,103.836998,103.83771,103.834921571403,103.8387408,103.8387408,103.83859874795805,103.83907749635362,103.83150241120804,103.83454,103.85255,103.85143,103.84117,103.84796,103.84769,103.84914,103.85252,103.84122,103.83964,103.85306,103.84301,103.84806,103.84069,103.84297,103.85111,103.84395,103.84297,103.84058,103.84315,103.84962,103.84119,103.84791,103.85035,103.84096,103.84587,103.85256,103.8399,103.84278,103.8407,103.84257,103.84569,103.84856,103.85097,103.84953,103.85048,103.84333,103.84467,103.84842,103.84348,103.84678,103.85245,103.85245,103.84894,103.84737,103.84058,103.84066,103.84832,103.84413,103.84729,103.85045,103.84926,103.84881,103.85087,103.8511,103.85074,103.84838,103.84052,103.85153,103.85361,103.84837,103.84685,103.85406,103.84965,103.8535,103.85072,103.84703,103.84588,103.84948,103.8439,103.84577,103.84357,103.84553,103.84124,103.84377,103.84571,103.84377,103.84263,103.84037,103.8395,103.84136,103.84355,103.85349,103.84695,103.85345,103.85177,103.84534,103.84879,103.84859,103.84892,103.84827,103.84693,103.85167,103.85017,103.85022,103.85028,103.8515,103.85287,103.85217,103.85216,103.84689,103.84527,103.84532,103.84677,103.84865,103.847511,103.847511,103.8483,103.84217,103.84676,103.847511,103.84683,103.84852,103.84837,103.847511,103.847511,103.84804,103.84717,103.84712,103.847511,103.847511,103.847511,103.85034,103.847511,103.84506,103.847511,103.847511,103.84921,103.847511,103.84751,103.847511,103.847511,103.847511,103.847511,103.84549,103.84519,103.847511,103.847511,103.847511,103.847511,103.84838,103.84646,103.85086,103.84683,103.84669,103.847511,103.847511,103.84841,103.84652,103.83715,103.83967,103.847511,103.84668,103.83388,103.8425,103.84606,103.84533,103.84582,103.847511,103.84535,103.84621,103.84564,103.84254,103.84222,103.84279,103.85227,103.85283,103.85283,103.85283,103.8498993,103.84740810816288,103.8443609744333,103.8527231,103.84722597776592,103.8441,103.8459867,103.85062877982232,103.8475129,103.8419479,103.84814421965442,103.85372781739112,103.84318,103.83598,103.8386,103.83707,103.83707,103.83707,103.83707,103.83707,103.83707,103.83846,103.83825,103.83707,103.83707,103.83382,103.8325,103.84143,103.83378,103.84007,103.84111,103.84177,103.83225,103.83807,103.83863,103.83637,103.83194,103.83329,103.83197,103.84313,103.83774,103.83488,103.83257,103.83461,103.83701,103.83671,103.8287,103.83613,103.83632,103.83519,103.84089,103.84139,103.8431,103.84175,103.83654,103.82954,103.82774,103.83952,103.83604,103.8399,103.8407,103.84138,103.8403,103.84131,103.84009,103.84139,103.84111,103.84168,103.83877,103.82584,103.84156,103.83982,103.84151,103.84164,103.8364,103.8336393780906,103.83307825773954,103.84253,103.84317,103.84311,103.84238,103.84253,103.84424,103.84424,103.84424,103.84255,103.84275,103.84341,103.84074,103.84463,103.84344,103.84868,103.84249,103.84212,103.84133,103.84253,103.84356,103.84335,103.8433,103.84217,103.84215,103.8457,103.84346,103.84892,103.84855,103.84852,103.8416,103.843,103.84399,103.84133,103.84339,103.84253,103.84242,103.8437,103.84489,103.84677,103.84175,103.84253,103.84368,103.84347,103.84293,103.84323,103.84457,103.84351,103.84139,103.84158,103.84322,103.84723,103.84256,103.84364,103.84285,103.84484,103.8433,103.84137,103.84315,103.84245,103.84319,103.84294,103.84294,103.84375,103.84294,103.84442,103.84294,103.84294,103.84294,103.84232,103.84255,103.84166,103.84139,103.84338,103.84255,103.84224,103.84148,103.84255,103.84165,103.84214,103.84361,103.84212,103.84395,103.84255,103.84331,103.84693,103.84342,103.84396,103.84364,103.84399,103.84296,103.84396,103.84462,103.84472,103.84669,103.84475,103.84478,103.84255,103.84414,103.84349,103.84312,103.84312,103.8423,103.84195,103.84312,103.84255,103.84255,103.8428,103.84173,103.84255,103.84339,103.84147,103.84498,103.84155,103.84657,103.84491,103.84612,103.84344,103.84346,103.84158,103.84255,103.84135,103.84159,103.84204,103.84253,103.84253,103.84253,103.8429,103.84368,103.84492,103.84517,103.84502,103.84367,103.84163,103.84224,103.84253,103.84253,103.84279,103.84229,103.84156,103.8432,103.84159,103.84501,103.84252,103.84277,103.83961,103.84195,103.84195,103.84125,103.84099,103.84244,103.84695,103.84388,103.84479,103.84106,103.84572,103.84149,103.84196,103.84795,103.84329,103.84409,103.8434,103.84443,103.84564,103.84501,103.84586,103.84497,103.84268,103.84271,103.84514,103.84181,103.84165,103.84223,103.84319,103.84584,103.84291,103.84228,103.84679,103.84163,103.84732,103.84619,103.8450743895941,103.84709959492344,103.84696933984776,103.8456749588044,103.84525182809034,103.84691,103.84537,103.84487043616954,103.84577776704432,103.8447356340068,103.84529292621512,103.84470705591536,103.84678238358552,103.84518206416162,103.84656554365306,103.84681161964376,103.84190157615636,103.846978359739,103.84676612840089,103.84695841301854,103.8471067127746,103.84655936526366,103.84502770988856,103.84601689875126,103.84601689875126,103.84601689875126,103.84601689875126,103.84601689875126,103.84710187581064,103.84602,103.84672654345032,103.84695626223385,103.84601689875126,103.84576,103.84484419814018,103.84509665138071,103.84526796567526,103.84547402625732,103.84685301131022,103.84556782484913,103.84719,103.84592985234862,103.84585773769842,103.84691632274334,103.84601689875126,103.84601689875126,103.84601689875126,103.8456286706577,103.84703775561118,103.84757138851197,103.84758709197216,103.83593,103.84691105886426,103.84634674743936,103.8466087962557,103.8454344405818,103.84413173521231,103.84535589846568,103.84144409684367,103.84574117784868,103.8007,103.78439,103.78094,103.784,103.80247,103.80408,103.80238,103.80346,103.78592,103.79008,103.78544,103.78534,103.78707,103.79575,103.78719,103.78741,103.78922,103.78528,103.78794,103.7967,103.78772,103.78385,103.78593,103.7857,103.78739,103.78401,103.78767,103.80097,103.78552,103.78695,103.78662,103.78445,103.77312,103.78772,103.78576,103.78721,103.78564,103.78732,103.80622,103.78655,103.78719,103.78603,103.78764,103.78613,103.78746,103.80781,103.78508,103.78765,103.80674,103.7997,103.7874,103.78731,103.78634,103.78583,103.78546,103.78558,103.78759,103.80647,103.78706,103.80677,103.80439,103.78462,103.8068,103.7856,103.79696,103.80477,103.76172,103.79806243190468,103.76369,103.76341,103.80098,103.78598,103.78559,103.7876,103.78529,103.78541,103.78561,103.78712,103.78536,103.78577,103.78536,103.78733,103.78553,103.78572,103.78567,103.78765,103.78764,103.78742,103.78543,103.76775,103.7697,103.76769,103.785,103.78496,103.78702,103.7691,103.79415,103.80473,103.78654,103.78563,103.78494,103.78504,103.80473,103.80486,103.80657,103.80467,103.79062,103.80631,103.78664,103.80741,103.76149,103.80359,103.79909,103.80034,103.78613,103.80579,103.78262,103.80479,103.80782,103.78296,103.79959,103.80731,103.79737,103.78705,103.79785,103.80585,103.78408,103.77137,103.76218,103.788452,103.7877,103.78739,103.788559,103.79836,103.79836,103.79775,103.79798,103.79804,103.79832,103.78622,103.78495,103.78438,103.8063,103.80634,103.79657,103.78475,103.78627,103.78625,103.8069,103.80714,103.78495,103.78609,103.78732,103.78694,103.78754716181793,103.78881113706102,103.78881765991068,103.8037215572133,103.8056413953604,103.8048268,103.8048268,103.8063663,103.78801540146544,103.78705624490976,103.797154,103.7863484331192,103.78620042354508,103.78742890550927,103.78533746201435,103.78517232555454,103.78628258611644,103.78791597323504,103.78803289341803,103.78805185338268,103.78779722027411,103.83768,103.83742,103.840942,103.840942,103.8397,103.83861,103.83809,103.83676,103.83858,103.83738,103.84158,103.83627,103.83672,103.83666,103.83687,103.83774,103.83869,103.83204,103.8368,103.83844,103.84207,103.83634,103.83642,103.8408,103.84065,103.82875,103.83844,103.84183,103.83866,103.83166,103.84119,103.84106,103.83062,103.8375,103.82695,103.83706,103.84153,103.84157,103.82882,103.83315,103.83397,103.84,103.84071,103.84125,103.84111,103.82859,103.83576,103.83746,103.83673,103.83883,103.83664,103.83717,103.83664,103.83699,103.83711,103.84087,103.83844,103.84089,103.84025,103.84052,103.84032,103.84179,103.83676,103.82952,103.82895,103.82928,103.82936,103.84203,103.83844,103.84012,103.83911,103.8396,103.8416,103.83961,103.84123,103.82864,103.84127,103.84068,103.83841,103.83941,103.83811,103.83797,103.8382,103.83946,103.84027,103.83977,103.84019,103.83887,103.83982,103.84017,103.8402,103.83822,103.83997,103.84022,103.83956,103.83996,103.84011,103.83863,103.84002,103.83879,103.83842,103.84016,103.83998,103.84009,103.83931,103.84074,103.83843,103.8404,103.83913,103.83844,103.8385,103.8401,103.83101,103.83989,103.83861,103.84004,103.84248,103.83821137029264,103.8401662421086,103.83842315558776,103.838,103.83991140780812,103.84001442887016,103.83789,103.83794031052192,103.83944,103.83934,103.84023995231276,103.840071966987,103.84119352632872,103.83856834346447,103.84042202065196,103.83796425082014,103.85206,103.84994,103.84575,103.85344,103.849,103.84953,103.85108,103.84902,103.84889,103.84967,103.85091,103.84964,103.85041,103.84929,103.84876,103.85366,103.8465,103.85937,103.8593,103.86078,103.85904,103.85217,103.85106,103.85232,103.8527,103.85073,103.85222,103.8596,103.8604,103.85067,103.84699,103.85975,103.85426,103.85129,103.85314,103.85361,103.85187,103.85143,103.85126,103.86022,103.8514,103.8487,103.85954,103.85962,103.8615,103.86119,103.86003,103.86137,103.85964,103.84717,103.85951,103.86109,103.86141,103.85411,103.85358,103.84873,103.85185,103.8491,103.84974,103.85357,103.84873,103.85181,103.85401,103.85421,103.84751,103.84713,103.85459,103.85038,103.86108,103.85488,103.85447,103.85316,103.85324,103.8535,103.85366,103.85297,103.85187,103.85982,103.84914,103.84756,103.85812,103.85841,103.85845,103.85847,103.85835,103.85958,103.85851,103.86025,103.85975,103.84833,103.8537,103.86056,103.85935,103.86049,103.85484,103.85248,103.851,103.85355,103.85104,103.84918,103.85026,103.85071,103.84882,103.84868,103.85001,103.85386,103.85581,103.85583,103.86139,103.86152,103.84939,103.85184,103.86133,103.85412,103.85591,103.85461,103.85574,103.85881,103.85255,103.85084,103.84827,103.85055,103.85728,103.85052,103.85242,103.85187,103.85044,103.85165,103.8507,103.85199,103.85367,103.85596,103.85578,103.85026,103.85055,103.85033,103.85232,103.84756,103.86155,103.85315,103.85602,103.85511,103.85512,103.85993,103.86,103.86176,103.86176,103.85992,103.85452,103.85557,103.86009,103.86,103.85852,103.8602,103.85823,103.85347,103.85164,103.85849,103.85967,103.85441,103.85876,103.85908,103.85404,103.85375,103.85505,103.8508,103.85234,103.84968,103.84956,103.8524,103.85418983545696,103.85524,103.85399340366033,103.85434915359866,103.83496,103.8482,103.85029,103.84821,103.8416,103.84786,103.84773,103.84825,103.8472,103.84908,103.83721,103.84373,103.84233,103.84751,103.84284,103.84237,103.84204,103.84993,103.84822,103.848,103.84782,103.83704,103.84794,103.84895,103.84055,103.84229,103.84194,103.84249,103.84215,103.84273,103.84279,103.84169,103.84097,103.844,103.84853,103.83217,103.8458,103.83039,103.8315,103.83126,103.84724,103.84253,103.84247,103.84162,103.84234,103.84029,103.84881,103.84871,103.84837,103.84849,103.84946,103.84809,103.8481,103.84826,103.84843,103.84809,103.84844,103.84836,103.84082,103.84442,103.84768,103.84117,103.84228,103.84215,103.848557,103.84186,103.84248,103.84179,103.83272,103.84125,103.84186,103.83293,103.8472705,103.8472705,103.84809190434636,103.8472705,103.8472705,103.8472705,103.84856679010916,103.84999,103.8490749754162,103.84914401943584,103.84722421667848,103.8490370279328,103.84864302658426,103.82472,103.82374,103.82309,103.82496,103.82401,103.82413,103.81925,103.81952,103.820267,103.820267,103.82123435232256,103.84583429640512,103.82141051316624,103.82033105939624,103.8202676,103.821414676741,103.82102345526934,103.81533,103.82050181939816,103.8194919,103.82905,103.8296,103.82806,103.83244,103.80315,103.82896,103.81491,103.82951,103.83018,103.81448,103.814,103.82778,103.8279,103.82748,103.82669,103.82797,103.82625,103.82838,103.82727,103.82718,103.82826,103.828,103.82651,103.82652,103.83125,103.82537,103.82495,103.82479,103.82689,103.82767,103.82597,103.82864,103.8303451538086,103.82586,103.82551,103.82554,103.82472,103.82628,103.82651,103.82732,103.82742,103.82708,103.83089,103.83050537109376,103.82627,103.8278,103.82681,103.82786,103.82659,103.8268,103.80648,103.82811,103.83079,103.82785,103.82629,103.82654,103.82607,103.82623,103.82667,103.82899,103.82653,103.82623,103.8285254,103.8298825,103.82805895550275,103.82612548793831,103.82786019338812,103.82634753915426,103.82823924209714,103.82813054934536,103.82615133137098,103.82786026988232,103.82604099607444,103.8261876055727,103.8278840953741,103.82687876091448,103.82775,103.82826996178812,103.8274954566922,103.82612409508954,103.82788,103.82697845266406,103.82818,103.82619081494336,103.8280616560566,103.8281434711639,103.82948572869547,103.84165,103.84462,103.85017,103.87706,103.84136,103.87853,103.86753,103.86619,103.86625,103.87977,103.86784,103.86606,103.86605,103.86705,103.86718,103.84203,103.86728,103.86806,103.86666,103.87775,103.87531,103.86669,103.870148,103.86796,103.86878,103.86812,103.86981,103.87064790831764,103.86836510750436,103.87069412533546,103.85204304111818],\"marker\":{\"color\":\"#9600ff\"},\"mode\":\"markers\",\"name\":\"Central Region\",\"showlegend\":true,\"subplot\":\"mapbox\",\"type\":\"scattermapbox\"},{\"hovertemplate\":\"<b>%{hovertext}</b><br><br>neighbourhood_group=East Region<br>latitude=%{lat}<br>longitude=%{lon}<extra></extra>\",\"hovertext\":[\"East Region\",\"East Region\",\"East Region\",\"East Region\",\"East Region\",\"East Region\",\"East Region\",\"East Region\",\"East Region\",\"East Region\",\"East Region\",\"East Region\",\"East Region\",\"East Region\",\"East Region\",\"East Region\",\"East Region\",\"East Region\",\"East Region\",\"East Region\",\"East Region\",\"East Region\",\"East Region\",\"East Region\",\"East Region\",\"East Region\",\"East Region\",\"East Region\",\"East Region\",\"East Region\",\"East Region\",\"East Region\",\"East Region\",\"East Region\",\"East Region\",\"East Region\",\"East Region\",\"East Region\",\"East Region\",\"East Region\",\"East Region\",\"East Region\",\"East Region\",\"East Region\",\"East Region\",\"East Region\",\"East Region\",\"East Region\",\"East Region\",\"East Region\",\"East Region\",\"East Region\",\"East Region\",\"East Region\",\"East Region\",\"East Region\",\"East Region\",\"East Region\",\"East Region\",\"East Region\",\"East Region\",\"East Region\",\"East Region\",\"East Region\",\"East Region\",\"East Region\",\"East Region\",\"East Region\",\"East Region\",\"East Region\",\"East Region\",\"East Region\",\"East Region\",\"East Region\",\"East Region\",\"East Region\",\"East Region\",\"East Region\",\"East Region\",\"East Region\",\"East Region\",\"East Region\",\"East Region\",\"East Region\",\"East Region\",\"East Region\",\"East Region\",\"East Region\",\"East Region\",\"East Region\",\"East Region\",\"East Region\",\"East Region\",\"East Region\",\"East Region\",\"East Region\",\"East Region\",\"East Region\",\"East Region\",\"East Region\",\"East Region\",\"East Region\",\"East Region\",\"East Region\",\"East Region\",\"East Region\",\"East Region\",\"East Region\",\"East Region\",\"East Region\",\"East Region\",\"East Region\",\"East Region\",\"East Region\",\"East Region\",\"East Region\",\"East Region\",\"East Region\",\"East Region\",\"East Region\",\"East Region\",\"East Region\",\"East Region\",\"East Region\",\"East Region\",\"East Region\",\"East Region\",\"East Region\",\"East Region\",\"East Region\",\"East Region\",\"East Region\",\"East Region\",\"East Region\",\"East Region\",\"East Region\",\"East Region\",\"East Region\",\"East Region\",\"East Region\",\"East Region\",\"East Region\",\"East Region\",\"East Region\",\"East Region\"],\"lat\":[1.31805,1.3209,1.32204,1.32301,1.31936,1.31786,1.33203,1.31279,1.32162,1.31756,1.31716,1.31893,1.31716,1.31696,1.31851,1.31855,1.31036,1.31907,1.3106,1.31222,1.31021,1.31245,1.32337,1.32381,1.31693,1.32552,1.32833,1.32522,1.31756,1.32547,1.32405,1.31163,1.31675,1.32531,1.31204,1.32373,1.32516,1.32362,1.31844,1.31703,1.328848,1.3255,1.31889,1.31738,1.32551,1.32478,1.30954,1.31669,1.33084,1.31856,1.32357,1.32228,1.32374,1.32217,1.32211,1.31406,1.33205,1.31511,1.32061,1.3189,1.31754,1.31828,1.31878,1.32167,1.32358,1.32646,1.31736,1.31674,1.31765,1.32719,1.30864,1.31841,1.31082,1.32477,1.33817,1.31056,1.31078,1.32707,1.32025,1.31958,1.31767,1.31476,1.3221,1.32382,1.3243,1.32252,1.32285,1.32339,1.32403,1.32412,1.32431,1.3242,1.32424,1.32428,1.32366,1.32435,1.3267,1.30397,1.306582,1.32866,1.3276205030723744,1.33071413646994,1.3049798985451528,1.306420669351544,1.3131123861509848,1.37975,1.35894,1.37173,1.35563,1.35488,1.36999,1.37814,1.37417,1.36856,1.36321,1.36924,1.37316,1.37513,1.35641,1.3715767487616406,1.3708796,1.34537,1.34754,1.34531,1.3449,1.34917,1.34361,1.34806,1.34798,1.34571,1.3464,1.3446,1.346,1.3455,1.34789,1.34048,1.32683,1.34358,1.34159,1.35549,1.35841,1.34537,1.34586,1.316059,1.340451429521586],\"legendgroup\":\"East Region\",\"lon\":[103.92361,103.91569,103.92125,103.92211,103.91663,103.9059,103.94396,103.93821,103.91466,103.91254,103.91232,103.91257,103.91259,103.91394,103.9123,103.91259,103.93592,103.91024,103.93315,103.91403,103.91269,103.91127,103.91468,103.91678,103.91408,103.91456,103.91588,103.91497,103.91084,103.91505,103.91679,103.93572,103.91272,103.91656,103.93769,103.91641,103.91487,103.9146,103.91237,103.91242,103.913361,103.91599,103.91243,103.90893,103.91498,103.9147,103.91471,103.91258,103.90841,103.91075,103.9133,103.91492,103.91537,103.91549,103.91541,103.92479,103.94445,103.92026,103.91102,103.91284,103.91241,103.91211,103.9121,103.90557,103.91458,103.94751,103.908,103.90796,103.9064,103.91172,103.92461,103.91379,103.92463,103.91454,103.92209,103.92487,103.92194,103.94985,103.95725,103.9094,103.90779,103.91763,103.91389,103.91331,103.91535,103.91511,103.9135,103.91321,103.91471,103.91374,103.91367,103.91339,103.91317,103.91346,103.91548,103.91531,103.90846,103.92244,103.923561,103.94214,103.9463723457163,103.94424225887136,103.92227805883344,103.92399163618197,103.92214942088894,103.94375,103.96465,103.94855,103.96517,103.96519,103.94576,103.9411,103.94476,103.94425,103.96706,103.94925,103.94634,103.94739,103.96411,103.944318415429,103.9462779,103.95887,103.95958,103.961,103.95979,103.9609,103.95717,103.95858,103.9617,103.96073,103.96256,103.96223,103.9626,103.96045,103.93969,103.9519,103.95444,103.95383,103.95805,103.95915,103.94056,103.95973,103.9601,103.9776616,103.9589383948842],\"marker\":{\"color\":\"#995bd5\"},\"mode\":\"markers\",\"name\":\"East Region\",\"showlegend\":true,\"subplot\":\"mapbox\",\"type\":\"scattermapbox\"},{\"hovertemplate\":\"<b>%{hovertext}</b><br><br>neighbourhood_group=North-East Region<br>latitude=%{lat}<br>longitude=%{lon}<extra></extra>\",\"hovertext\":[\"North-East Region\",\"North-East Region\",\"North-East Region\",\"North-East Region\",\"North-East Region\",\"North-East Region\",\"North-East Region\",\"North-East Region\",\"North-East Region\",\"North-East Region\",\"North-East Region\",\"North-East Region\",\"North-East Region\",\"North-East Region\",\"North-East Region\",\"North-East Region\",\"North-East Region\",\"North-East Region\",\"North-East Region\",\"North-East Region\",\"North-East Region\",\"North-East Region\",\"North-East Region\",\"North-East Region\",\"North-East Region\",\"North-East Region\",\"North-East Region\",\"North-East Region\",\"North-East Region\",\"North-East Region\",\"North-East Region\",\"North-East Region\",\"North-East Region\",\"North-East Region\",\"North-East Region\",\"North-East Region\",\"North-East Region\",\"North-East Region\",\"North-East Region\",\"North-East Region\",\"North-East Region\",\"North-East Region\",\"North-East Region\",\"North-East Region\",\"North-East Region\",\"North-East Region\",\"North-East Region\",\"North-East Region\",\"North-East Region\",\"North-East Region\",\"North-East Region\",\"North-East Region\",\"North-East Region\",\"North-East Region\",\"North-East Region\",\"North-East Region\",\"North-East Region\",\"North-East Region\",\"North-East Region\",\"North-East Region\",\"North-East Region\",\"North-East Region\",\"North-East Region\",\"North-East Region\",\"North-East Region\",\"North-East Region\",\"North-East Region\",\"North-East Region\",\"North-East Region\",\"North-East Region\",\"North-East Region\",\"North-East Region\",\"North-East Region\",\"North-East Region\",\"North-East Region\",\"North-East Region\",\"North-East Region\",\"North-East Region\",\"North-East Region\"],\"lat\":[1.36747,1.37165,1.36973,1.36741,1.39604,1.368,1.37579,1.3692,1.37289,1.3707529520366353,1.3753,1.3684016314149676,1.3675565158405016,1.36722,1.35956,1.38084,1.37697,1.36263,1.36219,1.35593,1.37601,1.37599,1.3672,1.37461,1.35432,1.36866,1.35855,1.37667,1.37484,1.36039,1.37691,1.37655,1.37499,1.37525,1.37689,1.37475,1.37364,1.37688,1.3737832824751477,1.40015,1.39863,1.40088,1.39178,1.39828,1.41465,1.4148,1.39793,1.40739,1.39156,1.38769,1.39256,1.39158,1.38784,1.36926,1.38763,1.34611,1.34385,1.34603,1.35476,1.35594,1.36464,1.37451,1.35641,1.38703,1.38565,1.36662,1.38351,1.38328,1.38296,1.35731,1.34595,1.34549,1.37418,1.3725,1.35357,1.34548,1.356,1.365,1.36994349175762],\"legendgroup\":\"North-East Region\",\"lon\":[103.83865,103.82881,103.82847,103.85285,103.84924,103.85688,103.84928,103.85798,103.83705,103.82924638688564,103.83055,103.8582214631832,103.84467761744725,103.89765,103.88423,103.88983,103.90241,103.88299,103.88276,103.88742,103.90101,103.90221,103.89748,103.9027,103.88926,103.89943,103.88282,103.87967,103.88044,103.89105,103.8791,103.88002,103.87899,103.88057,103.87992,103.88005,103.90219,103.88014,103.90021736649776,103.90537,103.90624,103.91,103.91181,103.91404,103.89795,103.89859,103.91225,103.90315,103.87852,103.89308,103.90516,103.89581,103.89001,103.87312,103.86942,103.87071,103.86892,103.87037,103.87241,103.86836,103.86352,103.87284,103.86726,103.87264,103.87355,103.86305,103.86923,103.86828,103.86942,103.86381,103.87039,103.87029,103.8722,103.87352,103.86585,103.87174,103.86437,103.86175,103.86532856319585],\"marker\":{\"color\":\"#bf99f2\"},\"mode\":\"markers\",\"name\":\"North-East Region\",\"showlegend\":true,\"subplot\":\"mapbox\",\"type\":\"scattermapbox\"},{\"hovertemplate\":\"<b>%{hovertext}</b><br><br>neighbourhood_group=North Region<br>latitude=%{lat}<br>longitude=%{lon}<extra></extra>\",\"hovertext\":[\"North Region\",\"North Region\",\"North Region\",\"North Region\",\"North Region\",\"North Region\",\"North Region\",\"North Region\",\"North Region\",\"North Region\",\"North Region\",\"North Region\",\"North Region\",\"North Region\",\"North Region\",\"North Region\",\"North Region\",\"North Region\",\"North Region\",\"North Region\",\"North Region\",\"North Region\",\"North Region\",\"North Region\",\"North Region\",\"North Region\",\"North Region\",\"North Region\",\"North Region\",\"North Region\",\"North Region\",\"North Region\",\"North Region\",\"North Region\",\"North Region\",\"North Region\",\"North Region\",\"North Region\",\"North Region\",\"North Region\",\"North Region\",\"North Region\",\"North Region\",\"North Region\",\"North Region\",\"North Region\",\"North Region\",\"North Region\",\"North Region\",\"North Region\",\"North Region\",\"North Region\",\"North Region\",\"North Region\",\"North Region\",\"North Region\",\"North Region\",\"North Region\",\"North Region\",\"North Region\",\"North Region\",\"North Region\",\"North Region\",\"North Region\",\"North Region\"],\"lat\":[1.35286,1.3529,1.351,1.35147,1.351,1.44008,1.44061,1.44167,1.44162,1.43965,1.43992,1.43873,1.44165,1.44347,1.44516,1.44412,1.45152,1.44814,1.44154,1.44241,1.44196,1.44328,1.44185,1.44184,1.44987,1.450537882575532,1.448178116901776,1.44162,1.44349,1.43012,1.449275,1.4483,1.43508,1.42998,1.42959,1.43109,1.44882,1.44878,1.44136,1.43448,1.42768,1.43479,1.4315,1.43519,1.43058,1.44337,1.42997,1.44418,1.4304,1.44372,1.43064,1.4423779,1.41423,1.41142,1.4182,1.41198,1.41009,1.41016,1.4156,1.41629,1.4203517304260134,1.41863,1.40544,1.412,1.4123699],\"legendgroup\":\"North Region\",\"lon\":[103.8205,103.81887,103.81958,103.81887,103.81921,103.70312,103.82386,103.82376,103.82343,103.82345,103.82355,103.82344,103.82416,103.8235,103.82145,103.82205,103.81413,103.81647,103.82184,103.82172,103.8249,103.82434,103.82356,103.82358,103.81826,103.81429340690374,103.83143341069416,103.79304,103.79264,103.78434,103.79026,103.78932,103.79711,103.78534,103.78049,103.77355,103.79933,103.80004,103.78957,103.77725,103.77561,103.80013,103.77812,103.79981,103.77839,103.80651,103.77846,103.80652,103.77993,103.80708,103.77327,103.7934851,103.83382,103.8426,103.83669,103.84497,103.84538,103.84376,103.84413,103.84633,103.8467068398134,103.84743,103.82071,103.83421,103.835094],\"marker\":{\"color\":\"#9cf945\"},\"mode\":\"markers\",\"name\":\"North Region\",\"showlegend\":true,\"subplot\":\"mapbox\",\"type\":\"scattermapbox\"},{\"hovertemplate\":\"<b>%{hovertext}</b><br><br>neighbourhood_group=West Region<br>latitude=%{lat}<br>longitude=%{lon}<extra></extra>\",\"hovertext\":[\"West Region\",\"West Region\",\"West Region\",\"West Region\",\"West Region\",\"West Region\",\"West Region\",\"West Region\",\"West Region\",\"West Region\",\"West Region\",\"West Region\",\"West Region\",\"West Region\",\"West Region\",\"West Region\",\"West Region\",\"West Region\",\"West Region\",\"West Region\",\"West Region\",\"West Region\",\"West Region\",\"West Region\",\"West Region\",\"West Region\",\"West Region\",\"West Region\",\"West Region\",\"West Region\",\"West Region\",\"West Region\",\"West Region\",\"West Region\",\"West Region\",\"West Region\",\"West Region\",\"West Region\",\"West Region\",\"West Region\",\"West Region\",\"West Region\",\"West Region\",\"West Region\",\"West Region\",\"West Region\",\"West Region\",\"West Region\",\"West Region\",\"West Region\",\"West Region\",\"West Region\",\"West Region\",\"West Region\",\"West Region\",\"West Region\",\"West Region\",\"West Region\",\"West Region\",\"West Region\",\"West Region\",\"West Region\",\"West Region\",\"West Region\",\"West Region\",\"West Region\",\"West Region\",\"West Region\",\"West Region\",\"West Region\",\"West Region\",\"West Region\",\"West Region\",\"West Region\",\"West Region\",\"West Region\",\"West Region\",\"West Region\",\"West Region\",\"West Region\",\"West Region\",\"West Region\",\"West Region\",\"West Region\",\"West Region\",\"West Region\",\"West Region\",\"West Region\",\"West Region\",\"West Region\",\"West Region\",\"West Region\",\"West Region\",\"West Region\",\"West Region\",\"West Region\",\"West Region\",\"West Region\",\"West Region\",\"West Region\",\"West Region\",\"West Region\",\"West Region\",\"West Region\",\"West Region\",\"West Region\",\"West Region\",\"West Region\",\"West Region\",\"West Region\",\"West Region\",\"West Region\",\"West Region\",\"West Region\",\"West Region\",\"West Region\",\"West Region\",\"West Region\",\"West Region\",\"West Region\",\"West Region\",\"West Region\",\"West Region\",\"West Region\",\"West Region\",\"West Region\",\"West Region\",\"West Region\",\"West Region\",\"West Region\",\"West Region\",\"West Region\",\"West Region\",\"West Region\",\"West Region\",\"West Region\",\"West Region\",\"West Region\",\"West Region\",\"West Region\",\"West Region\",\"West Region\",\"West Region\",\"West Region\",\"West Region\",\"West Region\",\"West Region\",\"West Region\",\"West Region\",\"West Region\",\"West Region\",\"West Region\",\"West Region\",\"West Region\",\"West Region\",\"West Region\",\"West Region\",\"West Region\",\"West Region\",\"West Region\",\"West Region\",\"West Region\",\"West Region\",\"West Region\",\"West Region\",\"West Region\",\"West Region\",\"West Region\",\"West Region\",\"West Region\",\"West Region\",\"West Region\",\"West Region\",\"West Region\",\"West Region\",\"West Region\"],\"lat\":[1.34842,1.35165,1.34757,1.34724,1.37738,1.37723,1.37741,1.36034,1.3577,1.35775,1.34162,1.35417,1.35179,1.35269,1.35835,1.35814,1.36214,1.3654267601223349,1.36294123044754,1.37772,1.37466,1.36887,1.36942,1.38918,1.37288,1.37214,1.37694,1.347686,1.39857,1.39558,1.39539,1.40089,1.3752,1.39926,1.37775,1.387353,1.29575,1.32,1.29454,1.29558,1.31439,1.31505,1.31169,1.31916,1.31124,1.31197,1.29424,1.30738,1.31197,1.31197,1.30693,1.31259,1.31354,1.30937,1.3223,1.31094,1.31806,1.30262,1.30442,1.31095,1.31349,1.31279,1.31455,1.30449,1.29869,1.30016,1.29995,1.29996,1.29834,1.29869,1.30987,1.30919,1.31957,1.32151,1.31027,1.30033,1.30038,1.31974,1.31816,1.31979,1.31715,1.30701,1.30785,1.32052,1.3082,1.30596,1.30773,1.30993,1.30835,1.31019,1.30762,1.30835,1.319062022379054,1.319279609160265,1.33303,1.33433,1.34002,1.33437,1.33366,1.33637,1.33627,1.32167,1.33707,1.33823,1.33511,1.33692,1.33661,1.33527,1.33358,1.33637,1.33626,1.33654,1.3365,1.33476,1.3354,1.33596,1.33632,1.3349,1.33728,1.33711,1.34676,1.33669,1.33688,1.34493,1.3355,1.33574,1.33546,1.33594,1.33724,1.33724,1.31343,1.3377580532060782,1.33444,1.34546,1.34729,1.34373,1.34401,1.34054,1.34313,1.3468,1.33727,1.34608,1.34443,1.34589,1.32908,1.35086,1.34755,1.33721,1.33748,1.33721,1.33786,1.34654,1.33638,1.34546,1.34218,1.34193,1.34179,1.35238,1.3523,1.34182,1.34552,1.34535,1.34406,1.34649,1.34652,1.3294741,1.3284632695508685,1.3282942634266508,1.3481304138271926,1.3434618,1.3287087925753331,1.330216503097983,1.3285338759758405,1.31947,1.345279947726641,1.34406],\"legendgroup\":\"West Region\",\"lon\":[103.74679,103.75409,103.74873,103.74834,103.7586,103.75837,103.75807,103.76572,103.75882,103.76081,103.76086,103.75086,103.75778,103.75533,103.76498,103.76357,103.76512,103.76389447421116,103.76419577747583,103.77431,103.76596,103.7711,103.77689,103.77194,103.76524,103.76667,103.76786,103.771792,103.74785,103.75212,103.75033,103.74543,103.75193,103.74614,103.74501,103.743784,103.76707,103.76018,103.76795,103.76533,103.75904,103.75884,103.76175,103.76234,103.76152,103.7618,103.76741,103.76242,103.76126,103.76135,103.76314,103.75838,103.75811,103.76104,103.75713,103.76303,103.7621,103.76654,103.76693,103.76157,103.76043,103.75818,103.7583,103.76522,103.76417,103.76376,103.76604,103.76571,103.76583,103.76415,103.7619,103.76177,103.75224,103.75245,103.76033,103.76588,103.76371,103.7525,103.76098,103.75252,103.76133,103.76976,103.76787,103.75308,103.76833,103.76697,103.76954,103.76127,103.76131,103.76283,103.76744,103.76936,103.76247864264556,103.76115189678204,103.72607,103.727,103.73706,103.74177,103.74233,103.74143,103.7415,103.74987,103.74297,103.74572,103.74147,103.741,103.74405,103.7428,103.73832,103.74151,103.74356,103.74277,103.74192,103.74183,103.74302,103.74445,103.74319,103.74079,103.74627,103.74169,103.73229,103.74073,103.74118,103.72393,103.74133,103.74456,103.74329,103.74287,103.74294,103.74269,103.72092,103.74851988752587,103.72204,103.70155,103.72103,103.72095,103.70107,103.71994,103.68701,103.7234,103.69013,103.72186,103.71245,103.71821,103.72341,103.70406,103.6934,103.691,103.68989,103.6905,103.68984,103.72224,103.69361,103.72175,103.71697,103.71764,103.71839,103.69871,103.69923,103.71784,103.70525,103.70508,103.70405,103.72332,103.72554,103.6822694,103.68155826295988,103.68287997586457,103.6959764078999,103.6895538,103.68149993182791,103.68128991054574,103.68182305710944,103.64828,103.63530011330454,103.68659],\"marker\":{\"color\":\"#509724\"},\"mode\":\"markers\",\"name\":\"West Region\",\"showlegend\":true,\"subplot\":\"mapbox\",\"type\":\"scattermapbox\"}],                        {\"template\":{\"data\":{\"histogram2dcontour\":[{\"type\":\"histogram2dcontour\",\"colorbar\":{\"outlinewidth\":0,\"ticks\":\"\"},\"colorscale\":[[0.0,\"#0d0887\"],[0.1111111111111111,\"#46039f\"],[0.2222222222222222,\"#7201a8\"],[0.3333333333333333,\"#9c179e\"],[0.4444444444444444,\"#bd3786\"],[0.5555555555555556,\"#d8576b\"],[0.6666666666666666,\"#ed7953\"],[0.7777777777777778,\"#fb9f3a\"],[0.8888888888888888,\"#fdca26\"],[1.0,\"#f0f921\"]]}],\"choropleth\":[{\"type\":\"choropleth\",\"colorbar\":{\"outlinewidth\":0,\"ticks\":\"\"}}],\"histogram2d\":[{\"type\":\"histogram2d\",\"colorbar\":{\"outlinewidth\":0,\"ticks\":\"\"},\"colorscale\":[[0.0,\"#0d0887\"],[0.1111111111111111,\"#46039f\"],[0.2222222222222222,\"#7201a8\"],[0.3333333333333333,\"#9c179e\"],[0.4444444444444444,\"#bd3786\"],[0.5555555555555556,\"#d8576b\"],[0.6666666666666666,\"#ed7953\"],[0.7777777777777778,\"#fb9f3a\"],[0.8888888888888888,\"#fdca26\"],[1.0,\"#f0f921\"]]}],\"heatmap\":[{\"type\":\"heatmap\",\"colorbar\":{\"outlinewidth\":0,\"ticks\":\"\"},\"colorscale\":[[0.0,\"#0d0887\"],[0.1111111111111111,\"#46039f\"],[0.2222222222222222,\"#7201a8\"],[0.3333333333333333,\"#9c179e\"],[0.4444444444444444,\"#bd3786\"],[0.5555555555555556,\"#d8576b\"],[0.6666666666666666,\"#ed7953\"],[0.7777777777777778,\"#fb9f3a\"],[0.8888888888888888,\"#fdca26\"],[1.0,\"#f0f921\"]]}],\"heatmapgl\":[{\"type\":\"heatmapgl\",\"colorbar\":{\"outlinewidth\":0,\"ticks\":\"\"},\"colorscale\":[[0.0,\"#0d0887\"],[0.1111111111111111,\"#46039f\"],[0.2222222222222222,\"#7201a8\"],[0.3333333333333333,\"#9c179e\"],[0.4444444444444444,\"#bd3786\"],[0.5555555555555556,\"#d8576b\"],[0.6666666666666666,\"#ed7953\"],[0.7777777777777778,\"#fb9f3a\"],[0.8888888888888888,\"#fdca26\"],[1.0,\"#f0f921\"]]}],\"contourcarpet\":[{\"type\":\"contourcarpet\",\"colorbar\":{\"outlinewidth\":0,\"ticks\":\"\"}}],\"contour\":[{\"type\":\"contour\",\"colorbar\":{\"outlinewidth\":0,\"ticks\":\"\"},\"colorscale\":[[0.0,\"#0d0887\"],[0.1111111111111111,\"#46039f\"],[0.2222222222222222,\"#7201a8\"],[0.3333333333333333,\"#9c179e\"],[0.4444444444444444,\"#bd3786\"],[0.5555555555555556,\"#d8576b\"],[0.6666666666666666,\"#ed7953\"],[0.7777777777777778,\"#fb9f3a\"],[0.8888888888888888,\"#fdca26\"],[1.0,\"#f0f921\"]]}],\"surface\":[{\"type\":\"surface\",\"colorbar\":{\"outlinewidth\":0,\"ticks\":\"\"},\"colorscale\":[[0.0,\"#0d0887\"],[0.1111111111111111,\"#46039f\"],[0.2222222222222222,\"#7201a8\"],[0.3333333333333333,\"#9c179e\"],[0.4444444444444444,\"#bd3786\"],[0.5555555555555556,\"#d8576b\"],[0.6666666666666666,\"#ed7953\"],[0.7777777777777778,\"#fb9f3a\"],[0.8888888888888888,\"#fdca26\"],[1.0,\"#f0f921\"]]}],\"mesh3d\":[{\"type\":\"mesh3d\",\"colorbar\":{\"outlinewidth\":0,\"ticks\":\"\"}}],\"scatter\":[{\"fillpattern\":{\"fillmode\":\"overlay\",\"size\":10,\"solidity\":0.2},\"type\":\"scatter\"}],\"parcoords\":[{\"type\":\"parcoords\",\"line\":{\"colorbar\":{\"outlinewidth\":0,\"ticks\":\"\"}}}],\"scatterpolargl\":[{\"type\":\"scatterpolargl\",\"marker\":{\"colorbar\":{\"outlinewidth\":0,\"ticks\":\"\"}}}],\"bar\":[{\"error_x\":{\"color\":\"#2a3f5f\"},\"error_y\":{\"color\":\"#2a3f5f\"},\"marker\":{\"line\":{\"color\":\"#E5ECF6\",\"width\":0.5},\"pattern\":{\"fillmode\":\"overlay\",\"size\":10,\"solidity\":0.2}},\"type\":\"bar\"}],\"scattergeo\":[{\"type\":\"scattergeo\",\"marker\":{\"colorbar\":{\"outlinewidth\":0,\"ticks\":\"\"}}}],\"scatterpolar\":[{\"type\":\"scatterpolar\",\"marker\":{\"colorbar\":{\"outlinewidth\":0,\"ticks\":\"\"}}}],\"histogram\":[{\"marker\":{\"pattern\":{\"fillmode\":\"overlay\",\"size\":10,\"solidity\":0.2}},\"type\":\"histogram\"}],\"scattergl\":[{\"type\":\"scattergl\",\"marker\":{\"colorbar\":{\"outlinewidth\":0,\"ticks\":\"\"}}}],\"scatter3d\":[{\"type\":\"scatter3d\",\"line\":{\"colorbar\":{\"outlinewidth\":0,\"ticks\":\"\"}},\"marker\":{\"colorbar\":{\"outlinewidth\":0,\"ticks\":\"\"}}}],\"scattermapbox\":[{\"type\":\"scattermapbox\",\"marker\":{\"colorbar\":{\"outlinewidth\":0,\"ticks\":\"\"}}}],\"scatterternary\":[{\"type\":\"scatterternary\",\"marker\":{\"colorbar\":{\"outlinewidth\":0,\"ticks\":\"\"}}}],\"scattercarpet\":[{\"type\":\"scattercarpet\",\"marker\":{\"colorbar\":{\"outlinewidth\":0,\"ticks\":\"\"}}}],\"carpet\":[{\"aaxis\":{\"endlinecolor\":\"#2a3f5f\",\"gridcolor\":\"white\",\"linecolor\":\"white\",\"minorgridcolor\":\"white\",\"startlinecolor\":\"#2a3f5f\"},\"baxis\":{\"endlinecolor\":\"#2a3f5f\",\"gridcolor\":\"white\",\"linecolor\":\"white\",\"minorgridcolor\":\"white\",\"startlinecolor\":\"#2a3f5f\"},\"type\":\"carpet\"}],\"table\":[{\"cells\":{\"fill\":{\"color\":\"#EBF0F8\"},\"line\":{\"color\":\"white\"}},\"header\":{\"fill\":{\"color\":\"#C8D4E3\"},\"line\":{\"color\":\"white\"}},\"type\":\"table\"}],\"barpolar\":[{\"marker\":{\"line\":{\"color\":\"#E5ECF6\",\"width\":0.5},\"pattern\":{\"fillmode\":\"overlay\",\"size\":10,\"solidity\":0.2}},\"type\":\"barpolar\"}],\"pie\":[{\"automargin\":true,\"type\":\"pie\"}]},\"layout\":{\"autotypenumbers\":\"strict\",\"colorway\":[\"#636efa\",\"#EF553B\",\"#00cc96\",\"#ab63fa\",\"#FFA15A\",\"#19d3f3\",\"#FF6692\",\"#B6E880\",\"#FF97FF\",\"#FECB52\"],\"font\":{\"color\":\"#2a3f5f\"},\"hovermode\":\"closest\",\"hoverlabel\":{\"align\":\"left\"},\"paper_bgcolor\":\"white\",\"plot_bgcolor\":\"#E5ECF6\",\"polar\":{\"bgcolor\":\"#E5ECF6\",\"angularaxis\":{\"gridcolor\":\"white\",\"linecolor\":\"white\",\"ticks\":\"\"},\"radialaxis\":{\"gridcolor\":\"white\",\"linecolor\":\"white\",\"ticks\":\"\"}},\"ternary\":{\"bgcolor\":\"#E5ECF6\",\"aaxis\":{\"gridcolor\":\"white\",\"linecolor\":\"white\",\"ticks\":\"\"},\"baxis\":{\"gridcolor\":\"white\",\"linecolor\":\"white\",\"ticks\":\"\"},\"caxis\":{\"gridcolor\":\"white\",\"linecolor\":\"white\",\"ticks\":\"\"}},\"coloraxis\":{\"colorbar\":{\"outlinewidth\":0,\"ticks\":\"\"}},\"colorscale\":{\"sequential\":[[0.0,\"#0d0887\"],[0.1111111111111111,\"#46039f\"],[0.2222222222222222,\"#7201a8\"],[0.3333333333333333,\"#9c179e\"],[0.4444444444444444,\"#bd3786\"],[0.5555555555555556,\"#d8576b\"],[0.6666666666666666,\"#ed7953\"],[0.7777777777777778,\"#fb9f3a\"],[0.8888888888888888,\"#fdca26\"],[1.0,\"#f0f921\"]],\"sequentialminus\":[[0.0,\"#0d0887\"],[0.1111111111111111,\"#46039f\"],[0.2222222222222222,\"#7201a8\"],[0.3333333333333333,\"#9c179e\"],[0.4444444444444444,\"#bd3786\"],[0.5555555555555556,\"#d8576b\"],[0.6666666666666666,\"#ed7953\"],[0.7777777777777778,\"#fb9f3a\"],[0.8888888888888888,\"#fdca26\"],[1.0,\"#f0f921\"]],\"diverging\":[[0,\"#8e0152\"],[0.1,\"#c51b7d\"],[0.2,\"#de77ae\"],[0.3,\"#f1b6da\"],[0.4,\"#fde0ef\"],[0.5,\"#f7f7f7\"],[0.6,\"#e6f5d0\"],[0.7,\"#b8e186\"],[0.8,\"#7fbc41\"],[0.9,\"#4d9221\"],[1,\"#276419\"]]},\"xaxis\":{\"gridcolor\":\"white\",\"linecolor\":\"white\",\"ticks\":\"\",\"title\":{\"standoff\":15},\"zerolinecolor\":\"white\",\"automargin\":true,\"zerolinewidth\":2},\"yaxis\":{\"gridcolor\":\"white\",\"linecolor\":\"white\",\"ticks\":\"\",\"title\":{\"standoff\":15},\"zerolinecolor\":\"white\",\"automargin\":true,\"zerolinewidth\":2},\"scene\":{\"xaxis\":{\"backgroundcolor\":\"#E5ECF6\",\"gridcolor\":\"white\",\"linecolor\":\"white\",\"showbackground\":true,\"ticks\":\"\",\"zerolinecolor\":\"white\",\"gridwidth\":2},\"yaxis\":{\"backgroundcolor\":\"#E5ECF6\",\"gridcolor\":\"white\",\"linecolor\":\"white\",\"showbackground\":true,\"ticks\":\"\",\"zerolinecolor\":\"white\",\"gridwidth\":2},\"zaxis\":{\"backgroundcolor\":\"#E5ECF6\",\"gridcolor\":\"white\",\"linecolor\":\"white\",\"showbackground\":true,\"ticks\":\"\",\"zerolinecolor\":\"white\",\"gridwidth\":2}},\"shapedefaults\":{\"line\":{\"color\":\"#2a3f5f\"}},\"annotationdefaults\":{\"arrowcolor\":\"#2a3f5f\",\"arrowhead\":0,\"arrowwidth\":1},\"geo\":{\"bgcolor\":\"white\",\"landcolor\":\"#E5ECF6\",\"subunitcolor\":\"white\",\"showland\":true,\"showlakes\":true,\"lakecolor\":\"white\"},\"title\":{\"x\":0.05},\"mapbox\":{\"style\":\"light\"}}},\"mapbox\":{\"domain\":{\"x\":[0.0,1.0],\"y\":[0.0,1.0]},\"center\":{\"lat\":1.3088576116829773,\"lon\":103.84288341256257},\"zoom\":10,\"style\":\"open-street-map\"},\"legend\":{\"title\":{\"text\":\"neighbourhood_group\"},\"tracegroupgap\":0},\"margin\":{\"t\":0,\"r\":0,\"l\":0,\"b\":0},\"height\":500,\"width\":1000},                        {\"responsive\": true}                    ).then(function(){\n",
              "                            \n",
              "var gd = document.getElementById('034a42f4-3c84-470a-bc0b-e548be6eefb0');\n",
              "var x = new MutationObserver(function (mutations, observer) {{\n",
              "        var display = window.getComputedStyle(gd).display;\n",
              "        if (!display || display === 'none') {{\n",
              "            console.log([gd, 'removed!']);\n",
              "            Plotly.purge(gd);\n",
              "            observer.disconnect();\n",
              "        }}\n",
              "}});\n",
              "\n",
              "// Listen for the removal of the full notebook cells\n",
              "var notebookContainer = gd.closest('#notebook-container');\n",
              "if (notebookContainer) {{\n",
              "    x.observe(notebookContainer, {childList: true});\n",
              "}}\n",
              "\n",
              "// Listen for the clearing of the current output cell\n",
              "var outputEl = gd.closest('.output');\n",
              "if (outputEl) {{\n",
              "    x.observe(outputEl, {childList: true});\n",
              "}}\n",
              "\n",
              "                        })                };                            </script>        </div>\n",
              "</body>\n",
              "</html>"
            ]
          },
          "metadata": {}
        }
      ]
    },
    {
      "cell_type": "markdown",
      "source": [
        "Based on the map, most of listings properties distributed in the Central Region which is understandable because this region is the main metropolitan in Singapore. Therefore, listings properties in the Central Region can be easily found but its competitive level will also higher than other places."
      ],
      "metadata": {
        "id": "wbWciqDn_Hes"
      }
    },
    {
      "cell_type": "markdown",
      "source": [
        "#### **Listings Distribution by Room Type**"
      ],
      "metadata": {
        "id": "AI7ZC26d6vd4"
      }
    },
    {
      "cell_type": "code",
      "execution_count": null,
      "metadata": {
        "colab": {
          "base_uri": "https://localhost:8080/",
          "height": 542
        },
        "id": "bkXL88x28amy",
        "outputId": "6634e682-ac7e-482f-e69f-ee37634c79f8"
      },
      "outputs": [
        {
          "output_type": "display_data",
          "data": {
            "text/html": [
              "<html>\n",
              "<head><meta charset=\"utf-8\" /></head>\n",
              "<body>\n",
              "    <div>            <script src=\"https://cdnjs.cloudflare.com/ajax/libs/mathjax/2.7.5/MathJax.js?config=TeX-AMS-MML_SVG\"></script><script type=\"text/javascript\">if (window.MathJax && window.MathJax.Hub && window.MathJax.Hub.Config) {window.MathJax.Hub.Config({SVG: {font: \"STIX-Web\"}});}</script>                <script type=\"text/javascript\">window.PlotlyConfig = {MathJaxConfig: 'local'};</script>\n",
              "        <script src=\"https://cdn.plot.ly/plotly-2.18.2.min.js\"></script>                <div id=\"1e01d9c1-1a4f-4010-968f-4fdfcda483c0\" class=\"plotly-graph-div\" style=\"height:525px; width:100%;\"></div>            <script type=\"text/javascript\">                                    window.PLOTLYENV=window.PLOTLYENV || {};                                    if (document.getElementById(\"1e01d9c1-1a4f-4010-968f-4fdfcda483c0\")) {                    Plotly.newPlot(                        \"1e01d9c1-1a4f-4010-968f-4fdfcda483c0\",                        [{\"customdata\":[[\"Private room\"],[\"Entire home/apt\"],[\"Hotel room\"],[\"Shared room\"]],\"domain\":{\"x\":[0.0,1.0],\"y\":[0.0,1.0]},\"hole\":0.25,\"hovertemplate\":\"label=%{label}<br>value=%{value}<br>color=%{customdata[0]}<extra></extra>\",\"labels\":[\"Private room\",\"Entire home/apt\",\"Hotel room\",\"Shared room\"],\"legendgroup\":\"\",\"marker\":{\"colors\":[\"#995bd5\",\"#bf99f2\",\"#9cf945\",\"#509724\"]},\"name\":\"\",\"showlegend\":true,\"values\":[1312,1201,113,91],\"type\":\"pie\",\"textfont\":{\"color\":\"black\",\"size\":15},\"pull\":[0.05,0.05,0.1,0.05],\"rotation\":120,\"textinfo\":\"label+percent\",\"textposition\":\"inside\"}],                        {\"template\":{\"data\":{\"histogram2dcontour\":[{\"type\":\"histogram2dcontour\",\"colorbar\":{\"outlinewidth\":0,\"ticks\":\"\"},\"colorscale\":[[0.0,\"#0d0887\"],[0.1111111111111111,\"#46039f\"],[0.2222222222222222,\"#7201a8\"],[0.3333333333333333,\"#9c179e\"],[0.4444444444444444,\"#bd3786\"],[0.5555555555555556,\"#d8576b\"],[0.6666666666666666,\"#ed7953\"],[0.7777777777777778,\"#fb9f3a\"],[0.8888888888888888,\"#fdca26\"],[1.0,\"#f0f921\"]]}],\"choropleth\":[{\"type\":\"choropleth\",\"colorbar\":{\"outlinewidth\":0,\"ticks\":\"\"}}],\"histogram2d\":[{\"type\":\"histogram2d\",\"colorbar\":{\"outlinewidth\":0,\"ticks\":\"\"},\"colorscale\":[[0.0,\"#0d0887\"],[0.1111111111111111,\"#46039f\"],[0.2222222222222222,\"#7201a8\"],[0.3333333333333333,\"#9c179e\"],[0.4444444444444444,\"#bd3786\"],[0.5555555555555556,\"#d8576b\"],[0.6666666666666666,\"#ed7953\"],[0.7777777777777778,\"#fb9f3a\"],[0.8888888888888888,\"#fdca26\"],[1.0,\"#f0f921\"]]}],\"heatmap\":[{\"type\":\"heatmap\",\"colorbar\":{\"outlinewidth\":0,\"ticks\":\"\"},\"colorscale\":[[0.0,\"#0d0887\"],[0.1111111111111111,\"#46039f\"],[0.2222222222222222,\"#7201a8\"],[0.3333333333333333,\"#9c179e\"],[0.4444444444444444,\"#bd3786\"],[0.5555555555555556,\"#d8576b\"],[0.6666666666666666,\"#ed7953\"],[0.7777777777777778,\"#fb9f3a\"],[0.8888888888888888,\"#fdca26\"],[1.0,\"#f0f921\"]]}],\"heatmapgl\":[{\"type\":\"heatmapgl\",\"colorbar\":{\"outlinewidth\":0,\"ticks\":\"\"},\"colorscale\":[[0.0,\"#0d0887\"],[0.1111111111111111,\"#46039f\"],[0.2222222222222222,\"#7201a8\"],[0.3333333333333333,\"#9c179e\"],[0.4444444444444444,\"#bd3786\"],[0.5555555555555556,\"#d8576b\"],[0.6666666666666666,\"#ed7953\"],[0.7777777777777778,\"#fb9f3a\"],[0.8888888888888888,\"#fdca26\"],[1.0,\"#f0f921\"]]}],\"contourcarpet\":[{\"type\":\"contourcarpet\",\"colorbar\":{\"outlinewidth\":0,\"ticks\":\"\"}}],\"contour\":[{\"type\":\"contour\",\"colorbar\":{\"outlinewidth\":0,\"ticks\":\"\"},\"colorscale\":[[0.0,\"#0d0887\"],[0.1111111111111111,\"#46039f\"],[0.2222222222222222,\"#7201a8\"],[0.3333333333333333,\"#9c179e\"],[0.4444444444444444,\"#bd3786\"],[0.5555555555555556,\"#d8576b\"],[0.6666666666666666,\"#ed7953\"],[0.7777777777777778,\"#fb9f3a\"],[0.8888888888888888,\"#fdca26\"],[1.0,\"#f0f921\"]]}],\"surface\":[{\"type\":\"surface\",\"colorbar\":{\"outlinewidth\":0,\"ticks\":\"\"},\"colorscale\":[[0.0,\"#0d0887\"],[0.1111111111111111,\"#46039f\"],[0.2222222222222222,\"#7201a8\"],[0.3333333333333333,\"#9c179e\"],[0.4444444444444444,\"#bd3786\"],[0.5555555555555556,\"#d8576b\"],[0.6666666666666666,\"#ed7953\"],[0.7777777777777778,\"#fb9f3a\"],[0.8888888888888888,\"#fdca26\"],[1.0,\"#f0f921\"]]}],\"mesh3d\":[{\"type\":\"mesh3d\",\"colorbar\":{\"outlinewidth\":0,\"ticks\":\"\"}}],\"scatter\":[{\"fillpattern\":{\"fillmode\":\"overlay\",\"size\":10,\"solidity\":0.2},\"type\":\"scatter\"}],\"parcoords\":[{\"type\":\"parcoords\",\"line\":{\"colorbar\":{\"outlinewidth\":0,\"ticks\":\"\"}}}],\"scatterpolargl\":[{\"type\":\"scatterpolargl\",\"marker\":{\"colorbar\":{\"outlinewidth\":0,\"ticks\":\"\"}}}],\"bar\":[{\"error_x\":{\"color\":\"#2a3f5f\"},\"error_y\":{\"color\":\"#2a3f5f\"},\"marker\":{\"line\":{\"color\":\"#E5ECF6\",\"width\":0.5},\"pattern\":{\"fillmode\":\"overlay\",\"size\":10,\"solidity\":0.2}},\"type\":\"bar\"}],\"scattergeo\":[{\"type\":\"scattergeo\",\"marker\":{\"colorbar\":{\"outlinewidth\":0,\"ticks\":\"\"}}}],\"scatterpolar\":[{\"type\":\"scatterpolar\",\"marker\":{\"colorbar\":{\"outlinewidth\":0,\"ticks\":\"\"}}}],\"histogram\":[{\"marker\":{\"pattern\":{\"fillmode\":\"overlay\",\"size\":10,\"solidity\":0.2}},\"type\":\"histogram\"}],\"scattergl\":[{\"type\":\"scattergl\",\"marker\":{\"colorbar\":{\"outlinewidth\":0,\"ticks\":\"\"}}}],\"scatter3d\":[{\"type\":\"scatter3d\",\"line\":{\"colorbar\":{\"outlinewidth\":0,\"ticks\":\"\"}},\"marker\":{\"colorbar\":{\"outlinewidth\":0,\"ticks\":\"\"}}}],\"scattermapbox\":[{\"type\":\"scattermapbox\",\"marker\":{\"colorbar\":{\"outlinewidth\":0,\"ticks\":\"\"}}}],\"scatterternary\":[{\"type\":\"scatterternary\",\"marker\":{\"colorbar\":{\"outlinewidth\":0,\"ticks\":\"\"}}}],\"scattercarpet\":[{\"type\":\"scattercarpet\",\"marker\":{\"colorbar\":{\"outlinewidth\":0,\"ticks\":\"\"}}}],\"carpet\":[{\"aaxis\":{\"endlinecolor\":\"#2a3f5f\",\"gridcolor\":\"white\",\"linecolor\":\"white\",\"minorgridcolor\":\"white\",\"startlinecolor\":\"#2a3f5f\"},\"baxis\":{\"endlinecolor\":\"#2a3f5f\",\"gridcolor\":\"white\",\"linecolor\":\"white\",\"minorgridcolor\":\"white\",\"startlinecolor\":\"#2a3f5f\"},\"type\":\"carpet\"}],\"table\":[{\"cells\":{\"fill\":{\"color\":\"#EBF0F8\"},\"line\":{\"color\":\"white\"}},\"header\":{\"fill\":{\"color\":\"#C8D4E3\"},\"line\":{\"color\":\"white\"}},\"type\":\"table\"}],\"barpolar\":[{\"marker\":{\"line\":{\"color\":\"#E5ECF6\",\"width\":0.5},\"pattern\":{\"fillmode\":\"overlay\",\"size\":10,\"solidity\":0.2}},\"type\":\"barpolar\"}],\"pie\":[{\"automargin\":true,\"type\":\"pie\"}]},\"layout\":{\"autotypenumbers\":\"strict\",\"colorway\":[\"#636efa\",\"#EF553B\",\"#00cc96\",\"#ab63fa\",\"#FFA15A\",\"#19d3f3\",\"#FF6692\",\"#B6E880\",\"#FF97FF\",\"#FECB52\"],\"font\":{\"color\":\"#2a3f5f\"},\"hovermode\":\"closest\",\"hoverlabel\":{\"align\":\"left\"},\"paper_bgcolor\":\"white\",\"plot_bgcolor\":\"#E5ECF6\",\"polar\":{\"bgcolor\":\"#E5ECF6\",\"angularaxis\":{\"gridcolor\":\"white\",\"linecolor\":\"white\",\"ticks\":\"\"},\"radialaxis\":{\"gridcolor\":\"white\",\"linecolor\":\"white\",\"ticks\":\"\"}},\"ternary\":{\"bgcolor\":\"#E5ECF6\",\"aaxis\":{\"gridcolor\":\"white\",\"linecolor\":\"white\",\"ticks\":\"\"},\"baxis\":{\"gridcolor\":\"white\",\"linecolor\":\"white\",\"ticks\":\"\"},\"caxis\":{\"gridcolor\":\"white\",\"linecolor\":\"white\",\"ticks\":\"\"}},\"coloraxis\":{\"colorbar\":{\"outlinewidth\":0,\"ticks\":\"\"}},\"colorscale\":{\"sequential\":[[0.0,\"#0d0887\"],[0.1111111111111111,\"#46039f\"],[0.2222222222222222,\"#7201a8\"],[0.3333333333333333,\"#9c179e\"],[0.4444444444444444,\"#bd3786\"],[0.5555555555555556,\"#d8576b\"],[0.6666666666666666,\"#ed7953\"],[0.7777777777777778,\"#fb9f3a\"],[0.8888888888888888,\"#fdca26\"],[1.0,\"#f0f921\"]],\"sequentialminus\":[[0.0,\"#0d0887\"],[0.1111111111111111,\"#46039f\"],[0.2222222222222222,\"#7201a8\"],[0.3333333333333333,\"#9c179e\"],[0.4444444444444444,\"#bd3786\"],[0.5555555555555556,\"#d8576b\"],[0.6666666666666666,\"#ed7953\"],[0.7777777777777778,\"#fb9f3a\"],[0.8888888888888888,\"#fdca26\"],[1.0,\"#f0f921\"]],\"diverging\":[[0,\"#8e0152\"],[0.1,\"#c51b7d\"],[0.2,\"#de77ae\"],[0.3,\"#f1b6da\"],[0.4,\"#fde0ef\"],[0.5,\"#f7f7f7\"],[0.6,\"#e6f5d0\"],[0.7,\"#b8e186\"],[0.8,\"#7fbc41\"],[0.9,\"#4d9221\"],[1,\"#276419\"]]},\"xaxis\":{\"gridcolor\":\"white\",\"linecolor\":\"white\",\"ticks\":\"\",\"title\":{\"standoff\":15},\"zerolinecolor\":\"white\",\"automargin\":true,\"zerolinewidth\":2},\"yaxis\":{\"gridcolor\":\"white\",\"linecolor\":\"white\",\"ticks\":\"\",\"title\":{\"standoff\":15},\"zerolinecolor\":\"white\",\"automargin\":true,\"zerolinewidth\":2},\"scene\":{\"xaxis\":{\"backgroundcolor\":\"#E5ECF6\",\"gridcolor\":\"white\",\"linecolor\":\"white\",\"showbackground\":true,\"ticks\":\"\",\"zerolinecolor\":\"white\",\"gridwidth\":2},\"yaxis\":{\"backgroundcolor\":\"#E5ECF6\",\"gridcolor\":\"white\",\"linecolor\":\"white\",\"showbackground\":true,\"ticks\":\"\",\"zerolinecolor\":\"white\",\"gridwidth\":2},\"zaxis\":{\"backgroundcolor\":\"#E5ECF6\",\"gridcolor\":\"white\",\"linecolor\":\"white\",\"showbackground\":true,\"ticks\":\"\",\"zerolinecolor\":\"white\",\"gridwidth\":2}},\"shapedefaults\":{\"line\":{\"color\":\"#2a3f5f\"}},\"annotationdefaults\":{\"arrowcolor\":\"#2a3f5f\",\"arrowhead\":0,\"arrowwidth\":1},\"geo\":{\"bgcolor\":\"white\",\"landcolor\":\"#E5ECF6\",\"subunitcolor\":\"white\",\"showland\":true,\"showlakes\":true,\"lakecolor\":\"white\"},\"title\":{\"x\":0.05},\"mapbox\":{\"style\":\"light\"}}},\"legend\":{\"tracegroupgap\":0},\"margin\":{\"t\":60},\"piecolorway\":[\"#995bd5\",\"#bf99f2\",\"#9cf945\",\"#509724\"],\"title\":{\"text\":\"<b>Listings Distribution by Room Type</b>\",\"font\":{\"size\":20}}},                        {\"responsive\": true}                    ).then(function(){\n",
              "                            \n",
              "var gd = document.getElementById('1e01d9c1-1a4f-4010-968f-4fdfcda483c0');\n",
              "var x = new MutationObserver(function (mutations, observer) {{\n",
              "        var display = window.getComputedStyle(gd).display;\n",
              "        if (!display || display === 'none') {{\n",
              "            console.log([gd, 'removed!']);\n",
              "            Plotly.purge(gd);\n",
              "            observer.disconnect();\n",
              "        }}\n",
              "}});\n",
              "\n",
              "// Listen for the removal of the full notebook cells\n",
              "var notebookContainer = gd.closest('#notebook-container');\n",
              "if (notebookContainer) {{\n",
              "    x.observe(notebookContainer, {childList: true});\n",
              "}}\n",
              "\n",
              "// Listen for the clearing of the current output cell\n",
              "var outputEl = gd.closest('.output');\n",
              "if (outputEl) {{\n",
              "    x.observe(outputEl, {childList: true});\n",
              "}}\n",
              "\n",
              "                        })                };                            </script>        </div>\n",
              "</body>\n",
              "</html>"
            ]
          },
          "metadata": {}
        }
      ],
      "source": [
        "fig_roomtype_pie = px.pie(listings, values=listings['room_type'].value_counts().values, color=listings['room_type'].value_counts().index, names=listings['room_type'].value_counts().index, color_discrete_sequence=['#995bd5', '#bf99f2', '#9cf945', '#509724'], hole=0.25)\n",
        "fig_roomtype_pie.update_traces(textposition='inside', textfont=dict(color='black',size=15), textinfo='label+percent', pull=[0.05,0.05,0.1,0.05],rotation = 120)\n",
        "fig_roomtype_pie.update_layout(title='<b>Listings Distribution by Room Type</b>', title_font=dict(size=20))\n",
        "fig_roomtype_pie.show()"
      ]
    },
    {
      "cell_type": "markdown",
      "source": [
        "Listings distribution dominated by private room type with 48.3% followed closely by entire home/apt type with 44.2%, and the rest are hotel room 4.16% and shared room 3.35%"
      ],
      "metadata": {
        "id": "Yp4GoKhXBYPD"
      }
    },
    {
      "cell_type": "markdown",
      "source": [
        "### **The Most Rooms Listings Properties in Singapore**"
      ],
      "metadata": {
        "id": "SGQKtJhYCVls"
      }
    },
    {
      "cell_type": "markdown",
      "source": [
        "#### **Top 10 Neighborhood with The Most Rooms**"
      ],
      "metadata": {
        "id": "L5gEG5f9C1wH"
      }
    },
    {
      "cell_type": "code",
      "source": [
        "top_neighborhood = listings_neighborhood.groupby(['neighbourhood_group', 'neighbourhood']).agg(count=('neighbourhood','count')).sort_values(by=['count'],ascending=False).reset_index().head(10)\n",
        "top_neighborhood"
      ],
      "metadata": {
        "colab": {
          "base_uri": "https://localhost:8080/",
          "height": 376
        },
        "id": "3Ha9rQdQcO0-",
        "outputId": "7c9a168e-1545-4342-851b-51530b0a5ff4"
      },
      "execution_count": null,
      "outputs": [
        {
          "output_type": "execute_result",
          "data": {
            "text/plain": [
              "  neighbourhood_group  neighbourhood  count\n",
              "0      Central Region        Kallang    346\n",
              "1      Central Region  Downtown Core    270\n",
              "2      Central Region         Outram    240\n",
              "3      Central Region         Novena    181\n",
              "4      Central Region     Queenstown    175\n",
              "5      Central Region         Rochor    174\n",
              "6      Central Region        Geylang    148\n",
              "7      Central Region    Bukit Merah    140\n",
              "8      Central Region   River Valley    133\n",
              "9         East Region          Bedok    105"
            ],
            "text/html": [
              "\n",
              "  <div id=\"df-cff5e6d7-f4ad-4b7c-86bb-3a30d92ce590\">\n",
              "    <div class=\"colab-df-container\">\n",
              "      <div>\n",
              "<style scoped>\n",
              "    .dataframe tbody tr th:only-of-type {\n",
              "        vertical-align: middle;\n",
              "    }\n",
              "\n",
              "    .dataframe tbody tr th {\n",
              "        vertical-align: top;\n",
              "    }\n",
              "\n",
              "    .dataframe thead th {\n",
              "        text-align: right;\n",
              "    }\n",
              "</style>\n",
              "<table border=\"1\" class=\"dataframe\">\n",
              "  <thead>\n",
              "    <tr style=\"text-align: right;\">\n",
              "      <th></th>\n",
              "      <th>neighbourhood_group</th>\n",
              "      <th>neighbourhood</th>\n",
              "      <th>count</th>\n",
              "    </tr>\n",
              "  </thead>\n",
              "  <tbody>\n",
              "    <tr>\n",
              "      <th>0</th>\n",
              "      <td>Central Region</td>\n",
              "      <td>Kallang</td>\n",
              "      <td>346</td>\n",
              "    </tr>\n",
              "    <tr>\n",
              "      <th>1</th>\n",
              "      <td>Central Region</td>\n",
              "      <td>Downtown Core</td>\n",
              "      <td>270</td>\n",
              "    </tr>\n",
              "    <tr>\n",
              "      <th>2</th>\n",
              "      <td>Central Region</td>\n",
              "      <td>Outram</td>\n",
              "      <td>240</td>\n",
              "    </tr>\n",
              "    <tr>\n",
              "      <th>3</th>\n",
              "      <td>Central Region</td>\n",
              "      <td>Novena</td>\n",
              "      <td>181</td>\n",
              "    </tr>\n",
              "    <tr>\n",
              "      <th>4</th>\n",
              "      <td>Central Region</td>\n",
              "      <td>Queenstown</td>\n",
              "      <td>175</td>\n",
              "    </tr>\n",
              "    <tr>\n",
              "      <th>5</th>\n",
              "      <td>Central Region</td>\n",
              "      <td>Rochor</td>\n",
              "      <td>174</td>\n",
              "    </tr>\n",
              "    <tr>\n",
              "      <th>6</th>\n",
              "      <td>Central Region</td>\n",
              "      <td>Geylang</td>\n",
              "      <td>148</td>\n",
              "    </tr>\n",
              "    <tr>\n",
              "      <th>7</th>\n",
              "      <td>Central Region</td>\n",
              "      <td>Bukit Merah</td>\n",
              "      <td>140</td>\n",
              "    </tr>\n",
              "    <tr>\n",
              "      <th>8</th>\n",
              "      <td>Central Region</td>\n",
              "      <td>River Valley</td>\n",
              "      <td>133</td>\n",
              "    </tr>\n",
              "    <tr>\n",
              "      <th>9</th>\n",
              "      <td>East Region</td>\n",
              "      <td>Bedok</td>\n",
              "      <td>105</td>\n",
              "    </tr>\n",
              "  </tbody>\n",
              "</table>\n",
              "</div>\n",
              "      <button class=\"colab-df-convert\" onclick=\"convertToInteractive('df-cff5e6d7-f4ad-4b7c-86bb-3a30d92ce590')\"\n",
              "              title=\"Convert this dataframe to an interactive table.\"\n",
              "              style=\"display:none;\">\n",
              "        \n",
              "  <svg xmlns=\"http://www.w3.org/2000/svg\" height=\"24px\"viewBox=\"0 0 24 24\"\n",
              "       width=\"24px\">\n",
              "    <path d=\"M0 0h24v24H0V0z\" fill=\"none\"/>\n",
              "    <path d=\"M18.56 5.44l.94 2.06.94-2.06 2.06-.94-2.06-.94-.94-2.06-.94 2.06-2.06.94zm-11 1L8.5 8.5l.94-2.06 2.06-.94-2.06-.94L8.5 2.5l-.94 2.06-2.06.94zm10 10l.94 2.06.94-2.06 2.06-.94-2.06-.94-.94-2.06-.94 2.06-2.06.94z\"/><path d=\"M17.41 7.96l-1.37-1.37c-.4-.4-.92-.59-1.43-.59-.52 0-1.04.2-1.43.59L10.3 9.45l-7.72 7.72c-.78.78-.78 2.05 0 2.83L4 21.41c.39.39.9.59 1.41.59.51 0 1.02-.2 1.41-.59l7.78-7.78 2.81-2.81c.8-.78.8-2.07 0-2.86zM5.41 20L4 18.59l7.72-7.72 1.47 1.35L5.41 20z\"/>\n",
              "  </svg>\n",
              "      </button>\n",
              "      \n",
              "  <style>\n",
              "    .colab-df-container {\n",
              "      display:flex;\n",
              "      flex-wrap:wrap;\n",
              "      gap: 12px;\n",
              "    }\n",
              "\n",
              "    .colab-df-convert {\n",
              "      background-color: #E8F0FE;\n",
              "      border: none;\n",
              "      border-radius: 50%;\n",
              "      cursor: pointer;\n",
              "      display: none;\n",
              "      fill: #1967D2;\n",
              "      height: 32px;\n",
              "      padding: 0 0 0 0;\n",
              "      width: 32px;\n",
              "    }\n",
              "\n",
              "    .colab-df-convert:hover {\n",
              "      background-color: #E2EBFA;\n",
              "      box-shadow: 0px 1px 2px rgba(60, 64, 67, 0.3), 0px 1px 3px 1px rgba(60, 64, 67, 0.15);\n",
              "      fill: #174EA6;\n",
              "    }\n",
              "\n",
              "    [theme=dark] .colab-df-convert {\n",
              "      background-color: #3B4455;\n",
              "      fill: #D2E3FC;\n",
              "    }\n",
              "\n",
              "    [theme=dark] .colab-df-convert:hover {\n",
              "      background-color: #434B5C;\n",
              "      box-shadow: 0px 1px 3px 1px rgba(0, 0, 0, 0.15);\n",
              "      filter: drop-shadow(0px 1px 2px rgba(0, 0, 0, 0.3));\n",
              "      fill: #FFFFFF;\n",
              "    }\n",
              "  </style>\n",
              "\n",
              "      <script>\n",
              "        const buttonEl =\n",
              "          document.querySelector('#df-cff5e6d7-f4ad-4b7c-86bb-3a30d92ce590 button.colab-df-convert');\n",
              "        buttonEl.style.display =\n",
              "          google.colab.kernel.accessAllowed ? 'block' : 'none';\n",
              "\n",
              "        async function convertToInteractive(key) {\n",
              "          const element = document.querySelector('#df-cff5e6d7-f4ad-4b7c-86bb-3a30d92ce590');\n",
              "          const dataTable =\n",
              "            await google.colab.kernel.invokeFunction('convertToInteractive',\n",
              "                                                     [key], {});\n",
              "          if (!dataTable) return;\n",
              "\n",
              "          const docLinkHtml = 'Like what you see? Visit the ' +\n",
              "            '<a target=\"_blank\" href=https://colab.research.google.com/notebooks/data_table.ipynb>data table notebook</a>'\n",
              "            + ' to learn more about interactive tables.';\n",
              "          element.innerHTML = '';\n",
              "          dataTable['output_type'] = 'display_data';\n",
              "          await google.colab.output.renderOutput(dataTable, element);\n",
              "          const docLink = document.createElement('div');\n",
              "          docLink.innerHTML = docLinkHtml;\n",
              "          element.appendChild(docLink);\n",
              "        }\n",
              "      </script>\n",
              "    </div>\n",
              "  </div>\n",
              "  "
            ]
          },
          "metadata": {},
          "execution_count": 34
        }
      ]
    },
    {
      "cell_type": "code",
      "source": [
        "fig_top_neighborhood = px.bar(top_neighborhood, x = 'neighbourhood', y = 'count', color = 'neighbourhood_group', orientation = 'v', width = 1000 )\n",
        "fig_top_neighborhood.update_layout(title='<b>Top 10 Neighborhood with The Most Rooms</b>', title_font=dict(size=20))\n",
        "fig_top_neighborhood.update_layout(xaxis={'categoryorder':'total descending'})\n",
        "display(fig_top_neighborhood)"
      ],
      "metadata": {
        "colab": {
          "base_uri": "https://localhost:8080/",
          "height": 542
        },
        "id": "SXwHRRvCcqt2",
        "outputId": "2a7e1f1f-3cbf-4745-d0b0-848931fc7c5c"
      },
      "execution_count": null,
      "outputs": [
        {
          "output_type": "display_data",
          "data": {
            "text/html": [
              "<html>\n",
              "<head><meta charset=\"utf-8\" /></head>\n",
              "<body>\n",
              "    <div>            <script src=\"https://cdnjs.cloudflare.com/ajax/libs/mathjax/2.7.5/MathJax.js?config=TeX-AMS-MML_SVG\"></script><script type=\"text/javascript\">if (window.MathJax && window.MathJax.Hub && window.MathJax.Hub.Config) {window.MathJax.Hub.Config({SVG: {font: \"STIX-Web\"}});}</script>                <script type=\"text/javascript\">window.PlotlyConfig = {MathJaxConfig: 'local'};</script>\n",
              "        <script src=\"https://cdn.plot.ly/plotly-2.18.2.min.js\"></script>                <div id=\"03fa5c6f-4b98-4073-813e-652f6f6cbae0\" class=\"plotly-graph-div\" style=\"height:525px; width:1000px;\"></div>            <script type=\"text/javascript\">                                    window.PLOTLYENV=window.PLOTLYENV || {};                                    if (document.getElementById(\"03fa5c6f-4b98-4073-813e-652f6f6cbae0\")) {                    Plotly.newPlot(                        \"03fa5c6f-4b98-4073-813e-652f6f6cbae0\",                        [{\"alignmentgroup\":\"True\",\"hovertemplate\":\"neighbourhood_group=Central Region<br>neighbourhood=%{x}<br>count=%{y}<extra></extra>\",\"legendgroup\":\"Central Region\",\"marker\":{\"color\":\"#636efa\",\"pattern\":{\"shape\":\"\"}},\"name\":\"Central Region\",\"offsetgroup\":\"Central Region\",\"orientation\":\"v\",\"showlegend\":true,\"textposition\":\"auto\",\"x\":[\"Kallang\",\"Downtown Core\",\"Outram\",\"Novena\",\"Queenstown\",\"Rochor\",\"Geylang\",\"Bukit Merah\",\"River Valley\"],\"xaxis\":\"x\",\"y\":[346,270,240,181,175,174,148,140,133],\"yaxis\":\"y\",\"type\":\"bar\"},{\"alignmentgroup\":\"True\",\"hovertemplate\":\"neighbourhood_group=East Region<br>neighbourhood=%{x}<br>count=%{y}<extra></extra>\",\"legendgroup\":\"East Region\",\"marker\":{\"color\":\"#EF553B\",\"pattern\":{\"shape\":\"\"}},\"name\":\"East Region\",\"offsetgroup\":\"East Region\",\"orientation\":\"v\",\"showlegend\":true,\"textposition\":\"auto\",\"x\":[\"Bedok\"],\"xaxis\":\"x\",\"y\":[105],\"yaxis\":\"y\",\"type\":\"bar\"}],                        {\"template\":{\"data\":{\"histogram2dcontour\":[{\"type\":\"histogram2dcontour\",\"colorbar\":{\"outlinewidth\":0,\"ticks\":\"\"},\"colorscale\":[[0.0,\"#0d0887\"],[0.1111111111111111,\"#46039f\"],[0.2222222222222222,\"#7201a8\"],[0.3333333333333333,\"#9c179e\"],[0.4444444444444444,\"#bd3786\"],[0.5555555555555556,\"#d8576b\"],[0.6666666666666666,\"#ed7953\"],[0.7777777777777778,\"#fb9f3a\"],[0.8888888888888888,\"#fdca26\"],[1.0,\"#f0f921\"]]}],\"choropleth\":[{\"type\":\"choropleth\",\"colorbar\":{\"outlinewidth\":0,\"ticks\":\"\"}}],\"histogram2d\":[{\"type\":\"histogram2d\",\"colorbar\":{\"outlinewidth\":0,\"ticks\":\"\"},\"colorscale\":[[0.0,\"#0d0887\"],[0.1111111111111111,\"#46039f\"],[0.2222222222222222,\"#7201a8\"],[0.3333333333333333,\"#9c179e\"],[0.4444444444444444,\"#bd3786\"],[0.5555555555555556,\"#d8576b\"],[0.6666666666666666,\"#ed7953\"],[0.7777777777777778,\"#fb9f3a\"],[0.8888888888888888,\"#fdca26\"],[1.0,\"#f0f921\"]]}],\"heatmap\":[{\"type\":\"heatmap\",\"colorbar\":{\"outlinewidth\":0,\"ticks\":\"\"},\"colorscale\":[[0.0,\"#0d0887\"],[0.1111111111111111,\"#46039f\"],[0.2222222222222222,\"#7201a8\"],[0.3333333333333333,\"#9c179e\"],[0.4444444444444444,\"#bd3786\"],[0.5555555555555556,\"#d8576b\"],[0.6666666666666666,\"#ed7953\"],[0.7777777777777778,\"#fb9f3a\"],[0.8888888888888888,\"#fdca26\"],[1.0,\"#f0f921\"]]}],\"heatmapgl\":[{\"type\":\"heatmapgl\",\"colorbar\":{\"outlinewidth\":0,\"ticks\":\"\"},\"colorscale\":[[0.0,\"#0d0887\"],[0.1111111111111111,\"#46039f\"],[0.2222222222222222,\"#7201a8\"],[0.3333333333333333,\"#9c179e\"],[0.4444444444444444,\"#bd3786\"],[0.5555555555555556,\"#d8576b\"],[0.6666666666666666,\"#ed7953\"],[0.7777777777777778,\"#fb9f3a\"],[0.8888888888888888,\"#fdca26\"],[1.0,\"#f0f921\"]]}],\"contourcarpet\":[{\"type\":\"contourcarpet\",\"colorbar\":{\"outlinewidth\":0,\"ticks\":\"\"}}],\"contour\":[{\"type\":\"contour\",\"colorbar\":{\"outlinewidth\":0,\"ticks\":\"\"},\"colorscale\":[[0.0,\"#0d0887\"],[0.1111111111111111,\"#46039f\"],[0.2222222222222222,\"#7201a8\"],[0.3333333333333333,\"#9c179e\"],[0.4444444444444444,\"#bd3786\"],[0.5555555555555556,\"#d8576b\"],[0.6666666666666666,\"#ed7953\"],[0.7777777777777778,\"#fb9f3a\"],[0.8888888888888888,\"#fdca26\"],[1.0,\"#f0f921\"]]}],\"surface\":[{\"type\":\"surface\",\"colorbar\":{\"outlinewidth\":0,\"ticks\":\"\"},\"colorscale\":[[0.0,\"#0d0887\"],[0.1111111111111111,\"#46039f\"],[0.2222222222222222,\"#7201a8\"],[0.3333333333333333,\"#9c179e\"],[0.4444444444444444,\"#bd3786\"],[0.5555555555555556,\"#d8576b\"],[0.6666666666666666,\"#ed7953\"],[0.7777777777777778,\"#fb9f3a\"],[0.8888888888888888,\"#fdca26\"],[1.0,\"#f0f921\"]]}],\"mesh3d\":[{\"type\":\"mesh3d\",\"colorbar\":{\"outlinewidth\":0,\"ticks\":\"\"}}],\"scatter\":[{\"fillpattern\":{\"fillmode\":\"overlay\",\"size\":10,\"solidity\":0.2},\"type\":\"scatter\"}],\"parcoords\":[{\"type\":\"parcoords\",\"line\":{\"colorbar\":{\"outlinewidth\":0,\"ticks\":\"\"}}}],\"scatterpolargl\":[{\"type\":\"scatterpolargl\",\"marker\":{\"colorbar\":{\"outlinewidth\":0,\"ticks\":\"\"}}}],\"bar\":[{\"error_x\":{\"color\":\"#2a3f5f\"},\"error_y\":{\"color\":\"#2a3f5f\"},\"marker\":{\"line\":{\"color\":\"#E5ECF6\",\"width\":0.5},\"pattern\":{\"fillmode\":\"overlay\",\"size\":10,\"solidity\":0.2}},\"type\":\"bar\"}],\"scattergeo\":[{\"type\":\"scattergeo\",\"marker\":{\"colorbar\":{\"outlinewidth\":0,\"ticks\":\"\"}}}],\"scatterpolar\":[{\"type\":\"scatterpolar\",\"marker\":{\"colorbar\":{\"outlinewidth\":0,\"ticks\":\"\"}}}],\"histogram\":[{\"marker\":{\"pattern\":{\"fillmode\":\"overlay\",\"size\":10,\"solidity\":0.2}},\"type\":\"histogram\"}],\"scattergl\":[{\"type\":\"scattergl\",\"marker\":{\"colorbar\":{\"outlinewidth\":0,\"ticks\":\"\"}}}],\"scatter3d\":[{\"type\":\"scatter3d\",\"line\":{\"colorbar\":{\"outlinewidth\":0,\"ticks\":\"\"}},\"marker\":{\"colorbar\":{\"outlinewidth\":0,\"ticks\":\"\"}}}],\"scattermapbox\":[{\"type\":\"scattermapbox\",\"marker\":{\"colorbar\":{\"outlinewidth\":0,\"ticks\":\"\"}}}],\"scatterternary\":[{\"type\":\"scatterternary\",\"marker\":{\"colorbar\":{\"outlinewidth\":0,\"ticks\":\"\"}}}],\"scattercarpet\":[{\"type\":\"scattercarpet\",\"marker\":{\"colorbar\":{\"outlinewidth\":0,\"ticks\":\"\"}}}],\"carpet\":[{\"aaxis\":{\"endlinecolor\":\"#2a3f5f\",\"gridcolor\":\"white\",\"linecolor\":\"white\",\"minorgridcolor\":\"white\",\"startlinecolor\":\"#2a3f5f\"},\"baxis\":{\"endlinecolor\":\"#2a3f5f\",\"gridcolor\":\"white\",\"linecolor\":\"white\",\"minorgridcolor\":\"white\",\"startlinecolor\":\"#2a3f5f\"},\"type\":\"carpet\"}],\"table\":[{\"cells\":{\"fill\":{\"color\":\"#EBF0F8\"},\"line\":{\"color\":\"white\"}},\"header\":{\"fill\":{\"color\":\"#C8D4E3\"},\"line\":{\"color\":\"white\"}},\"type\":\"table\"}],\"barpolar\":[{\"marker\":{\"line\":{\"color\":\"#E5ECF6\",\"width\":0.5},\"pattern\":{\"fillmode\":\"overlay\",\"size\":10,\"solidity\":0.2}},\"type\":\"barpolar\"}],\"pie\":[{\"automargin\":true,\"type\":\"pie\"}]},\"layout\":{\"autotypenumbers\":\"strict\",\"colorway\":[\"#636efa\",\"#EF553B\",\"#00cc96\",\"#ab63fa\",\"#FFA15A\",\"#19d3f3\",\"#FF6692\",\"#B6E880\",\"#FF97FF\",\"#FECB52\"],\"font\":{\"color\":\"#2a3f5f\"},\"hovermode\":\"closest\",\"hoverlabel\":{\"align\":\"left\"},\"paper_bgcolor\":\"white\",\"plot_bgcolor\":\"#E5ECF6\",\"polar\":{\"bgcolor\":\"#E5ECF6\",\"angularaxis\":{\"gridcolor\":\"white\",\"linecolor\":\"white\",\"ticks\":\"\"},\"radialaxis\":{\"gridcolor\":\"white\",\"linecolor\":\"white\",\"ticks\":\"\"}},\"ternary\":{\"bgcolor\":\"#E5ECF6\",\"aaxis\":{\"gridcolor\":\"white\",\"linecolor\":\"white\",\"ticks\":\"\"},\"baxis\":{\"gridcolor\":\"white\",\"linecolor\":\"white\",\"ticks\":\"\"},\"caxis\":{\"gridcolor\":\"white\",\"linecolor\":\"white\",\"ticks\":\"\"}},\"coloraxis\":{\"colorbar\":{\"outlinewidth\":0,\"ticks\":\"\"}},\"colorscale\":{\"sequential\":[[0.0,\"#0d0887\"],[0.1111111111111111,\"#46039f\"],[0.2222222222222222,\"#7201a8\"],[0.3333333333333333,\"#9c179e\"],[0.4444444444444444,\"#bd3786\"],[0.5555555555555556,\"#d8576b\"],[0.6666666666666666,\"#ed7953\"],[0.7777777777777778,\"#fb9f3a\"],[0.8888888888888888,\"#fdca26\"],[1.0,\"#f0f921\"]],\"sequentialminus\":[[0.0,\"#0d0887\"],[0.1111111111111111,\"#46039f\"],[0.2222222222222222,\"#7201a8\"],[0.3333333333333333,\"#9c179e\"],[0.4444444444444444,\"#bd3786\"],[0.5555555555555556,\"#d8576b\"],[0.6666666666666666,\"#ed7953\"],[0.7777777777777778,\"#fb9f3a\"],[0.8888888888888888,\"#fdca26\"],[1.0,\"#f0f921\"]],\"diverging\":[[0,\"#8e0152\"],[0.1,\"#c51b7d\"],[0.2,\"#de77ae\"],[0.3,\"#f1b6da\"],[0.4,\"#fde0ef\"],[0.5,\"#f7f7f7\"],[0.6,\"#e6f5d0\"],[0.7,\"#b8e186\"],[0.8,\"#7fbc41\"],[0.9,\"#4d9221\"],[1,\"#276419\"]]},\"xaxis\":{\"gridcolor\":\"white\",\"linecolor\":\"white\",\"ticks\":\"\",\"title\":{\"standoff\":15},\"zerolinecolor\":\"white\",\"automargin\":true,\"zerolinewidth\":2},\"yaxis\":{\"gridcolor\":\"white\",\"linecolor\":\"white\",\"ticks\":\"\",\"title\":{\"standoff\":15},\"zerolinecolor\":\"white\",\"automargin\":true,\"zerolinewidth\":2},\"scene\":{\"xaxis\":{\"backgroundcolor\":\"#E5ECF6\",\"gridcolor\":\"white\",\"linecolor\":\"white\",\"showbackground\":true,\"ticks\":\"\",\"zerolinecolor\":\"white\",\"gridwidth\":2},\"yaxis\":{\"backgroundcolor\":\"#E5ECF6\",\"gridcolor\":\"white\",\"linecolor\":\"white\",\"showbackground\":true,\"ticks\":\"\",\"zerolinecolor\":\"white\",\"gridwidth\":2},\"zaxis\":{\"backgroundcolor\":\"#E5ECF6\",\"gridcolor\":\"white\",\"linecolor\":\"white\",\"showbackground\":true,\"ticks\":\"\",\"zerolinecolor\":\"white\",\"gridwidth\":2}},\"shapedefaults\":{\"line\":{\"color\":\"#2a3f5f\"}},\"annotationdefaults\":{\"arrowcolor\":\"#2a3f5f\",\"arrowhead\":0,\"arrowwidth\":1},\"geo\":{\"bgcolor\":\"white\",\"landcolor\":\"#E5ECF6\",\"subunitcolor\":\"white\",\"showland\":true,\"showlakes\":true,\"lakecolor\":\"white\"},\"title\":{\"x\":0.05},\"mapbox\":{\"style\":\"light\"}}},\"xaxis\":{\"anchor\":\"y\",\"domain\":[0.0,1.0],\"title\":{\"text\":\"neighbourhood\"},\"categoryorder\":\"total descending\"},\"yaxis\":{\"anchor\":\"x\",\"domain\":[0.0,1.0],\"title\":{\"text\":\"count\"}},\"legend\":{\"title\":{\"text\":\"neighbourhood_group\"},\"tracegroupgap\":0},\"margin\":{\"t\":60},\"barmode\":\"relative\",\"width\":1000,\"title\":{\"text\":\"<b>Top 10 Neighborhood with The Most Rooms</b>\",\"font\":{\"size\":20}}},                        {\"responsive\": true}                    ).then(function(){\n",
              "                            \n",
              "var gd = document.getElementById('03fa5c6f-4b98-4073-813e-652f6f6cbae0');\n",
              "var x = new MutationObserver(function (mutations, observer) {{\n",
              "        var display = window.getComputedStyle(gd).display;\n",
              "        if (!display || display === 'none') {{\n",
              "            console.log([gd, 'removed!']);\n",
              "            Plotly.purge(gd);\n",
              "            observer.disconnect();\n",
              "        }}\n",
              "}});\n",
              "\n",
              "// Listen for the removal of the full notebook cells\n",
              "var notebookContainer = gd.closest('#notebook-container');\n",
              "if (notebookContainer) {{\n",
              "    x.observe(notebookContainer, {childList: true});\n",
              "}}\n",
              "\n",
              "// Listen for the clearing of the current output cell\n",
              "var outputEl = gd.closest('.output');\n",
              "if (outputEl) {{\n",
              "    x.observe(outputEl, {childList: true});\n",
              "}}\n",
              "\n",
              "                        })                };                            </script>        </div>\n",
              "</body>\n",
              "</html>"
            ]
          },
          "metadata": {}
        }
      ]
    },
    {
      "cell_type": "markdown",
      "source": [
        "Correlated with Central Region having the biggest number of listing properties, 9 of 10 listings properties with the most rooms also located in Central Region followed by Bedok neighborhood in East Region. The most rooms provided in Kallang neighbourhood with 346 rooms"
      ],
      "metadata": {
        "id": "YgxP4HHtDWz1"
      }
    },
    {
      "cell_type": "markdown",
      "source": [
        "#### **Top 10 Host ID & Host Name with The Most Rooms**"
      ],
      "metadata": {
        "id": "XeAg-v5U7Lo_"
      }
    },
    {
      "cell_type": "code",
      "source": [
        "top_host = listings.groupby(['host_id','host_name']).agg(count=('host_id','count')).sort_values(by=['count'],ascending=False).reset_index().head(10)\n",
        "top_host"
      ],
      "metadata": {
        "colab": {
          "base_uri": "https://localhost:8080/",
          "height": 376
        },
        "id": "Rl9cJxhnPERX",
        "outputId": "3729209e-0bc7-4da6-fffa-f8afc918da91"
      },
      "execution_count": null,
      "outputs": [
        {
          "output_type": "execute_result",
          "data": {
            "text/plain": [
              "     host_id                            host_name  count\n",
              "0  138649185                                Fiona    217\n",
              "1  156409670                                  Tia    180\n",
              "2    2413412                               Kaurus     97\n",
              "3  238891646                                 Neha     88\n",
              "4    8948251                                 Joey     74\n",
              "5   97878860                                Chess     65\n",
              "6  219550151                                  Ray     49\n",
              "7   23336011                             Heritage     48\n",
              "8  201775246                              Hillary     46\n",
              "9   32798595  Expats Housing Provider @ Raffles P     45"
            ],
            "text/html": [
              "\n",
              "  <div id=\"df-7f595998-9eb2-495f-a5f8-76b0bd5533c1\">\n",
              "    <div class=\"colab-df-container\">\n",
              "      <div>\n",
              "<style scoped>\n",
              "    .dataframe tbody tr th:only-of-type {\n",
              "        vertical-align: middle;\n",
              "    }\n",
              "\n",
              "    .dataframe tbody tr th {\n",
              "        vertical-align: top;\n",
              "    }\n",
              "\n",
              "    .dataframe thead th {\n",
              "        text-align: right;\n",
              "    }\n",
              "</style>\n",
              "<table border=\"1\" class=\"dataframe\">\n",
              "  <thead>\n",
              "    <tr style=\"text-align: right;\">\n",
              "      <th></th>\n",
              "      <th>host_id</th>\n",
              "      <th>host_name</th>\n",
              "      <th>count</th>\n",
              "    </tr>\n",
              "  </thead>\n",
              "  <tbody>\n",
              "    <tr>\n",
              "      <th>0</th>\n",
              "      <td>138649185</td>\n",
              "      <td>Fiona</td>\n",
              "      <td>217</td>\n",
              "    </tr>\n",
              "    <tr>\n",
              "      <th>1</th>\n",
              "      <td>156409670</td>\n",
              "      <td>Tia</td>\n",
              "      <td>180</td>\n",
              "    </tr>\n",
              "    <tr>\n",
              "      <th>2</th>\n",
              "      <td>2413412</td>\n",
              "      <td>Kaurus</td>\n",
              "      <td>97</td>\n",
              "    </tr>\n",
              "    <tr>\n",
              "      <th>3</th>\n",
              "      <td>238891646</td>\n",
              "      <td>Neha</td>\n",
              "      <td>88</td>\n",
              "    </tr>\n",
              "    <tr>\n",
              "      <th>4</th>\n",
              "      <td>8948251</td>\n",
              "      <td>Joey</td>\n",
              "      <td>74</td>\n",
              "    </tr>\n",
              "    <tr>\n",
              "      <th>5</th>\n",
              "      <td>97878860</td>\n",
              "      <td>Chess</td>\n",
              "      <td>65</td>\n",
              "    </tr>\n",
              "    <tr>\n",
              "      <th>6</th>\n",
              "      <td>219550151</td>\n",
              "      <td>Ray</td>\n",
              "      <td>49</td>\n",
              "    </tr>\n",
              "    <tr>\n",
              "      <th>7</th>\n",
              "      <td>23336011</td>\n",
              "      <td>Heritage</td>\n",
              "      <td>48</td>\n",
              "    </tr>\n",
              "    <tr>\n",
              "      <th>8</th>\n",
              "      <td>201775246</td>\n",
              "      <td>Hillary</td>\n",
              "      <td>46</td>\n",
              "    </tr>\n",
              "    <tr>\n",
              "      <th>9</th>\n",
              "      <td>32798595</td>\n",
              "      <td>Expats Housing Provider @ Raffles P</td>\n",
              "      <td>45</td>\n",
              "    </tr>\n",
              "  </tbody>\n",
              "</table>\n",
              "</div>\n",
              "      <button class=\"colab-df-convert\" onclick=\"convertToInteractive('df-7f595998-9eb2-495f-a5f8-76b0bd5533c1')\"\n",
              "              title=\"Convert this dataframe to an interactive table.\"\n",
              "              style=\"display:none;\">\n",
              "        \n",
              "  <svg xmlns=\"http://www.w3.org/2000/svg\" height=\"24px\"viewBox=\"0 0 24 24\"\n",
              "       width=\"24px\">\n",
              "    <path d=\"M0 0h24v24H0V0z\" fill=\"none\"/>\n",
              "    <path d=\"M18.56 5.44l.94 2.06.94-2.06 2.06-.94-2.06-.94-.94-2.06-.94 2.06-2.06.94zm-11 1L8.5 8.5l.94-2.06 2.06-.94-2.06-.94L8.5 2.5l-.94 2.06-2.06.94zm10 10l.94 2.06.94-2.06 2.06-.94-2.06-.94-.94-2.06-.94 2.06-2.06.94z\"/><path d=\"M17.41 7.96l-1.37-1.37c-.4-.4-.92-.59-1.43-.59-.52 0-1.04.2-1.43.59L10.3 9.45l-7.72 7.72c-.78.78-.78 2.05 0 2.83L4 21.41c.39.39.9.59 1.41.59.51 0 1.02-.2 1.41-.59l7.78-7.78 2.81-2.81c.8-.78.8-2.07 0-2.86zM5.41 20L4 18.59l7.72-7.72 1.47 1.35L5.41 20z\"/>\n",
              "  </svg>\n",
              "      </button>\n",
              "      \n",
              "  <style>\n",
              "    .colab-df-container {\n",
              "      display:flex;\n",
              "      flex-wrap:wrap;\n",
              "      gap: 12px;\n",
              "    }\n",
              "\n",
              "    .colab-df-convert {\n",
              "      background-color: #E8F0FE;\n",
              "      border: none;\n",
              "      border-radius: 50%;\n",
              "      cursor: pointer;\n",
              "      display: none;\n",
              "      fill: #1967D2;\n",
              "      height: 32px;\n",
              "      padding: 0 0 0 0;\n",
              "      width: 32px;\n",
              "    }\n",
              "\n",
              "    .colab-df-convert:hover {\n",
              "      background-color: #E2EBFA;\n",
              "      box-shadow: 0px 1px 2px rgba(60, 64, 67, 0.3), 0px 1px 3px 1px rgba(60, 64, 67, 0.15);\n",
              "      fill: #174EA6;\n",
              "    }\n",
              "\n",
              "    [theme=dark] .colab-df-convert {\n",
              "      background-color: #3B4455;\n",
              "      fill: #D2E3FC;\n",
              "    }\n",
              "\n",
              "    [theme=dark] .colab-df-convert:hover {\n",
              "      background-color: #434B5C;\n",
              "      box-shadow: 0px 1px 3px 1px rgba(0, 0, 0, 0.15);\n",
              "      filter: drop-shadow(0px 1px 2px rgba(0, 0, 0, 0.3));\n",
              "      fill: #FFFFFF;\n",
              "    }\n",
              "  </style>\n",
              "\n",
              "      <script>\n",
              "        const buttonEl =\n",
              "          document.querySelector('#df-7f595998-9eb2-495f-a5f8-76b0bd5533c1 button.colab-df-convert');\n",
              "        buttonEl.style.display =\n",
              "          google.colab.kernel.accessAllowed ? 'block' : 'none';\n",
              "\n",
              "        async function convertToInteractive(key) {\n",
              "          const element = document.querySelector('#df-7f595998-9eb2-495f-a5f8-76b0bd5533c1');\n",
              "          const dataTable =\n",
              "            await google.colab.kernel.invokeFunction('convertToInteractive',\n",
              "                                                     [key], {});\n",
              "          if (!dataTable) return;\n",
              "\n",
              "          const docLinkHtml = 'Like what you see? Visit the ' +\n",
              "            '<a target=\"_blank\" href=https://colab.research.google.com/notebooks/data_table.ipynb>data table notebook</a>'\n",
              "            + ' to learn more about interactive tables.';\n",
              "          element.innerHTML = '';\n",
              "          dataTable['output_type'] = 'display_data';\n",
              "          await google.colab.output.renderOutput(dataTable, element);\n",
              "          const docLink = document.createElement('div');\n",
              "          docLink.innerHTML = docLinkHtml;\n",
              "          element.appendChild(docLink);\n",
              "        }\n",
              "      </script>\n",
              "    </div>\n",
              "  </div>\n",
              "  "
            ]
          },
          "metadata": {},
          "execution_count": 36
        }
      ]
    },
    {
      "cell_type": "code",
      "source": [
        "fig_top_host = px.bar(top_host, x = 'host_name', y = 'count', orientation = 'v', width = 1000 )\n",
        "fig_top_host.update_layout(title='<b>Top 10 Host ID & Host Name with The Most Rooms</b>', title_font=dict(size=20))\n",
        "fig_top_host.update_layout(xaxis={'categoryorder':'total descending'})\n",
        "display(fig_top_host)"
      ],
      "metadata": {
        "colab": {
          "base_uri": "https://localhost:8080/",
          "height": 542
        },
        "id": "RzC_UYvC7fDy",
        "outputId": "1a5f0ea5-fe6c-4c4d-e1de-64059cf2b369"
      },
      "execution_count": null,
      "outputs": [
        {
          "output_type": "display_data",
          "data": {
            "text/html": [
              "<html>\n",
              "<head><meta charset=\"utf-8\" /></head>\n",
              "<body>\n",
              "    <div>            <script src=\"https://cdnjs.cloudflare.com/ajax/libs/mathjax/2.7.5/MathJax.js?config=TeX-AMS-MML_SVG\"></script><script type=\"text/javascript\">if (window.MathJax && window.MathJax.Hub && window.MathJax.Hub.Config) {window.MathJax.Hub.Config({SVG: {font: \"STIX-Web\"}});}</script>                <script type=\"text/javascript\">window.PlotlyConfig = {MathJaxConfig: 'local'};</script>\n",
              "        <script src=\"https://cdn.plot.ly/plotly-2.18.2.min.js\"></script>                <div id=\"312d7a90-80f3-49af-a4ed-cda47016c3c5\" class=\"plotly-graph-div\" style=\"height:525px; width:1000px;\"></div>            <script type=\"text/javascript\">                                    window.PLOTLYENV=window.PLOTLYENV || {};                                    if (document.getElementById(\"312d7a90-80f3-49af-a4ed-cda47016c3c5\")) {                    Plotly.newPlot(                        \"312d7a90-80f3-49af-a4ed-cda47016c3c5\",                        [{\"alignmentgroup\":\"True\",\"hovertemplate\":\"host_name=%{x}<br>count=%{y}<extra></extra>\",\"legendgroup\":\"\",\"marker\":{\"color\":\"#636efa\",\"pattern\":{\"shape\":\"\"}},\"name\":\"\",\"offsetgroup\":\"\",\"orientation\":\"v\",\"showlegend\":false,\"textposition\":\"auto\",\"x\":[\"Fiona\",\"Tia\",\"Kaurus\",\"Neha\",\"Joey\",\"Chess\",\"Ray\",\"Heritage\",\"Hillary\",\"Expats Housing Provider @ Raffles P\"],\"xaxis\":\"x\",\"y\":[217,180,97,88,74,65,49,48,46,45],\"yaxis\":\"y\",\"type\":\"bar\"}],                        {\"template\":{\"data\":{\"histogram2dcontour\":[{\"type\":\"histogram2dcontour\",\"colorbar\":{\"outlinewidth\":0,\"ticks\":\"\"},\"colorscale\":[[0.0,\"#0d0887\"],[0.1111111111111111,\"#46039f\"],[0.2222222222222222,\"#7201a8\"],[0.3333333333333333,\"#9c179e\"],[0.4444444444444444,\"#bd3786\"],[0.5555555555555556,\"#d8576b\"],[0.6666666666666666,\"#ed7953\"],[0.7777777777777778,\"#fb9f3a\"],[0.8888888888888888,\"#fdca26\"],[1.0,\"#f0f921\"]]}],\"choropleth\":[{\"type\":\"choropleth\",\"colorbar\":{\"outlinewidth\":0,\"ticks\":\"\"}}],\"histogram2d\":[{\"type\":\"histogram2d\",\"colorbar\":{\"outlinewidth\":0,\"ticks\":\"\"},\"colorscale\":[[0.0,\"#0d0887\"],[0.1111111111111111,\"#46039f\"],[0.2222222222222222,\"#7201a8\"],[0.3333333333333333,\"#9c179e\"],[0.4444444444444444,\"#bd3786\"],[0.5555555555555556,\"#d8576b\"],[0.6666666666666666,\"#ed7953\"],[0.7777777777777778,\"#fb9f3a\"],[0.8888888888888888,\"#fdca26\"],[1.0,\"#f0f921\"]]}],\"heatmap\":[{\"type\":\"heatmap\",\"colorbar\":{\"outlinewidth\":0,\"ticks\":\"\"},\"colorscale\":[[0.0,\"#0d0887\"],[0.1111111111111111,\"#46039f\"],[0.2222222222222222,\"#7201a8\"],[0.3333333333333333,\"#9c179e\"],[0.4444444444444444,\"#bd3786\"],[0.5555555555555556,\"#d8576b\"],[0.6666666666666666,\"#ed7953\"],[0.7777777777777778,\"#fb9f3a\"],[0.8888888888888888,\"#fdca26\"],[1.0,\"#f0f921\"]]}],\"heatmapgl\":[{\"type\":\"heatmapgl\",\"colorbar\":{\"outlinewidth\":0,\"ticks\":\"\"},\"colorscale\":[[0.0,\"#0d0887\"],[0.1111111111111111,\"#46039f\"],[0.2222222222222222,\"#7201a8\"],[0.3333333333333333,\"#9c179e\"],[0.4444444444444444,\"#bd3786\"],[0.5555555555555556,\"#d8576b\"],[0.6666666666666666,\"#ed7953\"],[0.7777777777777778,\"#fb9f3a\"],[0.8888888888888888,\"#fdca26\"],[1.0,\"#f0f921\"]]}],\"contourcarpet\":[{\"type\":\"contourcarpet\",\"colorbar\":{\"outlinewidth\":0,\"ticks\":\"\"}}],\"contour\":[{\"type\":\"contour\",\"colorbar\":{\"outlinewidth\":0,\"ticks\":\"\"},\"colorscale\":[[0.0,\"#0d0887\"],[0.1111111111111111,\"#46039f\"],[0.2222222222222222,\"#7201a8\"],[0.3333333333333333,\"#9c179e\"],[0.4444444444444444,\"#bd3786\"],[0.5555555555555556,\"#d8576b\"],[0.6666666666666666,\"#ed7953\"],[0.7777777777777778,\"#fb9f3a\"],[0.8888888888888888,\"#fdca26\"],[1.0,\"#f0f921\"]]}],\"surface\":[{\"type\":\"surface\",\"colorbar\":{\"outlinewidth\":0,\"ticks\":\"\"},\"colorscale\":[[0.0,\"#0d0887\"],[0.1111111111111111,\"#46039f\"],[0.2222222222222222,\"#7201a8\"],[0.3333333333333333,\"#9c179e\"],[0.4444444444444444,\"#bd3786\"],[0.5555555555555556,\"#d8576b\"],[0.6666666666666666,\"#ed7953\"],[0.7777777777777778,\"#fb9f3a\"],[0.8888888888888888,\"#fdca26\"],[1.0,\"#f0f921\"]]}],\"mesh3d\":[{\"type\":\"mesh3d\",\"colorbar\":{\"outlinewidth\":0,\"ticks\":\"\"}}],\"scatter\":[{\"fillpattern\":{\"fillmode\":\"overlay\",\"size\":10,\"solidity\":0.2},\"type\":\"scatter\"}],\"parcoords\":[{\"type\":\"parcoords\",\"line\":{\"colorbar\":{\"outlinewidth\":0,\"ticks\":\"\"}}}],\"scatterpolargl\":[{\"type\":\"scatterpolargl\",\"marker\":{\"colorbar\":{\"outlinewidth\":0,\"ticks\":\"\"}}}],\"bar\":[{\"error_x\":{\"color\":\"#2a3f5f\"},\"error_y\":{\"color\":\"#2a3f5f\"},\"marker\":{\"line\":{\"color\":\"#E5ECF6\",\"width\":0.5},\"pattern\":{\"fillmode\":\"overlay\",\"size\":10,\"solidity\":0.2}},\"type\":\"bar\"}],\"scattergeo\":[{\"type\":\"scattergeo\",\"marker\":{\"colorbar\":{\"outlinewidth\":0,\"ticks\":\"\"}}}],\"scatterpolar\":[{\"type\":\"scatterpolar\",\"marker\":{\"colorbar\":{\"outlinewidth\":0,\"ticks\":\"\"}}}],\"histogram\":[{\"marker\":{\"pattern\":{\"fillmode\":\"overlay\",\"size\":10,\"solidity\":0.2}},\"type\":\"histogram\"}],\"scattergl\":[{\"type\":\"scattergl\",\"marker\":{\"colorbar\":{\"outlinewidth\":0,\"ticks\":\"\"}}}],\"scatter3d\":[{\"type\":\"scatter3d\",\"line\":{\"colorbar\":{\"outlinewidth\":0,\"ticks\":\"\"}},\"marker\":{\"colorbar\":{\"outlinewidth\":0,\"ticks\":\"\"}}}],\"scattermapbox\":[{\"type\":\"scattermapbox\",\"marker\":{\"colorbar\":{\"outlinewidth\":0,\"ticks\":\"\"}}}],\"scatterternary\":[{\"type\":\"scatterternary\",\"marker\":{\"colorbar\":{\"outlinewidth\":0,\"ticks\":\"\"}}}],\"scattercarpet\":[{\"type\":\"scattercarpet\",\"marker\":{\"colorbar\":{\"outlinewidth\":0,\"ticks\":\"\"}}}],\"carpet\":[{\"aaxis\":{\"endlinecolor\":\"#2a3f5f\",\"gridcolor\":\"white\",\"linecolor\":\"white\",\"minorgridcolor\":\"white\",\"startlinecolor\":\"#2a3f5f\"},\"baxis\":{\"endlinecolor\":\"#2a3f5f\",\"gridcolor\":\"white\",\"linecolor\":\"white\",\"minorgridcolor\":\"white\",\"startlinecolor\":\"#2a3f5f\"},\"type\":\"carpet\"}],\"table\":[{\"cells\":{\"fill\":{\"color\":\"#EBF0F8\"},\"line\":{\"color\":\"white\"}},\"header\":{\"fill\":{\"color\":\"#C8D4E3\"},\"line\":{\"color\":\"white\"}},\"type\":\"table\"}],\"barpolar\":[{\"marker\":{\"line\":{\"color\":\"#E5ECF6\",\"width\":0.5},\"pattern\":{\"fillmode\":\"overlay\",\"size\":10,\"solidity\":0.2}},\"type\":\"barpolar\"}],\"pie\":[{\"automargin\":true,\"type\":\"pie\"}]},\"layout\":{\"autotypenumbers\":\"strict\",\"colorway\":[\"#636efa\",\"#EF553B\",\"#00cc96\",\"#ab63fa\",\"#FFA15A\",\"#19d3f3\",\"#FF6692\",\"#B6E880\",\"#FF97FF\",\"#FECB52\"],\"font\":{\"color\":\"#2a3f5f\"},\"hovermode\":\"closest\",\"hoverlabel\":{\"align\":\"left\"},\"paper_bgcolor\":\"white\",\"plot_bgcolor\":\"#E5ECF6\",\"polar\":{\"bgcolor\":\"#E5ECF6\",\"angularaxis\":{\"gridcolor\":\"white\",\"linecolor\":\"white\",\"ticks\":\"\"},\"radialaxis\":{\"gridcolor\":\"white\",\"linecolor\":\"white\",\"ticks\":\"\"}},\"ternary\":{\"bgcolor\":\"#E5ECF6\",\"aaxis\":{\"gridcolor\":\"white\",\"linecolor\":\"white\",\"ticks\":\"\"},\"baxis\":{\"gridcolor\":\"white\",\"linecolor\":\"white\",\"ticks\":\"\"},\"caxis\":{\"gridcolor\":\"white\",\"linecolor\":\"white\",\"ticks\":\"\"}},\"coloraxis\":{\"colorbar\":{\"outlinewidth\":0,\"ticks\":\"\"}},\"colorscale\":{\"sequential\":[[0.0,\"#0d0887\"],[0.1111111111111111,\"#46039f\"],[0.2222222222222222,\"#7201a8\"],[0.3333333333333333,\"#9c179e\"],[0.4444444444444444,\"#bd3786\"],[0.5555555555555556,\"#d8576b\"],[0.6666666666666666,\"#ed7953\"],[0.7777777777777778,\"#fb9f3a\"],[0.8888888888888888,\"#fdca26\"],[1.0,\"#f0f921\"]],\"sequentialminus\":[[0.0,\"#0d0887\"],[0.1111111111111111,\"#46039f\"],[0.2222222222222222,\"#7201a8\"],[0.3333333333333333,\"#9c179e\"],[0.4444444444444444,\"#bd3786\"],[0.5555555555555556,\"#d8576b\"],[0.6666666666666666,\"#ed7953\"],[0.7777777777777778,\"#fb9f3a\"],[0.8888888888888888,\"#fdca26\"],[1.0,\"#f0f921\"]],\"diverging\":[[0,\"#8e0152\"],[0.1,\"#c51b7d\"],[0.2,\"#de77ae\"],[0.3,\"#f1b6da\"],[0.4,\"#fde0ef\"],[0.5,\"#f7f7f7\"],[0.6,\"#e6f5d0\"],[0.7,\"#b8e186\"],[0.8,\"#7fbc41\"],[0.9,\"#4d9221\"],[1,\"#276419\"]]},\"xaxis\":{\"gridcolor\":\"white\",\"linecolor\":\"white\",\"ticks\":\"\",\"title\":{\"standoff\":15},\"zerolinecolor\":\"white\",\"automargin\":true,\"zerolinewidth\":2},\"yaxis\":{\"gridcolor\":\"white\",\"linecolor\":\"white\",\"ticks\":\"\",\"title\":{\"standoff\":15},\"zerolinecolor\":\"white\",\"automargin\":true,\"zerolinewidth\":2},\"scene\":{\"xaxis\":{\"backgroundcolor\":\"#E5ECF6\",\"gridcolor\":\"white\",\"linecolor\":\"white\",\"showbackground\":true,\"ticks\":\"\",\"zerolinecolor\":\"white\",\"gridwidth\":2},\"yaxis\":{\"backgroundcolor\":\"#E5ECF6\",\"gridcolor\":\"white\",\"linecolor\":\"white\",\"showbackground\":true,\"ticks\":\"\",\"zerolinecolor\":\"white\",\"gridwidth\":2},\"zaxis\":{\"backgroundcolor\":\"#E5ECF6\",\"gridcolor\":\"white\",\"linecolor\":\"white\",\"showbackground\":true,\"ticks\":\"\",\"zerolinecolor\":\"white\",\"gridwidth\":2}},\"shapedefaults\":{\"line\":{\"color\":\"#2a3f5f\"}},\"annotationdefaults\":{\"arrowcolor\":\"#2a3f5f\",\"arrowhead\":0,\"arrowwidth\":1},\"geo\":{\"bgcolor\":\"white\",\"landcolor\":\"#E5ECF6\",\"subunitcolor\":\"white\",\"showland\":true,\"showlakes\":true,\"lakecolor\":\"white\"},\"title\":{\"x\":0.05},\"mapbox\":{\"style\":\"light\"}}},\"xaxis\":{\"anchor\":\"y\",\"domain\":[0.0,1.0],\"title\":{\"text\":\"host_name\"},\"categoryorder\":\"total descending\"},\"yaxis\":{\"anchor\":\"x\",\"domain\":[0.0,1.0],\"title\":{\"text\":\"count\"}},\"legend\":{\"tracegroupgap\":0},\"margin\":{\"t\":60},\"barmode\":\"relative\",\"width\":1000,\"title\":{\"text\":\"<b>Top 10 Host ID & Host Name with The Most Rooms</b>\",\"font\":{\"size\":20}}},                        {\"responsive\": true}                    ).then(function(){\n",
              "                            \n",
              "var gd = document.getElementById('312d7a90-80f3-49af-a4ed-cda47016c3c5');\n",
              "var x = new MutationObserver(function (mutations, observer) {{\n",
              "        var display = window.getComputedStyle(gd).display;\n",
              "        if (!display || display === 'none') {{\n",
              "            console.log([gd, 'removed!']);\n",
              "            Plotly.purge(gd);\n",
              "            observer.disconnect();\n",
              "        }}\n",
              "}});\n",
              "\n",
              "// Listen for the removal of the full notebook cells\n",
              "var notebookContainer = gd.closest('#notebook-container');\n",
              "if (notebookContainer) {{\n",
              "    x.observe(notebookContainer, {childList: true});\n",
              "}}\n",
              "\n",
              "// Listen for the clearing of the current output cell\n",
              "var outputEl = gd.closest('.output');\n",
              "if (outputEl) {{\n",
              "    x.observe(outputEl, {childList: true});\n",
              "}}\n",
              "\n",
              "                        })                };                            </script>        </div>\n",
              "</body>\n",
              "</html>"
            ]
          },
          "metadata": {}
        }
      ]
    },
    {
      "cell_type": "markdown",
      "source": [
        "Host name with the most rooms is Fiona (host ID 138649185) by 217 rooms, then Tia with 180 rooms, while the others have less than 100 rooms (host ID 156409670)"
      ],
      "metadata": {
        "id": "VQ4TreIOGbGj"
      }
    },
    {
      "cell_type": "markdown",
      "source": [
        "### **Price Distribution of Listings Properties in Singapore**"
      ],
      "metadata": {
        "id": "8CZPpkTS7FAW"
      }
    },
    {
      "cell_type": "markdown",
      "source": [
        "#### **Overall Price Distribution of Listings**"
      ],
      "metadata": {
        "id": "JCr9Im2HUSTC"
      }
    },
    {
      "cell_type": "code",
      "source": [
        "price_mean = listings['price'].mean()\n",
        "price_max = listings['price'].max()\n",
        "price_min = listings['price'].min()\n",
        "print('\\n Mean Price of Listings in Singapore :', price_mean)\n",
        "print('\\n Minimum Price of Listings in Singapore :', price_min)\n",
        "print('\\n Maximum Price of Listings in Singapore :', price_max)\n",
        "\n",
        "import plotly.express as px\n",
        "fig_price = px.box(listings, x='price', width = 1000, height=250)\n",
        "display(fig_price)"
      ],
      "metadata": {
        "id": "23WsvHAwqD0Q",
        "colab": {
          "base_uri": "https://localhost:8080/",
          "height": 379
        },
        "outputId": "5e61fb9f-ec22-42a5-9401-4a005d636c9c"
      },
      "execution_count": null,
      "outputs": [
        {
          "output_type": "stream",
          "name": "stdout",
          "text": [
            "\n",
            " Mean Price of Listings in Singapore : 254.0912771439087\n",
            "\n",
            " Minimum Price of Listings in Singapore : 14\n",
            "\n",
            " Maximum Price of Listings in Singapore : 10286\n"
          ]
        },
        {
          "output_type": "display_data",
          "data": {
            "text/html": [
              "<html>\n",
              "<head><meta charset=\"utf-8\" /></head>\n",
              "<body>\n",
              "    <div>            <script src=\"https://cdnjs.cloudflare.com/ajax/libs/mathjax/2.7.5/MathJax.js?config=TeX-AMS-MML_SVG\"></script><script type=\"text/javascript\">if (window.MathJax && window.MathJax.Hub && window.MathJax.Hub.Config) {window.MathJax.Hub.Config({SVG: {font: \"STIX-Web\"}});}</script>                <script type=\"text/javascript\">window.PlotlyConfig = {MathJaxConfig: 'local'};</script>\n",
              "        <script src=\"https://cdn.plot.ly/plotly-2.18.2.min.js\"></script>                <div id=\"51c0862c-7ae0-4394-9a69-20b28cb5e904\" class=\"plotly-graph-div\" style=\"height:250px; width:1000px;\"></div>            <script type=\"text/javascript\">                                    window.PLOTLYENV=window.PLOTLYENV || {};                                    if (document.getElementById(\"51c0862c-7ae0-4394-9a69-20b28cb5e904\")) {                    Plotly.newPlot(                        \"51c0862c-7ae0-4394-9a69-20b28cb5e904\",                        [{\"alignmentgroup\":\"True\",\"hovertemplate\":\"price=%{x}<extra></extra>\",\"legendgroup\":\"\",\"marker\":{\"color\":\"#636efa\"},\"name\":\"\",\"notched\":false,\"offsetgroup\":\"\",\"orientation\":\"h\",\"showlegend\":false,\"x\":[80,145,85,85,49,184,79,49,55,55,42,79,66,100,83,170,100,26,119,119,69,55,150,57,79,57,57,90,170,69,79,69,50,59,130,79,63,378,63,48,95,59,49,60,119,68,343,139,929,50,150,67,98,67,33,78,183,80,101,110,98,89,69,31,88,62,50,31,31,89,100,106,261,150,76,57,115,47,57,110,69,79,47,1000,74,52,169,165,169,85,232,78,66,228,200,200,99,240,500,64,212,30,29,32,85,1600,70,70,60,173,115,80,80,50,49,70,180,98,90,45,100,45,294,40,77,140,255,100,71,90,78,100,90,150,2300,59,37,200,180,59,62,50,100,59,188,59,75,65,55,37,60,88,58,49,50,49,47,60,200,254,400,130,90,100,100,100,100,100,85,120,45,28,33,33,30,186,125,130,151,112,160,237,33,28,36,30,27,59,250,60,211,461,85,24,518,127,259,51,103,79,67,47,259,259,105,125,145,165,200,165,300,50,140,140,53,88,69,300,130,100,59,64,88,58,29,47,93,280,88,60,220,47,48,47,47,93,212,140,53,123,55,150,56,465,24,47,47,24,24,24,24,100,24,47,42,130,212,190,57,43,134,130,69,255,388,50,70,110,110,212,120,120,200,813,37,40,100,53,386,214,214,97,180,170,69,112,112,105,238,85,44,44,60,183,80,137,59,26,40,97,250,29,29,29,29,28,27,27,59,59,59,113,67,100,240,190,765,79,192,450,49,59,190,160,209,31,31,388,56,113,80,90,100,140,69,223,400,180,68,168,141,68,100,69,140,85,59,180,156,180,60,148,130,102,385,680,423,470,150,500,40,62,170,69,88,59,60,27,154,49,89,57,255,183,141,130,140,71,130,39,150,47,80,59,198,100,255,49,284,86,49,200,255,255,200,100,284,255,50,65,38,28,35,163,164,200,55,554,523,514,45,70,85,79,79,89,106,55,388,51,279,85,284,180,140,200,100,130,4000,47,40,89,40,69,109,49,52,130,88,46,90,8900,180,188,98,67,160,160,200,42,40,59,30,31,49,54,21,126,255,160,220,170,170,98,30,241,170,170,106,67,31,90,560,37,275,137,255,212,59,38,96,81,93,59,49,79,49,57,34,100,65,59,81,51,1600,500,1000,950,900,1400,45,85,76,255,256,222,181,165,185,40,40,40,70,165,59,90,58,399,130,216,55,155,194,75,68,119,80,130,129,120,49,49,30,137,75,51,999,200,200,190,43,99,59,118,51,40,100,130,99,44,49,541,612,510,530,880,135,239,224,135,113,59,150,140,461,399,127,145,651,31,31,31,2500,92,250,69,134,90,39,49,49,49,255,160,236,65,65,10286,126,473,65,59,59,40,50,47,97,69,90,99,59,59,225,57,68,80,48,69,156,170,55,129,92,94,161,55,161,582,388,99,211,35,260,1101,150,49,80,39,39,36,195,172,184,57,40,240,129,49,39,69,500,48,79,48,90,36,45,188,188,170,387,56,99,74,55,55,113,55,69,59,95,33,90,140,117,114,137,180,49,47,93,49,49,100,393,260,120,151,170,235,223,59,170,70,48,85,69,118,180,165,880,200,173,217,538,1356,403,359,979,883,178,45,99,79,48,79,330,410,704,39,59,223,500,44,89,79,84,70,70,110,170,170,57,200,55,213,67,500,207,390,90,65,223,84,149,135,91,223,359,310,113,213,138,694,51,74,238,223,100,270,49,42,39,39,180,286,266,474,69,69,69,333,200,65,68,145,145,145,145,145,145,130,130,130,49,30,90,90,162,223,55,33,59,69,185,59,100,55,250,90,100,100,100,65,340,350,69,132,40,183,54,110,69,99,330,77,69,120,79,390,500,65,39,280,280,223,456,79,330,170,95,59,270,500,39,38,30,109,45,85,62,85,350,39,630,69,133,120,94,74,90,100,95,60,49,199,40,40,99,55,80,80,80,150,71,360,59,30,117,190,220,130,707,40,180,85,145,54,223,55,48,222,203,359,64,79,48,25,168,22,174,170,225,123,115,107,120,34,160,217,94,168,59,42,100,100,40,80,22,22,22,22,25,80,49,30,49,200,186,130,217,265,120,529,182,200,729,84,239,227,257,57,120,577,172,59,203,65,90,87,79,182,39,75,500,79,49,60,98,359,210,38,68,63,155,160,144,463,706,638,949,333,79,57,59,69,39,59,59,59,79,307,110,139,59,36,49,152,39,59,187,155,45,79,69,90,69,59,58,100,100,100,59,59,730,80,134,212,115,80,98,600,650,3300,180,175,65,229,110,192,59,35,240,328,296,92,185,79,40,179,55,40,179,151,610,47,78,120,183,113,66,102,185,59,190,650,150,183,113,144,40,69,45,149,59,49,137,59,59,149,59,149,149,85,180,149,59,789,799,43,40,33,33,615,495,375,40,56,69,435,49,135,59,35,56,465,59,113,385,278,650,500,40,50,500,288,59,208,140,150,248,50,59,65,208,208,135,78,330,208,120,340,120,288,59,278,160,288,79,275,278,69,256,395,268,175,411,59,212,180,474,148,288,400,268,265,159,351,59,39,236,288,268,78,144,51,180,79,49,49,59,98,288,88,75,70,288,140,140,49,298,59,40,69,215,100,65,39,39,49,59,160,250,39,48,70,59,198,105,120,55,110,49,250,575,300,268,113,34,28,30,178,69,34,36,405,26,32,82,98,208,160,280,325,330,180,180,180,180,390,320,300,290,60,60,229,150,98,180,52,75,75,53,476,193,661,586,661,85,208,410,170,581,557,581,40,45,69,631,60,410,298,435,130,431,73,159,200,30,120,250,5000,180,200,105,85,86,510,113,126,114,144,150,250,50,158,298,113,1000,59,59,59,59,350,1000,1000,35,298,530,475,530,528,220,180,72,48,188,155,59,490,550,587,674,110,59,158,600,198,49,355,140,60,181,140,140,140,155,155,155,90,90,90,90,120,120,198,264,39,78,320,480,525,49,40,241,144,170,521,105,48,186,186,99,120,147,250,300,38,40,390,59,426,144,290,59,45,158,210,238,248,150,100,464,464,500,495,49,174,500,425,222,49,188,163,346,237,331,148,307,381,86,86,49,768,849,40,150,70,450,183,440,90,99,331,49,550,49,754,550,574,406,1261,525,700,375,441,510,298,18,98,70,49,49,344,150,39,49,49,180,50,228,128,1800,1200,49,280,90,278,288,198,178,148,198,288,198,540,495,195,615,400,67,546,118,49,118,59,68,59,320,149,266,290,271,30,55,54,165,320,287,70,510,70,167,269,450,141,71,49,34,59,269,210,34,410,200,174,59,192,1857,33,500,192,118,169,178,152,181,100,380,228,181,201,180,59,2200,518,181,55,75,50,41,73,436,61,50,180,66,101,56,64,228,228,286,120,475,89,223,286,286,183,359,359,223,962,188,181,190,255,281,269,228,228,120,621,359,113,359,203,49,183,183,359,266,75,120,288,584,509,520,85,125,290,228,400,34,49,49,106,41,49,246,40,596,103,190,190,68,172,250,250,37,25,49,490,35,113,250,27,400,325,99,150,488,55,300,203,268,200,82,250,190,49,120,300,148,1250,180,444,444,490,96,125,177,289,60,600,49,200,49,49,195,550,120,120,165,425,571,511,444,160,180,195,185,171,230,70,72,70,682,692,713,734,850,48,109,368,891,180,144,49,61,61,155,250,61,49,49,50,804,35,130,49,150,144,161,165,180,160,225,52,223,250,3200,495,430,170,425,620,320,211,430,290,375,300,585,511,230,150,40,300,350,450,145,390,49,650,187,215,195,49,49,220,201,310,182,215,170,400,194,200,215,430,450,136,247,281,45,270,190,185,170,160,210,235,70,150,60,149,200,225,200,203,61,98,119,172,140,140,160,160,160,160,140,140,118,126,58,88,95,96,300,380,180,180,140,120,140,120,199,240,208,40,214,200,230,210,50,125,206,360,368,200,180,300,128,200,235,240,240,225,300,106,131,140,106,139,306,1388,175,126,648,59,200,250,250,60,146,85,85,120,115,210,95,300,49,250,257,175,4000,71,475,53,189,127,69,321,487,487,511,534,546,953,294,300,414,382,346,400,379,287,263,492,112,640,3850,180,333,330,848,678,512,1073,120,295,495,647,518,486,179,722,578,542,33,122,166,108,1300,100,528,552,450,40,259,70,801,640,600,999,799,749,629,503,472,170,200,450,300,629,801,600,640,472,503,120,575,260,280,574,320,315,255,255,94,475,85,475,250,33,105,126,1586,350,424,263,325,413,377,185,235,180,33,40,399,330,90,250,298,311,350,225,111,130,136,142,165,399,172,400,287,376,342,440,573,120,242,282,287,282,347,348,456,231,426,400,100,85,519,1150,232,214,260,195,68,126,111,136,38,333,280,49,50,374,151,80,186,575,289,103,250,90,378,327,59,973,710,791,1073,1205,1657,49,233,165,127,188,62,130,49,200,52,148,65,237,350,289,300,220,195,107,179,189,215,125,210,47,62,49,69,179,333,159,1150,49,251,220,295,260,273,139,100,155,271,154,174,194,214,234,138,239,119,500,139,259,466,100,580,662,315,69,79,80,224,250,195,162,118,159,165,172,385,69,189,350,200,215,260,141,151,301,241,218,195,100,327,85,130,100,100,500,176,164,124,488,190,250,310,311,302,294,236,216,159,286,451,513,499,170,190,345,660,250,67,300,71,245,60,171,215,156,274,146,330,290,306,279,85,459,900,832,115,280,105,172,165,265,77,165,260,290,329,530,165,240,675,66,304,397,348,106,215,300,451,513,253,230,970,710,400,190,220,66,355,190,180,180,160,300,200,160,170,400,190,160,75,200,190,180,100,190,48,190,170,180,95,180,313,200,464,180,360,238,43,475,190,190,274,200,197,519,180,103,430,160,180,190,65,643,159,275,428,430,140,511,200,1302,90,180,180,184,170,150,190,190,280,447,110,1046,427,1070,1128,218,228,480,479,250,450,208,238,60,646,366,371,250,44,450,303,330,250,100,550,230,230,200,200,165,180,150,150,150,240,310,70,429,125,450,200,47,250,65,300,1800,90,505,198,233,210,1015,941,962,120,140,190,50,202,75,50,460,81,250,115,272,170,170,125,430,260,85,271,271,160,145,303,100,198,200,282,223,279,219,216,199,205,229,219,203,140,150,150,656,672,200,241,200,230,210,390,230,268,1255,429,685,230,55,358,1227,761,581,330,445,48,56,382,707,139,99,334,567,330,290,169,664,369,1255,469,1241,1350,1350,1302,1350,220,223,198,250,136,736,735,130,165,219,129,535,820,238,200,373,656,430,420,509,470,220,200,233,194,168,637,440,690,390,740,440,350,126,130,1185,238,600,185,195,226,130,410,181,530,604,340,340,400,1150,290,1150,395,450,290,330,330,323,390,390,240,390,350,78,400,344,556,170,430,400,400,700,390,204,442,417,254,298,350,350,148,9999,400,270,98,335,376,250,430,233,290,240,607,664,679,175,277,245,590,330,380,380,277,337,50,690,580,38,1560,70,175,330,300,280,99,1500,324,420,142,161,173,184,150,189,228,200,169,80,141,175,223,88,35,755,142,154,154,190,200,189,150,100,68,200,312,259,123,219,209,70,1762,624,254,235,518,873,1762,209,600,567,73,236,60,386,614,189,65,345,399,399,378,336,336,379,336,334,40,172,162,406,14,455,750,447,344,401,341,332,401,332,90,330,342,355,1500,95,383,360,67,428,399,327,296,336,289,349,327,432,401,367,70,87,120,332,447,85,447,401,436,397,332,332,722,70,390,95,70,99,64,383,399,397,800,428,401,390,169,80,67,75,417,418,431,318,47,617,255,436,432,455,240,727,576,140,200,188,80,376,436,333,200,295,80,130,50,65,379,280,43,43,43,43,45,45,106,350,80,100,100,314,399,307,844,190,681,100,120,55,551,598,474,110,145,307,229,342,48,662,100,180,165,180,205,1091,357,200,180,190,165,130,153,67,150,177,682,210,205,245,377,634,233,243,230,111,141,229,305,210,275,275,275,275,210,217,210,224,205,305,200,234,280,280,295,170,345,356,566,120,236,363,90,335,364,364,508,340,285,178,707,574,967,194,194,616,1114,170,160,135,160,120,110,185,120,115,475,475,175,148,60,397,59,29,31,249,100,591,1262,495,323,35,697,144,455,302,1762,249,249,142,616,200,286,180,717,180,747,249,249,199,249,199,550,1314,294,87,812,263,354,398,813],\"x0\":\" \",\"xaxis\":\"x\",\"y0\":\" \",\"yaxis\":\"y\",\"type\":\"box\"}],                        {\"template\":{\"data\":{\"histogram2dcontour\":[{\"type\":\"histogram2dcontour\",\"colorbar\":{\"outlinewidth\":0,\"ticks\":\"\"},\"colorscale\":[[0.0,\"#0d0887\"],[0.1111111111111111,\"#46039f\"],[0.2222222222222222,\"#7201a8\"],[0.3333333333333333,\"#9c179e\"],[0.4444444444444444,\"#bd3786\"],[0.5555555555555556,\"#d8576b\"],[0.6666666666666666,\"#ed7953\"],[0.7777777777777778,\"#fb9f3a\"],[0.8888888888888888,\"#fdca26\"],[1.0,\"#f0f921\"]]}],\"choropleth\":[{\"type\":\"choropleth\",\"colorbar\":{\"outlinewidth\":0,\"ticks\":\"\"}}],\"histogram2d\":[{\"type\":\"histogram2d\",\"colorbar\":{\"outlinewidth\":0,\"ticks\":\"\"},\"colorscale\":[[0.0,\"#0d0887\"],[0.1111111111111111,\"#46039f\"],[0.2222222222222222,\"#7201a8\"],[0.3333333333333333,\"#9c179e\"],[0.4444444444444444,\"#bd3786\"],[0.5555555555555556,\"#d8576b\"],[0.6666666666666666,\"#ed7953\"],[0.7777777777777778,\"#fb9f3a\"],[0.8888888888888888,\"#fdca26\"],[1.0,\"#f0f921\"]]}],\"heatmap\":[{\"type\":\"heatmap\",\"colorbar\":{\"outlinewidth\":0,\"ticks\":\"\"},\"colorscale\":[[0.0,\"#0d0887\"],[0.1111111111111111,\"#46039f\"],[0.2222222222222222,\"#7201a8\"],[0.3333333333333333,\"#9c179e\"],[0.4444444444444444,\"#bd3786\"],[0.5555555555555556,\"#d8576b\"],[0.6666666666666666,\"#ed7953\"],[0.7777777777777778,\"#fb9f3a\"],[0.8888888888888888,\"#fdca26\"],[1.0,\"#f0f921\"]]}],\"heatmapgl\":[{\"type\":\"heatmapgl\",\"colorbar\":{\"outlinewidth\":0,\"ticks\":\"\"},\"colorscale\":[[0.0,\"#0d0887\"],[0.1111111111111111,\"#46039f\"],[0.2222222222222222,\"#7201a8\"],[0.3333333333333333,\"#9c179e\"],[0.4444444444444444,\"#bd3786\"],[0.5555555555555556,\"#d8576b\"],[0.6666666666666666,\"#ed7953\"],[0.7777777777777778,\"#fb9f3a\"],[0.8888888888888888,\"#fdca26\"],[1.0,\"#f0f921\"]]}],\"contourcarpet\":[{\"type\":\"contourcarpet\",\"colorbar\":{\"outlinewidth\":0,\"ticks\":\"\"}}],\"contour\":[{\"type\":\"contour\",\"colorbar\":{\"outlinewidth\":0,\"ticks\":\"\"},\"colorscale\":[[0.0,\"#0d0887\"],[0.1111111111111111,\"#46039f\"],[0.2222222222222222,\"#7201a8\"],[0.3333333333333333,\"#9c179e\"],[0.4444444444444444,\"#bd3786\"],[0.5555555555555556,\"#d8576b\"],[0.6666666666666666,\"#ed7953\"],[0.7777777777777778,\"#fb9f3a\"],[0.8888888888888888,\"#fdca26\"],[1.0,\"#f0f921\"]]}],\"surface\":[{\"type\":\"surface\",\"colorbar\":{\"outlinewidth\":0,\"ticks\":\"\"},\"colorscale\":[[0.0,\"#0d0887\"],[0.1111111111111111,\"#46039f\"],[0.2222222222222222,\"#7201a8\"],[0.3333333333333333,\"#9c179e\"],[0.4444444444444444,\"#bd3786\"],[0.5555555555555556,\"#d8576b\"],[0.6666666666666666,\"#ed7953\"],[0.7777777777777778,\"#fb9f3a\"],[0.8888888888888888,\"#fdca26\"],[1.0,\"#f0f921\"]]}],\"mesh3d\":[{\"type\":\"mesh3d\",\"colorbar\":{\"outlinewidth\":0,\"ticks\":\"\"}}],\"scatter\":[{\"fillpattern\":{\"fillmode\":\"overlay\",\"size\":10,\"solidity\":0.2},\"type\":\"scatter\"}],\"parcoords\":[{\"type\":\"parcoords\",\"line\":{\"colorbar\":{\"outlinewidth\":0,\"ticks\":\"\"}}}],\"scatterpolargl\":[{\"type\":\"scatterpolargl\",\"marker\":{\"colorbar\":{\"outlinewidth\":0,\"ticks\":\"\"}}}],\"bar\":[{\"error_x\":{\"color\":\"#2a3f5f\"},\"error_y\":{\"color\":\"#2a3f5f\"},\"marker\":{\"line\":{\"color\":\"#E5ECF6\",\"width\":0.5},\"pattern\":{\"fillmode\":\"overlay\",\"size\":10,\"solidity\":0.2}},\"type\":\"bar\"}],\"scattergeo\":[{\"type\":\"scattergeo\",\"marker\":{\"colorbar\":{\"outlinewidth\":0,\"ticks\":\"\"}}}],\"scatterpolar\":[{\"type\":\"scatterpolar\",\"marker\":{\"colorbar\":{\"outlinewidth\":0,\"ticks\":\"\"}}}],\"histogram\":[{\"marker\":{\"pattern\":{\"fillmode\":\"overlay\",\"size\":10,\"solidity\":0.2}},\"type\":\"histogram\"}],\"scattergl\":[{\"type\":\"scattergl\",\"marker\":{\"colorbar\":{\"outlinewidth\":0,\"ticks\":\"\"}}}],\"scatter3d\":[{\"type\":\"scatter3d\",\"line\":{\"colorbar\":{\"outlinewidth\":0,\"ticks\":\"\"}},\"marker\":{\"colorbar\":{\"outlinewidth\":0,\"ticks\":\"\"}}}],\"scattermapbox\":[{\"type\":\"scattermapbox\",\"marker\":{\"colorbar\":{\"outlinewidth\":0,\"ticks\":\"\"}}}],\"scatterternary\":[{\"type\":\"scatterternary\",\"marker\":{\"colorbar\":{\"outlinewidth\":0,\"ticks\":\"\"}}}],\"scattercarpet\":[{\"type\":\"scattercarpet\",\"marker\":{\"colorbar\":{\"outlinewidth\":0,\"ticks\":\"\"}}}],\"carpet\":[{\"aaxis\":{\"endlinecolor\":\"#2a3f5f\",\"gridcolor\":\"white\",\"linecolor\":\"white\",\"minorgridcolor\":\"white\",\"startlinecolor\":\"#2a3f5f\"},\"baxis\":{\"endlinecolor\":\"#2a3f5f\",\"gridcolor\":\"white\",\"linecolor\":\"white\",\"minorgridcolor\":\"white\",\"startlinecolor\":\"#2a3f5f\"},\"type\":\"carpet\"}],\"table\":[{\"cells\":{\"fill\":{\"color\":\"#EBF0F8\"},\"line\":{\"color\":\"white\"}},\"header\":{\"fill\":{\"color\":\"#C8D4E3\"},\"line\":{\"color\":\"white\"}},\"type\":\"table\"}],\"barpolar\":[{\"marker\":{\"line\":{\"color\":\"#E5ECF6\",\"width\":0.5},\"pattern\":{\"fillmode\":\"overlay\",\"size\":10,\"solidity\":0.2}},\"type\":\"barpolar\"}],\"pie\":[{\"automargin\":true,\"type\":\"pie\"}]},\"layout\":{\"autotypenumbers\":\"strict\",\"colorway\":[\"#636efa\",\"#EF553B\",\"#00cc96\",\"#ab63fa\",\"#FFA15A\",\"#19d3f3\",\"#FF6692\",\"#B6E880\",\"#FF97FF\",\"#FECB52\"],\"font\":{\"color\":\"#2a3f5f\"},\"hovermode\":\"closest\",\"hoverlabel\":{\"align\":\"left\"},\"paper_bgcolor\":\"white\",\"plot_bgcolor\":\"#E5ECF6\",\"polar\":{\"bgcolor\":\"#E5ECF6\",\"angularaxis\":{\"gridcolor\":\"white\",\"linecolor\":\"white\",\"ticks\":\"\"},\"radialaxis\":{\"gridcolor\":\"white\",\"linecolor\":\"white\",\"ticks\":\"\"}},\"ternary\":{\"bgcolor\":\"#E5ECF6\",\"aaxis\":{\"gridcolor\":\"white\",\"linecolor\":\"white\",\"ticks\":\"\"},\"baxis\":{\"gridcolor\":\"white\",\"linecolor\":\"white\",\"ticks\":\"\"},\"caxis\":{\"gridcolor\":\"white\",\"linecolor\":\"white\",\"ticks\":\"\"}},\"coloraxis\":{\"colorbar\":{\"outlinewidth\":0,\"ticks\":\"\"}},\"colorscale\":{\"sequential\":[[0.0,\"#0d0887\"],[0.1111111111111111,\"#46039f\"],[0.2222222222222222,\"#7201a8\"],[0.3333333333333333,\"#9c179e\"],[0.4444444444444444,\"#bd3786\"],[0.5555555555555556,\"#d8576b\"],[0.6666666666666666,\"#ed7953\"],[0.7777777777777778,\"#fb9f3a\"],[0.8888888888888888,\"#fdca26\"],[1.0,\"#f0f921\"]],\"sequentialminus\":[[0.0,\"#0d0887\"],[0.1111111111111111,\"#46039f\"],[0.2222222222222222,\"#7201a8\"],[0.3333333333333333,\"#9c179e\"],[0.4444444444444444,\"#bd3786\"],[0.5555555555555556,\"#d8576b\"],[0.6666666666666666,\"#ed7953\"],[0.7777777777777778,\"#fb9f3a\"],[0.8888888888888888,\"#fdca26\"],[1.0,\"#f0f921\"]],\"diverging\":[[0,\"#8e0152\"],[0.1,\"#c51b7d\"],[0.2,\"#de77ae\"],[0.3,\"#f1b6da\"],[0.4,\"#fde0ef\"],[0.5,\"#f7f7f7\"],[0.6,\"#e6f5d0\"],[0.7,\"#b8e186\"],[0.8,\"#7fbc41\"],[0.9,\"#4d9221\"],[1,\"#276419\"]]},\"xaxis\":{\"gridcolor\":\"white\",\"linecolor\":\"white\",\"ticks\":\"\",\"title\":{\"standoff\":15},\"zerolinecolor\":\"white\",\"automargin\":true,\"zerolinewidth\":2},\"yaxis\":{\"gridcolor\":\"white\",\"linecolor\":\"white\",\"ticks\":\"\",\"title\":{\"standoff\":15},\"zerolinecolor\":\"white\",\"automargin\":true,\"zerolinewidth\":2},\"scene\":{\"xaxis\":{\"backgroundcolor\":\"#E5ECF6\",\"gridcolor\":\"white\",\"linecolor\":\"white\",\"showbackground\":true,\"ticks\":\"\",\"zerolinecolor\":\"white\",\"gridwidth\":2},\"yaxis\":{\"backgroundcolor\":\"#E5ECF6\",\"gridcolor\":\"white\",\"linecolor\":\"white\",\"showbackground\":true,\"ticks\":\"\",\"zerolinecolor\":\"white\",\"gridwidth\":2},\"zaxis\":{\"backgroundcolor\":\"#E5ECF6\",\"gridcolor\":\"white\",\"linecolor\":\"white\",\"showbackground\":true,\"ticks\":\"\",\"zerolinecolor\":\"white\",\"gridwidth\":2}},\"shapedefaults\":{\"line\":{\"color\":\"#2a3f5f\"}},\"annotationdefaults\":{\"arrowcolor\":\"#2a3f5f\",\"arrowhead\":0,\"arrowwidth\":1},\"geo\":{\"bgcolor\":\"white\",\"landcolor\":\"#E5ECF6\",\"subunitcolor\":\"white\",\"showland\":true,\"showlakes\":true,\"lakecolor\":\"white\"},\"title\":{\"x\":0.05},\"mapbox\":{\"style\":\"light\"}}},\"xaxis\":{\"anchor\":\"y\",\"domain\":[0.0,1.0],\"title\":{\"text\":\"price\"}},\"yaxis\":{\"anchor\":\"x\",\"domain\":[0.0,1.0]},\"legend\":{\"tracegroupgap\":0},\"margin\":{\"t\":60},\"boxmode\":\"group\",\"height\":250,\"width\":1000},                        {\"responsive\": true}                    ).then(function(){\n",
              "                            \n",
              "var gd = document.getElementById('51c0862c-7ae0-4394-9a69-20b28cb5e904');\n",
              "var x = new MutationObserver(function (mutations, observer) {{\n",
              "        var display = window.getComputedStyle(gd).display;\n",
              "        if (!display || display === 'none') {{\n",
              "            console.log([gd, 'removed!']);\n",
              "            Plotly.purge(gd);\n",
              "            observer.disconnect();\n",
              "        }}\n",
              "}});\n",
              "\n",
              "// Listen for the removal of the full notebook cells\n",
              "var notebookContainer = gd.closest('#notebook-container');\n",
              "if (notebookContainer) {{\n",
              "    x.observe(notebookContainer, {childList: true});\n",
              "}}\n",
              "\n",
              "// Listen for the clearing of the current output cell\n",
              "var outputEl = gd.closest('.output');\n",
              "if (outputEl) {{\n",
              "    x.observe(outputEl, {childList: true});\n",
              "}}\n",
              "\n",
              "                        })                };                            </script>        </div>\n",
              "</body>\n",
              "</html>"
            ]
          },
          "metadata": {}
        }
      ]
    },
    {
      "cell_type": "markdown",
      "source": [
        "Based on boxplot plotted above, price distribution of listings properties ranged from 14 to 10286 with mean price around 254 and median price 170. Price distribution also plotted into the map below:"
      ],
      "metadata": {
        "id": "pMmJKB5XHo5P"
      }
    },
    {
      "cell_type": "code",
      "source": [
        "import plotly.express as px\n",
        "\n",
        "fig_price_map = px.scatter_mapbox(listings_neighborhood, lat='latitude', lon='longitude', color='price', hover_name='neighbourhood_group', zoom=10, width=900)\n",
        "fig_price_map.update_layout(mapbox_style='open-street-map')\n",
        "fig_price_map.update_layout(margin={'r':0,'t':0,'l':0,'b':0})\n",
        "fig_price_map.show()"
      ],
      "metadata": {
        "colab": {
          "base_uri": "https://localhost:8080/",
          "height": 542
        },
        "id": "DV4cO8zGUG5S",
        "outputId": "e1bbb9df-9448-4c84-9b5c-6c51a8c1ddcd"
      },
      "execution_count": null,
      "outputs": [
        {
          "output_type": "display_data",
          "data": {
            "text/html": [
              "<html>\n",
              "<head><meta charset=\"utf-8\" /></head>\n",
              "<body>\n",
              "    <div>            <script src=\"https://cdnjs.cloudflare.com/ajax/libs/mathjax/2.7.5/MathJax.js?config=TeX-AMS-MML_SVG\"></script><script type=\"text/javascript\">if (window.MathJax && window.MathJax.Hub && window.MathJax.Hub.Config) {window.MathJax.Hub.Config({SVG: {font: \"STIX-Web\"}});}</script>                <script type=\"text/javascript\">window.PlotlyConfig = {MathJaxConfig: 'local'};</script>\n",
              "        <script src=\"https://cdn.plot.ly/plotly-2.18.2.min.js\"></script>                <div id=\"111371e8-2136-4d87-aa5d-8ee9743d1c57\" class=\"plotly-graph-div\" style=\"height:525px; width:900px;\"></div>            <script type=\"text/javascript\">                                    window.PLOTLYENV=window.PLOTLYENV || {};                                    if (document.getElementById(\"111371e8-2136-4d87-aa5d-8ee9743d1c57\")) {                    Plotly.newPlot(                        \"111371e8-2136-4d87-aa5d-8ee9743d1c57\",                        [{\"hovertemplate\":\"<b>%{hovertext}</b><br><br>latitude=%{lat}<br>longitude=%{lon}<br>price=%{marker.color}<extra></extra>\",\"hovertext\":[\"Central Region\",\"Central Region\",\"Central Region\",\"Central Region\",\"Central Region\",\"Central Region\",\"Central Region\",\"Central Region\",\"Central Region\",\"Central Region\",\"Central Region\",\"Central Region\",\"Central Region\",\"Central Region\",\"Central Region\",\"Central Region\",\"Central Region\",\"Central Region\",\"Central Region\",\"Central Region\",\"Central Region\",\"Central Region\",\"Central Region\",\"Central Region\",\"Central Region\",\"Central Region\",\"Central Region\",\"Central Region\",\"Central Region\",\"Central Region\",\"Central Region\",\"Central Region\",\"Central Region\",\"Central Region\",\"Central Region\",\"Central Region\",\"Central Region\",\"Central Region\",\"Central Region\",\"Central Region\",\"Central Region\",\"Central Region\",\"Central Region\",\"Central Region\",\"Central Region\",\"Central Region\",\"Central Region\",\"Central Region\",\"Central Region\",\"Central Region\",\"Central Region\",\"Central Region\",\"Central Region\",\"Central Region\",\"Central Region\",\"Central Region\",\"Central Region\",\"Central Region\",\"Central Region\",\"Central Region\",\"Central Region\",\"Central Region\",\"Central Region\",\"Central Region\",\"Central Region\",\"Central Region\",\"Central Region\",\"Central Region\",\"Central Region\",\"Central Region\",\"Central Region\",\"Central Region\",\"Central Region\",\"Central Region\",\"Central Region\",\"Central Region\",\"Central Region\",\"Central Region\",\"Central Region\",\"Central Region\",\"Central Region\",\"Central Region\",\"Central Region\",\"Central Region\",\"Central Region\",\"Central Region\",\"Central Region\",\"Central Region\",\"Central Region\",\"Central Region\",\"Central Region\",\"Central Region\",\"Central Region\",\"Central Region\",\"Central Region\",\"Central Region\",\"Central Region\",\"Central Region\",\"Central Region\",\"Central Region\",\"Central Region\",\"Central Region\",\"Central Region\",\"Central Region\",\"Central Region\",\"Central Region\",\"Central Region\",\"Central Region\",\"Central Region\",\"Central Region\",\"Central Region\",\"Central Region\",\"Central Region\",\"Central Region\",\"Central Region\",\"Central Region\",\"Central Region\",\"Central Region\",\"Central Region\",\"Central Region\",\"Central Region\",\"Central Region\",\"Central Region\",\"Central Region\",\"Central Region\",\"Central Region\",\"Central Region\",\"Central Region\",\"Central Region\",\"Central Region\",\"Central Region\",\"Central Region\",\"Central Region\",\"Central Region\",\"Central Region\",\"Central Region\",\"Central Region\",\"Central Region\",\"Central Region\",\"Central Region\",\"Central Region\",\"Central Region\",\"Central Region\",\"Central Region\",\"Central Region\",\"Central Region\",\"Central Region\",\"Central Region\",\"Central Region\",\"Central Region\",\"Central Region\",\"Central Region\",\"Central Region\",\"Central Region\",\"Central Region\",\"Central Region\",\"Central Region\",\"Central Region\",\"Central Region\",\"Central Region\",\"Central Region\",\"Central Region\",\"Central Region\",\"Central Region\",\"Central Region\",\"Central Region\",\"Central Region\",\"Central Region\",\"Central Region\",\"Central Region\",\"Central Region\",\"Central Region\",\"Central Region\",\"Central Region\",\"Central Region\",\"Central Region\",\"Central Region\",\"Central Region\",\"Central Region\",\"Central Region\",\"Central Region\",\"Central Region\",\"Central Region\",\"Central Region\",\"Central Region\",\"Central Region\",\"Central Region\",\"Central Region\",\"Central Region\",\"Central Region\",\"Central Region\",\"Central Region\",\"Central Region\",\"Central Region\",\"Central Region\",\"Central Region\",\"Central Region\",\"Central Region\",\"Central Region\",\"Central Region\",\"Central Region\",\"Central Region\",\"Central Region\",\"Central Region\",\"Central Region\",\"Central Region\",\"Central Region\",\"Central Region\",\"Central Region\",\"Central Region\",\"Central Region\",\"Central Region\",\"Central Region\",\"Central Region\",\"Central Region\",\"Central Region\",\"Central Region\",\"Central Region\",\"Central Region\",\"Central Region\",\"Central Region\",\"Central Region\",\"Central Region\",\"Central Region\",\"Central Region\",\"Central Region\",\"Central Region\",\"Central Region\",\"Central Region\",\"Central Region\",\"Central Region\",\"Central Region\",\"Central Region\",\"Central Region\",\"Central Region\",\"Central Region\",\"Central Region\",\"Central Region\",\"Central Region\",\"Central Region\",\"Central Region\",\"Central Region\",\"Central Region\",\"Central Region\",\"Central Region\",\"Central Region\",\"Central Region\",\"Central Region\",\"Central Region\",\"Central Region\",\"Central Region\",\"Central Region\",\"Central Region\",\"Central Region\",\"Central Region\",\"Central Region\",\"Central Region\",\"Central Region\",\"Central Region\",\"Central Region\",\"Central Region\",\"Central Region\",\"Central Region\",\"Central Region\",\"Central Region\",\"Central Region\",\"Central Region\",\"Central Region\",\"Central Region\",\"Central Region\",\"Central Region\",\"Central Region\",\"Central Region\",\"Central Region\",\"Central Region\",\"Central Region\",\"Central Region\",\"Central Region\",\"Central Region\",\"Central Region\",\"Central Region\",\"Central Region\",\"Central Region\",\"Central Region\",\"Central Region\",\"Central Region\",\"Central Region\",\"Central Region\",\"Central Region\",\"Central Region\",\"Central Region\",\"Central Region\",\"Central Region\",\"Central Region\",\"Central Region\",\"Central Region\",\"Central Region\",\"Central Region\",\"Central Region\",\"Central Region\",\"Central Region\",\"Central Region\",\"Central Region\",\"Central Region\",\"Central Region\",\"Central Region\",\"Central Region\",\"Central Region\",\"Central Region\",\"Central Region\",\"Central Region\",\"Central Region\",\"Central Region\",\"Central Region\",\"Central Region\",\"Central Region\",\"Central Region\",\"Central Region\",\"Central Region\",\"Central Region\",\"Central Region\",\"Central Region\",\"Central Region\",\"Central Region\",\"Central Region\",\"Central Region\",\"Central Region\",\"Central Region\",\"Central Region\",\"Central Region\",\"Central Region\",\"Central Region\",\"Central Region\",\"Central Region\",\"Central Region\",\"Central Region\",\"Central Region\",\"Central Region\",\"Central Region\",\"Central Region\",\"Central Region\",\"Central Region\",\"Central Region\",\"Central Region\",\"Central Region\",\"Central Region\",\"Central Region\",\"Central Region\",\"Central Region\",\"Central Region\",\"Central Region\",\"Central Region\",\"Central Region\",\"Central Region\",\"Central Region\",\"Central Region\",\"Central Region\",\"Central Region\",\"Central Region\",\"Central Region\",\"Central Region\",\"Central Region\",\"Central Region\",\"Central Region\",\"Central Region\",\"Central Region\",\"Central Region\",\"Central Region\",\"Central Region\",\"Central Region\",\"Central Region\",\"Central Region\",\"Central Region\",\"Central Region\",\"Central Region\",\"Central Region\",\"Central Region\",\"Central Region\",\"Central Region\",\"Central Region\",\"Central Region\",\"Central Region\",\"Central Region\",\"Central Region\",\"Central Region\",\"Central Region\",\"Central Region\",\"Central Region\",\"Central Region\",\"Central Region\",\"Central Region\",\"Central Region\",\"Central Region\",\"Central Region\",\"Central Region\",\"Central Region\",\"Central Region\",\"Central Region\",\"Central Region\",\"Central Region\",\"Central Region\",\"Central Region\",\"Central Region\",\"Central Region\",\"Central Region\",\"Central Region\",\"Central Region\",\"Central Region\",\"Central Region\",\"Central Region\",\"Central Region\",\"Central Region\",\"Central Region\",\"Central Region\",\"Central Region\",\"Central Region\",\"Central Region\",\"Central Region\",\"Central Region\",\"Central Region\",\"Central Region\",\"Central Region\",\"Central Region\",\"Central Region\",\"Central Region\",\"Central Region\",\"Central Region\",\"Central Region\",\"Central Region\",\"Central Region\",\"Central Region\",\"Central Region\",\"Central Region\",\"Central Region\",\"Central Region\",\"Central Region\",\"Central Region\",\"Central Region\",\"Central Region\",\"Central Region\",\"Central Region\",\"Central Region\",\"Central Region\",\"Central Region\",\"Central Region\",\"Central Region\",\"Central Region\",\"Central Region\",\"Central Region\",\"Central Region\",\"Central Region\",\"Central Region\",\"Central Region\",\"Central Region\",\"Central Region\",\"Central Region\",\"Central Region\",\"Central Region\",\"Central Region\",\"Central Region\",\"Central Region\",\"Central Region\",\"Central Region\",\"Central Region\",\"Central Region\",\"Central Region\",\"Central Region\",\"Central Region\",\"Central Region\",\"Central Region\",\"Central Region\",\"Central Region\",\"Central Region\",\"Central Region\",\"Central Region\",\"Central Region\",\"Central Region\",\"Central Region\",\"Central Region\",\"Central Region\",\"Central Region\",\"Central Region\",\"Central Region\",\"Central Region\",\"Central Region\",\"Central Region\",\"Central Region\",\"Central Region\",\"Central Region\",\"Central Region\",\"Central Region\",\"Central Region\",\"Central Region\",\"Central Region\",\"Central Region\",\"Central Region\",\"Central Region\",\"Central Region\",\"Central Region\",\"Central Region\",\"Central Region\",\"Central Region\",\"Central Region\",\"Central Region\",\"Central Region\",\"Central Region\",\"Central Region\",\"Central Region\",\"Central Region\",\"Central Region\",\"Central Region\",\"Central Region\",\"Central Region\",\"Central Region\",\"Central Region\",\"Central Region\",\"Central Region\",\"Central Region\",\"Central Region\",\"Central Region\",\"Central Region\",\"Central Region\",\"Central Region\",\"Central Region\",\"Central Region\",\"Central Region\",\"Central Region\",\"Central Region\",\"Central Region\",\"Central Region\",\"Central Region\",\"Central Region\",\"Central Region\",\"Central Region\",\"Central Region\",\"Central Region\",\"Central Region\",\"Central Region\",\"Central Region\",\"Central Region\",\"Central Region\",\"Central Region\",\"Central Region\",\"Central Region\",\"Central Region\",\"Central Region\",\"Central Region\",\"Central Region\",\"Central Region\",\"Central Region\",\"Central Region\",\"Central Region\",\"Central Region\",\"Central Region\",\"Central Region\",\"Central Region\",\"Central Region\",\"Central Region\",\"Central Region\",\"Central Region\",\"Central Region\",\"Central Region\",\"Central Region\",\"Central Region\",\"Central Region\",\"Central Region\",\"Central Region\",\"Central Region\",\"Central Region\",\"Central Region\",\"Central Region\",\"Central Region\",\"Central Region\",\"Central Region\",\"Central Region\",\"Central Region\",\"Central Region\",\"Central Region\",\"Central Region\",\"Central Region\",\"Central Region\",\"Central Region\",\"Central Region\",\"Central Region\",\"Central Region\",\"Central Region\",\"Central Region\",\"Central Region\",\"Central Region\",\"Central Region\",\"Central Region\",\"Central Region\",\"Central Region\",\"Central Region\",\"Central Region\",\"Central Region\",\"Central Region\",\"Central Region\",\"Central Region\",\"Central Region\",\"Central Region\",\"Central Region\",\"Central Region\",\"Central Region\",\"Central Region\",\"Central Region\",\"Central Region\",\"Central Region\",\"Central Region\",\"Central Region\",\"Central Region\",\"Central Region\",\"Central Region\",\"Central Region\",\"Central Region\",\"Central Region\",\"Central Region\",\"Central Region\",\"Central Region\",\"Central Region\",\"Central Region\",\"Central Region\",\"Central Region\",\"Central Region\",\"Central Region\",\"Central Region\",\"Central Region\",\"Central Region\",\"Central Region\",\"Central Region\",\"Central Region\",\"Central Region\",\"Central Region\",\"Central Region\",\"Central Region\",\"Central Region\",\"Central Region\",\"Central Region\",\"Central Region\",\"Central Region\",\"Central Region\",\"Central Region\",\"Central Region\",\"Central Region\",\"Central Region\",\"Central Region\",\"Central Region\",\"Central Region\",\"Central Region\",\"Central Region\",\"Central Region\",\"Central Region\",\"Central Region\",\"Central Region\",\"Central Region\",\"Central Region\",\"Central Region\",\"Central Region\",\"Central Region\",\"Central Region\",\"Central Region\",\"Central Region\",\"Central Region\",\"Central Region\",\"Central Region\",\"Central Region\",\"Central Region\",\"Central Region\",\"Central Region\",\"Central Region\",\"Central Region\",\"Central Region\",\"Central Region\",\"Central Region\",\"Central Region\",\"Central Region\",\"Central Region\",\"Central Region\",\"Central Region\",\"Central Region\",\"Central Region\",\"Central Region\",\"Central Region\",\"Central Region\",\"Central Region\",\"Central Region\",\"Central Region\",\"Central Region\",\"Central Region\",\"Central Region\",\"Central Region\",\"Central Region\",\"Central Region\",\"Central Region\",\"Central Region\",\"Central Region\",\"Central Region\",\"Central Region\",\"Central Region\",\"Central Region\",\"Central Region\",\"Central Region\",\"Central Region\",\"Central Region\",\"Central Region\",\"Central Region\",\"Central Region\",\"Central Region\",\"Central Region\",\"Central Region\",\"Central Region\",\"Central Region\",\"Central Region\",\"Central Region\",\"Central Region\",\"Central Region\",\"Central Region\",\"Central Region\",\"Central Region\",\"Central Region\",\"Central Region\",\"Central Region\",\"Central Region\",\"Central Region\",\"Central Region\",\"Central Region\",\"Central Region\",\"Central Region\",\"Central Region\",\"Central Region\",\"Central Region\",\"Central Region\",\"Central Region\",\"Central Region\",\"Central Region\",\"Central Region\",\"Central Region\",\"Central Region\",\"Central Region\",\"Central Region\",\"Central Region\",\"Central Region\",\"Central Region\",\"Central Region\",\"Central Region\",\"Central Region\",\"Central Region\",\"Central Region\",\"Central Region\",\"Central Region\",\"Central Region\",\"Central Region\",\"Central Region\",\"Central Region\",\"Central Region\",\"Central Region\",\"Central Region\",\"Central Region\",\"Central Region\",\"Central Region\",\"Central Region\",\"Central Region\",\"Central Region\",\"Central Region\",\"Central Region\",\"Central Region\",\"Central Region\",\"Central Region\",\"Central Region\",\"Central Region\",\"Central Region\",\"Central Region\",\"Central Region\",\"Central Region\",\"Central Region\",\"Central Region\",\"Central Region\",\"Central Region\",\"Central Region\",\"Central Region\",\"Central Region\",\"Central Region\",\"Central Region\",\"Central Region\",\"Central Region\",\"Central Region\",\"Central Region\",\"Central Region\",\"Central Region\",\"Central Region\",\"Central Region\",\"Central Region\",\"Central Region\",\"Central Region\",\"Central Region\",\"Central Region\",\"Central Region\",\"Central Region\",\"Central Region\",\"Central Region\",\"Central Region\",\"Central Region\",\"Central Region\",\"Central Region\",\"Central Region\",\"Central Region\",\"Central Region\",\"Central Region\",\"Central Region\",\"Central Region\",\"Central Region\",\"Central Region\",\"Central Region\",\"Central Region\",\"Central Region\",\"Central Region\",\"Central Region\",\"Central Region\",\"Central Region\",\"Central Region\",\"Central Region\",\"Central Region\",\"Central Region\",\"Central Region\",\"Central Region\",\"Central Region\",\"Central Region\",\"Central Region\",\"Central Region\",\"Central Region\",\"Central Region\",\"Central Region\",\"Central Region\",\"Central Region\",\"Central Region\",\"Central Region\",\"Central Region\",\"Central Region\",\"Central Region\",\"Central Region\",\"Central Region\",\"Central Region\",\"Central Region\",\"Central Region\",\"Central Region\",\"Central Region\",\"Central Region\",\"Central Region\",\"Central Region\",\"Central Region\",\"Central Region\",\"Central Region\",\"Central Region\",\"Central Region\",\"Central Region\",\"Central Region\",\"Central Region\",\"Central Region\",\"Central Region\",\"Central Region\",\"Central Region\",\"Central Region\",\"Central Region\",\"Central Region\",\"Central Region\",\"Central Region\",\"Central Region\",\"Central Region\",\"Central Region\",\"Central Region\",\"Central Region\",\"Central Region\",\"Central Region\",\"Central Region\",\"Central Region\",\"Central Region\",\"Central Region\",\"Central Region\",\"Central Region\",\"Central Region\",\"Central Region\",\"Central Region\",\"Central Region\",\"Central Region\",\"Central Region\",\"Central Region\",\"Central Region\",\"Central Region\",\"Central Region\",\"Central Region\",\"Central Region\",\"Central Region\",\"Central Region\",\"Central Region\",\"Central Region\",\"Central Region\",\"Central Region\",\"Central Region\",\"Central Region\",\"Central Region\",\"Central Region\",\"Central Region\",\"Central Region\",\"Central Region\",\"Central Region\",\"Central Region\",\"Central Region\",\"Central Region\",\"Central Region\",\"Central Region\",\"Central Region\",\"Central Region\",\"Central Region\",\"Central Region\",\"Central Region\",\"Central Region\",\"Central Region\",\"Central Region\",\"Central Region\",\"Central Region\",\"Central Region\",\"Central Region\",\"Central Region\",\"Central Region\",\"Central Region\",\"Central Region\",\"Central Region\",\"Central Region\",\"Central Region\",\"Central Region\",\"Central Region\",\"Central Region\",\"Central Region\",\"Central Region\",\"Central Region\",\"Central Region\",\"Central Region\",\"Central Region\",\"Central Region\",\"Central Region\",\"Central Region\",\"Central Region\",\"Central Region\",\"Central Region\",\"Central Region\",\"Central Region\",\"Central Region\",\"Central Region\",\"Central Region\",\"Central Region\",\"Central Region\",\"Central Region\",\"Central Region\",\"Central Region\",\"Central Region\",\"Central Region\",\"Central Region\",\"Central Region\",\"Central Region\",\"Central Region\",\"Central Region\",\"Central Region\",\"Central Region\",\"Central Region\",\"Central Region\",\"Central Region\",\"Central Region\",\"Central Region\",\"Central Region\",\"Central Region\",\"Central Region\",\"Central Region\",\"Central Region\",\"Central Region\",\"Central Region\",\"Central Region\",\"Central Region\",\"Central Region\",\"Central Region\",\"Central Region\",\"Central Region\",\"Central Region\",\"Central Region\",\"Central Region\",\"Central Region\",\"Central Region\",\"Central Region\",\"Central Region\",\"Central Region\",\"Central Region\",\"Central Region\",\"Central Region\",\"Central Region\",\"Central Region\",\"Central Region\",\"Central Region\",\"Central Region\",\"Central Region\",\"Central Region\",\"Central Region\",\"Central Region\",\"Central Region\",\"Central Region\",\"Central Region\",\"Central Region\",\"Central Region\",\"Central Region\",\"Central Region\",\"Central Region\",\"Central Region\",\"Central Region\",\"Central Region\",\"Central Region\",\"Central Region\",\"Central Region\",\"Central Region\",\"Central Region\",\"Central Region\",\"Central Region\",\"Central Region\",\"Central Region\",\"Central Region\",\"Central Region\",\"Central Region\",\"Central Region\",\"Central Region\",\"Central Region\",\"Central Region\",\"Central Region\",\"Central Region\",\"Central Region\",\"Central Region\",\"Central Region\",\"Central Region\",\"Central Region\",\"Central Region\",\"Central Region\",\"Central Region\",\"Central Region\",\"Central Region\",\"Central Region\",\"Central Region\",\"Central Region\",\"Central Region\",\"Central Region\",\"Central Region\",\"Central Region\",\"Central Region\",\"Central Region\",\"Central Region\",\"Central Region\",\"Central Region\",\"Central Region\",\"Central Region\",\"Central Region\",\"Central Region\",\"Central Region\",\"Central Region\",\"Central Region\",\"Central Region\",\"Central Region\",\"Central Region\",\"Central Region\",\"Central Region\",\"Central Region\",\"Central Region\",\"Central Region\",\"Central Region\",\"Central Region\",\"Central Region\",\"Central Region\",\"Central Region\",\"Central Region\",\"Central Region\",\"Central Region\",\"Central Region\",\"Central Region\",\"Central Region\",\"Central Region\",\"Central Region\",\"Central Region\",\"Central Region\",\"Central Region\",\"Central Region\",\"Central Region\",\"Central Region\",\"Central Region\",\"Central Region\",\"Central Region\",\"Central Region\",\"Central Region\",\"Central Region\",\"Central Region\",\"Central Region\",\"Central Region\",\"Central Region\",\"Central Region\",\"Central Region\",\"Central Region\",\"Central Region\",\"Central Region\",\"Central Region\",\"Central Region\",\"Central Region\",\"Central Region\",\"Central Region\",\"Central Region\",\"Central Region\",\"Central Region\",\"Central Region\",\"Central Region\",\"Central Region\",\"Central Region\",\"Central Region\",\"Central Region\",\"Central Region\",\"Central Region\",\"Central Region\",\"Central Region\",\"Central Region\",\"Central Region\",\"Central Region\",\"Central Region\",\"Central Region\",\"Central Region\",\"Central Region\",\"Central Region\",\"Central Region\",\"Central Region\",\"Central Region\",\"Central Region\",\"Central Region\",\"Central Region\",\"Central Region\",\"Central Region\",\"Central Region\",\"Central Region\",\"Central Region\",\"Central Region\",\"Central Region\",\"Central Region\",\"Central Region\",\"Central Region\",\"Central Region\",\"Central Region\",\"Central Region\",\"Central Region\",\"Central Region\",\"Central Region\",\"Central Region\",\"Central Region\",\"Central Region\",\"Central Region\",\"Central Region\",\"Central Region\",\"Central Region\",\"Central Region\",\"Central Region\",\"Central Region\",\"Central Region\",\"Central Region\",\"Central Region\",\"Central Region\",\"Central Region\",\"Central Region\",\"Central Region\",\"Central Region\",\"Central Region\",\"Central Region\",\"Central Region\",\"Central Region\",\"Central Region\",\"Central Region\",\"Central Region\",\"Central Region\",\"Central Region\",\"Central Region\",\"Central Region\",\"Central Region\",\"Central Region\",\"Central Region\",\"Central Region\",\"Central Region\",\"Central Region\",\"Central Region\",\"Central Region\",\"Central Region\",\"Central Region\",\"Central Region\",\"Central Region\",\"Central Region\",\"Central Region\",\"Central Region\",\"Central Region\",\"Central Region\",\"Central Region\",\"Central Region\",\"Central Region\",\"Central Region\",\"Central Region\",\"Central Region\",\"Central Region\",\"Central Region\",\"Central Region\",\"Central Region\",\"Central Region\",\"Central Region\",\"Central Region\",\"Central Region\",\"Central Region\",\"Central Region\",\"Central Region\",\"Central Region\",\"Central Region\",\"Central Region\",\"Central Region\",\"Central Region\",\"Central Region\",\"Central Region\",\"Central Region\",\"Central Region\",\"Central Region\",\"Central Region\",\"Central Region\",\"Central Region\",\"Central Region\",\"Central Region\",\"Central Region\",\"Central Region\",\"Central Region\",\"Central Region\",\"Central Region\",\"Central Region\",\"Central Region\",\"Central Region\",\"Central Region\",\"Central Region\",\"Central Region\",\"Central Region\",\"Central Region\",\"Central Region\",\"Central Region\",\"Central Region\",\"Central Region\",\"Central Region\",\"Central Region\",\"Central Region\",\"Central Region\",\"Central Region\",\"Central Region\",\"Central Region\",\"Central Region\",\"Central Region\",\"Central Region\",\"Central Region\",\"Central Region\",\"Central Region\",\"Central Region\",\"Central Region\",\"Central Region\",\"Central Region\",\"Central Region\",\"Central Region\",\"Central Region\",\"Central Region\",\"Central Region\",\"Central Region\",\"Central Region\",\"Central Region\",\"Central Region\",\"Central Region\",\"Central Region\",\"Central Region\",\"Central Region\",\"Central Region\",\"Central Region\",\"Central Region\",\"Central Region\",\"Central Region\",\"Central Region\",\"Central Region\",\"Central Region\",\"Central Region\",\"Central Region\",\"Central Region\",\"Central Region\",\"Central Region\",\"Central Region\",\"Central Region\",\"Central Region\",\"Central Region\",\"Central Region\",\"Central Region\",\"Central Region\",\"Central Region\",\"Central Region\",\"Central Region\",\"Central Region\",\"Central Region\",\"Central Region\",\"Central Region\",\"Central Region\",\"Central Region\",\"Central Region\",\"Central Region\",\"Central Region\",\"Central Region\",\"Central Region\",\"Central Region\",\"Central Region\",\"Central Region\",\"Central Region\",\"Central Region\",\"Central Region\",\"Central Region\",\"Central Region\",\"Central Region\",\"Central Region\",\"Central Region\",\"Central Region\",\"Central Region\",\"Central Region\",\"Central Region\",\"Central Region\",\"Central Region\",\"Central Region\",\"Central Region\",\"Central Region\",\"Central Region\",\"Central Region\",\"Central Region\",\"Central Region\",\"Central Region\",\"Central Region\",\"Central Region\",\"Central Region\",\"Central Region\",\"Central Region\",\"Central Region\",\"Central Region\",\"Central Region\",\"Central Region\",\"Central Region\",\"Central Region\",\"Central Region\",\"Central Region\",\"Central Region\",\"Central Region\",\"Central Region\",\"Central Region\",\"Central Region\",\"Central Region\",\"Central Region\",\"Central Region\",\"Central Region\",\"Central Region\",\"Central Region\",\"Central Region\",\"Central Region\",\"Central Region\",\"Central Region\",\"Central Region\",\"Central Region\",\"Central Region\",\"Central Region\",\"Central Region\",\"Central Region\",\"Central Region\",\"Central Region\",\"Central Region\",\"Central Region\",\"Central Region\",\"Central Region\",\"Central Region\",\"Central Region\",\"Central Region\",\"Central Region\",\"Central Region\",\"Central Region\",\"Central Region\",\"Central Region\",\"Central Region\",\"Central Region\",\"Central Region\",\"Central Region\",\"Central Region\",\"Central Region\",\"Central Region\",\"Central Region\",\"Central Region\",\"Central Region\",\"Central Region\",\"Central Region\",\"Central Region\",\"Central Region\",\"Central Region\",\"Central Region\",\"Central Region\",\"Central Region\",\"Central Region\",\"Central Region\",\"Central Region\",\"Central Region\",\"Central Region\",\"Central Region\",\"Central Region\",\"Central Region\",\"Central Region\",\"Central Region\",\"Central Region\",\"Central Region\",\"Central Region\",\"Central Region\",\"Central Region\",\"Central Region\",\"Central Region\",\"Central Region\",\"Central Region\",\"Central Region\",\"Central Region\",\"Central Region\",\"Central Region\",\"Central Region\",\"Central Region\",\"Central Region\",\"Central Region\",\"Central Region\",\"Central Region\",\"Central Region\",\"Central Region\",\"Central Region\",\"Central Region\",\"Central Region\",\"Central Region\",\"Central Region\",\"Central Region\",\"Central Region\",\"Central Region\",\"Central Region\",\"Central Region\",\"Central Region\",\"Central Region\",\"Central Region\",\"Central Region\",\"Central Region\",\"Central Region\",\"Central Region\",\"Central Region\",\"Central Region\",\"Central Region\",\"Central Region\",\"Central Region\",\"Central Region\",\"Central Region\",\"Central Region\",\"Central Region\",\"Central Region\",\"Central Region\",\"Central Region\",\"Central Region\",\"Central Region\",\"Central Region\",\"Central Region\",\"Central Region\",\"Central Region\",\"Central Region\",\"Central Region\",\"Central Region\",\"Central Region\",\"Central Region\",\"Central Region\",\"Central Region\",\"Central Region\",\"Central Region\",\"Central Region\",\"Central Region\",\"Central Region\",\"Central Region\",\"Central Region\",\"Central Region\",\"Central Region\",\"Central Region\",\"Central Region\",\"Central Region\",\"Central Region\",\"Central Region\",\"Central Region\",\"Central Region\",\"Central Region\",\"Central Region\",\"Central Region\",\"Central Region\",\"Central Region\",\"Central Region\",\"Central Region\",\"Central Region\",\"Central Region\",\"Central Region\",\"Central Region\",\"Central Region\",\"Central Region\",\"Central Region\",\"Central Region\",\"Central Region\",\"Central Region\",\"Central Region\",\"Central Region\",\"Central Region\",\"Central Region\",\"Central Region\",\"Central Region\",\"Central Region\",\"Central Region\",\"Central Region\",\"Central Region\",\"Central Region\",\"Central Region\",\"Central Region\",\"Central Region\",\"Central Region\",\"Central Region\",\"Central Region\",\"Central Region\",\"Central Region\",\"Central Region\",\"Central Region\",\"Central Region\",\"Central Region\",\"Central Region\",\"Central Region\",\"Central Region\",\"Central Region\",\"Central Region\",\"Central Region\",\"Central Region\",\"Central Region\",\"Central Region\",\"Central Region\",\"Central Region\",\"Central Region\",\"Central Region\",\"Central Region\",\"Central Region\",\"Central Region\",\"Central Region\",\"Central Region\",\"Central Region\",\"Central Region\",\"Central Region\",\"Central Region\",\"Central Region\",\"Central Region\",\"Central Region\",\"Central Region\",\"Central Region\",\"Central Region\",\"Central Region\",\"Central Region\",\"Central Region\",\"Central Region\",\"Central Region\",\"Central Region\",\"Central Region\",\"Central Region\",\"Central Region\",\"Central Region\",\"Central Region\",\"Central Region\",\"Central Region\",\"Central Region\",\"Central Region\",\"Central Region\",\"Central Region\",\"Central Region\",\"Central Region\",\"Central Region\",\"Central Region\",\"Central Region\",\"Central Region\",\"Central Region\",\"Central Region\",\"Central Region\",\"Central Region\",\"Central Region\",\"Central Region\",\"Central Region\",\"Central Region\",\"Central Region\",\"Central Region\",\"Central Region\",\"Central Region\",\"Central Region\",\"Central Region\",\"Central Region\",\"Central Region\",\"Central Region\",\"Central Region\",\"Central Region\",\"Central Region\",\"Central Region\",\"Central Region\",\"Central Region\",\"Central Region\",\"Central Region\",\"Central Region\",\"Central Region\",\"Central Region\",\"Central Region\",\"Central Region\",\"Central Region\",\"Central Region\",\"Central Region\",\"Central Region\",\"Central Region\",\"Central Region\",\"Central Region\",\"Central Region\",\"Central Region\",\"Central Region\",\"Central Region\",\"Central Region\",\"Central Region\",\"Central Region\",\"Central Region\",\"Central Region\",\"Central Region\",\"Central Region\",\"Central Region\",\"Central Region\",\"Central Region\",\"Central Region\",\"Central Region\",\"Central Region\",\"Central Region\",\"Central Region\",\"Central Region\",\"Central Region\",\"Central Region\",\"Central Region\",\"Central Region\",\"Central Region\",\"Central Region\",\"Central Region\",\"Central Region\",\"Central Region\",\"Central Region\",\"Central Region\",\"Central Region\",\"Central Region\",\"Central Region\",\"Central Region\",\"Central Region\",\"Central Region\",\"Central Region\",\"Central Region\",\"Central Region\",\"Central Region\",\"Central Region\",\"Central Region\",\"Central Region\",\"Central Region\",\"Central Region\",\"Central Region\",\"Central Region\",\"Central Region\",\"Central Region\",\"Central Region\",\"Central Region\",\"Central Region\",\"Central Region\",\"Central Region\",\"Central Region\",\"Central Region\",\"Central Region\",\"Central Region\",\"Central Region\",\"Central Region\",\"Central Region\",\"Central Region\",\"Central Region\",\"Central Region\",\"Central Region\",\"Central Region\",\"Central Region\",\"Central Region\",\"Central Region\",\"Central Region\",\"Central Region\",\"Central Region\",\"Central Region\",\"Central Region\",\"Central Region\",\"Central Region\",\"Central Region\",\"Central Region\",\"Central Region\",\"Central Region\",\"Central Region\",\"Central Region\",\"Central Region\",\"Central Region\",\"Central Region\",\"Central Region\",\"Central Region\",\"Central Region\",\"Central Region\",\"Central Region\",\"Central Region\",\"Central Region\",\"Central Region\",\"Central Region\",\"Central Region\",\"Central Region\",\"Central Region\",\"Central Region\",\"Central Region\",\"Central Region\",\"Central Region\",\"Central Region\",\"Central Region\",\"Central Region\",\"Central Region\",\"Central Region\",\"Central Region\",\"Central Region\",\"Central Region\",\"Central Region\",\"Central Region\",\"Central Region\",\"Central Region\",\"Central Region\",\"Central Region\",\"Central Region\",\"Central Region\",\"Central Region\",\"Central Region\",\"Central Region\",\"Central Region\",\"Central Region\",\"Central Region\",\"Central Region\",\"Central Region\",\"Central Region\",\"Central Region\",\"Central Region\",\"Central Region\",\"Central Region\",\"Central Region\",\"Central Region\",\"Central Region\",\"Central Region\",\"Central Region\",\"Central Region\",\"Central Region\",\"Central Region\",\"Central Region\",\"Central Region\",\"Central Region\",\"Central Region\",\"Central Region\",\"Central Region\",\"Central Region\",\"Central Region\",\"Central Region\",\"Central Region\",\"Central Region\",\"Central Region\",\"Central Region\",\"Central Region\",\"Central Region\",\"Central Region\",\"Central Region\",\"Central Region\",\"Central Region\",\"Central Region\",\"Central Region\",\"Central Region\",\"Central Region\",\"Central Region\",\"Central Region\",\"Central Region\",\"Central Region\",\"Central Region\",\"Central Region\",\"Central Region\",\"Central Region\",\"Central Region\",\"Central Region\",\"Central Region\",\"Central Region\",\"Central Region\",\"Central Region\",\"Central Region\",\"Central Region\",\"Central Region\",\"Central Region\",\"Central Region\",\"Central Region\",\"Central Region\",\"Central Region\",\"Central Region\",\"Central Region\",\"Central Region\",\"Central Region\",\"Central Region\",\"Central Region\",\"Central Region\",\"Central Region\",\"Central Region\",\"Central Region\",\"Central Region\",\"Central Region\",\"Central Region\",\"Central Region\",\"Central Region\",\"Central Region\",\"Central Region\",\"Central Region\",\"Central Region\",\"Central Region\",\"Central Region\",\"Central Region\",\"Central Region\",\"Central Region\",\"Central Region\",\"Central Region\",\"Central Region\",\"Central Region\",\"Central Region\",\"Central Region\",\"Central Region\",\"Central Region\",\"Central Region\",\"Central Region\",\"Central Region\",\"Central Region\",\"Central Region\",\"Central Region\",\"Central Region\",\"Central Region\",\"Central Region\",\"Central Region\",\"Central Region\",\"Central Region\",\"Central Region\",\"Central Region\",\"Central Region\",\"Central Region\",\"Central Region\",\"Central Region\",\"Central Region\",\"Central Region\",\"Central Region\",\"Central Region\",\"Central Region\",\"Central Region\",\"Central Region\",\"Central Region\",\"Central Region\",\"Central Region\",\"Central Region\",\"Central Region\",\"Central Region\",\"Central Region\",\"Central Region\",\"Central Region\",\"Central Region\",\"Central Region\",\"Central Region\",\"Central Region\",\"Central Region\",\"Central Region\",\"Central Region\",\"Central Region\",\"Central Region\",\"Central Region\",\"Central Region\",\"Central Region\",\"Central Region\",\"Central Region\",\"Central Region\",\"Central Region\",\"Central Region\",\"Central Region\",\"Central Region\",\"Central Region\",\"Central Region\",\"Central Region\",\"Central Region\",\"Central Region\",\"Central Region\",\"Central Region\",\"Central Region\",\"Central Region\",\"Central Region\",\"Central Region\",\"Central Region\",\"Central Region\",\"Central Region\",\"Central Region\",\"Central Region\",\"Central Region\",\"Central Region\",\"Central Region\",\"Central Region\",\"Central Region\",\"Central Region\",\"Central Region\",\"Central Region\",\"Central Region\",\"Central Region\",\"Central Region\",\"Central Region\",\"Central Region\",\"Central Region\",\"Central Region\",\"Central Region\",\"Central Region\",\"Central Region\",\"Central Region\",\"Central Region\",\"Central Region\",\"Central Region\",\"Central Region\",\"Central Region\",\"Central Region\",\"Central Region\",\"Central Region\",\"Central Region\",\"Central Region\",\"Central Region\",\"Central Region\",\"Central Region\",\"Central Region\",\"Central Region\",\"Central Region\",\"Central Region\",\"Central Region\",\"Central Region\",\"Central Region\",\"Central Region\",\"Central Region\",\"Central Region\",\"Central Region\",\"Central Region\",\"Central Region\",\"Central Region\",\"Central Region\",\"Central Region\",\"Central Region\",\"Central Region\",\"Central Region\",\"Central Region\",\"Central Region\",\"Central Region\",\"Central Region\",\"Central Region\",\"Central Region\",\"Central Region\",\"Central Region\",\"Central Region\",\"Central Region\",\"Central Region\",\"Central Region\",\"Central Region\",\"Central Region\",\"Central Region\",\"Central Region\",\"Central Region\",\"Central Region\",\"Central Region\",\"Central Region\",\"Central Region\",\"Central Region\",\"Central Region\",\"Central Region\",\"Central Region\",\"Central Region\",\"Central Region\",\"Central Region\",\"Central Region\",\"Central Region\",\"Central Region\",\"Central Region\",\"Central Region\",\"Central Region\",\"Central Region\",\"Central Region\",\"Central Region\",\"Central Region\",\"Central Region\",\"Central Region\",\"Central Region\",\"Central Region\",\"Central Region\",\"Central Region\",\"Central Region\",\"Central Region\",\"Central Region\",\"Central Region\",\"Central Region\",\"Central Region\",\"Central Region\",\"Central Region\",\"Central Region\",\"Central Region\",\"Central Region\",\"Central Region\",\"Central Region\",\"Central Region\",\"Central Region\",\"Central Region\",\"Central Region\",\"Central Region\",\"Central Region\",\"Central Region\",\"Central Region\",\"Central Region\",\"Central Region\",\"Central Region\",\"Central Region\",\"Central Region\",\"Central Region\",\"Central Region\",\"Central Region\",\"Central Region\",\"Central Region\",\"Central Region\",\"Central Region\",\"Central Region\",\"Central Region\",\"Central Region\",\"Central Region\",\"Central Region\",\"Central Region\",\"Central Region\",\"Central Region\",\"Central Region\",\"Central Region\",\"Central Region\",\"Central Region\",\"Central Region\",\"Central Region\",\"Central Region\",\"Central Region\",\"Central Region\",\"Central Region\",\"Central Region\",\"Central Region\",\"Central Region\",\"Central Region\",\"Central Region\",\"Central Region\",\"Central Region\",\"Central Region\",\"Central Region\",\"Central Region\",\"Central Region\",\"Central Region\",\"Central Region\",\"Central Region\",\"Central Region\",\"Central Region\",\"Central Region\",\"Central Region\",\"Central Region\",\"Central Region\",\"Central Region\",\"Central Region\",\"Central Region\",\"Central Region\",\"Central Region\",\"Central Region\",\"Central Region\",\"Central Region\",\"Central Region\",\"Central Region\",\"Central Region\",\"Central Region\",\"Central Region\",\"Central Region\",\"Central Region\",\"Central Region\",\"Central Region\",\"Central Region\",\"Central Region\",\"Central Region\",\"Central Region\",\"Central Region\",\"Central Region\",\"Central Region\",\"Central Region\",\"Central Region\",\"Central Region\",\"Central Region\",\"Central Region\",\"Central Region\",\"Central Region\",\"Central Region\",\"Central Region\",\"Central Region\",\"Central Region\",\"Central Region\",\"Central Region\",\"Central Region\",\"Central Region\",\"Central Region\",\"Central Region\",\"Central Region\",\"Central Region\",\"Central Region\",\"Central Region\",\"Central Region\",\"Central Region\",\"Central Region\",\"Central Region\",\"Central Region\",\"Central Region\",\"Central Region\",\"Central Region\",\"Central Region\",\"Central Region\",\"Central Region\",\"Central Region\",\"Central Region\",\"Central Region\",\"Central Region\",\"Central Region\",\"Central Region\",\"Central Region\",\"Central Region\",\"Central Region\",\"Central Region\",\"Central Region\",\"Central Region\",\"Central Region\",\"Central Region\",\"Central Region\",\"Central Region\",\"Central Region\",\"Central Region\",\"Central Region\",\"Central Region\",\"Central Region\",\"Central Region\",\"Central Region\",\"Central Region\",\"Central Region\",\"Central Region\",\"Central Region\",\"Central Region\",\"Central Region\",\"Central Region\",\"Central Region\",\"Central Region\",\"Central Region\",\"Central Region\",\"Central Region\",\"Central Region\",\"Central Region\",\"Central Region\",\"Central Region\",\"Central Region\",\"Central Region\",\"Central Region\",\"Central Region\",\"Central Region\",\"Central Region\",\"Central Region\",\"Central Region\",\"Central Region\",\"Central Region\",\"Central Region\",\"Central Region\",\"Central Region\",\"Central Region\",\"Central Region\",\"Central Region\",\"Central Region\",\"Central Region\",\"Central Region\",\"Central Region\",\"Central Region\",\"Central Region\",\"Central Region\",\"Central Region\",\"Central Region\",\"Central Region\",\"Central Region\",\"Central Region\",\"Central Region\",\"Central Region\",\"Central Region\",\"Central Region\",\"Central Region\",\"Central Region\",\"Central Region\",\"Central Region\",\"Central Region\",\"Central Region\",\"Central Region\",\"Central Region\",\"Central Region\",\"Central Region\",\"Central Region\",\"Central Region\",\"Central Region\",\"Central Region\",\"Central Region\",\"Central Region\",\"Central Region\",\"Central Region\",\"Central Region\",\"Central Region\",\"Central Region\",\"Central Region\",\"Central Region\",\"Central Region\",\"Central Region\",\"Central Region\",\"Central Region\",\"Central Region\",\"Central Region\",\"Central Region\",\"Central Region\",\"Central Region\",\"Central Region\",\"Central Region\",\"Central Region\",\"Central Region\",\"Central Region\",\"Central Region\",\"Central Region\",\"Central Region\",\"Central Region\",\"Central Region\",\"Central Region\",\"Central Region\",\"Central Region\",\"Central Region\",\"Central Region\",\"Central Region\",\"Central Region\",\"Central Region\",\"Central Region\",\"Central Region\",\"Central Region\",\"Central Region\",\"Central Region\",\"Central Region\",\"Central Region\",\"Central Region\",\"East Region\",\"East Region\",\"East Region\",\"East Region\",\"East Region\",\"East Region\",\"East Region\",\"East Region\",\"East Region\",\"East Region\",\"East Region\",\"East Region\",\"East Region\",\"East Region\",\"East Region\",\"East Region\",\"East Region\",\"East Region\",\"East Region\",\"East Region\",\"East Region\",\"East Region\",\"East Region\",\"East Region\",\"East Region\",\"East Region\",\"East Region\",\"East Region\",\"East Region\",\"East Region\",\"East Region\",\"East Region\",\"East Region\",\"East Region\",\"East Region\",\"East Region\",\"East Region\",\"East Region\",\"East Region\",\"East Region\",\"East Region\",\"East Region\",\"East Region\",\"East Region\",\"East Region\",\"East Region\",\"East Region\",\"East Region\",\"East Region\",\"East Region\",\"East Region\",\"East Region\",\"East Region\",\"East Region\",\"East Region\",\"East Region\",\"East Region\",\"East Region\",\"East Region\",\"East Region\",\"East Region\",\"East Region\",\"East Region\",\"East Region\",\"East Region\",\"East Region\",\"East Region\",\"East Region\",\"East Region\",\"East Region\",\"East Region\",\"East Region\",\"East Region\",\"East Region\",\"East Region\",\"East Region\",\"East Region\",\"East Region\",\"East Region\",\"East Region\",\"East Region\",\"East Region\",\"East Region\",\"East Region\",\"East Region\",\"East Region\",\"East Region\",\"East Region\",\"East Region\",\"East Region\",\"East Region\",\"East Region\",\"East Region\",\"East Region\",\"East Region\",\"East Region\",\"East Region\",\"East Region\",\"East Region\",\"East Region\",\"East Region\",\"East Region\",\"East Region\",\"East Region\",\"East Region\",\"East Region\",\"East Region\",\"East Region\",\"East Region\",\"East Region\",\"East Region\",\"East Region\",\"East Region\",\"East Region\",\"East Region\",\"East Region\",\"East Region\",\"East Region\",\"East Region\",\"East Region\",\"East Region\",\"East Region\",\"East Region\",\"East Region\",\"East Region\",\"East Region\",\"East Region\",\"East Region\",\"East Region\",\"East Region\",\"East Region\",\"East Region\",\"East Region\",\"East Region\",\"East Region\",\"East Region\",\"East Region\",\"East Region\",\"East Region\",\"East Region\",\"East Region\",\"East Region\",\"East Region\",\"East Region\",\"East Region\",\"North-East Region\",\"North-East Region\",\"North-East Region\",\"North-East Region\",\"North-East Region\",\"North-East Region\",\"North-East Region\",\"North-East Region\",\"North-East Region\",\"North-East Region\",\"North-East Region\",\"North-East Region\",\"North-East Region\",\"North-East Region\",\"North-East Region\",\"North-East Region\",\"North-East Region\",\"North-East Region\",\"North-East Region\",\"North-East Region\",\"North-East Region\",\"North-East Region\",\"North-East Region\",\"North-East Region\",\"North-East Region\",\"North-East Region\",\"North-East Region\",\"North-East Region\",\"North-East Region\",\"North-East Region\",\"North-East Region\",\"North-East Region\",\"North-East Region\",\"North-East Region\",\"North-East Region\",\"North-East Region\",\"North-East Region\",\"North-East Region\",\"North-East Region\",\"North-East Region\",\"North-East Region\",\"North-East Region\",\"North-East Region\",\"North-East Region\",\"North-East Region\",\"North-East Region\",\"North-East Region\",\"North-East Region\",\"North-East Region\",\"North-East Region\",\"North-East Region\",\"North-East Region\",\"North-East Region\",\"North-East Region\",\"North-East Region\",\"North-East Region\",\"North-East Region\",\"North-East Region\",\"North-East Region\",\"North-East Region\",\"North-East Region\",\"North-East Region\",\"North-East Region\",\"North-East Region\",\"North-East Region\",\"North-East Region\",\"North-East Region\",\"North-East Region\",\"North-East Region\",\"North-East Region\",\"North-East Region\",\"North-East Region\",\"North-East Region\",\"North-East Region\",\"North-East Region\",\"North-East Region\",\"North-East Region\",\"North-East Region\",\"North-East Region\",\"North Region\",\"North Region\",\"North Region\",\"North Region\",\"North Region\",\"North Region\",\"North Region\",\"North Region\",\"North Region\",\"North Region\",\"North Region\",\"North Region\",\"North Region\",\"North Region\",\"North Region\",\"North Region\",\"North Region\",\"North Region\",\"North Region\",\"North Region\",\"North Region\",\"North Region\",\"North Region\",\"North Region\",\"North Region\",\"North Region\",\"North Region\",\"North Region\",\"North Region\",\"North Region\",\"North Region\",\"North Region\",\"North Region\",\"North Region\",\"North Region\",\"North Region\",\"North Region\",\"North Region\",\"North Region\",\"North Region\",\"North Region\",\"North Region\",\"North Region\",\"North Region\",\"North Region\",\"North Region\",\"North Region\",\"North Region\",\"North Region\",\"North Region\",\"North Region\",\"North Region\",\"North Region\",\"North Region\",\"North Region\",\"North Region\",\"North Region\",\"North Region\",\"North Region\",\"North Region\",\"North Region\",\"North Region\",\"North Region\",\"North Region\",\"North Region\",\"West Region\",\"West Region\",\"West Region\",\"West Region\",\"West Region\",\"West Region\",\"West Region\",\"West Region\",\"West Region\",\"West Region\",\"West Region\",\"West Region\",\"West Region\",\"West Region\",\"West Region\",\"West Region\",\"West Region\",\"West Region\",\"West Region\",\"West Region\",\"West Region\",\"West Region\",\"West Region\",\"West Region\",\"West Region\",\"West Region\",\"West Region\",\"West Region\",\"West Region\",\"West Region\",\"West Region\",\"West Region\",\"West Region\",\"West Region\",\"West Region\",\"West Region\",\"West Region\",\"West Region\",\"West Region\",\"West Region\",\"West Region\",\"West Region\",\"West Region\",\"West Region\",\"West Region\",\"West Region\",\"West Region\",\"West Region\",\"West Region\",\"West Region\",\"West Region\",\"West Region\",\"West Region\",\"West Region\",\"West Region\",\"West Region\",\"West Region\",\"West Region\",\"West Region\",\"West Region\",\"West Region\",\"West Region\",\"West Region\",\"West Region\",\"West Region\",\"West Region\",\"West Region\",\"West Region\",\"West Region\",\"West Region\",\"West Region\",\"West Region\",\"West Region\",\"West Region\",\"West Region\",\"West Region\",\"West Region\",\"West Region\",\"West Region\",\"West Region\",\"West Region\",\"West Region\",\"West Region\",\"West Region\",\"West Region\",\"West Region\",\"West Region\",\"West Region\",\"West Region\",\"West Region\",\"West Region\",\"West Region\",\"West Region\",\"West Region\",\"West Region\",\"West Region\",\"West Region\",\"West Region\",\"West Region\",\"West Region\",\"West Region\",\"West Region\",\"West Region\",\"West Region\",\"West Region\",\"West Region\",\"West Region\",\"West Region\",\"West Region\",\"West Region\",\"West Region\",\"West Region\",\"West Region\",\"West Region\",\"West Region\",\"West Region\",\"West Region\",\"West Region\",\"West Region\",\"West Region\",\"West Region\",\"West Region\",\"West Region\",\"West Region\",\"West Region\",\"West Region\",\"West Region\",\"West Region\",\"West Region\",\"West Region\",\"West Region\",\"West Region\",\"West Region\",\"West Region\",\"West Region\",\"West Region\",\"West Region\",\"West Region\",\"West Region\",\"West Region\",\"West Region\",\"West Region\",\"West Region\",\"West Region\",\"West Region\",\"West Region\",\"West Region\",\"West Region\",\"West Region\",\"West Region\",\"West Region\",\"West Region\",\"West Region\",\"West Region\",\"West Region\",\"West Region\",\"West Region\",\"West Region\",\"West Region\",\"West Region\",\"West Region\",\"West Region\",\"West Region\",\"West Region\",\"West Region\",\"West Region\",\"West Region\",\"West Region\",\"West Region\",\"West Region\",\"West Region\",\"West Region\",\"West Region\",\"West Region\",\"West Region\",\"West Region\"],\"lat\":[1.35349,1.36628,1.35725,1.35751,1.35791,1.35254,1.36298,1.3533,1.35789,1.35222,1.35209,1.35297,1.34622,1.34377,1.35872,1.36087,1.35965,1.35148,1.35409,1.35385,1.35346,1.34837,1.34691,1.35246,1.3588091,1.3529103552615394,1.352236144063582,1.28836,1.28828,1.28652,1.28636,1.29065,1.27716,1.28366,1.27619,1.27626,1.2744,1.27513,1.28549,1.27329,1.28386,1.2652,1.27475,1.27749,1.28051,1.28456,1.28273,1.28443,1.28443,1.28443,1.28443,1.28426,1.28461,1.2846,1.28443,1.28429,1.28443,1.28414,1.28434,1.28438,1.28412,1.28404,1.28451,1.28405,1.28428,1.28436,1.28983,1.28559,1.2836,1.28612,1.2844,1.28471,1.28389,1.28584,1.28426,1.28454,1.28549,1.29104,1.26586,1.28456,1.28456,1.28355,1.28456,1.26705,1.267,1.27427,1.27427,1.28171,1.27427,1.28302,1.27222,1.27536,1.2758,1.2907,1.27317,1.27368,1.27228,1.27386,1.27437,1.27229,1.27399,1.27219,1.28432,1.27454,1.28387,1.27292,1.27475,1.28656,1.27454,1.27233,1.27407,1.27504,1.27455,1.27483,1.27286,1.28338,1.27497,1.27484,1.27396,1.27489,1.27489,1.27395,1.27209,1.27286,1.27454,1.28378,1.28508,1.28428,1.27311,1.28542,1.27341,1.27498,1.28471,1.28332,1.28367,1.26611,1.2735,1.2745,1.28984,1.29078,1.29044,1.27928,1.29304,1.28522,1.28648,1.28668,1.28509,1.29043,1.2909,1.28918,1.28896,1.29049,1.2907,1.29057,1.2850454,1.2842085684018127,1.284666758972146,1.284662968708592,1.2836629420920187,1.2666222039019843,1.284559452654546,1.283989578705699,1.284429448804044,1.2860778115791205,1.2844023126397797,1.2862177649978204,1.284244767032635,1.33432,1.30938,1.31262,1.31269,1.31132,1.31107,1.34507,1.33051,1.33916,1.31244,1.31284,1.30961,1.34401,1.33463,1.34228,1.31084,1.31072,1.31078,1.3128,1.3338,1.3112,1.34197,1.33984,1.33957,1.34023,1.31292,1.31573,1.33678,1.34126,1.34129,1.33278,1.33121,1.325,1.32227,1.3212402,1.31981,1.27663,1.27585,1.27525,1.29489,1.28191,1.29694,1.28039,1.28002,1.28146,1.28202,1.28172,1.2802,1.28199,1.29673,1.28535,1.28775,1.29672,1.28019,1.28164,1.2813,1.28028,1.28169,1.28205,1.28038,1.27872,1.275,1.27526,1.28341,1.28146,1.27343,1.28918,1.29649,1.29649,1.27361,1.28142,1.28143,1.28203,1.28065,1.28116,1.28039,1.28205,1.28622,1.28484,1.28875,1.28525,1.30041,1.30041,1.27988,1.27394,1.28206,1.27424,1.27831,1.30087,1.2961,1.29745,1.2969,1.27303,1.28176,1.28203,1.28164,1.28026,1.27972,1.28024,1.28033,1.2801,1.28131,1.28165,1.28173,1.28209,1.28067,1.28,1.27317,1.28144,1.27335,1.27363,1.27976,1.2815,1.28191,1.27976,1.28141,1.27485,1.28144,1.27789,1.28182,1.28167,1.27959,1.2734,1.28192,1.27383,1.28197,1.28065,1.27316,1.27499,1.28976,1.28864,1.29057,1.28072,1.28906,1.28138,1.27338,1.27384,1.27391,1.28155,1.28008,1.28044,1.28956,1.27316,1.27634,1.2799,1.28021,1.29979,1.28216,1.2823,1.2738,1.2805,1.28165,1.27549,1.27548,1.29795,1.29647,1.29656,1.29838,1.27528,1.27501,1.27989,1.27432,1.2733,1.274,1.27565,1.27554,1.27599,1.27477,1.27924,1.27328,1.27878,1.27567,1.2967,1.29658,1.27459,1.27394,1.27547,1.27638,1.27767,1.28548,1.2738,1.27901,1.2731,1.29648,1.29827,1.29635,1.28091,1.27637,1.2802,1.28152,1.298,1.29628,1.29849,1.29823,1.29674,1.27829,1.28298,1.28172,1.28363,1.27773,1.2961,1.2962,1.27469,1.28097,1.29553,1.28237,1.27518,1.27375,1.27413,1.28142,1.27433,1.27793,1.28101,1.280867,1.27751,1.27567,1.27325,1.30055,1.29714,1.27757,1.27766,1.28159,1.27782,1.28149,1.27743,1.282128,1.30128,1.30081,1.29835,1.2984,1.27836,1.27649,1.3015,1.30169,1.30086,1.30167,1.27825,1.27968,1.28152,1.28245,1.28291,1.28245,1.28328,1.28147,1.2849,1.28339,1.28146,1.28161,1.28245,1.28245,1.28245,1.28131,1.28245,1.28175,1.285,1.27336,1.2753,1.283671,1.28179,1.28422,1.28322,1.2828604465911215,1.28158,1.28437,1.27599,1.2747254015690903,1.2745402799857175,1.27402,1.2824499,1.2814390349343268,1.285477921929144,1.282217625619193,1.2849268288358908,1.28495,1.2773465,1.2812772067136422,1.2817968254118144,1.281892933895941,1.2816329525508476,1.2795839,1.284619481913345,1.2909566142071491,1.2825612886719882,1.2811649536305505,1.2803958360786474,1.2838174868155994,1.2808512,1.282637452596422,1.2974421799646805,1.2968928694301645,1.2973293340199217,1.283045956607974,1.2990128421465954,1.2831600854127891,1.297881128418724,1.297755054238218,1.2975668464474144,1.2800771159273348,1.2812674025751896,1.28214551868361,1.2796094447835022,1.2832478485151348,1.2844674526101303,1.2821459967704167,1.2819598861501298,1.2820653505180863,1.31612,1.3111,1.31315,1.32874,1.31697,1.3149,1.31461,1.31334,1.31457,1.31395,1.31226,1.31363,1.31106,1.33007,1.32893,1.3157,1.31846,1.31398,1.31361,1.31552,1.31548,1.3147,1.31522,1.31314,1.31184,1.30944,1.3147,1.31541,1.31539,1.31655,1.3147,1.31563,1.31496,1.31353,1.31159,1.31475,1.32013,1.31222,1.31322,1.31214,1.31233,1.3147,1.31064,1.3111,1.31226,1.3147,1.31418,1.31434,1.3147,1.31534,1.31103,1.31129,1.3147,1.31489,1.3149,1.3147,1.31453,1.31334,1.31144,1.32029,1.31287,1.31534,1.31095,1.32231,1.31473,1.3147,1.31473,1.31473,1.3147,1.31473,1.3147,1.30991,1.31393,1.33036,1.31499,1.31261,1.31275,1.30968,1.30987,1.3147,1.3147,1.31566,1.31588,1.3147,1.3147,1.3147,1.31623,1.31249,1.30974,1.31283,1.3147,1.32001,1.3155,1.31335,1.3117,1.31309,1.3147,1.31081,1.31237,1.31399,1.31648,1.31854,1.31531,1.31683,1.31586,1.31433,1.31633,1.31559,1.31305,1.31713,1.31526,1.31144,1.31368,1.31473,1.31162,1.31583,1.31447,1.31389,1.31318,1.32005,1.31263,1.31496,1.31591,1.31784,1.31809,1.31981,1.31794,1.31814,1.3212,1.313119528212298,1.31417,1.313643,1.31219,1.31348,1.31208,1.31443,1.3148128,1.315123724849338,1.3153703824775531,1.3148128,1.3148128,1.3148128,1.3138483742976763,1.322907147704617,1.322391065886476,1.3120474410123326,1.3206426665386883,1.3102073922667083,1.3092,1.31208,1.30663,1.31322,1.3072,1.31108,1.3117,1.3117,1.3117,1.31117,1.31179,1.30778,1.31288,1.30793,1.3171,1.30933,1.31486,1.31642,1.31099,1.3124,1.31011,1.32614,1.31519,1.3073,1.30751,1.31555,1.31271,1.31372,1.30743,1.30928,1.3075,1.30627,1.30803,1.31131,1.31147,1.3117,1.31458,1.30959,1.30975,1.31106,1.31103,1.31161,1.30976,1.31017,1.31689,1.31166,1.31324,1.31339,1.31331,1.31277,1.31318,1.31239,1.31163,1.3114,1.31117,1.31155,1.31134,1.31114,1.31129,1.31114,1.31114,1.31114,1.31114,1.31255,1.29896,1.31027,1.31005,1.31005,1.31005,1.31005,1.31005,1.31005,1.31005,1.31005,1.31005,1.31005,1.3117,1.30902,1.31289,1.31338,1.31261,1.31124,1.31001,1.30805,1.31297,1.31053,1.30983,1.31348,1.3085,1.31212,1.3093,1.31165,1.31215,1.31188,1.31005,1.31721,1.31044,1.31114,1.30768,1.3117,1.3117,1.3117,1.30747,1.31402,1.31264,1.3098,1.31185,1.31005,1.31232,1.31352,1.30784,1.30834,1.3095,1.30885,1.31157,1.30957,1.31358,1.31341,1.30825,1.31131,1.30858,1.30983,1.31112,1.31633,1.30791,1.31021,1.30922,1.31219,1.31141,1.30852,1.30895,1.3097,1.31351,1.31263,1.3101,1.29951,1.29951,1.31249,1.30957,1.31183,1.31083,1.30936,1.30736,1.31049,1.30979,1.29811,1.31388,1.3145,1.31247,1.30878,1.3106,1.31009,1.30907,1.31088,1.31297,1.31213,1.31804,1.31147,1.31064,1.31128,1.31068,1.31083,1.31512,1.31343,1.3091,1.31157,1.31154,1.31108,1.31147,1.31128,1.31166,1.31096,1.30964,1.30059,1.30862,1.30972,1.31139,1.31181,1.31128,1.31135,1.30887,1.3096,1.30973,1.30821,1.29966,1.31029,1.31209,1.31229,1.31078,1.29848,1.31158,1.31046,1.31103,1.3028,1.31188,1.31516,1.31397,1.29872,1.3104,1.31023,1.3203,1.31096,1.31232,1.32217,1.31068,1.32045,1.31098,1.30834,1.3101,1.31181,1.31006,1.31144,1.31017,1.3142,1.3109,1.30971,1.31167,1.31691,1.31055,1.31477,1.32793,1.31736,1.31117,1.3029,1.31878,1.30286,1.30302,1.3032,1.31675,1.31045,1.31114,1.31101,1.31068,1.31068,1.3119,1.31579,1.31688,1.31713,1.31158,1.29986,1.29914,1.3097,1.30959,1.31665,1.31641,1.30953,1.30973,1.30968,1.3109,1.30965,1.32206,1.31403,1.32828,1.31131,1.31234,1.31212,1.31017,1.3118,1.31042,1.31159,1.3116,1.30996,1.3127,1.31006,1.3125,1.30059,1.3119,1.32201,1.31053,1.30963,1.31161,1.30322,1.31428,1.30966,1.30968,1.31121,1.29859,1.30845,1.31276,1.31135,1.31033,1.30347,1.32137,1.31424,1.315,1.31373,1.31374,1.31042,1.31009,1.31109,1.3145,1.30006,1.31193,1.3277,1.30053,1.31219,1.31158,1.31274,1.31569,1.31267,1.31074,1.31331,1.30956,1.3115,1.31822,1.3005,1.31798,1.30965,1.31293,1.31189,1.31877,1.31259,1.31273,1.31564,1.32168,1.32001,1.30341,1.3115,1.31288,1.3111,1.29896,1.30006,1.31122,1.29876,1.31391,1.31584,1.31618,1.30939,1.31462,1.30261,1.317613,1.31562,1.3127557410193067,1.312263730621241,1.3231386240564431,1.3128534297263186,1.309502198005393,1.3117441,1.3117441,1.3128536910009507,1.31134,1.3117441,1.3084608152501855,1.3125705687886586,1.3109484744388302,1.310982634536298,1.28322,1.28284,1.28359,1.2784193510925688,1.2782687587017836,1.278346046859261,1.2783339659926565,1.2834216540491528,1.30634,1.2983,1.30587,1.30928,1.29934,1.29697,1.30508,1.31112,1.30674,1.31011,1.29817,1.3055,1.30515,1.30059,1.30082,1.30056,1.3072,1.30567,1.31109,1.30017,1.30276,1.30744,1.30556,1.299569,1.29973,1.29955,1.29806,1.29518,1.29629,1.29615,1.29453,1.29922,1.29735,1.299638,1.29873,1.29332,1.30031,1.31142,1.31144,1.31129,1.30933,1.31268,1.3114,1.30641,1.30447,1.30571,1.31001,1.30825,1.30418,1.30236,1.30372,1.30562,1.30379,1.30606,1.30371,1.30372,1.30487,1.30493,1.31034,1.30751,1.31055,1.30859,1.31047,1.30596,1.30696,1.30696,1.31149,1.3048,1.31051,1.30858,1.30617,1.30449,1.30642,1.31472,1.30456,1.30854,1.30871,1.30475,1.312039,1.30478,1.305113651394577,1.3029948,1.3029948,1.3086164578422068,1.3018163590754626,1.3079207106063386,1.33389,1.32453,1.32485,1.31546,1.3174,1.31778,1.32515,1.32419,1.32205,1.31656,1.32334,1.32152,1.31735,1.324,1.32157,1.32826,1.32257,1.31234,1.32796,1.32449,1.32699,1.32165,1.32161,1.32528,1.31512,1.31806,1.32158,1.31416,1.31669,1.31623,1.31505,1.31681,1.32883,1.32706,1.32632,1.32621,1.32899,1.31439,1.3245,1.32703,1.32786,1.3269,1.32253,1.31864,1.31932,1.3252,1.31603,1.32878,1.31875,1.32645,1.3245,1.32599,1.32449,1.32585,1.32645,1.32441,1.32781,1.31514,1.32204,1.31989,1.32631,1.32449,1.32354,1.32813,1.31994,1.32655,1.32031,1.31831,1.32805,1.3172,1.31774,1.3178,1.31709,1.31664,1.3186,1.31825,1.31733,1.32899,1.31324,1.31405,1.31681,1.31714,1.32137,1.31661,1.32071,1.32017,1.32417,1.31889,1.3174,1.31755,1.31937,1.31756,1.32535,1.3255,1.32557,1.32339,1.32513,1.32013,1.32004,1.32005,1.32606,1.32414,1.32563,1.32585,1.31763,1.318528,1.318528,1.3178,1.31734,1.31921,1.318528,1.31867,1.31781,1.31761,1.318528,1.318528,1.3196,1.31758,1.31954,1.318528,1.318528,1.318528,1.32525,1.318528,1.31716,1.318528,1.318528,1.32629,1.318528,1.31853,1.318528,1.318528,1.318528,1.318528,1.31705,1.31885,1.318524,1.318524,1.318524,1.318524,1.31878,1.31829,1.32647,1.31898,1.3172,1.318524,1.318524,1.31815,1.3183,1.32641,1.31684,1.318524,1.31896,1.31945,1.31521,1.32391,1.32546,1.31749,1.318524,1.32429,1.32615,1.31903,1.32026,1.32196,1.31638,1.32481,1.32396,1.32396,1.32396,1.3253072,1.324068750170831,1.3168076593550035,1.3215313,1.327285827067126,1.31886,1.3157676,1.325513035568159,1.3185236,1.3272054,1.317474623629936,1.322842131654643,1.30085,1.30081,1.29899,1.30411,1.30411,1.30411,1.30411,1.30411,1.30411,1.29892,1.29907,1.30411,1.30411,1.30435,1.30442,1.30252,1.30447,1.30243,1.30253,1.3006,1.30282,1.29882,1.29917,1.30277,1.3035,1.3022,1.30364,1.30062,1.29865,1.30819,1.30644,1.30818,1.3004,1.30034,1.30627,1.30011,1.29999,1.30754,1.3006,1.30056,1.30047,1.30065,1.30288,1.30454,1.30457,1.30124,1.30283,1.30109,1.30272,1.2992,1.30071,1.3022,1.30044,1.30045,1.3004,1.30191,1.29937,1.3058,1.30075,1.30248,1.30109,1.30044,1.3031,1.3081856864813244,1.30576869140814,1.2841,1.28485,1.28458,1.28386,1.2841,1.28405,1.28405,1.28405,1.28466,1.28424,1.28497,1.28172,1.28268,1.283,1.28135,1.28511,1.28563,1.27428,1.2841,1.28313,1.28393,1.28276,1.2832,1.28488,1.28543,1.284,1.28184,1.28215,1.28213,1.28567,1.28499,1.28379,1.28338,1.28382,1.2841,1.28359,1.27703,1.28156,1.28243,1.283,1.2841,1.2833,1.28373,1.28489,1.28489,1.28299,1.28498,1.28336,1.28482,1.27731,1.28242,1.27719,1.28483,1.28484,1.283,1.2846,1.2848,1.28304,1.28412,1.28471,1.28449,1.28449,1.28379,1.28449,1.27575,1.28449,1.28449,1.28449,1.28539,1.2842,1.28347,1.28372,1.28486,1.2842,1.28417,1.28495,1.2842,1.28341,1.285,1.28448,1.28312,1.28256,1.2842,1.28335,1.28163,1.28501,1.28412,1.28211,1.28277,1.28309,1.28254,1.28324,1.28231,1.28211,1.28297,1.2824,1.2842,1.27564,1.28502,1.28299,1.28299,1.28392,1.28234,1.28299,1.2842,1.2842,1.28518,1.28467,1.2842,1.28302,1.28529,1.28187,1.28509,1.28183,1.28132,1.28173,1.28509,1.28469,1.28302,1.2842,1.28359,1.28379,1.28529,1.2841,1.2841,1.2841,1.28196,1.2836,1.28152,1.28155,1.28239,1.2834,1.28351,1.28534,1.2841,1.2841,1.28305,1.28741,1.28513,1.28352,1.28313,1.28155,1.28315,1.28199,1.28396,1.28038,1.28038,1.28146,1.28152,1.27537,1.28043,1.27585,1.2777,1.27943,1.28263,1.28469,1.28516,1.28107,1.2795,1.27752,1.27933,1.2813,1.28267,1.28283,1.2808,1.28303,1.28216,1.28207,1.27919,1.27587,1.27588,1.2755,1.28512,1.28257,1.28458,1.27477,1.28172,1.27634,1.28465,1.28421,1.2832498656945304,1.2816567654594415,1.282097917642521,1.2815104041130565,1.2832688723519532,1.28147,1.28183,1.283096733653474,1.281567525719161,1.2820503993642345,1.2811517774896948,1.2813882520356683,1.282957594213667,1.2834415217846415,1.2830519338675608,1.2812791853867431,1.27490067166793,1.2830352905345008,1.282126584435376,1.2818674148455271,1.2821929346905685,1.2818250643251277,1.2837900115263297,1.2826499255069166,1.2826499255069166,1.2826499255069166,1.2826499255069166,1.2826499255069166,1.2821859259613126,1.28265,1.2816801349195428,1.2821306578161205,1.2826499255069166,1.28175,1.281540823378922,1.2834203152883294,1.2816390470476404,1.2837523164682567,1.281667677013734,1.2834981823551694,1.28293,1.281028461978226,1.2808428541583217,1.2821661439329928,1.282649925930471,1.282649925930471,1.282649925930471,1.2808715108915572,1.2808225686628565,1.2804889670197277,1.2816810110277816,1.28539,1.2803786722902455,1.2825561487162396,1.2815564127775054,1.282049908712101,1.2838921813172155,1.2820432870337382,1.2763559745276745,1.28353007548526,1.30692,1.2805,1.30613,1.30423,1.28843,1.28872,1.28686,1.28783,1.2814,1.31248,1.28073,1.28049,1.28134,1.30285,1.29934,1.29759,1.29828,1.2803,1.27805,1.30767,1.27941,1.2795,1.28684,1.28019,1.2789,1.30462,1.28075,1.30153,1.27942,1.27957,1.28111,1.30376,1.29303,1.28,1.28137,1.28142,1.28028,1.28116,1.29179,1.28043,1.27939,1.2797,1.27891,1.28136,1.28157,1.29226,1.30341,1.27936,1.29022,1.30185,1.28142,1.28116,1.27947,1.2793,1.28001,1.2818,1.28129,1.29191,1.27864,1.29047,1.29702,1.30482,1.29204,1.28018,1.30824,1.29432,1.29232,1.304676490620552,1.29303,1.29323,1.30124,1.28174,1.27956,1.27967,1.28147,1.28125,1.28114,1.28187,1.28147,1.28127,1.2796,1.28165,1.28156,1.28153,1.28152,1.28098,1.27971,1.27987,1.27991,1.29194,1.29196,1.29133,1.28401,1.2837,1.2823,1.29321,1.27757,1.29535,1.28698,1.28038,1.3041,1.30448,1.29698,1.29547,1.29662,1.29687,1.30165,1.29021,1.28536,1.29231,1.29152,1.29575,1.2999,1.30206,1.27971,1.29509,1.2824,1.29346,1.296,1.28048,1.29978,1.29582,1.29397,1.27927,1.30151,1.29197,1.28021,1.29225,1.29168,1.300727,1.29862,1.29905,1.300834,1.27128,1.27126,1.27016,1.27014,1.26995,1.27016,1.27902,1.30431,1.28058,1.2922,1.29187,1.27004,1.30478,1.28035,1.27849,1.29664,1.29669,1.30325,1.28049,1.29848,1.29864,1.3040607337428574,1.3041603563857431,1.3063865395035883,1.2925688544291014,1.292574467676037,1.2916821,1.2916821,1.2931364,1.306383453182531,1.2807922902746955,1.3036245,1.2818673429618836,1.2800871302258563,1.2815799434757584,1.2789854549114368,1.2813267182713808,1.2799228923834889,1.2816936792478335,1.2809936738577576,1.2811981391907594,1.28151580674285,1.29335,1.29245,1.296265,1.296265,1.29732,1.29719,1.29685,1.29755,1.29699,1.29846,1.29617,1.29765,1.29514,1.29867,1.29574,1.297,1.29776,1.30212,1.2986,1.29682,1.29545,1.299,1.2958,1.29283,1.29311,1.30199,1.29417,1.29544,1.29828,1.30268,1.29869,1.29912,1.30062,1.29593,1.30244,1.29452,1.29746,1.29762,1.30065,1.30178,1.2984,1.29529,1.2951,1.29433,1.29302,1.30111,1.29861,1.29673,1.296,1.29651,1.29617,1.29656,1.29466,1.29666,1.29671,1.2984,1.29557,1.29247,1.29191,1.29197,1.29225,1.2958,1.29682,1.30431,1.30442,1.30412,1.30406,1.29649,1.29632,1.29459,1.29277,1.29334,1.29854,1.29915,1.29857,1.30179,1.29874,1.29677,1.2948,1.29674,1.29615,1.29581,1.29478,1.29466,1.29673,1.2962,1.29528,1.29458,1.29636,1.29488,1.2966,1.29598,1.296,1.29502,1.29661,1.29667,1.29463,1.29661,1.2947,1.29644,1.29538,1.29494,1.29664,1.29464,1.29472,1.29615,1.29653,1.29627,1.29662,1.29656,1.29487,1.29473,1.29589,1.29337,1.29439,1.29908,1.29663,1.2965962616988946,1.295310654453104,1.2946074788251505,1.29601,1.296103238364594,1.2948432998665385,1.29715,1.2928154359509303,1.29646,1.2944,1.2961077832308674,1.296736901346336,1.2935635561834216,1.2943600077877142,1.296426555109553,1.2964312677588965,1.30096,1.3004,1.30358,1.30153,1.30389,1.30356,1.30394,1.30345,1.3055,1.30362,1.30479,1.30565,1.30563,1.30362,1.30424,1.31082,1.30409,1.30429,1.30442,1.30242,1.30427,1.30775,1.29803,1.30112,1.30724,1.30477,1.30103,1.30161,1.3011,1.29818,1.30029,1.30017,1.30398,1.29819,1.29773,1.29801,1.29806,1.30957,1.30288,1.30264,1.30309,1.30331,1.30181,1.30065,1.30217,1.3017,1.30197,1.30183,1.30142,1.30098,1.30025,1.30314,1.30183,1.31097,1.30954,1.30287,1.30469,1.30213,1.30169,1.3055,1.30064,1.30124,1.3111,1.31072,1.30091,1.30715,1.30909,1.30353,1.30326,1.3042,1.30636,1.30619,1.30464,1.30418,1.30422,1.3049,1.29906,1.3052,1.30488,1.3013,1.3045,1.30342,1.30488,1.30329,1.30442,1.30303,1.30456,1.30457,1.30507,1.3014,1.29919,1.30129,1.30196,1.3011,1.30868,1.30599,1.30602,1.30583,1.30056,1.30297,1.30118,1.30179,1.30338,1.30295,1.3014,1.30946,1.3058,1.30607,1.30175,1.30192,1.30459,1.30062,1.30209,1.306,1.30498,1.30448,1.30469,1.30545,1.30214,1.30263,1.30126,1.30096,1.3073,1.30398,1.30611,1.30392,1.30617,1.30406,1.30603,1.30061,1.30658,1.3062,1.30469,1.30104,1.30117,1.30198,1.29889,1.30078,1.30147,1.29888,1.30663,1.30648,1.30653,1.30427,1.30268,1.30199,1.30203,1.30342,1.30437,1.30458,1.30219,1.30158,1.30223,1.30086,1.30185,1.29857,1.29829,1.30293,1.30033,1.30662,1.30291,1.30285,1.30806,1.29846,1.30427,1.30149,1.30401,1.29981,1.29995,1.30477,1.3093895334485677,1.30355,1.3101111318313925,1.3082119231801423,1.29182,1.28656,1.28647,1.28819,1.29301,1.28742,1.28738,1.28915,1.28684,1.28616,1.29022,1.29162,1.29129,1.2882,1.29083,1.29099,1.29093,1.28754,1.28742,1.28897,1.28844,1.28833,1.28848,1.28809,1.29182,1.29184,1.29298,1.29261,1.29312,1.29315,1.29153,1.29027,1.29044,1.28772,1.28811,1.29623,1.29127,1.2956,1.29571,1.29542,1.28753,1.29244,1.29046,1.2904,1.29222,1.29093,1.28936,1.28923,1.28896,1.28756,1.28727,1.28855,1.28771,1.28722,1.2872,1.28777,1.28905,1.28717,1.29143,1.28936,1.28797,1.29126,1.29109,1.29186,1.287497,1.29105,1.29337,1.29318,1.29408,1.29267,1.29309,1.2926,1.2874161,1.2874161,1.2862879112928196,1.2874161,1.2874161,1.2874161,1.2872015570913036,1.28701,1.2863126322374687,1.2877227969270058,1.2881683401710955,1.2858544693348666,1.2878469787391855,1.24854,1.25312,1.25047,1.24921,1.24826,1.2502,1.25737,1.25807,1.256984,1.256984,1.2564422399019202,1.2509656956634396,1.2571870485224814,1.2567518472965111,1.2569835,1.2575383044490538,1.2562380912875115,1.25544,1.2581623516033342,1.2531961,1.31593,1.2943,1.31889,1.31723,1.30926,1.29377,1.30119,1.29307,1.29331,1.32174,1.32182,1.29406,1.29374,1.29425,1.294,1.29423,1.29261,1.29843,1.31713,1.31736,1.2951,1.29388,1.29387,1.29386,1.31445,1.3124,1.31405,1.31237,1.31391,1.31762,1.3084,1.29555,1.2928730249404907,1.31559,1.31765,1.31532,1.31278,1.31853,1.29404,1.2941,1.29565,1.31837,1.31544,1.2931220531463623,1.31844,1.31834,1.31032,1.29415,1.29734,1.29395,1.31499,1.29388,1.29446,1.31524,1.31567,1.31744,1.31687,1.31727,1.31732,1.29616,1.31547,1.31698,1.2951072,1.3166391,1.3159081702116489,1.315226089331056,1.3153613627592873,1.3173806045927967,1.31535770435704,1.3151799343714417,1.3174893644207593,1.3174956899520474,1.317088397809813,1.3152955115858929,1.3155589743492953,1.3152278674242237,1.3152,1.315767608172247,1.317325895925206,1.3172932402977242,1.3172,1.3172665709551752,1.3154,1.3171479798705092,1.3154127054166127,1.317103164014922,1.2936953021785873,1.34081,1.33537,1.33514,1.33195,1.33825,1.3322,1.3307,1.33073,1.33037,1.34036,1.32868,1.33185,1.33106,1.33195,1.32991,1.33896,1.33003,1.33066,1.33007,1.33352,1.33062,1.33021,1.337961,1.33893,1.33898,1.33669,1.3374,1.3392999255839324,1.338821590211825,1.3395802327773496,1.3404891355182418,1.31805,1.3209,1.32204,1.32301,1.31936,1.31786,1.33203,1.31279,1.32162,1.31756,1.31716,1.31893,1.31716,1.31696,1.31851,1.31855,1.31036,1.31907,1.3106,1.31222,1.31021,1.31245,1.32337,1.32381,1.31693,1.32552,1.32833,1.32522,1.31756,1.32547,1.32405,1.31163,1.31675,1.32531,1.31204,1.32373,1.32516,1.32362,1.31844,1.31703,1.328848,1.3255,1.31889,1.31738,1.32551,1.32478,1.30954,1.31669,1.33084,1.31856,1.32357,1.32228,1.32374,1.32217,1.32211,1.31406,1.33205,1.31511,1.32061,1.3189,1.31754,1.31828,1.31878,1.32167,1.32358,1.32646,1.31736,1.31674,1.31765,1.32719,1.30864,1.31841,1.31082,1.32477,1.33817,1.31056,1.31078,1.32707,1.32025,1.31958,1.31767,1.31476,1.3221,1.32382,1.3243,1.32252,1.32285,1.32339,1.32403,1.32412,1.32431,1.3242,1.32424,1.32428,1.32366,1.32435,1.3267,1.30397,1.306582,1.32866,1.3276205030723744,1.33071413646994,1.3049798985451528,1.306420669351544,1.3131123861509848,1.37975,1.35894,1.37173,1.35563,1.35488,1.36999,1.37814,1.37417,1.36856,1.36321,1.36924,1.37316,1.37513,1.35641,1.3715767487616406,1.3708796,1.34537,1.34754,1.34531,1.3449,1.34917,1.34361,1.34806,1.34798,1.34571,1.3464,1.3446,1.346,1.3455,1.34789,1.34048,1.32683,1.34358,1.34159,1.35549,1.35841,1.34537,1.34586,1.316059,1.340451429521586,1.36747,1.37165,1.36973,1.36741,1.39604,1.368,1.37579,1.3692,1.37289,1.3707529520366353,1.3753,1.3684016314149676,1.3675565158405016,1.36722,1.35956,1.38084,1.37697,1.36263,1.36219,1.35593,1.37601,1.37599,1.3672,1.37461,1.35432,1.36866,1.35855,1.37667,1.37484,1.36039,1.37691,1.37655,1.37499,1.37525,1.37689,1.37475,1.37364,1.37688,1.3737832824751477,1.40015,1.39863,1.40088,1.39178,1.39828,1.41465,1.4148,1.39793,1.40739,1.39156,1.38769,1.39256,1.39158,1.38784,1.36926,1.38763,1.34611,1.34385,1.34603,1.35476,1.35594,1.36464,1.37451,1.35641,1.38703,1.38565,1.36662,1.38351,1.38328,1.38296,1.35731,1.34595,1.34549,1.37418,1.3725,1.35357,1.34548,1.356,1.365,1.36994349175762,1.35286,1.3529,1.351,1.35147,1.351,1.44008,1.44061,1.44167,1.44162,1.43965,1.43992,1.43873,1.44165,1.44347,1.44516,1.44412,1.45152,1.44814,1.44154,1.44241,1.44196,1.44328,1.44185,1.44184,1.44987,1.450537882575532,1.448178116901776,1.44162,1.44349,1.43012,1.449275,1.4483,1.43508,1.42998,1.42959,1.43109,1.44882,1.44878,1.44136,1.43448,1.42768,1.43479,1.4315,1.43519,1.43058,1.44337,1.42997,1.44418,1.4304,1.44372,1.43064,1.4423779,1.41423,1.41142,1.4182,1.41198,1.41009,1.41016,1.4156,1.41629,1.4203517304260134,1.41863,1.40544,1.412,1.4123699,1.34842,1.35165,1.34757,1.34724,1.37738,1.37723,1.37741,1.36034,1.3577,1.35775,1.34162,1.35417,1.35179,1.35269,1.35835,1.35814,1.36214,1.3654267601223349,1.36294123044754,1.37772,1.37466,1.36887,1.36942,1.38918,1.37288,1.37214,1.37694,1.347686,1.39857,1.39558,1.39539,1.40089,1.3752,1.39926,1.37775,1.387353,1.29575,1.32,1.29454,1.29558,1.31439,1.31505,1.31169,1.31916,1.31124,1.31197,1.29424,1.30738,1.31197,1.31197,1.30693,1.31259,1.31354,1.30937,1.3223,1.31094,1.31806,1.30262,1.30442,1.31095,1.31349,1.31279,1.31455,1.30449,1.29869,1.30016,1.29995,1.29996,1.29834,1.29869,1.30987,1.30919,1.31957,1.32151,1.31027,1.30033,1.30038,1.31974,1.31816,1.31979,1.31715,1.30701,1.30785,1.32052,1.3082,1.30596,1.30773,1.30993,1.30835,1.31019,1.30762,1.30835,1.319062022379054,1.319279609160265,1.33303,1.33433,1.34002,1.33437,1.33366,1.33637,1.33627,1.32167,1.33707,1.33823,1.33511,1.33692,1.33661,1.33527,1.33358,1.33637,1.33626,1.33654,1.3365,1.33476,1.3354,1.33596,1.33632,1.3349,1.33728,1.33711,1.34676,1.33669,1.33688,1.34493,1.3355,1.33574,1.33546,1.33594,1.33724,1.33724,1.31343,1.3377580532060782,1.33444,1.34546,1.34729,1.34373,1.34401,1.34054,1.34313,1.3468,1.33727,1.34608,1.34443,1.34589,1.32908,1.35086,1.34755,1.33721,1.33748,1.33721,1.33786,1.34654,1.33638,1.34546,1.34218,1.34193,1.34179,1.35238,1.3523,1.34182,1.34552,1.34535,1.34406,1.34649,1.34652,1.3294741,1.3284632695508685,1.3282942634266508,1.3481304138271926,1.3434618,1.3287087925753331,1.330216503097983,1.3285338759758405,1.31947,1.345279947726641,1.34406],\"legendgroup\":\"\",\"lon\":[103.83274,103.83075,103.828,103.83001,103.82841,103.84979,103.83862,103.83454,103.82738,103.84995,103.85085,103.85176,103.84229,103.85202,103.84547,103.84342,103.8458,103.85201,103.85006,103.8511,103.85045,103.8536,103.85538,103.85013,103.8257696,103.85271256786368,103.85300984009385,103.81144,103.8102,103.81225,103.81138,103.80941,103.82299,103.83188,103.84074,103.84073,103.84063,103.83581,103.83457,103.83743,103.82993,103.819,103.83361,103.83909,103.838,103.83317,103.83535,103.83417,103.83417,103.83417,103.83417,103.83438,103.83402,103.834,103.83417,103.83433,103.83417,103.83401,103.83395,103.83383,103.83408,103.83408,103.83381,103.83417,103.83395,103.83392,103.8323,103.8332,103.8294,103.83153,103.83353,103.83366,103.83154,103.83342,103.8336,103.83187,103.83389,103.82984,103.8101,103.83405,103.83405,103.83323,103.83405,103.81141,103.81143,103.84092,103.84092,103.83144,103.84092,103.83199,103.83564,103.83988,103.84006,103.82812,103.83434,103.83432,103.83394,103.83233,103.83293,103.83286,103.83267,103.83402,103.83387,103.83258,103.835,103.83383,103.83404,103.82586,103.84002,103.83318,103.83426,103.83424,103.83489,103.8347,103.83418,103.8352,103.83395,103.83239,103.83416,103.83283,103.83246,103.83335,103.83428,103.83282,103.82317,103.83318,103.83384,103.83396,103.83601,103.83445,103.80812,103.83238,103.83391,103.83424,103.83527,103.8096,103.83252,103.83451,103.81995,103.81789,103.83248,103.83754,103.81724,103.83317,103.83366,103.83444,103.83333,103.8089,103.83195,103.83042,103.83108,103.83248,103.83218,103.83237,103.8347855,103.8351300759014,103.83364847819271,103.833926033815,103.82679740998694,103.82474684216002,103.83398460478722,103.83426616078827,103.83374882747142,103.83455848044476,103.8338655285608,103.8344055322915,103.83367449408536,103.78521,103.79812,103.79717,103.79714,103.79736,103.79687,103.76804,103.7949,103.77971,103.79747,103.79736,103.79772,103.77275,103.80969,103.7723,103.79765,103.79624,103.79702,103.79646,103.79077,103.7953,103.77331,103.77312,103.77295,103.77124,103.79761,103.80362,103.78016,103.76739,103.76615,103.78869,103.79606,103.81091,103.79026,103.7910179,103.77742,103.84498,103.84597,103.84524,103.85401,103.85202,103.85557,103.85169,103.85181,103.85142,103.85222,103.85193,103.8507,103.85358,103.8574,103.85062,103.85017,103.8572,103.85334,103.85174,103.85172,103.85184,103.85168,103.85301,103.85395,103.84696,103.84334,103.84462,103.85075,103.85122,103.8456,103.84934,103.85526,103.85526,103.84421,103.85261,103.85232,103.85404,103.8519,103.8536,103.85389,103.85306,103.85473,103.85875,103.85302,103.8529,103.85857,103.85857,103.85165,103.84438,103.8538,103.8443,103.85082,103.85736,103.85267,103.85343,103.85354,103.84586,103.85212,103.85311,103.85358,103.85347,103.84983,103.8516,103.84893,103.85331,103.85358,103.85341,103.85213,103.85237,103.85155,103.85349,103.84584,103.85372,103.84592,103.84732,103.85367,103.84903,103.85232,103.85363,103.85379,103.84718,103.85171,103.85241,103.85365,103.8532,103.84625,103.8442,103.85291,103.84636,103.85214,103.85155,103.84518,103.84535,103.84939,103.85,103.84984,103.85373,103.84943,103.85332,103.84546,103.84411,103.84374,103.85346,103.85375,103.85132,103.85074,103.84638,103.84507,103.85316,103.85311,103.85857,103.8602,103.86064,103.84515,103.8518,103.85158,103.8489,103.84497,103.85562,103.8577,103.85775,103.85742,103.84549,103.84688,103.85201,103.84408,103.84407,103.84668,103.84561,103.84578,103.84562,103.84523,103.8463,103.84565,103.84626,103.84587,103.85543,103.85595,103.84437,103.84497,103.84571,103.84538,103.84902,103.85896,103.84713,103.84844,103.84636,103.8571,103.8576,103.85682,103.85189,103.84586,103.85392,103.85391,103.85571,103.85681,103.85763,103.85561,103.85733,103.84552,103.85853,103.85342,103.85962,103.84547,103.85761,103.85731,103.84237,103.85391,103.85412,103.85227,103.84715,103.84399,103.84231,103.85374,103.84194,103.84522,103.85378,103.852531,103.8474,103.8494,103.84731,103.85866,103.85355,103.84827,103.84738,103.85183,103.84746,103.85163,103.84837,103.858704,103.85697,103.85706,103.85834,103.86009,103.85219,103.85472,103.85693,103.85695,103.85726,103.8567,103.85154,103.85193,103.8573,103.85788,103.85879,103.85788,103.8585,103.85674,103.84892,103.85764,103.85904,103.85859,103.85788,103.85788,103.85788,103.85674,103.85788,103.85845,103.84968,103.84587,103.8451,103.860489,103.85726,103.85926,103.85863,103.85883628591692,103.85883,103.85082,103.84715,103.84209943174504,103.84188239246112,103.84229,103.8578807,103.85365086115496,103.86036113967934,103.85700617007562,103.85109054054442,103.84947,103.8536086,103.857511369803,103.85875266642918,103.8586497359192,103.8585763424635,103.8506561,103.85965861863625,103.85058211695804,103.85750027477032,103.85162966066152,103.8496756154513,103.86043790420176,103.8529161,103.85800438774372,103.8560337152306,103.85576002299786,103.85425784026404,103.85831797061412,103.8574057872996,103.86049814522266,103.85510868535364,103.85651444338151,103.85381174729734,103.84490858071835,103.85668340674889,103.85702482966823,103.85304821362332,103.8589481323451,103.85990869204592,103.85334052437436,103.85699319509251,103.8587138056755,103.88343,103.8812,103.881,103.88439,103.89104,103.88133,103.88467,103.89381,103.8865,103.88547,103.88615,103.90559,103.88209,103.87554,103.90497,103.88303,103.89153,103.87973,103.88422,103.88215,103.8821,103.88163,103.882,103.88002,103.88672,103.8828,103.88163,103.88217,103.88213,103.88148,103.88163,103.88228,103.88168,103.90487,103.88769,103.88165,103.88114,103.88308,103.88377,103.88408,103.88297,103.88163,103.87986,103.88247,103.88303,103.88163,103.89883,103.8991,103.88163,103.89967,103.88694,103.88421,103.88163,103.88158,103.88163,103.88163,103.89975,103.88331,103.88325,103.88191,103.88075,103.89967,103.87955,103.886,103.8816,103.88163,103.8816,103.8816,103.88163,103.8816,103.88163,103.88348,103.88262,103.88844,103.90373,103.88793,103.88838,103.87822,103.87608,103.88163,103.88163,103.88067,103.90364,103.88163,103.88163,103.88163,103.9,103.88851,103.87619,103.88707,103.88163,103.88205,103.88063,103.88536,103.87797,103.87599,103.88163,103.88507,103.88693,103.89803,103.88486,103.88207,103.88457,103.8826,103.88265,103.88301,103.89018,103.88275,103.88743,103.88446,103.88967,103.8797,103.8915,103.8816,103.89798,103.88123,103.88277,103.88913,103.89045,103.88083,103.88808,103.88963,103.88235,103.88605,103.88386,103.88068,103.88187,103.88212,103.88034,103.89432590161285,103.88107,103.885719,103.88038,103.88217,103.88127,103.88853,103.8984635,103.89748313926694,103.89756368808568,103.8984635,103.8984635,103.8984635,103.89967074508012,103.89213748995206,103.89147895515958,103.88262338387256,103.8925875790479,103.89241153936254,103.86339,103.85846,103.86243,103.85583,103.86359,103.87374,103.86028,103.86028,103.86028,103.86214,103.86002,103.86171,103.85792,103.86276,103.85742,103.85843,103.85689,103.85759,103.85849,103.85758,103.86325,103.8634,103.85735,103.86344,103.86163,103.85649,103.85702,103.87098,103.86305,103.86342,103.86268,103.86415,103.8627,103.87242,103.86072,103.86028,103.85076,103.87369,103.87248,103.87212,103.87422,103.8741,103.87371,103.87419,103.8526,103.85976,103.85954,103.86032,103.86044,103.86168,103.861,103.85969,103.85953,103.86077,103.86066,103.86083,103.86073,103.86054,103.86064,103.86054,103.86054,103.86054,103.86054,103.8603,103.86146,103.85642,103.85829,103.85829,103.85829,103.85829,103.85829,103.85829,103.85829,103.85829,103.85829,103.85829,103.86028,103.86162,103.85555,103.85843,103.85796,103.87213,103.86278,103.86338,103.85998,103.86075,103.86232,103.86046,103.86112,103.86059,103.8588,103.86019,103.86168,103.85991,103.85829,103.85684,103.86078,103.86054,103.8634,103.86028,103.86028,103.86028,103.86212,103.85493,103.85647,103.86165,103.86015,103.85829,103.85899,103.85333,103.86116,103.86143,103.86144,103.86218,103.86069,103.86134,103.85453,103.86042,103.8616,103.87237,103.86098,103.862,103.85809,103.85318,103.86305,103.85817,103.86962,103.85702,103.8566,103.86103,103.86149,103.8617,103.85355,103.8587,103.86233,103.88525,103.88525,103.85768,103.86113,103.8588,103.8593,103.86254,103.86222,103.86129,103.86145,103.87299,103.85292,103.85392,103.86071,103.86242,103.86266,103.86182,103.86187,103.8604,103.85789,103.86169,103.85151,103.85826,103.85953,103.86182,103.86118,103.86232,103.86098,103.85318,103.86033,103.87373,103.87348,103.87176,103.87387,103.8739,103.8732,103.87178,103.86348,103.86077,103.8613,103.86098,103.86249,103.85895,103.86064,103.86024,103.86335,103.86251,103.86212,103.86284,103.88497,103.86283,103.8601,103.85985,103.85966,103.86064,103.85827,103.86234,103.87403,103.86315,103.86005,103.86111,103.86151,103.86055,103.86166,103.86146,103.86503,103.85202,103.85832,103.86509,103.86118,103.86536,103.86005,103.86318,103.8621,103.85895,103.86226,103.86032,103.86266,103.85316,103.85846,103.85948,103.85816,103.85723,103.85994,103.855,103.86388,103.85228,103.86214,103.86337,103.85252,103.86332,103.86283,103.86256,103.85099,103.86321,103.873,103.86232,103.86118,103.86118,103.86136,103.85619,103.86045,103.86046,103.8609,103.86123,103.86103,103.86076,103.86141,103.85276,103.85682,103.86042,103.86054,103.86086,103.86021,103.86186,103.86545,103.85692,103.86369,103.86041,103.8578,103.86349,103.85999,103.85934,103.87204,103.87205,103.86012,103.86019,103.86127,103.86192,103.86121,103.86113,103.86177,103.85756,103.86003,103.86018,103.86259,103.86345,103.85804,103.86045,103.8616,103.86082,103.86059,103.86112,103.85804,103.86035,103.86028,103.86125,103.86206,103.85753,103.85788,103.85741,103.85438,103.86171,103.86171,103.861,103.84687,103.88389,103.86304,103.86393,103.88421,103.85944,103.85606,103.85842,103.85619,103.8566,103.85794,103.85854,103.86201,103.85825,103.85549,103.88423,103.85175,103.86018,103.85846,103.85647,103.85915,103.85823,103.85948,103.85457,103.86365,103.86503,103.86356,103.85708,103.85769,103.85787,103.88392,103.85989,103.85807,103.86027,103.85675,103.85703,103.85503,103.86245,103.8589,103.86342,103.85199,103.85674,103.85904440778502,103.8613623045377,103.86622412115123,103.85963641744326,103.85836751293868,103.8602406,103.8602406,103.86063810531166,103.85985,103.8602406,103.86335616852304,103.861199778575,103.86033559982324,103.8598213629862,103.86175,103.86139,103.86182,103.86193382266596,103.86198048105926,103.8619183054042,103.86197060272994,103.86147616335856,103.90207,103.89036,103.89771,103.89457,103.89046,103.89147,103.90527,103.90666,103.89852,103.90284,103.89594,103.89933,103.89854,103.88561,103.88613,103.88594,103.89806,103.89778,103.90705,103.886,103.90158,103.89537,103.91283,103.8985672,103.84658,103.84896,103.84904,103.84368,103.85205,103.8513,103.84248,103.84289,103.84334,103.847122,103.8494,103.84366,103.84562,103.83924,103.83784,103.83788,103.84064,103.83774,103.83911,103.84045,103.83852,103.84077,103.84101,103.84003,103.84057,103.84184,103.83913,103.84048,103.83998,103.84025,103.84017,103.83991,103.83859,103.83752,103.83846,103.83773,103.83819,103.84014,103.83981,103.83483,103.83596,103.83596,103.83788,103.83786,103.8275,103.82917,103.83466,103.83822,103.84189,103.83561,103.8405,103.82984,103.83706,103.84638,103.836998,103.83771,103.834921571403,103.8387408,103.8387408,103.83859874795805,103.83907749635362,103.83150241120804,103.83454,103.85255,103.85143,103.84117,103.84796,103.84769,103.84914,103.85252,103.84122,103.83964,103.85306,103.84301,103.84806,103.84069,103.84297,103.85111,103.84395,103.84297,103.84058,103.84315,103.84962,103.84119,103.84791,103.85035,103.84096,103.84587,103.85256,103.8399,103.84278,103.8407,103.84257,103.84569,103.84856,103.85097,103.84953,103.85048,103.84333,103.84467,103.84842,103.84348,103.84678,103.85245,103.85245,103.84894,103.84737,103.84058,103.84066,103.84832,103.84413,103.84729,103.85045,103.84926,103.84881,103.85087,103.8511,103.85074,103.84838,103.84052,103.85153,103.85361,103.84837,103.84685,103.85406,103.84965,103.8535,103.85072,103.84703,103.84588,103.84948,103.8439,103.84577,103.84357,103.84553,103.84124,103.84377,103.84571,103.84377,103.84263,103.84037,103.8395,103.84136,103.84355,103.85349,103.84695,103.85345,103.85177,103.84534,103.84879,103.84859,103.84892,103.84827,103.84693,103.85167,103.85017,103.85022,103.85028,103.8515,103.85287,103.85217,103.85216,103.84689,103.84527,103.84532,103.84677,103.84865,103.847511,103.847511,103.8483,103.84217,103.84676,103.847511,103.84683,103.84852,103.84837,103.847511,103.847511,103.84804,103.84717,103.84712,103.847511,103.847511,103.847511,103.85034,103.847511,103.84506,103.847511,103.847511,103.84921,103.847511,103.84751,103.847511,103.847511,103.847511,103.847511,103.84549,103.84519,103.847511,103.847511,103.847511,103.847511,103.84838,103.84646,103.85086,103.84683,103.84669,103.847511,103.847511,103.84841,103.84652,103.83715,103.83967,103.847511,103.84668,103.83388,103.8425,103.84606,103.84533,103.84582,103.847511,103.84535,103.84621,103.84564,103.84254,103.84222,103.84279,103.85227,103.85283,103.85283,103.85283,103.8498993,103.84740810816288,103.8443609744333,103.8527231,103.84722597776592,103.8441,103.8459867,103.85062877982232,103.8475129,103.8419479,103.84814421965442,103.85372781739112,103.84318,103.83598,103.8386,103.83707,103.83707,103.83707,103.83707,103.83707,103.83707,103.83846,103.83825,103.83707,103.83707,103.83382,103.8325,103.84143,103.83378,103.84007,103.84111,103.84177,103.83225,103.83807,103.83863,103.83637,103.83194,103.83329,103.83197,103.84313,103.83774,103.83488,103.83257,103.83461,103.83701,103.83671,103.8287,103.83613,103.83632,103.83519,103.84089,103.84139,103.8431,103.84175,103.83654,103.82954,103.82774,103.83952,103.83604,103.8399,103.8407,103.84138,103.8403,103.84131,103.84009,103.84139,103.84111,103.84168,103.83877,103.82584,103.84156,103.83982,103.84151,103.84164,103.8364,103.8336393780906,103.83307825773954,103.84253,103.84317,103.84311,103.84238,103.84253,103.84424,103.84424,103.84424,103.84255,103.84275,103.84341,103.84074,103.84463,103.84344,103.84868,103.84249,103.84212,103.84133,103.84253,103.84356,103.84335,103.8433,103.84217,103.84215,103.8457,103.84346,103.84892,103.84855,103.84852,103.8416,103.843,103.84399,103.84133,103.84339,103.84253,103.84242,103.8437,103.84489,103.84677,103.84175,103.84253,103.84368,103.84347,103.84293,103.84323,103.84457,103.84351,103.84139,103.84158,103.84322,103.84723,103.84256,103.84364,103.84285,103.84484,103.8433,103.84137,103.84315,103.84245,103.84319,103.84294,103.84294,103.84375,103.84294,103.84442,103.84294,103.84294,103.84294,103.84232,103.84255,103.84166,103.84139,103.84338,103.84255,103.84224,103.84148,103.84255,103.84165,103.84214,103.84361,103.84212,103.84395,103.84255,103.84331,103.84693,103.84342,103.84396,103.84364,103.84399,103.84296,103.84396,103.84462,103.84472,103.84669,103.84475,103.84478,103.84255,103.84414,103.84349,103.84312,103.84312,103.8423,103.84195,103.84312,103.84255,103.84255,103.8428,103.84173,103.84255,103.84339,103.84147,103.84498,103.84155,103.84657,103.84491,103.84612,103.84344,103.84346,103.84158,103.84255,103.84135,103.84159,103.84204,103.84253,103.84253,103.84253,103.8429,103.84368,103.84492,103.84517,103.84502,103.84367,103.84163,103.84224,103.84253,103.84253,103.84279,103.84229,103.84156,103.8432,103.84159,103.84501,103.84252,103.84277,103.83961,103.84195,103.84195,103.84125,103.84099,103.84244,103.84695,103.84388,103.84479,103.84106,103.84572,103.84149,103.84196,103.84795,103.84329,103.84409,103.8434,103.84443,103.84564,103.84501,103.84586,103.84497,103.84268,103.84271,103.84514,103.84181,103.84165,103.84223,103.84319,103.84584,103.84291,103.84228,103.84679,103.84163,103.84732,103.84619,103.8450743895941,103.84709959492344,103.84696933984776,103.8456749588044,103.84525182809034,103.84691,103.84537,103.84487043616954,103.84577776704432,103.8447356340068,103.84529292621512,103.84470705591536,103.84678238358552,103.84518206416162,103.84656554365306,103.84681161964376,103.84190157615636,103.846978359739,103.84676612840089,103.84695841301854,103.8471067127746,103.84655936526366,103.84502770988856,103.84601689875126,103.84601689875126,103.84601689875126,103.84601689875126,103.84601689875126,103.84710187581064,103.84602,103.84672654345032,103.84695626223385,103.84601689875126,103.84576,103.84484419814018,103.84509665138071,103.84526796567526,103.84547402625732,103.84685301131022,103.84556782484913,103.84719,103.84592985234862,103.84585773769842,103.84691632274334,103.84601689875126,103.84601689875126,103.84601689875126,103.8456286706577,103.84703775561118,103.84757138851197,103.84758709197216,103.83593,103.84691105886426,103.84634674743936,103.8466087962557,103.8454344405818,103.84413173521231,103.84535589846568,103.84144409684367,103.84574117784868,103.8007,103.78439,103.78094,103.784,103.80247,103.80408,103.80238,103.80346,103.78592,103.79008,103.78544,103.78534,103.78707,103.79575,103.78719,103.78741,103.78922,103.78528,103.78794,103.7967,103.78772,103.78385,103.78593,103.7857,103.78739,103.78401,103.78767,103.80097,103.78552,103.78695,103.78662,103.78445,103.77312,103.78772,103.78576,103.78721,103.78564,103.78732,103.80622,103.78655,103.78719,103.78603,103.78764,103.78613,103.78746,103.80781,103.78508,103.78765,103.80674,103.7997,103.7874,103.78731,103.78634,103.78583,103.78546,103.78558,103.78759,103.80647,103.78706,103.80677,103.80439,103.78462,103.8068,103.7856,103.79696,103.80477,103.76172,103.79806243190468,103.76369,103.76341,103.80098,103.78598,103.78559,103.7876,103.78529,103.78541,103.78561,103.78712,103.78536,103.78577,103.78536,103.78733,103.78553,103.78572,103.78567,103.78765,103.78764,103.78742,103.78543,103.76775,103.7697,103.76769,103.785,103.78496,103.78702,103.7691,103.79415,103.80473,103.78654,103.78563,103.78494,103.78504,103.80473,103.80486,103.80657,103.80467,103.79062,103.80631,103.78664,103.80741,103.76149,103.80359,103.79909,103.80034,103.78613,103.80579,103.78262,103.80479,103.80782,103.78296,103.79959,103.80731,103.79737,103.78705,103.79785,103.80585,103.78408,103.77137,103.76218,103.788452,103.7877,103.78739,103.788559,103.79836,103.79836,103.79775,103.79798,103.79804,103.79832,103.78622,103.78495,103.78438,103.8063,103.80634,103.79657,103.78475,103.78627,103.78625,103.8069,103.80714,103.78495,103.78609,103.78732,103.78694,103.78754716181793,103.78881113706102,103.78881765991068,103.8037215572133,103.8056413953604,103.8048268,103.8048268,103.8063663,103.78801540146544,103.78705624490976,103.797154,103.7863484331192,103.78620042354508,103.78742890550927,103.78533746201435,103.78517232555454,103.78628258611644,103.78791597323504,103.78803289341803,103.78805185338268,103.78779722027411,103.83768,103.83742,103.840942,103.840942,103.8397,103.83861,103.83809,103.83676,103.83858,103.83738,103.84158,103.83627,103.83672,103.83666,103.83687,103.83774,103.83869,103.83204,103.8368,103.83844,103.84207,103.83634,103.83642,103.8408,103.84065,103.82875,103.83844,103.84183,103.83866,103.83166,103.84119,103.84106,103.83062,103.8375,103.82695,103.83706,103.84153,103.84157,103.82882,103.83315,103.83397,103.84,103.84071,103.84125,103.84111,103.82859,103.83576,103.83746,103.83673,103.83883,103.83664,103.83717,103.83664,103.83699,103.83711,103.84087,103.83844,103.84089,103.84025,103.84052,103.84032,103.84179,103.83676,103.82952,103.82895,103.82928,103.82936,103.84203,103.83844,103.84012,103.83911,103.8396,103.8416,103.83961,103.84123,103.82864,103.84127,103.84068,103.83841,103.83941,103.83811,103.83797,103.8382,103.83946,103.84027,103.83977,103.84019,103.83887,103.83982,103.84017,103.8402,103.83822,103.83997,103.84022,103.83956,103.83996,103.84011,103.83863,103.84002,103.83879,103.83842,103.84016,103.83998,103.84009,103.83931,103.84074,103.83843,103.8404,103.83913,103.83844,103.8385,103.8401,103.83101,103.83989,103.83861,103.84004,103.84248,103.83821137029264,103.8401662421086,103.83842315558776,103.838,103.83991140780812,103.84001442887016,103.83789,103.83794031052192,103.83944,103.83934,103.84023995231276,103.840071966987,103.84119352632872,103.83856834346447,103.84042202065196,103.83796425082014,103.85206,103.84994,103.84575,103.85344,103.849,103.84953,103.85108,103.84902,103.84889,103.84967,103.85091,103.84964,103.85041,103.84929,103.84876,103.85366,103.8465,103.85937,103.8593,103.86078,103.85904,103.85217,103.85106,103.85232,103.8527,103.85073,103.85222,103.8596,103.8604,103.85067,103.84699,103.85975,103.85426,103.85129,103.85314,103.85361,103.85187,103.85143,103.85126,103.86022,103.8514,103.8487,103.85954,103.85962,103.8615,103.86119,103.86003,103.86137,103.85964,103.84717,103.85951,103.86109,103.86141,103.85411,103.85358,103.84873,103.85185,103.8491,103.84974,103.85357,103.84873,103.85181,103.85401,103.85421,103.84751,103.84713,103.85459,103.85038,103.86108,103.85488,103.85447,103.85316,103.85324,103.8535,103.85366,103.85297,103.85187,103.85982,103.84914,103.84756,103.85812,103.85841,103.85845,103.85847,103.85835,103.85958,103.85851,103.86025,103.85975,103.84833,103.8537,103.86056,103.85935,103.86049,103.85484,103.85248,103.851,103.85355,103.85104,103.84918,103.85026,103.85071,103.84882,103.84868,103.85001,103.85386,103.85581,103.85583,103.86139,103.86152,103.84939,103.85184,103.86133,103.85412,103.85591,103.85461,103.85574,103.85881,103.85255,103.85084,103.84827,103.85055,103.85728,103.85052,103.85242,103.85187,103.85044,103.85165,103.8507,103.85199,103.85367,103.85596,103.85578,103.85026,103.85055,103.85033,103.85232,103.84756,103.86155,103.85315,103.85602,103.85511,103.85512,103.85993,103.86,103.86176,103.86176,103.85992,103.85452,103.85557,103.86009,103.86,103.85852,103.8602,103.85823,103.85347,103.85164,103.85849,103.85967,103.85441,103.85876,103.85908,103.85404,103.85375,103.85505,103.8508,103.85234,103.84968,103.84956,103.8524,103.85418983545696,103.85524,103.85399340366033,103.85434915359866,103.83496,103.8482,103.85029,103.84821,103.8416,103.84786,103.84773,103.84825,103.8472,103.84908,103.83721,103.84373,103.84233,103.84751,103.84284,103.84237,103.84204,103.84993,103.84822,103.848,103.84782,103.83704,103.84794,103.84895,103.84055,103.84229,103.84194,103.84249,103.84215,103.84273,103.84279,103.84169,103.84097,103.844,103.84853,103.83217,103.8458,103.83039,103.8315,103.83126,103.84724,103.84253,103.84247,103.84162,103.84234,103.84029,103.84881,103.84871,103.84837,103.84849,103.84946,103.84809,103.8481,103.84826,103.84843,103.84809,103.84844,103.84836,103.84082,103.84442,103.84768,103.84117,103.84228,103.84215,103.848557,103.84186,103.84248,103.84179,103.83272,103.84125,103.84186,103.83293,103.8472705,103.8472705,103.84809190434636,103.8472705,103.8472705,103.8472705,103.84856679010916,103.84999,103.8490749754162,103.84914401943584,103.84722421667848,103.8490370279328,103.84864302658426,103.82472,103.82374,103.82309,103.82496,103.82401,103.82413,103.81925,103.81952,103.820267,103.820267,103.82123435232256,103.84583429640512,103.82141051316624,103.82033105939624,103.8202676,103.821414676741,103.82102345526934,103.81533,103.82050181939816,103.8194919,103.82905,103.8296,103.82806,103.83244,103.80315,103.82896,103.81491,103.82951,103.83018,103.81448,103.814,103.82778,103.8279,103.82748,103.82669,103.82797,103.82625,103.82838,103.82727,103.82718,103.82826,103.828,103.82651,103.82652,103.83125,103.82537,103.82495,103.82479,103.82689,103.82767,103.82597,103.82864,103.8303451538086,103.82586,103.82551,103.82554,103.82472,103.82628,103.82651,103.82732,103.82742,103.82708,103.83089,103.83050537109376,103.82627,103.8278,103.82681,103.82786,103.82659,103.8268,103.80648,103.82811,103.83079,103.82785,103.82629,103.82654,103.82607,103.82623,103.82667,103.82899,103.82653,103.82623,103.8285254,103.8298825,103.82805895550275,103.82612548793831,103.82786019338812,103.82634753915426,103.82823924209714,103.82813054934536,103.82615133137098,103.82786026988232,103.82604099607444,103.8261876055727,103.8278840953741,103.82687876091448,103.82775,103.82826996178812,103.8274954566922,103.82612409508954,103.82788,103.82697845266406,103.82818,103.82619081494336,103.8280616560566,103.8281434711639,103.82948572869547,103.84165,103.84462,103.85017,103.87706,103.84136,103.87853,103.86753,103.86619,103.86625,103.87977,103.86784,103.86606,103.86605,103.86705,103.86718,103.84203,103.86728,103.86806,103.86666,103.87775,103.87531,103.86669,103.870148,103.86796,103.86878,103.86812,103.86981,103.87064790831764,103.86836510750436,103.87069412533546,103.85204304111818,103.92361,103.91569,103.92125,103.92211,103.91663,103.9059,103.94396,103.93821,103.91466,103.91254,103.91232,103.91257,103.91259,103.91394,103.9123,103.91259,103.93592,103.91024,103.93315,103.91403,103.91269,103.91127,103.91468,103.91678,103.91408,103.91456,103.91588,103.91497,103.91084,103.91505,103.91679,103.93572,103.91272,103.91656,103.93769,103.91641,103.91487,103.9146,103.91237,103.91242,103.913361,103.91599,103.91243,103.90893,103.91498,103.9147,103.91471,103.91258,103.90841,103.91075,103.9133,103.91492,103.91537,103.91549,103.91541,103.92479,103.94445,103.92026,103.91102,103.91284,103.91241,103.91211,103.9121,103.90557,103.91458,103.94751,103.908,103.90796,103.9064,103.91172,103.92461,103.91379,103.92463,103.91454,103.92209,103.92487,103.92194,103.94985,103.95725,103.9094,103.90779,103.91763,103.91389,103.91331,103.91535,103.91511,103.9135,103.91321,103.91471,103.91374,103.91367,103.91339,103.91317,103.91346,103.91548,103.91531,103.90846,103.92244,103.923561,103.94214,103.9463723457163,103.94424225887136,103.92227805883344,103.92399163618197,103.92214942088894,103.94375,103.96465,103.94855,103.96517,103.96519,103.94576,103.9411,103.94476,103.94425,103.96706,103.94925,103.94634,103.94739,103.96411,103.944318415429,103.9462779,103.95887,103.95958,103.961,103.95979,103.9609,103.95717,103.95858,103.9617,103.96073,103.96256,103.96223,103.9626,103.96045,103.93969,103.9519,103.95444,103.95383,103.95805,103.95915,103.94056,103.95973,103.9601,103.9776616,103.9589383948842,103.83865,103.82881,103.82847,103.85285,103.84924,103.85688,103.84928,103.85798,103.83705,103.82924638688564,103.83055,103.8582214631832,103.84467761744725,103.89765,103.88423,103.88983,103.90241,103.88299,103.88276,103.88742,103.90101,103.90221,103.89748,103.9027,103.88926,103.89943,103.88282,103.87967,103.88044,103.89105,103.8791,103.88002,103.87899,103.88057,103.87992,103.88005,103.90219,103.88014,103.90021736649776,103.90537,103.90624,103.91,103.91181,103.91404,103.89795,103.89859,103.91225,103.90315,103.87852,103.89308,103.90516,103.89581,103.89001,103.87312,103.86942,103.87071,103.86892,103.87037,103.87241,103.86836,103.86352,103.87284,103.86726,103.87264,103.87355,103.86305,103.86923,103.86828,103.86942,103.86381,103.87039,103.87029,103.8722,103.87352,103.86585,103.87174,103.86437,103.86175,103.86532856319585,103.8205,103.81887,103.81958,103.81887,103.81921,103.70312,103.82386,103.82376,103.82343,103.82345,103.82355,103.82344,103.82416,103.8235,103.82145,103.82205,103.81413,103.81647,103.82184,103.82172,103.8249,103.82434,103.82356,103.82358,103.81826,103.81429340690374,103.83143341069416,103.79304,103.79264,103.78434,103.79026,103.78932,103.79711,103.78534,103.78049,103.77355,103.79933,103.80004,103.78957,103.77725,103.77561,103.80013,103.77812,103.79981,103.77839,103.80651,103.77846,103.80652,103.77993,103.80708,103.77327,103.7934851,103.83382,103.8426,103.83669,103.84497,103.84538,103.84376,103.84413,103.84633,103.8467068398134,103.84743,103.82071,103.83421,103.835094,103.74679,103.75409,103.74873,103.74834,103.7586,103.75837,103.75807,103.76572,103.75882,103.76081,103.76086,103.75086,103.75778,103.75533,103.76498,103.76357,103.76512,103.76389447421116,103.76419577747583,103.77431,103.76596,103.7711,103.77689,103.77194,103.76524,103.76667,103.76786,103.771792,103.74785,103.75212,103.75033,103.74543,103.75193,103.74614,103.74501,103.743784,103.76707,103.76018,103.76795,103.76533,103.75904,103.75884,103.76175,103.76234,103.76152,103.7618,103.76741,103.76242,103.76126,103.76135,103.76314,103.75838,103.75811,103.76104,103.75713,103.76303,103.7621,103.76654,103.76693,103.76157,103.76043,103.75818,103.7583,103.76522,103.76417,103.76376,103.76604,103.76571,103.76583,103.76415,103.7619,103.76177,103.75224,103.75245,103.76033,103.76588,103.76371,103.7525,103.76098,103.75252,103.76133,103.76976,103.76787,103.75308,103.76833,103.76697,103.76954,103.76127,103.76131,103.76283,103.76744,103.76936,103.76247864264556,103.76115189678204,103.72607,103.727,103.73706,103.74177,103.74233,103.74143,103.7415,103.74987,103.74297,103.74572,103.74147,103.741,103.74405,103.7428,103.73832,103.74151,103.74356,103.74277,103.74192,103.74183,103.74302,103.74445,103.74319,103.74079,103.74627,103.74169,103.73229,103.74073,103.74118,103.72393,103.74133,103.74456,103.74329,103.74287,103.74294,103.74269,103.72092,103.74851988752587,103.72204,103.70155,103.72103,103.72095,103.70107,103.71994,103.68701,103.7234,103.69013,103.72186,103.71245,103.71821,103.72341,103.70406,103.6934,103.691,103.68989,103.6905,103.68984,103.72224,103.69361,103.72175,103.71697,103.71764,103.71839,103.69871,103.69923,103.71784,103.70525,103.70508,103.70405,103.72332,103.72554,103.6822694,103.68155826295988,103.68287997586457,103.6959764078999,103.6895538,103.68149993182791,103.68128991054574,103.68182305710944,103.64828,103.63530011330454,103.68659],\"marker\":{\"color\":[47,200,209,50,207,179,500,65,99,100,201,250,1250,96,60,48,35,250,179,179,179,200,215,100,1500,120,150,49,49,55,55,55,150,165,169,228,200,500,300,200,999,2500,65,310,199,90,75,59,40,149,59,59,59,149,59,149,149,149,59,43,40,40,56,59,56,40,340,59,250,34,28,30,34,36,26,32,160,280,1000,59,59,59,59,1000,1000,355,264,78,241,426,183,331,228,67,320,149,266,290,271,320,287,210,34,174,59,192,192,118,169,178,152,181,228,181,180,59,181,180,228,188,181,228,228,228,41,40,220,201,70,40,200,189,382,346,40,399,330,298,170,190,146,275,140,218,228,208,238,81,440,690,740,440,340,340,68,312,259,70,130,280,180,165,180,205,200,180,178,80,100,74,64,80,70,77,388,70,68,62,98,90,47,95,89,84,70,133,100,82,180,180,180,180,73,70,40,58,96,240,85,150,78,35,800,119,119,119,261,90,254,85,120,125,151,250,211,461,259,51,79,259,130,130,100,386,238,80,192,180,385,680,423,470,160,181,165,185,119,541,612,239,224,461,65,65,90,57,68,80,161,582,80,195,90,151,180,180,145,145,130,185,100,65,132,77,500,95,500,85,94,90,95,117,85,94,168,84,172,203,87,500,60,98,63,155,160,307,152,115,192,179,85,180,135,113,175,160,113,52,170,159,250,220,180,181,170,105,464,464,163,180,118,167,200,61,584,509,290,400,150,120,300,444,444,490,160,195,171,144,161,165,180,320,211,215,195,182,170,200,225,98,119,172,180,225,300,1388,648,250,210,175,122,166,108,94,250,105,90,130,136,142,165,172,376,573,100,575,327,165,127,188,65,237,125,220,295,273,100,271,315,79,80,500,488,245,171,279,900,832,66,400,66,355,643,1046,1128,180,150,310,250,1015,962,120,140,250,85,656,672,1255,685,1227,581,330,707,664,1255,1241,1350,1350,1302,1350,656,509,233,194,637,1185,556,607,664,679,330,1500,228,200,169,624,1762,567,614,330,355,332,722,617,727,576,200,681,598,662,1091,190,682,377,634,200,234,170,356,508,707,967,194,160,135,1262,697,1762,717,747,1314,812,813,59,100,1600,98,71,37,50,186,220,57,43,134,110,37,97,450,190,388,27,39,49,37,59,55,129,135,49,49,49,59,39,39,36,40,129,39,500,56,99,55,55,33,47,48,48,39,49,42,39,39,65,55,39,39,38,39,120,55,150,190,707,34,42,100,49,49,39,38,39,36,39,100,59,55,35,208,248,208,208,39,49,59,100,39,39,39,45,60,198,198,39,144,59,238,248,150,39,178,70,70,269,450,34,269,269,120,288,34,68,27,268,180,125,49,891,49,49,214,125,200,128,235,60,95,53,155,162,172,165,200,169,220,168,204,148,175,142,142,154,154,190,200,87,200,376,145,363,100,57,57,57,69,59,130,67,98,67,33,62,150,57,57,85,240,85,115,255,78,59,200,100,59,59,75,65,60,49,50,49,47,59,85,24,67,47,105,125,145,165,200,165,300,59,47,93,280,47,48,47,47,93,24,47,47,24,24,24,24,24,47,42,255,137,59,29,29,29,29,28,27,27,59,59,59,67,49,59,69,69,85,59,49,255,47,59,255,49,284,255,255,284,255,279,85,284,47,49,188,98,67,49,54,255,30,67,560,255,93,59,49,49,57,34,59,51,255,49,49,30,51,59,118,59,145,250,69,69,99,59,59,55,260,49,172,184,57,49,69,69,59,49,49,49,118,59,44,213,49,30,33,59,59,69,30,62,69,60,49,59,30,130,54,48,25,22,22,22,22,22,25,30,729,57,59,49,57,59,59,59,59,49,59,155,45,69,59,59,650,110,47,66,144,49,33,33,435,49,59,288,140,208,268,59,268,49,59,49,69,49,59,49,178,69,229,150,98,180,53,208,298,30,200,86,113,114,144,298,59,110,49,49,49,49,148,86,86,49,768,849,49,49,298,98,49,49,49,49,49,278,148,198,49,59,30,49,190,85,125,49,49,106,49,246,596,49,82,49,49,49,165,70,49,49,49,430,150,145,49,49,215,45,170,160,150,61,85,33,33,424,235,33,225,214,195,49,50,186,103,59,49,49,52,148,210,62,49,49,138,100,69,69,115,106,215,200,100,48,43,250,646,44,150,429,50,115,150,200,210,56,50,518,873,40,67,70,169,80,67,47,188,551,130,67,236,580,662,1302,566,616,591,616,550,88,150,137,65,388,68,139,90,165,962,106,127,180,450,232,260,141,151,159,450,60,55,245,263,110,76,75,100,145,145,278,410,75,459,530,369,90,79,79,66,200,70,79,106,96,65,70,68,93,1356,70,110,84,74,68,74,99,789,631,200,574,406,1261,375,540,495,120,804,620,208,287,495,1300,85,90,280,125,65,700,580,99,340,285,144,354,398,90,343,929,89,200,99,100,100,127,60,50,97,102,60,154,89,65,79,69,127,39,97,225,99,330,410,500,57,280,280,330,350,168,217,210,185,278,150,288,278,148,215,208,330,300,180,250,158,350,158,90,90,90,90,120,120,300,290,450,440,198,288,195,300,120,185,50,375,300,350,450,430,450,200,380,360,368,106,120,115,257,321,492,100,528,552,574,350,263,325,413,377,154,174,194,214,234,260,290,329,304,397,348,451,190,180,180,160,300,160,170,400,190,160,200,190,180,190,190,170,180,180,313,200,464,190,190,274,200,197,180,160,180,190,428,430,180,180,184,170,190,190,280,366,371,230,230,200,240,70,90,170,170,160,429,535,820,350,181,530,604,350,350,350,330,175,161,173,184,600,750,90,296,64,75,318,350,190,307,495,200,80,813,170,1600,500,1000,950,900,1400,200,190,510,530,880,651,473,1101,538,979,883,704,170,190,799,661,586,661,581,250,525,700,510,511,444,250,210,250,475,640,848,678,1073,1150,791,1657,47,1150,67,77,230,447,480,479,450,303,450,198,145,736,735,450,240,590,844,302,69,79,79,69,79,63,378,63,48,69,31,50,31,31,115,69,79,169,45,518,69,88,58,88,465,69,112,112,105,40,31,31,59,40,69,57,140,163,164,45,40,40,88,30,31,31,79,40,40,399,194,399,31,31,31,126,59,40,48,48,48,45,59,69,165,45,79,79,79,51,69,69,69,69,69,69,79,79,45,40,40,40,79,48,160,59,186,130,265,120,529,182,200,239,227,257,79,182,79,463,706,638,949,333,79,69,59,79,79,69,59,212,98,240,328,296,79,40,69,45,69,59,59,59,79,69,411,268,265,159,351,78,79,88,59,48,59,521,59,45,59,101,56,64,228,255,281,177,289,155,187,215,50,300,306,59,69,112,287,342,440,242,282,287,282,374,151,289,378,350,289,300,69,259,195,286,105,430,761,755,345,399,399,378,336,336,379,336,455,447,344,401,341,332,401,332,95,383,428,399,336,289,349,432,401,367,332,447,447,401,436,397,332,390,383,399,397,428,401,390,417,418,431,436,432,455,436,379,399,165,153,230,160,120,110,185,120,115,397,455,78,183,150,180,59,37,55,69,183,113,113,223,183,100,554,523,514,388,46,241,216,113,255,113,223,200,217,403,359,178,223,390,223,223,359,113,213,223,270,286,162,223,350,183,110,330,390,223,270,360,223,203,359,359,183,113,183,474,400,236,575,300,320,113,150,18,280,54,1857,2200,518,286,120,89,223,286,286,183,359,359,223,359,113,359,203,183,183,359,266,190,190,172,250,250,203,200,180,230,368,223,390,310,194,190,185,230,175,295,120,475,1586,400,220,195,159,224,250,385,189,350,250,310,60,238,475,519,330,47,1800,272,271,271,303,241,200,230,230,268,230,334,390,400,330,330,240,390,400,344,400,400,390,430,380,380,141,172,162,406,360,327,327,342,177,249,323,249,249,286,180,180,249,249,199,249,199,100,170,294,237,59,220,170,170,170,137,120,200,156,170,240,170,170,880,170,200,333,200,120,577,600,465,135,256,290,476,557,581,435,298,99,400,68,59,475,520,250,400,325,148,425,425,199,294,300,414,400,379,263,333,330,512,120,801,999,799,749,350,111,973,710,1073,1205,233,176,190,290,300,253,970,710,360,250,200,233,210,202,198,200,282,223,279,219,216,199,205,229,219,203,140,223,198,250,136,130,165,219,129,238,220,200,126,130,238,185,195,226,130,1150,335,233,690,280,175,223,200,123,235,209,85,95,255,240,233,243,170,175,148,142,170,110,232,173,28,33,33,30,130,33,28,36,30,29,40,26,240,80,90,100,140,45,85,165,51,140,69,92,94,260,85,694,266,145,145,130,130,90,54,456,59,145,174,170,225,123,115,107,120,217,187,102,113,120,120,288,212,288,288,51,288,288,140,140,298,198,110,130,126,140,140,140,140,155,155,155,320,147,144,158,174,222,188,346,237,331,307,381,344,1200,380,41,66,103,25,490,488,190,600,550,682,692,713,734,850,130,150,144,250,170,511,136,210,118,126,88,95,206,131,126,200,146,71,487,487,511,534,546,953,126,347,348,456,126,111,136,333,250,107,239,466,118,159,100,85,130,100,100,164,124,215,156,274,172,165,265,513,1070,150,505,941,190,50,460,382,330,290,290,290,290,574,194,475,475,150,103,53,56,100,256,222,155,161,211,173,149,630,222,610,385,650,105,120,55,98,325,75,75,410,431,550,587,674,480,525,754,550,441,73,55,585,200,247,235,203,640,600,629,503,472,301,241,218,195,311,302,294,236,216,159,513,499,330,306,85,430,427,550,75,445,470,410,1150,395,376,70,43,43,43,43,45,45,229,229,60,59,29,31,35,765,8900,3300,3200,4000,3850,399,660,567,469,373,1762,386,334,342,333,314,474,357,294,400,141,180,150,55,90,238,85,110,180,175,120,650,615,495,375,500,50,275,395,180,530,475,530,100,500,495,500,425,550,615,200,109,495,430,290,281,240,200,185,180,250,120,119,327,240,675,220,75,200,300,139,99,323,254,298,277,277,337,38,324,420,120,307,210,205,245,305,210,275,275,275,275,210,217,210,224,205,305,280,280,295,345,335,364,364,87,76,50,4000,74,91,120,229,150,137,250,268,150,210,240,200,49,170,139,139,165,260,200,600,170,270,250,189,189,254,236,70,95,49,60,68,139,88,1000,78,200,130,90,100,100,100,100,100,53,123,190,110,214,214,180,170,100,160,140,180,156,130,170,141,71,130,100,180,140,200,100,130,52,130,42,40,130,130,100,130,129,36,140,117,114,137,180,99,138,55,250,90,100,100,100,99,170,109,80,80,80,200,58,730,35,160,40,65,5000,105,90,288,198,60,140,140,160,160,160,160,140,140,180,180,140,120,140,120,40,130,358,99,140,106,111,141,1114,50,50,68,80,198,393,100,80,600,60,650,139,110,125,417,120,145,85,85,184,42,83,98,89,70,70,60,80,45,160,100,60,200,89,500,85,71,165,300,48,47,52,45,79,89,49,150,55,40,52,442,110,100,50,101,2300,64,44,44,500,99,185,40,78,70,50,90,546,510,300,647,518,486,722,578,542,62,511,60,49,55,60,150,85,500,333,150,100,140,67,330,120,35,26,106,90,100,90,60,130,148,200,109,90,90,135,40,78,70,60,186,186,120,150,1800,180,95,180,55,193,510,149,300,575,9999,212,140,112,140,140,212,212,212,120,120,28,35,126,106,212,99,92,134,40,88,189,29,32,180,100,85,190,400,275,38,75,100,80,65,134,85,40,85,35,38,40,71,37,113,38,50,66,188,21,188,188,170,50,50,70,72,80,65,65,259,88,88,86,180,160,160,40,40,44,235,90,65,180,120,140,98,219,80,250,38,79,141,33,55,49,70,80,53,55,35,92,98,55,80,73,40,59,80,43,160,236,387,135,474,340,75,48,405,390,60,528,490,390,118,410,75,436,621,571,160,225,259,300,629,801,600,640,472,503,280,320,255,255,475,231,519,200,215,500,260,451,345,190,390,48,430,420,390,390,430,400,209,295,62,58,60,90,150,90,120,55,220,64,144,151,180,144,70,128,195,230,400,270,300,450,260,315,311,426,68,280,189,260,165,250,300,103,90,250,1560,65,30,27,50,56,168,130,55,81,100,81,58,55,70,71,40,80,100,100,80,65,50,69,72,188,155,48,50,99,61,61,61,400,251,150,150,100,14,80,100,100,100,10286,70,51],\"coloraxis\":\"coloraxis\"},\"mode\":\"markers\",\"name\":\"\",\"showlegend\":false,\"subplot\":\"mapbox\",\"type\":\"scattermapbox\"}],                        {\"template\":{\"data\":{\"histogram2dcontour\":[{\"type\":\"histogram2dcontour\",\"colorbar\":{\"outlinewidth\":0,\"ticks\":\"\"},\"colorscale\":[[0.0,\"#0d0887\"],[0.1111111111111111,\"#46039f\"],[0.2222222222222222,\"#7201a8\"],[0.3333333333333333,\"#9c179e\"],[0.4444444444444444,\"#bd3786\"],[0.5555555555555556,\"#d8576b\"],[0.6666666666666666,\"#ed7953\"],[0.7777777777777778,\"#fb9f3a\"],[0.8888888888888888,\"#fdca26\"],[1.0,\"#f0f921\"]]}],\"choropleth\":[{\"type\":\"choropleth\",\"colorbar\":{\"outlinewidth\":0,\"ticks\":\"\"}}],\"histogram2d\":[{\"type\":\"histogram2d\",\"colorbar\":{\"outlinewidth\":0,\"ticks\":\"\"},\"colorscale\":[[0.0,\"#0d0887\"],[0.1111111111111111,\"#46039f\"],[0.2222222222222222,\"#7201a8\"],[0.3333333333333333,\"#9c179e\"],[0.4444444444444444,\"#bd3786\"],[0.5555555555555556,\"#d8576b\"],[0.6666666666666666,\"#ed7953\"],[0.7777777777777778,\"#fb9f3a\"],[0.8888888888888888,\"#fdca26\"],[1.0,\"#f0f921\"]]}],\"heatmap\":[{\"type\":\"heatmap\",\"colorbar\":{\"outlinewidth\":0,\"ticks\":\"\"},\"colorscale\":[[0.0,\"#0d0887\"],[0.1111111111111111,\"#46039f\"],[0.2222222222222222,\"#7201a8\"],[0.3333333333333333,\"#9c179e\"],[0.4444444444444444,\"#bd3786\"],[0.5555555555555556,\"#d8576b\"],[0.6666666666666666,\"#ed7953\"],[0.7777777777777778,\"#fb9f3a\"],[0.8888888888888888,\"#fdca26\"],[1.0,\"#f0f921\"]]}],\"heatmapgl\":[{\"type\":\"heatmapgl\",\"colorbar\":{\"outlinewidth\":0,\"ticks\":\"\"},\"colorscale\":[[0.0,\"#0d0887\"],[0.1111111111111111,\"#46039f\"],[0.2222222222222222,\"#7201a8\"],[0.3333333333333333,\"#9c179e\"],[0.4444444444444444,\"#bd3786\"],[0.5555555555555556,\"#d8576b\"],[0.6666666666666666,\"#ed7953\"],[0.7777777777777778,\"#fb9f3a\"],[0.8888888888888888,\"#fdca26\"],[1.0,\"#f0f921\"]]}],\"contourcarpet\":[{\"type\":\"contourcarpet\",\"colorbar\":{\"outlinewidth\":0,\"ticks\":\"\"}}],\"contour\":[{\"type\":\"contour\",\"colorbar\":{\"outlinewidth\":0,\"ticks\":\"\"},\"colorscale\":[[0.0,\"#0d0887\"],[0.1111111111111111,\"#46039f\"],[0.2222222222222222,\"#7201a8\"],[0.3333333333333333,\"#9c179e\"],[0.4444444444444444,\"#bd3786\"],[0.5555555555555556,\"#d8576b\"],[0.6666666666666666,\"#ed7953\"],[0.7777777777777778,\"#fb9f3a\"],[0.8888888888888888,\"#fdca26\"],[1.0,\"#f0f921\"]]}],\"surface\":[{\"type\":\"surface\",\"colorbar\":{\"outlinewidth\":0,\"ticks\":\"\"},\"colorscale\":[[0.0,\"#0d0887\"],[0.1111111111111111,\"#46039f\"],[0.2222222222222222,\"#7201a8\"],[0.3333333333333333,\"#9c179e\"],[0.4444444444444444,\"#bd3786\"],[0.5555555555555556,\"#d8576b\"],[0.6666666666666666,\"#ed7953\"],[0.7777777777777778,\"#fb9f3a\"],[0.8888888888888888,\"#fdca26\"],[1.0,\"#f0f921\"]]}],\"mesh3d\":[{\"type\":\"mesh3d\",\"colorbar\":{\"outlinewidth\":0,\"ticks\":\"\"}}],\"scatter\":[{\"fillpattern\":{\"fillmode\":\"overlay\",\"size\":10,\"solidity\":0.2},\"type\":\"scatter\"}],\"parcoords\":[{\"type\":\"parcoords\",\"line\":{\"colorbar\":{\"outlinewidth\":0,\"ticks\":\"\"}}}],\"scatterpolargl\":[{\"type\":\"scatterpolargl\",\"marker\":{\"colorbar\":{\"outlinewidth\":0,\"ticks\":\"\"}}}],\"bar\":[{\"error_x\":{\"color\":\"#2a3f5f\"},\"error_y\":{\"color\":\"#2a3f5f\"},\"marker\":{\"line\":{\"color\":\"#E5ECF6\",\"width\":0.5},\"pattern\":{\"fillmode\":\"overlay\",\"size\":10,\"solidity\":0.2}},\"type\":\"bar\"}],\"scattergeo\":[{\"type\":\"scattergeo\",\"marker\":{\"colorbar\":{\"outlinewidth\":0,\"ticks\":\"\"}}}],\"scatterpolar\":[{\"type\":\"scatterpolar\",\"marker\":{\"colorbar\":{\"outlinewidth\":0,\"ticks\":\"\"}}}],\"histogram\":[{\"marker\":{\"pattern\":{\"fillmode\":\"overlay\",\"size\":10,\"solidity\":0.2}},\"type\":\"histogram\"}],\"scattergl\":[{\"type\":\"scattergl\",\"marker\":{\"colorbar\":{\"outlinewidth\":0,\"ticks\":\"\"}}}],\"scatter3d\":[{\"type\":\"scatter3d\",\"line\":{\"colorbar\":{\"outlinewidth\":0,\"ticks\":\"\"}},\"marker\":{\"colorbar\":{\"outlinewidth\":0,\"ticks\":\"\"}}}],\"scattermapbox\":[{\"type\":\"scattermapbox\",\"marker\":{\"colorbar\":{\"outlinewidth\":0,\"ticks\":\"\"}}}],\"scatterternary\":[{\"type\":\"scatterternary\",\"marker\":{\"colorbar\":{\"outlinewidth\":0,\"ticks\":\"\"}}}],\"scattercarpet\":[{\"type\":\"scattercarpet\",\"marker\":{\"colorbar\":{\"outlinewidth\":0,\"ticks\":\"\"}}}],\"carpet\":[{\"aaxis\":{\"endlinecolor\":\"#2a3f5f\",\"gridcolor\":\"white\",\"linecolor\":\"white\",\"minorgridcolor\":\"white\",\"startlinecolor\":\"#2a3f5f\"},\"baxis\":{\"endlinecolor\":\"#2a3f5f\",\"gridcolor\":\"white\",\"linecolor\":\"white\",\"minorgridcolor\":\"white\",\"startlinecolor\":\"#2a3f5f\"},\"type\":\"carpet\"}],\"table\":[{\"cells\":{\"fill\":{\"color\":\"#EBF0F8\"},\"line\":{\"color\":\"white\"}},\"header\":{\"fill\":{\"color\":\"#C8D4E3\"},\"line\":{\"color\":\"white\"}},\"type\":\"table\"}],\"barpolar\":[{\"marker\":{\"line\":{\"color\":\"#E5ECF6\",\"width\":0.5},\"pattern\":{\"fillmode\":\"overlay\",\"size\":10,\"solidity\":0.2}},\"type\":\"barpolar\"}],\"pie\":[{\"automargin\":true,\"type\":\"pie\"}]},\"layout\":{\"autotypenumbers\":\"strict\",\"colorway\":[\"#636efa\",\"#EF553B\",\"#00cc96\",\"#ab63fa\",\"#FFA15A\",\"#19d3f3\",\"#FF6692\",\"#B6E880\",\"#FF97FF\",\"#FECB52\"],\"font\":{\"color\":\"#2a3f5f\"},\"hovermode\":\"closest\",\"hoverlabel\":{\"align\":\"left\"},\"paper_bgcolor\":\"white\",\"plot_bgcolor\":\"#E5ECF6\",\"polar\":{\"bgcolor\":\"#E5ECF6\",\"angularaxis\":{\"gridcolor\":\"white\",\"linecolor\":\"white\",\"ticks\":\"\"},\"radialaxis\":{\"gridcolor\":\"white\",\"linecolor\":\"white\",\"ticks\":\"\"}},\"ternary\":{\"bgcolor\":\"#E5ECF6\",\"aaxis\":{\"gridcolor\":\"white\",\"linecolor\":\"white\",\"ticks\":\"\"},\"baxis\":{\"gridcolor\":\"white\",\"linecolor\":\"white\",\"ticks\":\"\"},\"caxis\":{\"gridcolor\":\"white\",\"linecolor\":\"white\",\"ticks\":\"\"}},\"coloraxis\":{\"colorbar\":{\"outlinewidth\":0,\"ticks\":\"\"}},\"colorscale\":{\"sequential\":[[0.0,\"#0d0887\"],[0.1111111111111111,\"#46039f\"],[0.2222222222222222,\"#7201a8\"],[0.3333333333333333,\"#9c179e\"],[0.4444444444444444,\"#bd3786\"],[0.5555555555555556,\"#d8576b\"],[0.6666666666666666,\"#ed7953\"],[0.7777777777777778,\"#fb9f3a\"],[0.8888888888888888,\"#fdca26\"],[1.0,\"#f0f921\"]],\"sequentialminus\":[[0.0,\"#0d0887\"],[0.1111111111111111,\"#46039f\"],[0.2222222222222222,\"#7201a8\"],[0.3333333333333333,\"#9c179e\"],[0.4444444444444444,\"#bd3786\"],[0.5555555555555556,\"#d8576b\"],[0.6666666666666666,\"#ed7953\"],[0.7777777777777778,\"#fb9f3a\"],[0.8888888888888888,\"#fdca26\"],[1.0,\"#f0f921\"]],\"diverging\":[[0,\"#8e0152\"],[0.1,\"#c51b7d\"],[0.2,\"#de77ae\"],[0.3,\"#f1b6da\"],[0.4,\"#fde0ef\"],[0.5,\"#f7f7f7\"],[0.6,\"#e6f5d0\"],[0.7,\"#b8e186\"],[0.8,\"#7fbc41\"],[0.9,\"#4d9221\"],[1,\"#276419\"]]},\"xaxis\":{\"gridcolor\":\"white\",\"linecolor\":\"white\",\"ticks\":\"\",\"title\":{\"standoff\":15},\"zerolinecolor\":\"white\",\"automargin\":true,\"zerolinewidth\":2},\"yaxis\":{\"gridcolor\":\"white\",\"linecolor\":\"white\",\"ticks\":\"\",\"title\":{\"standoff\":15},\"zerolinecolor\":\"white\",\"automargin\":true,\"zerolinewidth\":2},\"scene\":{\"xaxis\":{\"backgroundcolor\":\"#E5ECF6\",\"gridcolor\":\"white\",\"linecolor\":\"white\",\"showbackground\":true,\"ticks\":\"\",\"zerolinecolor\":\"white\",\"gridwidth\":2},\"yaxis\":{\"backgroundcolor\":\"#E5ECF6\",\"gridcolor\":\"white\",\"linecolor\":\"white\",\"showbackground\":true,\"ticks\":\"\",\"zerolinecolor\":\"white\",\"gridwidth\":2},\"zaxis\":{\"backgroundcolor\":\"#E5ECF6\",\"gridcolor\":\"white\",\"linecolor\":\"white\",\"showbackground\":true,\"ticks\":\"\",\"zerolinecolor\":\"white\",\"gridwidth\":2}},\"shapedefaults\":{\"line\":{\"color\":\"#2a3f5f\"}},\"annotationdefaults\":{\"arrowcolor\":\"#2a3f5f\",\"arrowhead\":0,\"arrowwidth\":1},\"geo\":{\"bgcolor\":\"white\",\"landcolor\":\"#E5ECF6\",\"subunitcolor\":\"white\",\"showland\":true,\"showlakes\":true,\"lakecolor\":\"white\"},\"title\":{\"x\":0.05},\"mapbox\":{\"style\":\"light\"}}},\"mapbox\":{\"domain\":{\"x\":[0.0,1.0],\"y\":[0.0,1.0]},\"center\":{\"lat\":1.3088576116829773,\"lon\":103.84288341256257},\"zoom\":10,\"style\":\"open-street-map\"},\"coloraxis\":{\"colorbar\":{\"title\":{\"text\":\"price\"}},\"colorscale\":[[0.0,\"#0d0887\"],[0.1111111111111111,\"#46039f\"],[0.2222222222222222,\"#7201a8\"],[0.3333333333333333,\"#9c179e\"],[0.4444444444444444,\"#bd3786\"],[0.5555555555555556,\"#d8576b\"],[0.6666666666666666,\"#ed7953\"],[0.7777777777777778,\"#fb9f3a\"],[0.8888888888888888,\"#fdca26\"],[1.0,\"#f0f921\"]]},\"legend\":{\"tracegroupgap\":0},\"margin\":{\"t\":0,\"r\":0,\"l\":0,\"b\":0},\"width\":900},                        {\"responsive\": true}                    ).then(function(){\n",
              "                            \n",
              "var gd = document.getElementById('111371e8-2136-4d87-aa5d-8ee9743d1c57');\n",
              "var x = new MutationObserver(function (mutations, observer) {{\n",
              "        var display = window.getComputedStyle(gd).display;\n",
              "        if (!display || display === 'none') {{\n",
              "            console.log([gd, 'removed!']);\n",
              "            Plotly.purge(gd);\n",
              "            observer.disconnect();\n",
              "        }}\n",
              "}});\n",
              "\n",
              "// Listen for the removal of the full notebook cells\n",
              "var notebookContainer = gd.closest('#notebook-container');\n",
              "if (notebookContainer) {{\n",
              "    x.observe(notebookContainer, {childList: true});\n",
              "}}\n",
              "\n",
              "// Listen for the clearing of the current output cell\n",
              "var outputEl = gd.closest('.output');\n",
              "if (outputEl) {{\n",
              "    x.observe(outputEl, {childList: true});\n",
              "}}\n",
              "\n",
              "                        })                };                            </script>        </div>\n",
              "</body>\n",
              "</html>"
            ]
          },
          "metadata": {}
        }
      ]
    },
    {
      "cell_type": "markdown",
      "source": [
        "The map showed most of listings properties having prices under 2000 all over Singapore explained the price distribution is not really influenced by the location of listing properties"
      ],
      "metadata": {
        "id": "OwTTk2ViIWE7"
      }
    },
    {
      "cell_type": "markdown",
      "source": [
        "#### **Price Distribution of Listings Based on Neighborhood Group**"
      ],
      "metadata": {
        "id": "mX7oUxuWXEl3"
      }
    },
    {
      "cell_type": "code",
      "source": [
        "price_nb = listings_neighborhood.groupby('neighbourhood_group').agg(price_mean=('price','mean')).sort_values(by=['price_mean'],ascending=False).reset_index()\n",
        "price_nb"
      ],
      "metadata": {
        "colab": {
          "base_uri": "https://localhost:8080/",
          "height": 213
        },
        "outputId": "fb173392-7076-4b82-dd99-d98d15f02d68",
        "id": "Us-3H6D3Xnjb"
      },
      "execution_count": null,
      "outputs": [
        {
          "output_type": "execute_result",
          "data": {
            "text/plain": [
              "  neighbourhood_group  price_mean\n",
              "0        North Region  279.738462\n",
              "1         West Region  258.818182\n",
              "2      Central Region  258.764654\n",
              "3   North-East Region  218.417722\n",
              "4         East Region  183.710345"
            ],
            "text/html": [
              "\n",
              "  <div id=\"df-bd05961f-3d98-4ecb-a2f7-16375cf4ca22\">\n",
              "    <div class=\"colab-df-container\">\n",
              "      <div>\n",
              "<style scoped>\n",
              "    .dataframe tbody tr th:only-of-type {\n",
              "        vertical-align: middle;\n",
              "    }\n",
              "\n",
              "    .dataframe tbody tr th {\n",
              "        vertical-align: top;\n",
              "    }\n",
              "\n",
              "    .dataframe thead th {\n",
              "        text-align: right;\n",
              "    }\n",
              "</style>\n",
              "<table border=\"1\" class=\"dataframe\">\n",
              "  <thead>\n",
              "    <tr style=\"text-align: right;\">\n",
              "      <th></th>\n",
              "      <th>neighbourhood_group</th>\n",
              "      <th>price_mean</th>\n",
              "    </tr>\n",
              "  </thead>\n",
              "  <tbody>\n",
              "    <tr>\n",
              "      <th>0</th>\n",
              "      <td>North Region</td>\n",
              "      <td>279.738462</td>\n",
              "    </tr>\n",
              "    <tr>\n",
              "      <th>1</th>\n",
              "      <td>West Region</td>\n",
              "      <td>258.818182</td>\n",
              "    </tr>\n",
              "    <tr>\n",
              "      <th>2</th>\n",
              "      <td>Central Region</td>\n",
              "      <td>258.764654</td>\n",
              "    </tr>\n",
              "    <tr>\n",
              "      <th>3</th>\n",
              "      <td>North-East Region</td>\n",
              "      <td>218.417722</td>\n",
              "    </tr>\n",
              "    <tr>\n",
              "      <th>4</th>\n",
              "      <td>East Region</td>\n",
              "      <td>183.710345</td>\n",
              "    </tr>\n",
              "  </tbody>\n",
              "</table>\n",
              "</div>\n",
              "      <button class=\"colab-df-convert\" onclick=\"convertToInteractive('df-bd05961f-3d98-4ecb-a2f7-16375cf4ca22')\"\n",
              "              title=\"Convert this dataframe to an interactive table.\"\n",
              "              style=\"display:none;\">\n",
              "        \n",
              "  <svg xmlns=\"http://www.w3.org/2000/svg\" height=\"24px\"viewBox=\"0 0 24 24\"\n",
              "       width=\"24px\">\n",
              "    <path d=\"M0 0h24v24H0V0z\" fill=\"none\"/>\n",
              "    <path d=\"M18.56 5.44l.94 2.06.94-2.06 2.06-.94-2.06-.94-.94-2.06-.94 2.06-2.06.94zm-11 1L8.5 8.5l.94-2.06 2.06-.94-2.06-.94L8.5 2.5l-.94 2.06-2.06.94zm10 10l.94 2.06.94-2.06 2.06-.94-2.06-.94-.94-2.06-.94 2.06-2.06.94z\"/><path d=\"M17.41 7.96l-1.37-1.37c-.4-.4-.92-.59-1.43-.59-.52 0-1.04.2-1.43.59L10.3 9.45l-7.72 7.72c-.78.78-.78 2.05 0 2.83L4 21.41c.39.39.9.59 1.41.59.51 0 1.02-.2 1.41-.59l7.78-7.78 2.81-2.81c.8-.78.8-2.07 0-2.86zM5.41 20L4 18.59l7.72-7.72 1.47 1.35L5.41 20z\"/>\n",
              "  </svg>\n",
              "      </button>\n",
              "      \n",
              "  <style>\n",
              "    .colab-df-container {\n",
              "      display:flex;\n",
              "      flex-wrap:wrap;\n",
              "      gap: 12px;\n",
              "    }\n",
              "\n",
              "    .colab-df-convert {\n",
              "      background-color: #E8F0FE;\n",
              "      border: none;\n",
              "      border-radius: 50%;\n",
              "      cursor: pointer;\n",
              "      display: none;\n",
              "      fill: #1967D2;\n",
              "      height: 32px;\n",
              "      padding: 0 0 0 0;\n",
              "      width: 32px;\n",
              "    }\n",
              "\n",
              "    .colab-df-convert:hover {\n",
              "      background-color: #E2EBFA;\n",
              "      box-shadow: 0px 1px 2px rgba(60, 64, 67, 0.3), 0px 1px 3px 1px rgba(60, 64, 67, 0.15);\n",
              "      fill: #174EA6;\n",
              "    }\n",
              "\n",
              "    [theme=dark] .colab-df-convert {\n",
              "      background-color: #3B4455;\n",
              "      fill: #D2E3FC;\n",
              "    }\n",
              "\n",
              "    [theme=dark] .colab-df-convert:hover {\n",
              "      background-color: #434B5C;\n",
              "      box-shadow: 0px 1px 3px 1px rgba(0, 0, 0, 0.15);\n",
              "      filter: drop-shadow(0px 1px 2px rgba(0, 0, 0, 0.3));\n",
              "      fill: #FFFFFF;\n",
              "    }\n",
              "  </style>\n",
              "\n",
              "      <script>\n",
              "        const buttonEl =\n",
              "          document.querySelector('#df-bd05961f-3d98-4ecb-a2f7-16375cf4ca22 button.colab-df-convert');\n",
              "        buttonEl.style.display =\n",
              "          google.colab.kernel.accessAllowed ? 'block' : 'none';\n",
              "\n",
              "        async function convertToInteractive(key) {\n",
              "          const element = document.querySelector('#df-bd05961f-3d98-4ecb-a2f7-16375cf4ca22');\n",
              "          const dataTable =\n",
              "            await google.colab.kernel.invokeFunction('convertToInteractive',\n",
              "                                                     [key], {});\n",
              "          if (!dataTable) return;\n",
              "\n",
              "          const docLinkHtml = 'Like what you see? Visit the ' +\n",
              "            '<a target=\"_blank\" href=https://colab.research.google.com/notebooks/data_table.ipynb>data table notebook</a>'\n",
              "            + ' to learn more about interactive tables.';\n",
              "          element.innerHTML = '';\n",
              "          dataTable['output_type'] = 'display_data';\n",
              "          await google.colab.output.renderOutput(dataTable, element);\n",
              "          const docLink = document.createElement('div');\n",
              "          docLink.innerHTML = docLinkHtml;\n",
              "          element.appendChild(docLink);\n",
              "        }\n",
              "      </script>\n",
              "    </div>\n",
              "  </div>\n",
              "  "
            ]
          },
          "metadata": {},
          "execution_count": 40
        }
      ]
    },
    {
      "cell_type": "code",
      "source": [
        "fig_price_nbdist = px.box(listings_neighborhood, x='price', y='neighbourhood_group', color='neighbourhood_group')\n",
        "display(fig_price_nbdist)"
      ],
      "metadata": {
        "colab": {
          "base_uri": "https://localhost:8080/",
          "height": 542
        },
        "id": "FGQLIK1uX8Nt",
        "outputId": "c75f28d9-b5c1-4f9f-975a-d37aeeb43f00"
      },
      "execution_count": null,
      "outputs": [
        {
          "output_type": "display_data",
          "data": {
            "text/html": [
              "<html>\n",
              "<head><meta charset=\"utf-8\" /></head>\n",
              "<body>\n",
              "    <div>            <script src=\"https://cdnjs.cloudflare.com/ajax/libs/mathjax/2.7.5/MathJax.js?config=TeX-AMS-MML_SVG\"></script><script type=\"text/javascript\">if (window.MathJax && window.MathJax.Hub && window.MathJax.Hub.Config) {window.MathJax.Hub.Config({SVG: {font: \"STIX-Web\"}});}</script>                <script type=\"text/javascript\">window.PlotlyConfig = {MathJaxConfig: 'local'};</script>\n",
              "        <script src=\"https://cdn.plot.ly/plotly-2.18.2.min.js\"></script>                <div id=\"f8b4a7d3-82c6-4a07-933f-cbc33c2f1da4\" class=\"plotly-graph-div\" style=\"height:525px; width:100%;\"></div>            <script type=\"text/javascript\">                                    window.PLOTLYENV=window.PLOTLYENV || {};                                    if (document.getElementById(\"f8b4a7d3-82c6-4a07-933f-cbc33c2f1da4\")) {                    Plotly.newPlot(                        \"f8b4a7d3-82c6-4a07-933f-cbc33c2f1da4\",                        [{\"alignmentgroup\":\"True\",\"hovertemplate\":\"neighbourhood_group=%{y}<br>price=%{x}<extra></extra>\",\"legendgroup\":\"Central Region\",\"marker\":{\"color\":\"#636efa\"},\"name\":\"Central Region\",\"notched\":false,\"offsetgroup\":\"Central Region\",\"orientation\":\"h\",\"showlegend\":true,\"x\":[47,200,209,50,207,179,500,65,99,100,201,250,1250,96,60,48,35,250,179,179,179,200,215,100,1500,120,150,49,49,55,55,55,150,165,169,228,200,500,300,200,999,2500,65,310,199,90,75,59,40,149,59,59,59,149,59,149,149,149,59,43,40,40,56,59,56,40,340,59,250,34,28,30,34,36,26,32,160,280,1000,59,59,59,59,1000,1000,355,264,78,241,426,183,331,228,67,320,149,266,290,271,320,287,210,34,174,59,192,192,118,169,178,152,181,228,181,180,59,181,180,228,188,181,228,228,228,41,40,220,201,70,40,200,189,382,346,40,399,330,298,170,190,146,275,140,218,228,208,238,81,440,690,740,440,340,340,68,312,259,70,130,280,180,165,180,205,200,180,178,80,100,74,64,80,70,77,388,70,68,62,98,90,47,95,89,84,70,133,100,82,180,180,180,180,73,70,40,58,96,240,85,150,78,35,800,119,119,119,261,90,254,85,120,125,151,250,211,461,259,51,79,259,130,130,100,386,238,80,192,180,385,680,423,470,160,181,165,185,119,541,612,239,224,461,65,65,90,57,68,80,161,582,80,195,90,151,180,180,145,145,130,185,100,65,132,77,500,95,500,85,94,90,95,117,85,94,168,84,172,203,87,500,60,98,63,155,160,307,152,115,192,179,85,180,135,113,175,160,113,52,170,159,250,220,180,181,170,105,464,464,163,180,118,167,200,61,584,509,290,400,150,120,300,444,444,490,160,195,171,144,161,165,180,320,211,215,195,182,170,200,225,98,119,172,180,225,300,1388,648,250,210,175,122,166,108,94,250,105,90,130,136,142,165,172,376,573,100,575,327,165,127,188,65,237,125,220,295,273,100,271,315,79,80,500,488,245,171,279,900,832,66,400,66,355,643,1046,1128,180,150,310,250,1015,962,120,140,250,85,656,672,1255,685,1227,581,330,707,664,1255,1241,1350,1350,1302,1350,656,509,233,194,637,1185,556,607,664,679,330,1500,228,200,169,624,1762,567,614,330,355,332,722,617,727,576,200,681,598,662,1091,190,682,377,634,200,234,170,356,508,707,967,194,160,135,1262,697,1762,717,747,1314,812,813,59,100,1600,98,71,37,50,186,220,57,43,134,110,37,97,450,190,388,27,39,49,37,59,55,129,135,49,49,49,59,39,39,36,40,129,39,500,56,99,55,55,33,47,48,48,39,49,42,39,39,65,55,39,39,38,39,120,55,150,190,707,34,42,100,49,49,39,38,39,36,39,100,59,55,35,208,248,208,208,39,49,59,100,39,39,39,45,60,198,198,39,144,59,238,248,150,39,178,70,70,269,450,34,269,269,120,288,34,68,27,268,180,125,49,891,49,49,214,125,200,128,235,60,95,53,155,162,172,165,200,169,220,168,204,148,175,142,142,154,154,190,200,87,200,376,145,363,100,57,57,57,69,59,130,67,98,67,33,62,150,57,57,85,240,85,115,255,78,59,200,100,59,59,75,65,60,49,50,49,47,59,85,24,67,47,105,125,145,165,200,165,300,59,47,93,280,47,48,47,47,93,24,47,47,24,24,24,24,24,47,42,255,137,59,29,29,29,29,28,27,27,59,59,59,67,49,59,69,69,85,59,49,255,47,59,255,49,284,255,255,284,255,279,85,284,47,49,188,98,67,49,54,255,30,67,560,255,93,59,49,49,57,34,59,51,255,49,49,30,51,59,118,59,145,250,69,69,99,59,59,55,260,49,172,184,57,49,69,69,59,49,49,49,118,59,44,213,49,30,33,59,59,69,30,62,69,60,49,59,30,130,54,48,25,22,22,22,22,22,25,30,729,57,59,49,57,59,59,59,59,49,59,155,45,69,59,59,650,110,47,66,144,49,33,33,435,49,59,288,140,208,268,59,268,49,59,49,69,49,59,49,178,69,229,150,98,180,53,208,298,30,200,86,113,114,144,298,59,110,49,49,49,49,148,86,86,49,768,849,49,49,298,98,49,49,49,49,49,278,148,198,49,59,30,49,190,85,125,49,49,106,49,246,596,49,82,49,49,49,165,70,49,49,49,430,150,145,49,49,215,45,170,160,150,61,85,33,33,424,235,33,225,214,195,49,50,186,103,59,49,49,52,148,210,62,49,49,138,100,69,69,115,106,215,200,100,48,43,250,646,44,150,429,50,115,150,200,210,56,50,518,873,40,67,70,169,80,67,47,188,551,130,67,236,580,662,1302,566,616,591,616,550,88,150,137,65,388,68,139,90,165,962,106,127,180,450,232,260,141,151,159,450,60,55,245,263,110,76,75,100,145,145,278,410,75,459,530,369,90,79,79,66,200,70,79,106,96,65,70,68,93,1356,70,110,84,74,68,74,99,789,631,200,574,406,1261,375,540,495,120,804,620,208,287,495,1300,85,90,280,125,65,700,580,99,340,285,144,354,398,90,343,929,89,200,99,100,100,127,60,50,97,102,60,154,89,65,79,69,127,39,97,225,99,330,410,500,57,280,280,330,350,168,217,210,185,278,150,288,278,148,215,208,330,300,180,250,158,350,158,90,90,90,90,120,120,300,290,450,440,198,288,195,300,120,185,50,375,300,350,450,430,450,200,380,360,368,106,120,115,257,321,492,100,528,552,574,350,263,325,413,377,154,174,194,214,234,260,290,329,304,397,348,451,190,180,180,160,300,160,170,400,190,160,200,190,180,190,190,170,180,180,313,200,464,190,190,274,200,197,180,160,180,190,428,430,180,180,184,170,190,190,280,366,371,230,230,200,240,70,90,170,170,160,429,535,820,350,181,530,604,350,350,350,330,175,161,173,184,600,750,90,296,64,75,318,350,190,307,495,200,80,813,170,1600,500,1000,950,900,1400,200,190,510,530,880,651,473,1101,538,979,883,704,170,190,799,661,586,661,581,250,525,700,510,511,444,250,210,250,475,640,848,678,1073,1150,791,1657,47,1150,67,77,230,447,480,479,450,303,450,198,145,736,735,450,240,590,844,302,69,79,79,69,79,63,378,63,48,69,31,50,31,31,115,69,79,169,45,518,69,88,58,88,465,69,112,112,105,40,31,31,59,40,69,57,140,163,164,45,40,40,88,30,31,31,79,40,40,399,194,399,31,31,31,126,59,40,48,48,48,45,59,69,165,45,79,79,79,51,69,69,69,69,69,69,79,79,45,40,40,40,79,48,160,59,186,130,265,120,529,182,200,239,227,257,79,182,79,463,706,638,949,333,79,69,59,79,79,69,59,212,98,240,328,296,79,40,69,45,69,59,59,59,79,69,411,268,265,159,351,78,79,88,59,48,59,521,59,45,59,101,56,64,228,255,281,177,289,155,187,215,50,300,306,59,69,112,287,342,440,242,282,287,282,374,151,289,378,350,289,300,69,259,195,286,105,430,761,755,345,399,399,378,336,336,379,336,455,447,344,401,341,332,401,332,95,383,428,399,336,289,349,432,401,367,332,447,447,401,436,397,332,390,383,399,397,428,401,390,417,418,431,436,432,455,436,379,399,165,153,230,160,120,110,185,120,115,397,455,78,183,150,180,59,37,55,69,183,113,113,223,183,100,554,523,514,388,46,241,216,113,255,113,223,200,217,403,359,178,223,390,223,223,359,113,213,223,270,286,162,223,350,183,110,330,390,223,270,360,223,203,359,359,183,113,183,474,400,236,575,300,320,113,150,18,280,54,1857,2200,518,286,120,89,223,286,286,183,359,359,223,359,113,359,203,183,183,359,266,190,190,172,250,250,203,200,180,230,368,223,390,310,194,190,185,230,175,295,120,475,1586,400,220,195,159,224,250,385,189,350,250,310,60,238,475,519,330,47,1800,272,271,271,303,241,200,230,230,268,230,334,390,400,330,330,240,390,400,344,400,400,390,430,380,380,141,172,162,406,360,327,327,342,177,249,323,249,249,286,180,180,249,249,199,249,199,100,170,294,237,59,220,170,170,170,137,120,200,156,170,240,170,170,880,170,200,333,200,120,577,600,465,135,256,290,476,557,581,435,298,99,400,68,59,475,520,250,400,325,148,425,425,199,294,300,414,400,379,263,333,330,512,120,801,999,799,749,350,111,973,710,1073,1205,233,176,190,290,300,253,970,710,360,250,200,233,210,202,198,200,282,223,279,219,216,199,205,229,219,203,140,223,198,250,136,130,165,219,129,238,220,200,126,130,238,185,195,226,130,1150,335,233,690,280,175,223,200,123,235,209,85,95,255,240,233,243,170,175,148,142,170,110,232,173,28,33,33,30,130,33,28,36,30,29,40,26,240,80,90,100,140,45,85,165,51,140,69,92,94,260,85,694,266,145,145,130,130,90,54,456,59,145,174,170,225,123,115,107,120,217,187,102,113,120,120,288,212,288,288,51,288,288,140,140,298,198,110,130,126,140,140,140,140,155,155,155,320,147,144,158,174,222,188,346,237,331,307,381,344,1200,380,41,66,103,25,490,488,190,600,550,682,692,713,734,850,130,150,144,250,170,511,136,210,118,126,88,95,206,131,126,200,146,71,487,487,511,534,546,953,126,347,348,456,126,111,136,333,250,107,239,466,118,159,100,85,130,100,100,164,124,215,156,274,172,165,265,513,1070,150,505,941,190,50,460,382,330,290,290,290,290,574,194,475,475,150,103,53,56,100,256,222,155,161,211,173,149,630,222,610,385,650,105,120,55,98,325,75,75,410,431,550,587,674,480,525,754,550,441,73,55,585,200,247,235,203,640,600,629,503,472,301,241,218,195,311,302,294,236,216,159,513,499,330,306,85,430,427,550,75,445,470,410,1150,395,376,70,43,43,43,43,45,45,229,229,60,59,29,31,35,765,8900,3300,3200,4000,3850,399,660,567,469,373,1762,386,334,342,333,314,474,357,294,400,141,180,150,55,90,238,85,110,180,175,120,650,615,495,375,500,50,275,395,180,530,475,530,100,500,495,500,425,550,615,200,109,495,430,290,281,240,200,185,180,250,120,119,327,240,675,220,75,200,300,139,99,323,254,298,277,277,337,38,324,420,120,307,210,205,245,305,210,275,275,275,275,210,217,210,224,205,305,280,280,295,345,335,364,364,87,76,50,4000,74,91,120,229,150,137,250,268,150,210,240,200,49,170,139,139,165,260,200,600,170,270,250,189,189,254,236,70],\"x0\":\" \",\"xaxis\":\"x\",\"y\":[\"Central Region\",\"Central Region\",\"Central Region\",\"Central Region\",\"Central Region\",\"Central Region\",\"Central Region\",\"Central Region\",\"Central Region\",\"Central Region\",\"Central Region\",\"Central Region\",\"Central Region\",\"Central Region\",\"Central Region\",\"Central Region\",\"Central Region\",\"Central Region\",\"Central Region\",\"Central Region\",\"Central Region\",\"Central Region\",\"Central Region\",\"Central Region\",\"Central Region\",\"Central Region\",\"Central Region\",\"Central Region\",\"Central Region\",\"Central Region\",\"Central Region\",\"Central Region\",\"Central Region\",\"Central Region\",\"Central Region\",\"Central Region\",\"Central Region\",\"Central Region\",\"Central Region\",\"Central Region\",\"Central Region\",\"Central Region\",\"Central Region\",\"Central Region\",\"Central Region\",\"Central Region\",\"Central Region\",\"Central Region\",\"Central Region\",\"Central Region\",\"Central Region\",\"Central Region\",\"Central Region\",\"Central Region\",\"Central Region\",\"Central Region\",\"Central Region\",\"Central Region\",\"Central Region\",\"Central Region\",\"Central Region\",\"Central Region\",\"Central Region\",\"Central Region\",\"Central Region\",\"Central Region\",\"Central Region\",\"Central Region\",\"Central Region\",\"Central Region\",\"Central Region\",\"Central Region\",\"Central Region\",\"Central Region\",\"Central Region\",\"Central Region\",\"Central Region\",\"Central Region\",\"Central Region\",\"Central Region\",\"Central Region\",\"Central Region\",\"Central Region\",\"Central Region\",\"Central Region\",\"Central Region\",\"Central Region\",\"Central Region\",\"Central Region\",\"Central Region\",\"Central Region\",\"Central Region\",\"Central Region\",\"Central Region\",\"Central Region\",\"Central Region\",\"Central Region\",\"Central Region\",\"Central Region\",\"Central Region\",\"Central Region\",\"Central Region\",\"Central Region\",\"Central Region\",\"Central Region\",\"Central Region\",\"Central Region\",\"Central Region\",\"Central Region\",\"Central Region\",\"Central Region\",\"Central Region\",\"Central Region\",\"Central Region\",\"Central Region\",\"Central Region\",\"Central Region\",\"Central Region\",\"Central Region\",\"Central Region\",\"Central Region\",\"Central Region\",\"Central Region\",\"Central Region\",\"Central Region\",\"Central Region\",\"Central Region\",\"Central Region\",\"Central Region\",\"Central Region\",\"Central Region\",\"Central Region\",\"Central Region\",\"Central Region\",\"Central Region\",\"Central Region\",\"Central Region\",\"Central Region\",\"Central Region\",\"Central Region\",\"Central Region\",\"Central Region\",\"Central Region\",\"Central Region\",\"Central Region\",\"Central Region\",\"Central Region\",\"Central Region\",\"Central Region\",\"Central Region\",\"Central Region\",\"Central Region\",\"Central Region\",\"Central Region\",\"Central Region\",\"Central Region\",\"Central Region\",\"Central Region\",\"Central Region\",\"Central Region\",\"Central Region\",\"Central Region\",\"Central Region\",\"Central Region\",\"Central Region\",\"Central Region\",\"Central Region\",\"Central Region\",\"Central Region\",\"Central Region\",\"Central Region\",\"Central Region\",\"Central Region\",\"Central Region\",\"Central Region\",\"Central Region\",\"Central Region\",\"Central Region\",\"Central Region\",\"Central Region\",\"Central Region\",\"Central Region\",\"Central Region\",\"Central Region\",\"Central Region\",\"Central Region\",\"Central Region\",\"Central Region\",\"Central Region\",\"Central Region\",\"Central Region\",\"Central Region\",\"Central Region\",\"Central Region\",\"Central Region\",\"Central Region\",\"Central Region\",\"Central Region\",\"Central Region\",\"Central Region\",\"Central Region\",\"Central Region\",\"Central Region\",\"Central Region\",\"Central Region\",\"Central Region\",\"Central Region\",\"Central Region\",\"Central Region\",\"Central Region\",\"Central Region\",\"Central Region\",\"Central Region\",\"Central Region\",\"Central Region\",\"Central Region\",\"Central Region\",\"Central Region\",\"Central Region\",\"Central Region\",\"Central Region\",\"Central Region\",\"Central Region\",\"Central Region\",\"Central Region\",\"Central Region\",\"Central Region\",\"Central Region\",\"Central Region\",\"Central Region\",\"Central Region\",\"Central Region\",\"Central Region\",\"Central Region\",\"Central Region\",\"Central Region\",\"Central Region\",\"Central Region\",\"Central Region\",\"Central Region\",\"Central Region\",\"Central Region\",\"Central Region\",\"Central Region\",\"Central Region\",\"Central Region\",\"Central Region\",\"Central Region\",\"Central Region\",\"Central Region\",\"Central Region\",\"Central Region\",\"Central Region\",\"Central Region\",\"Central Region\",\"Central Region\",\"Central Region\",\"Central Region\",\"Central Region\",\"Central Region\",\"Central Region\",\"Central Region\",\"Central Region\",\"Central Region\",\"Central Region\",\"Central Region\",\"Central Region\",\"Central Region\",\"Central Region\",\"Central Region\",\"Central Region\",\"Central Region\",\"Central Region\",\"Central Region\",\"Central Region\",\"Central Region\",\"Central Region\",\"Central Region\",\"Central Region\",\"Central Region\",\"Central Region\",\"Central Region\",\"Central Region\",\"Central Region\",\"Central Region\",\"Central Region\",\"Central Region\",\"Central Region\",\"Central Region\",\"Central Region\",\"Central Region\",\"Central Region\",\"Central Region\",\"Central Region\",\"Central Region\",\"Central Region\",\"Central Region\",\"Central Region\",\"Central Region\",\"Central Region\",\"Central Region\",\"Central Region\",\"Central Region\",\"Central Region\",\"Central Region\",\"Central Region\",\"Central Region\",\"Central Region\",\"Central Region\",\"Central Region\",\"Central Region\",\"Central Region\",\"Central Region\",\"Central Region\",\"Central Region\",\"Central Region\",\"Central Region\",\"Central Region\",\"Central Region\",\"Central Region\",\"Central Region\",\"Central Region\",\"Central Region\",\"Central Region\",\"Central Region\",\"Central Region\",\"Central Region\",\"Central Region\",\"Central Region\",\"Central Region\",\"Central Region\",\"Central Region\",\"Central Region\",\"Central Region\",\"Central Region\",\"Central Region\",\"Central Region\",\"Central Region\",\"Central Region\",\"Central Region\",\"Central Region\",\"Central Region\",\"Central Region\",\"Central Region\",\"Central Region\",\"Central Region\",\"Central Region\",\"Central Region\",\"Central Region\",\"Central Region\",\"Central Region\",\"Central Region\",\"Central Region\",\"Central Region\",\"Central Region\",\"Central Region\",\"Central Region\",\"Central Region\",\"Central Region\",\"Central Region\",\"Central Region\",\"Central Region\",\"Central Region\",\"Central Region\",\"Central Region\",\"Central Region\",\"Central Region\",\"Central Region\",\"Central Region\",\"Central Region\",\"Central Region\",\"Central Region\",\"Central Region\",\"Central Region\",\"Central Region\",\"Central Region\",\"Central Region\",\"Central Region\",\"Central Region\",\"Central Region\",\"Central Region\",\"Central Region\",\"Central Region\",\"Central Region\",\"Central Region\",\"Central Region\",\"Central Region\",\"Central Region\",\"Central Region\",\"Central Region\",\"Central Region\",\"Central Region\",\"Central Region\",\"Central Region\",\"Central Region\",\"Central Region\",\"Central Region\",\"Central Region\",\"Central Region\",\"Central Region\",\"Central Region\",\"Central Region\",\"Central Region\",\"Central Region\",\"Central Region\",\"Central Region\",\"Central Region\",\"Central Region\",\"Central Region\",\"Central Region\",\"Central Region\",\"Central Region\",\"Central Region\",\"Central Region\",\"Central Region\",\"Central Region\",\"Central Region\",\"Central Region\",\"Central Region\",\"Central Region\",\"Central Region\",\"Central Region\",\"Central Region\",\"Central Region\",\"Central Region\",\"Central Region\",\"Central Region\",\"Central Region\",\"Central Region\",\"Central Region\",\"Central Region\",\"Central Region\",\"Central Region\",\"Central Region\",\"Central Region\",\"Central Region\",\"Central Region\",\"Central Region\",\"Central Region\",\"Central Region\",\"Central Region\",\"Central Region\",\"Central Region\",\"Central Region\",\"Central Region\",\"Central Region\",\"Central Region\",\"Central Region\",\"Central Region\",\"Central Region\",\"Central Region\",\"Central Region\",\"Central Region\",\"Central Region\",\"Central Region\",\"Central Region\",\"Central Region\",\"Central Region\",\"Central Region\",\"Central Region\",\"Central Region\",\"Central Region\",\"Central Region\",\"Central Region\",\"Central Region\",\"Central Region\",\"Central Region\",\"Central Region\",\"Central Region\",\"Central Region\",\"Central Region\",\"Central Region\",\"Central Region\",\"Central Region\",\"Central Region\",\"Central Region\",\"Central Region\",\"Central Region\",\"Central Region\",\"Central Region\",\"Central Region\",\"Central Region\",\"Central Region\",\"Central Region\",\"Central Region\",\"Central Region\",\"Central Region\",\"Central Region\",\"Central Region\",\"Central Region\",\"Central Region\",\"Central Region\",\"Central Region\",\"Central Region\",\"Central Region\",\"Central Region\",\"Central Region\",\"Central Region\",\"Central Region\",\"Central Region\",\"Central Region\",\"Central Region\",\"Central Region\",\"Central Region\",\"Central Region\",\"Central Region\",\"Central Region\",\"Central Region\",\"Central Region\",\"Central Region\",\"Central Region\",\"Central Region\",\"Central Region\",\"Central Region\",\"Central Region\",\"Central Region\",\"Central Region\",\"Central Region\",\"Central Region\",\"Central Region\",\"Central Region\",\"Central Region\",\"Central Region\",\"Central Region\",\"Central Region\",\"Central Region\",\"Central Region\",\"Central Region\",\"Central Region\",\"Central Region\",\"Central Region\",\"Central Region\",\"Central Region\",\"Central Region\",\"Central Region\",\"Central Region\",\"Central Region\",\"Central Region\",\"Central Region\",\"Central Region\",\"Central Region\",\"Central Region\",\"Central Region\",\"Central Region\",\"Central Region\",\"Central Region\",\"Central Region\",\"Central Region\",\"Central Region\",\"Central Region\",\"Central Region\",\"Central Region\",\"Central Region\",\"Central Region\",\"Central Region\",\"Central Region\",\"Central Region\",\"Central Region\",\"Central Region\",\"Central Region\",\"Central Region\",\"Central Region\",\"Central Region\",\"Central Region\",\"Central Region\",\"Central Region\",\"Central Region\",\"Central Region\",\"Central Region\",\"Central Region\",\"Central Region\",\"Central Region\",\"Central Region\",\"Central Region\",\"Central Region\",\"Central Region\",\"Central Region\",\"Central Region\",\"Central Region\",\"Central Region\",\"Central Region\",\"Central Region\",\"Central Region\",\"Central Region\",\"Central Region\",\"Central Region\",\"Central Region\",\"Central Region\",\"Central Region\",\"Central Region\",\"Central Region\",\"Central Region\",\"Central Region\",\"Central Region\",\"Central Region\",\"Central Region\",\"Central Region\",\"Central Region\",\"Central Region\",\"Central Region\",\"Central Region\",\"Central Region\",\"Central Region\",\"Central Region\",\"Central Region\",\"Central Region\",\"Central Region\",\"Central Region\",\"Central Region\",\"Central Region\",\"Central Region\",\"Central Region\",\"Central Region\",\"Central Region\",\"Central Region\",\"Central Region\",\"Central Region\",\"Central Region\",\"Central Region\",\"Central Region\",\"Central Region\",\"Central Region\",\"Central Region\",\"Central Region\",\"Central Region\",\"Central Region\",\"Central Region\",\"Central Region\",\"Central Region\",\"Central Region\",\"Central Region\",\"Central Region\",\"Central Region\",\"Central Region\",\"Central Region\",\"Central Region\",\"Central Region\",\"Central Region\",\"Central Region\",\"Central Region\",\"Central Region\",\"Central Region\",\"Central Region\",\"Central Region\",\"Central Region\",\"Central Region\",\"Central Region\",\"Central Region\",\"Central Region\",\"Central Region\",\"Central Region\",\"Central Region\",\"Central Region\",\"Central Region\",\"Central Region\",\"Central Region\",\"Central Region\",\"Central Region\",\"Central Region\",\"Central Region\",\"Central Region\",\"Central Region\",\"Central Region\",\"Central Region\",\"Central Region\",\"Central Region\",\"Central Region\",\"Central Region\",\"Central Region\",\"Central Region\",\"Central Region\",\"Central Region\",\"Central Region\",\"Central Region\",\"Central Region\",\"Central Region\",\"Central Region\",\"Central Region\",\"Central Region\",\"Central Region\",\"Central Region\",\"Central Region\",\"Central Region\",\"Central Region\",\"Central Region\",\"Central Region\",\"Central Region\",\"Central Region\",\"Central Region\",\"Central Region\",\"Central Region\",\"Central Region\",\"Central Region\",\"Central Region\",\"Central Region\",\"Central Region\",\"Central Region\",\"Central Region\",\"Central Region\",\"Central Region\",\"Central Region\",\"Central Region\",\"Central Region\",\"Central Region\",\"Central Region\",\"Central Region\",\"Central Region\",\"Central Region\",\"Central Region\",\"Central Region\",\"Central Region\",\"Central Region\",\"Central Region\",\"Central Region\",\"Central Region\",\"Central Region\",\"Central Region\",\"Central Region\",\"Central Region\",\"Central Region\",\"Central Region\",\"Central Region\",\"Central Region\",\"Central Region\",\"Central Region\",\"Central Region\",\"Central Region\",\"Central Region\",\"Central Region\",\"Central Region\",\"Central Region\",\"Central Region\",\"Central Region\",\"Central Region\",\"Central Region\",\"Central Region\",\"Central Region\",\"Central Region\",\"Central Region\",\"Central Region\",\"Central Region\",\"Central Region\",\"Central Region\",\"Central Region\",\"Central Region\",\"Central Region\",\"Central Region\",\"Central Region\",\"Central Region\",\"Central Region\",\"Central Region\",\"Central Region\",\"Central Region\",\"Central Region\",\"Central Region\",\"Central Region\",\"Central Region\",\"Central Region\",\"Central Region\",\"Central Region\",\"Central Region\",\"Central Region\",\"Central Region\",\"Central Region\",\"Central Region\",\"Central Region\",\"Central Region\",\"Central Region\",\"Central Region\",\"Central Region\",\"Central Region\",\"Central Region\",\"Central Region\",\"Central Region\",\"Central Region\",\"Central Region\",\"Central Region\",\"Central Region\",\"Central Region\",\"Central Region\",\"Central Region\",\"Central Region\",\"Central Region\",\"Central Region\",\"Central Region\",\"Central Region\",\"Central Region\",\"Central Region\",\"Central Region\",\"Central Region\",\"Central Region\",\"Central Region\",\"Central Region\",\"Central Region\",\"Central Region\",\"Central Region\",\"Central Region\",\"Central Region\",\"Central Region\",\"Central Region\",\"Central Region\",\"Central Region\",\"Central Region\",\"Central Region\",\"Central Region\",\"Central Region\",\"Central Region\",\"Central Region\",\"Central Region\",\"Central Region\",\"Central Region\",\"Central Region\",\"Central Region\",\"Central Region\",\"Central Region\",\"Central Region\",\"Central Region\",\"Central Region\",\"Central Region\",\"Central Region\",\"Central Region\",\"Central Region\",\"Central Region\",\"Central Region\",\"Central Region\",\"Central Region\",\"Central Region\",\"Central Region\",\"Central Region\",\"Central Region\",\"Central Region\",\"Central Region\",\"Central Region\",\"Central Region\",\"Central Region\",\"Central Region\",\"Central Region\",\"Central Region\",\"Central Region\",\"Central Region\",\"Central Region\",\"Central Region\",\"Central Region\",\"Central Region\",\"Central Region\",\"Central Region\",\"Central Region\",\"Central Region\",\"Central Region\",\"Central Region\",\"Central Region\",\"Central Region\",\"Central Region\",\"Central Region\",\"Central Region\",\"Central Region\",\"Central Region\",\"Central Region\",\"Central Region\",\"Central Region\",\"Central Region\",\"Central Region\",\"Central Region\",\"Central Region\",\"Central Region\",\"Central Region\",\"Central Region\",\"Central Region\",\"Central Region\",\"Central Region\",\"Central Region\",\"Central Region\",\"Central Region\",\"Central Region\",\"Central Region\",\"Central Region\",\"Central Region\",\"Central Region\",\"Central Region\",\"Central Region\",\"Central Region\",\"Central Region\",\"Central Region\",\"Central Region\",\"Central Region\",\"Central Region\",\"Central Region\",\"Central Region\",\"Central Region\",\"Central Region\",\"Central Region\",\"Central Region\",\"Central Region\",\"Central Region\",\"Central Region\",\"Central Region\",\"Central Region\",\"Central Region\",\"Central Region\",\"Central Region\",\"Central Region\",\"Central Region\",\"Central Region\",\"Central Region\",\"Central Region\",\"Central Region\",\"Central Region\",\"Central Region\",\"Central Region\",\"Central Region\",\"Central Region\",\"Central Region\",\"Central Region\",\"Central Region\",\"Central Region\",\"Central Region\",\"Central Region\",\"Central Region\",\"Central Region\",\"Central Region\",\"Central Region\",\"Central Region\",\"Central Region\",\"Central Region\",\"Central Region\",\"Central Region\",\"Central Region\",\"Central Region\",\"Central Region\",\"Central Region\",\"Central Region\",\"Central Region\",\"Central Region\",\"Central Region\",\"Central Region\",\"Central Region\",\"Central Region\",\"Central Region\",\"Central Region\",\"Central Region\",\"Central Region\",\"Central Region\",\"Central Region\",\"Central Region\",\"Central Region\",\"Central Region\",\"Central Region\",\"Central Region\",\"Central Region\",\"Central Region\",\"Central Region\",\"Central Region\",\"Central Region\",\"Central Region\",\"Central Region\",\"Central Region\",\"Central Region\",\"Central Region\",\"Central Region\",\"Central Region\",\"Central Region\",\"Central Region\",\"Central Region\",\"Central Region\",\"Central Region\",\"Central Region\",\"Central Region\",\"Central Region\",\"Central Region\",\"Central Region\",\"Central Region\",\"Central Region\",\"Central Region\",\"Central Region\",\"Central Region\",\"Central Region\",\"Central Region\",\"Central Region\",\"Central Region\",\"Central Region\",\"Central Region\",\"Central Region\",\"Central Region\",\"Central Region\",\"Central Region\",\"Central Region\",\"Central Region\",\"Central Region\",\"Central Region\",\"Central Region\",\"Central Region\",\"Central Region\",\"Central Region\",\"Central Region\",\"Central Region\",\"Central Region\",\"Central Region\",\"Central Region\",\"Central Region\",\"Central Region\",\"Central Region\",\"Central Region\",\"Central Region\",\"Central Region\",\"Central Region\",\"Central Region\",\"Central Region\",\"Central Region\",\"Central Region\",\"Central Region\",\"Central Region\",\"Central Region\",\"Central Region\",\"Central Region\",\"Central Region\",\"Central Region\",\"Central Region\",\"Central Region\",\"Central Region\",\"Central Region\",\"Central Region\",\"Central Region\",\"Central Region\",\"Central Region\",\"Central Region\",\"Central Region\",\"Central Region\",\"Central Region\",\"Central Region\",\"Central Region\",\"Central Region\",\"Central Region\",\"Central Region\",\"Central Region\",\"Central Region\",\"Central Region\",\"Central Region\",\"Central Region\",\"Central Region\",\"Central Region\",\"Central Region\",\"Central Region\",\"Central Region\",\"Central Region\",\"Central Region\",\"Central Region\",\"Central Region\",\"Central Region\",\"Central Region\",\"Central Region\",\"Central Region\",\"Central Region\",\"Central Region\",\"Central Region\",\"Central Region\",\"Central Region\",\"Central Region\",\"Central Region\",\"Central Region\",\"Central Region\",\"Central Region\",\"Central Region\",\"Central Region\",\"Central Region\",\"Central Region\",\"Central Region\",\"Central Region\",\"Central Region\",\"Central Region\",\"Central Region\",\"Central Region\",\"Central Region\",\"Central Region\",\"Central Region\",\"Central Region\",\"Central Region\",\"Central Region\",\"Central Region\",\"Central Region\",\"Central Region\",\"Central Region\",\"Central Region\",\"Central Region\",\"Central Region\",\"Central Region\",\"Central Region\",\"Central Region\",\"Central Region\",\"Central Region\",\"Central Region\",\"Central Region\",\"Central Region\",\"Central Region\",\"Central Region\",\"Central Region\",\"Central Region\",\"Central Region\",\"Central Region\",\"Central Region\",\"Central Region\",\"Central Region\",\"Central Region\",\"Central Region\",\"Central Region\",\"Central Region\",\"Central Region\",\"Central Region\",\"Central Region\",\"Central Region\",\"Central Region\",\"Central Region\",\"Central Region\",\"Central Region\",\"Central Region\",\"Central Region\",\"Central Region\",\"Central Region\",\"Central Region\",\"Central Region\",\"Central Region\",\"Central Region\",\"Central Region\",\"Central Region\",\"Central Region\",\"Central Region\",\"Central Region\",\"Central Region\",\"Central Region\",\"Central Region\",\"Central Region\",\"Central Region\",\"Central Region\",\"Central Region\",\"Central Region\",\"Central Region\",\"Central Region\",\"Central Region\",\"Central Region\",\"Central Region\",\"Central Region\",\"Central Region\",\"Central Region\",\"Central Region\",\"Central Region\",\"Central Region\",\"Central Region\",\"Central Region\",\"Central Region\",\"Central Region\",\"Central Region\",\"Central Region\",\"Central Region\",\"Central Region\",\"Central Region\",\"Central Region\",\"Central Region\",\"Central Region\",\"Central Region\",\"Central Region\",\"Central Region\",\"Central Region\",\"Central Region\",\"Central Region\",\"Central Region\",\"Central Region\",\"Central Region\",\"Central Region\",\"Central Region\",\"Central Region\",\"Central Region\",\"Central Region\",\"Central Region\",\"Central Region\",\"Central Region\",\"Central Region\",\"Central Region\",\"Central Region\",\"Central Region\",\"Central Region\",\"Central Region\",\"Central Region\",\"Central Region\",\"Central Region\",\"Central Region\",\"Central Region\",\"Central Region\",\"Central Region\",\"Central Region\",\"Central Region\",\"Central Region\",\"Central Region\",\"Central Region\",\"Central Region\",\"Central Region\",\"Central Region\",\"Central Region\",\"Central Region\",\"Central Region\",\"Central Region\",\"Central Region\",\"Central Region\",\"Central Region\",\"Central Region\",\"Central Region\",\"Central Region\",\"Central Region\",\"Central Region\",\"Central Region\",\"Central Region\",\"Central Region\",\"Central Region\",\"Central Region\",\"Central Region\",\"Central Region\",\"Central Region\",\"Central Region\",\"Central Region\",\"Central Region\",\"Central Region\",\"Central Region\",\"Central Region\",\"Central Region\",\"Central Region\",\"Central Region\",\"Central Region\",\"Central Region\",\"Central Region\",\"Central Region\",\"Central Region\",\"Central Region\",\"Central Region\",\"Central Region\",\"Central Region\",\"Central Region\",\"Central Region\",\"Central Region\",\"Central Region\",\"Central Region\",\"Central Region\",\"Central Region\",\"Central Region\",\"Central Region\",\"Central Region\",\"Central Region\",\"Central Region\",\"Central Region\",\"Central Region\",\"Central Region\",\"Central Region\",\"Central Region\",\"Central Region\",\"Central Region\",\"Central Region\",\"Central Region\",\"Central Region\",\"Central Region\",\"Central Region\",\"Central Region\",\"Central Region\",\"Central Region\",\"Central Region\",\"Central Region\",\"Central Region\",\"Central Region\",\"Central Region\",\"Central Region\",\"Central Region\",\"Central Region\",\"Central Region\",\"Central Region\",\"Central Region\",\"Central Region\",\"Central Region\",\"Central Region\",\"Central Region\",\"Central Region\",\"Central Region\",\"Central Region\",\"Central Region\",\"Central Region\",\"Central Region\",\"Central Region\",\"Central Region\",\"Central Region\",\"Central Region\",\"Central Region\",\"Central Region\",\"Central Region\",\"Central Region\",\"Central Region\",\"Central Region\",\"Central Region\",\"Central Region\",\"Central Region\",\"Central Region\",\"Central Region\",\"Central Region\",\"Central Region\",\"Central Region\",\"Central Region\",\"Central Region\",\"Central Region\",\"Central Region\",\"Central Region\",\"Central Region\",\"Central Region\",\"Central Region\",\"Central Region\",\"Central Region\",\"Central Region\",\"Central Region\",\"Central Region\",\"Central Region\",\"Central Region\",\"Central Region\",\"Central Region\",\"Central Region\",\"Central Region\",\"Central Region\",\"Central Region\",\"Central Region\",\"Central Region\",\"Central Region\",\"Central Region\",\"Central Region\",\"Central Region\",\"Central Region\",\"Central Region\",\"Central Region\",\"Central Region\",\"Central Region\",\"Central Region\",\"Central Region\",\"Central Region\",\"Central Region\",\"Central Region\",\"Central Region\",\"Central Region\",\"Central Region\",\"Central Region\",\"Central Region\",\"Central Region\",\"Central Region\",\"Central Region\",\"Central Region\",\"Central Region\",\"Central Region\",\"Central Region\",\"Central Region\",\"Central Region\",\"Central Region\",\"Central Region\",\"Central Region\",\"Central Region\",\"Central Region\",\"Central Region\",\"Central Region\",\"Central Region\",\"Central Region\",\"Central Region\",\"Central Region\",\"Central Region\",\"Central Region\",\"Central Region\",\"Central Region\",\"Central Region\",\"Central Region\",\"Central Region\",\"Central Region\",\"Central Region\",\"Central Region\",\"Central Region\",\"Central Region\",\"Central Region\",\"Central Region\",\"Central Region\",\"Central Region\",\"Central Region\",\"Central Region\",\"Central Region\",\"Central Region\",\"Central Region\",\"Central Region\",\"Central Region\",\"Central Region\",\"Central Region\",\"Central Region\",\"Central Region\",\"Central Region\",\"Central Region\",\"Central Region\",\"Central Region\",\"Central Region\",\"Central Region\",\"Central Region\",\"Central Region\",\"Central Region\",\"Central Region\",\"Central Region\",\"Central Region\",\"Central Region\",\"Central Region\",\"Central Region\",\"Central Region\",\"Central Region\",\"Central Region\",\"Central Region\",\"Central Region\",\"Central Region\",\"Central Region\",\"Central Region\",\"Central Region\",\"Central Region\",\"Central Region\",\"Central Region\",\"Central Region\",\"Central Region\",\"Central Region\",\"Central Region\",\"Central Region\",\"Central Region\",\"Central Region\",\"Central Region\",\"Central Region\",\"Central Region\",\"Central Region\",\"Central Region\",\"Central Region\",\"Central Region\",\"Central Region\",\"Central Region\",\"Central Region\",\"Central Region\",\"Central Region\",\"Central Region\",\"Central Region\",\"Central Region\",\"Central Region\",\"Central Region\",\"Central Region\",\"Central Region\",\"Central Region\",\"Central Region\",\"Central Region\",\"Central Region\",\"Central Region\",\"Central Region\",\"Central Region\",\"Central Region\",\"Central Region\",\"Central Region\",\"Central Region\",\"Central Region\",\"Central Region\",\"Central Region\",\"Central Region\",\"Central Region\",\"Central Region\",\"Central Region\",\"Central Region\",\"Central Region\",\"Central Region\",\"Central Region\",\"Central Region\",\"Central Region\",\"Central Region\",\"Central Region\",\"Central Region\",\"Central Region\",\"Central Region\",\"Central Region\",\"Central Region\",\"Central Region\",\"Central Region\",\"Central Region\",\"Central Region\",\"Central Region\",\"Central Region\",\"Central Region\",\"Central Region\",\"Central Region\",\"Central Region\",\"Central Region\",\"Central Region\",\"Central Region\",\"Central Region\",\"Central Region\",\"Central Region\",\"Central Region\",\"Central Region\",\"Central Region\",\"Central Region\",\"Central Region\",\"Central Region\",\"Central Region\",\"Central Region\",\"Central Region\",\"Central Region\",\"Central Region\",\"Central Region\",\"Central Region\",\"Central Region\",\"Central Region\",\"Central Region\",\"Central Region\",\"Central Region\",\"Central Region\",\"Central Region\",\"Central Region\",\"Central Region\",\"Central Region\",\"Central Region\",\"Central Region\",\"Central Region\",\"Central Region\",\"Central Region\",\"Central Region\",\"Central Region\",\"Central Region\",\"Central Region\",\"Central Region\",\"Central Region\",\"Central Region\",\"Central Region\",\"Central Region\",\"Central Region\",\"Central Region\",\"Central Region\",\"Central Region\",\"Central Region\",\"Central Region\",\"Central Region\",\"Central Region\",\"Central Region\",\"Central Region\",\"Central Region\",\"Central Region\",\"Central Region\",\"Central Region\",\"Central Region\",\"Central Region\",\"Central Region\",\"Central Region\",\"Central Region\",\"Central Region\",\"Central Region\",\"Central Region\",\"Central Region\",\"Central Region\",\"Central Region\",\"Central Region\",\"Central Region\",\"Central Region\",\"Central Region\",\"Central Region\",\"Central Region\",\"Central Region\",\"Central Region\",\"Central Region\",\"Central Region\",\"Central Region\",\"Central Region\",\"Central Region\",\"Central Region\",\"Central Region\",\"Central Region\",\"Central Region\",\"Central Region\",\"Central Region\",\"Central Region\",\"Central Region\",\"Central Region\",\"Central Region\",\"Central Region\",\"Central Region\",\"Central Region\",\"Central Region\",\"Central Region\",\"Central Region\",\"Central Region\",\"Central Region\",\"Central Region\",\"Central Region\",\"Central Region\",\"Central Region\",\"Central Region\",\"Central Region\",\"Central Region\",\"Central Region\",\"Central Region\",\"Central Region\",\"Central Region\",\"Central Region\",\"Central Region\",\"Central Region\",\"Central Region\",\"Central Region\",\"Central Region\",\"Central Region\",\"Central Region\",\"Central Region\",\"Central Region\",\"Central Region\",\"Central Region\",\"Central Region\",\"Central Region\",\"Central Region\",\"Central Region\",\"Central Region\",\"Central Region\",\"Central Region\",\"Central Region\",\"Central Region\",\"Central Region\",\"Central Region\",\"Central Region\",\"Central Region\",\"Central Region\",\"Central Region\",\"Central Region\",\"Central Region\",\"Central Region\",\"Central Region\",\"Central Region\",\"Central Region\",\"Central Region\",\"Central Region\",\"Central Region\",\"Central Region\",\"Central Region\",\"Central Region\",\"Central Region\",\"Central Region\",\"Central Region\",\"Central Region\",\"Central Region\",\"Central Region\",\"Central Region\",\"Central Region\",\"Central Region\",\"Central Region\",\"Central Region\",\"Central Region\",\"Central Region\",\"Central Region\",\"Central Region\",\"Central Region\",\"Central Region\",\"Central Region\",\"Central Region\",\"Central Region\",\"Central Region\",\"Central Region\",\"Central Region\",\"Central Region\",\"Central Region\",\"Central Region\",\"Central Region\",\"Central Region\",\"Central Region\",\"Central Region\",\"Central Region\",\"Central Region\",\"Central Region\",\"Central Region\",\"Central Region\",\"Central Region\",\"Central Region\",\"Central Region\",\"Central Region\",\"Central Region\",\"Central Region\",\"Central Region\",\"Central Region\",\"Central Region\",\"Central Region\",\"Central Region\",\"Central Region\",\"Central Region\",\"Central Region\",\"Central Region\",\"Central Region\",\"Central Region\",\"Central Region\",\"Central Region\",\"Central Region\",\"Central Region\",\"Central Region\",\"Central Region\",\"Central Region\",\"Central Region\",\"Central Region\",\"Central Region\",\"Central Region\",\"Central Region\",\"Central Region\",\"Central Region\",\"Central Region\",\"Central Region\",\"Central Region\",\"Central Region\",\"Central Region\",\"Central Region\",\"Central Region\",\"Central Region\",\"Central Region\",\"Central Region\",\"Central Region\",\"Central Region\",\"Central Region\",\"Central Region\",\"Central Region\",\"Central Region\",\"Central Region\",\"Central Region\",\"Central Region\",\"Central Region\",\"Central Region\",\"Central Region\",\"Central Region\",\"Central Region\",\"Central Region\",\"Central Region\",\"Central Region\",\"Central Region\",\"Central Region\",\"Central Region\",\"Central Region\",\"Central Region\",\"Central Region\",\"Central Region\",\"Central Region\",\"Central Region\",\"Central Region\",\"Central Region\",\"Central Region\",\"Central Region\",\"Central Region\",\"Central Region\",\"Central Region\",\"Central Region\",\"Central Region\",\"Central Region\",\"Central Region\",\"Central Region\",\"Central Region\",\"Central Region\",\"Central Region\",\"Central Region\",\"Central Region\",\"Central Region\",\"Central Region\",\"Central Region\",\"Central Region\",\"Central Region\",\"Central Region\",\"Central Region\",\"Central Region\",\"Central Region\",\"Central Region\",\"Central Region\",\"Central Region\",\"Central Region\",\"Central Region\",\"Central Region\",\"Central Region\",\"Central Region\",\"Central Region\",\"Central Region\",\"Central Region\",\"Central Region\",\"Central Region\",\"Central Region\",\"Central Region\",\"Central Region\",\"Central Region\",\"Central Region\",\"Central Region\",\"Central Region\",\"Central Region\",\"Central Region\",\"Central Region\",\"Central Region\",\"Central Region\",\"Central Region\",\"Central Region\",\"Central Region\",\"Central Region\",\"Central Region\",\"Central Region\",\"Central Region\",\"Central Region\",\"Central Region\",\"Central Region\",\"Central Region\",\"Central Region\",\"Central Region\",\"Central Region\",\"Central Region\",\"Central Region\",\"Central Region\",\"Central Region\",\"Central Region\",\"Central Region\",\"Central Region\",\"Central Region\",\"Central Region\",\"Central Region\",\"Central Region\",\"Central Region\",\"Central Region\",\"Central Region\",\"Central Region\",\"Central Region\",\"Central Region\",\"Central Region\",\"Central Region\",\"Central Region\",\"Central Region\",\"Central Region\",\"Central Region\",\"Central Region\",\"Central Region\",\"Central Region\",\"Central Region\",\"Central Region\",\"Central Region\",\"Central Region\",\"Central Region\",\"Central Region\",\"Central Region\",\"Central Region\",\"Central Region\",\"Central Region\",\"Central Region\",\"Central Region\",\"Central Region\",\"Central Region\",\"Central Region\",\"Central Region\",\"Central Region\",\"Central Region\",\"Central Region\",\"Central Region\",\"Central Region\",\"Central Region\",\"Central Region\",\"Central Region\",\"Central Region\",\"Central Region\",\"Central Region\",\"Central Region\",\"Central Region\",\"Central Region\",\"Central Region\",\"Central Region\",\"Central Region\",\"Central Region\",\"Central Region\",\"Central Region\",\"Central Region\",\"Central Region\",\"Central Region\",\"Central Region\",\"Central Region\",\"Central Region\",\"Central Region\",\"Central Region\",\"Central Region\",\"Central Region\",\"Central Region\",\"Central Region\",\"Central Region\",\"Central Region\",\"Central Region\",\"Central Region\",\"Central Region\",\"Central Region\",\"Central Region\",\"Central Region\",\"Central Region\",\"Central Region\",\"Central Region\",\"Central Region\",\"Central Region\",\"Central Region\",\"Central Region\",\"Central Region\",\"Central Region\",\"Central Region\",\"Central Region\",\"Central Region\",\"Central Region\",\"Central Region\",\"Central Region\",\"Central Region\",\"Central Region\",\"Central Region\",\"Central Region\",\"Central Region\",\"Central Region\",\"Central Region\",\"Central Region\",\"Central Region\",\"Central Region\",\"Central Region\",\"Central Region\",\"Central Region\",\"Central Region\",\"Central Region\",\"Central Region\",\"Central Region\",\"Central Region\",\"Central Region\",\"Central Region\",\"Central Region\",\"Central Region\",\"Central Region\",\"Central Region\",\"Central Region\",\"Central Region\",\"Central Region\",\"Central Region\",\"Central Region\",\"Central Region\",\"Central Region\",\"Central Region\",\"Central Region\",\"Central Region\",\"Central Region\",\"Central Region\",\"Central Region\",\"Central Region\",\"Central Region\",\"Central Region\",\"Central Region\",\"Central Region\",\"Central Region\",\"Central Region\",\"Central Region\",\"Central Region\",\"Central Region\",\"Central Region\",\"Central Region\",\"Central Region\",\"Central Region\",\"Central Region\",\"Central Region\",\"Central Region\",\"Central Region\",\"Central Region\",\"Central Region\",\"Central Region\",\"Central Region\",\"Central Region\",\"Central Region\",\"Central Region\",\"Central Region\",\"Central Region\",\"Central Region\",\"Central Region\",\"Central Region\",\"Central Region\",\"Central Region\",\"Central Region\",\"Central Region\",\"Central Region\",\"Central Region\",\"Central Region\",\"Central Region\",\"Central Region\",\"Central Region\",\"Central Region\",\"Central Region\",\"Central Region\",\"Central Region\",\"Central Region\",\"Central Region\",\"Central Region\",\"Central Region\",\"Central Region\",\"Central Region\",\"Central Region\",\"Central Region\",\"Central Region\",\"Central Region\",\"Central Region\",\"Central Region\",\"Central Region\",\"Central Region\",\"Central Region\",\"Central Region\",\"Central Region\",\"Central Region\",\"Central Region\",\"Central Region\",\"Central Region\",\"Central Region\",\"Central Region\",\"Central Region\",\"Central Region\",\"Central Region\",\"Central Region\",\"Central Region\",\"Central Region\",\"Central Region\",\"Central Region\",\"Central Region\",\"Central Region\",\"Central Region\",\"Central Region\",\"Central Region\",\"Central Region\",\"Central Region\",\"Central Region\",\"Central Region\",\"Central Region\",\"Central Region\",\"Central Region\",\"Central Region\",\"Central Region\",\"Central Region\",\"Central Region\",\"Central Region\",\"Central Region\",\"Central Region\",\"Central Region\",\"Central Region\",\"Central Region\",\"Central Region\",\"Central Region\",\"Central Region\",\"Central Region\",\"Central Region\",\"Central Region\",\"Central Region\",\"Central Region\",\"Central Region\",\"Central Region\",\"Central Region\",\"Central Region\",\"Central Region\",\"Central Region\",\"Central Region\",\"Central Region\",\"Central Region\",\"Central Region\",\"Central Region\",\"Central Region\",\"Central Region\",\"Central Region\",\"Central Region\",\"Central Region\",\"Central Region\",\"Central Region\",\"Central Region\",\"Central Region\",\"Central Region\",\"Central Region\",\"Central Region\",\"Central Region\",\"Central Region\",\"Central Region\",\"Central Region\",\"Central Region\",\"Central Region\",\"Central Region\",\"Central Region\",\"Central Region\",\"Central Region\",\"Central Region\",\"Central Region\",\"Central Region\",\"Central Region\",\"Central Region\",\"Central Region\",\"Central Region\",\"Central Region\",\"Central Region\",\"Central Region\",\"Central Region\",\"Central Region\",\"Central Region\",\"Central Region\",\"Central Region\",\"Central Region\",\"Central Region\",\"Central Region\",\"Central Region\",\"Central Region\",\"Central Region\",\"Central Region\",\"Central Region\",\"Central Region\",\"Central Region\",\"Central Region\",\"Central Region\",\"Central Region\",\"Central Region\",\"Central Region\",\"Central Region\",\"Central Region\",\"Central Region\",\"Central Region\",\"Central Region\",\"Central Region\",\"Central Region\",\"Central Region\",\"Central Region\",\"Central Region\",\"Central Region\",\"Central Region\",\"Central Region\",\"Central Region\",\"Central Region\",\"Central Region\",\"Central Region\",\"Central Region\",\"Central Region\",\"Central Region\",\"Central Region\",\"Central Region\",\"Central Region\",\"Central Region\",\"Central Region\",\"Central Region\",\"Central Region\",\"Central Region\",\"Central Region\",\"Central Region\",\"Central Region\",\"Central Region\",\"Central Region\",\"Central Region\",\"Central Region\",\"Central Region\",\"Central Region\",\"Central Region\",\"Central Region\",\"Central Region\",\"Central Region\",\"Central Region\",\"Central Region\",\"Central Region\",\"Central Region\",\"Central Region\",\"Central Region\",\"Central Region\",\"Central Region\",\"Central Region\",\"Central Region\",\"Central Region\",\"Central Region\",\"Central Region\",\"Central Region\",\"Central Region\",\"Central Region\",\"Central Region\",\"Central Region\",\"Central Region\",\"Central Region\",\"Central Region\",\"Central Region\",\"Central Region\",\"Central Region\",\"Central Region\",\"Central Region\",\"Central Region\",\"Central Region\",\"Central Region\",\"Central Region\",\"Central Region\",\"Central Region\",\"Central Region\",\"Central Region\",\"Central Region\",\"Central Region\",\"Central Region\",\"Central Region\",\"Central Region\",\"Central Region\",\"Central Region\",\"Central Region\",\"Central Region\",\"Central Region\",\"Central Region\",\"Central Region\",\"Central Region\",\"Central Region\",\"Central Region\",\"Central Region\",\"Central Region\",\"Central Region\",\"Central Region\",\"Central Region\",\"Central Region\",\"Central Region\",\"Central Region\",\"Central Region\",\"Central Region\",\"Central Region\",\"Central Region\",\"Central Region\",\"Central Region\",\"Central Region\",\"Central Region\",\"Central Region\",\"Central Region\",\"Central Region\",\"Central Region\",\"Central Region\",\"Central Region\",\"Central Region\",\"Central Region\",\"Central Region\",\"Central Region\",\"Central Region\",\"Central Region\",\"Central Region\",\"Central Region\",\"Central Region\",\"Central Region\",\"Central Region\",\"Central Region\",\"Central Region\",\"Central Region\",\"Central Region\",\"Central Region\",\"Central Region\",\"Central Region\",\"Central Region\",\"Central Region\",\"Central Region\",\"Central Region\",\"Central Region\",\"Central Region\",\"Central Region\",\"Central Region\",\"Central Region\",\"Central Region\",\"Central Region\",\"Central Region\",\"Central Region\",\"Central Region\",\"Central Region\",\"Central Region\",\"Central Region\",\"Central Region\",\"Central Region\",\"Central Region\",\"Central Region\",\"Central Region\"],\"y0\":\" \",\"yaxis\":\"y\",\"type\":\"box\"},{\"alignmentgroup\":\"True\",\"hovertemplate\":\"neighbourhood_group=%{y}<br>price=%{x}<extra></extra>\",\"legendgroup\":\"East Region\",\"marker\":{\"color\":\"#EF553B\"},\"name\":\"East Region\",\"notched\":false,\"offsetgroup\":\"East Region\",\"orientation\":\"h\",\"showlegend\":true,\"x\":[95,49,60,68,139,88,1000,78,200,130,90,100,100,100,100,100,53,123,190,110,214,214,180,170,100,160,140,180,156,130,170,141,71,130,100,180,140,200,100,130,52,130,42,40,130,130,100,130,129,36,140,117,114,137,180,99,138,55,250,90,100,100,100,99,170,109,80,80,80,200,58,730,35,160,40,65,5000,105,90,288,198,60,140,140,160,160,160,160,140,140,180,180,140,120,140,120,40,130,358,99,140,106,111,141,1114,50,50,68,80,198,393,100,80,600,60,650,139,110,125,417,120,145,85,85,184,42,83,98,89,70,70,60,80,45,160,100,60,200,89,500,85,71,165,300,48],\"x0\":\" \",\"xaxis\":\"x\",\"y\":[\"East Region\",\"East Region\",\"East Region\",\"East Region\",\"East Region\",\"East Region\",\"East Region\",\"East Region\",\"East Region\",\"East Region\",\"East Region\",\"East Region\",\"East Region\",\"East Region\",\"East Region\",\"East Region\",\"East Region\",\"East Region\",\"East Region\",\"East Region\",\"East Region\",\"East Region\",\"East Region\",\"East Region\",\"East Region\",\"East Region\",\"East Region\",\"East Region\",\"East Region\",\"East Region\",\"East Region\",\"East Region\",\"East Region\",\"East Region\",\"East Region\",\"East Region\",\"East Region\",\"East Region\",\"East Region\",\"East Region\",\"East Region\",\"East Region\",\"East Region\",\"East Region\",\"East Region\",\"East Region\",\"East Region\",\"East Region\",\"East Region\",\"East Region\",\"East Region\",\"East Region\",\"East Region\",\"East Region\",\"East Region\",\"East Region\",\"East Region\",\"East Region\",\"East Region\",\"East Region\",\"East Region\",\"East Region\",\"East Region\",\"East Region\",\"East Region\",\"East Region\",\"East Region\",\"East Region\",\"East Region\",\"East Region\",\"East Region\",\"East Region\",\"East Region\",\"East Region\",\"East Region\",\"East Region\",\"East Region\",\"East Region\",\"East Region\",\"East Region\",\"East Region\",\"East Region\",\"East Region\",\"East Region\",\"East Region\",\"East Region\",\"East Region\",\"East Region\",\"East Region\",\"East Region\",\"East Region\",\"East Region\",\"East Region\",\"East Region\",\"East Region\",\"East Region\",\"East Region\",\"East Region\",\"East Region\",\"East Region\",\"East Region\",\"East Region\",\"East Region\",\"East Region\",\"East Region\",\"East Region\",\"East Region\",\"East Region\",\"East Region\",\"East Region\",\"East Region\",\"East Region\",\"East Region\",\"East Region\",\"East Region\",\"East Region\",\"East Region\",\"East Region\",\"East Region\",\"East Region\",\"East Region\",\"East Region\",\"East Region\",\"East Region\",\"East Region\",\"East Region\",\"East Region\",\"East Region\",\"East Region\",\"East Region\",\"East Region\",\"East Region\",\"East Region\",\"East Region\",\"East Region\",\"East Region\",\"East Region\",\"East Region\",\"East Region\",\"East Region\",\"East Region\",\"East Region\",\"East Region\",\"East Region\",\"East Region\"],\"y0\":\" \",\"yaxis\":\"y\",\"type\":\"box\"},{\"alignmentgroup\":\"True\",\"hovertemplate\":\"neighbourhood_group=%{y}<br>price=%{x}<extra></extra>\",\"legendgroup\":\"North-East Region\",\"marker\":{\"color\":\"#00cc96\"},\"name\":\"North-East Region\",\"notched\":false,\"offsetgroup\":\"North-East Region\",\"orientation\":\"h\",\"showlegend\":true,\"x\":[47,52,45,79,89,49,150,55,40,52,442,110,100,50,101,2300,64,44,44,500,99,185,40,78,70,50,90,546,510,300,647,518,486,722,578,542,62,511,60,49,55,60,150,85,500,333,150,100,140,67,330,120,35,26,106,90,100,90,60,130,148,200,109,90,90,135,40,78,70,60,186,186,120,150,1800,180,95,180,55],\"x0\":\" \",\"xaxis\":\"x\",\"y\":[\"North-East Region\",\"North-East Region\",\"North-East Region\",\"North-East Region\",\"North-East Region\",\"North-East Region\",\"North-East Region\",\"North-East Region\",\"North-East Region\",\"North-East Region\",\"North-East Region\",\"North-East Region\",\"North-East Region\",\"North-East Region\",\"North-East Region\",\"North-East Region\",\"North-East Region\",\"North-East Region\",\"North-East Region\",\"North-East Region\",\"North-East Region\",\"North-East Region\",\"North-East Region\",\"North-East Region\",\"North-East Region\",\"North-East Region\",\"North-East Region\",\"North-East Region\",\"North-East Region\",\"North-East Region\",\"North-East Region\",\"North-East Region\",\"North-East Region\",\"North-East Region\",\"North-East Region\",\"North-East Region\",\"North-East Region\",\"North-East Region\",\"North-East Region\",\"North-East Region\",\"North-East Region\",\"North-East Region\",\"North-East Region\",\"North-East Region\",\"North-East Region\",\"North-East Region\",\"North-East Region\",\"North-East Region\",\"North-East Region\",\"North-East Region\",\"North-East Region\",\"North-East Region\",\"North-East Region\",\"North-East Region\",\"North-East Region\",\"North-East Region\",\"North-East Region\",\"North-East Region\",\"North-East Region\",\"North-East Region\",\"North-East Region\",\"North-East Region\",\"North-East Region\",\"North-East Region\",\"North-East Region\",\"North-East Region\",\"North-East Region\",\"North-East Region\",\"North-East Region\",\"North-East Region\",\"North-East Region\",\"North-East Region\",\"North-East Region\",\"North-East Region\",\"North-East Region\",\"North-East Region\",\"North-East Region\",\"North-East Region\",\"North-East Region\"],\"y0\":\" \",\"yaxis\":\"y\",\"type\":\"box\"},{\"alignmentgroup\":\"True\",\"hovertemplate\":\"neighbourhood_group=%{y}<br>price=%{x}<extra></extra>\",\"legendgroup\":\"North Region\",\"marker\":{\"color\":\"#ab63fa\"},\"name\":\"North Region\",\"notched\":false,\"offsetgroup\":\"North Region\",\"orientation\":\"h\",\"showlegend\":true,\"x\":[193,510,149,300,575,9999,212,140,112,140,140,212,212,212,120,120,28,35,126,106,212,99,92,134,40,88,189,29,32,180,100,85,190,400,275,38,75,100,80,65,134,85,40,85,35,38,40,71,37,113,38,50,66,188,21,188,188,170,50,50,70,72,80,65,65],\"x0\":\" \",\"xaxis\":\"x\",\"y\":[\"North Region\",\"North Region\",\"North Region\",\"North Region\",\"North Region\",\"North Region\",\"North Region\",\"North Region\",\"North Region\",\"North Region\",\"North Region\",\"North Region\",\"North Region\",\"North Region\",\"North Region\",\"North Region\",\"North Region\",\"North Region\",\"North Region\",\"North Region\",\"North Region\",\"North Region\",\"North Region\",\"North Region\",\"North Region\",\"North Region\",\"North Region\",\"North Region\",\"North Region\",\"North Region\",\"North Region\",\"North Region\",\"North Region\",\"North Region\",\"North Region\",\"North Region\",\"North Region\",\"North Region\",\"North Region\",\"North Region\",\"North Region\",\"North Region\",\"North Region\",\"North Region\",\"North Region\",\"North Region\",\"North Region\",\"North Region\",\"North Region\",\"North Region\",\"North Region\",\"North Region\",\"North Region\",\"North Region\",\"North Region\",\"North Region\",\"North Region\",\"North Region\",\"North Region\",\"North Region\",\"North Region\",\"North Region\",\"North Region\",\"North Region\",\"North Region\"],\"y0\":\" \",\"yaxis\":\"y\",\"type\":\"box\"},{\"alignmentgroup\":\"True\",\"hovertemplate\":\"neighbourhood_group=%{y}<br>price=%{x}<extra></extra>\",\"legendgroup\":\"West Region\",\"marker\":{\"color\":\"#FFA15A\"},\"name\":\"West Region\",\"notched\":false,\"offsetgroup\":\"West Region\",\"orientation\":\"h\",\"showlegend\":true,\"x\":[259,88,88,86,180,160,160,40,40,44,235,90,65,180,120,140,98,219,80,250,38,79,141,33,55,49,70,80,53,55,35,92,98,55,80,73,40,59,80,43,160,236,387,135,474,340,75,48,405,390,60,528,490,390,118,410,75,436,621,571,160,225,259,300,629,801,600,640,472,503,280,320,255,255,475,231,519,200,215,500,260,451,345,190,390,48,430,420,390,390,430,400,209,295,62,58,60,90,150,90,120,55,220,64,144,151,180,144,70,128,195,230,400,270,300,450,260,315,311,426,68,280,189,260,165,250,300,103,90,250,1560,65,30,27,50,56,168,130,55,81,100,81,58,55,70,71,40,80,100,100,80,65,50,69,72,188,155,48,50,99,61,61,61,400,251,150,150,100,14,80,100,100,100,10286,70,51],\"x0\":\" \",\"xaxis\":\"x\",\"y\":[\"West Region\",\"West Region\",\"West Region\",\"West Region\",\"West Region\",\"West Region\",\"West Region\",\"West Region\",\"West Region\",\"West Region\",\"West Region\",\"West Region\",\"West Region\",\"West Region\",\"West Region\",\"West Region\",\"West Region\",\"West Region\",\"West Region\",\"West Region\",\"West Region\",\"West Region\",\"West Region\",\"West Region\",\"West Region\",\"West Region\",\"West Region\",\"West Region\",\"West Region\",\"West Region\",\"West Region\",\"West Region\",\"West Region\",\"West Region\",\"West Region\",\"West Region\",\"West Region\",\"West Region\",\"West Region\",\"West Region\",\"West Region\",\"West Region\",\"West Region\",\"West Region\",\"West Region\",\"West Region\",\"West Region\",\"West Region\",\"West Region\",\"West Region\",\"West Region\",\"West Region\",\"West Region\",\"West Region\",\"West Region\",\"West Region\",\"West Region\",\"West Region\",\"West Region\",\"West Region\",\"West Region\",\"West Region\",\"West Region\",\"West Region\",\"West Region\",\"West Region\",\"West Region\",\"West Region\",\"West Region\",\"West Region\",\"West Region\",\"West Region\",\"West Region\",\"West Region\",\"West Region\",\"West Region\",\"West Region\",\"West Region\",\"West Region\",\"West Region\",\"West Region\",\"West Region\",\"West Region\",\"West Region\",\"West Region\",\"West Region\",\"West Region\",\"West Region\",\"West Region\",\"West Region\",\"West Region\",\"West Region\",\"West Region\",\"West Region\",\"West Region\",\"West Region\",\"West Region\",\"West Region\",\"West Region\",\"West Region\",\"West Region\",\"West Region\",\"West Region\",\"West Region\",\"West Region\",\"West Region\",\"West Region\",\"West Region\",\"West Region\",\"West Region\",\"West Region\",\"West Region\",\"West Region\",\"West Region\",\"West Region\",\"West Region\",\"West Region\",\"West Region\",\"West Region\",\"West Region\",\"West Region\",\"West Region\",\"West Region\",\"West Region\",\"West Region\",\"West Region\",\"West Region\",\"West Region\",\"West Region\",\"West Region\",\"West Region\",\"West Region\",\"West Region\",\"West Region\",\"West Region\",\"West Region\",\"West Region\",\"West Region\",\"West Region\",\"West Region\",\"West Region\",\"West Region\",\"West Region\",\"West Region\",\"West Region\",\"West Region\",\"West Region\",\"West Region\",\"West Region\",\"West Region\",\"West Region\",\"West Region\",\"West Region\",\"West Region\",\"West Region\",\"West Region\",\"West Region\",\"West Region\",\"West Region\",\"West Region\",\"West Region\",\"West Region\",\"West Region\",\"West Region\",\"West Region\",\"West Region\",\"West Region\",\"West Region\",\"West Region\",\"West Region\",\"West Region\",\"West Region\",\"West Region\",\"West Region\",\"West Region\",\"West Region\"],\"y0\":\" \",\"yaxis\":\"y\",\"type\":\"box\"}],                        {\"template\":{\"data\":{\"histogram2dcontour\":[{\"type\":\"histogram2dcontour\",\"colorbar\":{\"outlinewidth\":0,\"ticks\":\"\"},\"colorscale\":[[0.0,\"#0d0887\"],[0.1111111111111111,\"#46039f\"],[0.2222222222222222,\"#7201a8\"],[0.3333333333333333,\"#9c179e\"],[0.4444444444444444,\"#bd3786\"],[0.5555555555555556,\"#d8576b\"],[0.6666666666666666,\"#ed7953\"],[0.7777777777777778,\"#fb9f3a\"],[0.8888888888888888,\"#fdca26\"],[1.0,\"#f0f921\"]]}],\"choropleth\":[{\"type\":\"choropleth\",\"colorbar\":{\"outlinewidth\":0,\"ticks\":\"\"}}],\"histogram2d\":[{\"type\":\"histogram2d\",\"colorbar\":{\"outlinewidth\":0,\"ticks\":\"\"},\"colorscale\":[[0.0,\"#0d0887\"],[0.1111111111111111,\"#46039f\"],[0.2222222222222222,\"#7201a8\"],[0.3333333333333333,\"#9c179e\"],[0.4444444444444444,\"#bd3786\"],[0.5555555555555556,\"#d8576b\"],[0.6666666666666666,\"#ed7953\"],[0.7777777777777778,\"#fb9f3a\"],[0.8888888888888888,\"#fdca26\"],[1.0,\"#f0f921\"]]}],\"heatmap\":[{\"type\":\"heatmap\",\"colorbar\":{\"outlinewidth\":0,\"ticks\":\"\"},\"colorscale\":[[0.0,\"#0d0887\"],[0.1111111111111111,\"#46039f\"],[0.2222222222222222,\"#7201a8\"],[0.3333333333333333,\"#9c179e\"],[0.4444444444444444,\"#bd3786\"],[0.5555555555555556,\"#d8576b\"],[0.6666666666666666,\"#ed7953\"],[0.7777777777777778,\"#fb9f3a\"],[0.8888888888888888,\"#fdca26\"],[1.0,\"#f0f921\"]]}],\"heatmapgl\":[{\"type\":\"heatmapgl\",\"colorbar\":{\"outlinewidth\":0,\"ticks\":\"\"},\"colorscale\":[[0.0,\"#0d0887\"],[0.1111111111111111,\"#46039f\"],[0.2222222222222222,\"#7201a8\"],[0.3333333333333333,\"#9c179e\"],[0.4444444444444444,\"#bd3786\"],[0.5555555555555556,\"#d8576b\"],[0.6666666666666666,\"#ed7953\"],[0.7777777777777778,\"#fb9f3a\"],[0.8888888888888888,\"#fdca26\"],[1.0,\"#f0f921\"]]}],\"contourcarpet\":[{\"type\":\"contourcarpet\",\"colorbar\":{\"outlinewidth\":0,\"ticks\":\"\"}}],\"contour\":[{\"type\":\"contour\",\"colorbar\":{\"outlinewidth\":0,\"ticks\":\"\"},\"colorscale\":[[0.0,\"#0d0887\"],[0.1111111111111111,\"#46039f\"],[0.2222222222222222,\"#7201a8\"],[0.3333333333333333,\"#9c179e\"],[0.4444444444444444,\"#bd3786\"],[0.5555555555555556,\"#d8576b\"],[0.6666666666666666,\"#ed7953\"],[0.7777777777777778,\"#fb9f3a\"],[0.8888888888888888,\"#fdca26\"],[1.0,\"#f0f921\"]]}],\"surface\":[{\"type\":\"surface\",\"colorbar\":{\"outlinewidth\":0,\"ticks\":\"\"},\"colorscale\":[[0.0,\"#0d0887\"],[0.1111111111111111,\"#46039f\"],[0.2222222222222222,\"#7201a8\"],[0.3333333333333333,\"#9c179e\"],[0.4444444444444444,\"#bd3786\"],[0.5555555555555556,\"#d8576b\"],[0.6666666666666666,\"#ed7953\"],[0.7777777777777778,\"#fb9f3a\"],[0.8888888888888888,\"#fdca26\"],[1.0,\"#f0f921\"]]}],\"mesh3d\":[{\"type\":\"mesh3d\",\"colorbar\":{\"outlinewidth\":0,\"ticks\":\"\"}}],\"scatter\":[{\"fillpattern\":{\"fillmode\":\"overlay\",\"size\":10,\"solidity\":0.2},\"type\":\"scatter\"}],\"parcoords\":[{\"type\":\"parcoords\",\"line\":{\"colorbar\":{\"outlinewidth\":0,\"ticks\":\"\"}}}],\"scatterpolargl\":[{\"type\":\"scatterpolargl\",\"marker\":{\"colorbar\":{\"outlinewidth\":0,\"ticks\":\"\"}}}],\"bar\":[{\"error_x\":{\"color\":\"#2a3f5f\"},\"error_y\":{\"color\":\"#2a3f5f\"},\"marker\":{\"line\":{\"color\":\"#E5ECF6\",\"width\":0.5},\"pattern\":{\"fillmode\":\"overlay\",\"size\":10,\"solidity\":0.2}},\"type\":\"bar\"}],\"scattergeo\":[{\"type\":\"scattergeo\",\"marker\":{\"colorbar\":{\"outlinewidth\":0,\"ticks\":\"\"}}}],\"scatterpolar\":[{\"type\":\"scatterpolar\",\"marker\":{\"colorbar\":{\"outlinewidth\":0,\"ticks\":\"\"}}}],\"histogram\":[{\"marker\":{\"pattern\":{\"fillmode\":\"overlay\",\"size\":10,\"solidity\":0.2}},\"type\":\"histogram\"}],\"scattergl\":[{\"type\":\"scattergl\",\"marker\":{\"colorbar\":{\"outlinewidth\":0,\"ticks\":\"\"}}}],\"scatter3d\":[{\"type\":\"scatter3d\",\"line\":{\"colorbar\":{\"outlinewidth\":0,\"ticks\":\"\"}},\"marker\":{\"colorbar\":{\"outlinewidth\":0,\"ticks\":\"\"}}}],\"scattermapbox\":[{\"type\":\"scattermapbox\",\"marker\":{\"colorbar\":{\"outlinewidth\":0,\"ticks\":\"\"}}}],\"scatterternary\":[{\"type\":\"scatterternary\",\"marker\":{\"colorbar\":{\"outlinewidth\":0,\"ticks\":\"\"}}}],\"scattercarpet\":[{\"type\":\"scattercarpet\",\"marker\":{\"colorbar\":{\"outlinewidth\":0,\"ticks\":\"\"}}}],\"carpet\":[{\"aaxis\":{\"endlinecolor\":\"#2a3f5f\",\"gridcolor\":\"white\",\"linecolor\":\"white\",\"minorgridcolor\":\"white\",\"startlinecolor\":\"#2a3f5f\"},\"baxis\":{\"endlinecolor\":\"#2a3f5f\",\"gridcolor\":\"white\",\"linecolor\":\"white\",\"minorgridcolor\":\"white\",\"startlinecolor\":\"#2a3f5f\"},\"type\":\"carpet\"}],\"table\":[{\"cells\":{\"fill\":{\"color\":\"#EBF0F8\"},\"line\":{\"color\":\"white\"}},\"header\":{\"fill\":{\"color\":\"#C8D4E3\"},\"line\":{\"color\":\"white\"}},\"type\":\"table\"}],\"barpolar\":[{\"marker\":{\"line\":{\"color\":\"#E5ECF6\",\"width\":0.5},\"pattern\":{\"fillmode\":\"overlay\",\"size\":10,\"solidity\":0.2}},\"type\":\"barpolar\"}],\"pie\":[{\"automargin\":true,\"type\":\"pie\"}]},\"layout\":{\"autotypenumbers\":\"strict\",\"colorway\":[\"#636efa\",\"#EF553B\",\"#00cc96\",\"#ab63fa\",\"#FFA15A\",\"#19d3f3\",\"#FF6692\",\"#B6E880\",\"#FF97FF\",\"#FECB52\"],\"font\":{\"color\":\"#2a3f5f\"},\"hovermode\":\"closest\",\"hoverlabel\":{\"align\":\"left\"},\"paper_bgcolor\":\"white\",\"plot_bgcolor\":\"#E5ECF6\",\"polar\":{\"bgcolor\":\"#E5ECF6\",\"angularaxis\":{\"gridcolor\":\"white\",\"linecolor\":\"white\",\"ticks\":\"\"},\"radialaxis\":{\"gridcolor\":\"white\",\"linecolor\":\"white\",\"ticks\":\"\"}},\"ternary\":{\"bgcolor\":\"#E5ECF6\",\"aaxis\":{\"gridcolor\":\"white\",\"linecolor\":\"white\",\"ticks\":\"\"},\"baxis\":{\"gridcolor\":\"white\",\"linecolor\":\"white\",\"ticks\":\"\"},\"caxis\":{\"gridcolor\":\"white\",\"linecolor\":\"white\",\"ticks\":\"\"}},\"coloraxis\":{\"colorbar\":{\"outlinewidth\":0,\"ticks\":\"\"}},\"colorscale\":{\"sequential\":[[0.0,\"#0d0887\"],[0.1111111111111111,\"#46039f\"],[0.2222222222222222,\"#7201a8\"],[0.3333333333333333,\"#9c179e\"],[0.4444444444444444,\"#bd3786\"],[0.5555555555555556,\"#d8576b\"],[0.6666666666666666,\"#ed7953\"],[0.7777777777777778,\"#fb9f3a\"],[0.8888888888888888,\"#fdca26\"],[1.0,\"#f0f921\"]],\"sequentialminus\":[[0.0,\"#0d0887\"],[0.1111111111111111,\"#46039f\"],[0.2222222222222222,\"#7201a8\"],[0.3333333333333333,\"#9c179e\"],[0.4444444444444444,\"#bd3786\"],[0.5555555555555556,\"#d8576b\"],[0.6666666666666666,\"#ed7953\"],[0.7777777777777778,\"#fb9f3a\"],[0.8888888888888888,\"#fdca26\"],[1.0,\"#f0f921\"]],\"diverging\":[[0,\"#8e0152\"],[0.1,\"#c51b7d\"],[0.2,\"#de77ae\"],[0.3,\"#f1b6da\"],[0.4,\"#fde0ef\"],[0.5,\"#f7f7f7\"],[0.6,\"#e6f5d0\"],[0.7,\"#b8e186\"],[0.8,\"#7fbc41\"],[0.9,\"#4d9221\"],[1,\"#276419\"]]},\"xaxis\":{\"gridcolor\":\"white\",\"linecolor\":\"white\",\"ticks\":\"\",\"title\":{\"standoff\":15},\"zerolinecolor\":\"white\",\"automargin\":true,\"zerolinewidth\":2},\"yaxis\":{\"gridcolor\":\"white\",\"linecolor\":\"white\",\"ticks\":\"\",\"title\":{\"standoff\":15},\"zerolinecolor\":\"white\",\"automargin\":true,\"zerolinewidth\":2},\"scene\":{\"xaxis\":{\"backgroundcolor\":\"#E5ECF6\",\"gridcolor\":\"white\",\"linecolor\":\"white\",\"showbackground\":true,\"ticks\":\"\",\"zerolinecolor\":\"white\",\"gridwidth\":2},\"yaxis\":{\"backgroundcolor\":\"#E5ECF6\",\"gridcolor\":\"white\",\"linecolor\":\"white\",\"showbackground\":true,\"ticks\":\"\",\"zerolinecolor\":\"white\",\"gridwidth\":2},\"zaxis\":{\"backgroundcolor\":\"#E5ECF6\",\"gridcolor\":\"white\",\"linecolor\":\"white\",\"showbackground\":true,\"ticks\":\"\",\"zerolinecolor\":\"white\",\"gridwidth\":2}},\"shapedefaults\":{\"line\":{\"color\":\"#2a3f5f\"}},\"annotationdefaults\":{\"arrowcolor\":\"#2a3f5f\",\"arrowhead\":0,\"arrowwidth\":1},\"geo\":{\"bgcolor\":\"white\",\"landcolor\":\"#E5ECF6\",\"subunitcolor\":\"white\",\"showland\":true,\"showlakes\":true,\"lakecolor\":\"white\"},\"title\":{\"x\":0.05},\"mapbox\":{\"style\":\"light\"}}},\"xaxis\":{\"anchor\":\"y\",\"domain\":[0.0,1.0],\"title\":{\"text\":\"price\"}},\"yaxis\":{\"anchor\":\"x\",\"domain\":[0.0,1.0],\"title\":{\"text\":\"neighbourhood_group\"},\"categoryorder\":\"array\",\"categoryarray\":[\"West Region\",\"North Region\",\"North-East Region\",\"East Region\",\"Central Region\"]},\"legend\":{\"title\":{\"text\":\"neighbourhood_group\"},\"tracegroupgap\":0},\"margin\":{\"t\":60},\"boxmode\":\"overlay\"},                        {\"responsive\": true}                    ).then(function(){\n",
              "                            \n",
              "var gd = document.getElementById('f8b4a7d3-82c6-4a07-933f-cbc33c2f1da4');\n",
              "var x = new MutationObserver(function (mutations, observer) {{\n",
              "        var display = window.getComputedStyle(gd).display;\n",
              "        if (!display || display === 'none') {{\n",
              "            console.log([gd, 'removed!']);\n",
              "            Plotly.purge(gd);\n",
              "            observer.disconnect();\n",
              "        }}\n",
              "}});\n",
              "\n",
              "// Listen for the removal of the full notebook cells\n",
              "var notebookContainer = gd.closest('#notebook-container');\n",
              "if (notebookContainer) {{\n",
              "    x.observe(notebookContainer, {childList: true});\n",
              "}}\n",
              "\n",
              "// Listen for the clearing of the current output cell\n",
              "var outputEl = gd.closest('.output');\n",
              "if (outputEl) {{\n",
              "    x.observe(outputEl, {childList: true});\n",
              "}}\n",
              "\n",
              "                        })                };                            </script>        </div>\n",
              "</body>\n",
              "</html>"
            ]
          },
          "metadata": {}
        }
      ]
    },
    {
      "cell_type": "code",
      "source": [
        "listings_neighborhood[listings_neighborhood['price']==listings_neighborhood['price'].max()]\n"
      ],
      "metadata": {
        "colab": {
          "base_uri": "https://localhost:8080/",
          "height": 221
        },
        "id": "vPoiJ0JYM6TG",
        "outputId": "8aedc32e-c557-4e0b-f024-1c8a3068285b"
      },
      "execution_count": null,
      "outputs": [
        {
          "output_type": "execute_result",
          "data": {
            "text/plain": [
              "            id                                             name  \\\n",
              "2714  20791161  YOUR entire PRIVATE LUXURY PENTHOUSE condo unit   \n",
              "\n",
              "     neighbourhood_group neighbourhood  longitude  latitude        room_type  \\\n",
              "2714         West Region          Tuas  103.64828   1.31947  Entire home/apt   \n",
              "\n",
              "      minimum_nights  price  availability_365  \n",
              "2714              92  10286                89  "
            ],
            "text/html": [
              "\n",
              "  <div id=\"df-fc029efe-ddf9-42a1-bd65-e5ce1f3b30c6\">\n",
              "    <div class=\"colab-df-container\">\n",
              "      <div>\n",
              "<style scoped>\n",
              "    .dataframe tbody tr th:only-of-type {\n",
              "        vertical-align: middle;\n",
              "    }\n",
              "\n",
              "    .dataframe tbody tr th {\n",
              "        vertical-align: top;\n",
              "    }\n",
              "\n",
              "    .dataframe thead th {\n",
              "        text-align: right;\n",
              "    }\n",
              "</style>\n",
              "<table border=\"1\" class=\"dataframe\">\n",
              "  <thead>\n",
              "    <tr style=\"text-align: right;\">\n",
              "      <th></th>\n",
              "      <th>id</th>\n",
              "      <th>name</th>\n",
              "      <th>neighbourhood_group</th>\n",
              "      <th>neighbourhood</th>\n",
              "      <th>longitude</th>\n",
              "      <th>latitude</th>\n",
              "      <th>room_type</th>\n",
              "      <th>minimum_nights</th>\n",
              "      <th>price</th>\n",
              "      <th>availability_365</th>\n",
              "    </tr>\n",
              "  </thead>\n",
              "  <tbody>\n",
              "    <tr>\n",
              "      <th>2714</th>\n",
              "      <td>20791161</td>\n",
              "      <td>YOUR entire PRIVATE LUXURY PENTHOUSE condo unit</td>\n",
              "      <td>West Region</td>\n",
              "      <td>Tuas</td>\n",
              "      <td>103.64828</td>\n",
              "      <td>1.31947</td>\n",
              "      <td>Entire home/apt</td>\n",
              "      <td>92</td>\n",
              "      <td>10286</td>\n",
              "      <td>89</td>\n",
              "    </tr>\n",
              "  </tbody>\n",
              "</table>\n",
              "</div>\n",
              "      <button class=\"colab-df-convert\" onclick=\"convertToInteractive('df-fc029efe-ddf9-42a1-bd65-e5ce1f3b30c6')\"\n",
              "              title=\"Convert this dataframe to an interactive table.\"\n",
              "              style=\"display:none;\">\n",
              "        \n",
              "  <svg xmlns=\"http://www.w3.org/2000/svg\" height=\"24px\"viewBox=\"0 0 24 24\"\n",
              "       width=\"24px\">\n",
              "    <path d=\"M0 0h24v24H0V0z\" fill=\"none\"/>\n",
              "    <path d=\"M18.56 5.44l.94 2.06.94-2.06 2.06-.94-2.06-.94-.94-2.06-.94 2.06-2.06.94zm-11 1L8.5 8.5l.94-2.06 2.06-.94-2.06-.94L8.5 2.5l-.94 2.06-2.06.94zm10 10l.94 2.06.94-2.06 2.06-.94-2.06-.94-.94-2.06-.94 2.06-2.06.94z\"/><path d=\"M17.41 7.96l-1.37-1.37c-.4-.4-.92-.59-1.43-.59-.52 0-1.04.2-1.43.59L10.3 9.45l-7.72 7.72c-.78.78-.78 2.05 0 2.83L4 21.41c.39.39.9.59 1.41.59.51 0 1.02-.2 1.41-.59l7.78-7.78 2.81-2.81c.8-.78.8-2.07 0-2.86zM5.41 20L4 18.59l7.72-7.72 1.47 1.35L5.41 20z\"/>\n",
              "  </svg>\n",
              "      </button>\n",
              "      \n",
              "  <style>\n",
              "    .colab-df-container {\n",
              "      display:flex;\n",
              "      flex-wrap:wrap;\n",
              "      gap: 12px;\n",
              "    }\n",
              "\n",
              "    .colab-df-convert {\n",
              "      background-color: #E8F0FE;\n",
              "      border: none;\n",
              "      border-radius: 50%;\n",
              "      cursor: pointer;\n",
              "      display: none;\n",
              "      fill: #1967D2;\n",
              "      height: 32px;\n",
              "      padding: 0 0 0 0;\n",
              "      width: 32px;\n",
              "    }\n",
              "\n",
              "    .colab-df-convert:hover {\n",
              "      background-color: #E2EBFA;\n",
              "      box-shadow: 0px 1px 2px rgba(60, 64, 67, 0.3), 0px 1px 3px 1px rgba(60, 64, 67, 0.15);\n",
              "      fill: #174EA6;\n",
              "    }\n",
              "\n",
              "    [theme=dark] .colab-df-convert {\n",
              "      background-color: #3B4455;\n",
              "      fill: #D2E3FC;\n",
              "    }\n",
              "\n",
              "    [theme=dark] .colab-df-convert:hover {\n",
              "      background-color: #434B5C;\n",
              "      box-shadow: 0px 1px 3px 1px rgba(0, 0, 0, 0.15);\n",
              "      filter: drop-shadow(0px 1px 2px rgba(0, 0, 0, 0.3));\n",
              "      fill: #FFFFFF;\n",
              "    }\n",
              "  </style>\n",
              "\n",
              "      <script>\n",
              "        const buttonEl =\n",
              "          document.querySelector('#df-fc029efe-ddf9-42a1-bd65-e5ce1f3b30c6 button.colab-df-convert');\n",
              "        buttonEl.style.display =\n",
              "          google.colab.kernel.accessAllowed ? 'block' : 'none';\n",
              "\n",
              "        async function convertToInteractive(key) {\n",
              "          const element = document.querySelector('#df-fc029efe-ddf9-42a1-bd65-e5ce1f3b30c6');\n",
              "          const dataTable =\n",
              "            await google.colab.kernel.invokeFunction('convertToInteractive',\n",
              "                                                     [key], {});\n",
              "          if (!dataTable) return;\n",
              "\n",
              "          const docLinkHtml = 'Like what you see? Visit the ' +\n",
              "            '<a target=\"_blank\" href=https://colab.research.google.com/notebooks/data_table.ipynb>data table notebook</a>'\n",
              "            + ' to learn more about interactive tables.';\n",
              "          element.innerHTML = '';\n",
              "          dataTable['output_type'] = 'display_data';\n",
              "          await google.colab.output.renderOutput(dataTable, element);\n",
              "          const docLink = document.createElement('div');\n",
              "          docLink.innerHTML = docLinkHtml;\n",
              "          element.appendChild(docLink);\n",
              "        }\n",
              "      </script>\n",
              "    </div>\n",
              "  </div>\n",
              "  "
            ]
          },
          "metadata": {},
          "execution_count": 42
        }
      ]
    },
    {
      "cell_type": "code",
      "source": [
        "listings_neighborhood[listings_neighborhood['price']==listings_neighborhood['price'].min()]"
      ],
      "metadata": {
        "colab": {
          "base_uri": "https://localhost:8080/",
          "height": 296
        },
        "id": "dUVGrD3INfVS",
        "outputId": "70e807e5-f011-4f84-db3a-5b3cdb4c8e42"
      },
      "execution_count": null,
      "outputs": [
        {
          "output_type": "execute_result",
          "data": {
            "text/plain": [
              "                      id                                               name  \\\n",
              "2709  669949193228817088  Rental room near NTU - Jurong west st 81 SG 64...   \n",
              "\n",
              "     neighbourhood_group neighbourhood   longitude  latitude     room_type  \\\n",
              "2709         West Region   Jurong West  103.695976   1.34813  Private room   \n",
              "\n",
              "      minimum_nights  price  availability_365  \n",
              "2709              92     14               365  "
            ],
            "text/html": [
              "\n",
              "  <div id=\"df-ab683db6-152c-43be-9a53-322fbf3d32fa\">\n",
              "    <div class=\"colab-df-container\">\n",
              "      <div>\n",
              "<style scoped>\n",
              "    .dataframe tbody tr th:only-of-type {\n",
              "        vertical-align: middle;\n",
              "    }\n",
              "\n",
              "    .dataframe tbody tr th {\n",
              "        vertical-align: top;\n",
              "    }\n",
              "\n",
              "    .dataframe thead th {\n",
              "        text-align: right;\n",
              "    }\n",
              "</style>\n",
              "<table border=\"1\" class=\"dataframe\">\n",
              "  <thead>\n",
              "    <tr style=\"text-align: right;\">\n",
              "      <th></th>\n",
              "      <th>id</th>\n",
              "      <th>name</th>\n",
              "      <th>neighbourhood_group</th>\n",
              "      <th>neighbourhood</th>\n",
              "      <th>longitude</th>\n",
              "      <th>latitude</th>\n",
              "      <th>room_type</th>\n",
              "      <th>minimum_nights</th>\n",
              "      <th>price</th>\n",
              "      <th>availability_365</th>\n",
              "    </tr>\n",
              "  </thead>\n",
              "  <tbody>\n",
              "    <tr>\n",
              "      <th>2709</th>\n",
              "      <td>669949193228817088</td>\n",
              "      <td>Rental room near NTU - Jurong west st 81 SG 64...</td>\n",
              "      <td>West Region</td>\n",
              "      <td>Jurong West</td>\n",
              "      <td>103.695976</td>\n",
              "      <td>1.34813</td>\n",
              "      <td>Private room</td>\n",
              "      <td>92</td>\n",
              "      <td>14</td>\n",
              "      <td>365</td>\n",
              "    </tr>\n",
              "  </tbody>\n",
              "</table>\n",
              "</div>\n",
              "      <button class=\"colab-df-convert\" onclick=\"convertToInteractive('df-ab683db6-152c-43be-9a53-322fbf3d32fa')\"\n",
              "              title=\"Convert this dataframe to an interactive table.\"\n",
              "              style=\"display:none;\">\n",
              "        \n",
              "  <svg xmlns=\"http://www.w3.org/2000/svg\" height=\"24px\"viewBox=\"0 0 24 24\"\n",
              "       width=\"24px\">\n",
              "    <path d=\"M0 0h24v24H0V0z\" fill=\"none\"/>\n",
              "    <path d=\"M18.56 5.44l.94 2.06.94-2.06 2.06-.94-2.06-.94-.94-2.06-.94 2.06-2.06.94zm-11 1L8.5 8.5l.94-2.06 2.06-.94-2.06-.94L8.5 2.5l-.94 2.06-2.06.94zm10 10l.94 2.06.94-2.06 2.06-.94-2.06-.94-.94-2.06-.94 2.06-2.06.94z\"/><path d=\"M17.41 7.96l-1.37-1.37c-.4-.4-.92-.59-1.43-.59-.52 0-1.04.2-1.43.59L10.3 9.45l-7.72 7.72c-.78.78-.78 2.05 0 2.83L4 21.41c.39.39.9.59 1.41.59.51 0 1.02-.2 1.41-.59l7.78-7.78 2.81-2.81c.8-.78.8-2.07 0-2.86zM5.41 20L4 18.59l7.72-7.72 1.47 1.35L5.41 20z\"/>\n",
              "  </svg>\n",
              "      </button>\n",
              "      \n",
              "  <style>\n",
              "    .colab-df-container {\n",
              "      display:flex;\n",
              "      flex-wrap:wrap;\n",
              "      gap: 12px;\n",
              "    }\n",
              "\n",
              "    .colab-df-convert {\n",
              "      background-color: #E8F0FE;\n",
              "      border: none;\n",
              "      border-radius: 50%;\n",
              "      cursor: pointer;\n",
              "      display: none;\n",
              "      fill: #1967D2;\n",
              "      height: 32px;\n",
              "      padding: 0 0 0 0;\n",
              "      width: 32px;\n",
              "    }\n",
              "\n",
              "    .colab-df-convert:hover {\n",
              "      background-color: #E2EBFA;\n",
              "      box-shadow: 0px 1px 2px rgba(60, 64, 67, 0.3), 0px 1px 3px 1px rgba(60, 64, 67, 0.15);\n",
              "      fill: #174EA6;\n",
              "    }\n",
              "\n",
              "    [theme=dark] .colab-df-convert {\n",
              "      background-color: #3B4455;\n",
              "      fill: #D2E3FC;\n",
              "    }\n",
              "\n",
              "    [theme=dark] .colab-df-convert:hover {\n",
              "      background-color: #434B5C;\n",
              "      box-shadow: 0px 1px 3px 1px rgba(0, 0, 0, 0.15);\n",
              "      filter: drop-shadow(0px 1px 2px rgba(0, 0, 0, 0.3));\n",
              "      fill: #FFFFFF;\n",
              "    }\n",
              "  </style>\n",
              "\n",
              "      <script>\n",
              "        const buttonEl =\n",
              "          document.querySelector('#df-ab683db6-152c-43be-9a53-322fbf3d32fa button.colab-df-convert');\n",
              "        buttonEl.style.display =\n",
              "          google.colab.kernel.accessAllowed ? 'block' : 'none';\n",
              "\n",
              "        async function convertToInteractive(key) {\n",
              "          const element = document.querySelector('#df-ab683db6-152c-43be-9a53-322fbf3d32fa');\n",
              "          const dataTable =\n",
              "            await google.colab.kernel.invokeFunction('convertToInteractive',\n",
              "                                                     [key], {});\n",
              "          if (!dataTable) return;\n",
              "\n",
              "          const docLinkHtml = 'Like what you see? Visit the ' +\n",
              "            '<a target=\"_blank\" href=https://colab.research.google.com/notebooks/data_table.ipynb>data table notebook</a>'\n",
              "            + ' to learn more about interactive tables.';\n",
              "          element.innerHTML = '';\n",
              "          dataTable['output_type'] = 'display_data';\n",
              "          await google.colab.output.renderOutput(dataTable, element);\n",
              "          const docLink = document.createElement('div');\n",
              "          docLink.innerHTML = docLinkHtml;\n",
              "          element.appendChild(docLink);\n",
              "        }\n",
              "      </script>\n",
              "    </div>\n",
              "  </div>\n",
              "  "
            ]
          },
          "metadata": {},
          "execution_count": 43
        }
      ]
    },
    {
      "cell_type": "markdown",
      "source": [
        "The highest mean price based on neighborhood group in Singapore located in North Region with 279.739, followed by West and Central Region respectively 258.818 and 258.764. Both the highest price and lowest price of listings properties located in West Region respectively priced 10286 and 14"
      ],
      "metadata": {
        "id": "YaqrTmjAL76o"
      }
    },
    {
      "cell_type": "markdown",
      "source": [
        "#### **Price Distribution of Listings Based on Room Type**"
      ],
      "metadata": {
        "id": "gRAacfXHZqty"
      }
    },
    {
      "cell_type": "code",
      "source": [
        "price_rt = listings_neighborhood.groupby('room_type').agg(price_mean=('price','mean')).sort_values(by=['price_mean'],ascending=False).reset_index()\n",
        "price_rt"
      ],
      "metadata": {
        "colab": {
          "base_uri": "https://localhost:8080/",
          "height": 181
        },
        "id": "lGabj0POZlyd",
        "outputId": "9397bade-fda1-49a3-b629-23cced3833d6"
      },
      "execution_count": null,
      "outputs": [
        {
          "output_type": "execute_result",
          "data": {
            "text/plain": [
              "         room_type  price_mean\n",
              "0  Entire home/apt  368.638634\n",
              "1       Hotel room  172.557522\n",
              "2     Private room  168.519817\n",
              "3      Shared room   77.296703"
            ],
            "text/html": [
              "\n",
              "  <div id=\"df-e9caff8a-a59d-43a9-8100-7cb23237f14b\">\n",
              "    <div class=\"colab-df-container\">\n",
              "      <div>\n",
              "<style scoped>\n",
              "    .dataframe tbody tr th:only-of-type {\n",
              "        vertical-align: middle;\n",
              "    }\n",
              "\n",
              "    .dataframe tbody tr th {\n",
              "        vertical-align: top;\n",
              "    }\n",
              "\n",
              "    .dataframe thead th {\n",
              "        text-align: right;\n",
              "    }\n",
              "</style>\n",
              "<table border=\"1\" class=\"dataframe\">\n",
              "  <thead>\n",
              "    <tr style=\"text-align: right;\">\n",
              "      <th></th>\n",
              "      <th>room_type</th>\n",
              "      <th>price_mean</th>\n",
              "    </tr>\n",
              "  </thead>\n",
              "  <tbody>\n",
              "    <tr>\n",
              "      <th>0</th>\n",
              "      <td>Entire home/apt</td>\n",
              "      <td>368.638634</td>\n",
              "    </tr>\n",
              "    <tr>\n",
              "      <th>1</th>\n",
              "      <td>Hotel room</td>\n",
              "      <td>172.557522</td>\n",
              "    </tr>\n",
              "    <tr>\n",
              "      <th>2</th>\n",
              "      <td>Private room</td>\n",
              "      <td>168.519817</td>\n",
              "    </tr>\n",
              "    <tr>\n",
              "      <th>3</th>\n",
              "      <td>Shared room</td>\n",
              "      <td>77.296703</td>\n",
              "    </tr>\n",
              "  </tbody>\n",
              "</table>\n",
              "</div>\n",
              "      <button class=\"colab-df-convert\" onclick=\"convertToInteractive('df-e9caff8a-a59d-43a9-8100-7cb23237f14b')\"\n",
              "              title=\"Convert this dataframe to an interactive table.\"\n",
              "              style=\"display:none;\">\n",
              "        \n",
              "  <svg xmlns=\"http://www.w3.org/2000/svg\" height=\"24px\"viewBox=\"0 0 24 24\"\n",
              "       width=\"24px\">\n",
              "    <path d=\"M0 0h24v24H0V0z\" fill=\"none\"/>\n",
              "    <path d=\"M18.56 5.44l.94 2.06.94-2.06 2.06-.94-2.06-.94-.94-2.06-.94 2.06-2.06.94zm-11 1L8.5 8.5l.94-2.06 2.06-.94-2.06-.94L8.5 2.5l-.94 2.06-2.06.94zm10 10l.94 2.06.94-2.06 2.06-.94-2.06-.94-.94-2.06-.94 2.06-2.06.94z\"/><path d=\"M17.41 7.96l-1.37-1.37c-.4-.4-.92-.59-1.43-.59-.52 0-1.04.2-1.43.59L10.3 9.45l-7.72 7.72c-.78.78-.78 2.05 0 2.83L4 21.41c.39.39.9.59 1.41.59.51 0 1.02-.2 1.41-.59l7.78-7.78 2.81-2.81c.8-.78.8-2.07 0-2.86zM5.41 20L4 18.59l7.72-7.72 1.47 1.35L5.41 20z\"/>\n",
              "  </svg>\n",
              "      </button>\n",
              "      \n",
              "  <style>\n",
              "    .colab-df-container {\n",
              "      display:flex;\n",
              "      flex-wrap:wrap;\n",
              "      gap: 12px;\n",
              "    }\n",
              "\n",
              "    .colab-df-convert {\n",
              "      background-color: #E8F0FE;\n",
              "      border: none;\n",
              "      border-radius: 50%;\n",
              "      cursor: pointer;\n",
              "      display: none;\n",
              "      fill: #1967D2;\n",
              "      height: 32px;\n",
              "      padding: 0 0 0 0;\n",
              "      width: 32px;\n",
              "    }\n",
              "\n",
              "    .colab-df-convert:hover {\n",
              "      background-color: #E2EBFA;\n",
              "      box-shadow: 0px 1px 2px rgba(60, 64, 67, 0.3), 0px 1px 3px 1px rgba(60, 64, 67, 0.15);\n",
              "      fill: #174EA6;\n",
              "    }\n",
              "\n",
              "    [theme=dark] .colab-df-convert {\n",
              "      background-color: #3B4455;\n",
              "      fill: #D2E3FC;\n",
              "    }\n",
              "\n",
              "    [theme=dark] .colab-df-convert:hover {\n",
              "      background-color: #434B5C;\n",
              "      box-shadow: 0px 1px 3px 1px rgba(0, 0, 0, 0.15);\n",
              "      filter: drop-shadow(0px 1px 2px rgba(0, 0, 0, 0.3));\n",
              "      fill: #FFFFFF;\n",
              "    }\n",
              "  </style>\n",
              "\n",
              "      <script>\n",
              "        const buttonEl =\n",
              "          document.querySelector('#df-e9caff8a-a59d-43a9-8100-7cb23237f14b button.colab-df-convert');\n",
              "        buttonEl.style.display =\n",
              "          google.colab.kernel.accessAllowed ? 'block' : 'none';\n",
              "\n",
              "        async function convertToInteractive(key) {\n",
              "          const element = document.querySelector('#df-e9caff8a-a59d-43a9-8100-7cb23237f14b');\n",
              "          const dataTable =\n",
              "            await google.colab.kernel.invokeFunction('convertToInteractive',\n",
              "                                                     [key], {});\n",
              "          if (!dataTable) return;\n",
              "\n",
              "          const docLinkHtml = 'Like what you see? Visit the ' +\n",
              "            '<a target=\"_blank\" href=https://colab.research.google.com/notebooks/data_table.ipynb>data table notebook</a>'\n",
              "            + ' to learn more about interactive tables.';\n",
              "          element.innerHTML = '';\n",
              "          dataTable['output_type'] = 'display_data';\n",
              "          await google.colab.output.renderOutput(dataTable, element);\n",
              "          const docLink = document.createElement('div');\n",
              "          docLink.innerHTML = docLinkHtml;\n",
              "          element.appendChild(docLink);\n",
              "        }\n",
              "      </script>\n",
              "    </div>\n",
              "  </div>\n",
              "  "
            ]
          },
          "metadata": {},
          "execution_count": 44
        }
      ]
    },
    {
      "cell_type": "code",
      "source": [
        "fig_price_rtdist = px.histogram(price_rt, x = 'room_type', y = 'price_mean', color = 'room_type', width = 1000)\n",
        "fig_price_rtdist.update_layout(title='<b>Price Distribution Based on Room Type</b>', title_font=dict(size=20), yaxis_title = 'price_mean')\n",
        "display(fig_price_rtdist)"
      ],
      "metadata": {
        "colab": {
          "base_uri": "https://localhost:8080/",
          "height": 542
        },
        "id": "P4Bt-Yr3fZwk",
        "outputId": "4b5c9e83-79cc-46e1-9bff-0eeb3fc1a94d"
      },
      "execution_count": null,
      "outputs": [
        {
          "output_type": "display_data",
          "data": {
            "text/html": [
              "<html>\n",
              "<head><meta charset=\"utf-8\" /></head>\n",
              "<body>\n",
              "    <div>            <script src=\"https://cdnjs.cloudflare.com/ajax/libs/mathjax/2.7.5/MathJax.js?config=TeX-AMS-MML_SVG\"></script><script type=\"text/javascript\">if (window.MathJax && window.MathJax.Hub && window.MathJax.Hub.Config) {window.MathJax.Hub.Config({SVG: {font: \"STIX-Web\"}});}</script>                <script type=\"text/javascript\">window.PlotlyConfig = {MathJaxConfig: 'local'};</script>\n",
              "        <script src=\"https://cdn.plot.ly/plotly-2.18.2.min.js\"></script>                <div id=\"1f17674c-e719-4711-8183-d4f375c3e107\" class=\"plotly-graph-div\" style=\"height:525px; width:1000px;\"></div>            <script type=\"text/javascript\">                                    window.PLOTLYENV=window.PLOTLYENV || {};                                    if (document.getElementById(\"1f17674c-e719-4711-8183-d4f375c3e107\")) {                    Plotly.newPlot(                        \"1f17674c-e719-4711-8183-d4f375c3e107\",                        [{\"alignmentgroup\":\"True\",\"bingroup\":\"x\",\"histfunc\":\"sum\",\"hovertemplate\":\"room_type=%{x}<br>sum of price_mean=%{y}<extra></extra>\",\"legendgroup\":\"Entire home/apt\",\"marker\":{\"color\":\"#636efa\",\"pattern\":{\"shape\":\"\"}},\"name\":\"Entire home/apt\",\"offsetgroup\":\"Entire home/apt\",\"orientation\":\"v\",\"showlegend\":true,\"x\":[\"Entire home/apt\"],\"xaxis\":\"x\",\"y\":[368.6386344712739],\"yaxis\":\"y\",\"type\":\"histogram\"},{\"alignmentgroup\":\"True\",\"bingroup\":\"x\",\"histfunc\":\"sum\",\"hovertemplate\":\"room_type=%{x}<br>sum of price_mean=%{y}<extra></extra>\",\"legendgroup\":\"Hotel room\",\"marker\":{\"color\":\"#EF553B\",\"pattern\":{\"shape\":\"\"}},\"name\":\"Hotel room\",\"offsetgroup\":\"Hotel room\",\"orientation\":\"v\",\"showlegend\":true,\"x\":[\"Hotel room\"],\"xaxis\":\"x\",\"y\":[172.55752212389382],\"yaxis\":\"y\",\"type\":\"histogram\"},{\"alignmentgroup\":\"True\",\"bingroup\":\"x\",\"histfunc\":\"sum\",\"hovertemplate\":\"room_type=%{x}<br>sum of price_mean=%{y}<extra></extra>\",\"legendgroup\":\"Private room\",\"marker\":{\"color\":\"#00cc96\",\"pattern\":{\"shape\":\"\"}},\"name\":\"Private room\",\"offsetgroup\":\"Private room\",\"orientation\":\"v\",\"showlegend\":true,\"x\":[\"Private room\"],\"xaxis\":\"x\",\"y\":[168.51981707317074],\"yaxis\":\"y\",\"type\":\"histogram\"},{\"alignmentgroup\":\"True\",\"bingroup\":\"x\",\"histfunc\":\"sum\",\"hovertemplate\":\"room_type=%{x}<br>sum of price_mean=%{y}<extra></extra>\",\"legendgroup\":\"Shared room\",\"marker\":{\"color\":\"#ab63fa\",\"pattern\":{\"shape\":\"\"}},\"name\":\"Shared room\",\"offsetgroup\":\"Shared room\",\"orientation\":\"v\",\"showlegend\":true,\"x\":[\"Shared room\"],\"xaxis\":\"x\",\"y\":[77.2967032967033],\"yaxis\":\"y\",\"type\":\"histogram\"}],                        {\"template\":{\"data\":{\"histogram2dcontour\":[{\"type\":\"histogram2dcontour\",\"colorbar\":{\"outlinewidth\":0,\"ticks\":\"\"},\"colorscale\":[[0.0,\"#0d0887\"],[0.1111111111111111,\"#46039f\"],[0.2222222222222222,\"#7201a8\"],[0.3333333333333333,\"#9c179e\"],[0.4444444444444444,\"#bd3786\"],[0.5555555555555556,\"#d8576b\"],[0.6666666666666666,\"#ed7953\"],[0.7777777777777778,\"#fb9f3a\"],[0.8888888888888888,\"#fdca26\"],[1.0,\"#f0f921\"]]}],\"choropleth\":[{\"type\":\"choropleth\",\"colorbar\":{\"outlinewidth\":0,\"ticks\":\"\"}}],\"histogram2d\":[{\"type\":\"histogram2d\",\"colorbar\":{\"outlinewidth\":0,\"ticks\":\"\"},\"colorscale\":[[0.0,\"#0d0887\"],[0.1111111111111111,\"#46039f\"],[0.2222222222222222,\"#7201a8\"],[0.3333333333333333,\"#9c179e\"],[0.4444444444444444,\"#bd3786\"],[0.5555555555555556,\"#d8576b\"],[0.6666666666666666,\"#ed7953\"],[0.7777777777777778,\"#fb9f3a\"],[0.8888888888888888,\"#fdca26\"],[1.0,\"#f0f921\"]]}],\"heatmap\":[{\"type\":\"heatmap\",\"colorbar\":{\"outlinewidth\":0,\"ticks\":\"\"},\"colorscale\":[[0.0,\"#0d0887\"],[0.1111111111111111,\"#46039f\"],[0.2222222222222222,\"#7201a8\"],[0.3333333333333333,\"#9c179e\"],[0.4444444444444444,\"#bd3786\"],[0.5555555555555556,\"#d8576b\"],[0.6666666666666666,\"#ed7953\"],[0.7777777777777778,\"#fb9f3a\"],[0.8888888888888888,\"#fdca26\"],[1.0,\"#f0f921\"]]}],\"heatmapgl\":[{\"type\":\"heatmapgl\",\"colorbar\":{\"outlinewidth\":0,\"ticks\":\"\"},\"colorscale\":[[0.0,\"#0d0887\"],[0.1111111111111111,\"#46039f\"],[0.2222222222222222,\"#7201a8\"],[0.3333333333333333,\"#9c179e\"],[0.4444444444444444,\"#bd3786\"],[0.5555555555555556,\"#d8576b\"],[0.6666666666666666,\"#ed7953\"],[0.7777777777777778,\"#fb9f3a\"],[0.8888888888888888,\"#fdca26\"],[1.0,\"#f0f921\"]]}],\"contourcarpet\":[{\"type\":\"contourcarpet\",\"colorbar\":{\"outlinewidth\":0,\"ticks\":\"\"}}],\"contour\":[{\"type\":\"contour\",\"colorbar\":{\"outlinewidth\":0,\"ticks\":\"\"},\"colorscale\":[[0.0,\"#0d0887\"],[0.1111111111111111,\"#46039f\"],[0.2222222222222222,\"#7201a8\"],[0.3333333333333333,\"#9c179e\"],[0.4444444444444444,\"#bd3786\"],[0.5555555555555556,\"#d8576b\"],[0.6666666666666666,\"#ed7953\"],[0.7777777777777778,\"#fb9f3a\"],[0.8888888888888888,\"#fdca26\"],[1.0,\"#f0f921\"]]}],\"surface\":[{\"type\":\"surface\",\"colorbar\":{\"outlinewidth\":0,\"ticks\":\"\"},\"colorscale\":[[0.0,\"#0d0887\"],[0.1111111111111111,\"#46039f\"],[0.2222222222222222,\"#7201a8\"],[0.3333333333333333,\"#9c179e\"],[0.4444444444444444,\"#bd3786\"],[0.5555555555555556,\"#d8576b\"],[0.6666666666666666,\"#ed7953\"],[0.7777777777777778,\"#fb9f3a\"],[0.8888888888888888,\"#fdca26\"],[1.0,\"#f0f921\"]]}],\"mesh3d\":[{\"type\":\"mesh3d\",\"colorbar\":{\"outlinewidth\":0,\"ticks\":\"\"}}],\"scatter\":[{\"fillpattern\":{\"fillmode\":\"overlay\",\"size\":10,\"solidity\":0.2},\"type\":\"scatter\"}],\"parcoords\":[{\"type\":\"parcoords\",\"line\":{\"colorbar\":{\"outlinewidth\":0,\"ticks\":\"\"}}}],\"scatterpolargl\":[{\"type\":\"scatterpolargl\",\"marker\":{\"colorbar\":{\"outlinewidth\":0,\"ticks\":\"\"}}}],\"bar\":[{\"error_x\":{\"color\":\"#2a3f5f\"},\"error_y\":{\"color\":\"#2a3f5f\"},\"marker\":{\"line\":{\"color\":\"#E5ECF6\",\"width\":0.5},\"pattern\":{\"fillmode\":\"overlay\",\"size\":10,\"solidity\":0.2}},\"type\":\"bar\"}],\"scattergeo\":[{\"type\":\"scattergeo\",\"marker\":{\"colorbar\":{\"outlinewidth\":0,\"ticks\":\"\"}}}],\"scatterpolar\":[{\"type\":\"scatterpolar\",\"marker\":{\"colorbar\":{\"outlinewidth\":0,\"ticks\":\"\"}}}],\"histogram\":[{\"marker\":{\"pattern\":{\"fillmode\":\"overlay\",\"size\":10,\"solidity\":0.2}},\"type\":\"histogram\"}],\"scattergl\":[{\"type\":\"scattergl\",\"marker\":{\"colorbar\":{\"outlinewidth\":0,\"ticks\":\"\"}}}],\"scatter3d\":[{\"type\":\"scatter3d\",\"line\":{\"colorbar\":{\"outlinewidth\":0,\"ticks\":\"\"}},\"marker\":{\"colorbar\":{\"outlinewidth\":0,\"ticks\":\"\"}}}],\"scattermapbox\":[{\"type\":\"scattermapbox\",\"marker\":{\"colorbar\":{\"outlinewidth\":0,\"ticks\":\"\"}}}],\"scatterternary\":[{\"type\":\"scatterternary\",\"marker\":{\"colorbar\":{\"outlinewidth\":0,\"ticks\":\"\"}}}],\"scattercarpet\":[{\"type\":\"scattercarpet\",\"marker\":{\"colorbar\":{\"outlinewidth\":0,\"ticks\":\"\"}}}],\"carpet\":[{\"aaxis\":{\"endlinecolor\":\"#2a3f5f\",\"gridcolor\":\"white\",\"linecolor\":\"white\",\"minorgridcolor\":\"white\",\"startlinecolor\":\"#2a3f5f\"},\"baxis\":{\"endlinecolor\":\"#2a3f5f\",\"gridcolor\":\"white\",\"linecolor\":\"white\",\"minorgridcolor\":\"white\",\"startlinecolor\":\"#2a3f5f\"},\"type\":\"carpet\"}],\"table\":[{\"cells\":{\"fill\":{\"color\":\"#EBF0F8\"},\"line\":{\"color\":\"white\"}},\"header\":{\"fill\":{\"color\":\"#C8D4E3\"},\"line\":{\"color\":\"white\"}},\"type\":\"table\"}],\"barpolar\":[{\"marker\":{\"line\":{\"color\":\"#E5ECF6\",\"width\":0.5},\"pattern\":{\"fillmode\":\"overlay\",\"size\":10,\"solidity\":0.2}},\"type\":\"barpolar\"}],\"pie\":[{\"automargin\":true,\"type\":\"pie\"}]},\"layout\":{\"autotypenumbers\":\"strict\",\"colorway\":[\"#636efa\",\"#EF553B\",\"#00cc96\",\"#ab63fa\",\"#FFA15A\",\"#19d3f3\",\"#FF6692\",\"#B6E880\",\"#FF97FF\",\"#FECB52\"],\"font\":{\"color\":\"#2a3f5f\"},\"hovermode\":\"closest\",\"hoverlabel\":{\"align\":\"left\"},\"paper_bgcolor\":\"white\",\"plot_bgcolor\":\"#E5ECF6\",\"polar\":{\"bgcolor\":\"#E5ECF6\",\"angularaxis\":{\"gridcolor\":\"white\",\"linecolor\":\"white\",\"ticks\":\"\"},\"radialaxis\":{\"gridcolor\":\"white\",\"linecolor\":\"white\",\"ticks\":\"\"}},\"ternary\":{\"bgcolor\":\"#E5ECF6\",\"aaxis\":{\"gridcolor\":\"white\",\"linecolor\":\"white\",\"ticks\":\"\"},\"baxis\":{\"gridcolor\":\"white\",\"linecolor\":\"white\",\"ticks\":\"\"},\"caxis\":{\"gridcolor\":\"white\",\"linecolor\":\"white\",\"ticks\":\"\"}},\"coloraxis\":{\"colorbar\":{\"outlinewidth\":0,\"ticks\":\"\"}},\"colorscale\":{\"sequential\":[[0.0,\"#0d0887\"],[0.1111111111111111,\"#46039f\"],[0.2222222222222222,\"#7201a8\"],[0.3333333333333333,\"#9c179e\"],[0.4444444444444444,\"#bd3786\"],[0.5555555555555556,\"#d8576b\"],[0.6666666666666666,\"#ed7953\"],[0.7777777777777778,\"#fb9f3a\"],[0.8888888888888888,\"#fdca26\"],[1.0,\"#f0f921\"]],\"sequentialminus\":[[0.0,\"#0d0887\"],[0.1111111111111111,\"#46039f\"],[0.2222222222222222,\"#7201a8\"],[0.3333333333333333,\"#9c179e\"],[0.4444444444444444,\"#bd3786\"],[0.5555555555555556,\"#d8576b\"],[0.6666666666666666,\"#ed7953\"],[0.7777777777777778,\"#fb9f3a\"],[0.8888888888888888,\"#fdca26\"],[1.0,\"#f0f921\"]],\"diverging\":[[0,\"#8e0152\"],[0.1,\"#c51b7d\"],[0.2,\"#de77ae\"],[0.3,\"#f1b6da\"],[0.4,\"#fde0ef\"],[0.5,\"#f7f7f7\"],[0.6,\"#e6f5d0\"],[0.7,\"#b8e186\"],[0.8,\"#7fbc41\"],[0.9,\"#4d9221\"],[1,\"#276419\"]]},\"xaxis\":{\"gridcolor\":\"white\",\"linecolor\":\"white\",\"ticks\":\"\",\"title\":{\"standoff\":15},\"zerolinecolor\":\"white\",\"automargin\":true,\"zerolinewidth\":2},\"yaxis\":{\"gridcolor\":\"white\",\"linecolor\":\"white\",\"ticks\":\"\",\"title\":{\"standoff\":15},\"zerolinecolor\":\"white\",\"automargin\":true,\"zerolinewidth\":2},\"scene\":{\"xaxis\":{\"backgroundcolor\":\"#E5ECF6\",\"gridcolor\":\"white\",\"linecolor\":\"white\",\"showbackground\":true,\"ticks\":\"\",\"zerolinecolor\":\"white\",\"gridwidth\":2},\"yaxis\":{\"backgroundcolor\":\"#E5ECF6\",\"gridcolor\":\"white\",\"linecolor\":\"white\",\"showbackground\":true,\"ticks\":\"\",\"zerolinecolor\":\"white\",\"gridwidth\":2},\"zaxis\":{\"backgroundcolor\":\"#E5ECF6\",\"gridcolor\":\"white\",\"linecolor\":\"white\",\"showbackground\":true,\"ticks\":\"\",\"zerolinecolor\":\"white\",\"gridwidth\":2}},\"shapedefaults\":{\"line\":{\"color\":\"#2a3f5f\"}},\"annotationdefaults\":{\"arrowcolor\":\"#2a3f5f\",\"arrowhead\":0,\"arrowwidth\":1},\"geo\":{\"bgcolor\":\"white\",\"landcolor\":\"#E5ECF6\",\"subunitcolor\":\"white\",\"showland\":true,\"showlakes\":true,\"lakecolor\":\"white\"},\"title\":{\"x\":0.05},\"mapbox\":{\"style\":\"light\"}}},\"xaxis\":{\"anchor\":\"y\",\"domain\":[0.0,1.0],\"title\":{\"text\":\"room_type\"},\"categoryorder\":\"array\",\"categoryarray\":[\"Entire home/apt\",\"Hotel room\",\"Private room\",\"Shared room\"]},\"yaxis\":{\"anchor\":\"x\",\"domain\":[0.0,1.0],\"title\":{\"text\":\"price_mean\"}},\"legend\":{\"title\":{\"text\":\"room_type\"},\"tracegroupgap\":0},\"margin\":{\"t\":60},\"barmode\":\"relative\",\"width\":1000,\"title\":{\"text\":\"<b>Price Distribution Based on Room Type</b>\",\"font\":{\"size\":20}}},                        {\"responsive\": true}                    ).then(function(){\n",
              "                            \n",
              "var gd = document.getElementById('1f17674c-e719-4711-8183-d4f375c3e107');\n",
              "var x = new MutationObserver(function (mutations, observer) {{\n",
              "        var display = window.getComputedStyle(gd).display;\n",
              "        if (!display || display === 'none') {{\n",
              "            console.log([gd, 'removed!']);\n",
              "            Plotly.purge(gd);\n",
              "            observer.disconnect();\n",
              "        }}\n",
              "}});\n",
              "\n",
              "// Listen for the removal of the full notebook cells\n",
              "var notebookContainer = gd.closest('#notebook-container');\n",
              "if (notebookContainer) {{\n",
              "    x.observe(notebookContainer, {childList: true});\n",
              "}}\n",
              "\n",
              "// Listen for the clearing of the current output cell\n",
              "var outputEl = gd.closest('.output');\n",
              "if (outputEl) {{\n",
              "    x.observe(outputEl, {childList: true});\n",
              "}}\n",
              "\n",
              "                        })                };                            </script>        </div>\n",
              "</body>\n",
              "</html>"
            ]
          },
          "metadata": {}
        }
      ]
    },
    {
      "cell_type": "markdown",
      "source": [
        "Based on room type available, the type with the highest mean price is entire home/apt by 368.370 believed because of facilities provided by entire home/apt more complete than the other room type. Therefore, price distribution of listings properties being affected more by room type than the location"
      ],
      "metadata": {
        "id": "E4VOIMNGOx4Q"
      }
    },
    {
      "cell_type": "markdown",
      "source": [
        "### **Reviews History of Rented Listings Properties in Singapore**"
      ],
      "metadata": {
        "id": "D5oM9xPkTq2B"
      }
    },
    {
      "cell_type": "markdown",
      "source": [
        "#### **Reviews History of Rented Listings Based on Date**"
      ],
      "metadata": {
        "id": "orEwylvnZ3Mb"
      }
    },
    {
      "cell_type": "code",
      "source": [
        "listings_reviews_month = listings_reviews.groupby('month').agg(count=('month','count')).sort_values(by=['month']).reset_index()\n",
        "\n",
        "fig_lreviews_month = px.line(listings_reviews_month, x='month', y='count', title='<b>Reviews History of Rented Listings Based on Month</b>', markers=True)\n",
        "display(fig_lreviews_month)"
      ],
      "metadata": {
        "colab": {
          "base_uri": "https://localhost:8080/",
          "height": 542
        },
        "id": "FcxmGkIn5pE3",
        "outputId": "a1630fdb-7000-449f-8635-909595dfde05"
      },
      "execution_count": null,
      "outputs": [
        {
          "output_type": "display_data",
          "data": {
            "text/html": [
              "<html>\n",
              "<head><meta charset=\"utf-8\" /></head>\n",
              "<body>\n",
              "    <div>            <script src=\"https://cdnjs.cloudflare.com/ajax/libs/mathjax/2.7.5/MathJax.js?config=TeX-AMS-MML_SVG\"></script><script type=\"text/javascript\">if (window.MathJax && window.MathJax.Hub && window.MathJax.Hub.Config) {window.MathJax.Hub.Config({SVG: {font: \"STIX-Web\"}});}</script>                <script type=\"text/javascript\">window.PlotlyConfig = {MathJaxConfig: 'local'};</script>\n",
              "        <script src=\"https://cdn.plot.ly/plotly-2.18.2.min.js\"></script>                <div id=\"6ddcf789-c9d4-4017-bd09-36af8157359c\" class=\"plotly-graph-div\" style=\"height:525px; width:100%;\"></div>            <script type=\"text/javascript\">                                    window.PLOTLYENV=window.PLOTLYENV || {};                                    if (document.getElementById(\"6ddcf789-c9d4-4017-bd09-36af8157359c\")) {                    Plotly.newPlot(                        \"6ddcf789-c9d4-4017-bd09-36af8157359c\",                        [{\"hovertemplate\":\"month=%{x}<br>count=%{y}<extra></extra>\",\"legendgroup\":\"\",\"line\":{\"color\":\"#636efa\",\"dash\":\"solid\"},\"marker\":{\"symbol\":\"circle\"},\"mode\":\"markers+lines\",\"name\":\"\",\"orientation\":\"v\",\"showlegend\":false,\"x\":[\"2018-01\",\"2018-02\",\"2018-03\",\"2018-04\",\"2018-05\",\"2018-06\",\"2018-07\",\"2018-08\",\"2018-09\",\"2018-10\",\"2018-11\",\"2018-12\",\"2019-01\",\"2019-02\",\"2019-03\",\"2019-04\",\"2019-05\",\"2019-06\",\"2019-07\",\"2019-08\",\"2019-09\",\"2019-10\",\"2019-11\",\"2019-12\",\"2020-01\",\"2020-02\",\"2020-03\",\"2020-04\",\"2020-05\",\"2020-06\",\"2020-07\",\"2020-08\",\"2020-09\",\"2020-10\",\"2020-11\",\"2020-12\",\"2021-01\",\"2021-02\",\"2021-03\",\"2021-04\",\"2021-05\",\"2021-06\",\"2021-07\",\"2021-08\",\"2021-09\",\"2021-10\",\"2021-11\",\"2021-12\",\"2022-01\",\"2022-02\",\"2022-03\",\"2022-04\",\"2022-05\",\"2022-06\",\"2022-07\",\"2022-08\",\"2022-09\"],\"xaxis\":\"x\",\"y\":[339,335,358,397,370,375,453,434,408,373,375,420,476,456,474,434,426,448,607,632,625,587,575,612,749,459,273,117,191,126,142,123,115,144,158,195,190,179,165,145,140,155,157,174,154,157,175,265,202,157,129,251,412,440,557,567,328],\"yaxis\":\"y\",\"type\":\"scatter\"}],                        {\"template\":{\"data\":{\"histogram2dcontour\":[{\"type\":\"histogram2dcontour\",\"colorbar\":{\"outlinewidth\":0,\"ticks\":\"\"},\"colorscale\":[[0.0,\"#0d0887\"],[0.1111111111111111,\"#46039f\"],[0.2222222222222222,\"#7201a8\"],[0.3333333333333333,\"#9c179e\"],[0.4444444444444444,\"#bd3786\"],[0.5555555555555556,\"#d8576b\"],[0.6666666666666666,\"#ed7953\"],[0.7777777777777778,\"#fb9f3a\"],[0.8888888888888888,\"#fdca26\"],[1.0,\"#f0f921\"]]}],\"choropleth\":[{\"type\":\"choropleth\",\"colorbar\":{\"outlinewidth\":0,\"ticks\":\"\"}}],\"histogram2d\":[{\"type\":\"histogram2d\",\"colorbar\":{\"outlinewidth\":0,\"ticks\":\"\"},\"colorscale\":[[0.0,\"#0d0887\"],[0.1111111111111111,\"#46039f\"],[0.2222222222222222,\"#7201a8\"],[0.3333333333333333,\"#9c179e\"],[0.4444444444444444,\"#bd3786\"],[0.5555555555555556,\"#d8576b\"],[0.6666666666666666,\"#ed7953\"],[0.7777777777777778,\"#fb9f3a\"],[0.8888888888888888,\"#fdca26\"],[1.0,\"#f0f921\"]]}],\"heatmap\":[{\"type\":\"heatmap\",\"colorbar\":{\"outlinewidth\":0,\"ticks\":\"\"},\"colorscale\":[[0.0,\"#0d0887\"],[0.1111111111111111,\"#46039f\"],[0.2222222222222222,\"#7201a8\"],[0.3333333333333333,\"#9c179e\"],[0.4444444444444444,\"#bd3786\"],[0.5555555555555556,\"#d8576b\"],[0.6666666666666666,\"#ed7953\"],[0.7777777777777778,\"#fb9f3a\"],[0.8888888888888888,\"#fdca26\"],[1.0,\"#f0f921\"]]}],\"heatmapgl\":[{\"type\":\"heatmapgl\",\"colorbar\":{\"outlinewidth\":0,\"ticks\":\"\"},\"colorscale\":[[0.0,\"#0d0887\"],[0.1111111111111111,\"#46039f\"],[0.2222222222222222,\"#7201a8\"],[0.3333333333333333,\"#9c179e\"],[0.4444444444444444,\"#bd3786\"],[0.5555555555555556,\"#d8576b\"],[0.6666666666666666,\"#ed7953\"],[0.7777777777777778,\"#fb9f3a\"],[0.8888888888888888,\"#fdca26\"],[1.0,\"#f0f921\"]]}],\"contourcarpet\":[{\"type\":\"contourcarpet\",\"colorbar\":{\"outlinewidth\":0,\"ticks\":\"\"}}],\"contour\":[{\"type\":\"contour\",\"colorbar\":{\"outlinewidth\":0,\"ticks\":\"\"},\"colorscale\":[[0.0,\"#0d0887\"],[0.1111111111111111,\"#46039f\"],[0.2222222222222222,\"#7201a8\"],[0.3333333333333333,\"#9c179e\"],[0.4444444444444444,\"#bd3786\"],[0.5555555555555556,\"#d8576b\"],[0.6666666666666666,\"#ed7953\"],[0.7777777777777778,\"#fb9f3a\"],[0.8888888888888888,\"#fdca26\"],[1.0,\"#f0f921\"]]}],\"surface\":[{\"type\":\"surface\",\"colorbar\":{\"outlinewidth\":0,\"ticks\":\"\"},\"colorscale\":[[0.0,\"#0d0887\"],[0.1111111111111111,\"#46039f\"],[0.2222222222222222,\"#7201a8\"],[0.3333333333333333,\"#9c179e\"],[0.4444444444444444,\"#bd3786\"],[0.5555555555555556,\"#d8576b\"],[0.6666666666666666,\"#ed7953\"],[0.7777777777777778,\"#fb9f3a\"],[0.8888888888888888,\"#fdca26\"],[1.0,\"#f0f921\"]]}],\"mesh3d\":[{\"type\":\"mesh3d\",\"colorbar\":{\"outlinewidth\":0,\"ticks\":\"\"}}],\"scatter\":[{\"fillpattern\":{\"fillmode\":\"overlay\",\"size\":10,\"solidity\":0.2},\"type\":\"scatter\"}],\"parcoords\":[{\"type\":\"parcoords\",\"line\":{\"colorbar\":{\"outlinewidth\":0,\"ticks\":\"\"}}}],\"scatterpolargl\":[{\"type\":\"scatterpolargl\",\"marker\":{\"colorbar\":{\"outlinewidth\":0,\"ticks\":\"\"}}}],\"bar\":[{\"error_x\":{\"color\":\"#2a3f5f\"},\"error_y\":{\"color\":\"#2a3f5f\"},\"marker\":{\"line\":{\"color\":\"#E5ECF6\",\"width\":0.5},\"pattern\":{\"fillmode\":\"overlay\",\"size\":10,\"solidity\":0.2}},\"type\":\"bar\"}],\"scattergeo\":[{\"type\":\"scattergeo\",\"marker\":{\"colorbar\":{\"outlinewidth\":0,\"ticks\":\"\"}}}],\"scatterpolar\":[{\"type\":\"scatterpolar\",\"marker\":{\"colorbar\":{\"outlinewidth\":0,\"ticks\":\"\"}}}],\"histogram\":[{\"marker\":{\"pattern\":{\"fillmode\":\"overlay\",\"size\":10,\"solidity\":0.2}},\"type\":\"histogram\"}],\"scattergl\":[{\"type\":\"scattergl\",\"marker\":{\"colorbar\":{\"outlinewidth\":0,\"ticks\":\"\"}}}],\"scatter3d\":[{\"type\":\"scatter3d\",\"line\":{\"colorbar\":{\"outlinewidth\":0,\"ticks\":\"\"}},\"marker\":{\"colorbar\":{\"outlinewidth\":0,\"ticks\":\"\"}}}],\"scattermapbox\":[{\"type\":\"scattermapbox\",\"marker\":{\"colorbar\":{\"outlinewidth\":0,\"ticks\":\"\"}}}],\"scatterternary\":[{\"type\":\"scatterternary\",\"marker\":{\"colorbar\":{\"outlinewidth\":0,\"ticks\":\"\"}}}],\"scattercarpet\":[{\"type\":\"scattercarpet\",\"marker\":{\"colorbar\":{\"outlinewidth\":0,\"ticks\":\"\"}}}],\"carpet\":[{\"aaxis\":{\"endlinecolor\":\"#2a3f5f\",\"gridcolor\":\"white\",\"linecolor\":\"white\",\"minorgridcolor\":\"white\",\"startlinecolor\":\"#2a3f5f\"},\"baxis\":{\"endlinecolor\":\"#2a3f5f\",\"gridcolor\":\"white\",\"linecolor\":\"white\",\"minorgridcolor\":\"white\",\"startlinecolor\":\"#2a3f5f\"},\"type\":\"carpet\"}],\"table\":[{\"cells\":{\"fill\":{\"color\":\"#EBF0F8\"},\"line\":{\"color\":\"white\"}},\"header\":{\"fill\":{\"color\":\"#C8D4E3\"},\"line\":{\"color\":\"white\"}},\"type\":\"table\"}],\"barpolar\":[{\"marker\":{\"line\":{\"color\":\"#E5ECF6\",\"width\":0.5},\"pattern\":{\"fillmode\":\"overlay\",\"size\":10,\"solidity\":0.2}},\"type\":\"barpolar\"}],\"pie\":[{\"automargin\":true,\"type\":\"pie\"}]},\"layout\":{\"autotypenumbers\":\"strict\",\"colorway\":[\"#636efa\",\"#EF553B\",\"#00cc96\",\"#ab63fa\",\"#FFA15A\",\"#19d3f3\",\"#FF6692\",\"#B6E880\",\"#FF97FF\",\"#FECB52\"],\"font\":{\"color\":\"#2a3f5f\"},\"hovermode\":\"closest\",\"hoverlabel\":{\"align\":\"left\"},\"paper_bgcolor\":\"white\",\"plot_bgcolor\":\"#E5ECF6\",\"polar\":{\"bgcolor\":\"#E5ECF6\",\"angularaxis\":{\"gridcolor\":\"white\",\"linecolor\":\"white\",\"ticks\":\"\"},\"radialaxis\":{\"gridcolor\":\"white\",\"linecolor\":\"white\",\"ticks\":\"\"}},\"ternary\":{\"bgcolor\":\"#E5ECF6\",\"aaxis\":{\"gridcolor\":\"white\",\"linecolor\":\"white\",\"ticks\":\"\"},\"baxis\":{\"gridcolor\":\"white\",\"linecolor\":\"white\",\"ticks\":\"\"},\"caxis\":{\"gridcolor\":\"white\",\"linecolor\":\"white\",\"ticks\":\"\"}},\"coloraxis\":{\"colorbar\":{\"outlinewidth\":0,\"ticks\":\"\"}},\"colorscale\":{\"sequential\":[[0.0,\"#0d0887\"],[0.1111111111111111,\"#46039f\"],[0.2222222222222222,\"#7201a8\"],[0.3333333333333333,\"#9c179e\"],[0.4444444444444444,\"#bd3786\"],[0.5555555555555556,\"#d8576b\"],[0.6666666666666666,\"#ed7953\"],[0.7777777777777778,\"#fb9f3a\"],[0.8888888888888888,\"#fdca26\"],[1.0,\"#f0f921\"]],\"sequentialminus\":[[0.0,\"#0d0887\"],[0.1111111111111111,\"#46039f\"],[0.2222222222222222,\"#7201a8\"],[0.3333333333333333,\"#9c179e\"],[0.4444444444444444,\"#bd3786\"],[0.5555555555555556,\"#d8576b\"],[0.6666666666666666,\"#ed7953\"],[0.7777777777777778,\"#fb9f3a\"],[0.8888888888888888,\"#fdca26\"],[1.0,\"#f0f921\"]],\"diverging\":[[0,\"#8e0152\"],[0.1,\"#c51b7d\"],[0.2,\"#de77ae\"],[0.3,\"#f1b6da\"],[0.4,\"#fde0ef\"],[0.5,\"#f7f7f7\"],[0.6,\"#e6f5d0\"],[0.7,\"#b8e186\"],[0.8,\"#7fbc41\"],[0.9,\"#4d9221\"],[1,\"#276419\"]]},\"xaxis\":{\"gridcolor\":\"white\",\"linecolor\":\"white\",\"ticks\":\"\",\"title\":{\"standoff\":15},\"zerolinecolor\":\"white\",\"automargin\":true,\"zerolinewidth\":2},\"yaxis\":{\"gridcolor\":\"white\",\"linecolor\":\"white\",\"ticks\":\"\",\"title\":{\"standoff\":15},\"zerolinecolor\":\"white\",\"automargin\":true,\"zerolinewidth\":2},\"scene\":{\"xaxis\":{\"backgroundcolor\":\"#E5ECF6\",\"gridcolor\":\"white\",\"linecolor\":\"white\",\"showbackground\":true,\"ticks\":\"\",\"zerolinecolor\":\"white\",\"gridwidth\":2},\"yaxis\":{\"backgroundcolor\":\"#E5ECF6\",\"gridcolor\":\"white\",\"linecolor\":\"white\",\"showbackground\":true,\"ticks\":\"\",\"zerolinecolor\":\"white\",\"gridwidth\":2},\"zaxis\":{\"backgroundcolor\":\"#E5ECF6\",\"gridcolor\":\"white\",\"linecolor\":\"white\",\"showbackground\":true,\"ticks\":\"\",\"zerolinecolor\":\"white\",\"gridwidth\":2}},\"shapedefaults\":{\"line\":{\"color\":\"#2a3f5f\"}},\"annotationdefaults\":{\"arrowcolor\":\"#2a3f5f\",\"arrowhead\":0,\"arrowwidth\":1},\"geo\":{\"bgcolor\":\"white\",\"landcolor\":\"#E5ECF6\",\"subunitcolor\":\"white\",\"showland\":true,\"showlakes\":true,\"lakecolor\":\"white\"},\"title\":{\"x\":0.05},\"mapbox\":{\"style\":\"light\"}}},\"xaxis\":{\"anchor\":\"y\",\"domain\":[0.0,1.0],\"title\":{\"text\":\"month\"}},\"yaxis\":{\"anchor\":\"x\",\"domain\":[0.0,1.0],\"title\":{\"text\":\"count\"}},\"legend\":{\"tracegroupgap\":0},\"title\":{\"text\":\"<b>Reviews History of Rented Listings Based on Month</b>\"}},                        {\"responsive\": true}                    ).then(function(){\n",
              "                            \n",
              "var gd = document.getElementById('6ddcf789-c9d4-4017-bd09-36af8157359c');\n",
              "var x = new MutationObserver(function (mutations, observer) {{\n",
              "        var display = window.getComputedStyle(gd).display;\n",
              "        if (!display || display === 'none') {{\n",
              "            console.log([gd, 'removed!']);\n",
              "            Plotly.purge(gd);\n",
              "            observer.disconnect();\n",
              "        }}\n",
              "}});\n",
              "\n",
              "// Listen for the removal of the full notebook cells\n",
              "var notebookContainer = gd.closest('#notebook-container');\n",
              "if (notebookContainer) {{\n",
              "    x.observe(notebookContainer, {childList: true});\n",
              "}}\n",
              "\n",
              "// Listen for the clearing of the current output cell\n",
              "var outputEl = gd.closest('.output');\n",
              "if (outputEl) {{\n",
              "    x.observe(outputEl, {childList: true});\n",
              "}}\n",
              "\n",
              "                        })                };                            </script>        </div>\n",
              "</body>\n",
              "</html>"
            ]
          },
          "metadata": {}
        }
      ]
    },
    {
      "cell_type": "markdown",
      "source": [
        "Reviews history of rented listings properties from 2018, January increased to its most peak in the late 2019 until 2020, January, but immediately decreasing until 2022, March believed because of Covid-19 pandemic. After pandemic goes down, it started increasing again from 2022, April until the last data recorded in 2022, December"
      ],
      "metadata": {
        "id": "YxCsNmd7aW65"
      }
    },
    {
      "cell_type": "code",
      "source": [
        "listing_reviews_year = listings_reviews.groupby('year').agg(count=('year','count')).sort_values(by=['year']).reset_index()\n",
        "\n",
        "fig_lreviews_year = px.histogram(listing_reviews_year, x = 'year', y = 'count', width = 1000)\n",
        "fig_lreviews_year.update_layout(title='<b>Reviews History of Rented Listings Based on Year</b>', title_font=dict(size=20), yaxis_title='reviews_history')\n",
        "display(fig_lreviews_year)"
      ],
      "metadata": {
        "colab": {
          "base_uri": "https://localhost:8080/",
          "height": 542
        },
        "id": "vVJPbsnTQaEA",
        "outputId": "514f26e9-0cb4-42ae-d332-49fd878cbd70"
      },
      "execution_count": null,
      "outputs": [
        {
          "output_type": "display_data",
          "data": {
            "text/html": [
              "<html>\n",
              "<head><meta charset=\"utf-8\" /></head>\n",
              "<body>\n",
              "    <div>            <script src=\"https://cdnjs.cloudflare.com/ajax/libs/mathjax/2.7.5/MathJax.js?config=TeX-AMS-MML_SVG\"></script><script type=\"text/javascript\">if (window.MathJax && window.MathJax.Hub && window.MathJax.Hub.Config) {window.MathJax.Hub.Config({SVG: {font: \"STIX-Web\"}});}</script>                <script type=\"text/javascript\">window.PlotlyConfig = {MathJaxConfig: 'local'};</script>\n",
              "        <script src=\"https://cdn.plot.ly/plotly-2.18.2.min.js\"></script>                <div id=\"4cc005a2-59a1-4a33-9e82-c6361310932c\" class=\"plotly-graph-div\" style=\"height:525px; width:1000px;\"></div>            <script type=\"text/javascript\">                                    window.PLOTLYENV=window.PLOTLYENV || {};                                    if (document.getElementById(\"4cc005a2-59a1-4a33-9e82-c6361310932c\")) {                    Plotly.newPlot(                        \"4cc005a2-59a1-4a33-9e82-c6361310932c\",                        [{\"alignmentgroup\":\"True\",\"bingroup\":\"x\",\"histfunc\":\"sum\",\"hovertemplate\":\"year=%{x}<br>sum of count=%{y}<extra></extra>\",\"legendgroup\":\"\",\"marker\":{\"color\":\"#636efa\",\"pattern\":{\"shape\":\"\"}},\"name\":\"\",\"offsetgroup\":\"\",\"orientation\":\"v\",\"showlegend\":false,\"x\":[\"2018\",\"2019\",\"2020\",\"2021\",\"2022\"],\"xaxis\":\"x\",\"y\":[4637,6352,2792,2056,3043],\"yaxis\":\"y\",\"type\":\"histogram\"}],                        {\"template\":{\"data\":{\"histogram2dcontour\":[{\"type\":\"histogram2dcontour\",\"colorbar\":{\"outlinewidth\":0,\"ticks\":\"\"},\"colorscale\":[[0.0,\"#0d0887\"],[0.1111111111111111,\"#46039f\"],[0.2222222222222222,\"#7201a8\"],[0.3333333333333333,\"#9c179e\"],[0.4444444444444444,\"#bd3786\"],[0.5555555555555556,\"#d8576b\"],[0.6666666666666666,\"#ed7953\"],[0.7777777777777778,\"#fb9f3a\"],[0.8888888888888888,\"#fdca26\"],[1.0,\"#f0f921\"]]}],\"choropleth\":[{\"type\":\"choropleth\",\"colorbar\":{\"outlinewidth\":0,\"ticks\":\"\"}}],\"histogram2d\":[{\"type\":\"histogram2d\",\"colorbar\":{\"outlinewidth\":0,\"ticks\":\"\"},\"colorscale\":[[0.0,\"#0d0887\"],[0.1111111111111111,\"#46039f\"],[0.2222222222222222,\"#7201a8\"],[0.3333333333333333,\"#9c179e\"],[0.4444444444444444,\"#bd3786\"],[0.5555555555555556,\"#d8576b\"],[0.6666666666666666,\"#ed7953\"],[0.7777777777777778,\"#fb9f3a\"],[0.8888888888888888,\"#fdca26\"],[1.0,\"#f0f921\"]]}],\"heatmap\":[{\"type\":\"heatmap\",\"colorbar\":{\"outlinewidth\":0,\"ticks\":\"\"},\"colorscale\":[[0.0,\"#0d0887\"],[0.1111111111111111,\"#46039f\"],[0.2222222222222222,\"#7201a8\"],[0.3333333333333333,\"#9c179e\"],[0.4444444444444444,\"#bd3786\"],[0.5555555555555556,\"#d8576b\"],[0.6666666666666666,\"#ed7953\"],[0.7777777777777778,\"#fb9f3a\"],[0.8888888888888888,\"#fdca26\"],[1.0,\"#f0f921\"]]}],\"heatmapgl\":[{\"type\":\"heatmapgl\",\"colorbar\":{\"outlinewidth\":0,\"ticks\":\"\"},\"colorscale\":[[0.0,\"#0d0887\"],[0.1111111111111111,\"#46039f\"],[0.2222222222222222,\"#7201a8\"],[0.3333333333333333,\"#9c179e\"],[0.4444444444444444,\"#bd3786\"],[0.5555555555555556,\"#d8576b\"],[0.6666666666666666,\"#ed7953\"],[0.7777777777777778,\"#fb9f3a\"],[0.8888888888888888,\"#fdca26\"],[1.0,\"#f0f921\"]]}],\"contourcarpet\":[{\"type\":\"contourcarpet\",\"colorbar\":{\"outlinewidth\":0,\"ticks\":\"\"}}],\"contour\":[{\"type\":\"contour\",\"colorbar\":{\"outlinewidth\":0,\"ticks\":\"\"},\"colorscale\":[[0.0,\"#0d0887\"],[0.1111111111111111,\"#46039f\"],[0.2222222222222222,\"#7201a8\"],[0.3333333333333333,\"#9c179e\"],[0.4444444444444444,\"#bd3786\"],[0.5555555555555556,\"#d8576b\"],[0.6666666666666666,\"#ed7953\"],[0.7777777777777778,\"#fb9f3a\"],[0.8888888888888888,\"#fdca26\"],[1.0,\"#f0f921\"]]}],\"surface\":[{\"type\":\"surface\",\"colorbar\":{\"outlinewidth\":0,\"ticks\":\"\"},\"colorscale\":[[0.0,\"#0d0887\"],[0.1111111111111111,\"#46039f\"],[0.2222222222222222,\"#7201a8\"],[0.3333333333333333,\"#9c179e\"],[0.4444444444444444,\"#bd3786\"],[0.5555555555555556,\"#d8576b\"],[0.6666666666666666,\"#ed7953\"],[0.7777777777777778,\"#fb9f3a\"],[0.8888888888888888,\"#fdca26\"],[1.0,\"#f0f921\"]]}],\"mesh3d\":[{\"type\":\"mesh3d\",\"colorbar\":{\"outlinewidth\":0,\"ticks\":\"\"}}],\"scatter\":[{\"fillpattern\":{\"fillmode\":\"overlay\",\"size\":10,\"solidity\":0.2},\"type\":\"scatter\"}],\"parcoords\":[{\"type\":\"parcoords\",\"line\":{\"colorbar\":{\"outlinewidth\":0,\"ticks\":\"\"}}}],\"scatterpolargl\":[{\"type\":\"scatterpolargl\",\"marker\":{\"colorbar\":{\"outlinewidth\":0,\"ticks\":\"\"}}}],\"bar\":[{\"error_x\":{\"color\":\"#2a3f5f\"},\"error_y\":{\"color\":\"#2a3f5f\"},\"marker\":{\"line\":{\"color\":\"#E5ECF6\",\"width\":0.5},\"pattern\":{\"fillmode\":\"overlay\",\"size\":10,\"solidity\":0.2}},\"type\":\"bar\"}],\"scattergeo\":[{\"type\":\"scattergeo\",\"marker\":{\"colorbar\":{\"outlinewidth\":0,\"ticks\":\"\"}}}],\"scatterpolar\":[{\"type\":\"scatterpolar\",\"marker\":{\"colorbar\":{\"outlinewidth\":0,\"ticks\":\"\"}}}],\"histogram\":[{\"marker\":{\"pattern\":{\"fillmode\":\"overlay\",\"size\":10,\"solidity\":0.2}},\"type\":\"histogram\"}],\"scattergl\":[{\"type\":\"scattergl\",\"marker\":{\"colorbar\":{\"outlinewidth\":0,\"ticks\":\"\"}}}],\"scatter3d\":[{\"type\":\"scatter3d\",\"line\":{\"colorbar\":{\"outlinewidth\":0,\"ticks\":\"\"}},\"marker\":{\"colorbar\":{\"outlinewidth\":0,\"ticks\":\"\"}}}],\"scattermapbox\":[{\"type\":\"scattermapbox\",\"marker\":{\"colorbar\":{\"outlinewidth\":0,\"ticks\":\"\"}}}],\"scatterternary\":[{\"type\":\"scatterternary\",\"marker\":{\"colorbar\":{\"outlinewidth\":0,\"ticks\":\"\"}}}],\"scattercarpet\":[{\"type\":\"scattercarpet\",\"marker\":{\"colorbar\":{\"outlinewidth\":0,\"ticks\":\"\"}}}],\"carpet\":[{\"aaxis\":{\"endlinecolor\":\"#2a3f5f\",\"gridcolor\":\"white\",\"linecolor\":\"white\",\"minorgridcolor\":\"white\",\"startlinecolor\":\"#2a3f5f\"},\"baxis\":{\"endlinecolor\":\"#2a3f5f\",\"gridcolor\":\"white\",\"linecolor\":\"white\",\"minorgridcolor\":\"white\",\"startlinecolor\":\"#2a3f5f\"},\"type\":\"carpet\"}],\"table\":[{\"cells\":{\"fill\":{\"color\":\"#EBF0F8\"},\"line\":{\"color\":\"white\"}},\"header\":{\"fill\":{\"color\":\"#C8D4E3\"},\"line\":{\"color\":\"white\"}},\"type\":\"table\"}],\"barpolar\":[{\"marker\":{\"line\":{\"color\":\"#E5ECF6\",\"width\":0.5},\"pattern\":{\"fillmode\":\"overlay\",\"size\":10,\"solidity\":0.2}},\"type\":\"barpolar\"}],\"pie\":[{\"automargin\":true,\"type\":\"pie\"}]},\"layout\":{\"autotypenumbers\":\"strict\",\"colorway\":[\"#636efa\",\"#EF553B\",\"#00cc96\",\"#ab63fa\",\"#FFA15A\",\"#19d3f3\",\"#FF6692\",\"#B6E880\",\"#FF97FF\",\"#FECB52\"],\"font\":{\"color\":\"#2a3f5f\"},\"hovermode\":\"closest\",\"hoverlabel\":{\"align\":\"left\"},\"paper_bgcolor\":\"white\",\"plot_bgcolor\":\"#E5ECF6\",\"polar\":{\"bgcolor\":\"#E5ECF6\",\"angularaxis\":{\"gridcolor\":\"white\",\"linecolor\":\"white\",\"ticks\":\"\"},\"radialaxis\":{\"gridcolor\":\"white\",\"linecolor\":\"white\",\"ticks\":\"\"}},\"ternary\":{\"bgcolor\":\"#E5ECF6\",\"aaxis\":{\"gridcolor\":\"white\",\"linecolor\":\"white\",\"ticks\":\"\"},\"baxis\":{\"gridcolor\":\"white\",\"linecolor\":\"white\",\"ticks\":\"\"},\"caxis\":{\"gridcolor\":\"white\",\"linecolor\":\"white\",\"ticks\":\"\"}},\"coloraxis\":{\"colorbar\":{\"outlinewidth\":0,\"ticks\":\"\"}},\"colorscale\":{\"sequential\":[[0.0,\"#0d0887\"],[0.1111111111111111,\"#46039f\"],[0.2222222222222222,\"#7201a8\"],[0.3333333333333333,\"#9c179e\"],[0.4444444444444444,\"#bd3786\"],[0.5555555555555556,\"#d8576b\"],[0.6666666666666666,\"#ed7953\"],[0.7777777777777778,\"#fb9f3a\"],[0.8888888888888888,\"#fdca26\"],[1.0,\"#f0f921\"]],\"sequentialminus\":[[0.0,\"#0d0887\"],[0.1111111111111111,\"#46039f\"],[0.2222222222222222,\"#7201a8\"],[0.3333333333333333,\"#9c179e\"],[0.4444444444444444,\"#bd3786\"],[0.5555555555555556,\"#d8576b\"],[0.6666666666666666,\"#ed7953\"],[0.7777777777777778,\"#fb9f3a\"],[0.8888888888888888,\"#fdca26\"],[1.0,\"#f0f921\"]],\"diverging\":[[0,\"#8e0152\"],[0.1,\"#c51b7d\"],[0.2,\"#de77ae\"],[0.3,\"#f1b6da\"],[0.4,\"#fde0ef\"],[0.5,\"#f7f7f7\"],[0.6,\"#e6f5d0\"],[0.7,\"#b8e186\"],[0.8,\"#7fbc41\"],[0.9,\"#4d9221\"],[1,\"#276419\"]]},\"xaxis\":{\"gridcolor\":\"white\",\"linecolor\":\"white\",\"ticks\":\"\",\"title\":{\"standoff\":15},\"zerolinecolor\":\"white\",\"automargin\":true,\"zerolinewidth\":2},\"yaxis\":{\"gridcolor\":\"white\",\"linecolor\":\"white\",\"ticks\":\"\",\"title\":{\"standoff\":15},\"zerolinecolor\":\"white\",\"automargin\":true,\"zerolinewidth\":2},\"scene\":{\"xaxis\":{\"backgroundcolor\":\"#E5ECF6\",\"gridcolor\":\"white\",\"linecolor\":\"white\",\"showbackground\":true,\"ticks\":\"\",\"zerolinecolor\":\"white\",\"gridwidth\":2},\"yaxis\":{\"backgroundcolor\":\"#E5ECF6\",\"gridcolor\":\"white\",\"linecolor\":\"white\",\"showbackground\":true,\"ticks\":\"\",\"zerolinecolor\":\"white\",\"gridwidth\":2},\"zaxis\":{\"backgroundcolor\":\"#E5ECF6\",\"gridcolor\":\"white\",\"linecolor\":\"white\",\"showbackground\":true,\"ticks\":\"\",\"zerolinecolor\":\"white\",\"gridwidth\":2}},\"shapedefaults\":{\"line\":{\"color\":\"#2a3f5f\"}},\"annotationdefaults\":{\"arrowcolor\":\"#2a3f5f\",\"arrowhead\":0,\"arrowwidth\":1},\"geo\":{\"bgcolor\":\"white\",\"landcolor\":\"#E5ECF6\",\"subunitcolor\":\"white\",\"showland\":true,\"showlakes\":true,\"lakecolor\":\"white\"},\"title\":{\"x\":0.05},\"mapbox\":{\"style\":\"light\"}}},\"xaxis\":{\"anchor\":\"y\",\"domain\":[0.0,1.0],\"title\":{\"text\":\"year\"}},\"yaxis\":{\"anchor\":\"x\",\"domain\":[0.0,1.0],\"title\":{\"text\":\"reviews_history\"}},\"legend\":{\"tracegroupgap\":0},\"margin\":{\"t\":60},\"barmode\":\"relative\",\"width\":1000,\"title\":{\"text\":\"<b>Reviews History of Rented Listings Based on Year</b>\",\"font\":{\"size\":20}}},                        {\"responsive\": true}                    ).then(function(){\n",
              "                            \n",
              "var gd = document.getElementById('4cc005a2-59a1-4a33-9e82-c6361310932c');\n",
              "var x = new MutationObserver(function (mutations, observer) {{\n",
              "        var display = window.getComputedStyle(gd).display;\n",
              "        if (!display || display === 'none') {{\n",
              "            console.log([gd, 'removed!']);\n",
              "            Plotly.purge(gd);\n",
              "            observer.disconnect();\n",
              "        }}\n",
              "}});\n",
              "\n",
              "// Listen for the removal of the full notebook cells\n",
              "var notebookContainer = gd.closest('#notebook-container');\n",
              "if (notebookContainer) {{\n",
              "    x.observe(notebookContainer, {childList: true});\n",
              "}}\n",
              "\n",
              "// Listen for the clearing of the current output cell\n",
              "var outputEl = gd.closest('.output');\n",
              "if (outputEl) {{\n",
              "    x.observe(outputEl, {childList: true});\n",
              "}}\n",
              "\n",
              "                        })                };                            </script>        </div>\n",
              "</body>\n",
              "</html>"
            ]
          },
          "metadata": {}
        }
      ]
    },
    {
      "cell_type": "markdown",
      "source": [
        "Correlated with reviews history based on month above, 2019 become the year with the most review history, followed by 2018 and 2022, while 2020 and 2021 having the lowest number of review history because of Covid-19 pandemic."
      ],
      "metadata": {
        "id": "L82sMXy7nWai"
      }
    },
    {
      "cell_type": "markdown",
      "source": [
        "#### **Reviews History of Rented Listings Based on Neighborhood**"
      ],
      "metadata": {
        "id": "X_C6uwTzeCrQ"
      }
    },
    {
      "cell_type": "code",
      "source": [
        "listings_reviews.groupby(['neighbourhood_group','neighbourhood']).agg(neighbourhood_reviews=('neighbourhood','count')).sort_values(by=['neighbourhood_reviews'],ascending=False).reset_index()"
      ],
      "metadata": {
        "colab": {
          "base_uri": "https://localhost:8080/",
          "height": 1000
        },
        "id": "MrXsV6kPU-9r",
        "outputId": "f81c5195-af6e-4e2f-9ea9-d03ec1146a74"
      },
      "execution_count": null,
      "outputs": [
        {
          "output_type": "execute_result",
          "data": {
            "text/plain": [
              "   neighbourhood_group            neighbourhood  neighbourhood_reviews\n",
              "0       Central Region                  Kallang                   2563\n",
              "1       Central Region                   Outram                   2272\n",
              "2       Central Region            Downtown Core                   2270\n",
              "3       Central Region                   Rochor                   2115\n",
              "4       Central Region                  Geylang                   1695\n",
              "5          East Region                    Bedok                   1067\n",
              "6       Central Region             River Valley                    939\n",
              "7          East Region                 Tampines                    744\n",
              "8       Central Region                   Novena                    535\n",
              "9       Central Region              Bukit Merah                    529\n",
              "10      Central Region          Singapore River                    443\n",
              "11      Central Region               Queenstown                    422\n",
              "12   North-East Region                Serangoon                    395\n",
              "13      Central Region                   Newton                    310\n",
              "14   North-East Region                  Hougang                    297\n",
              "15         West Region              Jurong West                    285\n",
              "16      Central Region                  Orchard                    246\n",
              "17        North Region                Woodlands                    238\n",
              "18      Central Region              Bukit Timah                    237\n",
              "19         East Region                Pasir Ris                    181\n",
              "20      Central Region            Marine Parade                    176\n",
              "21   North-East Region                  Punggol                    175\n",
              "22      Central Region             Marina South                    105\n",
              "23      Central Region                   Museum                    103\n",
              "24         West Region              Jurong East                    101\n",
              "25         West Region                 Clementi                    100\n",
              "26      Central Region                   Bishan                     85\n",
              "27      Central Region                  Tanglin                     73\n",
              "28         West Region            Choa Chu Kang                     35\n",
              "29      Central Region         Southern Islands                     27\n",
              "30      Central Region                Toa Payoh                     25\n",
              "31        North Region                   Yishun                     19\n",
              "32         West Region              Bukit Batok                     19\n",
              "33   North-East Region                 Sengkang                     17\n",
              "34        North Region                Sembawang                     12\n",
              "35         West Region            Bukit Panjang                     12\n",
              "36   North-East Region               Ang Mo Kio                      9\n",
              "37        North Region  Central Water Catchment                      4"
            ],
            "text/html": [
              "\n",
              "  <div id=\"df-8f73980b-10df-415b-ac95-2891a89fa7e7\">\n",
              "    <div class=\"colab-df-container\">\n",
              "      <div>\n",
              "<style scoped>\n",
              "    .dataframe tbody tr th:only-of-type {\n",
              "        vertical-align: middle;\n",
              "    }\n",
              "\n",
              "    .dataframe tbody tr th {\n",
              "        vertical-align: top;\n",
              "    }\n",
              "\n",
              "    .dataframe thead th {\n",
              "        text-align: right;\n",
              "    }\n",
              "</style>\n",
              "<table border=\"1\" class=\"dataframe\">\n",
              "  <thead>\n",
              "    <tr style=\"text-align: right;\">\n",
              "      <th></th>\n",
              "      <th>neighbourhood_group</th>\n",
              "      <th>neighbourhood</th>\n",
              "      <th>neighbourhood_reviews</th>\n",
              "    </tr>\n",
              "  </thead>\n",
              "  <tbody>\n",
              "    <tr>\n",
              "      <th>0</th>\n",
              "      <td>Central Region</td>\n",
              "      <td>Kallang</td>\n",
              "      <td>2563</td>\n",
              "    </tr>\n",
              "    <tr>\n",
              "      <th>1</th>\n",
              "      <td>Central Region</td>\n",
              "      <td>Outram</td>\n",
              "      <td>2272</td>\n",
              "    </tr>\n",
              "    <tr>\n",
              "      <th>2</th>\n",
              "      <td>Central Region</td>\n",
              "      <td>Downtown Core</td>\n",
              "      <td>2270</td>\n",
              "    </tr>\n",
              "    <tr>\n",
              "      <th>3</th>\n",
              "      <td>Central Region</td>\n",
              "      <td>Rochor</td>\n",
              "      <td>2115</td>\n",
              "    </tr>\n",
              "    <tr>\n",
              "      <th>4</th>\n",
              "      <td>Central Region</td>\n",
              "      <td>Geylang</td>\n",
              "      <td>1695</td>\n",
              "    </tr>\n",
              "    <tr>\n",
              "      <th>5</th>\n",
              "      <td>East Region</td>\n",
              "      <td>Bedok</td>\n",
              "      <td>1067</td>\n",
              "    </tr>\n",
              "    <tr>\n",
              "      <th>6</th>\n",
              "      <td>Central Region</td>\n",
              "      <td>River Valley</td>\n",
              "      <td>939</td>\n",
              "    </tr>\n",
              "    <tr>\n",
              "      <th>7</th>\n",
              "      <td>East Region</td>\n",
              "      <td>Tampines</td>\n",
              "      <td>744</td>\n",
              "    </tr>\n",
              "    <tr>\n",
              "      <th>8</th>\n",
              "      <td>Central Region</td>\n",
              "      <td>Novena</td>\n",
              "      <td>535</td>\n",
              "    </tr>\n",
              "    <tr>\n",
              "      <th>9</th>\n",
              "      <td>Central Region</td>\n",
              "      <td>Bukit Merah</td>\n",
              "      <td>529</td>\n",
              "    </tr>\n",
              "    <tr>\n",
              "      <th>10</th>\n",
              "      <td>Central Region</td>\n",
              "      <td>Singapore River</td>\n",
              "      <td>443</td>\n",
              "    </tr>\n",
              "    <tr>\n",
              "      <th>11</th>\n",
              "      <td>Central Region</td>\n",
              "      <td>Queenstown</td>\n",
              "      <td>422</td>\n",
              "    </tr>\n",
              "    <tr>\n",
              "      <th>12</th>\n",
              "      <td>North-East Region</td>\n",
              "      <td>Serangoon</td>\n",
              "      <td>395</td>\n",
              "    </tr>\n",
              "    <tr>\n",
              "      <th>13</th>\n",
              "      <td>Central Region</td>\n",
              "      <td>Newton</td>\n",
              "      <td>310</td>\n",
              "    </tr>\n",
              "    <tr>\n",
              "      <th>14</th>\n",
              "      <td>North-East Region</td>\n",
              "      <td>Hougang</td>\n",
              "      <td>297</td>\n",
              "    </tr>\n",
              "    <tr>\n",
              "      <th>15</th>\n",
              "      <td>West Region</td>\n",
              "      <td>Jurong West</td>\n",
              "      <td>285</td>\n",
              "    </tr>\n",
              "    <tr>\n",
              "      <th>16</th>\n",
              "      <td>Central Region</td>\n",
              "      <td>Orchard</td>\n",
              "      <td>246</td>\n",
              "    </tr>\n",
              "    <tr>\n",
              "      <th>17</th>\n",
              "      <td>North Region</td>\n",
              "      <td>Woodlands</td>\n",
              "      <td>238</td>\n",
              "    </tr>\n",
              "    <tr>\n",
              "      <th>18</th>\n",
              "      <td>Central Region</td>\n",
              "      <td>Bukit Timah</td>\n",
              "      <td>237</td>\n",
              "    </tr>\n",
              "    <tr>\n",
              "      <th>19</th>\n",
              "      <td>East Region</td>\n",
              "      <td>Pasir Ris</td>\n",
              "      <td>181</td>\n",
              "    </tr>\n",
              "    <tr>\n",
              "      <th>20</th>\n",
              "      <td>Central Region</td>\n",
              "      <td>Marine Parade</td>\n",
              "      <td>176</td>\n",
              "    </tr>\n",
              "    <tr>\n",
              "      <th>21</th>\n",
              "      <td>North-East Region</td>\n",
              "      <td>Punggol</td>\n",
              "      <td>175</td>\n",
              "    </tr>\n",
              "    <tr>\n",
              "      <th>22</th>\n",
              "      <td>Central Region</td>\n",
              "      <td>Marina South</td>\n",
              "      <td>105</td>\n",
              "    </tr>\n",
              "    <tr>\n",
              "      <th>23</th>\n",
              "      <td>Central Region</td>\n",
              "      <td>Museum</td>\n",
              "      <td>103</td>\n",
              "    </tr>\n",
              "    <tr>\n",
              "      <th>24</th>\n",
              "      <td>West Region</td>\n",
              "      <td>Jurong East</td>\n",
              "      <td>101</td>\n",
              "    </tr>\n",
              "    <tr>\n",
              "      <th>25</th>\n",
              "      <td>West Region</td>\n",
              "      <td>Clementi</td>\n",
              "      <td>100</td>\n",
              "    </tr>\n",
              "    <tr>\n",
              "      <th>26</th>\n",
              "      <td>Central Region</td>\n",
              "      <td>Bishan</td>\n",
              "      <td>85</td>\n",
              "    </tr>\n",
              "    <tr>\n",
              "      <th>27</th>\n",
              "      <td>Central Region</td>\n",
              "      <td>Tanglin</td>\n",
              "      <td>73</td>\n",
              "    </tr>\n",
              "    <tr>\n",
              "      <th>28</th>\n",
              "      <td>West Region</td>\n",
              "      <td>Choa Chu Kang</td>\n",
              "      <td>35</td>\n",
              "    </tr>\n",
              "    <tr>\n",
              "      <th>29</th>\n",
              "      <td>Central Region</td>\n",
              "      <td>Southern Islands</td>\n",
              "      <td>27</td>\n",
              "    </tr>\n",
              "    <tr>\n",
              "      <th>30</th>\n",
              "      <td>Central Region</td>\n",
              "      <td>Toa Payoh</td>\n",
              "      <td>25</td>\n",
              "    </tr>\n",
              "    <tr>\n",
              "      <th>31</th>\n",
              "      <td>North Region</td>\n",
              "      <td>Yishun</td>\n",
              "      <td>19</td>\n",
              "    </tr>\n",
              "    <tr>\n",
              "      <th>32</th>\n",
              "      <td>West Region</td>\n",
              "      <td>Bukit Batok</td>\n",
              "      <td>19</td>\n",
              "    </tr>\n",
              "    <tr>\n",
              "      <th>33</th>\n",
              "      <td>North-East Region</td>\n",
              "      <td>Sengkang</td>\n",
              "      <td>17</td>\n",
              "    </tr>\n",
              "    <tr>\n",
              "      <th>34</th>\n",
              "      <td>North Region</td>\n",
              "      <td>Sembawang</td>\n",
              "      <td>12</td>\n",
              "    </tr>\n",
              "    <tr>\n",
              "      <th>35</th>\n",
              "      <td>West Region</td>\n",
              "      <td>Bukit Panjang</td>\n",
              "      <td>12</td>\n",
              "    </tr>\n",
              "    <tr>\n",
              "      <th>36</th>\n",
              "      <td>North-East Region</td>\n",
              "      <td>Ang Mo Kio</td>\n",
              "      <td>9</td>\n",
              "    </tr>\n",
              "    <tr>\n",
              "      <th>37</th>\n",
              "      <td>North Region</td>\n",
              "      <td>Central Water Catchment</td>\n",
              "      <td>4</td>\n",
              "    </tr>\n",
              "  </tbody>\n",
              "</table>\n",
              "</div>\n",
              "      <button class=\"colab-df-convert\" onclick=\"convertToInteractive('df-8f73980b-10df-415b-ac95-2891a89fa7e7')\"\n",
              "              title=\"Convert this dataframe to an interactive table.\"\n",
              "              style=\"display:none;\">\n",
              "        \n",
              "  <svg xmlns=\"http://www.w3.org/2000/svg\" height=\"24px\"viewBox=\"0 0 24 24\"\n",
              "       width=\"24px\">\n",
              "    <path d=\"M0 0h24v24H0V0z\" fill=\"none\"/>\n",
              "    <path d=\"M18.56 5.44l.94 2.06.94-2.06 2.06-.94-2.06-.94-.94-2.06-.94 2.06-2.06.94zm-11 1L8.5 8.5l.94-2.06 2.06-.94-2.06-.94L8.5 2.5l-.94 2.06-2.06.94zm10 10l.94 2.06.94-2.06 2.06-.94-2.06-.94-.94-2.06-.94 2.06-2.06.94z\"/><path d=\"M17.41 7.96l-1.37-1.37c-.4-.4-.92-.59-1.43-.59-.52 0-1.04.2-1.43.59L10.3 9.45l-7.72 7.72c-.78.78-.78 2.05 0 2.83L4 21.41c.39.39.9.59 1.41.59.51 0 1.02-.2 1.41-.59l7.78-7.78 2.81-2.81c.8-.78.8-2.07 0-2.86zM5.41 20L4 18.59l7.72-7.72 1.47 1.35L5.41 20z\"/>\n",
              "  </svg>\n",
              "      </button>\n",
              "      \n",
              "  <style>\n",
              "    .colab-df-container {\n",
              "      display:flex;\n",
              "      flex-wrap:wrap;\n",
              "      gap: 12px;\n",
              "    }\n",
              "\n",
              "    .colab-df-convert {\n",
              "      background-color: #E8F0FE;\n",
              "      border: none;\n",
              "      border-radius: 50%;\n",
              "      cursor: pointer;\n",
              "      display: none;\n",
              "      fill: #1967D2;\n",
              "      height: 32px;\n",
              "      padding: 0 0 0 0;\n",
              "      width: 32px;\n",
              "    }\n",
              "\n",
              "    .colab-df-convert:hover {\n",
              "      background-color: #E2EBFA;\n",
              "      box-shadow: 0px 1px 2px rgba(60, 64, 67, 0.3), 0px 1px 3px 1px rgba(60, 64, 67, 0.15);\n",
              "      fill: #174EA6;\n",
              "    }\n",
              "\n",
              "    [theme=dark] .colab-df-convert {\n",
              "      background-color: #3B4455;\n",
              "      fill: #D2E3FC;\n",
              "    }\n",
              "\n",
              "    [theme=dark] .colab-df-convert:hover {\n",
              "      background-color: #434B5C;\n",
              "      box-shadow: 0px 1px 3px 1px rgba(0, 0, 0, 0.15);\n",
              "      filter: drop-shadow(0px 1px 2px rgba(0, 0, 0, 0.3));\n",
              "      fill: #FFFFFF;\n",
              "    }\n",
              "  </style>\n",
              "\n",
              "      <script>\n",
              "        const buttonEl =\n",
              "          document.querySelector('#df-8f73980b-10df-415b-ac95-2891a89fa7e7 button.colab-df-convert');\n",
              "        buttonEl.style.display =\n",
              "          google.colab.kernel.accessAllowed ? 'block' : 'none';\n",
              "\n",
              "        async function convertToInteractive(key) {\n",
              "          const element = document.querySelector('#df-8f73980b-10df-415b-ac95-2891a89fa7e7');\n",
              "          const dataTable =\n",
              "            await google.colab.kernel.invokeFunction('convertToInteractive',\n",
              "                                                     [key], {});\n",
              "          if (!dataTable) return;\n",
              "\n",
              "          const docLinkHtml = 'Like what you see? Visit the ' +\n",
              "            '<a target=\"_blank\" href=https://colab.research.google.com/notebooks/data_table.ipynb>data table notebook</a>'\n",
              "            + ' to learn more about interactive tables.';\n",
              "          element.innerHTML = '';\n",
              "          dataTable['output_type'] = 'display_data';\n",
              "          await google.colab.output.renderOutput(dataTable, element);\n",
              "          const docLink = document.createElement('div');\n",
              "          docLink.innerHTML = docLinkHtml;\n",
              "          element.appendChild(docLink);\n",
              "        }\n",
              "      </script>\n",
              "    </div>\n",
              "  </div>\n",
              "  "
            ]
          },
          "metadata": {},
          "execution_count": 48
        }
      ]
    },
    {
      "cell_type": "code",
      "source": [
        "reviews_nb = listings_reviews.groupby(\"neighbourhood_group\").agg(neighbourhood_reviews=(\"neighbourhood_group\",\"count\")).sort_values(by=[\"neighbourhood_reviews\"],ascending=False).reset_index()\n",
        "reviews_nb"
      ],
      "metadata": {
        "colab": {
          "base_uri": "https://localhost:8080/",
          "height": 213
        },
        "id": "uaifRhdlV2fL",
        "outputId": "9e5888e6-2308-4cdd-dcca-a32037e6f668"
      },
      "execution_count": null,
      "outputs": [
        {
          "output_type": "execute_result",
          "data": {
            "text/plain": [
              "  neighbourhood_group  neighbourhood_reviews\n",
              "0      Central Region                  15170\n",
              "1         East Region                   1992\n",
              "2   North-East Region                    893\n",
              "3         West Region                    552\n",
              "4        North Region                    273"
            ],
            "text/html": [
              "\n",
              "  <div id=\"df-6d2ef3a4-7607-4516-b398-f2cabe203465\">\n",
              "    <div class=\"colab-df-container\">\n",
              "      <div>\n",
              "<style scoped>\n",
              "    .dataframe tbody tr th:only-of-type {\n",
              "        vertical-align: middle;\n",
              "    }\n",
              "\n",
              "    .dataframe tbody tr th {\n",
              "        vertical-align: top;\n",
              "    }\n",
              "\n",
              "    .dataframe thead th {\n",
              "        text-align: right;\n",
              "    }\n",
              "</style>\n",
              "<table border=\"1\" class=\"dataframe\">\n",
              "  <thead>\n",
              "    <tr style=\"text-align: right;\">\n",
              "      <th></th>\n",
              "      <th>neighbourhood_group</th>\n",
              "      <th>neighbourhood_reviews</th>\n",
              "    </tr>\n",
              "  </thead>\n",
              "  <tbody>\n",
              "    <tr>\n",
              "      <th>0</th>\n",
              "      <td>Central Region</td>\n",
              "      <td>15170</td>\n",
              "    </tr>\n",
              "    <tr>\n",
              "      <th>1</th>\n",
              "      <td>East Region</td>\n",
              "      <td>1992</td>\n",
              "    </tr>\n",
              "    <tr>\n",
              "      <th>2</th>\n",
              "      <td>North-East Region</td>\n",
              "      <td>893</td>\n",
              "    </tr>\n",
              "    <tr>\n",
              "      <th>3</th>\n",
              "      <td>West Region</td>\n",
              "      <td>552</td>\n",
              "    </tr>\n",
              "    <tr>\n",
              "      <th>4</th>\n",
              "      <td>North Region</td>\n",
              "      <td>273</td>\n",
              "    </tr>\n",
              "  </tbody>\n",
              "</table>\n",
              "</div>\n",
              "      <button class=\"colab-df-convert\" onclick=\"convertToInteractive('df-6d2ef3a4-7607-4516-b398-f2cabe203465')\"\n",
              "              title=\"Convert this dataframe to an interactive table.\"\n",
              "              style=\"display:none;\">\n",
              "        \n",
              "  <svg xmlns=\"http://www.w3.org/2000/svg\" height=\"24px\"viewBox=\"0 0 24 24\"\n",
              "       width=\"24px\">\n",
              "    <path d=\"M0 0h24v24H0V0z\" fill=\"none\"/>\n",
              "    <path d=\"M18.56 5.44l.94 2.06.94-2.06 2.06-.94-2.06-.94-.94-2.06-.94 2.06-2.06.94zm-11 1L8.5 8.5l.94-2.06 2.06-.94-2.06-.94L8.5 2.5l-.94 2.06-2.06.94zm10 10l.94 2.06.94-2.06 2.06-.94-2.06-.94-.94-2.06-.94 2.06-2.06.94z\"/><path d=\"M17.41 7.96l-1.37-1.37c-.4-.4-.92-.59-1.43-.59-.52 0-1.04.2-1.43.59L10.3 9.45l-7.72 7.72c-.78.78-.78 2.05 0 2.83L4 21.41c.39.39.9.59 1.41.59.51 0 1.02-.2 1.41-.59l7.78-7.78 2.81-2.81c.8-.78.8-2.07 0-2.86zM5.41 20L4 18.59l7.72-7.72 1.47 1.35L5.41 20z\"/>\n",
              "  </svg>\n",
              "      </button>\n",
              "      \n",
              "  <style>\n",
              "    .colab-df-container {\n",
              "      display:flex;\n",
              "      flex-wrap:wrap;\n",
              "      gap: 12px;\n",
              "    }\n",
              "\n",
              "    .colab-df-convert {\n",
              "      background-color: #E8F0FE;\n",
              "      border: none;\n",
              "      border-radius: 50%;\n",
              "      cursor: pointer;\n",
              "      display: none;\n",
              "      fill: #1967D2;\n",
              "      height: 32px;\n",
              "      padding: 0 0 0 0;\n",
              "      width: 32px;\n",
              "    }\n",
              "\n",
              "    .colab-df-convert:hover {\n",
              "      background-color: #E2EBFA;\n",
              "      box-shadow: 0px 1px 2px rgba(60, 64, 67, 0.3), 0px 1px 3px 1px rgba(60, 64, 67, 0.15);\n",
              "      fill: #174EA6;\n",
              "    }\n",
              "\n",
              "    [theme=dark] .colab-df-convert {\n",
              "      background-color: #3B4455;\n",
              "      fill: #D2E3FC;\n",
              "    }\n",
              "\n",
              "    [theme=dark] .colab-df-convert:hover {\n",
              "      background-color: #434B5C;\n",
              "      box-shadow: 0px 1px 3px 1px rgba(0, 0, 0, 0.15);\n",
              "      filter: drop-shadow(0px 1px 2px rgba(0, 0, 0, 0.3));\n",
              "      fill: #FFFFFF;\n",
              "    }\n",
              "  </style>\n",
              "\n",
              "      <script>\n",
              "        const buttonEl =\n",
              "          document.querySelector('#df-6d2ef3a4-7607-4516-b398-f2cabe203465 button.colab-df-convert');\n",
              "        buttonEl.style.display =\n",
              "          google.colab.kernel.accessAllowed ? 'block' : 'none';\n",
              "\n",
              "        async function convertToInteractive(key) {\n",
              "          const element = document.querySelector('#df-6d2ef3a4-7607-4516-b398-f2cabe203465');\n",
              "          const dataTable =\n",
              "            await google.colab.kernel.invokeFunction('convertToInteractive',\n",
              "                                                     [key], {});\n",
              "          if (!dataTable) return;\n",
              "\n",
              "          const docLinkHtml = 'Like what you see? Visit the ' +\n",
              "            '<a target=\"_blank\" href=https://colab.research.google.com/notebooks/data_table.ipynb>data table notebook</a>'\n",
              "            + ' to learn more about interactive tables.';\n",
              "          element.innerHTML = '';\n",
              "          dataTable['output_type'] = 'display_data';\n",
              "          await google.colab.output.renderOutput(dataTable, element);\n",
              "          const docLink = document.createElement('div');\n",
              "          docLink.innerHTML = docLinkHtml;\n",
              "          element.appendChild(docLink);\n",
              "        }\n",
              "      </script>\n",
              "    </div>\n",
              "  </div>\n",
              "  "
            ]
          },
          "metadata": {},
          "execution_count": 49
        }
      ]
    },
    {
      "cell_type": "code",
      "source": [
        "fig_reviews_nbdist = px.bar(reviews_nb, x='neighbourhood_reviews', y='neighbourhood_group', color='neighbourhood_group')\n",
        "display(fig_reviews_nbdist)"
      ],
      "metadata": {
        "colab": {
          "base_uri": "https://localhost:8080/",
          "height": 542
        },
        "id": "1a6Z2JKHWmzc",
        "outputId": "e0705359-3c53-46b6-ca73-3768819cb1d1"
      },
      "execution_count": null,
      "outputs": [
        {
          "output_type": "display_data",
          "data": {
            "text/html": [
              "<html>\n",
              "<head><meta charset=\"utf-8\" /></head>\n",
              "<body>\n",
              "    <div>            <script src=\"https://cdnjs.cloudflare.com/ajax/libs/mathjax/2.7.5/MathJax.js?config=TeX-AMS-MML_SVG\"></script><script type=\"text/javascript\">if (window.MathJax && window.MathJax.Hub && window.MathJax.Hub.Config) {window.MathJax.Hub.Config({SVG: {font: \"STIX-Web\"}});}</script>                <script type=\"text/javascript\">window.PlotlyConfig = {MathJaxConfig: 'local'};</script>\n",
              "        <script src=\"https://cdn.plot.ly/plotly-2.18.2.min.js\"></script>                <div id=\"e5e847ad-5b43-426c-913c-5fb9ec0ca187\" class=\"plotly-graph-div\" style=\"height:525px; width:100%;\"></div>            <script type=\"text/javascript\">                                    window.PLOTLYENV=window.PLOTLYENV || {};                                    if (document.getElementById(\"e5e847ad-5b43-426c-913c-5fb9ec0ca187\")) {                    Plotly.newPlot(                        \"e5e847ad-5b43-426c-913c-5fb9ec0ca187\",                        [{\"alignmentgroup\":\"True\",\"hovertemplate\":\"neighbourhood_group=%{y}<br>neighbourhood_reviews=%{x}<extra></extra>\",\"legendgroup\":\"Central Region\",\"marker\":{\"color\":\"#636efa\",\"pattern\":{\"shape\":\"\"}},\"name\":\"Central Region\",\"offsetgroup\":\"Central Region\",\"orientation\":\"h\",\"showlegend\":true,\"textposition\":\"auto\",\"x\":[15170],\"xaxis\":\"x\",\"y\":[\"Central Region\"],\"yaxis\":\"y\",\"type\":\"bar\"},{\"alignmentgroup\":\"True\",\"hovertemplate\":\"neighbourhood_group=%{y}<br>neighbourhood_reviews=%{x}<extra></extra>\",\"legendgroup\":\"East Region\",\"marker\":{\"color\":\"#EF553B\",\"pattern\":{\"shape\":\"\"}},\"name\":\"East Region\",\"offsetgroup\":\"East Region\",\"orientation\":\"h\",\"showlegend\":true,\"textposition\":\"auto\",\"x\":[1992],\"xaxis\":\"x\",\"y\":[\"East Region\"],\"yaxis\":\"y\",\"type\":\"bar\"},{\"alignmentgroup\":\"True\",\"hovertemplate\":\"neighbourhood_group=%{y}<br>neighbourhood_reviews=%{x}<extra></extra>\",\"legendgroup\":\"North-East Region\",\"marker\":{\"color\":\"#00cc96\",\"pattern\":{\"shape\":\"\"}},\"name\":\"North-East Region\",\"offsetgroup\":\"North-East Region\",\"orientation\":\"h\",\"showlegend\":true,\"textposition\":\"auto\",\"x\":[893],\"xaxis\":\"x\",\"y\":[\"North-East Region\"],\"yaxis\":\"y\",\"type\":\"bar\"},{\"alignmentgroup\":\"True\",\"hovertemplate\":\"neighbourhood_group=%{y}<br>neighbourhood_reviews=%{x}<extra></extra>\",\"legendgroup\":\"West Region\",\"marker\":{\"color\":\"#ab63fa\",\"pattern\":{\"shape\":\"\"}},\"name\":\"West Region\",\"offsetgroup\":\"West Region\",\"orientation\":\"h\",\"showlegend\":true,\"textposition\":\"auto\",\"x\":[552],\"xaxis\":\"x\",\"y\":[\"West Region\"],\"yaxis\":\"y\",\"type\":\"bar\"},{\"alignmentgroup\":\"True\",\"hovertemplate\":\"neighbourhood_group=%{y}<br>neighbourhood_reviews=%{x}<extra></extra>\",\"legendgroup\":\"North Region\",\"marker\":{\"color\":\"#FFA15A\",\"pattern\":{\"shape\":\"\"}},\"name\":\"North Region\",\"offsetgroup\":\"North Region\",\"orientation\":\"h\",\"showlegend\":true,\"textposition\":\"auto\",\"x\":[273],\"xaxis\":\"x\",\"y\":[\"North Region\"],\"yaxis\":\"y\",\"type\":\"bar\"}],                        {\"template\":{\"data\":{\"histogram2dcontour\":[{\"type\":\"histogram2dcontour\",\"colorbar\":{\"outlinewidth\":0,\"ticks\":\"\"},\"colorscale\":[[0.0,\"#0d0887\"],[0.1111111111111111,\"#46039f\"],[0.2222222222222222,\"#7201a8\"],[0.3333333333333333,\"#9c179e\"],[0.4444444444444444,\"#bd3786\"],[0.5555555555555556,\"#d8576b\"],[0.6666666666666666,\"#ed7953\"],[0.7777777777777778,\"#fb9f3a\"],[0.8888888888888888,\"#fdca26\"],[1.0,\"#f0f921\"]]}],\"choropleth\":[{\"type\":\"choropleth\",\"colorbar\":{\"outlinewidth\":0,\"ticks\":\"\"}}],\"histogram2d\":[{\"type\":\"histogram2d\",\"colorbar\":{\"outlinewidth\":0,\"ticks\":\"\"},\"colorscale\":[[0.0,\"#0d0887\"],[0.1111111111111111,\"#46039f\"],[0.2222222222222222,\"#7201a8\"],[0.3333333333333333,\"#9c179e\"],[0.4444444444444444,\"#bd3786\"],[0.5555555555555556,\"#d8576b\"],[0.6666666666666666,\"#ed7953\"],[0.7777777777777778,\"#fb9f3a\"],[0.8888888888888888,\"#fdca26\"],[1.0,\"#f0f921\"]]}],\"heatmap\":[{\"type\":\"heatmap\",\"colorbar\":{\"outlinewidth\":0,\"ticks\":\"\"},\"colorscale\":[[0.0,\"#0d0887\"],[0.1111111111111111,\"#46039f\"],[0.2222222222222222,\"#7201a8\"],[0.3333333333333333,\"#9c179e\"],[0.4444444444444444,\"#bd3786\"],[0.5555555555555556,\"#d8576b\"],[0.6666666666666666,\"#ed7953\"],[0.7777777777777778,\"#fb9f3a\"],[0.8888888888888888,\"#fdca26\"],[1.0,\"#f0f921\"]]}],\"heatmapgl\":[{\"type\":\"heatmapgl\",\"colorbar\":{\"outlinewidth\":0,\"ticks\":\"\"},\"colorscale\":[[0.0,\"#0d0887\"],[0.1111111111111111,\"#46039f\"],[0.2222222222222222,\"#7201a8\"],[0.3333333333333333,\"#9c179e\"],[0.4444444444444444,\"#bd3786\"],[0.5555555555555556,\"#d8576b\"],[0.6666666666666666,\"#ed7953\"],[0.7777777777777778,\"#fb9f3a\"],[0.8888888888888888,\"#fdca26\"],[1.0,\"#f0f921\"]]}],\"contourcarpet\":[{\"type\":\"contourcarpet\",\"colorbar\":{\"outlinewidth\":0,\"ticks\":\"\"}}],\"contour\":[{\"type\":\"contour\",\"colorbar\":{\"outlinewidth\":0,\"ticks\":\"\"},\"colorscale\":[[0.0,\"#0d0887\"],[0.1111111111111111,\"#46039f\"],[0.2222222222222222,\"#7201a8\"],[0.3333333333333333,\"#9c179e\"],[0.4444444444444444,\"#bd3786\"],[0.5555555555555556,\"#d8576b\"],[0.6666666666666666,\"#ed7953\"],[0.7777777777777778,\"#fb9f3a\"],[0.8888888888888888,\"#fdca26\"],[1.0,\"#f0f921\"]]}],\"surface\":[{\"type\":\"surface\",\"colorbar\":{\"outlinewidth\":0,\"ticks\":\"\"},\"colorscale\":[[0.0,\"#0d0887\"],[0.1111111111111111,\"#46039f\"],[0.2222222222222222,\"#7201a8\"],[0.3333333333333333,\"#9c179e\"],[0.4444444444444444,\"#bd3786\"],[0.5555555555555556,\"#d8576b\"],[0.6666666666666666,\"#ed7953\"],[0.7777777777777778,\"#fb9f3a\"],[0.8888888888888888,\"#fdca26\"],[1.0,\"#f0f921\"]]}],\"mesh3d\":[{\"type\":\"mesh3d\",\"colorbar\":{\"outlinewidth\":0,\"ticks\":\"\"}}],\"scatter\":[{\"fillpattern\":{\"fillmode\":\"overlay\",\"size\":10,\"solidity\":0.2},\"type\":\"scatter\"}],\"parcoords\":[{\"type\":\"parcoords\",\"line\":{\"colorbar\":{\"outlinewidth\":0,\"ticks\":\"\"}}}],\"scatterpolargl\":[{\"type\":\"scatterpolargl\",\"marker\":{\"colorbar\":{\"outlinewidth\":0,\"ticks\":\"\"}}}],\"bar\":[{\"error_x\":{\"color\":\"#2a3f5f\"},\"error_y\":{\"color\":\"#2a3f5f\"},\"marker\":{\"line\":{\"color\":\"#E5ECF6\",\"width\":0.5},\"pattern\":{\"fillmode\":\"overlay\",\"size\":10,\"solidity\":0.2}},\"type\":\"bar\"}],\"scattergeo\":[{\"type\":\"scattergeo\",\"marker\":{\"colorbar\":{\"outlinewidth\":0,\"ticks\":\"\"}}}],\"scatterpolar\":[{\"type\":\"scatterpolar\",\"marker\":{\"colorbar\":{\"outlinewidth\":0,\"ticks\":\"\"}}}],\"histogram\":[{\"marker\":{\"pattern\":{\"fillmode\":\"overlay\",\"size\":10,\"solidity\":0.2}},\"type\":\"histogram\"}],\"scattergl\":[{\"type\":\"scattergl\",\"marker\":{\"colorbar\":{\"outlinewidth\":0,\"ticks\":\"\"}}}],\"scatter3d\":[{\"type\":\"scatter3d\",\"line\":{\"colorbar\":{\"outlinewidth\":0,\"ticks\":\"\"}},\"marker\":{\"colorbar\":{\"outlinewidth\":0,\"ticks\":\"\"}}}],\"scattermapbox\":[{\"type\":\"scattermapbox\",\"marker\":{\"colorbar\":{\"outlinewidth\":0,\"ticks\":\"\"}}}],\"scatterternary\":[{\"type\":\"scatterternary\",\"marker\":{\"colorbar\":{\"outlinewidth\":0,\"ticks\":\"\"}}}],\"scattercarpet\":[{\"type\":\"scattercarpet\",\"marker\":{\"colorbar\":{\"outlinewidth\":0,\"ticks\":\"\"}}}],\"carpet\":[{\"aaxis\":{\"endlinecolor\":\"#2a3f5f\",\"gridcolor\":\"white\",\"linecolor\":\"white\",\"minorgridcolor\":\"white\",\"startlinecolor\":\"#2a3f5f\"},\"baxis\":{\"endlinecolor\":\"#2a3f5f\",\"gridcolor\":\"white\",\"linecolor\":\"white\",\"minorgridcolor\":\"white\",\"startlinecolor\":\"#2a3f5f\"},\"type\":\"carpet\"}],\"table\":[{\"cells\":{\"fill\":{\"color\":\"#EBF0F8\"},\"line\":{\"color\":\"white\"}},\"header\":{\"fill\":{\"color\":\"#C8D4E3\"},\"line\":{\"color\":\"white\"}},\"type\":\"table\"}],\"barpolar\":[{\"marker\":{\"line\":{\"color\":\"#E5ECF6\",\"width\":0.5},\"pattern\":{\"fillmode\":\"overlay\",\"size\":10,\"solidity\":0.2}},\"type\":\"barpolar\"}],\"pie\":[{\"automargin\":true,\"type\":\"pie\"}]},\"layout\":{\"autotypenumbers\":\"strict\",\"colorway\":[\"#636efa\",\"#EF553B\",\"#00cc96\",\"#ab63fa\",\"#FFA15A\",\"#19d3f3\",\"#FF6692\",\"#B6E880\",\"#FF97FF\",\"#FECB52\"],\"font\":{\"color\":\"#2a3f5f\"},\"hovermode\":\"closest\",\"hoverlabel\":{\"align\":\"left\"},\"paper_bgcolor\":\"white\",\"plot_bgcolor\":\"#E5ECF6\",\"polar\":{\"bgcolor\":\"#E5ECF6\",\"angularaxis\":{\"gridcolor\":\"white\",\"linecolor\":\"white\",\"ticks\":\"\"},\"radialaxis\":{\"gridcolor\":\"white\",\"linecolor\":\"white\",\"ticks\":\"\"}},\"ternary\":{\"bgcolor\":\"#E5ECF6\",\"aaxis\":{\"gridcolor\":\"white\",\"linecolor\":\"white\",\"ticks\":\"\"},\"baxis\":{\"gridcolor\":\"white\",\"linecolor\":\"white\",\"ticks\":\"\"},\"caxis\":{\"gridcolor\":\"white\",\"linecolor\":\"white\",\"ticks\":\"\"}},\"coloraxis\":{\"colorbar\":{\"outlinewidth\":0,\"ticks\":\"\"}},\"colorscale\":{\"sequential\":[[0.0,\"#0d0887\"],[0.1111111111111111,\"#46039f\"],[0.2222222222222222,\"#7201a8\"],[0.3333333333333333,\"#9c179e\"],[0.4444444444444444,\"#bd3786\"],[0.5555555555555556,\"#d8576b\"],[0.6666666666666666,\"#ed7953\"],[0.7777777777777778,\"#fb9f3a\"],[0.8888888888888888,\"#fdca26\"],[1.0,\"#f0f921\"]],\"sequentialminus\":[[0.0,\"#0d0887\"],[0.1111111111111111,\"#46039f\"],[0.2222222222222222,\"#7201a8\"],[0.3333333333333333,\"#9c179e\"],[0.4444444444444444,\"#bd3786\"],[0.5555555555555556,\"#d8576b\"],[0.6666666666666666,\"#ed7953\"],[0.7777777777777778,\"#fb9f3a\"],[0.8888888888888888,\"#fdca26\"],[1.0,\"#f0f921\"]],\"diverging\":[[0,\"#8e0152\"],[0.1,\"#c51b7d\"],[0.2,\"#de77ae\"],[0.3,\"#f1b6da\"],[0.4,\"#fde0ef\"],[0.5,\"#f7f7f7\"],[0.6,\"#e6f5d0\"],[0.7,\"#b8e186\"],[0.8,\"#7fbc41\"],[0.9,\"#4d9221\"],[1,\"#276419\"]]},\"xaxis\":{\"gridcolor\":\"white\",\"linecolor\":\"white\",\"ticks\":\"\",\"title\":{\"standoff\":15},\"zerolinecolor\":\"white\",\"automargin\":true,\"zerolinewidth\":2},\"yaxis\":{\"gridcolor\":\"white\",\"linecolor\":\"white\",\"ticks\":\"\",\"title\":{\"standoff\":15},\"zerolinecolor\":\"white\",\"automargin\":true,\"zerolinewidth\":2},\"scene\":{\"xaxis\":{\"backgroundcolor\":\"#E5ECF6\",\"gridcolor\":\"white\",\"linecolor\":\"white\",\"showbackground\":true,\"ticks\":\"\",\"zerolinecolor\":\"white\",\"gridwidth\":2},\"yaxis\":{\"backgroundcolor\":\"#E5ECF6\",\"gridcolor\":\"white\",\"linecolor\":\"white\",\"showbackground\":true,\"ticks\":\"\",\"zerolinecolor\":\"white\",\"gridwidth\":2},\"zaxis\":{\"backgroundcolor\":\"#E5ECF6\",\"gridcolor\":\"white\",\"linecolor\":\"white\",\"showbackground\":true,\"ticks\":\"\",\"zerolinecolor\":\"white\",\"gridwidth\":2}},\"shapedefaults\":{\"line\":{\"color\":\"#2a3f5f\"}},\"annotationdefaults\":{\"arrowcolor\":\"#2a3f5f\",\"arrowhead\":0,\"arrowwidth\":1},\"geo\":{\"bgcolor\":\"white\",\"landcolor\":\"#E5ECF6\",\"subunitcolor\":\"white\",\"showland\":true,\"showlakes\":true,\"lakecolor\":\"white\"},\"title\":{\"x\":0.05},\"mapbox\":{\"style\":\"light\"}}},\"xaxis\":{\"anchor\":\"y\",\"domain\":[0.0,1.0],\"title\":{\"text\":\"neighbourhood_reviews\"}},\"yaxis\":{\"anchor\":\"x\",\"domain\":[0.0,1.0],\"title\":{\"text\":\"neighbourhood_group\"},\"categoryorder\":\"array\",\"categoryarray\":[\"North Region\",\"West Region\",\"North-East Region\",\"East Region\",\"Central Region\"]},\"legend\":{\"title\":{\"text\":\"neighbourhood_group\"},\"tracegroupgap\":0},\"margin\":{\"t\":60},\"barmode\":\"relative\"},                        {\"responsive\": true}                    ).then(function(){\n",
              "                            \n",
              "var gd = document.getElementById('e5e847ad-5b43-426c-913c-5fb9ec0ca187');\n",
              "var x = new MutationObserver(function (mutations, observer) {{\n",
              "        var display = window.getComputedStyle(gd).display;\n",
              "        if (!display || display === 'none') {{\n",
              "            console.log([gd, 'removed!']);\n",
              "            Plotly.purge(gd);\n",
              "            observer.disconnect();\n",
              "        }}\n",
              "}});\n",
              "\n",
              "// Listen for the removal of the full notebook cells\n",
              "var notebookContainer = gd.closest('#notebook-container');\n",
              "if (notebookContainer) {{\n",
              "    x.observe(notebookContainer, {childList: true});\n",
              "}}\n",
              "\n",
              "// Listen for the clearing of the current output cell\n",
              "var outputEl = gd.closest('.output');\n",
              "if (outputEl) {{\n",
              "    x.observe(outputEl, {childList: true});\n",
              "}}\n",
              "\n",
              "                        })                };                            </script>        </div>\n",
              "</body>\n",
              "</html>"
            ]
          },
          "metadata": {}
        }
      ]
    },
    {
      "cell_type": "markdown",
      "source": [
        "Listings properties with the most reviews history located in Kallang, Central Region with 2563 reviews as this place also have the most rooms listings properties in Singapore. \n",
        "From 10 neighbourhood with the most reviews history, 8 of them located in the Central Region. Total of reviews history for listings properties in Central Region is 15170. This result convinced by the fact most of listings properties distributed in Central Region of Singapore. The list then followed by East, North-East, West, and North Region in sequence "
      ],
      "metadata": {
        "id": "Zg5WVaTBcJi2"
      }
    },
    {
      "cell_type": "markdown",
      "source": [
        "#### **Reviews History of Rented Listings Based on Listings Properties Name**"
      ],
      "metadata": {
        "id": "lYmcmUz0d1Ml"
      }
    },
    {
      "cell_type": "code",
      "source": [
        "top_reviews = listings_reviews.groupby(['id','name']).agg(count=('name','count')).sort_values(by=['count'],ascending=False).reset_index().head(10)\n",
        "top_reviews"
      ],
      "metadata": {
        "colab": {
          "base_uri": "https://localhost:8080/",
          "height": 376
        },
        "id": "xoq8_-aRJqRq",
        "outputId": "1ed34852-8280-4e31-e31b-f151d6b687d7"
      },
      "execution_count": null,
      "outputs": [
        {
          "output_type": "execute_result",
          "data": {
            "text/plain": [
              "         id                                               name  count\n",
              "0   1024986                               Super Host Apartment    218\n",
              "1  43337094              Double Room, DAYUSE, 5 hours: 4PM-9PM    209\n",
              "2  47945468  Single cabin shared bathroom in Tanjong Pagar MRT    185\n",
              "3  12162272    Great location. A spacious, well equipped home.    184\n",
              "4  21415749     Luxury Capsule (Single - Mixed) [Kampong Glam]    170\n",
              "5   2129215                   Luxuriously Spacious Studio Apt.    167\n",
              "6  22051870                            Small Utility Cosy Room    159\n",
              "7   8277151  kitchen, washer, spacious serviced apartment town    148\n",
              "8  22745179                          Sea View Studio @ Shenton    143\n",
              "9  15792808                         Chinatown Studio No window    137"
            ],
            "text/html": [
              "\n",
              "  <div id=\"df-d1d4ac79-18b4-4bbe-8c50-7df8f5ae02fa\">\n",
              "    <div class=\"colab-df-container\">\n",
              "      <div>\n",
              "<style scoped>\n",
              "    .dataframe tbody tr th:only-of-type {\n",
              "        vertical-align: middle;\n",
              "    }\n",
              "\n",
              "    .dataframe tbody tr th {\n",
              "        vertical-align: top;\n",
              "    }\n",
              "\n",
              "    .dataframe thead th {\n",
              "        text-align: right;\n",
              "    }\n",
              "</style>\n",
              "<table border=\"1\" class=\"dataframe\">\n",
              "  <thead>\n",
              "    <tr style=\"text-align: right;\">\n",
              "      <th></th>\n",
              "      <th>id</th>\n",
              "      <th>name</th>\n",
              "      <th>count</th>\n",
              "    </tr>\n",
              "  </thead>\n",
              "  <tbody>\n",
              "    <tr>\n",
              "      <th>0</th>\n",
              "      <td>1024986</td>\n",
              "      <td>Super Host Apartment</td>\n",
              "      <td>218</td>\n",
              "    </tr>\n",
              "    <tr>\n",
              "      <th>1</th>\n",
              "      <td>43337094</td>\n",
              "      <td>Double Room, DAYUSE, 5 hours: 4PM-9PM</td>\n",
              "      <td>209</td>\n",
              "    </tr>\n",
              "    <tr>\n",
              "      <th>2</th>\n",
              "      <td>47945468</td>\n",
              "      <td>Single cabin shared bathroom in Tanjong Pagar MRT</td>\n",
              "      <td>185</td>\n",
              "    </tr>\n",
              "    <tr>\n",
              "      <th>3</th>\n",
              "      <td>12162272</td>\n",
              "      <td>Great location. A spacious, well equipped home.</td>\n",
              "      <td>184</td>\n",
              "    </tr>\n",
              "    <tr>\n",
              "      <th>4</th>\n",
              "      <td>21415749</td>\n",
              "      <td>Luxury Capsule (Single - Mixed) [Kampong Glam]</td>\n",
              "      <td>170</td>\n",
              "    </tr>\n",
              "    <tr>\n",
              "      <th>5</th>\n",
              "      <td>2129215</td>\n",
              "      <td>Luxuriously Spacious Studio Apt.</td>\n",
              "      <td>167</td>\n",
              "    </tr>\n",
              "    <tr>\n",
              "      <th>6</th>\n",
              "      <td>22051870</td>\n",
              "      <td>Small Utility Cosy Room</td>\n",
              "      <td>159</td>\n",
              "    </tr>\n",
              "    <tr>\n",
              "      <th>7</th>\n",
              "      <td>8277151</td>\n",
              "      <td>kitchen, washer, spacious serviced apartment town</td>\n",
              "      <td>148</td>\n",
              "    </tr>\n",
              "    <tr>\n",
              "      <th>8</th>\n",
              "      <td>22745179</td>\n",
              "      <td>Sea View Studio @ Shenton</td>\n",
              "      <td>143</td>\n",
              "    </tr>\n",
              "    <tr>\n",
              "      <th>9</th>\n",
              "      <td>15792808</td>\n",
              "      <td>Chinatown Studio No window</td>\n",
              "      <td>137</td>\n",
              "    </tr>\n",
              "  </tbody>\n",
              "</table>\n",
              "</div>\n",
              "      <button class=\"colab-df-convert\" onclick=\"convertToInteractive('df-d1d4ac79-18b4-4bbe-8c50-7df8f5ae02fa')\"\n",
              "              title=\"Convert this dataframe to an interactive table.\"\n",
              "              style=\"display:none;\">\n",
              "        \n",
              "  <svg xmlns=\"http://www.w3.org/2000/svg\" height=\"24px\"viewBox=\"0 0 24 24\"\n",
              "       width=\"24px\">\n",
              "    <path d=\"M0 0h24v24H0V0z\" fill=\"none\"/>\n",
              "    <path d=\"M18.56 5.44l.94 2.06.94-2.06 2.06-.94-2.06-.94-.94-2.06-.94 2.06-2.06.94zm-11 1L8.5 8.5l.94-2.06 2.06-.94-2.06-.94L8.5 2.5l-.94 2.06-2.06.94zm10 10l.94 2.06.94-2.06 2.06-.94-2.06-.94-.94-2.06-.94 2.06-2.06.94z\"/><path d=\"M17.41 7.96l-1.37-1.37c-.4-.4-.92-.59-1.43-.59-.52 0-1.04.2-1.43.59L10.3 9.45l-7.72 7.72c-.78.78-.78 2.05 0 2.83L4 21.41c.39.39.9.59 1.41.59.51 0 1.02-.2 1.41-.59l7.78-7.78 2.81-2.81c.8-.78.8-2.07 0-2.86zM5.41 20L4 18.59l7.72-7.72 1.47 1.35L5.41 20z\"/>\n",
              "  </svg>\n",
              "      </button>\n",
              "      \n",
              "  <style>\n",
              "    .colab-df-container {\n",
              "      display:flex;\n",
              "      flex-wrap:wrap;\n",
              "      gap: 12px;\n",
              "    }\n",
              "\n",
              "    .colab-df-convert {\n",
              "      background-color: #E8F0FE;\n",
              "      border: none;\n",
              "      border-radius: 50%;\n",
              "      cursor: pointer;\n",
              "      display: none;\n",
              "      fill: #1967D2;\n",
              "      height: 32px;\n",
              "      padding: 0 0 0 0;\n",
              "      width: 32px;\n",
              "    }\n",
              "\n",
              "    .colab-df-convert:hover {\n",
              "      background-color: #E2EBFA;\n",
              "      box-shadow: 0px 1px 2px rgba(60, 64, 67, 0.3), 0px 1px 3px 1px rgba(60, 64, 67, 0.15);\n",
              "      fill: #174EA6;\n",
              "    }\n",
              "\n",
              "    [theme=dark] .colab-df-convert {\n",
              "      background-color: #3B4455;\n",
              "      fill: #D2E3FC;\n",
              "    }\n",
              "\n",
              "    [theme=dark] .colab-df-convert:hover {\n",
              "      background-color: #434B5C;\n",
              "      box-shadow: 0px 1px 3px 1px rgba(0, 0, 0, 0.15);\n",
              "      filter: drop-shadow(0px 1px 2px rgba(0, 0, 0, 0.3));\n",
              "      fill: #FFFFFF;\n",
              "    }\n",
              "  </style>\n",
              "\n",
              "      <script>\n",
              "        const buttonEl =\n",
              "          document.querySelector('#df-d1d4ac79-18b4-4bbe-8c50-7df8f5ae02fa button.colab-df-convert');\n",
              "        buttonEl.style.display =\n",
              "          google.colab.kernel.accessAllowed ? 'block' : 'none';\n",
              "\n",
              "        async function convertToInteractive(key) {\n",
              "          const element = document.querySelector('#df-d1d4ac79-18b4-4bbe-8c50-7df8f5ae02fa');\n",
              "          const dataTable =\n",
              "            await google.colab.kernel.invokeFunction('convertToInteractive',\n",
              "                                                     [key], {});\n",
              "          if (!dataTable) return;\n",
              "\n",
              "          const docLinkHtml = 'Like what you see? Visit the ' +\n",
              "            '<a target=\"_blank\" href=https://colab.research.google.com/notebooks/data_table.ipynb>data table notebook</a>'\n",
              "            + ' to learn more about interactive tables.';\n",
              "          element.innerHTML = '';\n",
              "          dataTable['output_type'] = 'display_data';\n",
              "          await google.colab.output.renderOutput(dataTable, element);\n",
              "          const docLink = document.createElement('div');\n",
              "          docLink.innerHTML = docLinkHtml;\n",
              "          element.appendChild(docLink);\n",
              "        }\n",
              "      </script>\n",
              "    </div>\n",
              "  </div>\n",
              "  "
            ]
          },
          "metadata": {},
          "execution_count": 51
        }
      ]
    },
    {
      "cell_type": "code",
      "source": [
        "fig_top_reviews = px.bar(top_reviews, x = 'count', y = 'name', orientation = 'h', width = 1000 )\n",
        "fig_top_reviews.update_layout(title=\"<b>Top 10 Listings with The Most Reviews</b>\", title_font=dict(size=20))\n",
        "fig_top_reviews.update_layout(yaxis={'categoryorder':'total ascending'})\n",
        "display(fig_top_reviews)"
      ],
      "metadata": {
        "colab": {
          "base_uri": "https://localhost:8080/",
          "height": 542
        },
        "id": "2yjKLNNeUo39",
        "outputId": "9dde1c81-a957-4db2-a2ed-bc0a2768279e"
      },
      "execution_count": null,
      "outputs": [
        {
          "output_type": "display_data",
          "data": {
            "text/html": [
              "<html>\n",
              "<head><meta charset=\"utf-8\" /></head>\n",
              "<body>\n",
              "    <div>            <script src=\"https://cdnjs.cloudflare.com/ajax/libs/mathjax/2.7.5/MathJax.js?config=TeX-AMS-MML_SVG\"></script><script type=\"text/javascript\">if (window.MathJax && window.MathJax.Hub && window.MathJax.Hub.Config) {window.MathJax.Hub.Config({SVG: {font: \"STIX-Web\"}});}</script>                <script type=\"text/javascript\">window.PlotlyConfig = {MathJaxConfig: 'local'};</script>\n",
              "        <script src=\"https://cdn.plot.ly/plotly-2.18.2.min.js\"></script>                <div id=\"4c1fe32f-76b0-4805-99e4-2518d1737f32\" class=\"plotly-graph-div\" style=\"height:525px; width:1000px;\"></div>            <script type=\"text/javascript\">                                    window.PLOTLYENV=window.PLOTLYENV || {};                                    if (document.getElementById(\"4c1fe32f-76b0-4805-99e4-2518d1737f32\")) {                    Plotly.newPlot(                        \"4c1fe32f-76b0-4805-99e4-2518d1737f32\",                        [{\"alignmentgroup\":\"True\",\"hovertemplate\":\"count=%{x}<br>name=%{y}<extra></extra>\",\"legendgroup\":\"\",\"marker\":{\"color\":\"#636efa\",\"pattern\":{\"shape\":\"\"}},\"name\":\"\",\"offsetgroup\":\"\",\"orientation\":\"h\",\"showlegend\":false,\"textposition\":\"auto\",\"x\":[218,209,185,184,170,167,159,148,143,137],\"xaxis\":\"x\",\"y\":[\"Super Host Apartment\",\"Double Room, DAYUSE, 5 hours: 4PM-9PM\",\"Single cabin shared bathroom in Tanjong Pagar MRT\",\"Great location. A spacious, well equipped home.\",\"Luxury Capsule (Single - Mixed) [Kampong Glam]\",\"Luxuriously Spacious Studio Apt.\",\"Small Utility Cosy Room\",\"kitchen, washer, spacious serviced apartment town\",\"Sea View Studio @ Shenton\",\"Chinatown Studio No window\"],\"yaxis\":\"y\",\"type\":\"bar\"}],                        {\"template\":{\"data\":{\"histogram2dcontour\":[{\"type\":\"histogram2dcontour\",\"colorbar\":{\"outlinewidth\":0,\"ticks\":\"\"},\"colorscale\":[[0.0,\"#0d0887\"],[0.1111111111111111,\"#46039f\"],[0.2222222222222222,\"#7201a8\"],[0.3333333333333333,\"#9c179e\"],[0.4444444444444444,\"#bd3786\"],[0.5555555555555556,\"#d8576b\"],[0.6666666666666666,\"#ed7953\"],[0.7777777777777778,\"#fb9f3a\"],[0.8888888888888888,\"#fdca26\"],[1.0,\"#f0f921\"]]}],\"choropleth\":[{\"type\":\"choropleth\",\"colorbar\":{\"outlinewidth\":0,\"ticks\":\"\"}}],\"histogram2d\":[{\"type\":\"histogram2d\",\"colorbar\":{\"outlinewidth\":0,\"ticks\":\"\"},\"colorscale\":[[0.0,\"#0d0887\"],[0.1111111111111111,\"#46039f\"],[0.2222222222222222,\"#7201a8\"],[0.3333333333333333,\"#9c179e\"],[0.4444444444444444,\"#bd3786\"],[0.5555555555555556,\"#d8576b\"],[0.6666666666666666,\"#ed7953\"],[0.7777777777777778,\"#fb9f3a\"],[0.8888888888888888,\"#fdca26\"],[1.0,\"#f0f921\"]]}],\"heatmap\":[{\"type\":\"heatmap\",\"colorbar\":{\"outlinewidth\":0,\"ticks\":\"\"},\"colorscale\":[[0.0,\"#0d0887\"],[0.1111111111111111,\"#46039f\"],[0.2222222222222222,\"#7201a8\"],[0.3333333333333333,\"#9c179e\"],[0.4444444444444444,\"#bd3786\"],[0.5555555555555556,\"#d8576b\"],[0.6666666666666666,\"#ed7953\"],[0.7777777777777778,\"#fb9f3a\"],[0.8888888888888888,\"#fdca26\"],[1.0,\"#f0f921\"]]}],\"heatmapgl\":[{\"type\":\"heatmapgl\",\"colorbar\":{\"outlinewidth\":0,\"ticks\":\"\"},\"colorscale\":[[0.0,\"#0d0887\"],[0.1111111111111111,\"#46039f\"],[0.2222222222222222,\"#7201a8\"],[0.3333333333333333,\"#9c179e\"],[0.4444444444444444,\"#bd3786\"],[0.5555555555555556,\"#d8576b\"],[0.6666666666666666,\"#ed7953\"],[0.7777777777777778,\"#fb9f3a\"],[0.8888888888888888,\"#fdca26\"],[1.0,\"#f0f921\"]]}],\"contourcarpet\":[{\"type\":\"contourcarpet\",\"colorbar\":{\"outlinewidth\":0,\"ticks\":\"\"}}],\"contour\":[{\"type\":\"contour\",\"colorbar\":{\"outlinewidth\":0,\"ticks\":\"\"},\"colorscale\":[[0.0,\"#0d0887\"],[0.1111111111111111,\"#46039f\"],[0.2222222222222222,\"#7201a8\"],[0.3333333333333333,\"#9c179e\"],[0.4444444444444444,\"#bd3786\"],[0.5555555555555556,\"#d8576b\"],[0.6666666666666666,\"#ed7953\"],[0.7777777777777778,\"#fb9f3a\"],[0.8888888888888888,\"#fdca26\"],[1.0,\"#f0f921\"]]}],\"surface\":[{\"type\":\"surface\",\"colorbar\":{\"outlinewidth\":0,\"ticks\":\"\"},\"colorscale\":[[0.0,\"#0d0887\"],[0.1111111111111111,\"#46039f\"],[0.2222222222222222,\"#7201a8\"],[0.3333333333333333,\"#9c179e\"],[0.4444444444444444,\"#bd3786\"],[0.5555555555555556,\"#d8576b\"],[0.6666666666666666,\"#ed7953\"],[0.7777777777777778,\"#fb9f3a\"],[0.8888888888888888,\"#fdca26\"],[1.0,\"#f0f921\"]]}],\"mesh3d\":[{\"type\":\"mesh3d\",\"colorbar\":{\"outlinewidth\":0,\"ticks\":\"\"}}],\"scatter\":[{\"fillpattern\":{\"fillmode\":\"overlay\",\"size\":10,\"solidity\":0.2},\"type\":\"scatter\"}],\"parcoords\":[{\"type\":\"parcoords\",\"line\":{\"colorbar\":{\"outlinewidth\":0,\"ticks\":\"\"}}}],\"scatterpolargl\":[{\"type\":\"scatterpolargl\",\"marker\":{\"colorbar\":{\"outlinewidth\":0,\"ticks\":\"\"}}}],\"bar\":[{\"error_x\":{\"color\":\"#2a3f5f\"},\"error_y\":{\"color\":\"#2a3f5f\"},\"marker\":{\"line\":{\"color\":\"#E5ECF6\",\"width\":0.5},\"pattern\":{\"fillmode\":\"overlay\",\"size\":10,\"solidity\":0.2}},\"type\":\"bar\"}],\"scattergeo\":[{\"type\":\"scattergeo\",\"marker\":{\"colorbar\":{\"outlinewidth\":0,\"ticks\":\"\"}}}],\"scatterpolar\":[{\"type\":\"scatterpolar\",\"marker\":{\"colorbar\":{\"outlinewidth\":0,\"ticks\":\"\"}}}],\"histogram\":[{\"marker\":{\"pattern\":{\"fillmode\":\"overlay\",\"size\":10,\"solidity\":0.2}},\"type\":\"histogram\"}],\"scattergl\":[{\"type\":\"scattergl\",\"marker\":{\"colorbar\":{\"outlinewidth\":0,\"ticks\":\"\"}}}],\"scatter3d\":[{\"type\":\"scatter3d\",\"line\":{\"colorbar\":{\"outlinewidth\":0,\"ticks\":\"\"}},\"marker\":{\"colorbar\":{\"outlinewidth\":0,\"ticks\":\"\"}}}],\"scattermapbox\":[{\"type\":\"scattermapbox\",\"marker\":{\"colorbar\":{\"outlinewidth\":0,\"ticks\":\"\"}}}],\"scatterternary\":[{\"type\":\"scatterternary\",\"marker\":{\"colorbar\":{\"outlinewidth\":0,\"ticks\":\"\"}}}],\"scattercarpet\":[{\"type\":\"scattercarpet\",\"marker\":{\"colorbar\":{\"outlinewidth\":0,\"ticks\":\"\"}}}],\"carpet\":[{\"aaxis\":{\"endlinecolor\":\"#2a3f5f\",\"gridcolor\":\"white\",\"linecolor\":\"white\",\"minorgridcolor\":\"white\",\"startlinecolor\":\"#2a3f5f\"},\"baxis\":{\"endlinecolor\":\"#2a3f5f\",\"gridcolor\":\"white\",\"linecolor\":\"white\",\"minorgridcolor\":\"white\",\"startlinecolor\":\"#2a3f5f\"},\"type\":\"carpet\"}],\"table\":[{\"cells\":{\"fill\":{\"color\":\"#EBF0F8\"},\"line\":{\"color\":\"white\"}},\"header\":{\"fill\":{\"color\":\"#C8D4E3\"},\"line\":{\"color\":\"white\"}},\"type\":\"table\"}],\"barpolar\":[{\"marker\":{\"line\":{\"color\":\"#E5ECF6\",\"width\":0.5},\"pattern\":{\"fillmode\":\"overlay\",\"size\":10,\"solidity\":0.2}},\"type\":\"barpolar\"}],\"pie\":[{\"automargin\":true,\"type\":\"pie\"}]},\"layout\":{\"autotypenumbers\":\"strict\",\"colorway\":[\"#636efa\",\"#EF553B\",\"#00cc96\",\"#ab63fa\",\"#FFA15A\",\"#19d3f3\",\"#FF6692\",\"#B6E880\",\"#FF97FF\",\"#FECB52\"],\"font\":{\"color\":\"#2a3f5f\"},\"hovermode\":\"closest\",\"hoverlabel\":{\"align\":\"left\"},\"paper_bgcolor\":\"white\",\"plot_bgcolor\":\"#E5ECF6\",\"polar\":{\"bgcolor\":\"#E5ECF6\",\"angularaxis\":{\"gridcolor\":\"white\",\"linecolor\":\"white\",\"ticks\":\"\"},\"radialaxis\":{\"gridcolor\":\"white\",\"linecolor\":\"white\",\"ticks\":\"\"}},\"ternary\":{\"bgcolor\":\"#E5ECF6\",\"aaxis\":{\"gridcolor\":\"white\",\"linecolor\":\"white\",\"ticks\":\"\"},\"baxis\":{\"gridcolor\":\"white\",\"linecolor\":\"white\",\"ticks\":\"\"},\"caxis\":{\"gridcolor\":\"white\",\"linecolor\":\"white\",\"ticks\":\"\"}},\"coloraxis\":{\"colorbar\":{\"outlinewidth\":0,\"ticks\":\"\"}},\"colorscale\":{\"sequential\":[[0.0,\"#0d0887\"],[0.1111111111111111,\"#46039f\"],[0.2222222222222222,\"#7201a8\"],[0.3333333333333333,\"#9c179e\"],[0.4444444444444444,\"#bd3786\"],[0.5555555555555556,\"#d8576b\"],[0.6666666666666666,\"#ed7953\"],[0.7777777777777778,\"#fb9f3a\"],[0.8888888888888888,\"#fdca26\"],[1.0,\"#f0f921\"]],\"sequentialminus\":[[0.0,\"#0d0887\"],[0.1111111111111111,\"#46039f\"],[0.2222222222222222,\"#7201a8\"],[0.3333333333333333,\"#9c179e\"],[0.4444444444444444,\"#bd3786\"],[0.5555555555555556,\"#d8576b\"],[0.6666666666666666,\"#ed7953\"],[0.7777777777777778,\"#fb9f3a\"],[0.8888888888888888,\"#fdca26\"],[1.0,\"#f0f921\"]],\"diverging\":[[0,\"#8e0152\"],[0.1,\"#c51b7d\"],[0.2,\"#de77ae\"],[0.3,\"#f1b6da\"],[0.4,\"#fde0ef\"],[0.5,\"#f7f7f7\"],[0.6,\"#e6f5d0\"],[0.7,\"#b8e186\"],[0.8,\"#7fbc41\"],[0.9,\"#4d9221\"],[1,\"#276419\"]]},\"xaxis\":{\"gridcolor\":\"white\",\"linecolor\":\"white\",\"ticks\":\"\",\"title\":{\"standoff\":15},\"zerolinecolor\":\"white\",\"automargin\":true,\"zerolinewidth\":2},\"yaxis\":{\"gridcolor\":\"white\",\"linecolor\":\"white\",\"ticks\":\"\",\"title\":{\"standoff\":15},\"zerolinecolor\":\"white\",\"automargin\":true,\"zerolinewidth\":2},\"scene\":{\"xaxis\":{\"backgroundcolor\":\"#E5ECF6\",\"gridcolor\":\"white\",\"linecolor\":\"white\",\"showbackground\":true,\"ticks\":\"\",\"zerolinecolor\":\"white\",\"gridwidth\":2},\"yaxis\":{\"backgroundcolor\":\"#E5ECF6\",\"gridcolor\":\"white\",\"linecolor\":\"white\",\"showbackground\":true,\"ticks\":\"\",\"zerolinecolor\":\"white\",\"gridwidth\":2},\"zaxis\":{\"backgroundcolor\":\"#E5ECF6\",\"gridcolor\":\"white\",\"linecolor\":\"white\",\"showbackground\":true,\"ticks\":\"\",\"zerolinecolor\":\"white\",\"gridwidth\":2}},\"shapedefaults\":{\"line\":{\"color\":\"#2a3f5f\"}},\"annotationdefaults\":{\"arrowcolor\":\"#2a3f5f\",\"arrowhead\":0,\"arrowwidth\":1},\"geo\":{\"bgcolor\":\"white\",\"landcolor\":\"#E5ECF6\",\"subunitcolor\":\"white\",\"showland\":true,\"showlakes\":true,\"lakecolor\":\"white\"},\"title\":{\"x\":0.05},\"mapbox\":{\"style\":\"light\"}}},\"xaxis\":{\"anchor\":\"y\",\"domain\":[0.0,1.0],\"title\":{\"text\":\"count\"}},\"yaxis\":{\"anchor\":\"x\",\"domain\":[0.0,1.0],\"title\":{\"text\":\"name\"},\"categoryorder\":\"total ascending\"},\"legend\":{\"tracegroupgap\":0},\"margin\":{\"t\":60},\"barmode\":\"relative\",\"width\":1000,\"title\":{\"text\":\"<b>Top 10 Listings with The Most Reviews</b>\",\"font\":{\"size\":20}}},                        {\"responsive\": true}                    ).then(function(){\n",
              "                            \n",
              "var gd = document.getElementById('4c1fe32f-76b0-4805-99e4-2518d1737f32');\n",
              "var x = new MutationObserver(function (mutations, observer) {{\n",
              "        var display = window.getComputedStyle(gd).display;\n",
              "        if (!display || display === 'none') {{\n",
              "            console.log([gd, 'removed!']);\n",
              "            Plotly.purge(gd);\n",
              "            observer.disconnect();\n",
              "        }}\n",
              "}});\n",
              "\n",
              "// Listen for the removal of the full notebook cells\n",
              "var notebookContainer = gd.closest('#notebook-container');\n",
              "if (notebookContainer) {{\n",
              "    x.observe(notebookContainer, {childList: true});\n",
              "}}\n",
              "\n",
              "// Listen for the clearing of the current output cell\n",
              "var outputEl = gd.closest('.output');\n",
              "if (outputEl) {{\n",
              "    x.observe(outputEl, {childList: true});\n",
              "}}\n",
              "\n",
              "                        })                };                            </script>        </div>\n",
              "</body>\n",
              "</html>"
            ]
          },
          "metadata": {}
        }
      ]
    },
    {
      "cell_type": "markdown",
      "source": [
        "## **Conclusion**"
      ],
      "metadata": {
        "id": "v0kZYWXHtBUr"
      }
    },
    {
      "cell_type": "markdown",
      "source": [
        "*   From 2018, January to 2022, September recorded that Airbnb listings properties in Singapore distributed mainly in Central Region, main metropolitan region in Singapore covered 82.9% from overall listings distribution available\n",
        "\n",
        "*   Based on room type, the most popular listings properties are entire home/apt and private room type\n",
        "\n",
        "*   Most of listings properties having prices under 2000 without regards of their location in Singapore. While the mean price is 254, the mean price for each neighborhood group is also not far from it\n",
        "\n",
        "*   The highest price held by entire home/apt with mean price 368.370 followed by hotel room, private room, and shared room respectively have mean price under 200 considered the difference of facilities they may provided\n",
        "\n",
        "*   Reviews history of listings properties was having its peak until late 2019 and immediately decreasing in number because of Covid-19 pandemic, gladly this sector started to goes up again since pandemic goes down in 2022, April\n",
        "\n",
        "*   Correlated with Central Region has the most listings properties distribution in Singapore, the highest reviews history also come from Central Region\n",
        "\n",
        "The recommendation we could give for our clients' from the result of analysis is to consider Airbnb properties who has price under 2000 which most of listings properties have and focused on entire home/apt and private room type which have the most demand. Furthermore, for strategic recommendations to compete with competitors, we still need further analysis especially on the correlation of price and facilities provided by listings properties that will make ours stands out and beneficial more.\n",
        "\n",
        "\n",
        "\n"
      ],
      "metadata": {
        "id": "CDYG9rPGtpHg"
      }
    }
  ]
}